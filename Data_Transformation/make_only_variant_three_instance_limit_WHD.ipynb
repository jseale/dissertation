{
 "cells": [
  {
   "cell_type": "markdown",
   "metadata": {},
   "source": [
    "# Description\n",
    "**Functionality**: \n",
    "\n",
    "**Use**: "
   ]
  },
  {
   "cell_type": "code",
   "execution_count": 1,
   "metadata": {},
   "outputs": [],
   "source": [
    "import os\n",
    "import shutil\n",
    "from glob import glob\n",
    "import pandas as pd\n",
    "from tqdm import tqdm"
   ]
  },
  {
   "cell_type": "code",
   "execution_count": 2,
   "metadata": {},
   "outputs": [],
   "source": [
    "#Paths \n",
    "WHD_DATA = \"C:/Users/jseal/Dev/dissertation/Data/WikipediaHomographData/data/\"\n",
    "TRAIN = WHD_DATA + \"train/\"\n",
    "EVAL = WHD_DATA + \"eval/\"\n",
    "\n",
    "WHD_DATA_VARIANT = \"C:/Users/jseal/Dev/dissertation/Data/WikipediaHomographData/data/variant_limit_data/\"\n",
    "TRAIN_VARIANT = WHD_DATA_VARIANT + \"train/\"\n",
    "EVAL_VARIANT = WHD_DATA_VARIANT + \"eval/\"\n",
    "\n",
    "pd.set_option('display.max_rows', None)"
   ]
  },
  {
   "cell_type": "markdown",
   "metadata": {},
   "source": [
    "### Script"
   ]
  },
  {
   "cell_type": "code",
   "execution_count": 3,
   "metadata": {},
   "outputs": [
    {
     "name": "stderr",
     "output_type": "stream",
     "text": [
      "100%|███████████████████████████████████████████████████████████████████████████████| 162/162 [00:00<00:00, 759.01it/s]\n",
      "100%|███████████████████████████████████████████████████████████████████████████████| 162/162 [00:00<00:00, 818.74it/s]\n"
     ]
    }
   ],
   "source": [
    "dfs = []\n",
    "\n",
    "for f in tqdm(glob(TRAIN +'*.tsv')):\n",
    "    df = pd.read_table(f)\n",
    "    dfs.append(df)\n",
    "\n",
    "train_df = pd.concat(dfs)\n",
    "to_remove = set()\n",
    "for idx, group in train_df.groupby('homograph'): \n",
    "    if group['wordid'].nunique() == 1: \n",
    "        to_remove.update(group['homograph'])\n",
    "\n",
    "dfs = []\n",
    "for f in tqdm(glob(EVAL +'*.tsv')):\n",
    "    df = pd.read_table(f)\n",
    "    dfs.append(df)        \n",
    "eval_df = pd.concat(dfs)\n",
    "\n",
    "all_df = pd.concat([train_df, eval_df])\n",
    "for idx, group in all_df.groupby('wordid'):\n",
    "    if len(group) < 3:\n",
    "        to_remove.update(group['homograph'])\n",
    "    "
   ]
  },
  {
   "cell_type": "code",
   "execution_count": 4,
   "metadata": {},
   "outputs": [
    {
     "data": {
      "text/plain": [
       "34"
      ]
     },
     "execution_count": 4,
     "metadata": {},
     "output_type": "execute_result"
    }
   ],
   "source": [
    "len(to_remove)"
   ]
  },
  {
   "cell_type": "code",
   "execution_count": 5,
   "metadata": {},
   "outputs": [
    {
     "data": {
      "text/plain": [
       "{'abstract',\n",
       " 'addict',\n",
       " 'appropriate',\n",
       " 'august',\n",
       " 'bologna',\n",
       " 'compact',\n",
       " 'conglomerate',\n",
       " 'console',\n",
       " 'consort',\n",
       " 'contract',\n",
       " 'contrast',\n",
       " 'desert',\n",
       " 'deviate',\n",
       " 'elaborate',\n",
       " 'entrance',\n",
       " 'expatriate',\n",
       " 'house',\n",
       " 'incense',\n",
       " 'instrument',\n",
       " 'interchange',\n",
       " 'intimate',\n",
       " 'jesus',\n",
       " 'job',\n",
       " 'mate',\n",
       " 'moderate',\n",
       " 'moped',\n",
       " 'mouth',\n",
       " 'object',\n",
       " 'pigment',\n",
       " 'predicate',\n",
       " 'project',\n",
       " 'ravel',\n",
       " 'row',\n",
       " 'subject'}"
      ]
     },
     "execution_count": 5,
     "metadata": {},
     "output_type": "execute_result"
    }
   ],
   "source": [
    "to_remove"
   ]
  },
  {
   "cell_type": "code",
   "execution_count": 6,
   "metadata": {},
   "outputs": [
    {
     "name": "stderr",
     "output_type": "stream",
     "text": [
      "100%|██████████████████████████████████████████████████████████████████████████████| 162/162 [00:00<00:00, 1474.37it/s]\n"
     ]
    }
   ],
   "source": [
    "for f in tqdm(glob(TRAIN +'*.tsv')):\n",
    "    f_name = os.path.basename(f)\n",
    "    if f_name[:-4] not in to_remove: \n",
    "        shutil.copy(f, TRAIN_VARIANT)"
   ]
  },
  {
   "cell_type": "code",
   "execution_count": 7,
   "metadata": {},
   "outputs": [
    {
     "name": "stderr",
     "output_type": "stream",
     "text": [
      "100%|██████████████████████████████████████████████████████████████████████████████| 162/162 [00:00<00:00, 1576.44it/s]\n"
     ]
    }
   ],
   "source": [
    "for f in tqdm(glob(EVAL +'*.tsv')):\n",
    "    f_name = os.path.basename(f)\n",
    "    if f_name[:-4] not in to_remove: \n",
    "        shutil.copy(f, EVAL_VARIANT)"
   ]
  },
  {
   "cell_type": "code",
   "execution_count": null,
   "metadata": {},
   "outputs": [],
   "source": []
  }
 ],
 "metadata": {
  "kernelspec": {
   "display_name": "dissertation_huggingface",
   "language": "python",
   "name": "dissertation_huggingface"
  },
  "language_info": {
   "codemirror_mode": {
    "name": "ipython",
    "version": 3
   },
   "file_extension": ".py",
   "mimetype": "text/x-python",
   "name": "python",
   "nbconvert_exporter": "python",
   "pygments_lexer": "ipython3",
   "version": "3.7.8"
  }
 },
 "nbformat": 4,
 "nbformat_minor": 4
}
