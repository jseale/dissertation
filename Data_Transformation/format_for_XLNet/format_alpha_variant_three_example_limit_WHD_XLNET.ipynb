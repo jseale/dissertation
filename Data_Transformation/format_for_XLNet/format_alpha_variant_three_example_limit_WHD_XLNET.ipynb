{
 "cells": [
  {
   "cell_type": "markdown",
   "metadata": {},
   "source": [
    "# Description\n",
    "**Functionality**: This module formats the three way split, stratified variant-only Wikipedia Homograph Data (WHD) augmented with SWBD data with at least one example for each homograph pronunciation in each split. Formats data for XLNet token classification using Huggingface tools. \n",
    "\n",
    "**Use**: The  token classification model finetuning functionality from Huggingface expects CoNLL03-formatted data. The output from this module will be used to finetune models in order to predict pronunciation labels on homographs."
   ]
  },
  {
   "cell_type": "markdown",
   "metadata": {},
   "source": [
    "### Imports"
   ]
  },
  {
   "cell_type": "code",
   "execution_count": 1,
   "metadata": {},
   "outputs": [],
   "source": [
    "import os\n",
    "from glob import iglob\n",
    "import pandas as pd\n",
    "from tqdm import tqdm\n",
    "from typing import List, Dict\n",
    "import spacy\n",
    "from transformers import AutoTokenizer"
   ]
  },
  {
   "cell_type": "markdown",
   "metadata": {},
   "source": [
    "### Variables"
   ]
  },
  {
   "cell_type": "code",
   "execution_count": 2,
   "metadata": {},
   "outputs": [],
   "source": [
    "#Paths \n",
    "BASE = \"C:/Users/jseal/Dev/dissertation/Data/\"\n",
    "WHD_DATA_BASE = BASE + \"WikipediaHomographData/data/\"\n",
    "METADATA = WHD_DATA_BASE + 'WikipediaHomographData.csv'\n",
    "WHD_DATA_IN = WHD_DATA_BASE + \"three_split_stratified_variant_data_corrected/\"\n",
    "WHD_DATA_OUT = BASE + \"WHD_XLNet/variant_stratified_swbd_aug/\"\n",
    "LABELS = WHD_DATA_OUT + \"labels.txt\"\n",
    "\n",
    "#Source paths\n",
    "TRAIN = WHD_DATA_IN + \"train_swbd_aug/\"\n",
    "DEV = WHD_DATA_IN + \"dev_swbd_aug/\"\n",
    "TEST = WHD_DATA_IN + \"test_swbd_aug/\"\n",
    "SOURCE_TSVS = [TRAIN, DEV, TEST]\n",
    "\n",
    "#Destination paths\n",
    "TRAIN_TSV = WHD_DATA_OUT + \"train_tsvs/\"\n",
    "DEV_TSV = WHD_DATA_OUT + \"dev_tsvs/\"\n",
    "TEST_TSV = WHD_DATA_OUT + \"test_tsvs/\"\n",
    "DESTINATION_TSVS = [TRAIN_TSV, DEV_TSV, TEST_TSV]\n",
    "\n",
    "SOURCE_DEST = zip(SOURCE_TSVS, DESTINATION_TSVS)\n",
    "\n",
    "#Tmp Train, val, test splits in one file each\n",
    "TRAIN_TMP = WHD_DATA_OUT + \"train.txt.tmp\"\n",
    "DEV_TMP = WHD_DATA_OUT + \"dev.txt.tmp\"\n",
    "TEST_TMP = WHD_DATA_OUT + \"test.txt.tmp\"\n",
    "TMPS = [TRAIN_TMP, DEV_TMP, TEST_TMP]\n",
    "\n",
    "TSVS_TMPS = zip(DESTINATION_TSVS, TMPS)\n",
    "\n",
    "#Train, val, test splits in one file each\n",
    "TRAIN_TXT = WHD_DATA_OUT + \"train.txt\"\n",
    "DEV_TXT = WHD_DATA_OUT + \"dev.txt\"\n",
    "TEST_TXT = WHD_DATA_OUT + \"test.txt\"\n",
    "DESTINATIONS = [TRAIN_TXT, DEV_TXT, TEST_TXT]\n",
    "\n",
    "TMPS_DESTS = zip(TMPS, DESTINATIONS)\n",
    "\n",
    "ALL_PATHS_NEW = [WHD_DATA_OUT, TRAIN, DEV, TEST,\n",
    "                 TRAIN_TSV, DEV_TSV, TEST_TSV]\n",
    "\n",
    "ALL_FILES_NEW = [TRAIN_TMP, DEV_TMP, TEST_TMP, TRAIN_TXT, DEV_TXT, TEST_TXT, LABELS]\n",
    "\n",
    "for path in ALL_PATHS_NEW: \n",
    "    if not os.path.exists(path): \n",
    "        os.mkdir(path)\n",
    "for file in ALL_FILES_NEW : \n",
    "    with open(file, 'w') as f: \n",
    "        pass\n",
    "\n",
    "#Tools\n",
    "nlp = spacy.load('en_core_web_sm')\n",
    "\n",
    "#Label variables\n",
    "OUTSIDE = \"O\" #Label for all words that are not a homograph\n",
    "\n",
    "#Options\n",
    "pd.set_option('display.max_rows', None)\n",
    "\n",
    "#Model info\n",
    "MODEL_NAME = \"xlnet-base-cased\"\n"
   ]
  },
  {
   "cell_type": "code",
   "execution_count": 3,
   "metadata": {},
   "outputs": [
    {
     "name": "stdout",
     "output_type": "stream",
     "text": [
      "What\n",
      "now\n"
     ]
    }
   ],
   "source": [
    "sent_nlp =  nlp(\"What : , - _ now ''.\", disable=['parser', 'tagger', 'ner'])\n",
    "for token in sent_nlp: \n",
    "    if token.is_alpha: \n",
    "        print(token)"
   ]
  },
  {
   "cell_type": "markdown",
   "metadata": {},
   "source": [
    "### Functions"
   ]
  },
  {
   "cell_type": "code",
   "execution_count": 4,
   "metadata": {},
   "outputs": [],
   "source": [
    "def get_tokens(sentence : str) -> List:\n",
    "    sent_nlp =  nlp(sentence, disable=['parser', 'tagger', 'ner'])\n",
    "    tokens = [token.text for token in sent_nlp if token.is_alpha]\n",
    "    return tokens\n",
    "\n",
    "def make_str(label : List) -> str: \n",
    "    return ' '.join(label)\n",
    "\n",
    "def make_tsvs() -> None: \n",
    "    for PATHS in SOURCE_DEST: # Do this for train, test, valid\n",
    "        for source in tqdm(iglob(PATHS[0] +'*.tsv')):\n",
    "            print(PATHS[0])\n",
    "            print(source)\n",
    "            source_name = os.path.basename(source)\n",
    "            df = pd.read_table(source)\n",
    "            df = df[['homograph', 'wordid', 'sentence']]\n",
    "            df['token'] = df.sentence.apply(lambda sentence : get_tokens(sentence))\n",
    "            df = df.explode('token') # Get one row per token \n",
    "            for index, group in df.groupby(df.index):# Create one tsv per sentence; one line per token, label pair\n",
    "                sentence_dicts = []\n",
    "                for idx, row in group.iterrows():\n",
    "                    sentence_dict = {}\n",
    "                    token = row['token']\n",
    "                    homograph = row['homograph']\n",
    "                    sentence_dict['sent_id'] = \"{}_{}\".format(homograph, index)\n",
    "                    sentence_dict['token'] = token\n",
    "                    if token.lower() == homograph: # If the lowercase token is the same as the homograph, label with the wordid\n",
    "                        sentence_dict['label'] = [row['wordid']]\n",
    "                    else: \n",
    "                        sentence_dict['label'] = [OUTSIDE] # If the token is not the homograph, label with 'O' for 'outside'\n",
    "                    sentence_dicts.append(sentence_dict)\n",
    "                df = pd.DataFrame(sentence_dicts)\n",
    "                df['label'] = df['label'].apply(make_str)\n",
    "                new_f_name = PATHS[1] + source_name[:-4] + \"_\" + str(index) + '.txt'# Name file with homograph and sentence number\n",
    "                df.to_csv(new_f_name, sep=\"\\t\", header=False, index=False) \n",
    "    \n",
    "def make_tmps() -> None: \n",
    "    # Write temporary train, val, and test txt files from tsvs\n",
    "    for tsv_dir, tmp in TSVS_TMPS:\n",
    "        with open(tmp, 'w', encoding=\"utf8\") as f_out: \n",
    "            for f in iglob(tsv_dir + \"*\"):\n",
    "                with open(f, encoding=\"utf8\") as example:\n",
    "                    lines = example.readlines()\n",
    "                    for line in lines: \n",
    "                        line_list = line.split('\\t')\n",
    "                        f_out.write(line_list[1] + '\\t' + line_list[2])\n",
    "                f_out.write('\\n')    \n",
    "                    \n",
    "def make_txts() -> None:\n",
    "    MAX_LENGTH = 128\n",
    "    #Write train, val, and test txt files\n",
    "    subword_len_counter = 0\n",
    "    tokenizer = AutoTokenizer.from_pretrained(MODEL_NAME)\n",
    "    MAX_LENGTH -= tokenizer.num_special_tokens_to_add()\n",
    "\n",
    "    for tmp, outfile in tqdm(TMPS_DESTS):\n",
    "        with open(tmp, \"r\", encoding=\"utf8\") as f_p:\n",
    "            with open(outfile, \"w\", encoding=\"utf8\") as out_f: \n",
    "                for line in f_p:\n",
    "                    line = line.rstrip()\n",
    "\n",
    "                    if not line:\n",
    "                        out_f.write(line +\"\\n\")\n",
    "                        subword_len_counter = 0\n",
    "                        continue\n",
    "\n",
    "                    token = line.split()[0]\n",
    "\n",
    "                    current_subwords_len = len(tokenizer.tokenize(token))\n",
    "\n",
    "                    # If token contains strange control characters like \\x96 or \\x95\n",
    "                    # filter out the line\n",
    "                    if current_subwords_len == 0:\n",
    "                        continue\n",
    "\n",
    "                    if (subword_len_counter + current_subwords_len) > MAX_LENGTH:\n",
    "                        out_f.write(\"\\n\")\n",
    "                        out_f.write(line +\"\\n\")\n",
    "                        subword_len_counter = current_subwords_len\n",
    "                        continue\n",
    "\n",
    "                    subword_len_counter += current_subwords_len\n",
    "\n",
    "                    out_f.write(line + \"\\n\")\n",
    "                    \n",
    "def make_labels() -> None: \n",
    "    sources = []\n",
    "    for source_path in SOURCE_TSVS: \n",
    "        for source in iglob(source_path + \"/*\"):\n",
    "            sources.append(pd.read_csv(source, sep='\\t'))\n",
    "    sources_df = pd.concat(sources)\n",
    "    word_ids_unique = sources_df.wordid.unique()\n",
    "    \n",
    "    metadata_df = pd.read_csv(METADATA)\n",
    "    wordids = metadata_df.wordid.tolist()\n",
    "    with open(LABELS, 'w') as f:\n",
    "        for wordid in wordids:\n",
    "            if wordid in word_ids_unique:\n",
    "                f.write(\"{}\\n\".format(wordid))\n",
    "        f.write(\"{}\\n\".format('O'))"
   ]
  },
  {
   "cell_type": "markdown",
   "metadata": {},
   "source": [
    "# Script"
   ]
  },
  {
   "cell_type": "code",
   "execution_count": 5,
   "metadata": {},
   "outputs": [
    {
     "name": "stderr",
     "output_type": "stream",
     "text": [
      "\r",
      "0it [00:00, ?it/s]"
     ]
    },
    {
     "name": "stdout",
     "output_type": "stream",
     "text": [
      "C:/Users/jseal/Dev/dissertation/Data/WikipediaHomographData/data/three_split_stratified_variant_data_corrected/train_swbd_aug/\n",
      "C:/Users/jseal/Dev/dissertation/Data/WikipediaHomographData/data/three_split_stratified_variant_data_corrected/train_swbd_aug\\abuse.tsv\n"
     ]
    },
    {
     "name": "stderr",
     "output_type": "stream",
     "text": [
      "\r",
      "1it [00:00,  3.64it/s]"
     ]
    },
    {
     "name": "stdout",
     "output_type": "stream",
     "text": [
      "C:/Users/jseal/Dev/dissertation/Data/WikipediaHomographData/data/three_split_stratified_variant_data_corrected/train_swbd_aug/\n",
      "C:/Users/jseal/Dev/dissertation/Data/WikipediaHomographData/data/three_split_stratified_variant_data_corrected/train_swbd_aug\\abuses.tsv\n"
     ]
    },
    {
     "name": "stderr",
     "output_type": "stream",
     "text": [
      "\r",
      "2it [00:00,  3.57it/s]"
     ]
    },
    {
     "name": "stdout",
     "output_type": "stream",
     "text": [
      "C:/Users/jseal/Dev/dissertation/Data/WikipediaHomographData/data/three_split_stratified_variant_data_corrected/train_swbd_aug/\n",
      "C:/Users/jseal/Dev/dissertation/Data/WikipediaHomographData/data/three_split_stratified_variant_data_corrected/train_swbd_aug\\advocate.tsv\n"
     ]
    },
    {
     "name": "stderr",
     "output_type": "stream",
     "text": [
      "\r",
      "3it [00:00,  3.56it/s]"
     ]
    },
    {
     "name": "stdout",
     "output_type": "stream",
     "text": [
      "C:/Users/jseal/Dev/dissertation/Data/WikipediaHomographData/data/three_split_stratified_variant_data_corrected/train_swbd_aug/\n",
      "C:/Users/jseal/Dev/dissertation/Data/WikipediaHomographData/data/three_split_stratified_variant_data_corrected/train_swbd_aug\\affect.tsv\n"
     ]
    },
    {
     "name": "stderr",
     "output_type": "stream",
     "text": [
      "\r",
      "4it [00:01,  3.54it/s]"
     ]
    },
    {
     "name": "stdout",
     "output_type": "stream",
     "text": [
      "C:/Users/jseal/Dev/dissertation/Data/WikipediaHomographData/data/three_split_stratified_variant_data_corrected/train_swbd_aug/\n",
      "C:/Users/jseal/Dev/dissertation/Data/WikipediaHomographData/data/three_split_stratified_variant_data_corrected/train_swbd_aug\\affiliate.tsv\n"
     ]
    },
    {
     "name": "stderr",
     "output_type": "stream",
     "text": [
      "\r",
      "5it [00:01,  3.56it/s]"
     ]
    },
    {
     "name": "stdout",
     "output_type": "stream",
     "text": [
      "C:/Users/jseal/Dev/dissertation/Data/WikipediaHomographData/data/three_split_stratified_variant_data_corrected/train_swbd_aug/\n",
      "C:/Users/jseal/Dev/dissertation/Data/WikipediaHomographData/data/three_split_stratified_variant_data_corrected/train_swbd_aug\\aged.tsv\n"
     ]
    },
    {
     "name": "stderr",
     "output_type": "stream",
     "text": [
      "\r",
      "6it [00:01,  3.69it/s]"
     ]
    },
    {
     "name": "stdout",
     "output_type": "stream",
     "text": [
      "C:/Users/jseal/Dev/dissertation/Data/WikipediaHomographData/data/three_split_stratified_variant_data_corrected/train_swbd_aug/\n",
      "C:/Users/jseal/Dev/dissertation/Data/WikipediaHomographData/data/three_split_stratified_variant_data_corrected/train_swbd_aug\\aggregate.tsv\n"
     ]
    },
    {
     "name": "stderr",
     "output_type": "stream",
     "text": [
      "\r",
      "7it [00:01,  3.73it/s]"
     ]
    },
    {
     "name": "stdout",
     "output_type": "stream",
     "text": [
      "C:/Users/jseal/Dev/dissertation/Data/WikipediaHomographData/data/three_split_stratified_variant_data_corrected/train_swbd_aug/\n",
      "C:/Users/jseal/Dev/dissertation/Data/WikipediaHomographData/data/three_split_stratified_variant_data_corrected/train_swbd_aug\\alternate.tsv\n"
     ]
    },
    {
     "name": "stderr",
     "output_type": "stream",
     "text": [
      "\r",
      "8it [00:02,  3.71it/s]"
     ]
    },
    {
     "name": "stdout",
     "output_type": "stream",
     "text": [
      "C:/Users/jseal/Dev/dissertation/Data/WikipediaHomographData/data/three_split_stratified_variant_data_corrected/train_swbd_aug/\n",
      "C:/Users/jseal/Dev/dissertation/Data/WikipediaHomographData/data/three_split_stratified_variant_data_corrected/train_swbd_aug\\analyses.tsv\n"
     ]
    },
    {
     "name": "stderr",
     "output_type": "stream",
     "text": [
      "\r",
      "9it [00:02,  3.68it/s]"
     ]
    },
    {
     "name": "stdout",
     "output_type": "stream",
     "text": [
      "C:/Users/jseal/Dev/dissertation/Data/WikipediaHomographData/data/three_split_stratified_variant_data_corrected/train_swbd_aug/\n",
      "C:/Users/jseal/Dev/dissertation/Data/WikipediaHomographData/data/three_split_stratified_variant_data_corrected/train_swbd_aug\\animate.tsv\n"
     ]
    },
    {
     "name": "stderr",
     "output_type": "stream",
     "text": [
      "\r",
      "10it [00:02,  3.74it/s]"
     ]
    },
    {
     "name": "stdout",
     "output_type": "stream",
     "text": [
      "C:/Users/jseal/Dev/dissertation/Data/WikipediaHomographData/data/three_split_stratified_variant_data_corrected/train_swbd_aug/\n",
      "C:/Users/jseal/Dev/dissertation/Data/WikipediaHomographData/data/three_split_stratified_variant_data_corrected/train_swbd_aug\\approximate.tsv\n"
     ]
    },
    {
     "name": "stderr",
     "output_type": "stream",
     "text": [
      "\r",
      "11it [00:03,  3.66it/s]"
     ]
    },
    {
     "name": "stdout",
     "output_type": "stream",
     "text": [
      "C:/Users/jseal/Dev/dissertation/Data/WikipediaHomographData/data/three_split_stratified_variant_data_corrected/train_swbd_aug/\n",
      "C:/Users/jseal/Dev/dissertation/Data/WikipediaHomographData/data/three_split_stratified_variant_data_corrected/train_swbd_aug\\articulate.tsv\n"
     ]
    },
    {
     "name": "stderr",
     "output_type": "stream",
     "text": [
      "\r",
      "12it [00:03,  3.65it/s]"
     ]
    },
    {
     "name": "stdout",
     "output_type": "stream",
     "text": [
      "C:/Users/jseal/Dev/dissertation/Data/WikipediaHomographData/data/three_split_stratified_variant_data_corrected/train_swbd_aug/\n",
      "C:/Users/jseal/Dev/dissertation/Data/WikipediaHomographData/data/three_split_stratified_variant_data_corrected/train_swbd_aug\\associate.tsv\n"
     ]
    },
    {
     "name": "stderr",
     "output_type": "stream",
     "text": [
      "\r",
      "13it [00:03,  3.67it/s]"
     ]
    },
    {
     "name": "stdout",
     "output_type": "stream",
     "text": [
      "C:/Users/jseal/Dev/dissertation/Data/WikipediaHomographData/data/three_split_stratified_variant_data_corrected/train_swbd_aug/\n",
      "C:/Users/jseal/Dev/dissertation/Data/WikipediaHomographData/data/three_split_stratified_variant_data_corrected/train_swbd_aug\\attribute.tsv\n"
     ]
    },
    {
     "name": "stderr",
     "output_type": "stream",
     "text": [
      "\r",
      "14it [00:03,  3.65it/s]"
     ]
    },
    {
     "name": "stdout",
     "output_type": "stream",
     "text": [
      "C:/Users/jseal/Dev/dissertation/Data/WikipediaHomographData/data/three_split_stratified_variant_data_corrected/train_swbd_aug/\n",
      "C:/Users/jseal/Dev/dissertation/Data/WikipediaHomographData/data/three_split_stratified_variant_data_corrected/train_swbd_aug\\axes.tsv\n"
     ]
    },
    {
     "name": "stderr",
     "output_type": "stream",
     "text": [
      "\r",
      "15it [00:04,  3.63it/s]"
     ]
    },
    {
     "name": "stdout",
     "output_type": "stream",
     "text": [
      "C:/Users/jseal/Dev/dissertation/Data/WikipediaHomographData/data/three_split_stratified_variant_data_corrected/train_swbd_aug/\n",
      "C:/Users/jseal/Dev/dissertation/Data/WikipediaHomographData/data/three_split_stratified_variant_data_corrected/train_swbd_aug\\bass.tsv\n"
     ]
    },
    {
     "name": "stderr",
     "output_type": "stream",
     "text": [
      "\r",
      "16it [00:04,  3.69it/s]"
     ]
    },
    {
     "name": "stdout",
     "output_type": "stream",
     "text": [
      "C:/Users/jseal/Dev/dissertation/Data/WikipediaHomographData/data/three_split_stratified_variant_data_corrected/train_swbd_aug/\n",
      "C:/Users/jseal/Dev/dissertation/Data/WikipediaHomographData/data/three_split_stratified_variant_data_corrected/train_swbd_aug\\blessed.tsv\n"
     ]
    },
    {
     "name": "stderr",
     "output_type": "stream",
     "text": [
      "\r",
      "17it [00:04,  3.74it/s]"
     ]
    },
    {
     "name": "stdout",
     "output_type": "stream",
     "text": [
      "C:/Users/jseal/Dev/dissertation/Data/WikipediaHomographData/data/three_split_stratified_variant_data_corrected/train_swbd_aug/\n",
      "C:/Users/jseal/Dev/dissertation/Data/WikipediaHomographData/data/three_split_stratified_variant_data_corrected/train_swbd_aug\\bow.tsv\n"
     ]
    },
    {
     "name": "stderr",
     "output_type": "stream",
     "text": [
      "\r",
      "18it [00:04,  3.66it/s]"
     ]
    },
    {
     "name": "stdout",
     "output_type": "stream",
     "text": [
      "C:/Users/jseal/Dev/dissertation/Data/WikipediaHomographData/data/three_split_stratified_variant_data_corrected/train_swbd_aug/\n",
      "C:/Users/jseal/Dev/dissertation/Data/WikipediaHomographData/data/three_split_stratified_variant_data_corrected/train_swbd_aug\\buffet.tsv\n"
     ]
    },
    {
     "name": "stderr",
     "output_type": "stream",
     "text": [
      "\r",
      "19it [00:05,  3.70it/s]"
     ]
    },
    {
     "name": "stdout",
     "output_type": "stream",
     "text": [
      "C:/Users/jseal/Dev/dissertation/Data/WikipediaHomographData/data/three_split_stratified_variant_data_corrected/train_swbd_aug/\n",
      "C:/Users/jseal/Dev/dissertation/Data/WikipediaHomographData/data/three_split_stratified_variant_data_corrected/train_swbd_aug\\celtic.tsv\n"
     ]
    },
    {
     "name": "stderr",
     "output_type": "stream",
     "text": [
      "\r",
      "20it [00:05,  3.70it/s]"
     ]
    },
    {
     "name": "stdout",
     "output_type": "stream",
     "text": [
      "C:/Users/jseal/Dev/dissertation/Data/WikipediaHomographData/data/three_split_stratified_variant_data_corrected/train_swbd_aug/\n",
      "C:/Users/jseal/Dev/dissertation/Data/WikipediaHomographData/data/three_split_stratified_variant_data_corrected/train_swbd_aug\\close.tsv\n"
     ]
    },
    {
     "name": "stderr",
     "output_type": "stream",
     "text": [
      "\r",
      "21it [00:05,  3.76it/s]"
     ]
    },
    {
     "name": "stdout",
     "output_type": "stream",
     "text": [
      "C:/Users/jseal/Dev/dissertation/Data/WikipediaHomographData/data/three_split_stratified_variant_data_corrected/train_swbd_aug/\n",
      "C:/Users/jseal/Dev/dissertation/Data/WikipediaHomographData/data/three_split_stratified_variant_data_corrected/train_swbd_aug\\combine.tsv\n"
     ]
    },
    {
     "name": "stderr",
     "output_type": "stream",
     "text": [
      "\r",
      "22it [00:06,  3.67it/s]"
     ]
    },
    {
     "name": "stdout",
     "output_type": "stream",
     "text": [
      "C:/Users/jseal/Dev/dissertation/Data/WikipediaHomographData/data/three_split_stratified_variant_data_corrected/train_swbd_aug/\n",
      "C:/Users/jseal/Dev/dissertation/Data/WikipediaHomographData/data/three_split_stratified_variant_data_corrected/train_swbd_aug\\compound.tsv\n"
     ]
    },
    {
     "name": "stderr",
     "output_type": "stream",
     "text": [
      "\r",
      "23it [00:06,  3.72it/s]"
     ]
    },
    {
     "name": "stdout",
     "output_type": "stream",
     "text": [
      "C:/Users/jseal/Dev/dissertation/Data/WikipediaHomographData/data/three_split_stratified_variant_data_corrected/train_swbd_aug/\n",
      "C:/Users/jseal/Dev/dissertation/Data/WikipediaHomographData/data/three_split_stratified_variant_data_corrected/train_swbd_aug\\compress.tsv\n"
     ]
    },
    {
     "name": "stderr",
     "output_type": "stream",
     "text": [
      "\r",
      "24it [00:06,  3.76it/s]"
     ]
    },
    {
     "name": "stdout",
     "output_type": "stream",
     "text": [
      "C:/Users/jseal/Dev/dissertation/Data/WikipediaHomographData/data/three_split_stratified_variant_data_corrected/train_swbd_aug/\n",
      "C:/Users/jseal/Dev/dissertation/Data/WikipediaHomographData/data/three_split_stratified_variant_data_corrected/train_swbd_aug\\conduct.tsv\n"
     ]
    },
    {
     "name": "stderr",
     "output_type": "stream",
     "text": [
      "\r",
      "25it [00:06,  3.71it/s]"
     ]
    },
    {
     "name": "stdout",
     "output_type": "stream",
     "text": [
      "C:/Users/jseal/Dev/dissertation/Data/WikipediaHomographData/data/three_split_stratified_variant_data_corrected/train_swbd_aug/\n",
      "C:/Users/jseal/Dev/dissertation/Data/WikipediaHomographData/data/three_split_stratified_variant_data_corrected/train_swbd_aug\\confines.tsv\n"
     ]
    },
    {
     "name": "stderr",
     "output_type": "stream",
     "text": [
      "\r",
      "26it [00:07,  3.67it/s]"
     ]
    },
    {
     "name": "stdout",
     "output_type": "stream",
     "text": [
      "C:/Users/jseal/Dev/dissertation/Data/WikipediaHomographData/data/three_split_stratified_variant_data_corrected/train_swbd_aug/\n",
      "C:/Users/jseal/Dev/dissertation/Data/WikipediaHomographData/data/three_split_stratified_variant_data_corrected/train_swbd_aug\\conflict.tsv\n"
     ]
    },
    {
     "name": "stderr",
     "output_type": "stream",
     "text": [
      "\r",
      "27it [00:07,  3.68it/s]"
     ]
    },
    {
     "name": "stdout",
     "output_type": "stream",
     "text": [
      "C:/Users/jseal/Dev/dissertation/Data/WikipediaHomographData/data/three_split_stratified_variant_data_corrected/train_swbd_aug/\n",
      "C:/Users/jseal/Dev/dissertation/Data/WikipediaHomographData/data/three_split_stratified_variant_data_corrected/train_swbd_aug\\conjugate.tsv\n"
     ]
    },
    {
     "name": "stderr",
     "output_type": "stream",
     "text": [
      "\r",
      "28it [00:07,  3.72it/s]"
     ]
    },
    {
     "name": "stdout",
     "output_type": "stream",
     "text": [
      "C:/Users/jseal/Dev/dissertation/Data/WikipediaHomographData/data/three_split_stratified_variant_data_corrected/train_swbd_aug/\n",
      "C:/Users/jseal/Dev/dissertation/Data/WikipediaHomographData/data/three_split_stratified_variant_data_corrected/train_swbd_aug\\conscript.tsv\n"
     ]
    },
    {
     "name": "stderr",
     "output_type": "stream",
     "text": [
      "\r",
      "29it [00:07,  3.72it/s]"
     ]
    },
    {
     "name": "stdout",
     "output_type": "stream",
     "text": [
      "C:/Users/jseal/Dev/dissertation/Data/WikipediaHomographData/data/three_split_stratified_variant_data_corrected/train_swbd_aug/\n",
      "C:/Users/jseal/Dev/dissertation/Data/WikipediaHomographData/data/three_split_stratified_variant_data_corrected/train_swbd_aug\\construct.tsv\n"
     ]
    },
    {
     "name": "stderr",
     "output_type": "stream",
     "text": [
      "\r",
      "30it [00:08,  3.74it/s]"
     ]
    },
    {
     "name": "stdout",
     "output_type": "stream",
     "text": [
      "C:/Users/jseal/Dev/dissertation/Data/WikipediaHomographData/data/three_split_stratified_variant_data_corrected/train_swbd_aug/\n",
      "C:/Users/jseal/Dev/dissertation/Data/WikipediaHomographData/data/three_split_stratified_variant_data_corrected/train_swbd_aug\\consummate.tsv\n"
     ]
    },
    {
     "name": "stderr",
     "output_type": "stream",
     "text": [
      "\r",
      "31it [00:08,  3.69it/s]"
     ]
    },
    {
     "name": "stdout",
     "output_type": "stream",
     "text": [
      "C:/Users/jseal/Dev/dissertation/Data/WikipediaHomographData/data/three_split_stratified_variant_data_corrected/train_swbd_aug/\n",
      "C:/Users/jseal/Dev/dissertation/Data/WikipediaHomographData/data/three_split_stratified_variant_data_corrected/train_swbd_aug\\content.tsv\n"
     ]
    },
    {
     "name": "stderr",
     "output_type": "stream",
     "text": [
      "\r",
      "32it [00:08,  3.66it/s]"
     ]
    },
    {
     "name": "stdout",
     "output_type": "stream",
     "text": [
      "C:/Users/jseal/Dev/dissertation/Data/WikipediaHomographData/data/three_split_stratified_variant_data_corrected/train_swbd_aug/\n",
      "C:/Users/jseal/Dev/dissertation/Data/WikipediaHomographData/data/three_split_stratified_variant_data_corrected/train_swbd_aug\\contest.tsv\n"
     ]
    },
    {
     "name": "stderr",
     "output_type": "stream",
     "text": [
      "\r",
      "33it [00:08,  3.68it/s]"
     ]
    },
    {
     "name": "stdout",
     "output_type": "stream",
     "text": [
      "C:/Users/jseal/Dev/dissertation/Data/WikipediaHomographData/data/three_split_stratified_variant_data_corrected/train_swbd_aug/\n",
      "C:/Users/jseal/Dev/dissertation/Data/WikipediaHomographData/data/three_split_stratified_variant_data_corrected/train_swbd_aug\\converse.tsv\n"
     ]
    },
    {
     "name": "stderr",
     "output_type": "stream",
     "text": [
      "\r",
      "34it [00:09,  3.71it/s]"
     ]
    },
    {
     "name": "stdout",
     "output_type": "stream",
     "text": [
      "C:/Users/jseal/Dev/dissertation/Data/WikipediaHomographData/data/three_split_stratified_variant_data_corrected/train_swbd_aug/\n",
      "C:/Users/jseal/Dev/dissertation/Data/WikipediaHomographData/data/three_split_stratified_variant_data_corrected/train_swbd_aug\\convert.tsv\n"
     ]
    },
    {
     "name": "stderr",
     "output_type": "stream",
     "text": [
      "\r",
      "35it [00:09,  3.64it/s]"
     ]
    },
    {
     "name": "stdout",
     "output_type": "stream",
     "text": [
      "C:/Users/jseal/Dev/dissertation/Data/WikipediaHomographData/data/three_split_stratified_variant_data_corrected/train_swbd_aug/\n",
      "C:/Users/jseal/Dev/dissertation/Data/WikipediaHomographData/data/three_split_stratified_variant_data_corrected/train_swbd_aug\\convict.tsv\n"
     ]
    },
    {
     "name": "stderr",
     "output_type": "stream",
     "text": [
      "\r",
      "36it [00:09,  3.66it/s]"
     ]
    },
    {
     "name": "stdout",
     "output_type": "stream",
     "text": [
      "C:/Users/jseal/Dev/dissertation/Data/WikipediaHomographData/data/three_split_stratified_variant_data_corrected/train_swbd_aug/\n",
      "C:/Users/jseal/Dev/dissertation/Data/WikipediaHomographData/data/three_split_stratified_variant_data_corrected/train_swbd_aug\\coordinate.tsv\n"
     ]
    },
    {
     "name": "stderr",
     "output_type": "stream",
     "text": [
      "\r",
      "37it [00:10,  3.57it/s]"
     ]
    },
    {
     "name": "stdout",
     "output_type": "stream",
     "text": [
      "C:/Users/jseal/Dev/dissertation/Data/WikipediaHomographData/data/three_split_stratified_variant_data_corrected/train_swbd_aug/\n",
      "C:/Users/jseal/Dev/dissertation/Data/WikipediaHomographData/data/three_split_stratified_variant_data_corrected/train_swbd_aug\\correlate.tsv\n"
     ]
    },
    {
     "name": "stderr",
     "output_type": "stream",
     "text": [
      "\r",
      "38it [00:10,  3.61it/s]"
     ]
    },
    {
     "name": "stdout",
     "output_type": "stream",
     "text": [
      "C:/Users/jseal/Dev/dissertation/Data/WikipediaHomographData/data/three_split_stratified_variant_data_corrected/train_swbd_aug/\n",
      "C:/Users/jseal/Dev/dissertation/Data/WikipediaHomographData/data/three_split_stratified_variant_data_corrected/train_swbd_aug\\decrease.tsv\n"
     ]
    },
    {
     "name": "stderr",
     "output_type": "stream",
     "text": [
      "\r",
      "39it [00:10,  3.66it/s]"
     ]
    },
    {
     "name": "stdout",
     "output_type": "stream",
     "text": [
      "C:/Users/jseal/Dev/dissertation/Data/WikipediaHomographData/data/three_split_stratified_variant_data_corrected/train_swbd_aug/\n",
      "C:/Users/jseal/Dev/dissertation/Data/WikipediaHomographData/data/three_split_stratified_variant_data_corrected/train_swbd_aug\\defect.tsv\n"
     ]
    },
    {
     "name": "stderr",
     "output_type": "stream",
     "text": [
      "\r",
      "40it [00:10,  3.68it/s]"
     ]
    },
    {
     "name": "stdout",
     "output_type": "stream",
     "text": [
      "C:/Users/jseal/Dev/dissertation/Data/WikipediaHomographData/data/three_split_stratified_variant_data_corrected/train_swbd_aug/\n",
      "C:/Users/jseal/Dev/dissertation/Data/WikipediaHomographData/data/three_split_stratified_variant_data_corrected/train_swbd_aug\\degenerate.tsv\n"
     ]
    },
    {
     "name": "stderr",
     "output_type": "stream",
     "text": [
      "\r",
      "41it [00:11,  3.64it/s]"
     ]
    },
    {
     "name": "stdout",
     "output_type": "stream",
     "text": [
      "C:/Users/jseal/Dev/dissertation/Data/WikipediaHomographData/data/three_split_stratified_variant_data_corrected/train_swbd_aug/\n",
      "C:/Users/jseal/Dev/dissertation/Data/WikipediaHomographData/data/three_split_stratified_variant_data_corrected/train_swbd_aug\\delegate.tsv\n"
     ]
    },
    {
     "name": "stderr",
     "output_type": "stream",
     "text": [
      "\r",
      "42it [00:11,  3.67it/s]"
     ]
    },
    {
     "name": "stdout",
     "output_type": "stream",
     "text": [
      "C:/Users/jseal/Dev/dissertation/Data/WikipediaHomographData/data/three_split_stratified_variant_data_corrected/train_swbd_aug/\n",
      "C:/Users/jseal/Dev/dissertation/Data/WikipediaHomographData/data/three_split_stratified_variant_data_corrected/train_swbd_aug\\deliberate.tsv\n"
     ]
    },
    {
     "name": "stderr",
     "output_type": "stream",
     "text": [
      "\r",
      "43it [00:11,  3.71it/s]"
     ]
    },
    {
     "name": "stdout",
     "output_type": "stream",
     "text": [
      "C:/Users/jseal/Dev/dissertation/Data/WikipediaHomographData/data/three_split_stratified_variant_data_corrected/train_swbd_aug/\n",
      "C:/Users/jseal/Dev/dissertation/Data/WikipediaHomographData/data/three_split_stratified_variant_data_corrected/train_swbd_aug\\diagnoses.tsv\n"
     ]
    },
    {
     "name": "stderr",
     "output_type": "stream",
     "text": [
      "\r",
      "44it [00:11,  3.68it/s]"
     ]
    },
    {
     "name": "stdout",
     "output_type": "stream",
     "text": [
      "C:/Users/jseal/Dev/dissertation/Data/WikipediaHomographData/data/three_split_stratified_variant_data_corrected/train_swbd_aug/\n",
      "C:/Users/jseal/Dev/dissertation/Data/WikipediaHomographData/data/three_split_stratified_variant_data_corrected/train_swbd_aug\\diffuse.tsv\n"
     ]
    },
    {
     "name": "stderr",
     "output_type": "stream",
     "text": [
      "\r",
      "45it [00:12,  3.65it/s]"
     ]
    },
    {
     "name": "stdout",
     "output_type": "stream",
     "text": [
      "C:/Users/jseal/Dev/dissertation/Data/WikipediaHomographData/data/three_split_stratified_variant_data_corrected/train_swbd_aug/\n",
      "C:/Users/jseal/Dev/dissertation/Data/WikipediaHomographData/data/three_split_stratified_variant_data_corrected/train_swbd_aug\\discard.tsv\n"
     ]
    },
    {
     "name": "stderr",
     "output_type": "stream",
     "text": [
      "\r",
      "46it [00:12,  3.68it/s]"
     ]
    },
    {
     "name": "stdout",
     "output_type": "stream",
     "text": [
      "C:/Users/jseal/Dev/dissertation/Data/WikipediaHomographData/data/three_split_stratified_variant_data_corrected/train_swbd_aug/\n",
      "C:/Users/jseal/Dev/dissertation/Data/WikipediaHomographData/data/three_split_stratified_variant_data_corrected/train_swbd_aug\\discharge.tsv\n"
     ]
    },
    {
     "name": "stderr",
     "output_type": "stream",
     "text": [
      "\r",
      "47it [00:12,  3.68it/s]"
     ]
    },
    {
     "name": "stdout",
     "output_type": "stream",
     "text": [
      "C:/Users/jseal/Dev/dissertation/Data/WikipediaHomographData/data/three_split_stratified_variant_data_corrected/train_swbd_aug/\n",
      "C:/Users/jseal/Dev/dissertation/Data/WikipediaHomographData/data/three_split_stratified_variant_data_corrected/train_swbd_aug\\discount.tsv\n"
     ]
    },
    {
     "name": "stderr",
     "output_type": "stream",
     "text": [
      "\r",
      "48it [00:13,  3.69it/s]"
     ]
    },
    {
     "name": "stdout",
     "output_type": "stream",
     "text": [
      "C:/Users/jseal/Dev/dissertation/Data/WikipediaHomographData/data/three_split_stratified_variant_data_corrected/train_swbd_aug/\n",
      "C:/Users/jseal/Dev/dissertation/Data/WikipediaHomographData/data/three_split_stratified_variant_data_corrected/train_swbd_aug\\document.tsv\n"
     ]
    },
    {
     "name": "stderr",
     "output_type": "stream",
     "text": [
      "50it [00:13,  4.01it/s]"
     ]
    },
    {
     "name": "stdout",
     "output_type": "stream",
     "text": [
      "C:/Users/jseal/Dev/dissertation/Data/WikipediaHomographData/data/three_split_stratified_variant_data_corrected/train_swbd_aug/\n",
      "C:/Users/jseal/Dev/dissertation/Data/WikipediaHomographData/data/three_split_stratified_variant_data_corrected/train_swbd_aug\\dove.tsv\n",
      "C:/Users/jseal/Dev/dissertation/Data/WikipediaHomographData/data/three_split_stratified_variant_data_corrected/train_swbd_aug/\n",
      "C:/Users/jseal/Dev/dissertation/Data/WikipediaHomographData/data/three_split_stratified_variant_data_corrected/train_swbd_aug\\duplicate.tsv\n"
     ]
    },
    {
     "name": "stderr",
     "output_type": "stream",
     "text": [
      "\r",
      "51it [00:13,  3.70it/s]"
     ]
    },
    {
     "name": "stdout",
     "output_type": "stream",
     "text": [
      "C:/Users/jseal/Dev/dissertation/Data/WikipediaHomographData/data/three_split_stratified_variant_data_corrected/train_swbd_aug/\n",
      "C:/Users/jseal/Dev/dissertation/Data/WikipediaHomographData/data/three_split_stratified_variant_data_corrected/train_swbd_aug\\escort.tsv\n"
     ]
    },
    {
     "name": "stderr",
     "output_type": "stream",
     "text": [
      "\r",
      "52it [00:14,  3.63it/s]"
     ]
    },
    {
     "name": "stdout",
     "output_type": "stream",
     "text": [
      "C:/Users/jseal/Dev/dissertation/Data/WikipediaHomographData/data/three_split_stratified_variant_data_corrected/train_swbd_aug/\n",
      "C:/Users/jseal/Dev/dissertation/Data/WikipediaHomographData/data/three_split_stratified_variant_data_corrected/train_swbd_aug\\estimate.tsv\n"
     ]
    },
    {
     "name": "stderr",
     "output_type": "stream",
     "text": [
      "\r",
      "53it [00:14,  3.61it/s]"
     ]
    },
    {
     "name": "stdout",
     "output_type": "stream",
     "text": [
      "C:/Users/jseal/Dev/dissertation/Data/WikipediaHomographData/data/three_split_stratified_variant_data_corrected/train_swbd_aug/\n",
      "C:/Users/jseal/Dev/dissertation/Data/WikipediaHomographData/data/three_split_stratified_variant_data_corrected/train_swbd_aug\\excuse.tsv\n"
     ]
    },
    {
     "name": "stderr",
     "output_type": "stream",
     "text": [
      "\r",
      "54it [00:14,  3.51it/s]"
     ]
    },
    {
     "name": "stdout",
     "output_type": "stream",
     "text": [
      "C:/Users/jseal/Dev/dissertation/Data/WikipediaHomographData/data/three_split_stratified_variant_data_corrected/train_swbd_aug/\n",
      "C:/Users/jseal/Dev/dissertation/Data/WikipediaHomographData/data/three_split_stratified_variant_data_corrected/train_swbd_aug\\exploit.tsv\n"
     ]
    },
    {
     "name": "stderr",
     "output_type": "stream",
     "text": [
      "\r",
      "55it [00:15,  3.50it/s]"
     ]
    },
    {
     "name": "stdout",
     "output_type": "stream",
     "text": [
      "C:/Users/jseal/Dev/dissertation/Data/WikipediaHomographData/data/three_split_stratified_variant_data_corrected/train_swbd_aug/\n",
      "C:/Users/jseal/Dev/dissertation/Data/WikipediaHomographData/data/three_split_stratified_variant_data_corrected/train_swbd_aug\\export.tsv\n"
     ]
    },
    {
     "name": "stderr",
     "output_type": "stream",
     "text": [
      "\r",
      "56it [00:15,  3.53it/s]"
     ]
    },
    {
     "name": "stdout",
     "output_type": "stream",
     "text": [
      "C:/Users/jseal/Dev/dissertation/Data/WikipediaHomographData/data/three_split_stratified_variant_data_corrected/train_swbd_aug/\n",
      "C:/Users/jseal/Dev/dissertation/Data/WikipediaHomographData/data/three_split_stratified_variant_data_corrected/train_swbd_aug\\expose.tsv\n"
     ]
    },
    {
     "name": "stderr",
     "output_type": "stream",
     "text": [
      "\r",
      "57it [00:15,  3.58it/s]"
     ]
    },
    {
     "name": "stdout",
     "output_type": "stream",
     "text": [
      "C:/Users/jseal/Dev/dissertation/Data/WikipediaHomographData/data/three_split_stratified_variant_data_corrected/train_swbd_aug/\n",
      "C:/Users/jseal/Dev/dissertation/Data/WikipediaHomographData/data/three_split_stratified_variant_data_corrected/train_swbd_aug\\extract.tsv\n"
     ]
    },
    {
     "name": "stderr",
     "output_type": "stream",
     "text": [
      "\r",
      "58it [00:15,  3.53it/s]"
     ]
    },
    {
     "name": "stdout",
     "output_type": "stream",
     "text": [
      "C:/Users/jseal/Dev/dissertation/Data/WikipediaHomographData/data/three_split_stratified_variant_data_corrected/train_swbd_aug/\n",
      "C:/Users/jseal/Dev/dissertation/Data/WikipediaHomographData/data/three_split_stratified_variant_data_corrected/train_swbd_aug\\fragment.tsv\n"
     ]
    },
    {
     "name": "stderr",
     "output_type": "stream",
     "text": [
      "\r",
      "59it [00:16,  3.58it/s]"
     ]
    },
    {
     "name": "stdout",
     "output_type": "stream",
     "text": [
      "C:/Users/jseal/Dev/dissertation/Data/WikipediaHomographData/data/three_split_stratified_variant_data_corrected/train_swbd_aug/\n",
      "C:/Users/jseal/Dev/dissertation/Data/WikipediaHomographData/data/three_split_stratified_variant_data_corrected/train_swbd_aug\\frequent.tsv\n"
     ]
    },
    {
     "name": "stderr",
     "output_type": "stream",
     "text": [
      "\r",
      "60it [00:16,  3.49it/s]"
     ]
    },
    {
     "name": "stdout",
     "output_type": "stream",
     "text": [
      "C:/Users/jseal/Dev/dissertation/Data/WikipediaHomographData/data/three_split_stratified_variant_data_corrected/train_swbd_aug/\n",
      "C:/Users/jseal/Dev/dissertation/Data/WikipediaHomographData/data/three_split_stratified_variant_data_corrected/train_swbd_aug\\graduate.tsv\n"
     ]
    },
    {
     "name": "stderr",
     "output_type": "stream",
     "text": [
      "\r",
      "61it [00:16,  3.60it/s]"
     ]
    },
    {
     "name": "stdout",
     "output_type": "stream",
     "text": [
      "C:/Users/jseal/Dev/dissertation/Data/WikipediaHomographData/data/three_split_stratified_variant_data_corrected/train_swbd_aug/\n",
      "C:/Users/jseal/Dev/dissertation/Data/WikipediaHomographData/data/three_split_stratified_variant_data_corrected/train_swbd_aug\\impact.tsv\n"
     ]
    },
    {
     "name": "stderr",
     "output_type": "stream",
     "text": [
      "\r",
      "62it [00:16,  3.65it/s]"
     ]
    },
    {
     "name": "stdout",
     "output_type": "stream",
     "text": [
      "C:/Users/jseal/Dev/dissertation/Data/WikipediaHomographData/data/three_split_stratified_variant_data_corrected/train_swbd_aug/\n",
      "C:/Users/jseal/Dev/dissertation/Data/WikipediaHomographData/data/three_split_stratified_variant_data_corrected/train_swbd_aug\\implant.tsv\n"
     ]
    },
    {
     "name": "stderr",
     "output_type": "stream",
     "text": [
      "\r",
      "63it [00:17,  3.56it/s]"
     ]
    },
    {
     "name": "stdout",
     "output_type": "stream",
     "text": [
      "C:/Users/jseal/Dev/dissertation/Data/WikipediaHomographData/data/three_split_stratified_variant_data_corrected/train_swbd_aug/\n",
      "C:/Users/jseal/Dev/dissertation/Data/WikipediaHomographData/data/three_split_stratified_variant_data_corrected/train_swbd_aug\\implement.tsv\n"
     ]
    },
    {
     "name": "stderr",
     "output_type": "stream",
     "text": [
      "\r",
      "64it [00:17,  3.55it/s]"
     ]
    },
    {
     "name": "stdout",
     "output_type": "stream",
     "text": [
      "C:/Users/jseal/Dev/dissertation/Data/WikipediaHomographData/data/three_split_stratified_variant_data_corrected/train_swbd_aug/\n",
      "C:/Users/jseal/Dev/dissertation/Data/WikipediaHomographData/data/three_split_stratified_variant_data_corrected/train_swbd_aug\\import.tsv\n"
     ]
    },
    {
     "name": "stderr",
     "output_type": "stream",
     "text": [
      "\r",
      "65it [00:17,  3.61it/s]"
     ]
    },
    {
     "name": "stdout",
     "output_type": "stream",
     "text": [
      "C:/Users/jseal/Dev/dissertation/Data/WikipediaHomographData/data/three_split_stratified_variant_data_corrected/train_swbd_aug/\n",
      "C:/Users/jseal/Dev/dissertation/Data/WikipediaHomographData/data/three_split_stratified_variant_data_corrected/train_swbd_aug\\incline.tsv\n"
     ]
    },
    {
     "name": "stderr",
     "output_type": "stream",
     "text": [
      "\r",
      "66it [00:18,  3.62it/s]"
     ]
    },
    {
     "name": "stdout",
     "output_type": "stream",
     "text": [
      "C:/Users/jseal/Dev/dissertation/Data/WikipediaHomographData/data/three_split_stratified_variant_data_corrected/train_swbd_aug/\n",
      "C:/Users/jseal/Dev/dissertation/Data/WikipediaHomographData/data/three_split_stratified_variant_data_corrected/train_swbd_aug\\increase.tsv\n"
     ]
    },
    {
     "name": "stderr",
     "output_type": "stream",
     "text": [
      "\r",
      "67it [00:18,  3.65it/s]"
     ]
    },
    {
     "name": "stdout",
     "output_type": "stream",
     "text": [
      "C:/Users/jseal/Dev/dissertation/Data/WikipediaHomographData/data/three_split_stratified_variant_data_corrected/train_swbd_aug/\n",
      "C:/Users/jseal/Dev/dissertation/Data/WikipediaHomographData/data/three_split_stratified_variant_data_corrected/train_swbd_aug\\increment.tsv\n"
     ]
    },
    {
     "name": "stderr",
     "output_type": "stream",
     "text": [
      "\r",
      "68it [00:18,  3.67it/s]"
     ]
    },
    {
     "name": "stdout",
     "output_type": "stream",
     "text": [
      "C:/Users/jseal/Dev/dissertation/Data/WikipediaHomographData/data/three_split_stratified_variant_data_corrected/train_swbd_aug/\n",
      "C:/Users/jseal/Dev/dissertation/Data/WikipediaHomographData/data/three_split_stratified_variant_data_corrected/train_swbd_aug\\initiate.tsv\n"
     ]
    },
    {
     "name": "stderr",
     "output_type": "stream",
     "text": [
      "\r",
      "69it [00:18,  3.58it/s]"
     ]
    },
    {
     "name": "stdout",
     "output_type": "stream",
     "text": [
      "C:/Users/jseal/Dev/dissertation/Data/WikipediaHomographData/data/three_split_stratified_variant_data_corrected/train_swbd_aug/\n",
      "C:/Users/jseal/Dev/dissertation/Data/WikipediaHomographData/data/three_split_stratified_variant_data_corrected/train_swbd_aug\\insert.tsv\n"
     ]
    },
    {
     "name": "stderr",
     "output_type": "stream",
     "text": [
      "\r",
      "70it [00:19,  3.52it/s]"
     ]
    },
    {
     "name": "stdout",
     "output_type": "stream",
     "text": [
      "C:/Users/jseal/Dev/dissertation/Data/WikipediaHomographData/data/three_split_stratified_variant_data_corrected/train_swbd_aug/\n",
      "C:/Users/jseal/Dev/dissertation/Data/WikipediaHomographData/data/three_split_stratified_variant_data_corrected/train_swbd_aug\\insult.tsv\n"
     ]
    },
    {
     "name": "stderr",
     "output_type": "stream",
     "text": [
      "\r",
      "71it [00:19,  3.54it/s]"
     ]
    },
    {
     "name": "stdout",
     "output_type": "stream",
     "text": [
      "C:/Users/jseal/Dev/dissertation/Data/WikipediaHomographData/data/three_split_stratified_variant_data_corrected/train_swbd_aug/\n",
      "C:/Users/jseal/Dev/dissertation/Data/WikipediaHomographData/data/three_split_stratified_variant_data_corrected/train_swbd_aug\\intrigue.tsv\n"
     ]
    },
    {
     "name": "stderr",
     "output_type": "stream",
     "text": [
      "\r",
      "72it [00:19,  3.58it/s]"
     ]
    },
    {
     "name": "stdout",
     "output_type": "stream",
     "text": [
      "C:/Users/jseal/Dev/dissertation/Data/WikipediaHomographData/data/three_split_stratified_variant_data_corrected/train_swbd_aug/\n",
      "C:/Users/jseal/Dev/dissertation/Data/WikipediaHomographData/data/three_split_stratified_variant_data_corrected/train_swbd_aug\\invalid.tsv\n"
     ]
    },
    {
     "name": "stderr",
     "output_type": "stream",
     "text": [
      "\r",
      "73it [00:20,  3.60it/s]"
     ]
    },
    {
     "name": "stdout",
     "output_type": "stream",
     "text": [
      "C:/Users/jseal/Dev/dissertation/Data/WikipediaHomographData/data/three_split_stratified_variant_data_corrected/train_swbd_aug/\n",
      "C:/Users/jseal/Dev/dissertation/Data/WikipediaHomographData/data/three_split_stratified_variant_data_corrected/train_swbd_aug\\invert.tsv\n"
     ]
    },
    {
     "name": "stderr",
     "output_type": "stream",
     "text": [
      "\r",
      "74it [00:20,  3.65it/s]"
     ]
    },
    {
     "name": "stdout",
     "output_type": "stream",
     "text": [
      "C:/Users/jseal/Dev/dissertation/Data/WikipediaHomographData/data/three_split_stratified_variant_data_corrected/train_swbd_aug/\n",
      "C:/Users/jseal/Dev/dissertation/Data/WikipediaHomographData/data/three_split_stratified_variant_data_corrected/train_swbd_aug\\invite.tsv\n"
     ]
    },
    {
     "name": "stderr",
     "output_type": "stream",
     "text": [
      "\r",
      "75it [00:20,  3.65it/s]"
     ]
    },
    {
     "name": "stdout",
     "output_type": "stream",
     "text": [
      "C:/Users/jseal/Dev/dissertation/Data/WikipediaHomographData/data/three_split_stratified_variant_data_corrected/train_swbd_aug/\n",
      "C:/Users/jseal/Dev/dissertation/Data/WikipediaHomographData/data/three_split_stratified_variant_data_corrected/train_swbd_aug\\isolate.tsv\n"
     ]
    },
    {
     "name": "stderr",
     "output_type": "stream",
     "text": [
      "\r",
      "76it [00:20,  3.68it/s]"
     ]
    },
    {
     "name": "stdout",
     "output_type": "stream",
     "text": [
      "C:/Users/jseal/Dev/dissertation/Data/WikipediaHomographData/data/three_split_stratified_variant_data_corrected/train_swbd_aug/\n",
      "C:/Users/jseal/Dev/dissertation/Data/WikipediaHomographData/data/three_split_stratified_variant_data_corrected/train_swbd_aug\\laminate.tsv\n"
     ]
    },
    {
     "name": "stderr",
     "output_type": "stream",
     "text": [
      "\r",
      "77it [00:21,  3.69it/s]"
     ]
    },
    {
     "name": "stdout",
     "output_type": "stream",
     "text": [
      "C:/Users/jseal/Dev/dissertation/Data/WikipediaHomographData/data/three_split_stratified_variant_data_corrected/train_swbd_aug/\n",
      "C:/Users/jseal/Dev/dissertation/Data/WikipediaHomographData/data/three_split_stratified_variant_data_corrected/train_swbd_aug\\lead.tsv\n"
     ]
    },
    {
     "name": "stderr",
     "output_type": "stream",
     "text": [
      "\r",
      "78it [00:21,  3.51it/s]"
     ]
    },
    {
     "name": "stdout",
     "output_type": "stream",
     "text": [
      "C:/Users/jseal/Dev/dissertation/Data/WikipediaHomographData/data/three_split_stratified_variant_data_corrected/train_swbd_aug/\n",
      "C:/Users/jseal/Dev/dissertation/Data/WikipediaHomographData/data/three_split_stratified_variant_data_corrected/train_swbd_aug\\learned.tsv\n"
     ]
    },
    {
     "name": "stderr",
     "output_type": "stream",
     "text": [
      "\r",
      "79it [00:21,  3.54it/s]"
     ]
    },
    {
     "name": "stdout",
     "output_type": "stream",
     "text": [
      "C:/Users/jseal/Dev/dissertation/Data/WikipediaHomographData/data/three_split_stratified_variant_data_corrected/train_swbd_aug/\n",
      "C:/Users/jseal/Dev/dissertation/Data/WikipediaHomographData/data/three_split_stratified_variant_data_corrected/train_swbd_aug\\live.tsv\n"
     ]
    },
    {
     "name": "stderr",
     "output_type": "stream",
     "text": [
      "\r",
      "80it [00:21,  3.63it/s]"
     ]
    },
    {
     "name": "stdout",
     "output_type": "stream",
     "text": [
      "C:/Users/jseal/Dev/dissertation/Data/WikipediaHomographData/data/three_split_stratified_variant_data_corrected/train_swbd_aug/\n",
      "C:/Users/jseal/Dev/dissertation/Data/WikipediaHomographData/data/three_split_stratified_variant_data_corrected/train_swbd_aug\\lives.tsv\n"
     ]
    },
    {
     "name": "stderr",
     "output_type": "stream",
     "text": [
      "\r",
      "81it [00:22,  3.69it/s]"
     ]
    },
    {
     "name": "stdout",
     "output_type": "stream",
     "text": [
      "C:/Users/jseal/Dev/dissertation/Data/WikipediaHomographData/data/three_split_stratified_variant_data_corrected/train_swbd_aug/\n",
      "C:/Users/jseal/Dev/dissertation/Data/WikipediaHomographData/data/three_split_stratified_variant_data_corrected/train_swbd_aug\\minute.tsv\n"
     ]
    },
    {
     "name": "stderr",
     "output_type": "stream",
     "text": [
      "\r",
      "82it [00:22,  3.67it/s]"
     ]
    },
    {
     "name": "stdout",
     "output_type": "stream",
     "text": [
      "C:/Users/jseal/Dev/dissertation/Data/WikipediaHomographData/data/three_split_stratified_variant_data_corrected/train_swbd_aug/\n",
      "C:/Users/jseal/Dev/dissertation/Data/WikipediaHomographData/data/three_split_stratified_variant_data_corrected/train_swbd_aug\\misuse.tsv\n"
     ]
    },
    {
     "name": "stderr",
     "output_type": "stream",
     "text": [
      "\r",
      "83it [00:22,  3.72it/s]"
     ]
    },
    {
     "name": "stdout",
     "output_type": "stream",
     "text": [
      "C:/Users/jseal/Dev/dissertation/Data/WikipediaHomographData/data/three_split_stratified_variant_data_corrected/train_swbd_aug/\n",
      "C:/Users/jseal/Dev/dissertation/Data/WikipediaHomographData/data/three_split_stratified_variant_data_corrected/train_swbd_aug\\mobile.tsv\n"
     ]
    },
    {
     "name": "stderr",
     "output_type": "stream",
     "text": [
      "\r",
      "84it [00:23,  3.76it/s]"
     ]
    },
    {
     "name": "stdout",
     "output_type": "stream",
     "text": [
      "C:/Users/jseal/Dev/dissertation/Data/WikipediaHomographData/data/three_split_stratified_variant_data_corrected/train_swbd_aug/\n",
      "C:/Users/jseal/Dev/dissertation/Data/WikipediaHomographData/data/three_split_stratified_variant_data_corrected/train_swbd_aug\\nestle.tsv\n"
     ]
    },
    {
     "name": "stderr",
     "output_type": "stream",
     "text": [
      "\r",
      "85it [00:23,  3.90it/s]"
     ]
    },
    {
     "name": "stdout",
     "output_type": "stream",
     "text": [
      "C:/Users/jseal/Dev/dissertation/Data/WikipediaHomographData/data/three_split_stratified_variant_data_corrected/train_swbd_aug/\n",
      "C:/Users/jseal/Dev/dissertation/Data/WikipediaHomographData/data/three_split_stratified_variant_data_corrected/train_swbd_aug\\ornament.tsv\n"
     ]
    },
    {
     "name": "stderr",
     "output_type": "stream",
     "text": [
      "\r",
      "86it [00:23,  3.86it/s]"
     ]
    },
    {
     "name": "stdout",
     "output_type": "stream",
     "text": [
      "C:/Users/jseal/Dev/dissertation/Data/WikipediaHomographData/data/three_split_stratified_variant_data_corrected/train_swbd_aug/\n",
      "C:/Users/jseal/Dev/dissertation/Data/WikipediaHomographData/data/three_split_stratified_variant_data_corrected/train_swbd_aug\\overthrow.tsv\n"
     ]
    },
    {
     "name": "stderr",
     "output_type": "stream",
     "text": [
      "\r",
      "87it [00:23,  3.80it/s]"
     ]
    },
    {
     "name": "stdout",
     "output_type": "stream",
     "text": [
      "C:/Users/jseal/Dev/dissertation/Data/WikipediaHomographData/data/three_split_stratified_variant_data_corrected/train_swbd_aug/\n",
      "C:/Users/jseal/Dev/dissertation/Data/WikipediaHomographData/data/three_split_stratified_variant_data_corrected/train_swbd_aug\\pasty.tsv\n"
     ]
    },
    {
     "name": "stderr",
     "output_type": "stream",
     "text": [
      "\r",
      "88it [00:24,  3.80it/s]"
     ]
    },
    {
     "name": "stdout",
     "output_type": "stream",
     "text": [
      "C:/Users/jseal/Dev/dissertation/Data/WikipediaHomographData/data/three_split_stratified_variant_data_corrected/train_swbd_aug/\n",
      "C:/Users/jseal/Dev/dissertation/Data/WikipediaHomographData/data/three_split_stratified_variant_data_corrected/train_swbd_aug\\perfect.tsv\n"
     ]
    },
    {
     "name": "stderr",
     "output_type": "stream",
     "text": [
      "\r",
      "89it [00:24,  3.73it/s]"
     ]
    },
    {
     "name": "stdout",
     "output_type": "stream",
     "text": [
      "C:/Users/jseal/Dev/dissertation/Data/WikipediaHomographData/data/three_split_stratified_variant_data_corrected/train_swbd_aug/\n",
      "C:/Users/jseal/Dev/dissertation/Data/WikipediaHomographData/data/three_split_stratified_variant_data_corrected/train_swbd_aug\\perfume.tsv\n"
     ]
    },
    {
     "name": "stderr",
     "output_type": "stream",
     "text": [
      "\r",
      "90it [00:24,  3.74it/s]"
     ]
    },
    {
     "name": "stdout",
     "output_type": "stream",
     "text": [
      "C:/Users/jseal/Dev/dissertation/Data/WikipediaHomographData/data/three_split_stratified_variant_data_corrected/train_swbd_aug/\n",
      "C:/Users/jseal/Dev/dissertation/Data/WikipediaHomographData/data/three_split_stratified_variant_data_corrected/train_swbd_aug\\permit.tsv\n"
     ]
    },
    {
     "name": "stderr",
     "output_type": "stream",
     "text": [
      "\r",
      "91it [00:24,  3.73it/s]"
     ]
    },
    {
     "name": "stdout",
     "output_type": "stream",
     "text": [
      "C:/Users/jseal/Dev/dissertation/Data/WikipediaHomographData/data/three_split_stratified_variant_data_corrected/train_swbd_aug/\n",
      "C:/Users/jseal/Dev/dissertation/Data/WikipediaHomographData/data/three_split_stratified_variant_data_corrected/train_swbd_aug\\pervert.tsv\n"
     ]
    },
    {
     "name": "stderr",
     "output_type": "stream",
     "text": [
      "\r",
      "92it [00:25,  3.60it/s]"
     ]
    },
    {
     "name": "stdout",
     "output_type": "stream",
     "text": [
      "C:/Users/jseal/Dev/dissertation/Data/WikipediaHomographData/data/three_split_stratified_variant_data_corrected/train_swbd_aug/\n",
      "C:/Users/jseal/Dev/dissertation/Data/WikipediaHomographData/data/three_split_stratified_variant_data_corrected/train_swbd_aug\\polish.tsv\n"
     ]
    },
    {
     "name": "stderr",
     "output_type": "stream",
     "text": [
      "\r",
      "93it [00:25,  3.64it/s]"
     ]
    },
    {
     "name": "stdout",
     "output_type": "stream",
     "text": [
      "C:/Users/jseal/Dev/dissertation/Data/WikipediaHomographData/data/three_split_stratified_variant_data_corrected/train_swbd_aug/\n",
      "C:/Users/jseal/Dev/dissertation/Data/WikipediaHomographData/data/three_split_stratified_variant_data_corrected/train_swbd_aug\\postulate.tsv\n"
     ]
    },
    {
     "name": "stderr",
     "output_type": "stream",
     "text": [
      "\r",
      "94it [00:25,  3.65it/s]"
     ]
    },
    {
     "name": "stdout",
     "output_type": "stream",
     "text": [
      "C:/Users/jseal/Dev/dissertation/Data/WikipediaHomographData/data/three_split_stratified_variant_data_corrected/train_swbd_aug/\n",
      "C:/Users/jseal/Dev/dissertation/Data/WikipediaHomographData/data/three_split_stratified_variant_data_corrected/train_swbd_aug\\precipitate.tsv\n"
     ]
    },
    {
     "name": "stderr",
     "output_type": "stream",
     "text": [
      "\r",
      "95it [00:25,  3.68it/s]"
     ]
    },
    {
     "name": "stdout",
     "output_type": "stream",
     "text": [
      "C:/Users/jseal/Dev/dissertation/Data/WikipediaHomographData/data/three_split_stratified_variant_data_corrected/train_swbd_aug/\n",
      "C:/Users/jseal/Dev/dissertation/Data/WikipediaHomographData/data/three_split_stratified_variant_data_corrected/train_swbd_aug\\present.tsv\n"
     ]
    },
    {
     "name": "stderr",
     "output_type": "stream",
     "text": [
      "\r",
      "96it [00:26,  3.70it/s]"
     ]
    },
    {
     "name": "stdout",
     "output_type": "stream",
     "text": [
      "C:/Users/jseal/Dev/dissertation/Data/WikipediaHomographData/data/three_split_stratified_variant_data_corrected/train_swbd_aug/\n",
      "C:/Users/jseal/Dev/dissertation/Data/WikipediaHomographData/data/three_split_stratified_variant_data_corrected/train_swbd_aug\\produce.tsv\n"
     ]
    },
    {
     "name": "stderr",
     "output_type": "stream",
     "text": [
      "\r",
      "97it [00:26,  3.73it/s]"
     ]
    },
    {
     "name": "stdout",
     "output_type": "stream",
     "text": [
      "C:/Users/jseal/Dev/dissertation/Data/WikipediaHomographData/data/three_split_stratified_variant_data_corrected/train_swbd_aug/\n",
      "C:/Users/jseal/Dev/dissertation/Data/WikipediaHomographData/data/three_split_stratified_variant_data_corrected/train_swbd_aug\\progress.tsv\n"
     ]
    },
    {
     "name": "stderr",
     "output_type": "stream",
     "text": [
      "\r",
      "98it [00:26,  3.64it/s]"
     ]
    },
    {
     "name": "stdout",
     "output_type": "stream",
     "text": [
      "C:/Users/jseal/Dev/dissertation/Data/WikipediaHomographData/data/three_split_stratified_variant_data_corrected/train_swbd_aug/\n",
      "C:/Users/jseal/Dev/dissertation/Data/WikipediaHomographData/data/three_split_stratified_variant_data_corrected/train_swbd_aug\\protest.tsv\n"
     ]
    },
    {
     "name": "stderr",
     "output_type": "stream",
     "text": [
      "\r",
      "99it [00:27,  3.68it/s]"
     ]
    },
    {
     "name": "stdout",
     "output_type": "stream",
     "text": [
      "C:/Users/jseal/Dev/dissertation/Data/WikipediaHomographData/data/three_split_stratified_variant_data_corrected/train_swbd_aug/\n",
      "C:/Users/jseal/Dev/dissertation/Data/WikipediaHomographData/data/three_split_stratified_variant_data_corrected/train_swbd_aug\\read.tsv\n"
     ]
    },
    {
     "name": "stderr",
     "output_type": "stream",
     "text": [
      "\r",
      "100it [00:27,  3.46it/s]"
     ]
    },
    {
     "name": "stdout",
     "output_type": "stream",
     "text": [
      "C:/Users/jseal/Dev/dissertation/Data/WikipediaHomographData/data/three_split_stratified_variant_data_corrected/train_swbd_aug/\n",
      "C:/Users/jseal/Dev/dissertation/Data/WikipediaHomographData/data/three_split_stratified_variant_data_corrected/train_swbd_aug\\reading.tsv\n"
     ]
    },
    {
     "name": "stderr",
     "output_type": "stream",
     "text": [
      "\r",
      "101it [00:27,  3.51it/s]"
     ]
    },
    {
     "name": "stdout",
     "output_type": "stream",
     "text": [
      "C:/Users/jseal/Dev/dissertation/Data/WikipediaHomographData/data/three_split_stratified_variant_data_corrected/train_swbd_aug/\n",
      "C:/Users/jseal/Dev/dissertation/Data/WikipediaHomographData/data/three_split_stratified_variant_data_corrected/train_swbd_aug\\rebel.tsv\n"
     ]
    },
    {
     "name": "stderr",
     "output_type": "stream",
     "text": [
      "\r",
      "102it [00:27,  3.53it/s]"
     ]
    },
    {
     "name": "stdout",
     "output_type": "stream",
     "text": [
      "C:/Users/jseal/Dev/dissertation/Data/WikipediaHomographData/data/three_split_stratified_variant_data_corrected/train_swbd_aug/\n",
      "C:/Users/jseal/Dev/dissertation/Data/WikipediaHomographData/data/three_split_stratified_variant_data_corrected/train_swbd_aug\\record.tsv\n"
     ]
    },
    {
     "name": "stderr",
     "output_type": "stream",
     "text": [
      "\r",
      "103it [00:28,  3.61it/s]"
     ]
    },
    {
     "name": "stdout",
     "output_type": "stream",
     "text": [
      "C:/Users/jseal/Dev/dissertation/Data/WikipediaHomographData/data/three_split_stratified_variant_data_corrected/train_swbd_aug/\n",
      "C:/Users/jseal/Dev/dissertation/Data/WikipediaHomographData/data/three_split_stratified_variant_data_corrected/train_swbd_aug\\recount.tsv\n"
     ]
    },
    {
     "name": "stderr",
     "output_type": "stream",
     "text": [
      "\r",
      "104it [00:28,  3.66it/s]"
     ]
    },
    {
     "name": "stdout",
     "output_type": "stream",
     "text": [
      "C:/Users/jseal/Dev/dissertation/Data/WikipediaHomographData/data/three_split_stratified_variant_data_corrected/train_swbd_aug/\n",
      "C:/Users/jseal/Dev/dissertation/Data/WikipediaHomographData/data/three_split_stratified_variant_data_corrected/train_swbd_aug\\refund.tsv\n"
     ]
    },
    {
     "name": "stderr",
     "output_type": "stream",
     "text": [
      "\r",
      "105it [00:28,  3.69it/s]"
     ]
    },
    {
     "name": "stdout",
     "output_type": "stream",
     "text": [
      "C:/Users/jseal/Dev/dissertation/Data/WikipediaHomographData/data/three_split_stratified_variant_data_corrected/train_swbd_aug/\n",
      "C:/Users/jseal/Dev/dissertation/Data/WikipediaHomographData/data/three_split_stratified_variant_data_corrected/train_swbd_aug\\refuse.tsv\n"
     ]
    },
    {
     "name": "stderr",
     "output_type": "stream",
     "text": [
      "\r",
      "106it [00:28,  3.71it/s]"
     ]
    },
    {
     "name": "stdout",
     "output_type": "stream",
     "text": [
      "C:/Users/jseal/Dev/dissertation/Data/WikipediaHomographData/data/three_split_stratified_variant_data_corrected/train_swbd_aug/\n",
      "C:/Users/jseal/Dev/dissertation/Data/WikipediaHomographData/data/three_split_stratified_variant_data_corrected/train_swbd_aug\\reject.tsv\n"
     ]
    },
    {
     "name": "stderr",
     "output_type": "stream",
     "text": [
      "\r",
      "107it [00:29,  3.70it/s]"
     ]
    },
    {
     "name": "stdout",
     "output_type": "stream",
     "text": [
      "C:/Users/jseal/Dev/dissertation/Data/WikipediaHomographData/data/three_split_stratified_variant_data_corrected/train_swbd_aug/\n",
      "C:/Users/jseal/Dev/dissertation/Data/WikipediaHomographData/data/three_split_stratified_variant_data_corrected/train_swbd_aug\\rerelease.tsv\n"
     ]
    },
    {
     "name": "stderr",
     "output_type": "stream",
     "text": [
      "\r",
      "108it [00:29,  3.69it/s]"
     ]
    },
    {
     "name": "stdout",
     "output_type": "stream",
     "text": [
      "C:/Users/jseal/Dev/dissertation/Data/WikipediaHomographData/data/three_split_stratified_variant_data_corrected/train_swbd_aug/\n",
      "C:/Users/jseal/Dev/dissertation/Data/WikipediaHomographData/data/three_split_stratified_variant_data_corrected/train_swbd_aug\\resume.tsv\n"
     ]
    },
    {
     "name": "stderr",
     "output_type": "stream",
     "text": [
      "\r",
      "109it [00:29,  3.73it/s]"
     ]
    },
    {
     "name": "stdout",
     "output_type": "stream",
     "text": [
      "C:/Users/jseal/Dev/dissertation/Data/WikipediaHomographData/data/three_split_stratified_variant_data_corrected/train_swbd_aug/\n",
      "C:/Users/jseal/Dev/dissertation/Data/WikipediaHomographData/data/three_split_stratified_variant_data_corrected/train_swbd_aug\\retard.tsv\n"
     ]
    },
    {
     "name": "stderr",
     "output_type": "stream",
     "text": [
      "\r",
      "110it [00:30,  3.81it/s]"
     ]
    },
    {
     "name": "stdout",
     "output_type": "stream",
     "text": [
      "C:/Users/jseal/Dev/dissertation/Data/WikipediaHomographData/data/three_split_stratified_variant_data_corrected/train_swbd_aug/\n",
      "C:/Users/jseal/Dev/dissertation/Data/WikipediaHomographData/data/three_split_stratified_variant_data_corrected/train_swbd_aug\\rodeo.tsv\n"
     ]
    },
    {
     "name": "stderr",
     "output_type": "stream",
     "text": [
      "\r",
      "111it [00:30,  3.80it/s]"
     ]
    },
    {
     "name": "stdout",
     "output_type": "stream",
     "text": [
      "C:/Users/jseal/Dev/dissertation/Data/WikipediaHomographData/data/three_split_stratified_variant_data_corrected/train_swbd_aug/\n",
      "C:/Users/jseal/Dev/dissertation/Data/WikipediaHomographData/data/three_split_stratified_variant_data_corrected/train_swbd_aug\\sake.tsv\n"
     ]
    },
    {
     "name": "stderr",
     "output_type": "stream",
     "text": [
      "\r",
      "112it [00:30,  3.81it/s]"
     ]
    },
    {
     "name": "stdout",
     "output_type": "stream",
     "text": [
      "C:/Users/jseal/Dev/dissertation/Data/WikipediaHomographData/data/three_split_stratified_variant_data_corrected/train_swbd_aug/\n",
      "C:/Users/jseal/Dev/dissertation/Data/WikipediaHomographData/data/three_split_stratified_variant_data_corrected/train_swbd_aug\\separate.tsv\n"
     ]
    },
    {
     "name": "stderr",
     "output_type": "stream",
     "text": [
      "\r",
      "113it [00:30,  3.80it/s]"
     ]
    },
    {
     "name": "stdout",
     "output_type": "stream",
     "text": [
      "C:/Users/jseal/Dev/dissertation/Data/WikipediaHomographData/data/three_split_stratified_variant_data_corrected/train_swbd_aug/\n",
      "C:/Users/jseal/Dev/dissertation/Data/WikipediaHomographData/data/three_split_stratified_variant_data_corrected/train_swbd_aug\\sow.tsv\n"
     ]
    },
    {
     "name": "stderr",
     "output_type": "stream",
     "text": [
      "\r",
      "114it [00:31,  3.81it/s]"
     ]
    },
    {
     "name": "stdout",
     "output_type": "stream",
     "text": [
      "C:/Users/jseal/Dev/dissertation/Data/WikipediaHomographData/data/three_split_stratified_variant_data_corrected/train_swbd_aug/\n",
      "C:/Users/jseal/Dev/dissertation/Data/WikipediaHomographData/data/three_split_stratified_variant_data_corrected/train_swbd_aug\\subordinate.tsv\n"
     ]
    },
    {
     "name": "stderr",
     "output_type": "stream",
     "text": [
      "\r",
      "115it [00:31,  3.79it/s]"
     ]
    },
    {
     "name": "stdout",
     "output_type": "stream",
     "text": [
      "C:/Users/jseal/Dev/dissertation/Data/WikipediaHomographData/data/three_split_stratified_variant_data_corrected/train_swbd_aug/\n",
      "C:/Users/jseal/Dev/dissertation/Data/WikipediaHomographData/data/three_split_stratified_variant_data_corrected/train_swbd_aug\\supplement.tsv\n"
     ]
    },
    {
     "name": "stderr",
     "output_type": "stream",
     "text": [
      "\r",
      "116it [00:31,  3.80it/s]"
     ]
    },
    {
     "name": "stdout",
     "output_type": "stream",
     "text": [
      "C:/Users/jseal/Dev/dissertation/Data/WikipediaHomographData/data/three_split_stratified_variant_data_corrected/train_swbd_aug/\n",
      "C:/Users/jseal/Dev/dissertation/Data/WikipediaHomographData/data/three_split_stratified_variant_data_corrected/train_swbd_aug\\suspect.tsv\n"
     ]
    },
    {
     "name": "stderr",
     "output_type": "stream",
     "text": [
      "\r",
      "117it [00:31,  3.69it/s]"
     ]
    },
    {
     "name": "stdout",
     "output_type": "stream",
     "text": [
      "C:/Users/jseal/Dev/dissertation/Data/WikipediaHomographData/data/three_split_stratified_variant_data_corrected/train_swbd_aug/\n",
      "C:/Users/jseal/Dev/dissertation/Data/WikipediaHomographData/data/three_split_stratified_variant_data_corrected/train_swbd_aug\\syndicate.tsv\n"
     ]
    },
    {
     "name": "stderr",
     "output_type": "stream",
     "text": [
      "\r",
      "118it [00:32,  3.69it/s]"
     ]
    },
    {
     "name": "stdout",
     "output_type": "stream",
     "text": [
      "C:/Users/jseal/Dev/dissertation/Data/WikipediaHomographData/data/three_split_stratified_variant_data_corrected/train_swbd_aug/\n",
      "C:/Users/jseal/Dev/dissertation/Data/WikipediaHomographData/data/three_split_stratified_variant_data_corrected/train_swbd_aug\\tear.tsv\n"
     ]
    },
    {
     "name": "stderr",
     "output_type": "stream",
     "text": [
      "\r",
      "119it [00:32,  3.69it/s]"
     ]
    },
    {
     "name": "stdout",
     "output_type": "stream",
     "text": [
      "C:/Users/jseal/Dev/dissertation/Data/WikipediaHomographData/data/three_split_stratified_variant_data_corrected/train_swbd_aug/\n",
      "C:/Users/jseal/Dev/dissertation/Data/WikipediaHomographData/data/three_split_stratified_variant_data_corrected/train_swbd_aug\\transform.tsv\n"
     ]
    },
    {
     "name": "stderr",
     "output_type": "stream",
     "text": [
      "\r",
      "120it [00:32,  3.68it/s]"
     ]
    },
    {
     "name": "stdout",
     "output_type": "stream",
     "text": [
      "C:/Users/jseal/Dev/dissertation/Data/WikipediaHomographData/data/three_split_stratified_variant_data_corrected/train_swbd_aug/\n",
      "C:/Users/jseal/Dev/dissertation/Data/WikipediaHomographData/data/three_split_stratified_variant_data_corrected/train_swbd_aug\\transplant.tsv\n"
     ]
    },
    {
     "name": "stderr",
     "output_type": "stream",
     "text": [
      "\r",
      "121it [00:33,  3.69it/s]"
     ]
    },
    {
     "name": "stdout",
     "output_type": "stream",
     "text": [
      "C:/Users/jseal/Dev/dissertation/Data/WikipediaHomographData/data/three_split_stratified_variant_data_corrected/train_swbd_aug/\n",
      "C:/Users/jseal/Dev/dissertation/Data/WikipediaHomographData/data/three_split_stratified_variant_data_corrected/train_swbd_aug\\transport.tsv\n"
     ]
    },
    {
     "name": "stderr",
     "output_type": "stream",
     "text": [
      "\r",
      "122it [00:33,  3.71it/s]"
     ]
    },
    {
     "name": "stdout",
     "output_type": "stream",
     "text": [
      "C:/Users/jseal/Dev/dissertation/Data/WikipediaHomographData/data/three_split_stratified_variant_data_corrected/train_swbd_aug/\n",
      "C:/Users/jseal/Dev/dissertation/Data/WikipediaHomographData/data/three_split_stratified_variant_data_corrected/train_swbd_aug\\upset.tsv\n"
     ]
    },
    {
     "name": "stderr",
     "output_type": "stream",
     "text": [
      "\r",
      "123it [00:33,  3.72it/s]"
     ]
    },
    {
     "name": "stdout",
     "output_type": "stream",
     "text": [
      "C:/Users/jseal/Dev/dissertation/Data/WikipediaHomographData/data/three_split_stratified_variant_data_corrected/train_swbd_aug/\n",
      "C:/Users/jseal/Dev/dissertation/Data/WikipediaHomographData/data/three_split_stratified_variant_data_corrected/train_swbd_aug\\use.tsv\n"
     ]
    },
    {
     "name": "stderr",
     "output_type": "stream",
     "text": [
      "\r",
      "124it [00:33,  3.72it/s]"
     ]
    },
    {
     "name": "stdout",
     "output_type": "stream",
     "text": [
      "C:/Users/jseal/Dev/dissertation/Data/WikipediaHomographData/data/three_split_stratified_variant_data_corrected/train_swbd_aug/\n",
      "C:/Users/jseal/Dev/dissertation/Data/WikipediaHomographData/data/three_split_stratified_variant_data_corrected/train_swbd_aug\\uses.tsv\n"
     ]
    },
    {
     "name": "stderr",
     "output_type": "stream",
     "text": [
      "\r",
      "125it [00:34,  3.75it/s]"
     ]
    },
    {
     "name": "stdout",
     "output_type": "stream",
     "text": [
      "C:/Users/jseal/Dev/dissertation/Data/WikipediaHomographData/data/three_split_stratified_variant_data_corrected/train_swbd_aug/\n",
      "C:/Users/jseal/Dev/dissertation/Data/WikipediaHomographData/data/three_split_stratified_variant_data_corrected/train_swbd_aug\\wind.tsv\n"
     ]
    },
    {
     "name": "stderr",
     "output_type": "stream",
     "text": [
      "\r",
      "126it [00:34,  3.72it/s]"
     ]
    },
    {
     "name": "stdout",
     "output_type": "stream",
     "text": [
      "C:/Users/jseal/Dev/dissertation/Data/WikipediaHomographData/data/three_split_stratified_variant_data_corrected/train_swbd_aug/\n",
      "C:/Users/jseal/Dev/dissertation/Data/WikipediaHomographData/data/three_split_stratified_variant_data_corrected/train_swbd_aug\\winds.tsv\n"
     ]
    },
    {
     "name": "stderr",
     "output_type": "stream",
     "text": [
      "\r",
      "127it [00:34,  3.71it/s]"
     ]
    },
    {
     "name": "stdout",
     "output_type": "stream",
     "text": [
      "C:/Users/jseal/Dev/dissertation/Data/WikipediaHomographData/data/three_split_stratified_variant_data_corrected/train_swbd_aug/\n",
      "C:/Users/jseal/Dev/dissertation/Data/WikipediaHomographData/data/three_split_stratified_variant_data_corrected/train_swbd_aug\\wound.tsv\n"
     ]
    },
    {
     "name": "stderr",
     "output_type": "stream",
     "text": [
      "128it [00:34,  3.67it/s]\n",
      "3it [00:00, 25.70it/s]"
     ]
    },
    {
     "name": "stdout",
     "output_type": "stream",
     "text": [
      "C:/Users/jseal/Dev/dissertation/Data/WikipediaHomographData/data/three_split_stratified_variant_data_corrected/dev_swbd_aug/\n",
      "C:/Users/jseal/Dev/dissertation/Data/WikipediaHomographData/data/three_split_stratified_variant_data_corrected/dev_swbd_aug\\abuse.tsv\n",
      "C:/Users/jseal/Dev/dissertation/Data/WikipediaHomographData/data/three_split_stratified_variant_data_corrected/dev_swbd_aug/\n",
      "C:/Users/jseal/Dev/dissertation/Data/WikipediaHomographData/data/three_split_stratified_variant_data_corrected/dev_swbd_aug\\abuses.tsv\n",
      "C:/Users/jseal/Dev/dissertation/Data/WikipediaHomographData/data/three_split_stratified_variant_data_corrected/dev_swbd_aug/\n",
      "C:/Users/jseal/Dev/dissertation/Data/WikipediaHomographData/data/three_split_stratified_variant_data_corrected/dev_swbd_aug\\advocate.tsv\n",
      "C:/Users/jseal/Dev/dissertation/Data/WikipediaHomographData/data/three_split_stratified_variant_data_corrected/dev_swbd_aug/\n",
      "C:/Users/jseal/Dev/dissertation/Data/WikipediaHomographData/data/three_split_stratified_variant_data_corrected/dev_swbd_aug\\affect.tsv\n",
      "C:/Users/jseal/Dev/dissertation/Data/WikipediaHomographData/data/three_split_stratified_variant_data_corrected/dev_swbd_aug/\n",
      "C:/Users/jseal/Dev/dissertation/Data/WikipediaHomographData/data/three_split_stratified_variant_data_corrected/dev_swbd_aug\\affiliate.tsv\n"
     ]
    },
    {
     "name": "stderr",
     "output_type": "stream",
     "text": [
      "9it [00:00, 24.70it/s]"
     ]
    },
    {
     "name": "stdout",
     "output_type": "stream",
     "text": [
      "C:/Users/jseal/Dev/dissertation/Data/WikipediaHomographData/data/three_split_stratified_variant_data_corrected/dev_swbd_aug/\n",
      "C:/Users/jseal/Dev/dissertation/Data/WikipediaHomographData/data/three_split_stratified_variant_data_corrected/dev_swbd_aug\\aged.tsv\n",
      "C:/Users/jseal/Dev/dissertation/Data/WikipediaHomographData/data/three_split_stratified_variant_data_corrected/dev_swbd_aug/\n",
      "C:/Users/jseal/Dev/dissertation/Data/WikipediaHomographData/data/three_split_stratified_variant_data_corrected/dev_swbd_aug\\aggregate.tsv\n",
      "C:/Users/jseal/Dev/dissertation/Data/WikipediaHomographData/data/three_split_stratified_variant_data_corrected/dev_swbd_aug/\n",
      "C:/Users/jseal/Dev/dissertation/Data/WikipediaHomographData/data/three_split_stratified_variant_data_corrected/dev_swbd_aug\\alternate.tsv\n",
      "C:/Users/jseal/Dev/dissertation/Data/WikipediaHomographData/data/three_split_stratified_variant_data_corrected/dev_swbd_aug/\n",
      "C:/Users/jseal/Dev/dissertation/Data/WikipediaHomographData/data/three_split_stratified_variant_data_corrected/dev_swbd_aug\\analyses.tsv\n",
      "C:/Users/jseal/Dev/dissertation/Data/WikipediaHomographData/data/three_split_stratified_variant_data_corrected/dev_swbd_aug/\n",
      "C:/Users/jseal/Dev/dissertation/Data/WikipediaHomographData/data/three_split_stratified_variant_data_corrected/dev_swbd_aug\\animate.tsv\n"
     ]
    },
    {
     "name": "stderr",
     "output_type": "stream",
     "text": [
      "15it [00:00, 24.87it/s]"
     ]
    },
    {
     "name": "stdout",
     "output_type": "stream",
     "text": [
      "C:/Users/jseal/Dev/dissertation/Data/WikipediaHomographData/data/three_split_stratified_variant_data_corrected/dev_swbd_aug/\n",
      "C:/Users/jseal/Dev/dissertation/Data/WikipediaHomographData/data/three_split_stratified_variant_data_corrected/dev_swbd_aug\\approximate.tsv\n",
      "C:/Users/jseal/Dev/dissertation/Data/WikipediaHomographData/data/three_split_stratified_variant_data_corrected/dev_swbd_aug/\n",
      "C:/Users/jseal/Dev/dissertation/Data/WikipediaHomographData/data/three_split_stratified_variant_data_corrected/dev_swbd_aug\\articulate.tsv\n",
      "C:/Users/jseal/Dev/dissertation/Data/WikipediaHomographData/data/three_split_stratified_variant_data_corrected/dev_swbd_aug/\n",
      "C:/Users/jseal/Dev/dissertation/Data/WikipediaHomographData/data/three_split_stratified_variant_data_corrected/dev_swbd_aug\\associate.tsv\n",
      "C:/Users/jseal/Dev/dissertation/Data/WikipediaHomographData/data/three_split_stratified_variant_data_corrected/dev_swbd_aug/\n",
      "C:/Users/jseal/Dev/dissertation/Data/WikipediaHomographData/data/three_split_stratified_variant_data_corrected/dev_swbd_aug\\attribute.tsv\n",
      "C:/Users/jseal/Dev/dissertation/Data/WikipediaHomographData/data/three_split_stratified_variant_data_corrected/dev_swbd_aug/\n",
      "C:/Users/jseal/Dev/dissertation/Data/WikipediaHomographData/data/three_split_stratified_variant_data_corrected/dev_swbd_aug\\axes.tsv\n"
     ]
    },
    {
     "name": "stderr",
     "output_type": "stream",
     "text": [
      "\r",
      "18it [00:00, 25.50it/s]"
     ]
    },
    {
     "name": "stdout",
     "output_type": "stream",
     "text": [
      "C:/Users/jseal/Dev/dissertation/Data/WikipediaHomographData/data/three_split_stratified_variant_data_corrected/dev_swbd_aug/\n",
      "C:/Users/jseal/Dev/dissertation/Data/WikipediaHomographData/data/three_split_stratified_variant_data_corrected/dev_swbd_aug\\bass.tsv\n",
      "C:/Users/jseal/Dev/dissertation/Data/WikipediaHomographData/data/three_split_stratified_variant_data_corrected/dev_swbd_aug/\n",
      "C:/Users/jseal/Dev/dissertation/Data/WikipediaHomographData/data/three_split_stratified_variant_data_corrected/dev_swbd_aug\\blessed.tsv\n",
      "C:/Users/jseal/Dev/dissertation/Data/WikipediaHomographData/data/three_split_stratified_variant_data_corrected/dev_swbd_aug/\n",
      "C:/Users/jseal/Dev/dissertation/Data/WikipediaHomographData/data/three_split_stratified_variant_data_corrected/dev_swbd_aug\\bow.tsv\n",
      "C:/Users/jseal/Dev/dissertation/Data/WikipediaHomographData/data/three_split_stratified_variant_data_corrected/dev_swbd_aug/\n",
      "C:/Users/jseal/Dev/dissertation/Data/WikipediaHomographData/data/three_split_stratified_variant_data_corrected/dev_swbd_aug\\buffet.tsv\n",
      "C:/Users/jseal/Dev/dissertation/Data/WikipediaHomographData/data/three_split_stratified_variant_data_corrected/dev_swbd_aug/\n",
      "C:/Users/jseal/Dev/dissertation/Data/WikipediaHomographData/data/three_split_stratified_variant_data_corrected/dev_swbd_aug\\celtic.tsv\n"
     ]
    },
    {
     "name": "stderr",
     "output_type": "stream",
     "text": [
      "24it [00:00, 24.72it/s]"
     ]
    },
    {
     "name": "stdout",
     "output_type": "stream",
     "text": [
      "C:/Users/jseal/Dev/dissertation/Data/WikipediaHomographData/data/three_split_stratified_variant_data_corrected/dev_swbd_aug/\n",
      "C:/Users/jseal/Dev/dissertation/Data/WikipediaHomographData/data/three_split_stratified_variant_data_corrected/dev_swbd_aug\\close.tsv\n",
      "C:/Users/jseal/Dev/dissertation/Data/WikipediaHomographData/data/three_split_stratified_variant_data_corrected/dev_swbd_aug/\n",
      "C:/Users/jseal/Dev/dissertation/Data/WikipediaHomographData/data/three_split_stratified_variant_data_corrected/dev_swbd_aug\\combine.tsv\n",
      "C:/Users/jseal/Dev/dissertation/Data/WikipediaHomographData/data/three_split_stratified_variant_data_corrected/dev_swbd_aug/\n",
      "C:/Users/jseal/Dev/dissertation/Data/WikipediaHomographData/data/three_split_stratified_variant_data_corrected/dev_swbd_aug\\compound.tsv\n",
      "C:/Users/jseal/Dev/dissertation/Data/WikipediaHomographData/data/three_split_stratified_variant_data_corrected/dev_swbd_aug/\n",
      "C:/Users/jseal/Dev/dissertation/Data/WikipediaHomographData/data/three_split_stratified_variant_data_corrected/dev_swbd_aug\\compress.tsv\n",
      "C:/Users/jseal/Dev/dissertation/Data/WikipediaHomographData/data/three_split_stratified_variant_data_corrected/dev_swbd_aug/\n",
      "C:/Users/jseal/Dev/dissertation/Data/WikipediaHomographData/data/three_split_stratified_variant_data_corrected/dev_swbd_aug\\conduct.tsv\n"
     ]
    },
    {
     "name": "stderr",
     "output_type": "stream",
     "text": [
      "30it [00:01, 24.86it/s]"
     ]
    },
    {
     "name": "stdout",
     "output_type": "stream",
     "text": [
      "C:/Users/jseal/Dev/dissertation/Data/WikipediaHomographData/data/three_split_stratified_variant_data_corrected/dev_swbd_aug/\n",
      "C:/Users/jseal/Dev/dissertation/Data/WikipediaHomographData/data/three_split_stratified_variant_data_corrected/dev_swbd_aug\\confines.tsv\n",
      "C:/Users/jseal/Dev/dissertation/Data/WikipediaHomographData/data/three_split_stratified_variant_data_corrected/dev_swbd_aug/\n",
      "C:/Users/jseal/Dev/dissertation/Data/WikipediaHomographData/data/three_split_stratified_variant_data_corrected/dev_swbd_aug\\conflict.tsv\n",
      "C:/Users/jseal/Dev/dissertation/Data/WikipediaHomographData/data/three_split_stratified_variant_data_corrected/dev_swbd_aug/\n",
      "C:/Users/jseal/Dev/dissertation/Data/WikipediaHomographData/data/three_split_stratified_variant_data_corrected/dev_swbd_aug\\conjugate.tsv\n",
      "C:/Users/jseal/Dev/dissertation/Data/WikipediaHomographData/data/three_split_stratified_variant_data_corrected/dev_swbd_aug/\n",
      "C:/Users/jseal/Dev/dissertation/Data/WikipediaHomographData/data/three_split_stratified_variant_data_corrected/dev_swbd_aug\\conscript.tsv\n",
      "C:/Users/jseal/Dev/dissertation/Data/WikipediaHomographData/data/three_split_stratified_variant_data_corrected/dev_swbd_aug/\n",
      "C:/Users/jseal/Dev/dissertation/Data/WikipediaHomographData/data/three_split_stratified_variant_data_corrected/dev_swbd_aug\\construct.tsv\n"
     ]
    },
    {
     "name": "stderr",
     "output_type": "stream",
     "text": [
      "\r",
      "33it [00:01, 25.17it/s]"
     ]
    },
    {
     "name": "stdout",
     "output_type": "stream",
     "text": [
      "C:/Users/jseal/Dev/dissertation/Data/WikipediaHomographData/data/three_split_stratified_variant_data_corrected/dev_swbd_aug/\n",
      "C:/Users/jseal/Dev/dissertation/Data/WikipediaHomographData/data/three_split_stratified_variant_data_corrected/dev_swbd_aug\\consummate.tsv\n",
      "C:/Users/jseal/Dev/dissertation/Data/WikipediaHomographData/data/three_split_stratified_variant_data_corrected/dev_swbd_aug/\n",
      "C:/Users/jseal/Dev/dissertation/Data/WikipediaHomographData/data/three_split_stratified_variant_data_corrected/dev_swbd_aug\\content.tsv\n",
      "C:/Users/jseal/Dev/dissertation/Data/WikipediaHomographData/data/three_split_stratified_variant_data_corrected/dev_swbd_aug/\n",
      "C:/Users/jseal/Dev/dissertation/Data/WikipediaHomographData/data/three_split_stratified_variant_data_corrected/dev_swbd_aug\\contest.tsv\n",
      "C:/Users/jseal/Dev/dissertation/Data/WikipediaHomographData/data/three_split_stratified_variant_data_corrected/dev_swbd_aug/\n",
      "C:/Users/jseal/Dev/dissertation/Data/WikipediaHomographData/data/three_split_stratified_variant_data_corrected/dev_swbd_aug\\converse.tsv\n",
      "C:/Users/jseal/Dev/dissertation/Data/WikipediaHomographData/data/three_split_stratified_variant_data_corrected/dev_swbd_aug/\n",
      "C:/Users/jseal/Dev/dissertation/Data/WikipediaHomographData/data/three_split_stratified_variant_data_corrected/dev_swbd_aug\\convert.tsv\n",
      "C:/Users/jseal/Dev/dissertation/Data/WikipediaHomographData/data/three_split_stratified_variant_data_corrected/dev_swbd_aug/\n",
      "C:/Users/jseal/Dev/dissertation/Data/WikipediaHomographData/data/three_split_stratified_variant_data_corrected/dev_swbd_aug\\convict.tsv\n"
     ]
    },
    {
     "name": "stderr",
     "output_type": "stream",
     "text": [
      "39it [00:01, 26.09it/s]"
     ]
    },
    {
     "name": "stdout",
     "output_type": "stream",
     "text": [
      "C:/Users/jseal/Dev/dissertation/Data/WikipediaHomographData/data/three_split_stratified_variant_data_corrected/dev_swbd_aug/\n",
      "C:/Users/jseal/Dev/dissertation/Data/WikipediaHomographData/data/three_split_stratified_variant_data_corrected/dev_swbd_aug\\coordinate.tsv\n",
      "C:/Users/jseal/Dev/dissertation/Data/WikipediaHomographData/data/three_split_stratified_variant_data_corrected/dev_swbd_aug/\n",
      "C:/Users/jseal/Dev/dissertation/Data/WikipediaHomographData/data/three_split_stratified_variant_data_corrected/dev_swbd_aug\\correlate.tsv\n",
      "C:/Users/jseal/Dev/dissertation/Data/WikipediaHomographData/data/three_split_stratified_variant_data_corrected/dev_swbd_aug/\n",
      "C:/Users/jseal/Dev/dissertation/Data/WikipediaHomographData/data/three_split_stratified_variant_data_corrected/dev_swbd_aug\\decrease.tsv\n",
      "C:/Users/jseal/Dev/dissertation/Data/WikipediaHomographData/data/three_split_stratified_variant_data_corrected/dev_swbd_aug/\n",
      "C:/Users/jseal/Dev/dissertation/Data/WikipediaHomographData/data/three_split_stratified_variant_data_corrected/dev_swbd_aug\\defect.tsv\n",
      "C:/Users/jseal/Dev/dissertation/Data/WikipediaHomographData/data/three_split_stratified_variant_data_corrected/dev_swbd_aug/\n",
      "C:/Users/jseal/Dev/dissertation/Data/WikipediaHomographData/data/three_split_stratified_variant_data_corrected/dev_swbd_aug\\degenerate.tsv\n",
      "C:/Users/jseal/Dev/dissertation/Data/WikipediaHomographData/data/three_split_stratified_variant_data_corrected/dev_swbd_aug/\n",
      "C:/Users/jseal/Dev/dissertation/Data/WikipediaHomographData/data/three_split_stratified_variant_data_corrected/dev_swbd_aug\\delegate.tsv\n"
     ]
    },
    {
     "name": "stderr",
     "output_type": "stream",
     "text": [
      "45it [00:01, 25.71it/s]"
     ]
    },
    {
     "name": "stdout",
     "output_type": "stream",
     "text": [
      "C:/Users/jseal/Dev/dissertation/Data/WikipediaHomographData/data/three_split_stratified_variant_data_corrected/dev_swbd_aug/\n",
      "C:/Users/jseal/Dev/dissertation/Data/WikipediaHomographData/data/three_split_stratified_variant_data_corrected/dev_swbd_aug\\deliberate.tsv\n",
      "C:/Users/jseal/Dev/dissertation/Data/WikipediaHomographData/data/three_split_stratified_variant_data_corrected/dev_swbd_aug/\n",
      "C:/Users/jseal/Dev/dissertation/Data/WikipediaHomographData/data/three_split_stratified_variant_data_corrected/dev_swbd_aug\\diagnoses.tsv\n",
      "C:/Users/jseal/Dev/dissertation/Data/WikipediaHomographData/data/three_split_stratified_variant_data_corrected/dev_swbd_aug/\n",
      "C:/Users/jseal/Dev/dissertation/Data/WikipediaHomographData/data/three_split_stratified_variant_data_corrected/dev_swbd_aug\\diffuse.tsv\n",
      "C:/Users/jseal/Dev/dissertation/Data/WikipediaHomographData/data/three_split_stratified_variant_data_corrected/dev_swbd_aug/\n",
      "C:/Users/jseal/Dev/dissertation/Data/WikipediaHomographData/data/three_split_stratified_variant_data_corrected/dev_swbd_aug\\discard.tsv\n",
      "C:/Users/jseal/Dev/dissertation/Data/WikipediaHomographData/data/three_split_stratified_variant_data_corrected/dev_swbd_aug/\n",
      "C:/Users/jseal/Dev/dissertation/Data/WikipediaHomographData/data/three_split_stratified_variant_data_corrected/dev_swbd_aug\\discharge.tsv\n"
     ]
    },
    {
     "name": "stderr",
     "output_type": "stream",
     "text": [
      "51it [00:02, 25.66it/s]"
     ]
    },
    {
     "name": "stdout",
     "output_type": "stream",
     "text": [
      "C:/Users/jseal/Dev/dissertation/Data/WikipediaHomographData/data/three_split_stratified_variant_data_corrected/dev_swbd_aug/\n",
      "C:/Users/jseal/Dev/dissertation/Data/WikipediaHomographData/data/three_split_stratified_variant_data_corrected/dev_swbd_aug\\discount.tsv\n",
      "C:/Users/jseal/Dev/dissertation/Data/WikipediaHomographData/data/three_split_stratified_variant_data_corrected/dev_swbd_aug/\n",
      "C:/Users/jseal/Dev/dissertation/Data/WikipediaHomographData/data/three_split_stratified_variant_data_corrected/dev_swbd_aug\\document.tsv\n",
      "C:/Users/jseal/Dev/dissertation/Data/WikipediaHomographData/data/three_split_stratified_variant_data_corrected/dev_swbd_aug/\n",
      "C:/Users/jseal/Dev/dissertation/Data/WikipediaHomographData/data/three_split_stratified_variant_data_corrected/dev_swbd_aug\\dove.tsv\n",
      "C:/Users/jseal/Dev/dissertation/Data/WikipediaHomographData/data/three_split_stratified_variant_data_corrected/dev_swbd_aug/\n",
      "C:/Users/jseal/Dev/dissertation/Data/WikipediaHomographData/data/three_split_stratified_variant_data_corrected/dev_swbd_aug\\duplicate.tsv\n",
      "C:/Users/jseal/Dev/dissertation/Data/WikipediaHomographData/data/three_split_stratified_variant_data_corrected/dev_swbd_aug/\n",
      "C:/Users/jseal/Dev/dissertation/Data/WikipediaHomographData/data/three_split_stratified_variant_data_corrected/dev_swbd_aug\\escort.tsv\n",
      "C:/Users/jseal/Dev/dissertation/Data/WikipediaHomographData/data/three_split_stratified_variant_data_corrected/dev_swbd_aug/"
     ]
    },
    {
     "name": "stderr",
     "output_type": "stream",
     "text": [
      "57it [00:02, 25.04it/s]"
     ]
    },
    {
     "name": "stdout",
     "output_type": "stream",
     "text": [
      "\n",
      "C:/Users/jseal/Dev/dissertation/Data/WikipediaHomographData/data/three_split_stratified_variant_data_corrected/dev_swbd_aug\\estimate.tsv\n",
      "C:/Users/jseal/Dev/dissertation/Data/WikipediaHomographData/data/three_split_stratified_variant_data_corrected/dev_swbd_aug/\n",
      "C:/Users/jseal/Dev/dissertation/Data/WikipediaHomographData/data/three_split_stratified_variant_data_corrected/dev_swbd_aug\\excuse.tsv\n",
      "C:/Users/jseal/Dev/dissertation/Data/WikipediaHomographData/data/three_split_stratified_variant_data_corrected/dev_swbd_aug/\n",
      "C:/Users/jseal/Dev/dissertation/Data/WikipediaHomographData/data/three_split_stratified_variant_data_corrected/dev_swbd_aug\\exploit.tsv\n",
      "C:/Users/jseal/Dev/dissertation/Data/WikipediaHomographData/data/three_split_stratified_variant_data_corrected/dev_swbd_aug/\n",
      "C:/Users/jseal/Dev/dissertation/Data/WikipediaHomographData/data/three_split_stratified_variant_data_corrected/dev_swbd_aug\\export.tsv\n",
      "C:/Users/jseal/Dev/dissertation/Data/WikipediaHomographData/data/three_split_stratified_variant_data_corrected/dev_swbd_aug/\n",
      "C:/Users/jseal/Dev/dissertation/Data/WikipediaHomographData/data/three_split_stratified_variant_data_corrected/dev_swbd_aug\\expose.tsv\n"
     ]
    },
    {
     "name": "stderr",
     "output_type": "stream",
     "text": [
      "\r",
      "60it [00:02, 24.68it/s]"
     ]
    },
    {
     "name": "stdout",
     "output_type": "stream",
     "text": [
      "C:/Users/jseal/Dev/dissertation/Data/WikipediaHomographData/data/three_split_stratified_variant_data_corrected/dev_swbd_aug/\n",
      "C:/Users/jseal/Dev/dissertation/Data/WikipediaHomographData/data/three_split_stratified_variant_data_corrected/dev_swbd_aug\\extract.tsv\n",
      "C:/Users/jseal/Dev/dissertation/Data/WikipediaHomographData/data/three_split_stratified_variant_data_corrected/dev_swbd_aug/\n",
      "C:/Users/jseal/Dev/dissertation/Data/WikipediaHomographData/data/three_split_stratified_variant_data_corrected/dev_swbd_aug\\fragment.tsv\n",
      "C:/Users/jseal/Dev/dissertation/Data/WikipediaHomographData/data/three_split_stratified_variant_data_corrected/dev_swbd_aug/\n",
      "C:/Users/jseal/Dev/dissertation/Data/WikipediaHomographData/data/three_split_stratified_variant_data_corrected/dev_swbd_aug\\frequent.tsv\n",
      "C:/Users/jseal/Dev/dissertation/Data/WikipediaHomographData/data/three_split_stratified_variant_data_corrected/dev_swbd_aug/\n",
      "C:/Users/jseal/Dev/dissertation/Data/WikipediaHomographData/data/three_split_stratified_variant_data_corrected/dev_swbd_aug\\graduate.tsv\n",
      "C:/Users/jseal/Dev/dissertation/Data/WikipediaHomographData/data/three_split_stratified_variant_data_corrected/dev_swbd_aug/\n",
      "C:/Users/jseal/Dev/dissertation/Data/WikipediaHomographData/data/three_split_stratified_variant_data_corrected/dev_swbd_aug\\impact.tsv\n"
     ]
    },
    {
     "name": "stderr",
     "output_type": "stream",
     "text": [
      "66it [00:02, 24.96it/s]"
     ]
    },
    {
     "name": "stdout",
     "output_type": "stream",
     "text": [
      "C:/Users/jseal/Dev/dissertation/Data/WikipediaHomographData/data/three_split_stratified_variant_data_corrected/dev_swbd_aug/\n",
      "C:/Users/jseal/Dev/dissertation/Data/WikipediaHomographData/data/three_split_stratified_variant_data_corrected/dev_swbd_aug\\implant.tsv\n",
      "C:/Users/jseal/Dev/dissertation/Data/WikipediaHomographData/data/three_split_stratified_variant_data_corrected/dev_swbd_aug/\n",
      "C:/Users/jseal/Dev/dissertation/Data/WikipediaHomographData/data/three_split_stratified_variant_data_corrected/dev_swbd_aug\\implement.tsv\n",
      "C:/Users/jseal/Dev/dissertation/Data/WikipediaHomographData/data/three_split_stratified_variant_data_corrected/dev_swbd_aug/\n",
      "C:/Users/jseal/Dev/dissertation/Data/WikipediaHomographData/data/three_split_stratified_variant_data_corrected/dev_swbd_aug\\import.tsv\n",
      "C:/Users/jseal/Dev/dissertation/Data/WikipediaHomographData/data/three_split_stratified_variant_data_corrected/dev_swbd_aug/\n",
      "C:/Users/jseal/Dev/dissertation/Data/WikipediaHomographData/data/three_split_stratified_variant_data_corrected/dev_swbd_aug\\incline.tsv\n",
      "C:/Users/jseal/Dev/dissertation/Data/WikipediaHomographData/data/three_split_stratified_variant_data_corrected/dev_swbd_aug/\n",
      "C:/Users/jseal/Dev/dissertation/Data/WikipediaHomographData/data/three_split_stratified_variant_data_corrected/dev_swbd_aug\\increase.tsv\n",
      "C:/Users/jseal/Dev/dissertation/Data/WikipediaHomographData/data/three_split_stratified_variant_data_corrected/dev_swbd_aug/\n",
      "C:/Users/jseal/Dev/dissertation/Data/WikipediaHomographData/data/three_split_stratified_variant_data_corrected/dev_swbd_aug\\increment.tsv\n"
     ]
    },
    {
     "name": "stderr",
     "output_type": "stream",
     "text": [
      "72it [00:02, 25.50it/s]"
     ]
    },
    {
     "name": "stdout",
     "output_type": "stream",
     "text": [
      "C:/Users/jseal/Dev/dissertation/Data/WikipediaHomographData/data/three_split_stratified_variant_data_corrected/dev_swbd_aug/\n",
      "C:/Users/jseal/Dev/dissertation/Data/WikipediaHomographData/data/three_split_stratified_variant_data_corrected/dev_swbd_aug\\initiate.tsv\n",
      "C:/Users/jseal/Dev/dissertation/Data/WikipediaHomographData/data/three_split_stratified_variant_data_corrected/dev_swbd_aug/\n",
      "C:/Users/jseal/Dev/dissertation/Data/WikipediaHomographData/data/three_split_stratified_variant_data_corrected/dev_swbd_aug\\insert.tsv\n",
      "C:/Users/jseal/Dev/dissertation/Data/WikipediaHomographData/data/three_split_stratified_variant_data_corrected/dev_swbd_aug/\n",
      "C:/Users/jseal/Dev/dissertation/Data/WikipediaHomographData/data/three_split_stratified_variant_data_corrected/dev_swbd_aug\\insult.tsv\n",
      "C:/Users/jseal/Dev/dissertation/Data/WikipediaHomographData/data/three_split_stratified_variant_data_corrected/dev_swbd_aug/\n",
      "C:/Users/jseal/Dev/dissertation/Data/WikipediaHomographData/data/three_split_stratified_variant_data_corrected/dev_swbd_aug\\intrigue.tsv\n",
      "C:/Users/jseal/Dev/dissertation/Data/WikipediaHomographData/data/three_split_stratified_variant_data_corrected/dev_swbd_aug/\n",
      "C:/Users/jseal/Dev/dissertation/Data/WikipediaHomographData/data/three_split_stratified_variant_data_corrected/dev_swbd_aug\\invalid.tsv\n",
      "C:/Users/jseal/Dev/dissertation/Data/WikipediaHomographData/data/three_split_stratified_variant_data_corrected/dev_swbd_aug/"
     ]
    },
    {
     "name": "stderr",
     "output_type": "stream",
     "text": [
      "\r",
      "75it [00:02, 24.87it/s]"
     ]
    },
    {
     "name": "stdout",
     "output_type": "stream",
     "text": [
      "\n",
      "C:/Users/jseal/Dev/dissertation/Data/WikipediaHomographData/data/three_split_stratified_variant_data_corrected/dev_swbd_aug\\invert.tsv\n",
      "C:/Users/jseal/Dev/dissertation/Data/WikipediaHomographData/data/three_split_stratified_variant_data_corrected/dev_swbd_aug/\n",
      "C:/Users/jseal/Dev/dissertation/Data/WikipediaHomographData/data/three_split_stratified_variant_data_corrected/dev_swbd_aug\\invite.tsv\n",
      "C:/Users/jseal/Dev/dissertation/Data/WikipediaHomographData/data/three_split_stratified_variant_data_corrected/dev_swbd_aug/\n",
      "C:/Users/jseal/Dev/dissertation/Data/WikipediaHomographData/data/three_split_stratified_variant_data_corrected/dev_swbd_aug\\isolate.tsv\n",
      "C:/Users/jseal/Dev/dissertation/Data/WikipediaHomographData/data/three_split_stratified_variant_data_corrected/dev_swbd_aug/\n",
      "C:/Users/jseal/Dev/dissertation/Data/WikipediaHomographData/data/three_split_stratified_variant_data_corrected/dev_swbd_aug\\laminate.tsv\n",
      "C:/Users/jseal/Dev/dissertation/Data/WikipediaHomographData/data/three_split_stratified_variant_data_corrected/dev_swbd_aug/"
     ]
    },
    {
     "name": "stderr",
     "output_type": "stream",
     "text": [
      "81it [00:03, 24.50it/s]"
     ]
    },
    {
     "name": "stdout",
     "output_type": "stream",
     "text": [
      "\n",
      "C:/Users/jseal/Dev/dissertation/Data/WikipediaHomographData/data/three_split_stratified_variant_data_corrected/dev_swbd_aug\\lead.tsv\n",
      "C:/Users/jseal/Dev/dissertation/Data/WikipediaHomographData/data/three_split_stratified_variant_data_corrected/dev_swbd_aug/\n",
      "C:/Users/jseal/Dev/dissertation/Data/WikipediaHomographData/data/three_split_stratified_variant_data_corrected/dev_swbd_aug\\learned.tsv\n",
      "C:/Users/jseal/Dev/dissertation/Data/WikipediaHomographData/data/three_split_stratified_variant_data_corrected/dev_swbd_aug/\n",
      "C:/Users/jseal/Dev/dissertation/Data/WikipediaHomographData/data/three_split_stratified_variant_data_corrected/dev_swbd_aug\\live.tsv\n",
      "C:/Users/jseal/Dev/dissertation/Data/WikipediaHomographData/data/three_split_stratified_variant_data_corrected/dev_swbd_aug/\n",
      "C:/Users/jseal/Dev/dissertation/Data/WikipediaHomographData/data/three_split_stratified_variant_data_corrected/dev_swbd_aug\\lives.tsv\n",
      "C:/Users/jseal/Dev/dissertation/Data/WikipediaHomographData/data/three_split_stratified_variant_data_corrected/dev_swbd_aug/\n",
      "C:/Users/jseal/Dev/dissertation/Data/WikipediaHomographData/data/three_split_stratified_variant_data_corrected/dev_swbd_aug\\minute.tsv\n",
      "C:/Users/jseal/Dev/dissertation/Data/WikipediaHomographData/data/three_split_stratified_variant_data_corrected/dev_swbd_aug/\n",
      "C:/Users/jseal/Dev/dissertation/Data/WikipediaHomographData/data/three_split_stratified_variant_data_corrected/dev_swbd_aug\\misuse.tsv\n"
     ]
    },
    {
     "name": "stderr",
     "output_type": "stream",
     "text": [
      "87it [00:03, 25.15it/s]"
     ]
    },
    {
     "name": "stdout",
     "output_type": "stream",
     "text": [
      "C:/Users/jseal/Dev/dissertation/Data/WikipediaHomographData/data/three_split_stratified_variant_data_corrected/dev_swbd_aug/\n",
      "C:/Users/jseal/Dev/dissertation/Data/WikipediaHomographData/data/three_split_stratified_variant_data_corrected/dev_swbd_aug\\mobile.tsv\n",
      "C:/Users/jseal/Dev/dissertation/Data/WikipediaHomographData/data/three_split_stratified_variant_data_corrected/dev_swbd_aug/\n",
      "C:/Users/jseal/Dev/dissertation/Data/WikipediaHomographData/data/three_split_stratified_variant_data_corrected/dev_swbd_aug\\nestle.tsv\n",
      "C:/Users/jseal/Dev/dissertation/Data/WikipediaHomographData/data/three_split_stratified_variant_data_corrected/dev_swbd_aug/\n",
      "C:/Users/jseal/Dev/dissertation/Data/WikipediaHomographData/data/three_split_stratified_variant_data_corrected/dev_swbd_aug\\ornament.tsv\n",
      "C:/Users/jseal/Dev/dissertation/Data/WikipediaHomographData/data/three_split_stratified_variant_data_corrected/dev_swbd_aug/\n",
      "C:/Users/jseal/Dev/dissertation/Data/WikipediaHomographData/data/three_split_stratified_variant_data_corrected/dev_swbd_aug\\overthrow.tsv\n",
      "C:/Users/jseal/Dev/dissertation/Data/WikipediaHomographData/data/three_split_stratified_variant_data_corrected/dev_swbd_aug/\n",
      "C:/Users/jseal/Dev/dissertation/Data/WikipediaHomographData/data/three_split_stratified_variant_data_corrected/dev_swbd_aug\\pasty.tsv\n",
      "C:/Users/jseal/Dev/dissertation/Data/WikipediaHomographData/data/three_split_stratified_variant_data_corrected/dev_swbd_aug/\n",
      "C:/Users/jseal/Dev/dissertation/Data/WikipediaHomographData/data/three_split_stratified_variant_data_corrected/dev_swbd_aug\\perfect.tsv\n"
     ]
    },
    {
     "name": "stderr",
     "output_type": "stream",
     "text": [
      "93it [00:03, 25.26it/s]"
     ]
    },
    {
     "name": "stdout",
     "output_type": "stream",
     "text": [
      "C:/Users/jseal/Dev/dissertation/Data/WikipediaHomographData/data/three_split_stratified_variant_data_corrected/dev_swbd_aug/\n",
      "C:/Users/jseal/Dev/dissertation/Data/WikipediaHomographData/data/three_split_stratified_variant_data_corrected/dev_swbd_aug\\perfume.tsv\n",
      "C:/Users/jseal/Dev/dissertation/Data/WikipediaHomographData/data/three_split_stratified_variant_data_corrected/dev_swbd_aug/\n",
      "C:/Users/jseal/Dev/dissertation/Data/WikipediaHomographData/data/three_split_stratified_variant_data_corrected/dev_swbd_aug\\permit.tsv\n",
      "C:/Users/jseal/Dev/dissertation/Data/WikipediaHomographData/data/three_split_stratified_variant_data_corrected/dev_swbd_aug/\n",
      "C:/Users/jseal/Dev/dissertation/Data/WikipediaHomographData/data/three_split_stratified_variant_data_corrected/dev_swbd_aug\\pervert.tsv\n",
      "C:/Users/jseal/Dev/dissertation/Data/WikipediaHomographData/data/three_split_stratified_variant_data_corrected/dev_swbd_aug/\n",
      "C:/Users/jseal/Dev/dissertation/Data/WikipediaHomographData/data/three_split_stratified_variant_data_corrected/dev_swbd_aug\\polish.tsv\n",
      "C:/Users/jseal/Dev/dissertation/Data/WikipediaHomographData/data/three_split_stratified_variant_data_corrected/dev_swbd_aug/\n",
      "C:/Users/jseal/Dev/dissertation/Data/WikipediaHomographData/data/three_split_stratified_variant_data_corrected/dev_swbd_aug\\postulate.tsv\n",
      "C:/Users/jseal/Dev/dissertation/Data/WikipediaHomographData/data/three_split_stratified_variant_data_corrected/dev_swbd_aug/\n",
      "C:/Users/jseal/Dev/dissertation/Data/WikipediaHomographData/data/three_split_stratified_variant_data_corrected/dev_swbd_aug\\precipitate.tsv\n"
     ]
    },
    {
     "name": "stderr",
     "output_type": "stream",
     "text": [
      "99it [00:03, 25.77it/s]"
     ]
    },
    {
     "name": "stdout",
     "output_type": "stream",
     "text": [
      "C:/Users/jseal/Dev/dissertation/Data/WikipediaHomographData/data/three_split_stratified_variant_data_corrected/dev_swbd_aug/\n",
      "C:/Users/jseal/Dev/dissertation/Data/WikipediaHomographData/data/three_split_stratified_variant_data_corrected/dev_swbd_aug\\present.tsv\n",
      "C:/Users/jseal/Dev/dissertation/Data/WikipediaHomographData/data/three_split_stratified_variant_data_corrected/dev_swbd_aug/\n",
      "C:/Users/jseal/Dev/dissertation/Data/WikipediaHomographData/data/three_split_stratified_variant_data_corrected/dev_swbd_aug\\produce.tsv\n",
      "C:/Users/jseal/Dev/dissertation/Data/WikipediaHomographData/data/three_split_stratified_variant_data_corrected/dev_swbd_aug/\n",
      "C:/Users/jseal/Dev/dissertation/Data/WikipediaHomographData/data/three_split_stratified_variant_data_corrected/dev_swbd_aug\\progress.tsv\n",
      "C:/Users/jseal/Dev/dissertation/Data/WikipediaHomographData/data/three_split_stratified_variant_data_corrected/dev_swbd_aug/\n",
      "C:/Users/jseal/Dev/dissertation/Data/WikipediaHomographData/data/three_split_stratified_variant_data_corrected/dev_swbd_aug\\protest.tsv\n",
      "C:/Users/jseal/Dev/dissertation/Data/WikipediaHomographData/data/three_split_stratified_variant_data_corrected/dev_swbd_aug/\n",
      "C:/Users/jseal/Dev/dissertation/Data/WikipediaHomographData/data/three_split_stratified_variant_data_corrected/dev_swbd_aug\\read.tsv\n"
     ]
    },
    {
     "name": "stderr",
     "output_type": "stream",
     "text": [
      "105it [00:04, 25.25it/s]"
     ]
    },
    {
     "name": "stdout",
     "output_type": "stream",
     "text": [
      "C:/Users/jseal/Dev/dissertation/Data/WikipediaHomographData/data/three_split_stratified_variant_data_corrected/dev_swbd_aug/\n",
      "C:/Users/jseal/Dev/dissertation/Data/WikipediaHomographData/data/three_split_stratified_variant_data_corrected/dev_swbd_aug\\reading.tsv\n",
      "C:/Users/jseal/Dev/dissertation/Data/WikipediaHomographData/data/three_split_stratified_variant_data_corrected/dev_swbd_aug/\n",
      "C:/Users/jseal/Dev/dissertation/Data/WikipediaHomographData/data/three_split_stratified_variant_data_corrected/dev_swbd_aug\\rebel.tsv\n",
      "C:/Users/jseal/Dev/dissertation/Data/WikipediaHomographData/data/three_split_stratified_variant_data_corrected/dev_swbd_aug/\n",
      "C:/Users/jseal/Dev/dissertation/Data/WikipediaHomographData/data/three_split_stratified_variant_data_corrected/dev_swbd_aug\\record.tsv\n",
      "C:/Users/jseal/Dev/dissertation/Data/WikipediaHomographData/data/three_split_stratified_variant_data_corrected/dev_swbd_aug/\n",
      "C:/Users/jseal/Dev/dissertation/Data/WikipediaHomographData/data/three_split_stratified_variant_data_corrected/dev_swbd_aug\\recount.tsv\n",
      "C:/Users/jseal/Dev/dissertation/Data/WikipediaHomographData/data/three_split_stratified_variant_data_corrected/dev_swbd_aug/\n",
      "C:/Users/jseal/Dev/dissertation/Data/WikipediaHomographData/data/three_split_stratified_variant_data_corrected/dev_swbd_aug\\refund.tsv\n"
     ]
    },
    {
     "name": "stderr",
     "output_type": "stream",
     "text": [
      "\r",
      "108it [00:04, 25.68it/s]"
     ]
    },
    {
     "name": "stdout",
     "output_type": "stream",
     "text": [
      "C:/Users/jseal/Dev/dissertation/Data/WikipediaHomographData/data/three_split_stratified_variant_data_corrected/dev_swbd_aug/\n",
      "C:/Users/jseal/Dev/dissertation/Data/WikipediaHomographData/data/three_split_stratified_variant_data_corrected/dev_swbd_aug\\refuse.tsv\n",
      "C:/Users/jseal/Dev/dissertation/Data/WikipediaHomographData/data/three_split_stratified_variant_data_corrected/dev_swbd_aug/\n",
      "C:/Users/jseal/Dev/dissertation/Data/WikipediaHomographData/data/three_split_stratified_variant_data_corrected/dev_swbd_aug\\reject.tsv\n",
      "C:/Users/jseal/Dev/dissertation/Data/WikipediaHomographData/data/three_split_stratified_variant_data_corrected/dev_swbd_aug/\n",
      "C:/Users/jseal/Dev/dissertation/Data/WikipediaHomographData/data/three_split_stratified_variant_data_corrected/dev_swbd_aug\\rerelease.tsv\n",
      "C:/Users/jseal/Dev/dissertation/Data/WikipediaHomographData/data/three_split_stratified_variant_data_corrected/dev_swbd_aug/\n",
      "C:/Users/jseal/Dev/dissertation/Data/WikipediaHomographData/data/three_split_stratified_variant_data_corrected/dev_swbd_aug\\resume.tsv\n",
      "C:/Users/jseal/Dev/dissertation/Data/WikipediaHomographData/data/three_split_stratified_variant_data_corrected/dev_swbd_aug/\n",
      "C:/Users/jseal/Dev/dissertation/Data/WikipediaHomographData/data/three_split_stratified_variant_data_corrected/dev_swbd_aug\\retard.tsv\n"
     ]
    },
    {
     "name": "stderr",
     "output_type": "stream",
     "text": [
      "114it [00:04, 25.44it/s]"
     ]
    },
    {
     "name": "stdout",
     "output_type": "stream",
     "text": [
      "C:/Users/jseal/Dev/dissertation/Data/WikipediaHomographData/data/three_split_stratified_variant_data_corrected/dev_swbd_aug/\n",
      "C:/Users/jseal/Dev/dissertation/Data/WikipediaHomographData/data/three_split_stratified_variant_data_corrected/dev_swbd_aug\\rodeo.tsv\n",
      "C:/Users/jseal/Dev/dissertation/Data/WikipediaHomographData/data/three_split_stratified_variant_data_corrected/dev_swbd_aug/\n",
      "C:/Users/jseal/Dev/dissertation/Data/WikipediaHomographData/data/three_split_stratified_variant_data_corrected/dev_swbd_aug\\sake.tsv\n",
      "C:/Users/jseal/Dev/dissertation/Data/WikipediaHomographData/data/three_split_stratified_variant_data_corrected/dev_swbd_aug/\n",
      "C:/Users/jseal/Dev/dissertation/Data/WikipediaHomographData/data/three_split_stratified_variant_data_corrected/dev_swbd_aug\\separate.tsv\n",
      "C:/Users/jseal/Dev/dissertation/Data/WikipediaHomographData/data/three_split_stratified_variant_data_corrected/dev_swbd_aug/\n",
      "C:/Users/jseal/Dev/dissertation/Data/WikipediaHomographData/data/three_split_stratified_variant_data_corrected/dev_swbd_aug\\sow.tsv\n",
      "C:/Users/jseal/Dev/dissertation/Data/WikipediaHomographData/data/three_split_stratified_variant_data_corrected/dev_swbd_aug/\n",
      "C:/Users/jseal/Dev/dissertation/Data/WikipediaHomographData/data/three_split_stratified_variant_data_corrected/dev_swbd_aug\\subordinate.tsv\n"
     ]
    },
    {
     "name": "stderr",
     "output_type": "stream",
     "text": [
      "\r",
      "117it [00:04, 24.71it/s]"
     ]
    },
    {
     "name": "stdout",
     "output_type": "stream",
     "text": [
      "C:/Users/jseal/Dev/dissertation/Data/WikipediaHomographData/data/three_split_stratified_variant_data_corrected/dev_swbd_aug/\n",
      "C:/Users/jseal/Dev/dissertation/Data/WikipediaHomographData/data/three_split_stratified_variant_data_corrected/dev_swbd_aug\\supplement.tsv\n",
      "C:/Users/jseal/Dev/dissertation/Data/WikipediaHomographData/data/three_split_stratified_variant_data_corrected/dev_swbd_aug/\n",
      "C:/Users/jseal/Dev/dissertation/Data/WikipediaHomographData/data/three_split_stratified_variant_data_corrected/dev_swbd_aug\\suspect.tsv\n",
      "C:/Users/jseal/Dev/dissertation/Data/WikipediaHomographData/data/three_split_stratified_variant_data_corrected/dev_swbd_aug/\n",
      "C:/Users/jseal/Dev/dissertation/Data/WikipediaHomographData/data/three_split_stratified_variant_data_corrected/dev_swbd_aug\\syndicate.tsv\n",
      "C:/Users/jseal/Dev/dissertation/Data/WikipediaHomographData/data/three_split_stratified_variant_data_corrected/dev_swbd_aug/\n",
      "C:/Users/jseal/Dev/dissertation/Data/WikipediaHomographData/data/three_split_stratified_variant_data_corrected/dev_swbd_aug\\tear.tsv\n",
      "C:/Users/jseal/Dev/dissertation/Data/WikipediaHomographData/data/three_split_stratified_variant_data_corrected/dev_swbd_aug/\n",
      "C:/Users/jseal/Dev/dissertation/Data/WikipediaHomographData/data/three_split_stratified_variant_data_corrected/dev_swbd_aug\\transform.tsv\n"
     ]
    },
    {
     "name": "stderr",
     "output_type": "stream",
     "text": [
      "123it [00:04, 24.20it/s]"
     ]
    },
    {
     "name": "stdout",
     "output_type": "stream",
     "text": [
      "C:/Users/jseal/Dev/dissertation/Data/WikipediaHomographData/data/three_split_stratified_variant_data_corrected/dev_swbd_aug/\n",
      "C:/Users/jseal/Dev/dissertation/Data/WikipediaHomographData/data/three_split_stratified_variant_data_corrected/dev_swbd_aug\\transplant.tsv\n",
      "C:/Users/jseal/Dev/dissertation/Data/WikipediaHomographData/data/three_split_stratified_variant_data_corrected/dev_swbd_aug/\n",
      "C:/Users/jseal/Dev/dissertation/Data/WikipediaHomographData/data/three_split_stratified_variant_data_corrected/dev_swbd_aug\\transport.tsv\n",
      "C:/Users/jseal/Dev/dissertation/Data/WikipediaHomographData/data/three_split_stratified_variant_data_corrected/dev_swbd_aug/\n",
      "C:/Users/jseal/Dev/dissertation/Data/WikipediaHomographData/data/three_split_stratified_variant_data_corrected/dev_swbd_aug\\upset.tsv\n",
      "C:/Users/jseal/Dev/dissertation/Data/WikipediaHomographData/data/three_split_stratified_variant_data_corrected/dev_swbd_aug/\n",
      "C:/Users/jseal/Dev/dissertation/Data/WikipediaHomographData/data/three_split_stratified_variant_data_corrected/dev_swbd_aug\\use.tsv\n",
      "C:/Users/jseal/Dev/dissertation/Data/WikipediaHomographData/data/three_split_stratified_variant_data_corrected/dev_swbd_aug/\n",
      "C:/Users/jseal/Dev/dissertation/Data/WikipediaHomographData/data/three_split_stratified_variant_data_corrected/dev_swbd_aug\\uses.tsv\n",
      "C:/Users/jseal/Dev/dissertation/Data/WikipediaHomographData/data/three_split_stratified_variant_data_corrected/dev_swbd_aug/\n",
      "C:/Users/jseal/Dev/dissertation/Data/WikipediaHomographData/data/three_split_stratified_variant_data_corrected/dev_swbd_aug\\wind.tsv\n"
     ]
    },
    {
     "name": "stderr",
     "output_type": "stream",
     "text": [
      "128it [00:05, 24.99it/s]\n",
      "0it [00:00, ?it/s]"
     ]
    },
    {
     "name": "stdout",
     "output_type": "stream",
     "text": [
      "C:/Users/jseal/Dev/dissertation/Data/WikipediaHomographData/data/three_split_stratified_variant_data_corrected/dev_swbd_aug/\n",
      "C:/Users/jseal/Dev/dissertation/Data/WikipediaHomographData/data/three_split_stratified_variant_data_corrected/dev_swbd_aug\\winds.tsv\n",
      "C:/Users/jseal/Dev/dissertation/Data/WikipediaHomographData/data/three_split_stratified_variant_data_corrected/dev_swbd_aug/\n",
      "C:/Users/jseal/Dev/dissertation/Data/WikipediaHomographData/data/three_split_stratified_variant_data_corrected/dev_swbd_aug\\wound.tsv\n",
      "C:/Users/jseal/Dev/dissertation/Data/WikipediaHomographData/data/three_split_stratified_variant_data_corrected/test_swbd_aug/\n",
      "C:/Users/jseal/Dev/dissertation/Data/WikipediaHomographData/data/three_split_stratified_variant_data_corrected/test_swbd_aug\\abuse.tsv\n",
      "C:/Users/jseal/Dev/dissertation/Data/WikipediaHomographData/data/three_split_stratified_variant_data_corrected/test_swbd_aug/\n",
      "C:/Users/jseal/Dev/dissertation/Data/WikipediaHomographData/data/three_split_stratified_variant_data_corrected/test_swbd_aug\\abuses.tsv\n",
      "C:/Users/jseal/Dev/dissertation/Data/WikipediaHomographData/data/three_split_stratified_variant_data_corrected/test_swbd_aug/\n",
      "C:/Users/jseal/Dev/dissertation/Data/WikipediaHomographData/data/three_split_stratified_variant_data_corrected/test_swbd_aug\\advocate.tsv\n"
     ]
    },
    {
     "name": "stderr",
     "output_type": "stream",
     "text": [
      "6it [00:00, 26.22it/s]"
     ]
    },
    {
     "name": "stdout",
     "output_type": "stream",
     "text": [
      "C:/Users/jseal/Dev/dissertation/Data/WikipediaHomographData/data/three_split_stratified_variant_data_corrected/test_swbd_aug/\n",
      "C:/Users/jseal/Dev/dissertation/Data/WikipediaHomographData/data/three_split_stratified_variant_data_corrected/test_swbd_aug\\affect.tsv\n",
      "C:/Users/jseal/Dev/dissertation/Data/WikipediaHomographData/data/three_split_stratified_variant_data_corrected/test_swbd_aug/\n",
      "C:/Users/jseal/Dev/dissertation/Data/WikipediaHomographData/data/three_split_stratified_variant_data_corrected/test_swbd_aug\\affiliate.tsv\n",
      "C:/Users/jseal/Dev/dissertation/Data/WikipediaHomographData/data/three_split_stratified_variant_data_corrected/test_swbd_aug/\n",
      "C:/Users/jseal/Dev/dissertation/Data/WikipediaHomographData/data/three_split_stratified_variant_data_corrected/test_swbd_aug\\aged.tsv\n",
      "C:/Users/jseal/Dev/dissertation/Data/WikipediaHomographData/data/three_split_stratified_variant_data_corrected/test_swbd_aug/\n",
      "C:/Users/jseal/Dev/dissertation/Data/WikipediaHomographData/data/three_split_stratified_variant_data_corrected/test_swbd_aug\\aggregate.tsv\n",
      "C:/Users/jseal/Dev/dissertation/Data/WikipediaHomographData/data/three_split_stratified_variant_data_corrected/test_swbd_aug/\n",
      "C:/Users/jseal/Dev/dissertation/Data/WikipediaHomographData/data/three_split_stratified_variant_data_corrected/test_swbd_aug\\alternate.tsv\n",
      "C:/Users/jseal/Dev/dissertation/Data/WikipediaHomographData/data/three_split_stratified_variant_data_corrected/test_swbd_aug/\n",
      "C:/Users/jseal/Dev/dissertation/Data/WikipediaHomographData/data/three_split_stratified_variant_data_corrected/test_swbd_aug\\analyses.tsv\n"
     ]
    },
    {
     "name": "stderr",
     "output_type": "stream",
     "text": [
      "12it [00:00, 26.17it/s]"
     ]
    },
    {
     "name": "stdout",
     "output_type": "stream",
     "text": [
      "C:/Users/jseal/Dev/dissertation/Data/WikipediaHomographData/data/three_split_stratified_variant_data_corrected/test_swbd_aug/\n",
      "C:/Users/jseal/Dev/dissertation/Data/WikipediaHomographData/data/three_split_stratified_variant_data_corrected/test_swbd_aug\\animate.tsv\n",
      "C:/Users/jseal/Dev/dissertation/Data/WikipediaHomographData/data/three_split_stratified_variant_data_corrected/test_swbd_aug/\n",
      "C:/Users/jseal/Dev/dissertation/Data/WikipediaHomographData/data/three_split_stratified_variant_data_corrected/test_swbd_aug\\approximate.tsv\n",
      "C:/Users/jseal/Dev/dissertation/Data/WikipediaHomographData/data/three_split_stratified_variant_data_corrected/test_swbd_aug/\n",
      "C:/Users/jseal/Dev/dissertation/Data/WikipediaHomographData/data/three_split_stratified_variant_data_corrected/test_swbd_aug\\articulate.tsv\n",
      "C:/Users/jseal/Dev/dissertation/Data/WikipediaHomographData/data/three_split_stratified_variant_data_corrected/test_swbd_aug/\n",
      "C:/Users/jseal/Dev/dissertation/Data/WikipediaHomographData/data/three_split_stratified_variant_data_corrected/test_swbd_aug\\associate.tsv\n",
      "C:/Users/jseal/Dev/dissertation/Data/WikipediaHomographData/data/three_split_stratified_variant_data_corrected/test_swbd_aug/\n",
      "C:/Users/jseal/Dev/dissertation/Data/WikipediaHomographData/data/three_split_stratified_variant_data_corrected/test_swbd_aug\\attribute.tsv\n",
      "C:/Users/jseal/Dev/dissertation/Data/WikipediaHomographData/data/three_split_stratified_variant_data_corrected/test_swbd_aug/\n",
      "C:/Users/jseal/Dev/dissertation/Data/WikipediaHomographData/data/three_split_stratified_variant_data_corrected/test_swbd_aug\\axes.tsv\n"
     ]
    },
    {
     "name": "stderr",
     "output_type": "stream",
     "text": [
      "18it [00:00, 25.32it/s]"
     ]
    },
    {
     "name": "stdout",
     "output_type": "stream",
     "text": [
      "C:/Users/jseal/Dev/dissertation/Data/WikipediaHomographData/data/three_split_stratified_variant_data_corrected/test_swbd_aug/\n",
      "C:/Users/jseal/Dev/dissertation/Data/WikipediaHomographData/data/three_split_stratified_variant_data_corrected/test_swbd_aug\\bass.tsv\n",
      "C:/Users/jseal/Dev/dissertation/Data/WikipediaHomographData/data/three_split_stratified_variant_data_corrected/test_swbd_aug/\n",
      "C:/Users/jseal/Dev/dissertation/Data/WikipediaHomographData/data/three_split_stratified_variant_data_corrected/test_swbd_aug\\blessed.tsv\n",
      "C:/Users/jseal/Dev/dissertation/Data/WikipediaHomographData/data/three_split_stratified_variant_data_corrected/test_swbd_aug/\n",
      "C:/Users/jseal/Dev/dissertation/Data/WikipediaHomographData/data/three_split_stratified_variant_data_corrected/test_swbd_aug\\bow.tsv\n",
      "C:/Users/jseal/Dev/dissertation/Data/WikipediaHomographData/data/three_split_stratified_variant_data_corrected/test_swbd_aug/\n",
      "C:/Users/jseal/Dev/dissertation/Data/WikipediaHomographData/data/three_split_stratified_variant_data_corrected/test_swbd_aug\\buffet.tsv\n",
      "C:/Users/jseal/Dev/dissertation/Data/WikipediaHomographData/data/three_split_stratified_variant_data_corrected/test_swbd_aug/\n",
      "C:/Users/jseal/Dev/dissertation/Data/WikipediaHomographData/data/three_split_stratified_variant_data_corrected/test_swbd_aug\\celtic.tsv\n"
     ]
    },
    {
     "name": "stderr",
     "output_type": "stream",
     "text": [
      "24it [00:00, 26.34it/s]"
     ]
    },
    {
     "name": "stdout",
     "output_type": "stream",
     "text": [
      "C:/Users/jseal/Dev/dissertation/Data/WikipediaHomographData/data/three_split_stratified_variant_data_corrected/test_swbd_aug/\n",
      "C:/Users/jseal/Dev/dissertation/Data/WikipediaHomographData/data/three_split_stratified_variant_data_corrected/test_swbd_aug\\close.tsv\n",
      "C:/Users/jseal/Dev/dissertation/Data/WikipediaHomographData/data/three_split_stratified_variant_data_corrected/test_swbd_aug/\n",
      "C:/Users/jseal/Dev/dissertation/Data/WikipediaHomographData/data/three_split_stratified_variant_data_corrected/test_swbd_aug\\combine.tsv\n",
      "C:/Users/jseal/Dev/dissertation/Data/WikipediaHomographData/data/three_split_stratified_variant_data_corrected/test_swbd_aug/\n",
      "C:/Users/jseal/Dev/dissertation/Data/WikipediaHomographData/data/three_split_stratified_variant_data_corrected/test_swbd_aug\\compound.tsv\n",
      "C:/Users/jseal/Dev/dissertation/Data/WikipediaHomographData/data/three_split_stratified_variant_data_corrected/test_swbd_aug/\n",
      "C:/Users/jseal/Dev/dissertation/Data/WikipediaHomographData/data/three_split_stratified_variant_data_corrected/test_swbd_aug\\compress.tsv\n",
      "C:/Users/jseal/Dev/dissertation/Data/WikipediaHomographData/data/three_split_stratified_variant_data_corrected/test_swbd_aug/\n",
      "C:/Users/jseal/Dev/dissertation/Data/WikipediaHomographData/data/three_split_stratified_variant_data_corrected/test_swbd_aug\\conduct.tsv\n",
      "C:/Users/jseal/Dev/dissertation/Data/WikipediaHomographData/data/three_split_stratified_variant_data_corrected/test_swbd_aug/"
     ]
    },
    {
     "name": "stderr",
     "output_type": "stream",
     "text": [
      "30it [00:01, 26.30it/s]"
     ]
    },
    {
     "name": "stdout",
     "output_type": "stream",
     "text": [
      "\n",
      "C:/Users/jseal/Dev/dissertation/Data/WikipediaHomographData/data/three_split_stratified_variant_data_corrected/test_swbd_aug\\confines.tsv\n",
      "C:/Users/jseal/Dev/dissertation/Data/WikipediaHomographData/data/three_split_stratified_variant_data_corrected/test_swbd_aug/\n",
      "C:/Users/jseal/Dev/dissertation/Data/WikipediaHomographData/data/three_split_stratified_variant_data_corrected/test_swbd_aug\\conflict.tsv\n",
      "C:/Users/jseal/Dev/dissertation/Data/WikipediaHomographData/data/three_split_stratified_variant_data_corrected/test_swbd_aug/\n",
      "C:/Users/jseal/Dev/dissertation/Data/WikipediaHomographData/data/three_split_stratified_variant_data_corrected/test_swbd_aug\\conjugate.tsv\n",
      "C:/Users/jseal/Dev/dissertation/Data/WikipediaHomographData/data/three_split_stratified_variant_data_corrected/test_swbd_aug/\n",
      "C:/Users/jseal/Dev/dissertation/Data/WikipediaHomographData/data/three_split_stratified_variant_data_corrected/test_swbd_aug\\conscript.tsv\n",
      "C:/Users/jseal/Dev/dissertation/Data/WikipediaHomographData/data/three_split_stratified_variant_data_corrected/test_swbd_aug/\n",
      "C:/Users/jseal/Dev/dissertation/Data/WikipediaHomographData/data/three_split_stratified_variant_data_corrected/test_swbd_aug\\construct.tsv\n"
     ]
    },
    {
     "name": "stderr",
     "output_type": "stream",
     "text": [
      "\r",
      "33it [00:01, 25.88it/s]"
     ]
    },
    {
     "name": "stdout",
     "output_type": "stream",
     "text": [
      "C:/Users/jseal/Dev/dissertation/Data/WikipediaHomographData/data/three_split_stratified_variant_data_corrected/test_swbd_aug/\n",
      "C:/Users/jseal/Dev/dissertation/Data/WikipediaHomographData/data/three_split_stratified_variant_data_corrected/test_swbd_aug\\consummate.tsv\n",
      "C:/Users/jseal/Dev/dissertation/Data/WikipediaHomographData/data/three_split_stratified_variant_data_corrected/test_swbd_aug/\n",
      "C:/Users/jseal/Dev/dissertation/Data/WikipediaHomographData/data/three_split_stratified_variant_data_corrected/test_swbd_aug\\content.tsv\n",
      "C:/Users/jseal/Dev/dissertation/Data/WikipediaHomographData/data/three_split_stratified_variant_data_corrected/test_swbd_aug/\n",
      "C:/Users/jseal/Dev/dissertation/Data/WikipediaHomographData/data/three_split_stratified_variant_data_corrected/test_swbd_aug\\contest.tsv\n",
      "C:/Users/jseal/Dev/dissertation/Data/WikipediaHomographData/data/three_split_stratified_variant_data_corrected/test_swbd_aug/\n",
      "C:/Users/jseal/Dev/dissertation/Data/WikipediaHomographData/data/three_split_stratified_variant_data_corrected/test_swbd_aug\\converse.tsv\n",
      "C:/Users/jseal/Dev/dissertation/Data/WikipediaHomographData/data/three_split_stratified_variant_data_corrected/test_swbd_aug/\n",
      "C:/Users/jseal/Dev/dissertation/Data/WikipediaHomographData/data/three_split_stratified_variant_data_corrected/test_swbd_aug\\convert.tsv\n"
     ]
    },
    {
     "name": "stderr",
     "output_type": "stream",
     "text": [
      "39it [00:01, 26.13it/s]"
     ]
    },
    {
     "name": "stdout",
     "output_type": "stream",
     "text": [
      "C:/Users/jseal/Dev/dissertation/Data/WikipediaHomographData/data/three_split_stratified_variant_data_corrected/test_swbd_aug/\n",
      "C:/Users/jseal/Dev/dissertation/Data/WikipediaHomographData/data/three_split_stratified_variant_data_corrected/test_swbd_aug\\convict.tsv\n",
      "C:/Users/jseal/Dev/dissertation/Data/WikipediaHomographData/data/three_split_stratified_variant_data_corrected/test_swbd_aug/\n",
      "C:/Users/jseal/Dev/dissertation/Data/WikipediaHomographData/data/three_split_stratified_variant_data_corrected/test_swbd_aug\\coordinate.tsv\n",
      "C:/Users/jseal/Dev/dissertation/Data/WikipediaHomographData/data/three_split_stratified_variant_data_corrected/test_swbd_aug/\n",
      "C:/Users/jseal/Dev/dissertation/Data/WikipediaHomographData/data/three_split_stratified_variant_data_corrected/test_swbd_aug\\correlate.tsv\n",
      "C:/Users/jseal/Dev/dissertation/Data/WikipediaHomographData/data/three_split_stratified_variant_data_corrected/test_swbd_aug/\n",
      "C:/Users/jseal/Dev/dissertation/Data/WikipediaHomographData/data/three_split_stratified_variant_data_corrected/test_swbd_aug\\decrease.tsv\n",
      "C:/Users/jseal/Dev/dissertation/Data/WikipediaHomographData/data/three_split_stratified_variant_data_corrected/test_swbd_aug/\n",
      "C:/Users/jseal/Dev/dissertation/Data/WikipediaHomographData/data/three_split_stratified_variant_data_corrected/test_swbd_aug\\defect.tsv\n",
      "C:/Users/jseal/Dev/dissertation/Data/WikipediaHomographData/data/three_split_stratified_variant_data_corrected/test_swbd_aug/\n",
      "C:/Users/jseal/Dev/dissertation/Data/WikipediaHomographData/data/three_split_stratified_variant_data_corrected/test_swbd_aug\\degenerate.tsv\n"
     ]
    },
    {
     "name": "stderr",
     "output_type": "stream",
     "text": [
      "45it [00:01, 25.95it/s]"
     ]
    },
    {
     "name": "stdout",
     "output_type": "stream",
     "text": [
      "C:/Users/jseal/Dev/dissertation/Data/WikipediaHomographData/data/three_split_stratified_variant_data_corrected/test_swbd_aug/\n",
      "C:/Users/jseal/Dev/dissertation/Data/WikipediaHomographData/data/three_split_stratified_variant_data_corrected/test_swbd_aug\\delegate.tsv\n",
      "C:/Users/jseal/Dev/dissertation/Data/WikipediaHomographData/data/three_split_stratified_variant_data_corrected/test_swbd_aug/\n",
      "C:/Users/jseal/Dev/dissertation/Data/WikipediaHomographData/data/three_split_stratified_variant_data_corrected/test_swbd_aug\\deliberate.tsv\n",
      "C:/Users/jseal/Dev/dissertation/Data/WikipediaHomographData/data/three_split_stratified_variant_data_corrected/test_swbd_aug/\n",
      "C:/Users/jseal/Dev/dissertation/Data/WikipediaHomographData/data/three_split_stratified_variant_data_corrected/test_swbd_aug\\diagnoses.tsv\n",
      "C:/Users/jseal/Dev/dissertation/Data/WikipediaHomographData/data/three_split_stratified_variant_data_corrected/test_swbd_aug/\n",
      "C:/Users/jseal/Dev/dissertation/Data/WikipediaHomographData/data/three_split_stratified_variant_data_corrected/test_swbd_aug\\diffuse.tsv\n",
      "C:/Users/jseal/Dev/dissertation/Data/WikipediaHomographData/data/three_split_stratified_variant_data_corrected/test_swbd_aug/\n",
      "C:/Users/jseal/Dev/dissertation/Data/WikipediaHomographData/data/three_split_stratified_variant_data_corrected/test_swbd_aug\\discard.tsv\n",
      "C:/Users/jseal/Dev/dissertation/Data/WikipediaHomographData/data/three_split_stratified_variant_data_corrected/test_swbd_aug/\n",
      "C:/Users/jseal/Dev/dissertation/Data/WikipediaHomographData/data/three_split_stratified_variant_data_corrected/test_swbd_aug\\discharge.tsv\n"
     ]
    },
    {
     "name": "stderr",
     "output_type": "stream",
     "text": [
      "51it [00:01, 26.79it/s]"
     ]
    },
    {
     "name": "stdout",
     "output_type": "stream",
     "text": [
      "C:/Users/jseal/Dev/dissertation/Data/WikipediaHomographData/data/three_split_stratified_variant_data_corrected/test_swbd_aug/\n",
      "C:/Users/jseal/Dev/dissertation/Data/WikipediaHomographData/data/three_split_stratified_variant_data_corrected/test_swbd_aug\\discount.tsv\n",
      "C:/Users/jseal/Dev/dissertation/Data/WikipediaHomographData/data/three_split_stratified_variant_data_corrected/test_swbd_aug/\n",
      "C:/Users/jseal/Dev/dissertation/Data/WikipediaHomographData/data/three_split_stratified_variant_data_corrected/test_swbd_aug\\document.tsv\n",
      "C:/Users/jseal/Dev/dissertation/Data/WikipediaHomographData/data/three_split_stratified_variant_data_corrected/test_swbd_aug/\n",
      "C:/Users/jseal/Dev/dissertation/Data/WikipediaHomographData/data/three_split_stratified_variant_data_corrected/test_swbd_aug\\dove.tsv\n",
      "C:/Users/jseal/Dev/dissertation/Data/WikipediaHomographData/data/three_split_stratified_variant_data_corrected/test_swbd_aug/\n",
      "C:/Users/jseal/Dev/dissertation/Data/WikipediaHomographData/data/three_split_stratified_variant_data_corrected/test_swbd_aug\\duplicate.tsv\n",
      "C:/Users/jseal/Dev/dissertation/Data/WikipediaHomographData/data/three_split_stratified_variant_data_corrected/test_swbd_aug/\n",
      "C:/Users/jseal/Dev/dissertation/Data/WikipediaHomographData/data/three_split_stratified_variant_data_corrected/test_swbd_aug\\escort.tsv\n",
      "C:/Users/jseal/Dev/dissertation/Data/WikipediaHomographData/data/three_split_stratified_variant_data_corrected/test_swbd_aug/\n",
      "C:/Users/jseal/Dev/dissertation/Data/WikipediaHomographData/data/three_split_stratified_variant_data_corrected/test_swbd_aug\\estimate.tsv\n"
     ]
    },
    {
     "name": "stderr",
     "output_type": "stream",
     "text": [
      "57it [00:02, 25.44it/s]"
     ]
    },
    {
     "name": "stdout",
     "output_type": "stream",
     "text": [
      "C:/Users/jseal/Dev/dissertation/Data/WikipediaHomographData/data/three_split_stratified_variant_data_corrected/test_swbd_aug/\n",
      "C:/Users/jseal/Dev/dissertation/Data/WikipediaHomographData/data/three_split_stratified_variant_data_corrected/test_swbd_aug\\excuse.tsv\n",
      "C:/Users/jseal/Dev/dissertation/Data/WikipediaHomographData/data/three_split_stratified_variant_data_corrected/test_swbd_aug/\n",
      "C:/Users/jseal/Dev/dissertation/Data/WikipediaHomographData/data/three_split_stratified_variant_data_corrected/test_swbd_aug\\exploit.tsv\n",
      "C:/Users/jseal/Dev/dissertation/Data/WikipediaHomographData/data/three_split_stratified_variant_data_corrected/test_swbd_aug/\n",
      "C:/Users/jseal/Dev/dissertation/Data/WikipediaHomographData/data/three_split_stratified_variant_data_corrected/test_swbd_aug\\export.tsv\n",
      "C:/Users/jseal/Dev/dissertation/Data/WikipediaHomographData/data/three_split_stratified_variant_data_corrected/test_swbd_aug/\n",
      "C:/Users/jseal/Dev/dissertation/Data/WikipediaHomographData/data/three_split_stratified_variant_data_corrected/test_swbd_aug\\expose.tsv\n",
      "C:/Users/jseal/Dev/dissertation/Data/WikipediaHomographData/data/three_split_stratified_variant_data_corrected/test_swbd_aug/\n",
      "C:/Users/jseal/Dev/dissertation/Data/WikipediaHomographData/data/three_split_stratified_variant_data_corrected/test_swbd_aug\\extract.tsv\n",
      "C:/Users/jseal/Dev/dissertation/Data/WikipediaHomographData/data/three_split_stratified_variant_data_corrected/test_swbd_aug/"
     ]
    },
    {
     "name": "stderr",
     "output_type": "stream",
     "text": [
      "63it [00:02, 25.23it/s]"
     ]
    },
    {
     "name": "stdout",
     "output_type": "stream",
     "text": [
      "\n",
      "C:/Users/jseal/Dev/dissertation/Data/WikipediaHomographData/data/three_split_stratified_variant_data_corrected/test_swbd_aug\\fragment.tsv\n",
      "C:/Users/jseal/Dev/dissertation/Data/WikipediaHomographData/data/three_split_stratified_variant_data_corrected/test_swbd_aug/\n",
      "C:/Users/jseal/Dev/dissertation/Data/WikipediaHomographData/data/three_split_stratified_variant_data_corrected/test_swbd_aug\\frequent.tsv\n",
      "C:/Users/jseal/Dev/dissertation/Data/WikipediaHomographData/data/three_split_stratified_variant_data_corrected/test_swbd_aug/\n",
      "C:/Users/jseal/Dev/dissertation/Data/WikipediaHomographData/data/three_split_stratified_variant_data_corrected/test_swbd_aug\\graduate.tsv\n",
      "C:/Users/jseal/Dev/dissertation/Data/WikipediaHomographData/data/three_split_stratified_variant_data_corrected/test_swbd_aug/\n",
      "C:/Users/jseal/Dev/dissertation/Data/WikipediaHomographData/data/three_split_stratified_variant_data_corrected/test_swbd_aug\\impact.tsv\n",
      "C:/Users/jseal/Dev/dissertation/Data/WikipediaHomographData/data/three_split_stratified_variant_data_corrected/test_swbd_aug/\n",
      "C:/Users/jseal/Dev/dissertation/Data/WikipediaHomographData/data/three_split_stratified_variant_data_corrected/test_swbd_aug\\implant.tsv\n"
     ]
    },
    {
     "name": "stderr",
     "output_type": "stream",
     "text": [
      "\r",
      "66it [00:02, 25.25it/s]"
     ]
    },
    {
     "name": "stdout",
     "output_type": "stream",
     "text": [
      "C:/Users/jseal/Dev/dissertation/Data/WikipediaHomographData/data/three_split_stratified_variant_data_corrected/test_swbd_aug/\n",
      "C:/Users/jseal/Dev/dissertation/Data/WikipediaHomographData/data/three_split_stratified_variant_data_corrected/test_swbd_aug\\implement.tsv\n",
      "C:/Users/jseal/Dev/dissertation/Data/WikipediaHomographData/data/three_split_stratified_variant_data_corrected/test_swbd_aug/\n",
      "C:/Users/jseal/Dev/dissertation/Data/WikipediaHomographData/data/three_split_stratified_variant_data_corrected/test_swbd_aug\\import.tsv\n",
      "C:/Users/jseal/Dev/dissertation/Data/WikipediaHomographData/data/three_split_stratified_variant_data_corrected/test_swbd_aug/\n",
      "C:/Users/jseal/Dev/dissertation/Data/WikipediaHomographData/data/three_split_stratified_variant_data_corrected/test_swbd_aug\\incline.tsv\n",
      "C:/Users/jseal/Dev/dissertation/Data/WikipediaHomographData/data/three_split_stratified_variant_data_corrected/test_swbd_aug/\n",
      "C:/Users/jseal/Dev/dissertation/Data/WikipediaHomographData/data/three_split_stratified_variant_data_corrected/test_swbd_aug\\increase.tsv\n",
      "C:/Users/jseal/Dev/dissertation/Data/WikipediaHomographData/data/three_split_stratified_variant_data_corrected/test_swbd_aug/\n",
      "C:/Users/jseal/Dev/dissertation/Data/WikipediaHomographData/data/three_split_stratified_variant_data_corrected/test_swbd_aug\\increment.tsv\n",
      "C:/Users/jseal/Dev/dissertation/Data/WikipediaHomographData/data/three_split_stratified_variant_data_corrected/test_swbd_aug/\n",
      "C:/Users/jseal/Dev/dissertation/Data/WikipediaHomographData/data/three_split_stratified_variant_data_corrected/test_swbd_aug\\initiate.tsv\n"
     ]
    },
    {
     "name": "stderr",
     "output_type": "stream",
     "text": [
      "72it [00:02, 25.40it/s]"
     ]
    },
    {
     "name": "stdout",
     "output_type": "stream",
     "text": [
      "C:/Users/jseal/Dev/dissertation/Data/WikipediaHomographData/data/three_split_stratified_variant_data_corrected/test_swbd_aug/\n",
      "C:/Users/jseal/Dev/dissertation/Data/WikipediaHomographData/data/three_split_stratified_variant_data_corrected/test_swbd_aug\\insert.tsv\n",
      "C:/Users/jseal/Dev/dissertation/Data/WikipediaHomographData/data/three_split_stratified_variant_data_corrected/test_swbd_aug/\n",
      "C:/Users/jseal/Dev/dissertation/Data/WikipediaHomographData/data/three_split_stratified_variant_data_corrected/test_swbd_aug\\insult.tsv\n",
      "C:/Users/jseal/Dev/dissertation/Data/WikipediaHomographData/data/three_split_stratified_variant_data_corrected/test_swbd_aug/\n",
      "C:/Users/jseal/Dev/dissertation/Data/WikipediaHomographData/data/three_split_stratified_variant_data_corrected/test_swbd_aug\\intrigue.tsv\n",
      "C:/Users/jseal/Dev/dissertation/Data/WikipediaHomographData/data/three_split_stratified_variant_data_corrected/test_swbd_aug/\n",
      "C:/Users/jseal/Dev/dissertation/Data/WikipediaHomographData/data/three_split_stratified_variant_data_corrected/test_swbd_aug\\invalid.tsv\n",
      "C:/Users/jseal/Dev/dissertation/Data/WikipediaHomographData/data/three_split_stratified_variant_data_corrected/test_swbd_aug/\n",
      "C:/Users/jseal/Dev/dissertation/Data/WikipediaHomographData/data/three_split_stratified_variant_data_corrected/test_swbd_aug\\invert.tsv\n",
      "C:/Users/jseal/Dev/dissertation/Data/WikipediaHomographData/data/three_split_stratified_variant_data_corrected/test_swbd_aug/\n",
      "C:/Users/jseal/Dev/dissertation/Data/WikipediaHomographData/data/three_split_stratified_variant_data_corrected/test_swbd_aug\\invite.tsv\n"
     ]
    },
    {
     "name": "stderr",
     "output_type": "stream",
     "text": [
      "78it [00:03, 25.04it/s]"
     ]
    },
    {
     "name": "stdout",
     "output_type": "stream",
     "text": [
      "C:/Users/jseal/Dev/dissertation/Data/WikipediaHomographData/data/three_split_stratified_variant_data_corrected/test_swbd_aug/\n",
      "C:/Users/jseal/Dev/dissertation/Data/WikipediaHomographData/data/three_split_stratified_variant_data_corrected/test_swbd_aug\\isolate.tsv\n",
      "C:/Users/jseal/Dev/dissertation/Data/WikipediaHomographData/data/three_split_stratified_variant_data_corrected/test_swbd_aug/\n",
      "C:/Users/jseal/Dev/dissertation/Data/WikipediaHomographData/data/three_split_stratified_variant_data_corrected/test_swbd_aug\\laminate.tsv\n",
      "C:/Users/jseal/Dev/dissertation/Data/WikipediaHomographData/data/three_split_stratified_variant_data_corrected/test_swbd_aug/\n",
      "C:/Users/jseal/Dev/dissertation/Data/WikipediaHomographData/data/three_split_stratified_variant_data_corrected/test_swbd_aug\\lead.tsv\n",
      "C:/Users/jseal/Dev/dissertation/Data/WikipediaHomographData/data/three_split_stratified_variant_data_corrected/test_swbd_aug/\n",
      "C:/Users/jseal/Dev/dissertation/Data/WikipediaHomographData/data/three_split_stratified_variant_data_corrected/test_swbd_aug\\learned.tsv\n",
      "C:/Users/jseal/Dev/dissertation/Data/WikipediaHomographData/data/three_split_stratified_variant_data_corrected/test_swbd_aug/\n",
      "C:/Users/jseal/Dev/dissertation/Data/WikipediaHomographData/data/three_split_stratified_variant_data_corrected/test_swbd_aug\\live.tsv\n",
      "C:/Users/jseal/Dev/dissertation/Data/WikipediaHomographData/data/three_split_stratified_variant_data_corrected/test_swbd_aug/\n",
      "C:/Users/jseal/Dev/dissertation/Data/WikipediaHomographData/data/three_split_stratified_variant_data_corrected/test_swbd_aug\\lives.tsv\n"
     ]
    },
    {
     "name": "stderr",
     "output_type": "stream",
     "text": [
      "84it [00:03, 24.61it/s]"
     ]
    },
    {
     "name": "stdout",
     "output_type": "stream",
     "text": [
      "C:/Users/jseal/Dev/dissertation/Data/WikipediaHomographData/data/three_split_stratified_variant_data_corrected/test_swbd_aug/\n",
      "C:/Users/jseal/Dev/dissertation/Data/WikipediaHomographData/data/three_split_stratified_variant_data_corrected/test_swbd_aug\\minute.tsv\n",
      "C:/Users/jseal/Dev/dissertation/Data/WikipediaHomographData/data/three_split_stratified_variant_data_corrected/test_swbd_aug/\n",
      "C:/Users/jseal/Dev/dissertation/Data/WikipediaHomographData/data/three_split_stratified_variant_data_corrected/test_swbd_aug\\misuse.tsv\n",
      "C:/Users/jseal/Dev/dissertation/Data/WikipediaHomographData/data/three_split_stratified_variant_data_corrected/test_swbd_aug/\n",
      "C:/Users/jseal/Dev/dissertation/Data/WikipediaHomographData/data/three_split_stratified_variant_data_corrected/test_swbd_aug\\mobile.tsv\n",
      "C:/Users/jseal/Dev/dissertation/Data/WikipediaHomographData/data/three_split_stratified_variant_data_corrected/test_swbd_aug/\n",
      "C:/Users/jseal/Dev/dissertation/Data/WikipediaHomographData/data/three_split_stratified_variant_data_corrected/test_swbd_aug\\nestle.tsv\n",
      "C:/Users/jseal/Dev/dissertation/Data/WikipediaHomographData/data/three_split_stratified_variant_data_corrected/test_swbd_aug/\n",
      "C:/Users/jseal/Dev/dissertation/Data/WikipediaHomographData/data/three_split_stratified_variant_data_corrected/test_swbd_aug\\ornament.tsv\n"
     ]
    },
    {
     "name": "stderr",
     "output_type": "stream",
     "text": [
      "90it [00:03, 25.44it/s]"
     ]
    },
    {
     "name": "stdout",
     "output_type": "stream",
     "text": [
      "C:/Users/jseal/Dev/dissertation/Data/WikipediaHomographData/data/three_split_stratified_variant_data_corrected/test_swbd_aug/\n",
      "C:/Users/jseal/Dev/dissertation/Data/WikipediaHomographData/data/three_split_stratified_variant_data_corrected/test_swbd_aug\\overthrow.tsv\n",
      "C:/Users/jseal/Dev/dissertation/Data/WikipediaHomographData/data/three_split_stratified_variant_data_corrected/test_swbd_aug/\n",
      "C:/Users/jseal/Dev/dissertation/Data/WikipediaHomographData/data/three_split_stratified_variant_data_corrected/test_swbd_aug\\pasty.tsv\n",
      "C:/Users/jseal/Dev/dissertation/Data/WikipediaHomographData/data/three_split_stratified_variant_data_corrected/test_swbd_aug/\n",
      "C:/Users/jseal/Dev/dissertation/Data/WikipediaHomographData/data/three_split_stratified_variant_data_corrected/test_swbd_aug\\perfect.tsv\n",
      "C:/Users/jseal/Dev/dissertation/Data/WikipediaHomographData/data/three_split_stratified_variant_data_corrected/test_swbd_aug/\n",
      "C:/Users/jseal/Dev/dissertation/Data/WikipediaHomographData/data/three_split_stratified_variant_data_corrected/test_swbd_aug\\perfume.tsv\n",
      "C:/Users/jseal/Dev/dissertation/Data/WikipediaHomographData/data/three_split_stratified_variant_data_corrected/test_swbd_aug/\n",
      "C:/Users/jseal/Dev/dissertation/Data/WikipediaHomographData/data/three_split_stratified_variant_data_corrected/test_swbd_aug\\permit.tsv\n"
     ]
    },
    {
     "name": "stderr",
     "output_type": "stream",
     "text": [
      "\r",
      "93it [00:03, 25.59it/s]"
     ]
    },
    {
     "name": "stdout",
     "output_type": "stream",
     "text": [
      "C:/Users/jseal/Dev/dissertation/Data/WikipediaHomographData/data/three_split_stratified_variant_data_corrected/test_swbd_aug/\n",
      "C:/Users/jseal/Dev/dissertation/Data/WikipediaHomographData/data/three_split_stratified_variant_data_corrected/test_swbd_aug\\pervert.tsv\n",
      "C:/Users/jseal/Dev/dissertation/Data/WikipediaHomographData/data/three_split_stratified_variant_data_corrected/test_swbd_aug/\n",
      "C:/Users/jseal/Dev/dissertation/Data/WikipediaHomographData/data/three_split_stratified_variant_data_corrected/test_swbd_aug\\polish.tsv\n",
      "C:/Users/jseal/Dev/dissertation/Data/WikipediaHomographData/data/three_split_stratified_variant_data_corrected/test_swbd_aug/\n",
      "C:/Users/jseal/Dev/dissertation/Data/WikipediaHomographData/data/three_split_stratified_variant_data_corrected/test_swbd_aug\\postulate.tsv\n",
      "C:/Users/jseal/Dev/dissertation/Data/WikipediaHomographData/data/three_split_stratified_variant_data_corrected/test_swbd_aug/\n",
      "C:/Users/jseal/Dev/dissertation/Data/WikipediaHomographData/data/three_split_stratified_variant_data_corrected/test_swbd_aug\\precipitate.tsv\n",
      "C:/Users/jseal/Dev/dissertation/Data/WikipediaHomographData/data/three_split_stratified_variant_data_corrected/test_swbd_aug/\n",
      "C:/Users/jseal/Dev/dissertation/Data/WikipediaHomographData/data/three_split_stratified_variant_data_corrected/test_swbd_aug\\present.tsv\n"
     ]
    },
    {
     "name": "stderr",
     "output_type": "stream",
     "text": [
      "99it [00:03, 25.21it/s]"
     ]
    },
    {
     "name": "stdout",
     "output_type": "stream",
     "text": [
      "C:/Users/jseal/Dev/dissertation/Data/WikipediaHomographData/data/three_split_stratified_variant_data_corrected/test_swbd_aug/\n",
      "C:/Users/jseal/Dev/dissertation/Data/WikipediaHomographData/data/three_split_stratified_variant_data_corrected/test_swbd_aug\\produce.tsv\n",
      "C:/Users/jseal/Dev/dissertation/Data/WikipediaHomographData/data/three_split_stratified_variant_data_corrected/test_swbd_aug/\n",
      "C:/Users/jseal/Dev/dissertation/Data/WikipediaHomographData/data/three_split_stratified_variant_data_corrected/test_swbd_aug\\progress.tsv\n",
      "C:/Users/jseal/Dev/dissertation/Data/WikipediaHomographData/data/three_split_stratified_variant_data_corrected/test_swbd_aug/\n",
      "C:/Users/jseal/Dev/dissertation/Data/WikipediaHomographData/data/three_split_stratified_variant_data_corrected/test_swbd_aug\\protest.tsv\n",
      "C:/Users/jseal/Dev/dissertation/Data/WikipediaHomographData/data/three_split_stratified_variant_data_corrected/test_swbd_aug/\n",
      "C:/Users/jseal/Dev/dissertation/Data/WikipediaHomographData/data/three_split_stratified_variant_data_corrected/test_swbd_aug\\read.tsv\n",
      "C:/Users/jseal/Dev/dissertation/Data/WikipediaHomographData/data/three_split_stratified_variant_data_corrected/test_swbd_aug/\n",
      "C:/Users/jseal/Dev/dissertation/Data/WikipediaHomographData/data/three_split_stratified_variant_data_corrected/test_swbd_aug\\reading.tsv\n"
     ]
    },
    {
     "name": "stderr",
     "output_type": "stream",
     "text": [
      "105it [00:04, 25.13it/s]"
     ]
    },
    {
     "name": "stdout",
     "output_type": "stream",
     "text": [
      "C:/Users/jseal/Dev/dissertation/Data/WikipediaHomographData/data/three_split_stratified_variant_data_corrected/test_swbd_aug/\n",
      "C:/Users/jseal/Dev/dissertation/Data/WikipediaHomographData/data/three_split_stratified_variant_data_corrected/test_swbd_aug\\rebel.tsv\n",
      "C:/Users/jseal/Dev/dissertation/Data/WikipediaHomographData/data/three_split_stratified_variant_data_corrected/test_swbd_aug/\n",
      "C:/Users/jseal/Dev/dissertation/Data/WikipediaHomographData/data/three_split_stratified_variant_data_corrected/test_swbd_aug\\record.tsv\n",
      "C:/Users/jseal/Dev/dissertation/Data/WikipediaHomographData/data/three_split_stratified_variant_data_corrected/test_swbd_aug/\n",
      "C:/Users/jseal/Dev/dissertation/Data/WikipediaHomographData/data/three_split_stratified_variant_data_corrected/test_swbd_aug\\recount.tsv\n",
      "C:/Users/jseal/Dev/dissertation/Data/WikipediaHomographData/data/three_split_stratified_variant_data_corrected/test_swbd_aug/\n",
      "C:/Users/jseal/Dev/dissertation/Data/WikipediaHomographData/data/three_split_stratified_variant_data_corrected/test_swbd_aug\\refund.tsv\n",
      "C:/Users/jseal/Dev/dissertation/Data/WikipediaHomographData/data/three_split_stratified_variant_data_corrected/test_swbd_aug/\n",
      "C:/Users/jseal/Dev/dissertation/Data/WikipediaHomographData/data/three_split_stratified_variant_data_corrected/test_swbd_aug\\refuse.tsv\n",
      "C:/Users/jseal/Dev/dissertation/Data/WikipediaHomographData/data/three_split_stratified_variant_data_corrected/test_swbd_aug/\n",
      "C:/Users/jseal/Dev/dissertation/Data/WikipediaHomographData/data/three_split_stratified_variant_data_corrected/test_swbd_aug\\reject.tsv\n"
     ]
    },
    {
     "name": "stderr",
     "output_type": "stream",
     "text": [
      "111it [00:04, 25.54it/s]"
     ]
    },
    {
     "name": "stdout",
     "output_type": "stream",
     "text": [
      "C:/Users/jseal/Dev/dissertation/Data/WikipediaHomographData/data/three_split_stratified_variant_data_corrected/test_swbd_aug/\n",
      "C:/Users/jseal/Dev/dissertation/Data/WikipediaHomographData/data/three_split_stratified_variant_data_corrected/test_swbd_aug\\rerelease.tsv\n",
      "C:/Users/jseal/Dev/dissertation/Data/WikipediaHomographData/data/three_split_stratified_variant_data_corrected/test_swbd_aug/\n",
      "C:/Users/jseal/Dev/dissertation/Data/WikipediaHomographData/data/three_split_stratified_variant_data_corrected/test_swbd_aug\\resume.tsv\n",
      "C:/Users/jseal/Dev/dissertation/Data/WikipediaHomographData/data/three_split_stratified_variant_data_corrected/test_swbd_aug/\n",
      "C:/Users/jseal/Dev/dissertation/Data/WikipediaHomographData/data/three_split_stratified_variant_data_corrected/test_swbd_aug\\retard.tsv\n",
      "C:/Users/jseal/Dev/dissertation/Data/WikipediaHomographData/data/three_split_stratified_variant_data_corrected/test_swbd_aug/\n",
      "C:/Users/jseal/Dev/dissertation/Data/WikipediaHomographData/data/three_split_stratified_variant_data_corrected/test_swbd_aug\\rodeo.tsv\n",
      "C:/Users/jseal/Dev/dissertation/Data/WikipediaHomographData/data/three_split_stratified_variant_data_corrected/test_swbd_aug/\n",
      "C:/Users/jseal/Dev/dissertation/Data/WikipediaHomographData/data/three_split_stratified_variant_data_corrected/test_swbd_aug\\sake.tsv\n"
     ]
    },
    {
     "name": "stderr",
     "output_type": "stream",
     "text": [
      "117it [00:04, 25.85it/s]"
     ]
    },
    {
     "name": "stdout",
     "output_type": "stream",
     "text": [
      "C:/Users/jseal/Dev/dissertation/Data/WikipediaHomographData/data/three_split_stratified_variant_data_corrected/test_swbd_aug/\n",
      "C:/Users/jseal/Dev/dissertation/Data/WikipediaHomographData/data/three_split_stratified_variant_data_corrected/test_swbd_aug\\separate.tsv\n",
      "C:/Users/jseal/Dev/dissertation/Data/WikipediaHomographData/data/three_split_stratified_variant_data_corrected/test_swbd_aug/\n",
      "C:/Users/jseal/Dev/dissertation/Data/WikipediaHomographData/data/three_split_stratified_variant_data_corrected/test_swbd_aug\\sow.tsv\n",
      "C:/Users/jseal/Dev/dissertation/Data/WikipediaHomographData/data/three_split_stratified_variant_data_corrected/test_swbd_aug/\n",
      "C:/Users/jseal/Dev/dissertation/Data/WikipediaHomographData/data/three_split_stratified_variant_data_corrected/test_swbd_aug\\subordinate.tsv\n",
      "C:/Users/jseal/Dev/dissertation/Data/WikipediaHomographData/data/three_split_stratified_variant_data_corrected/test_swbd_aug/\n",
      "C:/Users/jseal/Dev/dissertation/Data/WikipediaHomographData/data/three_split_stratified_variant_data_corrected/test_swbd_aug\\supplement.tsv\n",
      "C:/Users/jseal/Dev/dissertation/Data/WikipediaHomographData/data/three_split_stratified_variant_data_corrected/test_swbd_aug/\n",
      "C:/Users/jseal/Dev/dissertation/Data/WikipediaHomographData/data/three_split_stratified_variant_data_corrected/test_swbd_aug\\suspect.tsv\n"
     ]
    },
    {
     "name": "stderr",
     "output_type": "stream",
     "text": [
      "\r",
      "120it [00:04, 25.87it/s]"
     ]
    },
    {
     "name": "stdout",
     "output_type": "stream",
     "text": [
      "C:/Users/jseal/Dev/dissertation/Data/WikipediaHomographData/data/three_split_stratified_variant_data_corrected/test_swbd_aug/\n",
      "C:/Users/jseal/Dev/dissertation/Data/WikipediaHomographData/data/three_split_stratified_variant_data_corrected/test_swbd_aug\\syndicate.tsv\n",
      "C:/Users/jseal/Dev/dissertation/Data/WikipediaHomographData/data/three_split_stratified_variant_data_corrected/test_swbd_aug/\n",
      "C:/Users/jseal/Dev/dissertation/Data/WikipediaHomographData/data/three_split_stratified_variant_data_corrected/test_swbd_aug\\tear.tsv\n",
      "C:/Users/jseal/Dev/dissertation/Data/WikipediaHomographData/data/three_split_stratified_variant_data_corrected/test_swbd_aug/\n",
      "C:/Users/jseal/Dev/dissertation/Data/WikipediaHomographData/data/three_split_stratified_variant_data_corrected/test_swbd_aug\\transform.tsv\n",
      "C:/Users/jseal/Dev/dissertation/Data/WikipediaHomographData/data/three_split_stratified_variant_data_corrected/test_swbd_aug/\n",
      "C:/Users/jseal/Dev/dissertation/Data/WikipediaHomographData/data/three_split_stratified_variant_data_corrected/test_swbd_aug\\transplant.tsv\n",
      "C:/Users/jseal/Dev/dissertation/Data/WikipediaHomographData/data/three_split_stratified_variant_data_corrected/test_swbd_aug/\n",
      "C:/Users/jseal/Dev/dissertation/Data/WikipediaHomographData/data/three_split_stratified_variant_data_corrected/test_swbd_aug\\transport.tsv\n",
      "C:/Users/jseal/Dev/dissertation/Data/WikipediaHomographData/data/three_split_stratified_variant_data_corrected/test_swbd_aug/"
     ]
    },
    {
     "name": "stderr",
     "output_type": "stream",
     "text": [
      "126it [00:04, 24.51it/s]"
     ]
    },
    {
     "name": "stdout",
     "output_type": "stream",
     "text": [
      "\n",
      "C:/Users/jseal/Dev/dissertation/Data/WikipediaHomographData/data/three_split_stratified_variant_data_corrected/test_swbd_aug\\upset.tsv\n",
      "C:/Users/jseal/Dev/dissertation/Data/WikipediaHomographData/data/three_split_stratified_variant_data_corrected/test_swbd_aug/\n",
      "C:/Users/jseal/Dev/dissertation/Data/WikipediaHomographData/data/three_split_stratified_variant_data_corrected/test_swbd_aug\\use.tsv\n",
      "C:/Users/jseal/Dev/dissertation/Data/WikipediaHomographData/data/three_split_stratified_variant_data_corrected/test_swbd_aug/\n",
      "C:/Users/jseal/Dev/dissertation/Data/WikipediaHomographData/data/three_split_stratified_variant_data_corrected/test_swbd_aug\\uses.tsv\n",
      "C:/Users/jseal/Dev/dissertation/Data/WikipediaHomographData/data/three_split_stratified_variant_data_corrected/test_swbd_aug/\n",
      "C:/Users/jseal/Dev/dissertation/Data/WikipediaHomographData/data/three_split_stratified_variant_data_corrected/test_swbd_aug\\wind.tsv\n",
      "C:/Users/jseal/Dev/dissertation/Data/WikipediaHomographData/data/three_split_stratified_variant_data_corrected/test_swbd_aug/\n",
      "C:/Users/jseal/Dev/dissertation/Data/WikipediaHomographData/data/three_split_stratified_variant_data_corrected/test_swbd_aug\\winds.tsv\n"
     ]
    },
    {
     "name": "stderr",
     "output_type": "stream",
     "text": [
      "128it [00:05, 25.46it/s]\n"
     ]
    },
    {
     "name": "stdout",
     "output_type": "stream",
     "text": [
      "C:/Users/jseal/Dev/dissertation/Data/WikipediaHomographData/data/three_split_stratified_variant_data_corrected/test_swbd_aug/\n",
      "C:/Users/jseal/Dev/dissertation/Data/WikipediaHomographData/data/three_split_stratified_variant_data_corrected/test_swbd_aug\\wound.tsv\n"
     ]
    },
    {
     "name": "stderr",
     "output_type": "stream",
     "text": [
      "3it [00:10,  3.50s/it]\n"
     ]
    }
   ],
   "source": [
    "make_tsvs()\n",
    "make_tmps()\n",
    "make_txts()\n",
    "make_labels()"
   ]
  },
  {
   "cell_type": "code",
   "execution_count": null,
   "metadata": {},
   "outputs": [],
   "source": []
  },
  {
   "cell_type": "code",
   "execution_count": null,
   "metadata": {},
   "outputs": [],
   "source": []
  }
 ],
 "metadata": {
  "kernelspec": {
   "display_name": "dissertation_huggingface",
   "language": "python",
   "name": "dissertation_huggingface"
  },
  "language_info": {
   "codemirror_mode": {
    "name": "ipython",
    "version": 3
   },
   "file_extension": ".py",
   "mimetype": "text/x-python",
   "name": "python",
   "nbconvert_exporter": "python",
   "pygments_lexer": "ipython3",
   "version": "3.7.8"
  }
 },
 "nbformat": 4,
 "nbformat_minor": 4
}
