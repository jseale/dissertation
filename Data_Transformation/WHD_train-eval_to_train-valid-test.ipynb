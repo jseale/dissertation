{
 "cells": [
  {
   "cell_type": "markdown",
   "metadata": {},
   "source": [
    "# Description\n",
    "**Functionality**: The Wikipedia Homograph Data provided by Google is a two-way split dataset: train and eval. For the purposes of this study, a three way split of the data into train, valid, and test is needed. \n",
    "\n",
    "This module splits the Wikipedia homograph train split into 90% train, 10% valid. For the test split, the original Wikipedia homograph eval split has been copied over manually.\n",
    "\n",
    "**Use**: The train and valid splits is used to train neural net models for homograph disambiguation, while the test set is held out for final evaluation."
   ]
  },
  {
   "cell_type": "markdown",
   "metadata": {},
   "source": [
    "### Imports"
   ]
  },
  {
   "cell_type": "code",
   "execution_count": 1,
   "metadata": {},
   "outputs": [],
   "source": [
    "import os\n",
    "from glob import glob\n",
    "import pandas as pd\n",
    "from tqdm import tqdm"
   ]
  },
  {
   "cell_type": "markdown",
   "metadata": {},
   "source": [
    "### Variables"
   ]
  },
  {
   "cell_type": "code",
   "execution_count": 2,
   "metadata": {},
   "outputs": [],
   "source": [
    "#Paths \n",
    "WHD_DATA = \"C:/Users/jseal/Dev/dissertation/Data/WikipediaHomographData/data/\"\n",
    "TRAIN = WHD_DATA + \"train/\"\n",
    "NEW_TRAIN = WHD_DATA + \"three_split_data/train/\"\n",
    "NEW_VAL = WHD_DATA + \"three_split_data/valid/\"\n",
    "#Variables\n",
    "RANDOM_STATE = 45\n",
    "FRAC = 0.1"
   ]
  },
  {
   "cell_type": "markdown",
   "metadata": {},
   "source": [
    "### Functions"
   ]
  },
  {
   "cell_type": "code",
   "execution_count": 3,
   "metadata": {},
   "outputs": [],
   "source": [
    "def create_train_val(TRAIN_DF : pd.DataFrame, f_name : str) -> None:\n",
    "    # Select 10% from train, and serialize as valid\n",
    "    # Retain rest of train and serialize as train\n",
    "    val_df = TRAIN_DF.sample(frac=FRAC, random_state=RANDOM_STATE) \n",
    "    train_df = TRAIN_DF.drop(val_df.index)\n",
    "    val_df.to_csv(NEW_VAL + f_name, sep='\\t', index=False)\n",
    "    train_df.to_csv(NEW_TRAIN + f_name, sep='\\t', index=False)"
   ]
  },
  {
   "cell_type": "markdown",
   "metadata": {},
   "source": [
    "# Script"
   ]
  },
  {
   "cell_type": "code",
   "execution_count": 4,
   "metadata": {},
   "outputs": [
    {
     "name": "stderr",
     "output_type": "stream",
     "text": [
      "100%|███████████████████████████████████████████████████████████████████████████████| 162/162 [00:00<00:00, 191.10it/s]\n"
     ]
    }
   ],
   "source": [
    "# Make valid split, 10% of train; save rest as train\n",
    "for f in tqdm(glob(TRAIN +'*.tsv')):\n",
    "        f_name = os.path.basename(f)\n",
    "        df = pd.read_table(f)\n",
    "        create_train_val(df, f_name)"
   ]
  },
  {
   "cell_type": "code",
   "execution_count": null,
   "metadata": {},
   "outputs": [],
   "source": []
  }
 ],
 "metadata": {
  "kernelspec": {
   "display_name": "dissertation_huggingface",
   "language": "python",
   "name": "dissertation_huggingface"
  },
  "language_info": {
   "codemirror_mode": {
    "name": "ipython",
    "version": 3
   },
   "file_extension": ".py",
   "mimetype": "text/x-python",
   "name": "python",
   "nbconvert_exporter": "python",
   "pygments_lexer": "ipython3",
   "version": "3.7.8"
  }
 },
 "nbformat": 4,
 "nbformat_minor": 4
}
