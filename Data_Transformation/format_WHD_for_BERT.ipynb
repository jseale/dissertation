{
 "cells": [
  {
   "cell_type": "markdown",
   "metadata": {},
   "source": [
    "# Description\n",
    "**Functionality**: This module formats the three way split Wikipedia Homograph Data (WHD) for BERT token classification using Huggingface tools. \n",
    "\n",
    "**Use**: The BERT-based token classification model finetuning functionality from Huggingface expects CoNLL03-formatted data. The output from this module will be used to finetune models in order to predict pronunciation labels on homographs."
   ]
  },
  {
   "cell_type": "markdown",
   "metadata": {},
   "source": [
    "### Imports"
   ]
  },
  {
   "cell_type": "code",
   "execution_count": 1,
   "metadata": {},
   "outputs": [],
   "source": [
    "import os\n",
    "from glob import glob\n",
    "import pandas as pd\n",
    "from tqdm import tqdm\n",
    "from typing import List, Dict\n",
    "import spacy\n",
    "from transformers import AutoTokenizer"
   ]
  },
  {
   "cell_type": "markdown",
   "metadata": {},
   "source": [
    "### Variables"
   ]
  },
  {
   "cell_type": "code",
   "execution_count": 2,
   "metadata": {},
   "outputs": [],
   "source": [
    "#Paths \n",
    "BASE = \"C:/Users/jseal/Dev/dissertation/Data/\"\n",
    "WHD_DATA_BASE = BASE + \"WikipediaHomographData/data/\"\n",
    "METADATA = WHD_DATA_BASE + 'WikipediaHomographData.csv'\n",
    "WHD_DATA_IN = WHD_DATA_BASE + \"three_split_data/\"\n",
    "WHD_DATA_OUT = BASE + \"WHD_Bert/\"\n",
    "LABELS = WHD_DATA_OUT + \"labels.txt\"\n",
    "\n",
    "#Source paths\n",
    "TRAIN = WHD_DATA_IN + \"train/\"\n",
    "DEV = WHD_DATA_IN + \"dev/\"\n",
    "TEST = WHD_DATA_IN + \"test/\"\n",
    "SOURCE_TSVS = [TRAIN, DEV, TEST]\n",
    "\n",
    "#Destination paths\n",
    "TRAIN_TSV = WHD_DATA_OUT + \"train_tsvs/\"\n",
    "DEV_TSV = WHD_DATA_OUT + \"dev_tsvs/\"\n",
    "TEST_TSV = WHD_DATA_OUT + \"test_tsvs/\"\n",
    "DESTINATION_TSVS = [TRAIN_TSV, DEV_TSV, TEST_TSV]\n",
    "\n",
    "SOURCE_DEST = zip(SOURCE_TSVS, DESTINATION_TSVS)\n",
    "\n",
    "#Tmp Train, val, test splits in one file each\n",
    "TRAIN_TMP = WHD_DATA_OUT + \"train.txt.tmp\"\n",
    "DEV_TMP = WHD_DATA_OUT + \"dev.txt.tmp\"\n",
    "TEST_TMP = WHD_DATA_OUT + \"test.txt.tmp\"\n",
    "TMPS = [TRAIN_TMP, DEV_TMP, TEST_TMP]\n",
    "\n",
    "TSVS_TMPS = zip(DESTINATION_TSVS, TMPS)\n",
    "\n",
    "#Train, val, test splits in one file each\n",
    "TRAIN_TXT = WHD_DATA_OUT + \"train.txt\"\n",
    "DEV_TXT = WHD_DATA_OUT + \"dev.txt\"\n",
    "TEST_TXT = WHD_DATA_OUT + \"test.txt\"\n",
    "DESTINATIONS = [TRAIN_TXT, DEV_TXT, TEST_TXT]\n",
    "\n",
    "TMPS_DESTS = zip(TMPS, DESTINATIONS)\n",
    "\n",
    "#Tools\n",
    "nlp = spacy.load('en_core_web_sm')\n",
    "\n",
    "#Label variables\n",
    "OUTSIDE = \"O\" #Label for all words that are not a homograph\n",
    "\n",
    "#Options\n",
    "pd.set_option('display.max_rows', None)\n",
    "\n",
    "#Model info\n",
    "MODEL_NAME = \"distilbert-base-cased\"\n"
   ]
  },
  {
   "cell_type": "markdown",
   "metadata": {},
   "source": [
    "### Functions"
   ]
  },
  {
   "cell_type": "code",
   "execution_count": 3,
   "metadata": {},
   "outputs": [],
   "source": [
    "def get_tokens(sentence : str) -> List:\n",
    "    sent_nlp =  nlp(sentence, disable=['parser', 'tagger', 'ner'])\n",
    "    tokens = [token.text for token in sent_nlp if not token.is_punct]\n",
    "    return tokens\n",
    "\n",
    "def make_str(label : List) -> str: \n",
    "    return ' '.join(label)\n",
    "\n",
    "def make_tsvs() -> None: \n",
    "    for PATHS in SOURCE_DEST: # Do this for train, test, valid\n",
    "        for source in tqdm(glob(PATHS[0] +'*.tsv')): \n",
    "            source_name = os.path.basename(source)\n",
    "            df = pd.read_table(source)\n",
    "            df = df[['homograph', 'wordid', 'sentence']]\n",
    "            df['token'] = df.sentence.apply(lambda sentence : get_tokens(sentence))\n",
    "            df = df.explode('token') # Get one row per token \n",
    "            for index, group in df.groupby(df.index):# Create one tsv per sentence; one line per token, label pair\n",
    "                sentence_dicts = []\n",
    "                for idx, row in group.iterrows():\n",
    "                    sentence_dict = {}\n",
    "                    token = row['token']\n",
    "                    homograph = row['homograph']\n",
    "                    sentence_dict['sent_id'] = \"{}_{}\".format(homograph, index)\n",
    "                    sentence_dict['token'] = token\n",
    "                    if token.lower() == homograph: # If the lowercase token is the same as the homograph, label with the wordid\n",
    "                        sentence_dict['label'] = [row['wordid']]\n",
    "                    else: \n",
    "                        sentence_dict['label'] = [OUTSIDE] # If the token is not the homograph, label with 'O' for 'outside'\n",
    "                    sentence_dicts.append(sentence_dict)\n",
    "                df = pd.DataFrame(sentence_dicts)\n",
    "                df['label'] = df['label'].apply(make_str)\n",
    "                new_f_name = PATHS[1] + source_name[:-4] + \"_\" + str(index) + '.txt'# Name file with homograph and sentence number\n",
    "                df.to_csv(new_f_name, sep=\"\\t\", header=False, index=False) \n",
    "    \n",
    "def make_tmps() -> None: \n",
    "    # Write temporary train, val, and test txt files from tsvs\n",
    "    for tsv_dir, tmp in TSVS_TMPS:\n",
    "        with open(tmp, 'w', encoding=\"utf8\") as f_out: \n",
    "            for f in glob(tsv_dir + \"*\"):\n",
    "                with open(f, encoding=\"utf8\") as example:\n",
    "                    lines = example.readlines()\n",
    "                    for line in lines: \n",
    "                        line_list = line.split('\\t')\n",
    "                        f_out.write(line_list[1] + '\\t' + line_list[2])\n",
    "                f_out.write('\\n')    \n",
    "                    \n",
    "def make_txts() -> None:\n",
    "    MAX_LENGTH = 128\n",
    "    #Write train, val, and test txt files\n",
    "    subword_len_counter = 0\n",
    "    tokenizer = AutoTokenizer.from_pretrained(MODEL_NAME)\n",
    "    MAX_LENGTH -= tokenizer.num_special_tokens_to_add()\n",
    "\n",
    "    for tmp, outfile in tqdm(TMPS_DESTS):\n",
    "        with open(tmp, \"r\", encoding=\"utf8\") as f_p:\n",
    "            with open(outfile, \"w\", encoding=\"utf8\") as out_f: \n",
    "                for line in f_p:\n",
    "                    line = line.rstrip()\n",
    "\n",
    "                    if not line:\n",
    "                        out_f.write(line +\"\\n\")\n",
    "                        subword_len_counter = 0\n",
    "                        continue\n",
    "\n",
    "                    token = line.split()[0]\n",
    "\n",
    "                    current_subwords_len = len(tokenizer.tokenize(token))\n",
    "\n",
    "                    # If token contains strange control characters like \\x96 or \\x95\n",
    "                    # filter out the line\n",
    "                    if current_subwords_len == 0:\n",
    "                        continue\n",
    "\n",
    "                    if (subword_len_counter + current_subwords_len) > MAX_LENGTH:\n",
    "                        out_f.write(\"\\n\")\n",
    "                        out_f.write(line +\"\\n\")\n",
    "                        subword_len_counter = current_subwords_len\n",
    "                        continue\n",
    "\n",
    "                    subword_len_counter += current_subwords_len\n",
    "\n",
    "                    out_f.write(line + \"\\n\")\n",
    "                    \n",
    "def make_labels() -> None: \n",
    "    metadata_df = pd.read_csv(METADATA)\n",
    "    wordids = metadata_df.wordid.tolist()\n",
    "    with open(LABELS, 'w') as f:\n",
    "        for wordid in wordids:\n",
    "            f.write(\"{}\\n\".format(wordid))\n",
    "        f.write(\"{}\\n\".format('O'))"
   ]
  },
  {
   "cell_type": "markdown",
   "metadata": {},
   "source": [
    "# Script"
   ]
  },
  {
   "cell_type": "code",
   "execution_count": 4,
   "metadata": {},
   "outputs": [
    {
     "name": "stderr",
     "output_type": "stream",
     "text": [
      "100%|███████████████████████████████████████████████████████████████████████████████████████████████████████████████████████████████████████████████████████████████████████████| 162/162 [00:44<00:00,  3.64it/s]\n",
      "100%|███████████████████████████████████████████████████████████████████████████████████████████████████████████████████████████████████████████████████████████████████████████| 162/162 [00:05<00:00, 27.96it/s]\n",
      "100%|███████████████████████████████████████████████████████████████████████████████████████████████████████████████████████████████████████████████████████████████████████████| 162/162 [00:06<00:00, 25.36it/s]\n",
      "3it [00:10,  3.57s/it]\n"
     ]
    }
   ],
   "source": [
    "make_tsvs()\n",
    "make_tmps()\n",
    "make_txts()\n",
    "make_labels()"
   ]
  },
  {
   "cell_type": "code",
   "execution_count": null,
   "metadata": {},
   "outputs": [],
   "source": []
  },
  {
   "cell_type": "code",
   "execution_count": null,
   "metadata": {},
   "outputs": [],
   "source": []
  }
 ],
 "metadata": {
  "kernelspec": {
   "display_name": "dissertation_huggingface",
   "language": "python",
   "name": "dissertation_huggingface"
  },
  "language_info": {
   "codemirror_mode": {
    "name": "ipython",
    "version": 3
   },
   "file_extension": ".py",
   "mimetype": "text/x-python",
   "name": "python",
   "nbconvert_exporter": "python",
   "pygments_lexer": "ipython3",
   "version": "3.7.8"
  }
 },
 "nbformat": 4,
 "nbformat_minor": 4
}
