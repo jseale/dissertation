{
 "cells": [
  {
   "cell_type": "markdown",
   "metadata": {},
   "source": [
    "# Description\n",
    "Create SWBD data for Montreal Forced Aligner"
   ]
  },
  {
   "cell_type": "code",
   "execution_count": 1,
   "metadata": {},
   "outputs": [],
   "source": [
    "import os\n",
    "from glob import iglob\n",
    "from tqdm import tqdm\n",
    "import shutil\n",
    "import re "
   ]
  },
  {
   "cell_type": "code",
   "execution_count": 2,
   "metadata": {},
   "outputs": [],
   "source": [
    "PATH_AUDIO = '../Data/SWBD/swb1_LDC97S62'\n",
    "PATH_TEXT = '../Data/SWBD/swb1_dialogact_annot'\n",
    "PATH_MFA_SWBD = '../Data/SWBD/MFA_formatted'"
   ]
  },
  {
   "cell_type": "code",
   "execution_count": 3,
   "metadata": {},
   "outputs": [],
   "source": [
    "auds = dict()\n",
    "for f1 in iglob(os.path.join(PATH_AUDIO, \"**\"), recursive=True): \n",
    "    if f1.endswith('.wav'):\n",
    "        f1_name = os.path.basename(f1)\n",
    "        auds[f1_name] = f1"
   ]
  },
  {
   "cell_type": "code",
   "execution_count": 4,
   "metadata": {},
   "outputs": [
    {
     "name": "stdout",
     "output_type": "stream",
     "text": [
      "../Data/SWBD/swb1_LDC97S62/swb1_d4/data/sw04771.wav\n"
     ]
    }
   ],
   "source": [
    "print(auds['sw04771.wav'])"
   ]
  },
  {
   "cell_type": "code",
   "execution_count": 5,
   "metadata": {},
   "outputs": [
    {
     "name": "stderr",
     "output_type": "stream",
     "text": [
      "1175it [00:09, 124.57it/s]\n"
     ]
    }
   ],
   "source": [
    "for f in tqdm(iglob(os.path.join(PATH_TEXT, '**'), recursive=True)):\n",
    "    if f.endswith('.utt'):\n",
    "        to_match = \"sw0{}.wav\".format(f[-8:-4])\n",
    "        try:\n",
    "            auds[to_match]\n",
    "            shutil.copy(auds[to_match], PATH_MFA_SWBD)\n",
    "        except KeyError:\n",
    "            continue"
   ]
  },
  {
   "cell_type": "code",
   "execution_count": 30,
   "metadata": {},
   "outputs": [
    {
     "name": "stderr",
     "output_type": "stream",
     "text": [
      "2311it [00:02, 889.47it/s]\n"
     ]
    }
   ],
   "source": [
    "utt = re.compile(\"utt*.:\")\n",
    "double_brackets = re.compile(\"<<.*>>\")\n",
    "brackets = re.compile(\"<.*>\")\n",
    "square = re.compile(\"[[.*]]\")\n",
    "\n",
    "#upper_single = re.compile(r'^[A-Z\\d]+$')\n",
    "for f in tqdm(iglob(os.path.join(PATH_MFA_SWBD, '**'), recursive=True)):\n",
    "    new_file = \"\"\n",
    "    if f.endswith('.utt'):\n",
    "        with open(f) as utts: \n",
    "            for line in utts.readlines():\n",
    "                if re.search(utt, line): \n",
    "                    idx = re.search(utt, line).span()[1]\n",
    "                    line = line[idx:]\n",
    "                    if re.search(' /', line): \n",
    "                        end = re.search(' /', line).span()[0]\n",
    "                        line = line[:end]   \n",
    "                    line = double_brackets.sub('', line)\n",
    "                    line = brackets.sub('', line)\n",
    "                    line = square.sub('', line)\n",
    "                    line = line.replace('{', '')\\\n",
    "                              .replace('}', '')\\\n",
    "                              .replace('[', '')\\\n",
    "                              .replace(']','')\\\n",
    "                              .replace('+', '')\\\n",
    "                              .replace('-', '')\\\n",
    "                              .replace('--', '')\\\n",
    "                              .replace('((', '')\\\n",
    "                              .replace('))', '')\\\n",
    "                              .replace('#', ' ')\\\n",
    "                              .replace(' F ', ' ')\\\n",
    "                              .replace(' C ', ' ')\\\n",
    "                              .replace(' E ', ' ')\\\n",
    "                              .replace(' D ', ' ')\\\n",
    "                              .replace(' / ', ' ')\\\n",
    "                              .replace(' .', '.')\\\n",
    "                              .replace(' ,', ',')\n",
    "                    new_file += (line)\n",
    "        new_file = ' '.join(new_file.split())\n",
    "        with open(\"{}/sw0{}.lab\".format(PATH_MFA_SWBD, os.path.basename(f)[-8:-4]), \"w+\") as fout: \n",
    "            fout.write(new_file)\n",
    "         "
   ]
  },
  {
   "cell_type": "code",
   "execution_count": null,
   "metadata": {},
   "outputs": [],
   "source": []
  },
  {
   "cell_type": "code",
   "execution_count": null,
   "metadata": {},
   "outputs": [],
   "source": []
  }
 ],
 "metadata": {
  "kernelspec": {
   "display_name": "dissertation",
   "language": "python",
   "name": "dissertation"
  },
  "language_info": {
   "codemirror_mode": {
    "name": "ipython",
    "version": 3
   },
   "file_extension": ".py",
   "mimetype": "text/x-python",
   "name": "python",
   "nbconvert_exporter": "python",
   "pygments_lexer": "ipython3",
   "version": "3.8.5"
  }
 },
 "nbformat": 4,
 "nbformat_minor": 2
}
