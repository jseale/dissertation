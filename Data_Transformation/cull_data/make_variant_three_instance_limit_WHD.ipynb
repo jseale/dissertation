{
 "cells": [
  {
   "cell_type": "markdown",
   "metadata": {},
   "source": [
    "# Description\n",
    "**Functionality**: Removes homographs for which any one pronunciation class has less than three examples, as classes with under two examples will not be represented in the train, dev, and test splits. "
   ]
  },
  {
   "cell_type": "code",
   "execution_count": 1,
   "metadata": {},
   "outputs": [],
   "source": [
    "import os\n",
    "import shutil\n",
    "import glob\n",
    "import pandas as pd\n",
    "from tqdm import tqdm"
   ]
  },
  {
   "cell_type": "code",
   "execution_count": 2,
   "metadata": {},
   "outputs": [],
   "source": [
    "#Paths \n",
    "WHD_DATA = \"C:/Users/jseal/Dev/dissertation/Data/WikipediaHomographData/data/\"\n",
    "TRAIN = WHD_DATA + \"train_cpy/\"\n",
    "EVAL = WHD_DATA + \"eval_cpy/\"\n",
    "\n",
    "WHD_DATA_VARIANT = \"C:/Users/jseal/Dev/dissertation/Data/WikipediaHomographData/data/variant_limit_data/\"\n",
    "TRAIN_VARIANT = WHD_DATA_VARIANT + \"train/\"\n",
    "EVAL_VARIANT = WHD_DATA_VARIANT + \"eval/\"\n",
    "\n",
    "pd.set_option('display.max_rows', None)"
   ]
  },
  {
   "cell_type": "markdown",
   "metadata": {},
   "source": [
    "### Script"
   ]
  },
  {
   "cell_type": "code",
   "execution_count": 3,
   "metadata": {},
   "outputs": [
    {
     "name": "stderr",
     "output_type": "stream",
     "text": [
      "162it [00:00, 726.43it/s]\n",
      "162it [00:00, 782.16it/s]\n"
     ]
    }
   ],
   "source": [
    "#Combine train and eval data\n",
    "dfs = []\n",
    "for f in tqdm(glob.iglob(TRAIN +'*.tsv')):\n",
    "    df = pd.read_table(f)\n",
    "    dfs.append(df)\n",
    "for f in tqdm(glob.iglob(EVAL +'*.tsv')):\n",
    "    df = pd.read_table(f)\n",
    "    dfs.append(df)\n",
    "\n",
    "train_eval_df = pd.concat(dfs)\n",
    "\n",
    "#Remove invariant homographs\n",
    "unique = train_eval_df.groupby('homograph')['wordid'].nunique()\n",
    "one_count = unique[unique == 1]\n",
    "dataset = train_eval_df[~train_eval_df['homograph'].isin(one_count.index.tolist())]\n",
    "\n",
    "#Remove low resource homographs (< 3 instances)\n",
    "counts = dataset.groupby('wordid').count()\n",
    "low_resource = counts[counts['homograph'] < 3].index.tolist()\n",
    "dataset_final = dataset[~dataset['wordid'].isin(low_resource)]\n",
    "\n",
    "#Get list of homographs to remove\n",
    "to_remove_df = pd.concat([train_eval_df, dataset_final]).drop_duplicates(keep=False)\n",
    "to_remove = to_remove_df.homograph.unique()"
   ]
  },
  {
   "cell_type": "code",
   "execution_count": 4,
   "metadata": {},
   "outputs": [
    {
     "name": "stderr",
     "output_type": "stream",
     "text": [
      "162it [00:00, 1203.84it/s]\n"
     ]
    }
   ],
   "source": [
    "for f in tqdm(glob.iglob(TRAIN +'*.tsv')):\n",
    "    f_name = os.path.basename(f)\n",
    "    if f_name[:-4] not in to_remove: \n",
    "        shutil.copy(f, TRAIN_VARIANT)"
   ]
  },
  {
   "cell_type": "code",
   "execution_count": 5,
   "metadata": {},
   "outputs": [
    {
     "name": "stderr",
     "output_type": "stream",
     "text": [
      "162it [00:00, 1290.94it/s]\n"
     ]
    }
   ],
   "source": [
    "for f in tqdm(glob.iglob(EVAL +'*.tsv')):\n",
    "    f_name = os.path.basename(f)\n",
    "    if f_name[:-4] not in to_remove: \n",
    "        shutil.copy(f, EVAL_VARIANT)"
   ]
  }
 ],
 "metadata": {
  "kernelspec": {
   "display_name": "dissertation_huggingface",
   "language": "python",
   "name": "dissertation_huggingface"
  },
  "language_info": {
   "codemirror_mode": {
    "name": "ipython",
    "version": 3
   },
   "file_extension": ".py",
   "mimetype": "text/x-python",
   "name": "python",
   "nbconvert_exporter": "python",
   "pygments_lexer": "ipython3",
   "version": "3.7.8"
  }
 },
 "nbformat": 4,
 "nbformat_minor": 4
}
