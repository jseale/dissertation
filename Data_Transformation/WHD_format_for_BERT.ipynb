{
 "cells": [
  {
   "cell_type": "markdown",
   "metadata": {},
   "source": [
    "# Description\n",
    "**Functionality**: This module formats the three way split Wikipedia Homograph Data (WHD) for BERT token classification using Huggingface tools. \n",
    "\n",
    "**Use**: The BERT model finetuning functionality from Huggingface expects CoNLL03-formatted data. The output from this model will be used to finetune in order to predict pronunciation labels on homographs."
   ]
  },
  {
   "cell_type": "markdown",
   "metadata": {},
   "source": [
    "### Imports"
   ]
  },
  {
   "cell_type": "code",
   "execution_count": 1,
   "metadata": {},
   "outputs": [],
   "source": [
    "import os\n",
    "from glob import glob\n",
    "import pandas as pd\n",
    "from tqdm import tqdm\n",
    "from typing import List, Dict\n",
    "import spacy"
   ]
  },
  {
   "cell_type": "markdown",
   "metadata": {},
   "source": [
    "### Variables"
   ]
  },
  {
   "cell_type": "code",
   "execution_count": 2,
   "metadata": {},
   "outputs": [],
   "source": [
    "#Paths \n",
    "WHD_DATA = \"C:/Users/jseal/Dev/dissertation/Data/WikipediaHomographData/data/\"\n",
    "#Source paths\n",
    "TRAIN = WHD_DATA + \"three_split_data/train/\"\n",
    "VAL = WHD_DATA + \"three_split_data/valid/\"\n",
    "TEST = WHD_DATA + \"three_split_data/test/\"\n",
    "#Destination paths\n",
    "BERT_TRAIN = WHD_DATA + \"bert_data/train/\"\n",
    "BERT_VAL = WHD_DATA + \"bert_data/valid/\"\n",
    "BERT_TEST = WHD_DATA + \"bert_data/test/\" \n",
    "# Zip for source, destination data paths\n",
    "ORIGINAL_SETS = [TRAIN, VAL, TEST]\n",
    "BERT_SETS = [BERT_TRAIN, BERT_VAL, BERT_TEST]\n",
    "ORIGINAL_BERT = zip(ORIGINAL_SETS, BERT_SETS)\n",
    "\n",
    "#Tools\n",
    "nlp = spacy.load('en_core_web_sm')\n",
    "\n",
    "#Variables\n",
    "OUTSIDE = \"O\" #Label for all words that are not a homograph\n",
    "\n",
    "#Options\n",
    "pd.set_option('display.max_rows', None)"
   ]
  },
  {
   "cell_type": "markdown",
   "metadata": {},
   "source": [
    "### Functions"
   ]
  },
  {
   "cell_type": "code",
   "execution_count": 3,
   "metadata": {},
   "outputs": [],
   "source": [
    "def get_tokens(sentence : str) -> List:\n",
    "    sent_nlp =  nlp(sentence, disable=['parser', 'tagger', 'ner'])\n",
    "    tokens = [token.text for token in sent_nlp if not token.is_punct]\n",
    "    return tokens\n",
    "\n",
    "def make_str(label : List) -> str: \n",
    "    return ' '.join(label)"
   ]
  },
  {
   "cell_type": "markdown",
   "metadata": {},
   "source": [
    "# Script"
   ]
  },
  {
   "cell_type": "code",
   "execution_count": 4,
   "metadata": {},
   "outputs": [
    {
     "name": "stderr",
     "output_type": "stream",
     "text": [
      "100%|████████████████████████████████████████████████████████████████████████████████████████████| 162/162 [00:44<00:00,  3.60it/s]\n",
      "100%|████████████████████████████████████████████████████████████████████████████████████████████| 162/162 [00:05<00:00, 27.73it/s]\n",
      "100%|████████████████████████████████████████████████████████████████████████████████████████████| 162/162 [00:06<00:00, 25.35it/s]\n"
     ]
    }
   ],
   "source": [
    "for PATH in ORIGINAL_BERT: # Do this for train, test, valid\n",
    "    for f in tqdm(glob(PATH[0] +'*.tsv')): \n",
    "        f_name = os.path.basename(f)\n",
    "        df = pd.read_table(f)\n",
    "        df = df[['homograph', 'wordid', 'sentence']]\n",
    "        df['token'] = df.sentence.apply(lambda sentence : get_tokens(sentence))\n",
    "        df = df.explode('token') # Get one row per token \n",
    "        for index, group in df.groupby(df.index):# Create one tsv per sentence; one line per token, label pair\n",
    "            sentence_dicts = []\n",
    "            for idx, row in group.iterrows():\n",
    "                sentence_dict = {}\n",
    "                token = row['token']\n",
    "                homograph = row['homograph']\n",
    "                sentence_dict['token'] = token \n",
    "                if token.lower() == homograph: # If the lowercase token is the same as the homograph, label with the wordid\n",
    "                    sentence_dict['label'] = [row['wordid']]\n",
    "                else: \n",
    "                    sentence_dict['label'] = [OUTSIDE] # If the token is not the homograph, label with 'O' for 'outside'\n",
    "                sentence_dicts.append(sentence_dict)\n",
    "            df = pd.DataFrame(sentence_dicts)\n",
    "            df['label'] = df['label'].apply(make_str)\n",
    "            new_f_name = PATH[1] + f_name[:-4] + \"_\" + str(index) + '.tsv'# Name file with sentence number f\n",
    "            df.to_csv(new_f_name, sep=\"\\t\", header=False, index=False) \n",
    "       "
   ]
  },
  {
   "cell_type": "code",
   "execution_count": null,
   "metadata": {},
   "outputs": [],
   "source": []
  },
  {
   "cell_type": "code",
   "execution_count": null,
   "metadata": {},
   "outputs": [],
   "source": []
  }
 ],
 "metadata": {
  "kernelspec": {
   "display_name": "dissertation_huggingface",
   "language": "python",
   "name": "dissertation_huggingface"
  },
  "language_info": {
   "codemirror_mode": {
    "name": "ipython",
    "version": 3
   },
   "file_extension": ".py",
   "mimetype": "text/x-python",
   "name": "python",
   "nbconvert_exporter": "python",
   "pygments_lexer": "ipython3",
   "version": "3.7.8"
  }
 },
 "nbformat": 4,
 "nbformat_minor": 4
}
