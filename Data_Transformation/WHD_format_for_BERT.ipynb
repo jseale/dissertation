{
 "cells": [
  {
   "cell_type": "markdown",
   "metadata": {},
   "source": [
    "# Description\n",
    "**Functionality**: This module formats the three way split Wikipedia Homograph Data (WHD) for BERT token classification using Huggingface tools. \n",
    "\n",
    "**Use**: The BERT model finetuning functionality from Huggingface expects CoNLL03-formatted data. The output from this model will be used to finetune in order to predict pronunciation labels on homographs."
   ]
  },
  {
   "cell_type": "markdown",
   "metadata": {},
   "source": [
    "### Imports"
   ]
  },
  {
   "cell_type": "code",
   "execution_count": 1,
   "metadata": {},
   "outputs": [],
   "source": [
    "import os\n",
    "from glob import glob\n",
    "import pandas as pd\n",
    "from tqdm import tqdm\n",
    "from typing import List, Dict\n",
    "import spacy"
   ]
  },
  {
   "cell_type": "markdown",
   "metadata": {},
   "source": [
    "### Variables"
   ]
  },
  {
   "cell_type": "code",
   "execution_count": 2,
   "metadata": {},
   "outputs": [],
   "source": [
    "#Paths \n",
    "WHD_DATA = \"C:/Users/jseal/Dev/dissertation/Data/WikipediaHomographData/data/\"\n",
    "METADATA = WHD_DATA + 'WikipediaHomographData.csv'\n",
    "#Source paths\n",
    "TRAIN = WHD_DATA + \"three_split_data/train/\"\n",
    "VAL = WHD_DATA + \"three_split_data/valid/\"\n",
    "TEST = WHD_DATA + \"three_split_data/test/\"\n",
    "#Destination paths\n",
    "BERT_TRAIN = WHD_DATA + \"bert_data/train/\"\n",
    "BERT_DEV = WHD_DATA + \"bert_data/dev/\"\n",
    "BERT_TEST = WHD_DATA + \"bert_data/test/\" \n",
    "# Zip for source, destination data paths\n",
    "ORIGINAL_SETS = [TRAIN, VAL, TEST]\n",
    "BERT_SETS = [BERT_TRAIN, BERT_DEV, BERT_TEST]\n",
    "SOURCE_DEST = zip(ORIGINAL_SETS, BERT_SETS)\n",
    "\n",
    "#Tools\n",
    "nlp = spacy.load('en_core_web_sm')\n",
    "\n",
    "#Variables\n",
    "OUTSIDE = \"O\" #Label for all words that are not a homograph\n",
    "\n",
    "#Options\n",
    "pd.set_option('display.max_rows', None)"
   ]
  },
  {
   "cell_type": "markdown",
   "metadata": {},
   "source": [
    "### Functions"
   ]
  },
  {
   "cell_type": "code",
   "execution_count": 3,
   "metadata": {},
   "outputs": [],
   "source": [
    "def get_tokens(sentence : str) -> List:\n",
    "    sent_nlp =  nlp(sentence, disable=['parser', 'tagger', 'ner'])\n",
    "    tokens = [token.text for token in sent_nlp if not token.is_punct]\n",
    "    return tokens\n",
    "\n",
    "def make_str(label : List) -> str: \n",
    "    return ' '.join(label)"
   ]
  },
  {
   "cell_type": "markdown",
   "metadata": {},
   "source": [
    "# Script"
   ]
  },
  {
   "cell_type": "code",
   "execution_count": 4,
   "metadata": {},
   "outputs": [
    {
     "name": "stderr",
     "output_type": "stream",
     "text": [
      "100%|████████████████████████████████████████████████████████████████████████████████████████████| 162/162 [00:47<00:00,  3.39it/s]\n",
      "100%|████████████████████████████████████████████████████████████████████████████████████████████| 162/162 [00:05<00:00, 27.40it/s]\n",
      "100%|████████████████████████████████████████████████████████████████████████████████████████████| 162/162 [00:06<00:00, 24.90it/s]\n"
     ]
    }
   ],
   "source": [
    "for PATHS in SOURCE_DEST: # Do this for train, test, valid\n",
    "    for f in tqdm(glob(PATHS[0] +'*.tsv')): \n",
    "        f_name = os.path.basename(f)\n",
    "        df = pd.read_table(f)\n",
    "        df = df[['homograph', 'wordid', 'sentence']]\n",
    "        df['token'] = df.sentence.apply(lambda sentence : get_tokens(sentence))\n",
    "        df = df.explode('token') # Get one row per token \n",
    "        for index, group in df.groupby(df.index):# Create one tsv per sentence; one line per token, label pair\n",
    "            sentence_dicts = []\n",
    "            for idx, row in group.iterrows():\n",
    "                sentence_dict = {}\n",
    "                token = row['token']\n",
    "                homograph = row['homograph']\n",
    "                sentence_dict['sent_id'] = \"{}_{}\".format(homograph, index)\n",
    "                sentence_dict['token'] = token\n",
    "                if token.lower() == homograph: # If the lowercase token is the same as the homograph, label with the wordid\n",
    "                    sentence_dict['label'] = [row['wordid']]\n",
    "                else: \n",
    "                    sentence_dict['label'] = [OUTSIDE] # If the token is not the homograph, label with 'O' for 'outside'\n",
    "                sentence_dicts.append(sentence_dict)\n",
    "            df = pd.DataFrame(sentence_dicts)\n",
    "            df['label'] = df['label'].apply(make_str)\n",
    "            new_f_name = PATHS[1] + f_name[:-4] + \"_\" + str(index) + '.txt'# Name file with homograph and sentence number\n",
    "            df.to_csv(new_f_name, sep=\"\\t\", header=False, index=False) \n",
    "       "
   ]
  },
  {
   "cell_type": "markdown",
   "metadata": {},
   "source": [
    "### Make labels.txt"
   ]
  },
  {
   "cell_type": "code",
   "execution_count": 5,
   "metadata": {},
   "outputs": [],
   "source": [
    "metadata_df = pd.read_csv(METADATA)\n",
    "wordids = metadata_df.wordid.tolist()\n",
    "out_file = WHD_DATA + \"bert_data/labels.txt\"\n",
    "with open(out_file, 'w') as f:\n",
    "    for wordid in wordids:\n",
    "        f.write(\"{}\\n\".format(wordid))\n",
    "    f.write(\"{}\\n\".format('O'))"
   ]
  },
  {
   "cell_type": "code",
   "execution_count": null,
   "metadata": {},
   "outputs": [],
   "source": []
  }
 ],
 "metadata": {
  "kernelspec": {
   "display_name": "dissertation_huggingface",
   "language": "python",
   "name": "dissertation_huggingface"
  },
  "language_info": {
   "codemirror_mode": {
    "name": "ipython",
    "version": 3
   },
   "file_extension": ".py",
   "mimetype": "text/x-python",
   "name": "python",
   "nbconvert_exporter": "python",
   "pygments_lexer": "ipython3",
   "version": "3.7.8"
  }
 },
 "nbformat": 4,
 "nbformat_minor": 4
}
