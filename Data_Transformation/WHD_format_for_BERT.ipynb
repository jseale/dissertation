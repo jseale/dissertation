{
 "cells": [
  {
   "cell_type": "markdown",
   "metadata": {},
   "source": [
    "# Description\n",
    "**Functionality**: This module formats the three way split Wikipedia Homograph Data (WHD) for BERT token classification using Huggingface tools. \n",
    "\n",
    "**Use**: The BERT model finetuning functionality from Huggingface expects CoNLL03-formatted data. The output from this model will be used to finetune in order to predict pronunciation labels on homographs."
   ]
  },
  {
   "cell_type": "markdown",
   "metadata": {},
   "source": [
    "### Imports"
   ]
  },
  {
   "cell_type": "code",
   "execution_count": null,
   "metadata": {},
   "outputs": [],
   "source": [
    "import os\n",
    "from glob import glob\n",
    "import pandas as pd\n",
    "from tqdm import tqdm\n",
    "from typing import List, Dict\n",
    "import spacy"
   ]
  },
  {
   "cell_type": "markdown",
   "metadata": {},
   "source": [
    "### Variables"
   ]
  },
  {
   "cell_type": "code",
   "execution_count": null,
   "metadata": {},
   "outputs": [],
   "source": [
    "#Paths \n",
    "WHD_DATA = \"C:/Users/jseal/Dev/dissertation/Data/WikipediaHomographData/data/\"\n",
    "METADATA = WHD_DATA + 'WikipediaHomographData.csv'\n",
    "LABELS = WHD_DATA + \"bert_data/labels.txt\"\n",
    "#Source paths\n",
    "TRAIN = WHD_DATA + \"three_split_data/train/\"\n",
    "VAL = WHD_DATA + \"three_split_data/valid/\"\n",
    "TEST = WHD_DATA + \"three_split_data/test/\"\n",
    "#Destination paths\n",
    "BERT_TRAIN = WHD_DATA + \"bert_data/train/\"\n",
    "BERT_DEV = WHD_DATA + \"bert_data/dev/\"\n",
    "BERT_TEST = WHD_DATA + \"bert_data/test/\" \n",
    "# Zip for source, destination data paths\n",
    "ORIGINAL_SETS = [TRAIN, VAL, TEST]\n",
    "BERT_SETS = [BERT_TRAIN, BERT_DEV, BERT_TEST]\n",
    "SOURCE_DEST = zip(ORIGINAL_SETS, BERT_SETS)\n",
    "\n",
    "#Train, val, test splits in one file each\n",
    "TRAIN_TMP = WHD_BERT_DATA + \"train.txt.tmp\"\n",
    "VAL_TMP = WHD_BERT_DATA + \"val.txt.tmp\"\n",
    "TEST_TMP = WHD_BERT_DATA + \"test.txt.tmp\"\n",
    "TMPS = [TRAIN_TMP, VAL_TMP, TEST_TMP]\n",
    "\n",
    "TRAIN_TXT = WHD_BERT_DATA + \"train.txt\"\n",
    "VAL_TXT = WHD_BERT_DATA + \"val.txt\"\n",
    "TEST_TXT = WHD_BERT_DATA + \"test.txt\"\n",
    "OUTS = [TRAIN_TXT, VAL_TXT, TEST_TXT]\n",
    "\n",
    "TMPS_OUTS = zip(TMPS, OUTS)\n",
    "\n",
    "#Tools\n",
    "nlp = spacy.load('en_core_web_sm')\n",
    "\n",
    "#Variables\n",
    "OUTSIDE = \"O\" #Label for all words that are not a homograph\n",
    "\n",
    "#Options\n",
    "pd.set_option('display.max_rows', None)"
   ]
  },
  {
   "cell_type": "markdown",
   "metadata": {},
   "source": [
    "### Functions"
   ]
  },
  {
   "cell_type": "code",
   "execution_count": null,
   "metadata": {},
   "outputs": [],
   "source": [
    "def get_tokens(sentence : str) -> List:\n",
    "    sent_nlp =  nlp(sentence, disable=['parser', 'tagger', 'ner'])\n",
    "    tokens = [token.text for token in sent_nlp if not token.is_punct]\n",
    "    return tokens\n",
    "\n",
    "def make_str(label : List) -> str: \n",
    "    return ' '.join(label)\n",
    "\n",
    "def make_tsvs(): \n",
    "    for PATHS in SOURCE_DEST: # Do this for train, test, valid\n",
    "        for f in tqdm(glob(PATHS[0] +'*.tsv')): \n",
    "            f_name = os.path.basename(f)\n",
    "            df = pd.read_table(f)\n",
    "            df = df[['homograph', 'wordid', 'sentence']]\n",
    "            df['token'] = df.sentence.apply(lambda sentence : get_tokens(sentence))\n",
    "            df = df.explode('token') # Get one row per token \n",
    "            for index, group in df.groupby(df.index):# Create one tsv per sentence; one line per token, label pair\n",
    "                sentence_dicts = []\n",
    "                for idx, row in group.iterrows():\n",
    "                    sentence_dict = {}\n",
    "                    token = row['token']\n",
    "                    homograph = row['homograph']\n",
    "                    sentence_dict['sent_id'] = \"{}_{}\".format(homograph, index)\n",
    "                    sentence_dict['token'] = token\n",
    "                    if token.lower() == homograph: # If the lowercase token is the same as the homograph, label with the wordid\n",
    "                        sentence_dict['label'] = [row['wordid']]\n",
    "                    else: \n",
    "                        sentence_dict['label'] = [OUTSIDE] # If the token is not the homograph, label with 'O' for 'outside'\n",
    "                    sentence_dicts.append(sentence_dict)\n",
    "                df = pd.DataFrame(sentence_dicts)\n",
    "                df['label'] = df['label']apply(make_str)\n",
    "                new_f_name = PATHS[1] + f_name[:-4] + \"_\" + str(index) + '.txt'# Name file with homograph and sentence number\n",
    "                df.to_csv(new_f_name, sep=\"\\t\", header=False, index=False) \n",
    "    \n",
    "def make_tmps(): \n",
    "    # Write temporary train, val, and test txt files\n",
    "    for tmp in TMPS:\n",
    "        for split_path in ALL_SPLITS:\n",
    "            with open(tmp, 'w', encoding=\"utf8\") as f_out: \n",
    "                for f in glob(split_path + \"*\"):\n",
    "                    with open(f, encoding=\"utf8\") as example:\n",
    "                        lines = example.readlines()\n",
    "                        for line in lines: \n",
    "                            line_list = line.split('\\t')\n",
    "                            f_out.write(line_list[1] + '\\t' + line_list[2])\n",
    "                    f_out.write('\\n')\n",
    "                \n",
    "def make_txts():\n",
    "    #Write train, val, and test txt files\n",
    "    subword_len_counter = 0\n",
    "    tokenizer = AutoTokenizer.from_pretrained(MODEL_NAME)\n",
    "    MAX_LENGTH -= tokenizer.num_special_tokens_to_add()\n",
    "\n",
    "    for tmp, outfile in TMPS_OUTS:\n",
    "        with open(tmp, \"r\", encoding=\"utf8\") as f_p:\n",
    "            with open(outfile, \"w\", encoding=\"utf8\") as out_f: \n",
    "                for line in f_p:\n",
    "                    line = line.rstrip()\n",
    "\n",
    "                    if not line:\n",
    "                        out_f.write(line +\"\\n\")\n",
    "                        subword_len_counter = 0\n",
    "                        continue\n",
    "\n",
    "                    token = line.split()[0]\n",
    "\n",
    "                    current_subwords_len = len(tokenizer.tokenize(token))\n",
    "\n",
    "                    # Token contains strange control characters like \\x96 or \\x95\n",
    "                    # Just filter out the complete line\n",
    "                    if current_subwords_len == 0:\n",
    "                        continue\n",
    "\n",
    "                    if (subword_len_counter + current_subwords_len) > MAX_LENGTH:\n",
    "                        out_f.write(\"\\n\")\n",
    "                        out_f.write(line +\"\\n\")\n",
    "                        subword_len_counter = current_subwords_len\n",
    "                        continue\n",
    "\n",
    "                    subword_len_counter += current_subwords_len\n",
    "\n",
    "                    out_f.write(line + \"\\n\")\n",
    "                    \n",
    "def make_labels(): \n",
    "    metadata_df = pd.read_csv(METADATA)\n",
    "    wordids = metadata_df.wordid.tolist()\n",
    "    with open(LABELS, 'w') as f:\n",
    "        for wordid in wordids:\n",
    "            f.write(\"{}\\n\".format(wordid))\n",
    "        f.write(\"{}\\n\".format('O'))"
   ]
  },
  {
   "cell_type": "markdown",
   "metadata": {},
   "source": [
    "# Script"
   ]
  },
  {
   "cell_type": "code",
   "execution_count": null,
   "metadata": {},
   "outputs": [],
   "source": [
    "make_tsvs()\n",
    "make_temps()\n",
    "make_txts()\n",
    "make_labels()"
   ]
  }
 ],
 "metadata": {
  "kernelspec": {
   "display_name": "dissertation_huggingface",
   "language": "python",
   "name": "dissertation_huggingface"
  },
  "language_info": {
   "codemirror_mode": {
    "name": "ipython",
    "version": 3
   },
   "file_extension": ".py",
   "mimetype": "text/x-python",
   "name": "python",
   "nbconvert_exporter": "python",
   "pygments_lexer": "ipython3",
   "version": "3.7.8"
  }
 },
 "nbformat": 4,
 "nbformat_minor": 4
}
