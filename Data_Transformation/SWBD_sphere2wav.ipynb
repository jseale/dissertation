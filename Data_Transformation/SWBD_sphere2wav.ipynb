{
 "cells": [
  {
   "cell_type": "markdown",
   "metadata": {},
   "source": [
    "# Description\n",
    "Convert SWBD sphere files (.sph) to wave (.wav) for Kaldi ASR."
   ]
  },
  {
   "cell_type": "code",
   "execution_count": 1,
   "metadata": {},
   "outputs": [],
   "source": [
    "import os\n",
    "from glob import iglob\n",
    "from tqdm import tqdm"
   ]
  },
  {
   "cell_type": "code",
   "execution_count": 2,
   "metadata": {},
   "outputs": [],
   "source": [
    "PATH = '/Users/jen/Dev/dissertation/dissertation/Data/SWBD/swb1_LDC97S62'\n",
    "PATH_MFA_SWBD = '/Users/jen/Dev/Dissertation/dissertation/Data/SWBD/wavs/'"
   ]
  },
  {
   "cell_type": "code",
   "execution_count": 3,
   "metadata": {},
   "outputs": [
    {
     "name": "stderr",
     "output_type": "stream",
     "text": [
      "\r",
      "0it [00:00, ?it/s]"
     ]
    },
    {
     "name": "stdout",
     "output_type": "stream",
     "text": [
      "sox WARN rate: rate clipped 17 samples; decrease volume?\r\n",
      "sox WARN dither: dither clipped 15 samples; decrease volume?\r\n"
     ]
    },
    {
     "name": "stderr",
     "output_type": "stream",
     "text": [
      "\r",
      "4it [00:00,  7.47it/s]"
     ]
    },
    {
     "name": "stdout",
     "output_type": "stream",
     "text": [
      "sox WARN rate: rate clipped 17 samples; decrease volume?\r\n",
      "sox WARN dither: dither clipped 15 samples; decrease volume?\r\n"
     ]
    },
    {
     "name": "stderr",
     "output_type": "stream",
     "text": [
      "\r",
      "5it [00:01,  3.94it/s]"
     ]
    },
    {
     "name": "stdout",
     "output_type": "stream",
     "text": [
      "sox WARN rate: rate clipped 18 samples; decrease volume?\r\n",
      "sox WARN dither: dither clipped 13 samples; decrease volume?\r\n"
     ]
    },
    {
     "name": "stderr",
     "output_type": "stream",
     "text": [
      "\r",
      "6it [00:01,  2.97it/s]"
     ]
    },
    {
     "name": "stdout",
     "output_type": "stream",
     "text": [
      "sox WARN rate: rate clipped 16 samples; decrease volume?\r\n",
      "sox WARN dither: dither clipped 14 samples; decrease volume?\r\n"
     ]
    },
    {
     "name": "stderr",
     "output_type": "stream",
     "text": [
      "\r",
      "7it [00:02,  2.53it/s]"
     ]
    },
    {
     "name": "stdout",
     "output_type": "stream",
     "text": [
      "sox WARN rate: rate clipped 18 samples; decrease volume?\r\n",
      "sox WARN dither: dither clipped 17 samples; decrease volume?\r\n"
     ]
    },
    {
     "name": "stderr",
     "output_type": "stream",
     "text": [
      "\r",
      "8it [00:02,  2.23it/s]"
     ]
    },
    {
     "name": "stdout",
     "output_type": "stream",
     "text": [
      "sox WARN rate: rate clipped 18 samples; decrease volume?\r\n",
      "sox WARN dither: dither clipped 16 samples; decrease volume?\r\n"
     ]
    },
    {
     "name": "stderr",
     "output_type": "stream",
     "text": [
      "\r",
      "9it [00:03,  2.08it/s]"
     ]
    },
    {
     "name": "stdout",
     "output_type": "stream",
     "text": [
      "sox WARN rate: rate clipped 17 samples; decrease volume?\r\n",
      "sox WARN dither: dither clipped 14 samples; decrease volume?\r\n"
     ]
    },
    {
     "name": "stderr",
     "output_type": "stream",
     "text": [
      "\r",
      "10it [00:03,  2.02it/s]"
     ]
    },
    {
     "name": "stdout",
     "output_type": "stream",
     "text": [
      "sox WARN rate: rate clipped 19 samples; decrease volume?\r\n",
      "sox WARN dither: dither clipped 17 samples; decrease volume?\r\n"
     ]
    },
    {
     "name": "stderr",
     "output_type": "stream",
     "text": [
      "\r",
      "11it [00:04,  1.96it/s]"
     ]
    },
    {
     "name": "stdout",
     "output_type": "stream",
     "text": [
      "sox WARN rate: rate clipped 21 samples; decrease volume?\r\n",
      "sox WARN dither: dither clipped 20 samples; decrease volume?\r\n"
     ]
    },
    {
     "name": "stderr",
     "output_type": "stream",
     "text": [
      "\r",
      "12it [00:04,  1.94it/s]"
     ]
    },
    {
     "name": "stdout",
     "output_type": "stream",
     "text": [
      "sox WARN rate: rate clipped 17 samples; decrease volume?\r\n",
      "sox WARN dither: dither clipped 16 samples; decrease volume?\r\n"
     ]
    },
    {
     "name": "stderr",
     "output_type": "stream",
     "text": [
      "\r",
      "13it [00:05,  1.92it/s]"
     ]
    },
    {
     "name": "stdout",
     "output_type": "stream",
     "text": [
      "sox WARN rate: rate clipped 16 samples; decrease volume?\r\n",
      "sox WARN dither: dither clipped 16 samples; decrease volume?\r\n"
     ]
    },
    {
     "name": "stderr",
     "output_type": "stream",
     "text": [
      "\r",
      "14it [00:05,  1.91it/s]"
     ]
    },
    {
     "name": "stdout",
     "output_type": "stream",
     "text": [
      "sox WARN rate: rate clipped 17 samples; decrease volume?\r\n",
      "sox WARN dither: dither clipped 13 samples; decrease volume?\r\n"
     ]
    },
    {
     "name": "stderr",
     "output_type": "stream",
     "text": [
      "\r",
      "15it [00:06,  1.91it/s]"
     ]
    },
    {
     "name": "stdout",
     "output_type": "stream",
     "text": [
      "sox WARN rate: rate clipped 48 samples; decrease volume?\r\n",
      "sox WARN dither: dither clipped 43 samples; decrease volume?\r\n"
     ]
    },
    {
     "name": "stderr",
     "output_type": "stream",
     "text": [
      "\r",
      "16it [00:06,  1.90it/s]"
     ]
    },
    {
     "name": "stdout",
     "output_type": "stream",
     "text": [
      "sox WARN rate: rate clipped 19 samples; decrease volume?\r\n",
      "sox WARN dither: dither clipped 16 samples; decrease volume?\r\n"
     ]
    },
    {
     "name": "stderr",
     "output_type": "stream",
     "text": [
      "\r",
      "17it [00:07,  1.89it/s]"
     ]
    },
    {
     "name": "stdout",
     "output_type": "stream",
     "text": [
      "sox WARN rate: rate clipped 17 samples; decrease volume?\r\n",
      "sox WARN dither: dither clipped 15 samples; decrease volume?\r\n"
     ]
    },
    {
     "name": "stderr",
     "output_type": "stream",
     "text": [
      "\r",
      "18it [00:08,  1.88it/s]"
     ]
    },
    {
     "name": "stdout",
     "output_type": "stream",
     "text": [
      "sox WARN rate: rate clipped 19 samples; decrease volume?\r\n",
      "sox WARN dither: dither clipped 17 samples; decrease volume?\r\n"
     ]
    },
    {
     "name": "stderr",
     "output_type": "stream",
     "text": [
      "\r",
      "19it [00:08,  1.89it/s]"
     ]
    },
    {
     "name": "stdout",
     "output_type": "stream",
     "text": [
      "sox WARN rate: rate clipped 18 samples; decrease volume?\r\n",
      "sox WARN dither: dither clipped 16 samples; decrease volume?\r\n"
     ]
    },
    {
     "name": "stderr",
     "output_type": "stream",
     "text": [
      "\r",
      "20it [00:09,  1.88it/s]"
     ]
    },
    {
     "name": "stdout",
     "output_type": "stream",
     "text": [
      "sox WARN rate: rate clipped 19 samples; decrease volume?\r\n",
      "sox WARN dither: dither clipped 18 samples; decrease volume?\r\n"
     ]
    },
    {
     "name": "stderr",
     "output_type": "stream",
     "text": [
      "\r",
      "21it [00:09,  1.88it/s]"
     ]
    },
    {
     "name": "stdout",
     "output_type": "stream",
     "text": [
      "sox WARN rate: rate clipped 18 samples; decrease volume?\r\n",
      "sox WARN dither: dither clipped 17 samples; decrease volume?\r\n"
     ]
    },
    {
     "name": "stderr",
     "output_type": "stream",
     "text": [
      "\r",
      "22it [00:10,  1.88it/s]"
     ]
    },
    {
     "name": "stdout",
     "output_type": "stream",
     "text": [
      "sox WARN rate: rate clipped 19 samples; decrease volume?\r\n",
      "sox WARN dither: dither clipped 17 samples; decrease volume?\r\n"
     ]
    },
    {
     "name": "stderr",
     "output_type": "stream",
     "text": [
      "\r",
      "23it [00:10,  1.88it/s]"
     ]
    },
    {
     "name": "stdout",
     "output_type": "stream",
     "text": [
      "sox WARN rate: rate clipped 179 samples; decrease volume?\r\n",
      "sox WARN dither: dither clipped 153 samples; decrease volume?\r\n"
     ]
    },
    {
     "name": "stderr",
     "output_type": "stream",
     "text": [
      "\r",
      "24it [00:11,  1.88it/s]"
     ]
    },
    {
     "name": "stdout",
     "output_type": "stream",
     "text": [
      "sox WARN rate: rate clipped 17 samples; decrease volume?\r\n",
      "sox WARN dither: dither clipped 14 samples; decrease volume?\r\n"
     ]
    },
    {
     "name": "stderr",
     "output_type": "stream",
     "text": [
      "\r",
      "25it [00:11,  1.88it/s]"
     ]
    },
    {
     "name": "stdout",
     "output_type": "stream",
     "text": [
      "sox WARN rate: rate clipped 27 samples; decrease volume?\r\n",
      "sox WARN dither: dither clipped 25 samples; decrease volume?\r\n"
     ]
    },
    {
     "name": "stderr",
     "output_type": "stream",
     "text": [
      "\r",
      "26it [00:12,  1.88it/s]"
     ]
    },
    {
     "name": "stdout",
     "output_type": "stream",
     "text": [
      "sox WARN rate: rate clipped 18 samples; decrease volume?\r\n",
      "sox WARN dither: dither clipped 16 samples; decrease volume?\r\n"
     ]
    },
    {
     "name": "stderr",
     "output_type": "stream",
     "text": [
      "\r",
      "27it [00:12,  1.88it/s]"
     ]
    },
    {
     "name": "stdout",
     "output_type": "stream",
     "text": [
      "sox WARN rate: rate clipped 18 samples; decrease volume?\r\n",
      "sox WARN dither: dither clipped 18 samples; decrease volume?\r\n"
     ]
    },
    {
     "name": "stderr",
     "output_type": "stream",
     "text": [
      "\r",
      "28it [00:13,  1.87it/s]"
     ]
    },
    {
     "name": "stdout",
     "output_type": "stream",
     "text": [
      "sox WARN rate: rate clipped 21 samples; decrease volume?\r\n",
      "sox WARN dither: dither clipped 19 samples; decrease volume?\r\n"
     ]
    },
    {
     "name": "stderr",
     "output_type": "stream",
     "text": [
      "\r",
      "29it [00:13,  2.01it/s]"
     ]
    },
    {
     "name": "stdout",
     "output_type": "stream",
     "text": [
      "sox WARN rate: rate clipped 16 samples; decrease volume?\r\n",
      "sox WARN dither: dither clipped 13 samples; decrease volume?\r\n"
     ]
    },
    {
     "name": "stderr",
     "output_type": "stream",
     "text": [
      "\r",
      "30it [00:14,  1.95it/s]"
     ]
    },
    {
     "name": "stdout",
     "output_type": "stream",
     "text": [
      "sox WARN rate: rate clipped 19 samples; decrease volume?\r\n",
      "sox WARN dither: dither clipped 16 samples; decrease volume?\r\n"
     ]
    },
    {
     "name": "stderr",
     "output_type": "stream",
     "text": [
      "\r",
      "31it [00:14,  1.93it/s]"
     ]
    },
    {
     "name": "stdout",
     "output_type": "stream",
     "text": [
      "sox WARN rate: rate clipped 18 samples; decrease volume?\r\n",
      "sox WARN dither: dither clipped 15 samples; decrease volume?\r\n"
     ]
    },
    {
     "name": "stderr",
     "output_type": "stream",
     "text": [
      "\r",
      "32it [00:15,  1.91it/s]"
     ]
    },
    {
     "name": "stdout",
     "output_type": "stream",
     "text": [
      "sox WARN rate: rate clipped 17 samples; decrease volume?\r\n",
      "sox WARN dither: dither clipped 16 samples; decrease volume?\r\n"
     ]
    },
    {
     "name": "stderr",
     "output_type": "stream",
     "text": [
      "\r",
      "33it [00:15,  1.90it/s]"
     ]
    },
    {
     "name": "stdout",
     "output_type": "stream",
     "text": [
      "sox WARN rate: rate clipped 18 samples; decrease volume?\r\n",
      "sox WARN dither: dither clipped 16 samples; decrease volume?\r\n"
     ]
    },
    {
     "name": "stderr",
     "output_type": "stream",
     "text": [
      "\r",
      "34it [00:16,  1.89it/s]"
     ]
    },
    {
     "name": "stdout",
     "output_type": "stream",
     "text": [
      "sox WARN rate: rate clipped 16 samples; decrease volume?\r\n",
      "sox WARN dither: dither clipped 12 samples; decrease volume?\r\n"
     ]
    },
    {
     "name": "stderr",
     "output_type": "stream",
     "text": [
      "\r",
      "35it [00:17,  1.89it/s]"
     ]
    },
    {
     "name": "stdout",
     "output_type": "stream",
     "text": [
      "sox WARN rate: rate clipped 18 samples; decrease volume?\r\n",
      "sox WARN dither: dither clipped 17 samples; decrease volume?\r\n"
     ]
    },
    {
     "name": "stderr",
     "output_type": "stream",
     "text": [
      "\r",
      "36it [00:17,  1.88it/s]"
     ]
    },
    {
     "name": "stdout",
     "output_type": "stream",
     "text": [
      "sox WARN rate: rate clipped 21 samples; decrease volume?\r\n",
      "sox WARN dither: dither clipped 20 samples; decrease volume?\r\n"
     ]
    },
    {
     "name": "stderr",
     "output_type": "stream",
     "text": [
      "\r",
      "37it [00:18,  1.88it/s]"
     ]
    },
    {
     "name": "stdout",
     "output_type": "stream",
     "text": [
      "sox WARN rate: rate clipped 15 samples; decrease volume?\r\n",
      "sox WARN dither: dither clipped 13 samples; decrease volume?\r\n"
     ]
    },
    {
     "name": "stderr",
     "output_type": "stream",
     "text": [
      "\r",
      "38it [00:18,  1.89it/s]"
     ]
    },
    {
     "name": "stdout",
     "output_type": "stream",
     "text": [
      "sox WARN rate: rate clipped 19 samples; decrease volume?\r\n",
      "sox WARN dither: dither clipped 16 samples; decrease volume?\r\n"
     ]
    },
    {
     "name": "stderr",
     "output_type": "stream",
     "text": [
      "\r",
      "39it [00:19,  1.89it/s]"
     ]
    },
    {
     "name": "stdout",
     "output_type": "stream",
     "text": [
      "sox WARN rate: rate clipped 18 samples; decrease volume?\r\n",
      "sox WARN dither: dither clipped 15 samples; decrease volume?\r\n"
     ]
    },
    {
     "name": "stderr",
     "output_type": "stream",
     "text": [
      "\r",
      "40it [00:19,  1.88it/s]"
     ]
    },
    {
     "name": "stdout",
     "output_type": "stream",
     "text": [
      "sox WARN rate: rate clipped 17 samples; decrease volume?\r\n",
      "sox WARN dither: dither clipped 14 samples; decrease volume?\r\n"
     ]
    },
    {
     "name": "stderr",
     "output_type": "stream",
     "text": [
      "\r",
      "41it [00:20,  1.88it/s]"
     ]
    },
    {
     "name": "stdout",
     "output_type": "stream",
     "text": [
      "sox WARN rate: rate clipped 18 samples; decrease volume?\r\n",
      "sox WARN dither: dither clipped 18 samples; decrease volume?\r\n"
     ]
    },
    {
     "name": "stderr",
     "output_type": "stream",
     "text": [
      "\r",
      "42it [00:20,  1.89it/s]"
     ]
    },
    {
     "name": "stdout",
     "output_type": "stream",
     "text": [
      "sox WARN rate: rate clipped 18 samples; decrease volume?\r\n",
      "sox WARN dither: dither clipped 16 samples; decrease volume?\r\n"
     ]
    },
    {
     "name": "stderr",
     "output_type": "stream",
     "text": [
      "\r",
      "43it [00:21,  1.88it/s]"
     ]
    },
    {
     "name": "stdout",
     "output_type": "stream",
     "text": [
      "sox WARN rate: rate clipped 16 samples; decrease volume?\r\n",
      "sox WARN dither: dither clipped 13 samples; decrease volume?\r\n"
     ]
    },
    {
     "name": "stderr",
     "output_type": "stream",
     "text": [
      "\r",
      "44it [00:21,  1.88it/s]"
     ]
    },
    {
     "name": "stdout",
     "output_type": "stream",
     "text": [
      "sox WARN rate: rate clipped 15 samples; decrease volume?\r\n",
      "sox WARN dither: dither clipped 14 samples; decrease volume?\r\n"
     ]
    },
    {
     "name": "stderr",
     "output_type": "stream",
     "text": [
      "\r",
      "45it [00:22,  1.88it/s]"
     ]
    },
    {
     "name": "stdout",
     "output_type": "stream",
     "text": [
      "sox WARN rate: rate clipped 18 samples; decrease volume?\r\n",
      "sox WARN dither: dither clipped 16 samples; decrease volume?\r\n"
     ]
    },
    {
     "name": "stderr",
     "output_type": "stream",
     "text": [
      "\r",
      "46it [00:22,  1.87it/s]"
     ]
    },
    {
     "name": "stdout",
     "output_type": "stream",
     "text": [
      "sox WARN rate: rate clipped 17 samples; decrease volume?\r\n",
      "sox WARN dither: dither clipped 16 samples; decrease volume?\r\n"
     ]
    },
    {
     "name": "stderr",
     "output_type": "stream",
     "text": [
      "\r",
      "47it [00:23,  1.87it/s]"
     ]
    },
    {
     "name": "stdout",
     "output_type": "stream",
     "text": [
      "sox WARN rate: rate clipped 18 samples; decrease volume?\r\n",
      "sox WARN dither: dither clipped 14 samples; decrease volume?\r\n"
     ]
    },
    {
     "name": "stderr",
     "output_type": "stream",
     "text": [
      "\r",
      "48it [00:23,  1.88it/s]"
     ]
    },
    {
     "name": "stdout",
     "output_type": "stream",
     "text": [
      "sox WARN rate: rate clipped 17 samples; decrease volume?\r\n",
      "sox WARN dither: dither clipped 14 samples; decrease volume?\r\n"
     ]
    },
    {
     "name": "stderr",
     "output_type": "stream",
     "text": [
      "\r",
      "49it [00:24,  1.89it/s]"
     ]
    },
    {
     "name": "stdout",
     "output_type": "stream",
     "text": [
      "sox WARN rate: rate clipped 17 samples; decrease volume?\r\n",
      "sox WARN dither: dither clipped 14 samples; decrease volume?\r\n"
     ]
    },
    {
     "name": "stderr",
     "output_type": "stream",
     "text": [
      "\r",
      "50it [00:24,  1.87it/s]"
     ]
    },
    {
     "name": "stdout",
     "output_type": "stream",
     "text": [
      "sox WARN rate: rate clipped 19 samples; decrease volume?\r\n",
      "sox WARN dither: dither clipped 17 samples; decrease volume?\r\n"
     ]
    },
    {
     "name": "stderr",
     "output_type": "stream",
     "text": [
      "\r",
      "51it [00:25,  1.88it/s]"
     ]
    },
    {
     "name": "stdout",
     "output_type": "stream",
     "text": [
      "sox WARN rate: rate clipped 19 samples; decrease volume?\r\n",
      "sox WARN dither: dither clipped 18 samples; decrease volume?\r\n"
     ]
    },
    {
     "name": "stderr",
     "output_type": "stream",
     "text": [
      "\r",
      "52it [00:26,  1.87it/s]"
     ]
    },
    {
     "name": "stdout",
     "output_type": "stream",
     "text": [
      "sox WARN rate: rate clipped 25 samples; decrease volume?\r\n",
      "sox WARN dither: dither clipped 23 samples; decrease volume?\r\n"
     ]
    },
    {
     "name": "stderr",
     "output_type": "stream",
     "text": [
      "\r",
      "53it [00:26,  1.88it/s]"
     ]
    },
    {
     "name": "stdout",
     "output_type": "stream",
     "text": [
      "sox WARN rate: rate clipped 18 samples; decrease volume?\r\n",
      "sox WARN dither: dither clipped 17 samples; decrease volume?\r\n"
     ]
    },
    {
     "name": "stderr",
     "output_type": "stream",
     "text": [
      "\r",
      "54it [00:27,  1.88it/s]"
     ]
    },
    {
     "name": "stdout",
     "output_type": "stream",
     "text": [
      "sox WARN rate: rate clipped 18 samples; decrease volume?\r\n",
      "sox WARN dither: dither clipped 16 samples; decrease volume?\r\n"
     ]
    },
    {
     "name": "stderr",
     "output_type": "stream",
     "text": [
      "\r",
      "55it [00:27,  1.75it/s]"
     ]
    },
    {
     "name": "stdout",
     "output_type": "stream",
     "text": [
      "sox WARN rate: rate clipped 44 samples; decrease volume?\r\n",
      "sox WARN dither: dither clipped 34 samples; decrease volume?\r\n"
     ]
    },
    {
     "name": "stderr",
     "output_type": "stream",
     "text": [
      "\r",
      "56it [00:28,  1.79it/s]"
     ]
    },
    {
     "name": "stdout",
     "output_type": "stream",
     "text": [
      "sox WARN rate: rate clipped 17 samples; decrease volume?\r\n",
      "sox WARN dither: dither clipped 15 samples; decrease volume?\r\n"
     ]
    },
    {
     "name": "stderr",
     "output_type": "stream",
     "text": [
      "\r",
      "57it [00:28,  1.82it/s]"
     ]
    },
    {
     "name": "stdout",
     "output_type": "stream",
     "text": [
      "sox WARN rate: rate clipped 16 samples; decrease volume?\r\n",
      "sox WARN dither: dither clipped 11 samples; decrease volume?\r\n"
     ]
    },
    {
     "name": "stderr",
     "output_type": "stream",
     "text": [
      "\r",
      "58it [00:29,  1.83it/s]"
     ]
    },
    {
     "name": "stdout",
     "output_type": "stream",
     "text": [
      "sox WARN rate: rate clipped 18 samples; decrease volume?\r\n",
      "sox WARN dither: dither clipped 18 samples; decrease volume?\r\n"
     ]
    },
    {
     "name": "stderr",
     "output_type": "stream",
     "text": [
      "\r",
      "59it [00:29,  1.85it/s]"
     ]
    },
    {
     "name": "stdout",
     "output_type": "stream",
     "text": [
      "sox WARN rate: rate clipped 15 samples; decrease volume?\r\n",
      "sox WARN dither: dither clipped 12 samples; decrease volume?\r\n"
     ]
    },
    {
     "name": "stderr",
     "output_type": "stream",
     "text": [
      "\r",
      "60it [00:30,  1.86it/s]"
     ]
    },
    {
     "name": "stdout",
     "output_type": "stream",
     "text": [
      "sox WARN rate: rate clipped 16 samples; decrease volume?\r\n",
      "sox WARN dither: dither clipped 15 samples; decrease volume?\r\n"
     ]
    },
    {
     "name": "stderr",
     "output_type": "stream",
     "text": [
      "\r",
      "61it [00:30,  1.87it/s]"
     ]
    },
    {
     "name": "stdout",
     "output_type": "stream",
     "text": [
      "sox WARN rate: rate clipped 18 samples; decrease volume?\r\n",
      "sox WARN dither: dither clipped 15 samples; decrease volume?\r\n"
     ]
    },
    {
     "name": "stderr",
     "output_type": "stream",
     "text": [
      "\r",
      "62it [00:31,  1.87it/s]"
     ]
    },
    {
     "name": "stdout",
     "output_type": "stream",
     "text": [
      "sox WARN rate: rate clipped 15 samples; decrease volume?\r\n",
      "sox WARN dither: dither clipped 13 samples; decrease volume?\r\n"
     ]
    },
    {
     "name": "stderr",
     "output_type": "stream",
     "text": [
      "\r",
      "63it [00:32,  1.86it/s]"
     ]
    },
    {
     "name": "stdout",
     "output_type": "stream",
     "text": [
      "sox WARN rate: rate clipped 14 samples; decrease volume?\r\n",
      "sox WARN dither: dither clipped 13 samples; decrease volume?\r\n"
     ]
    },
    {
     "name": "stderr",
     "output_type": "stream",
     "text": [
      "\r",
      "64it [00:32,  1.82it/s]"
     ]
    },
    {
     "name": "stdout",
     "output_type": "stream",
     "text": [
      "sox WARN rate: rate clipped 19 samples; decrease volume?\r\n",
      "sox WARN dither: dither clipped 18 samples; decrease volume?\r\n"
     ]
    },
    {
     "name": "stderr",
     "output_type": "stream",
     "text": [
      "\r",
      "65it [00:33,  1.84it/s]"
     ]
    },
    {
     "name": "stdout",
     "output_type": "stream",
     "text": [
      "sox WARN rate: rate clipped 16 samples; decrease volume?\r\n",
      "sox WARN dither: dither clipped 15 samples; decrease volume?\r\n"
     ]
    },
    {
     "name": "stderr",
     "output_type": "stream",
     "text": [
      "\r",
      "66it [00:33,  1.85it/s]"
     ]
    },
    {
     "name": "stdout",
     "output_type": "stream",
     "text": [
      "sox WARN rate: rate clipped 18 samples; decrease volume?\r\n",
      "sox WARN dither: dither clipped 15 samples; decrease volume?\r\n"
     ]
    },
    {
     "name": "stderr",
     "output_type": "stream",
     "text": [
      "\r",
      "67it [00:34,  1.85it/s]"
     ]
    },
    {
     "name": "stdout",
     "output_type": "stream",
     "text": [
      "sox WARN rate: rate clipped 17 samples; decrease volume?\r\n",
      "sox WARN dither: dither clipped 15 samples; decrease volume?\r\n"
     ]
    },
    {
     "name": "stderr",
     "output_type": "stream",
     "text": [
      "\r",
      "68it [00:34,  1.86it/s]"
     ]
    },
    {
     "name": "stdout",
     "output_type": "stream",
     "text": [
      "sox WARN rate: rate clipped 160 samples; decrease volume?\r\n",
      "sox WARN dither: dither clipped 141 samples; decrease volume?\r\n"
     ]
    },
    {
     "name": "stderr",
     "output_type": "stream",
     "text": [
      "\r",
      "69it [00:35,  1.87it/s]"
     ]
    },
    {
     "name": "stdout",
     "output_type": "stream",
     "text": [
      "sox WARN rate: rate clipped 18 samples; decrease volume?\r\n",
      "sox WARN dither: dither clipped 16 samples; decrease volume?\r\n"
     ]
    },
    {
     "name": "stderr",
     "output_type": "stream",
     "text": [
      "\r",
      "70it [00:35,  1.88it/s]"
     ]
    },
    {
     "name": "stdout",
     "output_type": "stream",
     "text": [
      "sox WARN rate: rate clipped 19 samples; decrease volume?\r\n",
      "sox WARN dither: dither clipped 16 samples; decrease volume?\r\n"
     ]
    },
    {
     "name": "stderr",
     "output_type": "stream",
     "text": [
      "\r",
      "71it [00:36,  1.88it/s]"
     ]
    },
    {
     "name": "stdout",
     "output_type": "stream",
     "text": [
      "sox WARN rate: rate clipped 18 samples; decrease volume?\r\n",
      "sox WARN dither: dither clipped 16 samples; decrease volume?\r\n"
     ]
    },
    {
     "name": "stderr",
     "output_type": "stream",
     "text": [
      "\r",
      "72it [00:36,  1.88it/s]"
     ]
    },
    {
     "name": "stdout",
     "output_type": "stream",
     "text": [
      "sox WARN rate: rate clipped 19 samples; decrease volume?\r\n",
      "sox WARN dither: dither clipped 16 samples; decrease volume?\r\n"
     ]
    },
    {
     "name": "stderr",
     "output_type": "stream",
     "text": [
      "\r",
      "73it [00:37,  1.88it/s]"
     ]
    },
    {
     "name": "stdout",
     "output_type": "stream",
     "text": [
      "sox WARN rate: rate clipped 19 samples; decrease volume?\r\n",
      "sox WARN dither: dither clipped 18 samples; decrease volume?\r\n"
     ]
    },
    {
     "name": "stderr",
     "output_type": "stream",
     "text": [
      "\r",
      "74it [00:37,  1.88it/s]"
     ]
    },
    {
     "name": "stdout",
     "output_type": "stream",
     "text": [
      "sox WARN rate: rate clipped 19 samples; decrease volume?\r\n",
      "sox WARN dither: dither clipped 18 samples; decrease volume?\r\n"
     ]
    },
    {
     "name": "stderr",
     "output_type": "stream",
     "text": [
      "\r",
      "75it [00:38,  1.88it/s]"
     ]
    },
    {
     "name": "stdout",
     "output_type": "stream",
     "text": [
      "sox WARN rate: rate clipped 19 samples; decrease volume?\r\n",
      "sox WARN dither: dither clipped 17 samples; decrease volume?\r\n"
     ]
    },
    {
     "name": "stderr",
     "output_type": "stream",
     "text": [
      "\r",
      "76it [00:39,  1.88it/s]"
     ]
    },
    {
     "name": "stdout",
     "output_type": "stream",
     "text": [
      "sox WARN rate: rate clipped 18 samples; decrease volume?\r\n",
      "sox WARN dither: dither clipped 15 samples; decrease volume?\r\n"
     ]
    },
    {
     "name": "stderr",
     "output_type": "stream",
     "text": [
      "\r",
      "77it [00:39,  1.87it/s]"
     ]
    },
    {
     "name": "stdout",
     "output_type": "stream",
     "text": [
      "sox WARN rate: rate clipped 17 samples; decrease volume?\r\n",
      "sox WARN dither: dither clipped 16 samples; decrease volume?\r\n"
     ]
    },
    {
     "name": "stderr",
     "output_type": "stream",
     "text": [
      "\r",
      "78it [00:40,  1.88it/s]"
     ]
    },
    {
     "name": "stdout",
     "output_type": "stream",
     "text": [
      "sox WARN rate: rate clipped 18 samples; decrease volume?\r\n",
      "sox WARN dither: dither clipped 17 samples; decrease volume?\r\n"
     ]
    },
    {
     "name": "stderr",
     "output_type": "stream",
     "text": [
      "\r",
      "79it [00:40,  1.89it/s]"
     ]
    },
    {
     "name": "stdout",
     "output_type": "stream",
     "text": [
      "sox WARN rate: rate clipped 20 samples; decrease volume?\r\n",
      "sox WARN dither: dither clipped 16 samples; decrease volume?\r\n"
     ]
    },
    {
     "name": "stderr",
     "output_type": "stream",
     "text": [
      "\r",
      "80it [00:41,  1.93it/s]"
     ]
    },
    {
     "name": "stdout",
     "output_type": "stream",
     "text": [
      "sox WARN rate: rate clipped 19 samples; decrease volume?\r\n",
      "sox WARN dither: dither clipped 16 samples; decrease volume?\r\n"
     ]
    },
    {
     "name": "stderr",
     "output_type": "stream",
     "text": [
      "\r",
      "81it [00:41,  1.91it/s]"
     ]
    },
    {
     "name": "stdout",
     "output_type": "stream",
     "text": [
      "sox WARN rate: rate clipped 15 samples; decrease volume?\r\n",
      "sox WARN dither: dither clipped 12 samples; decrease volume?\r\n"
     ]
    },
    {
     "name": "stderr",
     "output_type": "stream",
     "text": [
      "\r",
      "82it [00:42,  1.89it/s]"
     ]
    },
    {
     "name": "stdout",
     "output_type": "stream",
     "text": [
      "sox WARN rate: rate clipped 19 samples; decrease volume?\r\n",
      "sox WARN dither: dither clipped 17 samples; decrease volume?\r\n"
     ]
    },
    {
     "name": "stderr",
     "output_type": "stream",
     "text": [
      "\r",
      "83it [00:42,  1.89it/s]"
     ]
    },
    {
     "name": "stdout",
     "output_type": "stream",
     "text": [
      "sox WARN rate: rate clipped 17 samples; decrease volume?\r\n",
      "sox WARN dither: dither clipped 17 samples; decrease volume?\r\n"
     ]
    },
    {
     "name": "stderr",
     "output_type": "stream",
     "text": [
      "\r",
      "84it [00:43,  1.88it/s]"
     ]
    },
    {
     "name": "stdout",
     "output_type": "stream",
     "text": [
      "sox WARN rate: rate clipped 15 samples; decrease volume?\r\n",
      "sox WARN dither: dither clipped 12 samples; decrease volume?\r\n"
     ]
    },
    {
     "name": "stderr",
     "output_type": "stream",
     "text": [
      "\r",
      "85it [00:43,  1.85it/s]"
     ]
    },
    {
     "name": "stdout",
     "output_type": "stream",
     "text": [
      "sox WARN rate: rate clipped 85 samples; decrease volume?\r\n",
      "sox WARN dither: dither clipped 77 samples; decrease volume?\r\n"
     ]
    },
    {
     "name": "stderr",
     "output_type": "stream",
     "text": [
      "\r",
      "86it [00:44,  1.86it/s]"
     ]
    },
    {
     "name": "stdout",
     "output_type": "stream",
     "text": [
      "sox WARN rate: rate clipped 17 samples; decrease volume?\r\n",
      "sox WARN dither: dither clipped 15 samples; decrease volume?\r\n"
     ]
    },
    {
     "name": "stderr",
     "output_type": "stream",
     "text": [
      "\r",
      "87it [00:44,  1.86it/s]"
     ]
    },
    {
     "name": "stdout",
     "output_type": "stream",
     "text": [
      "sox WARN rate: rate clipped 40 samples; decrease volume?\r\n",
      "sox WARN dither: dither clipped 34 samples; decrease volume?\r\n"
     ]
    },
    {
     "name": "stderr",
     "output_type": "stream",
     "text": [
      "\r",
      "88it [00:45,  1.87it/s]"
     ]
    },
    {
     "name": "stdout",
     "output_type": "stream",
     "text": [
      "sox WARN rate: rate clipped 17 samples; decrease volume?\r\n",
      "sox WARN dither: dither clipped 14 samples; decrease volume?\r\n"
     ]
    },
    {
     "name": "stderr",
     "output_type": "stream",
     "text": [
      "\r",
      "89it [00:45,  1.87it/s]"
     ]
    },
    {
     "name": "stdout",
     "output_type": "stream",
     "text": [
      "sox WARN rate: rate clipped 18 samples; decrease volume?\r\n",
      "sox WARN dither: dither clipped 14 samples; decrease volume?\r\n"
     ]
    },
    {
     "name": "stderr",
     "output_type": "stream",
     "text": [
      "\r",
      "90it [00:46,  1.87it/s]"
     ]
    },
    {
     "name": "stdout",
     "output_type": "stream",
     "text": [
      "sox WARN rate: rate clipped 18 samples; decrease volume?\r\n",
      "sox WARN dither: dither clipped 14 samples; decrease volume?\r\n"
     ]
    },
    {
     "name": "stderr",
     "output_type": "stream",
     "text": [
      "\r",
      "91it [00:47,  1.87it/s]"
     ]
    },
    {
     "name": "stdout",
     "output_type": "stream",
     "text": [
      "sox WARN rate: rate clipped 20 samples; decrease volume?\r\n",
      "sox WARN dither: dither clipped 19 samples; decrease volume?\r\n"
     ]
    },
    {
     "name": "stderr",
     "output_type": "stream",
     "text": [
      "\r",
      "92it [00:47,  1.87it/s]"
     ]
    },
    {
     "name": "stdout",
     "output_type": "stream",
     "text": [
      "sox WARN rate: rate clipped 19 samples; decrease volume?\r\n",
      "sox WARN dither: dither clipped 14 samples; decrease volume?\r\n"
     ]
    },
    {
     "name": "stderr",
     "output_type": "stream",
     "text": [
      "\r",
      "93it [00:48,  1.88it/s]"
     ]
    },
    {
     "name": "stdout",
     "output_type": "stream",
     "text": [
      "sox WARN rate: rate clipped 19 samples; decrease volume?\r\n",
      "sox WARN dither: dither clipped 18 samples; decrease volume?\r\n"
     ]
    },
    {
     "name": "stderr",
     "output_type": "stream",
     "text": [
      "\r",
      "94it [00:48,  1.88it/s]"
     ]
    },
    {
     "name": "stdout",
     "output_type": "stream",
     "text": [
      "sox WARN rate: rate clipped 18 samples; decrease volume?\r\n",
      "sox WARN dither: dither clipped 17 samples; decrease volume?\r\n"
     ]
    },
    {
     "name": "stderr",
     "output_type": "stream",
     "text": [
      "\r",
      "95it [00:49,  1.89it/s]"
     ]
    },
    {
     "name": "stdout",
     "output_type": "stream",
     "text": [
      "sox WARN rate: rate clipped 18 samples; decrease volume?\r\n",
      "sox WARN dither: dither clipped 17 samples; decrease volume?\r\n"
     ]
    },
    {
     "name": "stderr",
     "output_type": "stream",
     "text": [
      "\r",
      "96it [00:49,  1.88it/s]"
     ]
    },
    {
     "name": "stdout",
     "output_type": "stream",
     "text": [
      "sox WARN rate: rate clipped 17 samples; decrease volume?\r\n",
      "sox WARN dither: dither clipped 16 samples; decrease volume?\r\n"
     ]
    },
    {
     "name": "stderr",
     "output_type": "stream",
     "text": [
      "\r",
      "97it [00:50,  1.90it/s]"
     ]
    },
    {
     "name": "stdout",
     "output_type": "stream",
     "text": [
      "sox WARN rate: rate clipped 19 samples; decrease volume?\r\n",
      "sox WARN dither: dither clipped 17 samples; decrease volume?\r\n"
     ]
    },
    {
     "name": "stderr",
     "output_type": "stream",
     "text": [
      "\r",
      "98it [00:50,  1.89it/s]"
     ]
    },
    {
     "name": "stdout",
     "output_type": "stream",
     "text": [
      "sox WARN rate: rate clipped 19 samples; decrease volume?\r\n",
      "sox WARN dither: dither clipped 19 samples; decrease volume?\r\n"
     ]
    },
    {
     "name": "stderr",
     "output_type": "stream",
     "text": [
      "\r",
      "99it [00:51,  1.89it/s]"
     ]
    },
    {
     "name": "stdout",
     "output_type": "stream",
     "text": [
      "sox WARN rate: rate clipped 18 samples; decrease volume?\r\n",
      "sox WARN dither: dither clipped 15 samples; decrease volume?\r\n"
     ]
    },
    {
     "name": "stderr",
     "output_type": "stream",
     "text": [
      "\r",
      "100it [00:51,  1.87it/s]"
     ]
    },
    {
     "name": "stdout",
     "output_type": "stream",
     "text": [
      "sox WARN rate: rate clipped 17 samples; decrease volume?\r\n",
      "sox WARN dither: dither clipped 17 samples; decrease volume?\r\n"
     ]
    },
    {
     "name": "stderr",
     "output_type": "stream",
     "text": [
      "\r",
      "101it [00:52,  1.87it/s]"
     ]
    },
    {
     "name": "stdout",
     "output_type": "stream",
     "text": [
      "sox WARN rate: rate clipped 17 samples; decrease volume?\r\n",
      "sox WARN dither: dither clipped 15 samples; decrease volume?\r\n"
     ]
    },
    {
     "name": "stderr",
     "output_type": "stream",
     "text": [
      "\r",
      "102it [00:52,  1.86it/s]"
     ]
    },
    {
     "name": "stdout",
     "output_type": "stream",
     "text": [
      "sox WARN rate: rate clipped 18 samples; decrease volume?\r\n",
      "sox WARN dither: dither clipped 15 samples; decrease volume?\r\n"
     ]
    },
    {
     "name": "stderr",
     "output_type": "stream",
     "text": [
      "\r",
      "103it [00:53,  1.87it/s]"
     ]
    },
    {
     "name": "stdout",
     "output_type": "stream",
     "text": [
      "sox WARN rate: rate clipped 26 samples; decrease volume?\r\n",
      "sox WARN dither: dither clipped 26 samples; decrease volume?\r\n"
     ]
    },
    {
     "name": "stderr",
     "output_type": "stream",
     "text": [
      "\r",
      "104it [00:53,  1.88it/s]"
     ]
    },
    {
     "name": "stdout",
     "output_type": "stream",
     "text": [
      "sox WARN rate: rate clipped 39 samples; decrease volume?\r\n",
      "sox WARN dither: dither clipped 38 samples; decrease volume?\r\n"
     ]
    },
    {
     "name": "stderr",
     "output_type": "stream",
     "text": [
      "\r",
      "105it [00:54,  1.88it/s]"
     ]
    },
    {
     "name": "stdout",
     "output_type": "stream",
     "text": [
      "sox WARN rate: rate clipped 19 samples; decrease volume?\r\n",
      "sox WARN dither: dither clipped 17 samples; decrease volume?\r\n"
     ]
    },
    {
     "name": "stderr",
     "output_type": "stream",
     "text": [
      "\r",
      "106it [00:54,  1.88it/s]"
     ]
    },
    {
     "name": "stdout",
     "output_type": "stream",
     "text": [
      "sox WARN rate: rate clipped 18 samples; decrease volume?\r\n",
      "sox WARN dither: dither clipped 14 samples; decrease volume?\r\n"
     ]
    },
    {
     "name": "stderr",
     "output_type": "stream",
     "text": [
      "\r",
      "107it [00:55,  1.88it/s]"
     ]
    },
    {
     "name": "stdout",
     "output_type": "stream",
     "text": [
      "sox WARN rate: rate clipped 17 samples; decrease volume?\r\n",
      "sox WARN dither: dither clipped 14 samples; decrease volume?\r\n"
     ]
    },
    {
     "name": "stderr",
     "output_type": "stream",
     "text": [
      "\r",
      "108it [00:56,  1.87it/s]"
     ]
    },
    {
     "name": "stdout",
     "output_type": "stream",
     "text": [
      "sox WARN rate: rate clipped 18 samples; decrease volume?\r\n",
      "sox WARN dither: dither clipped 16 samples; decrease volume?\r\n"
     ]
    },
    {
     "name": "stderr",
     "output_type": "stream",
     "text": [
      "\r",
      "109it [00:56,  1.85it/s]"
     ]
    },
    {
     "name": "stdout",
     "output_type": "stream",
     "text": [
      "sox WARN rate: rate clipped 20 samples; decrease volume?\r\n",
      "sox WARN dither: dither clipped 17 samples; decrease volume?\r\n"
     ]
    },
    {
     "name": "stderr",
     "output_type": "stream",
     "text": [
      "\r",
      "110it [00:57,  1.86it/s]"
     ]
    },
    {
     "name": "stdout",
     "output_type": "stream",
     "text": [
      "sox WARN rate: rate clipped 19 samples; decrease volume?\r\n",
      "sox WARN dither: dither clipped 15 samples; decrease volume?\r\n"
     ]
    },
    {
     "name": "stderr",
     "output_type": "stream",
     "text": [
      "\r",
      "111it [00:57,  1.84it/s]"
     ]
    },
    {
     "name": "stdout",
     "output_type": "stream",
     "text": [
      "sox WARN rate: rate clipped 19 samples; decrease volume?\r\n",
      "sox WARN dither: dither clipped 18 samples; decrease volume?\r\n"
     ]
    },
    {
     "name": "stderr",
     "output_type": "stream",
     "text": [
      "\r",
      "112it [00:58,  1.84it/s]"
     ]
    },
    {
     "name": "stdout",
     "output_type": "stream",
     "text": [
      "sox WARN rate: rate clipped 19 samples; decrease volume?\r\n",
      "sox WARN dither: dither clipped 15 samples; decrease volume?\r\n"
     ]
    },
    {
     "name": "stderr",
     "output_type": "stream",
     "text": [
      "\r",
      "113it [00:58,  1.85it/s]"
     ]
    },
    {
     "name": "stdout",
     "output_type": "stream",
     "text": [
      "sox WARN rate: rate clipped 15 samples; decrease volume?\r\n",
      "sox WARN dither: dither clipped 13 samples; decrease volume?\r\n"
     ]
    },
    {
     "name": "stderr",
     "output_type": "stream",
     "text": [
      "\r",
      "114it [00:59,  1.85it/s]"
     ]
    },
    {
     "name": "stdout",
     "output_type": "stream",
     "text": [
      "sox WARN rate: rate clipped 17 samples; decrease volume?\r\n",
      "sox WARN dither: dither clipped 14 samples; decrease volume?\r\n"
     ]
    },
    {
     "name": "stderr",
     "output_type": "stream",
     "text": [
      "\r",
      "115it [00:59,  1.85it/s]"
     ]
    },
    {
     "name": "stdout",
     "output_type": "stream",
     "text": [
      "sox WARN rate: rate clipped 26 samples; decrease volume?\r\n",
      "sox WARN dither: dither clipped 25 samples; decrease volume?\r\n"
     ]
    },
    {
     "name": "stderr",
     "output_type": "stream",
     "text": [
      "\r",
      "116it [01:00,  1.87it/s]"
     ]
    },
    {
     "name": "stdout",
     "output_type": "stream",
     "text": [
      "sox WARN rate: rate clipped 17 samples; decrease volume?\r\n",
      "sox WARN dither: dither clipped 16 samples; decrease volume?\r\n"
     ]
    },
    {
     "name": "stderr",
     "output_type": "stream",
     "text": [
      "\r",
      "117it [01:00,  1.87it/s]"
     ]
    },
    {
     "name": "stdout",
     "output_type": "stream",
     "text": [
      "sox WARN rate: rate clipped 17 samples; decrease volume?\r\n",
      "sox WARN dither: dither clipped 15 samples; decrease volume?\r\n"
     ]
    },
    {
     "name": "stderr",
     "output_type": "stream",
     "text": [
      "\r",
      "118it [01:01,  1.88it/s]"
     ]
    },
    {
     "name": "stdout",
     "output_type": "stream",
     "text": [
      "sox WARN rate: rate clipped 19 samples; decrease volume?\r\n",
      "sox WARN dither: dither clipped 19 samples; decrease volume?\r\n"
     ]
    },
    {
     "name": "stderr",
     "output_type": "stream",
     "text": [
      "\r",
      "119it [01:01,  1.89it/s]"
     ]
    },
    {
     "name": "stdout",
     "output_type": "stream",
     "text": [
      "sox WARN rate: rate clipped 128 samples; decrease volume?\r\n",
      "sox WARN dither: dither clipped 112 samples; decrease volume?\r\n"
     ]
    },
    {
     "name": "stderr",
     "output_type": "stream",
     "text": [
      "\r",
      "120it [01:02,  1.85it/s]"
     ]
    },
    {
     "name": "stdout",
     "output_type": "stream",
     "text": [
      "sox WARN rate: rate clipped 19 samples; decrease volume?\r\n",
      "sox WARN dither: dither clipped 18 samples; decrease volume?\r\n"
     ]
    },
    {
     "name": "stderr",
     "output_type": "stream",
     "text": [
      "\r",
      "121it [01:03,  1.86it/s]"
     ]
    },
    {
     "name": "stdout",
     "output_type": "stream",
     "text": [
      "sox WARN rate: rate clipped 18 samples; decrease volume?\r\n",
      "sox WARN dither: dither clipped 16 samples; decrease volume?\r\n"
     ]
    },
    {
     "name": "stderr",
     "output_type": "stream",
     "text": [
      "\r",
      "122it [01:03,  1.86it/s]"
     ]
    },
    {
     "name": "stdout",
     "output_type": "stream",
     "text": [
      "sox WARN rate: rate clipped 17 samples; decrease volume?\r\n",
      "sox WARN dither: dither clipped 15 samples; decrease volume?\r\n"
     ]
    },
    {
     "name": "stderr",
     "output_type": "stream",
     "text": [
      "\r",
      "123it [01:04,  1.86it/s]"
     ]
    },
    {
     "name": "stdout",
     "output_type": "stream",
     "text": [
      "sox WARN rate: rate clipped 87 samples; decrease volume?\r\n",
      "sox WARN dither: dither clipped 76 samples; decrease volume?\r\n"
     ]
    },
    {
     "name": "stderr",
     "output_type": "stream",
     "text": [
      "\r",
      "124it [01:04,  1.84it/s]"
     ]
    },
    {
     "name": "stdout",
     "output_type": "stream",
     "text": [
      "sox WARN rate: rate clipped 18 samples; decrease volume?\r\n",
      "sox WARN dither: dither clipped 16 samples; decrease volume?\r\n"
     ]
    },
    {
     "name": "stderr",
     "output_type": "stream",
     "text": [
      "\r",
      "125it [01:05,  1.86it/s]"
     ]
    },
    {
     "name": "stdout",
     "output_type": "stream",
     "text": [
      "sox WARN rate: rate clipped 17 samples; decrease volume?\r\n",
      "sox WARN dither: dither clipped 13 samples; decrease volume?\r\n"
     ]
    },
    {
     "name": "stderr",
     "output_type": "stream",
     "text": [
      "\r",
      "126it [01:05,  1.86it/s]"
     ]
    },
    {
     "name": "stdout",
     "output_type": "stream",
     "text": [
      "sox WARN rate: rate clipped 17 samples; decrease volume?\r\n",
      "sox WARN dither: dither clipped 15 samples; decrease volume?\r\n"
     ]
    },
    {
     "name": "stderr",
     "output_type": "stream",
     "text": [
      "\r",
      "127it [01:06,  1.86it/s]"
     ]
    },
    {
     "name": "stdout",
     "output_type": "stream",
     "text": [
      "sox WARN rate: rate clipped 17 samples; decrease volume?\r\n",
      "sox WARN dither: dither clipped 15 samples; decrease volume?\r\n"
     ]
    },
    {
     "name": "stderr",
     "output_type": "stream",
     "text": [
      "\r",
      "128it [01:06,  1.86it/s]"
     ]
    },
    {
     "name": "stdout",
     "output_type": "stream",
     "text": [
      "sox WARN rate: rate clipped 20 samples; decrease volume?\r\n",
      "sox WARN dither: dither clipped 17 samples; decrease volume?\r\n"
     ]
    },
    {
     "name": "stderr",
     "output_type": "stream",
     "text": [
      "\r",
      "129it [01:07,  1.86it/s]"
     ]
    },
    {
     "name": "stdout",
     "output_type": "stream",
     "text": [
      "sox WARN rate: rate clipped 18 samples; decrease volume?\r\n",
      "sox WARN dither: dither clipped 15 samples; decrease volume?\r\n"
     ]
    },
    {
     "name": "stderr",
     "output_type": "stream",
     "text": [
      "\r",
      "130it [01:07,  1.85it/s]"
     ]
    },
    {
     "name": "stdout",
     "output_type": "stream",
     "text": [
      "sox WARN rate: rate clipped 19 samples; decrease volume?\r\n",
      "sox WARN dither: dither clipped 18 samples; decrease volume?\r\n"
     ]
    },
    {
     "name": "stderr",
     "output_type": "stream",
     "text": [
      "\r",
      "131it [01:08,  1.86it/s]"
     ]
    },
    {
     "name": "stdout",
     "output_type": "stream",
     "text": [
      "sox WARN rate: rate clipped 17 samples; decrease volume?\r\n",
      "sox WARN dither: dither clipped 16 samples; decrease volume?\r\n"
     ]
    },
    {
     "name": "stderr",
     "output_type": "stream",
     "text": [
      "\r",
      "132it [01:08,  1.87it/s]"
     ]
    },
    {
     "name": "stdout",
     "output_type": "stream",
     "text": [
      "sox WARN rate: rate clipped 20 samples; decrease volume?\r\n",
      "sox WARN dither: dither clipped 18 samples; decrease volume?\r\n"
     ]
    },
    {
     "name": "stderr",
     "output_type": "stream",
     "text": [
      "\r",
      "133it [01:09,  1.88it/s]"
     ]
    },
    {
     "name": "stdout",
     "output_type": "stream",
     "text": [
      "sox WARN rate: rate clipped 110 samples; decrease volume?\r\n",
      "sox WARN dither: dither clipped 98 samples; decrease volume?\r\n"
     ]
    },
    {
     "name": "stderr",
     "output_type": "stream",
     "text": [
      "\r",
      "134it [01:10,  1.88it/s]"
     ]
    },
    {
     "name": "stdout",
     "output_type": "stream",
     "text": [
      "sox WARN rate: rate clipped 19 samples; decrease volume?\r\n",
      "sox WARN dither: dither clipped 17 samples; decrease volume?\r\n"
     ]
    },
    {
     "name": "stderr",
     "output_type": "stream",
     "text": [
      "\r",
      "135it [01:10,  1.87it/s]"
     ]
    },
    {
     "name": "stdout",
     "output_type": "stream",
     "text": [
      "sox WARN rate: rate clipped 18 samples; decrease volume?\r\n",
      "sox WARN dither: dither clipped 17 samples; decrease volume?\r\n"
     ]
    },
    {
     "name": "stderr",
     "output_type": "stream",
     "text": [
      "\r",
      "136it [01:11,  1.88it/s]"
     ]
    },
    {
     "name": "stdout",
     "output_type": "stream",
     "text": [
      "sox WARN rate: rate clipped 41 samples; decrease volume?\r\n",
      "sox WARN dither: dither clipped 35 samples; decrease volume?\r\n"
     ]
    },
    {
     "name": "stderr",
     "output_type": "stream",
     "text": [
      "\r",
      "137it [01:11,  1.88it/s]"
     ]
    },
    {
     "name": "stdout",
     "output_type": "stream",
     "text": [
      "sox WARN rate: rate clipped 17 samples; decrease volume?\r\n",
      "sox WARN dither: dither clipped 15 samples; decrease volume?\r\n"
     ]
    },
    {
     "name": "stderr",
     "output_type": "stream",
     "text": [
      "\r",
      "138it [01:12,  1.88it/s]"
     ]
    },
    {
     "name": "stdout",
     "output_type": "stream",
     "text": [
      "sox WARN rate: rate clipped 16 samples; decrease volume?\r\n",
      "sox WARN dither: dither clipped 14 samples; decrease volume?\r\n"
     ]
    },
    {
     "name": "stderr",
     "output_type": "stream",
     "text": [
      "\r",
      "139it [01:12,  1.87it/s]"
     ]
    },
    {
     "name": "stdout",
     "output_type": "stream",
     "text": [
      "sox WARN rate: rate clipped 21 samples; decrease volume?\r\n",
      "sox WARN dither: dither clipped 17 samples; decrease volume?\r\n"
     ]
    },
    {
     "name": "stderr",
     "output_type": "stream",
     "text": [
      "\r",
      "140it [01:13,  1.99it/s]"
     ]
    },
    {
     "name": "stdout",
     "output_type": "stream",
     "text": [
      "sox WARN rate: rate clipped 17 samples; decrease volume?\r\n",
      "sox WARN dither: dither clipped 16 samples; decrease volume?\r\n"
     ]
    },
    {
     "name": "stderr",
     "output_type": "stream",
     "text": [
      "\r",
      "141it [01:13,  1.95it/s]"
     ]
    },
    {
     "name": "stdout",
     "output_type": "stream",
     "text": [
      "sox WARN rate: rate clipped 15 samples; decrease volume?\r\n",
      "sox WARN dither: dither clipped 12 samples; decrease volume?\r\n"
     ]
    },
    {
     "name": "stderr",
     "output_type": "stream",
     "text": [
      "\r",
      "142it [01:14,  1.93it/s]"
     ]
    },
    {
     "name": "stdout",
     "output_type": "stream",
     "text": [
      "sox WARN rate: rate clipped 19 samples; decrease volume?\r\n",
      "sox WARN dither: dither clipped 17 samples; decrease volume?\r\n"
     ]
    },
    {
     "name": "stderr",
     "output_type": "stream",
     "text": [
      "\r",
      "143it [01:14,  1.92it/s]"
     ]
    },
    {
     "name": "stdout",
     "output_type": "stream",
     "text": [
      "sox WARN rate: rate clipped 17 samples; decrease volume?\r\n",
      "sox WARN dither: dither clipped 13 samples; decrease volume?\r\n"
     ]
    },
    {
     "name": "stderr",
     "output_type": "stream",
     "text": [
      "\r",
      "144it [01:15,  1.91it/s]"
     ]
    },
    {
     "name": "stdout",
     "output_type": "stream",
     "text": [
      "sox WARN rate: rate clipped 18 samples; decrease volume?\r\n",
      "sox WARN dither: dither clipped 16 samples; decrease volume?\r\n"
     ]
    },
    {
     "name": "stderr",
     "output_type": "stream",
     "text": [
      "\r",
      "145it [01:15,  1.90it/s]"
     ]
    },
    {
     "name": "stdout",
     "output_type": "stream",
     "text": [
      "sox WARN rate: rate clipped 18 samples; decrease volume?\r\n",
      "sox WARN dither: dither clipped 16 samples; decrease volume?\r\n"
     ]
    },
    {
     "name": "stderr",
     "output_type": "stream",
     "text": [
      "\r",
      "146it [01:16,  1.90it/s]"
     ]
    },
    {
     "name": "stdout",
     "output_type": "stream",
     "text": [
      "sox WARN rate: rate clipped 17 samples; decrease volume?\r\n",
      "sox WARN dither: dither clipped 17 samples; decrease volume?\r\n"
     ]
    },
    {
     "name": "stderr",
     "output_type": "stream",
     "text": [
      "\r",
      "147it [01:16,  1.89it/s]"
     ]
    },
    {
     "name": "stdout",
     "output_type": "stream",
     "text": [
      "sox WARN rate: rate clipped 17 samples; decrease volume?\r\n",
      "sox WARN dither: dither clipped 16 samples; decrease volume?\r\n"
     ]
    },
    {
     "name": "stderr",
     "output_type": "stream",
     "text": [
      "\r",
      "148it [01:17,  1.89it/s]"
     ]
    },
    {
     "name": "stdout",
     "output_type": "stream",
     "text": [
      "sox WARN rate: rate clipped 19 samples; decrease volume?\r\n",
      "sox WARN dither: dither clipped 17 samples; decrease volume?\r\n"
     ]
    },
    {
     "name": "stderr",
     "output_type": "stream",
     "text": [
      "\r",
      "149it [01:17,  1.89it/s]"
     ]
    },
    {
     "name": "stdout",
     "output_type": "stream",
     "text": [
      "sox WARN rate: rate clipped 17 samples; decrease volume?\r\n",
      "sox WARN dither: dither clipped 17 samples; decrease volume?\r\n"
     ]
    },
    {
     "name": "stderr",
     "output_type": "stream",
     "text": [
      "\r",
      "150it [01:18,  1.88it/s]"
     ]
    },
    {
     "name": "stdout",
     "output_type": "stream",
     "text": [
      "sox WARN rate: rate clipped 16 samples; decrease volume?\r\n",
      "sox WARN dither: dither clipped 13 samples; decrease volume?\r\n"
     ]
    },
    {
     "name": "stderr",
     "output_type": "stream",
     "text": [
      "\r",
      "151it [01:18,  1.88it/s]"
     ]
    },
    {
     "name": "stdout",
     "output_type": "stream",
     "text": [
      "sox WARN rate: rate clipped 21 samples; decrease volume?\r\n",
      "sox WARN dither: dither clipped 18 samples; decrease volume?\r\n"
     ]
    },
    {
     "name": "stderr",
     "output_type": "stream",
     "text": [
      "\r",
      "152it [01:19,  1.95it/s]"
     ]
    },
    {
     "name": "stdout",
     "output_type": "stream",
     "text": [
      "sox WARN rate: rate clipped 29 samples; decrease volume?\r\n",
      "sox WARN dither: dither clipped 26 samples; decrease volume?\r\n"
     ]
    },
    {
     "name": "stderr",
     "output_type": "stream",
     "text": [
      "\r",
      "153it [01:19,  1.93it/s]"
     ]
    },
    {
     "name": "stdout",
     "output_type": "stream",
     "text": [
      "sox WARN rate: rate clipped 298 samples; decrease volume?\r\n",
      "sox WARN dither: dither clipped 273 samples; decrease volume?\r\n"
     ]
    },
    {
     "name": "stderr",
     "output_type": "stream",
     "text": [
      "\r",
      "154it [01:20,  1.91it/s]"
     ]
    },
    {
     "name": "stdout",
     "output_type": "stream",
     "text": [
      "sox WARN rate: rate clipped 18 samples; decrease volume?\r\n",
      "sox WARN dither: dither clipped 18 samples; decrease volume?\r\n"
     ]
    },
    {
     "name": "stderr",
     "output_type": "stream",
     "text": [
      "\r",
      "155it [01:21,  1.90it/s]"
     ]
    },
    {
     "name": "stdout",
     "output_type": "stream",
     "text": [
      "sox WARN rate: rate clipped 18 samples; decrease volume?\r\n",
      "sox WARN dither: dither clipped 14 samples; decrease volume?\r\n"
     ]
    },
    {
     "name": "stderr",
     "output_type": "stream",
     "text": [
      "\r",
      "156it [01:21,  1.89it/s]"
     ]
    },
    {
     "name": "stdout",
     "output_type": "stream",
     "text": [
      "sox WARN rate: rate clipped 17 samples; decrease volume?\r\n",
      "sox WARN dither: dither clipped 16 samples; decrease volume?\r\n"
     ]
    },
    {
     "name": "stderr",
     "output_type": "stream",
     "text": [
      "\r",
      "157it [01:22,  1.88it/s]"
     ]
    },
    {
     "name": "stdout",
     "output_type": "stream",
     "text": [
      "sox WARN rate: rate clipped 18 samples; decrease volume?\r\n",
      "sox WARN dither: dither clipped 17 samples; decrease volume?\r\n"
     ]
    },
    {
     "name": "stderr",
     "output_type": "stream",
     "text": [
      "\r",
      "158it [01:22,  1.88it/s]"
     ]
    },
    {
     "name": "stdout",
     "output_type": "stream",
     "text": [
      "sox WARN rate: rate clipped 58 samples; decrease volume?\r\n",
      "sox WARN dither: dither clipped 52 samples; decrease volume?\r\n"
     ]
    },
    {
     "name": "stderr",
     "output_type": "stream",
     "text": [
      "\r",
      "159it [01:23,  1.88it/s]"
     ]
    },
    {
     "name": "stdout",
     "output_type": "stream",
     "text": [
      "sox WARN rate: rate clipped 19 samples; decrease volume?\r\n",
      "sox WARN dither: dither clipped 18 samples; decrease volume?\r\n"
     ]
    },
    {
     "name": "stderr",
     "output_type": "stream",
     "text": [
      "\r",
      "160it [01:23,  1.87it/s]"
     ]
    },
    {
     "name": "stdout",
     "output_type": "stream",
     "text": [
      "sox WARN rate: rate clipped 20 samples; decrease volume?\r\n",
      "sox WARN dither: dither clipped 18 samples; decrease volume?\r\n"
     ]
    },
    {
     "name": "stderr",
     "output_type": "stream",
     "text": [
      "\r",
      "161it [01:24,  1.87it/s]"
     ]
    },
    {
     "name": "stdout",
     "output_type": "stream",
     "text": [
      "sox WARN rate: rate clipped 19 samples; decrease volume?\r\n",
      "sox WARN dither: dither clipped 16 samples; decrease volume?\r\n"
     ]
    },
    {
     "name": "stderr",
     "output_type": "stream",
     "text": [
      "\r",
      "162it [01:24,  1.88it/s]"
     ]
    },
    {
     "name": "stdout",
     "output_type": "stream",
     "text": [
      "sox WARN rate: rate clipped 18 samples; decrease volume?\r\n",
      "sox WARN dither: dither clipped 18 samples; decrease volume?\r\n"
     ]
    },
    {
     "name": "stderr",
     "output_type": "stream",
     "text": [
      "\r",
      "163it [01:25,  1.88it/s]"
     ]
    },
    {
     "name": "stdout",
     "output_type": "stream",
     "text": [
      "sox WARN rate: rate clipped 18 samples; decrease volume?\r\n",
      "sox WARN dither: dither clipped 17 samples; decrease volume?\r\n"
     ]
    },
    {
     "name": "stderr",
     "output_type": "stream",
     "text": [
      "\r",
      "164it [01:25,  1.87it/s]"
     ]
    },
    {
     "name": "stdout",
     "output_type": "stream",
     "text": [
      "sox WARN rate: rate clipped 19 samples; decrease volume?\r\n",
      "sox WARN dither: dither clipped 16 samples; decrease volume?\r\n"
     ]
    },
    {
     "name": "stderr",
     "output_type": "stream",
     "text": [
      "\r",
      "165it [01:26,  1.88it/s]"
     ]
    },
    {
     "name": "stdout",
     "output_type": "stream",
     "text": [
      "sox WARN rate: rate clipped 19 samples; decrease volume?\r\n",
      "sox WARN dither: dither clipped 15 samples; decrease volume?\r\n"
     ]
    },
    {
     "name": "stderr",
     "output_type": "stream",
     "text": [
      "\r",
      "166it [01:26,  1.87it/s]"
     ]
    },
    {
     "name": "stdout",
     "output_type": "stream",
     "text": [
      "sox WARN rate: rate clipped 19 samples; decrease volume?\r\n",
      "sox WARN dither: dither clipped 19 samples; decrease volume?\r\n"
     ]
    },
    {
     "name": "stderr",
     "output_type": "stream",
     "text": [
      "\r",
      "167it [01:27,  1.88it/s]"
     ]
    },
    {
     "name": "stdout",
     "output_type": "stream",
     "text": [
      "sox WARN rate: rate clipped 19 samples; decrease volume?\r\n",
      "sox WARN dither: dither clipped 16 samples; decrease volume?\r\n"
     ]
    },
    {
     "name": "stderr",
     "output_type": "stream",
     "text": [
      "\r",
      "168it [01:27,  1.86it/s]"
     ]
    },
    {
     "name": "stdout",
     "output_type": "stream",
     "text": [
      "sox WARN rate: rate clipped 14 samples; decrease volume?\r\n",
      "sox WARN dither: dither clipped 13 samples; decrease volume?\r\n"
     ]
    },
    {
     "name": "stderr",
     "output_type": "stream",
     "text": [
      "\r",
      "169it [01:28,  1.85it/s]"
     ]
    },
    {
     "name": "stdout",
     "output_type": "stream",
     "text": [
      "sox WARN rate: rate clipped 17 samples; decrease volume?\r\n",
      "sox WARN dither: dither clipped 13 samples; decrease volume?\r\n"
     ]
    },
    {
     "name": "stderr",
     "output_type": "stream",
     "text": [
      "\r",
      "170it [01:29,  1.87it/s]"
     ]
    },
    {
     "name": "stdout",
     "output_type": "stream",
     "text": [
      "sox WARN rate: rate clipped 287 samples; decrease volume?\r\n",
      "sox WARN dither: dither clipped 252 samples; decrease volume?\r\n"
     ]
    },
    {
     "name": "stderr",
     "output_type": "stream",
     "text": [
      "\r",
      "171it [01:29,  1.87it/s]"
     ]
    },
    {
     "name": "stdout",
     "output_type": "stream",
     "text": [
      "sox WARN rate: rate clipped 19 samples; decrease volume?\r\n",
      "sox WARN dither: dither clipped 14 samples; decrease volume?\r\n"
     ]
    },
    {
     "name": "stderr",
     "output_type": "stream",
     "text": [
      "\r",
      "172it [01:30,  1.86it/s]"
     ]
    },
    {
     "name": "stdout",
     "output_type": "stream",
     "text": [
      "sox WARN rate: rate clipped 18 samples; decrease volume?\r\n",
      "sox WARN dither: dither clipped 15 samples; decrease volume?\r\n"
     ]
    },
    {
     "name": "stderr",
     "output_type": "stream",
     "text": [
      "\r",
      "173it [01:30,  1.87it/s]"
     ]
    },
    {
     "name": "stdout",
     "output_type": "stream",
     "text": [
      "sox WARN rate: rate clipped 18 samples; decrease volume?\r\n",
      "sox WARN dither: dither clipped 15 samples; decrease volume?\r\n"
     ]
    },
    {
     "name": "stderr",
     "output_type": "stream",
     "text": [
      "\r",
      "174it [01:31,  1.88it/s]"
     ]
    },
    {
     "name": "stdout",
     "output_type": "stream",
     "text": [
      "sox WARN rate: rate clipped 19 samples; decrease volume?\r\n",
      "sox WARN dither: dither clipped 15 samples; decrease volume?\r\n"
     ]
    },
    {
     "name": "stderr",
     "output_type": "stream",
     "text": [
      "\r",
      "175it [01:31,  1.87it/s]"
     ]
    },
    {
     "name": "stdout",
     "output_type": "stream",
     "text": [
      "sox WARN rate: rate clipped 18 samples; decrease volume?\r\n",
      "sox WARN dither: dither clipped 17 samples; decrease volume?\r\n"
     ]
    },
    {
     "name": "stderr",
     "output_type": "stream",
     "text": [
      "\r",
      "176it [01:32,  1.88it/s]"
     ]
    },
    {
     "name": "stdout",
     "output_type": "stream",
     "text": [
      "sox WARN rate: rate clipped 44 samples; decrease volume?\r\n",
      "sox WARN dither: dither clipped 35 samples; decrease volume?\r\n"
     ]
    },
    {
     "name": "stderr",
     "output_type": "stream",
     "text": [
      "\r",
      "177it [01:32,  1.87it/s]"
     ]
    },
    {
     "name": "stdout",
     "output_type": "stream",
     "text": [
      "sox WARN rate: rate clipped 16 samples; decrease volume?\r\n",
      "sox WARN dither: dither clipped 12 samples; decrease volume?\r\n"
     ]
    },
    {
     "name": "stderr",
     "output_type": "stream",
     "text": [
      "\r",
      "178it [01:33,  1.87it/s]"
     ]
    },
    {
     "name": "stdout",
     "output_type": "stream",
     "text": [
      "sox WARN rate: rate clipped 19 samples; decrease volume?\r\n",
      "sox WARN dither: dither clipped 19 samples; decrease volume?\r\n"
     ]
    },
    {
     "name": "stderr",
     "output_type": "stream",
     "text": [
      "\r",
      "179it [01:33,  1.87it/s]"
     ]
    },
    {
     "name": "stdout",
     "output_type": "stream",
     "text": [
      "sox WARN rate: rate clipped 14 samples; decrease volume?\r\n",
      "sox WARN dither: dither clipped 12 samples; decrease volume?\r\n"
     ]
    },
    {
     "name": "stderr",
     "output_type": "stream",
     "text": [
      "\r",
      "180it [01:34,  1.87it/s]"
     ]
    },
    {
     "name": "stdout",
     "output_type": "stream",
     "text": [
      "sox WARN rate: rate clipped 24 samples; decrease volume?\r\n",
      "sox WARN dither: dither clipped 24 samples; decrease volume?\r\n"
     ]
    },
    {
     "name": "stderr",
     "output_type": "stream",
     "text": [
      "\r",
      "181it [01:34,  1.87it/s]"
     ]
    },
    {
     "name": "stdout",
     "output_type": "stream",
     "text": [
      "sox WARN rate: rate clipped 19 samples; decrease volume?\r\n",
      "sox WARN dither: dither clipped 18 samples; decrease volume?\r\n"
     ]
    },
    {
     "name": "stderr",
     "output_type": "stream",
     "text": [
      "\r",
      "182it [01:35,  1.88it/s]"
     ]
    },
    {
     "name": "stdout",
     "output_type": "stream",
     "text": [
      "sox WARN rate: rate clipped 16 samples; decrease volume?\r\n",
      "sox WARN dither: dither clipped 15 samples; decrease volume?\r\n"
     ]
    },
    {
     "name": "stderr",
     "output_type": "stream",
     "text": [
      "\r",
      "183it [01:36,  1.87it/s]"
     ]
    },
    {
     "name": "stdout",
     "output_type": "stream",
     "text": [
      "sox WARN rate: rate clipped 16 samples; decrease volume?\r\n",
      "sox WARN dither: dither clipped 16 samples; decrease volume?\r\n"
     ]
    },
    {
     "name": "stderr",
     "output_type": "stream",
     "text": [
      "\r",
      "184it [01:36,  1.88it/s]"
     ]
    },
    {
     "name": "stdout",
     "output_type": "stream",
     "text": [
      "sox WARN rate: rate clipped 17 samples; decrease volume?\r\n",
      "sox WARN dither: dither clipped 15 samples; decrease volume?\r\n"
     ]
    },
    {
     "name": "stderr",
     "output_type": "stream",
     "text": [
      "\r",
      "185it [01:37,  1.87it/s]"
     ]
    },
    {
     "name": "stdout",
     "output_type": "stream",
     "text": [
      "sox WARN rate: rate clipped 19 samples; decrease volume?\r\n",
      "sox WARN dither: dither clipped 17 samples; decrease volume?\r\n"
     ]
    },
    {
     "name": "stderr",
     "output_type": "stream",
     "text": [
      "\r",
      "186it [01:37,  1.88it/s]"
     ]
    },
    {
     "name": "stdout",
     "output_type": "stream",
     "text": [
      "sox WARN rate: rate clipped 18 samples; decrease volume?\r\n",
      "sox WARN dither: dither clipped 16 samples; decrease volume?\r\n"
     ]
    },
    {
     "name": "stderr",
     "output_type": "stream",
     "text": [
      "\r",
      "187it [01:38,  1.88it/s]"
     ]
    },
    {
     "name": "stdout",
     "output_type": "stream",
     "text": [
      "sox WARN rate: rate clipped 17 samples; decrease volume?\r\n",
      "sox WARN dither: dither clipped 16 samples; decrease volume?\r\n"
     ]
    },
    {
     "name": "stderr",
     "output_type": "stream",
     "text": [
      "\r",
      "188it [01:38,  1.89it/s]"
     ]
    },
    {
     "name": "stdout",
     "output_type": "stream",
     "text": [
      "sox WARN rate: rate clipped 18 samples; decrease volume?\r\n",
      "sox WARN dither: dither clipped 15 samples; decrease volume?\r\n"
     ]
    },
    {
     "name": "stderr",
     "output_type": "stream",
     "text": [
      "\r",
      "189it [01:39,  1.89it/s]"
     ]
    },
    {
     "name": "stdout",
     "output_type": "stream",
     "text": [
      "sox WARN rate: rate clipped 93 samples; decrease volume?\r\n",
      "sox WARN dither: dither clipped 85 samples; decrease volume?\r\n"
     ]
    },
    {
     "name": "stderr",
     "output_type": "stream",
     "text": [
      "\r",
      "190it [01:39,  1.89it/s]"
     ]
    },
    {
     "name": "stdout",
     "output_type": "stream",
     "text": [
      "sox WARN rate: rate clipped 20 samples; decrease volume?\r\n",
      "sox WARN dither: dither clipped 17 samples; decrease volume?\r\n"
     ]
    },
    {
     "name": "stderr",
     "output_type": "stream",
     "text": [
      "\r",
      "191it [01:40,  2.05it/s]"
     ]
    },
    {
     "name": "stdout",
     "output_type": "stream",
     "text": [
      "sox WARN rate: rate clipped 19 samples; decrease volume?\r\n",
      "sox WARN dither: dither clipped 18 samples; decrease volume?\r\n"
     ]
    },
    {
     "name": "stderr",
     "output_type": "stream",
     "text": [
      "\r",
      "192it [01:40,  1.97it/s]"
     ]
    },
    {
     "name": "stdout",
     "output_type": "stream",
     "text": [
      "sox WARN rate: rate clipped 20 samples; decrease volume?\r\n",
      "sox WARN dither: dither clipped 16 samples; decrease volume?\r\n"
     ]
    },
    {
     "name": "stderr",
     "output_type": "stream",
     "text": [
      "\r",
      "193it [01:41,  1.95it/s]"
     ]
    },
    {
     "name": "stdout",
     "output_type": "stream",
     "text": [
      "sox WARN rate: rate clipped 17 samples; decrease volume?\r\n",
      "sox WARN dither: dither clipped 16 samples; decrease volume?\r\n"
     ]
    },
    {
     "name": "stderr",
     "output_type": "stream",
     "text": [
      "\r",
      "194it [01:41,  1.93it/s]"
     ]
    },
    {
     "name": "stdout",
     "output_type": "stream",
     "text": [
      "sox WARN rate: rate clipped 36 samples; decrease volume?\r\n",
      "sox WARN dither: dither clipped 28 samples; decrease volume?\r\n"
     ]
    },
    {
     "name": "stderr",
     "output_type": "stream",
     "text": [
      "\r",
      "195it [01:42,  1.91it/s]"
     ]
    },
    {
     "name": "stdout",
     "output_type": "stream",
     "text": [
      "sox WARN rate: rate clipped 17 samples; decrease volume?\r\n",
      "sox WARN dither: dither clipped 14 samples; decrease volume?\r\n"
     ]
    },
    {
     "name": "stderr",
     "output_type": "stream",
     "text": [
      "\r",
      "196it [01:42,  1.90it/s]"
     ]
    },
    {
     "name": "stdout",
     "output_type": "stream",
     "text": [
      "sox WARN rate: rate clipped 22 samples; decrease volume?\r\n",
      "sox WARN dither: dither clipped 17 samples; decrease volume?\r\n"
     ]
    },
    {
     "name": "stderr",
     "output_type": "stream",
     "text": [
      "\r",
      "197it [01:43,  1.90it/s]"
     ]
    },
    {
     "name": "stdout",
     "output_type": "stream",
     "text": [
      "sox WARN rate: rate clipped 17 samples; decrease volume?\r\n",
      "sox WARN dither: dither clipped 17 samples; decrease volume?\r\n"
     ]
    },
    {
     "name": "stderr",
     "output_type": "stream",
     "text": [
      "\r",
      "198it [01:43,  1.89it/s]"
     ]
    },
    {
     "name": "stdout",
     "output_type": "stream",
     "text": [
      "sox WARN rate: rate clipped 18 samples; decrease volume?\r\n",
      "sox WARN dither: dither clipped 15 samples; decrease volume?\r\n"
     ]
    },
    {
     "name": "stderr",
     "output_type": "stream",
     "text": [
      "\r",
      "199it [01:44,  1.89it/s]"
     ]
    },
    {
     "name": "stdout",
     "output_type": "stream",
     "text": [
      "sox WARN rate: rate clipped 18 samples; decrease volume?\r\n",
      "sox WARN dither: dither clipped 16 samples; decrease volume?\r\n"
     ]
    },
    {
     "name": "stderr",
     "output_type": "stream",
     "text": [
      "\r",
      "200it [01:44,  1.89it/s]"
     ]
    },
    {
     "name": "stdout",
     "output_type": "stream",
     "text": [
      "sox WARN rate: rate clipped 15 samples; decrease volume?\r\n",
      "sox WARN dither: dither clipped 14 samples; decrease volume?\r\n"
     ]
    },
    {
     "name": "stderr",
     "output_type": "stream",
     "text": [
      "\r",
      "201it [01:45,  1.89it/s]"
     ]
    },
    {
     "name": "stdout",
     "output_type": "stream",
     "text": [
      "sox WARN rate: rate clipped 17 samples; decrease volume?\r\n",
      "sox WARN dither: dither clipped 13 samples; decrease volume?\r\n"
     ]
    },
    {
     "name": "stderr",
     "output_type": "stream",
     "text": [
      "\r",
      "202it [01:45,  1.89it/s]"
     ]
    },
    {
     "name": "stdout",
     "output_type": "stream",
     "text": [
      "sox WARN rate: rate clipped 21 samples; decrease volume?\r\n",
      "sox WARN dither: dither clipped 19 samples; decrease volume?\r\n"
     ]
    },
    {
     "name": "stderr",
     "output_type": "stream",
     "text": [
      "\r",
      "203it [01:46,  1.88it/s]"
     ]
    },
    {
     "name": "stdout",
     "output_type": "stream",
     "text": [
      "sox WARN rate: rate clipped 19 samples; decrease volume?\r\n",
      "sox WARN dither: dither clipped 15 samples; decrease volume?\r\n"
     ]
    },
    {
     "name": "stderr",
     "output_type": "stream",
     "text": [
      "\r",
      "204it [01:47,  1.89it/s]"
     ]
    },
    {
     "name": "stdout",
     "output_type": "stream",
     "text": [
      "sox WARN rate: rate clipped 17 samples; decrease volume?\r\n",
      "sox WARN dither: dither clipped 14 samples; decrease volume?\r\n"
     ]
    },
    {
     "name": "stderr",
     "output_type": "stream",
     "text": [
      "\r",
      "205it [01:47,  1.89it/s]"
     ]
    },
    {
     "name": "stdout",
     "output_type": "stream",
     "text": [
      "sox WARN rate: rate clipped 19 samples; decrease volume?\r\n",
      "sox WARN dither: dither clipped 14 samples; decrease volume?\r\n"
     ]
    },
    {
     "name": "stderr",
     "output_type": "stream",
     "text": [
      "\r",
      "206it [01:48,  1.88it/s]"
     ]
    },
    {
     "name": "stdout",
     "output_type": "stream",
     "text": [
      "sox WARN rate: rate clipped 16 samples; decrease volume?\r\n",
      "sox WARN dither: dither clipped 14 samples; decrease volume?\r\n"
     ]
    },
    {
     "name": "stderr",
     "output_type": "stream",
     "text": [
      "\r",
      "207it [01:48,  1.87it/s]"
     ]
    },
    {
     "name": "stdout",
     "output_type": "stream",
     "text": [
      "sox WARN rate: rate clipped 19 samples; decrease volume?\r\n",
      "sox WARN dither: dither clipped 17 samples; decrease volume?\r\n"
     ]
    },
    {
     "name": "stderr",
     "output_type": "stream",
     "text": [
      "\r",
      "208it [01:49,  1.87it/s]"
     ]
    },
    {
     "name": "stdout",
     "output_type": "stream",
     "text": [
      "sox WARN rate: rate clipped 18 samples; decrease volume?\r\n",
      "sox WARN dither: dither clipped 16 samples; decrease volume?\r\n"
     ]
    },
    {
     "name": "stderr",
     "output_type": "stream",
     "text": [
      "\r",
      "209it [01:49,  1.87it/s]"
     ]
    },
    {
     "name": "stdout",
     "output_type": "stream",
     "text": [
      "sox WARN rate: rate clipped 17 samples; decrease volume?\r\n",
      "sox WARN dither: dither clipped 14 samples; decrease volume?\r\n"
     ]
    },
    {
     "name": "stderr",
     "output_type": "stream",
     "text": [
      "\r",
      "210it [01:50,  1.88it/s]"
     ]
    },
    {
     "name": "stdout",
     "output_type": "stream",
     "text": [
      "sox WARN rate: rate clipped 17 samples; decrease volume?\r\n",
      "sox WARN dither: dither clipped 13 samples; decrease volume?\r\n"
     ]
    },
    {
     "name": "stderr",
     "output_type": "stream",
     "text": [
      "\r",
      "211it [01:50,  1.87it/s]"
     ]
    },
    {
     "name": "stdout",
     "output_type": "stream",
     "text": [
      "sox WARN rate: rate clipped 21 samples; decrease volume?\r\n",
      "sox WARN dither: dither clipped 18 samples; decrease volume?\r\n"
     ]
    },
    {
     "name": "stderr",
     "output_type": "stream",
     "text": [
      "\r",
      "212it [01:51,  1.87it/s]"
     ]
    },
    {
     "name": "stdout",
     "output_type": "stream",
     "text": [
      "sox WARN rate: rate clipped 19 samples; decrease volume?\r\n",
      "sox WARN dither: dither clipped 18 samples; decrease volume?\r\n"
     ]
    },
    {
     "name": "stderr",
     "output_type": "stream",
     "text": [
      "\r",
      "213it [01:51,  1.87it/s]"
     ]
    },
    {
     "name": "stdout",
     "output_type": "stream",
     "text": [
      "sox WARN rate: rate clipped 19 samples; decrease volume?\r\n",
      "sox WARN dither: dither clipped 18 samples; decrease volume?\r\n"
     ]
    },
    {
     "name": "stderr",
     "output_type": "stream",
     "text": [
      "\r",
      "214it [01:52,  1.87it/s]"
     ]
    },
    {
     "name": "stdout",
     "output_type": "stream",
     "text": [
      "sox WARN rate: rate clipped 15 samples; decrease volume?\r\n",
      "sox WARN dither: dither clipped 15 samples; decrease volume?\r\n"
     ]
    },
    {
     "name": "stderr",
     "output_type": "stream",
     "text": [
      "\r",
      "215it [01:52,  1.87it/s]"
     ]
    },
    {
     "name": "stdout",
     "output_type": "stream",
     "text": [
      "sox WARN rate: rate clipped 18 samples; decrease volume?\r\n",
      "sox WARN dither: dither clipped 15 samples; decrease volume?\r\n"
     ]
    },
    {
     "name": "stderr",
     "output_type": "stream",
     "text": [
      "\r",
      "216it [01:53,  1.88it/s]"
     ]
    },
    {
     "name": "stdout",
     "output_type": "stream",
     "text": [
      "sox WARN rate: rate clipped 37 samples; decrease volume?\r\n",
      "sox WARN dither: dither clipped 31 samples; decrease volume?\r\n"
     ]
    },
    {
     "name": "stderr",
     "output_type": "stream",
     "text": [
      "\r",
      "217it [01:53,  1.87it/s]"
     ]
    },
    {
     "name": "stdout",
     "output_type": "stream",
     "text": [
      "sox WARN rate: rate clipped 46 samples; decrease volume?\r\n",
      "sox WARN dither: dither clipped 37 samples; decrease volume?\r\n"
     ]
    },
    {
     "name": "stderr",
     "output_type": "stream",
     "text": [
      "\r",
      "218it [01:54,  1.87it/s]"
     ]
    },
    {
     "name": "stdout",
     "output_type": "stream",
     "text": [
      "sox WARN rate: rate clipped 37 samples; decrease volume?\r\n",
      "sox WARN dither: dither clipped 34 samples; decrease volume?\r\n"
     ]
    },
    {
     "name": "stderr",
     "output_type": "stream",
     "text": [
      "\r",
      "219it [01:55,  1.87it/s]"
     ]
    },
    {
     "name": "stdout",
     "output_type": "stream",
     "text": [
      "sox WARN rate: rate clipped 17 samples; decrease volume?\r\n",
      "sox WARN dither: dither clipped 15 samples; decrease volume?\r\n"
     ]
    },
    {
     "name": "stderr",
     "output_type": "stream",
     "text": [
      "\r",
      "220it [01:55,  1.88it/s]"
     ]
    },
    {
     "name": "stdout",
     "output_type": "stream",
     "text": [
      "sox WARN rate: rate clipped 18 samples; decrease volume?\r\n",
      "sox WARN dither: dither clipped 16 samples; decrease volume?\r\n"
     ]
    },
    {
     "name": "stderr",
     "output_type": "stream",
     "text": [
      "\r",
      "221it [01:56,  1.87it/s]"
     ]
    },
    {
     "name": "stdout",
     "output_type": "stream",
     "text": [
      "sox WARN rate: rate clipped 18 samples; decrease volume?\r\n",
      "sox WARN dither: dither clipped 16 samples; decrease volume?\r\n"
     ]
    },
    {
     "name": "stderr",
     "output_type": "stream",
     "text": [
      "\r",
      "222it [01:56,  1.86it/s]"
     ]
    },
    {
     "name": "stdout",
     "output_type": "stream",
     "text": [
      "sox WARN rate: rate clipped 19 samples; decrease volume?\r\n",
      "sox WARN dither: dither clipped 15 samples; decrease volume?\r\n"
     ]
    },
    {
     "name": "stderr",
     "output_type": "stream",
     "text": [
      "\r",
      "223it [01:57,  1.86it/s]"
     ]
    },
    {
     "name": "stdout",
     "output_type": "stream",
     "text": [
      "sox WARN rate: rate clipped 18 samples; decrease volume?\r\n",
      "sox WARN dither: dither clipped 15 samples; decrease volume?\r\n"
     ]
    },
    {
     "name": "stderr",
     "output_type": "stream",
     "text": [
      "\r",
      "224it [01:57,  1.87it/s]"
     ]
    },
    {
     "name": "stdout",
     "output_type": "stream",
     "text": [
      "sox WARN rate: rate clipped 18 samples; decrease volume?\r\n",
      "sox WARN dither: dither clipped 16 samples; decrease volume?\r\n"
     ]
    },
    {
     "name": "stderr",
     "output_type": "stream",
     "text": [
      "\r",
      "225it [01:58,  1.84it/s]"
     ]
    },
    {
     "name": "stdout",
     "output_type": "stream",
     "text": [
      "sox WARN rate: rate clipped 19 samples; decrease volume?\r\n",
      "sox WARN dither: dither clipped 17 samples; decrease volume?\r\n"
     ]
    },
    {
     "name": "stderr",
     "output_type": "stream",
     "text": [
      "\r",
      "226it [01:58,  1.85it/s]"
     ]
    },
    {
     "name": "stdout",
     "output_type": "stream",
     "text": [
      "sox WARN rate: rate clipped 17 samples; decrease volume?\r\n",
      "sox WARN dither: dither clipped 16 samples; decrease volume?\r\n"
     ]
    },
    {
     "name": "stderr",
     "output_type": "stream",
     "text": [
      "\r",
      "227it [01:59,  1.86it/s]"
     ]
    },
    {
     "name": "stdout",
     "output_type": "stream",
     "text": [
      "sox WARN rate: rate clipped 19 samples; decrease volume?\r\n",
      "sox WARN dither: dither clipped 17 samples; decrease volume?\r\n"
     ]
    },
    {
     "name": "stderr",
     "output_type": "stream",
     "text": [
      "\r",
      "228it [01:59,  1.86it/s]"
     ]
    },
    {
     "name": "stdout",
     "output_type": "stream",
     "text": [
      "sox WARN rate: rate clipped 771 samples; decrease volume?\r\n",
      "sox WARN dither: dither clipped 666 samples; decrease volume?\r\n"
     ]
    },
    {
     "name": "stderr",
     "output_type": "stream",
     "text": [
      "\r",
      "229it [02:00,  1.87it/s]"
     ]
    },
    {
     "name": "stdout",
     "output_type": "stream",
     "text": [
      "sox WARN rate: rate clipped 18 samples; decrease volume?\r\n",
      "sox WARN dither: dither clipped 16 samples; decrease volume?\r\n"
     ]
    },
    {
     "name": "stderr",
     "output_type": "stream",
     "text": [
      "\r",
      "230it [02:00,  1.86it/s]"
     ]
    },
    {
     "name": "stdout",
     "output_type": "stream",
     "text": [
      "sox WARN rate: rate clipped 27 samples; decrease volume?\r\n",
      "sox WARN dither: dither clipped 27 samples; decrease volume?\r\n"
     ]
    },
    {
     "name": "stderr",
     "output_type": "stream",
     "text": [
      "\r",
      "231it [02:01,  1.87it/s]"
     ]
    },
    {
     "name": "stdout",
     "output_type": "stream",
     "text": [
      "sox WARN rate: rate clipped 17 samples; decrease volume?\r\n",
      "sox WARN dither: dither clipped 14 samples; decrease volume?\r\n"
     ]
    },
    {
     "name": "stderr",
     "output_type": "stream",
     "text": [
      "\r",
      "232it [02:02,  1.88it/s]"
     ]
    },
    {
     "name": "stdout",
     "output_type": "stream",
     "text": [
      "sox WARN rate: rate clipped 18 samples; decrease volume?\r\n",
      "sox WARN dither: dither clipped 18 samples; decrease volume?\r\n"
     ]
    },
    {
     "name": "stderr",
     "output_type": "stream",
     "text": [
      "\r",
      "233it [02:02,  1.82it/s]"
     ]
    },
    {
     "name": "stdout",
     "output_type": "stream",
     "text": [
      "sox WARN rate: rate clipped 17 samples; decrease volume?\r\n",
      "sox WARN dither: dither clipped 14 samples; decrease volume?\r\n"
     ]
    },
    {
     "name": "stderr",
     "output_type": "stream",
     "text": [
      "\r",
      "234it [02:03,  1.84it/s]"
     ]
    },
    {
     "name": "stdout",
     "output_type": "stream",
     "text": [
      "sox WARN rate: rate clipped 17 samples; decrease volume?\r\n",
      "sox WARN dither: dither clipped 15 samples; decrease volume?\r\n"
     ]
    },
    {
     "name": "stderr",
     "output_type": "stream",
     "text": [
      "\r",
      "235it [02:03,  1.85it/s]"
     ]
    },
    {
     "name": "stdout",
     "output_type": "stream",
     "text": [
      "sox WARN rate: rate clipped 19 samples; decrease volume?\r\n",
      "sox WARN dither: dither clipped 17 samples; decrease volume?\r\n"
     ]
    },
    {
     "name": "stderr",
     "output_type": "stream",
     "text": [
      "\r",
      "236it [02:04,  1.85it/s]"
     ]
    },
    {
     "name": "stdout",
     "output_type": "stream",
     "text": [
      "sox WARN rate: rate clipped 17 samples; decrease volume?\r\n",
      "sox WARN dither: dither clipped 17 samples; decrease volume?\r\n"
     ]
    },
    {
     "name": "stderr",
     "output_type": "stream",
     "text": [
      "\r",
      "237it [02:04,  1.86it/s]"
     ]
    },
    {
     "name": "stdout",
     "output_type": "stream",
     "text": [
      "sox WARN rate: rate clipped 17 samples; decrease volume?\r\n",
      "sox WARN dither: dither clipped 15 samples; decrease volume?\r\n"
     ]
    },
    {
     "name": "stderr",
     "output_type": "stream",
     "text": [
      "\r",
      "238it [02:05,  1.87it/s]"
     ]
    },
    {
     "name": "stdout",
     "output_type": "stream",
     "text": [
      "sox WARN rate: rate clipped 18 samples; decrease volume?\r\n",
      "sox WARN dither: dither clipped 17 samples; decrease volume?\r\n"
     ]
    },
    {
     "name": "stderr",
     "output_type": "stream",
     "text": [
      "\r",
      "239it [02:05,  1.87it/s]"
     ]
    },
    {
     "name": "stdout",
     "output_type": "stream",
     "text": [
      "sox WARN rate: rate clipped 18 samples; decrease volume?\r\n",
      "sox WARN dither: dither clipped 16 samples; decrease volume?\r\n"
     ]
    },
    {
     "name": "stderr",
     "output_type": "stream",
     "text": [
      "\r",
      "240it [02:06,  1.87it/s]"
     ]
    },
    {
     "name": "stdout",
     "output_type": "stream",
     "text": [
      "sox WARN rate: rate clipped 18 samples; decrease volume?\r\n",
      "sox WARN dither: dither clipped 14 samples; decrease volume?\r\n"
     ]
    },
    {
     "name": "stderr",
     "output_type": "stream",
     "text": [
      "\r",
      "241it [02:06,  1.88it/s]"
     ]
    },
    {
     "name": "stdout",
     "output_type": "stream",
     "text": [
      "sox WARN rate: rate clipped 21 samples; decrease volume?\r\n",
      "sox WARN dither: dither clipped 18 samples; decrease volume?\r\n"
     ]
    },
    {
     "name": "stderr",
     "output_type": "stream",
     "text": [
      "\r",
      "242it [02:07,  1.87it/s]"
     ]
    },
    {
     "name": "stdout",
     "output_type": "stream",
     "text": [
      "sox WARN rate: rate clipped 17 samples; decrease volume?\r\n",
      "sox WARN dither: dither clipped 15 samples; decrease volume?\r\n"
     ]
    },
    {
     "name": "stderr",
     "output_type": "stream",
     "text": [
      "\r",
      "243it [02:07,  1.89it/s]"
     ]
    },
    {
     "name": "stdout",
     "output_type": "stream",
     "text": [
      "sox WARN rate: rate clipped 17 samples; decrease volume?\r\n",
      "sox WARN dither: dither clipped 14 samples; decrease volume?\r\n"
     ]
    },
    {
     "name": "stderr",
     "output_type": "stream",
     "text": [
      "\r",
      "244it [02:08,  1.89it/s]"
     ]
    },
    {
     "name": "stdout",
     "output_type": "stream",
     "text": [
      "sox WARN rate: rate clipped 17 samples; decrease volume?\r\n",
      "sox WARN dither: dither clipped 17 samples; decrease volume?\r\n"
     ]
    },
    {
     "name": "stderr",
     "output_type": "stream",
     "text": [
      "\r",
      "245it [02:08,  1.89it/s]"
     ]
    },
    {
     "name": "stdout",
     "output_type": "stream",
     "text": [
      "sox WARN rate: rate clipped 18 samples; decrease volume?\r\n",
      "sox WARN dither: dither clipped 16 samples; decrease volume?\r\n"
     ]
    },
    {
     "name": "stderr",
     "output_type": "stream",
     "text": [
      "\r",
      "246it [02:09,  1.89it/s]"
     ]
    },
    {
     "name": "stdout",
     "output_type": "stream",
     "text": [
      "sox WARN rate: rate clipped 18 samples; decrease volume?\r\n",
      "sox WARN dither: dither clipped 18 samples; decrease volume?\r\n"
     ]
    },
    {
     "name": "stderr",
     "output_type": "stream",
     "text": [
      "\r",
      "247it [02:10,  1.89it/s]"
     ]
    },
    {
     "name": "stdout",
     "output_type": "stream",
     "text": [
      "sox WARN rate: rate clipped 18 samples; decrease volume?\r\n",
      "sox WARN dither: dither clipped 17 samples; decrease volume?\r\n"
     ]
    },
    {
     "name": "stderr",
     "output_type": "stream",
     "text": [
      "\r",
      "248it [02:10,  1.89it/s]"
     ]
    },
    {
     "name": "stdout",
     "output_type": "stream",
     "text": [
      "sox WARN rate: rate clipped 15 samples; decrease volume?\r\n",
      "sox WARN dither: dither clipped 14 samples; decrease volume?\r\n"
     ]
    },
    {
     "name": "stderr",
     "output_type": "stream",
     "text": [
      "\r",
      "249it [02:11,  1.89it/s]"
     ]
    },
    {
     "name": "stdout",
     "output_type": "stream",
     "text": [
      "sox WARN rate: rate clipped 61 samples; decrease volume?\r\n",
      "sox WARN dither: dither clipped 53 samples; decrease volume?\r\n"
     ]
    },
    {
     "name": "stderr",
     "output_type": "stream",
     "text": [
      "\r",
      "250it [02:11,  1.89it/s]"
     ]
    },
    {
     "name": "stdout",
     "output_type": "stream",
     "text": [
      "sox WARN rate: rate clipped 19 samples; decrease volume?\r\n",
      "sox WARN dither: dither clipped 18 samples; decrease volume?\r\n"
     ]
    },
    {
     "name": "stderr",
     "output_type": "stream",
     "text": [
      "\r",
      "251it [02:12,  1.87it/s]"
     ]
    },
    {
     "name": "stdout",
     "output_type": "stream",
     "text": [
      "sox WARN rate: rate clipped 17 samples; decrease volume?\r\n",
      "sox WARN dither: dither clipped 12 samples; decrease volume?\r\n"
     ]
    },
    {
     "name": "stderr",
     "output_type": "stream",
     "text": [
      "\r",
      "252it [02:12,  1.87it/s]"
     ]
    },
    {
     "name": "stdout",
     "output_type": "stream",
     "text": [
      "sox WARN rate: rate clipped 18 samples; decrease volume?\r\n",
      "sox WARN dither: dither clipped 16 samples; decrease volume?\r\n"
     ]
    },
    {
     "name": "stderr",
     "output_type": "stream",
     "text": [
      "\r",
      "253it [02:13,  1.88it/s]"
     ]
    },
    {
     "name": "stdout",
     "output_type": "stream",
     "text": [
      "sox WARN rate: rate clipped 21 samples; decrease volume?\r\n",
      "sox WARN dither: dither clipped 18 samples; decrease volume?\r\n"
     ]
    },
    {
     "name": "stderr",
     "output_type": "stream",
     "text": [
      "\r",
      "254it [02:13,  1.87it/s]"
     ]
    },
    {
     "name": "stdout",
     "output_type": "stream",
     "text": [
      "sox WARN rate: rate clipped 18 samples; decrease volume?\r\n",
      "sox WARN dither: dither clipped 18 samples; decrease volume?\r\n"
     ]
    },
    {
     "name": "stderr",
     "output_type": "stream",
     "text": [
      "\r",
      "255it [02:14,  1.87it/s]"
     ]
    },
    {
     "name": "stdout",
     "output_type": "stream",
     "text": [
      "sox WARN rate: rate clipped 17 samples; decrease volume?\r\n",
      "sox WARN dither: dither clipped 14 samples; decrease volume?\r\n"
     ]
    },
    {
     "name": "stderr",
     "output_type": "stream",
     "text": [
      "\r",
      "256it [02:14,  1.87it/s]"
     ]
    },
    {
     "name": "stdout",
     "output_type": "stream",
     "text": [
      "sox WARN rate: rate clipped 20 samples; decrease volume?\r\n",
      "sox WARN dither: dither clipped 19 samples; decrease volume?\r\n"
     ]
    },
    {
     "name": "stderr",
     "output_type": "stream",
     "text": [
      "\r",
      "257it [02:15,  1.88it/s]"
     ]
    },
    {
     "name": "stdout",
     "output_type": "stream",
     "text": [
      "sox WARN rate: rate clipped 15 samples; decrease volume?\r\n",
      "sox WARN dither: dither clipped 14 samples; decrease volume?\r\n"
     ]
    },
    {
     "name": "stderr",
     "output_type": "stream",
     "text": [
      "\r",
      "258it [02:15,  1.87it/s]"
     ]
    },
    {
     "name": "stdout",
     "output_type": "stream",
     "text": [
      "sox WARN rate: rate clipped 20 samples; decrease volume?\r\n",
      "sox WARN dither: dither clipped 18 samples; decrease volume?\r\n"
     ]
    },
    {
     "name": "stderr",
     "output_type": "stream",
     "text": [
      "\r",
      "259it [02:16,  1.87it/s]"
     ]
    },
    {
     "name": "stdout",
     "output_type": "stream",
     "text": [
      "sox WARN rate: rate clipped 18 samples; decrease volume?\r\n",
      "sox WARN dither: dither clipped 15 samples; decrease volume?\r\n"
     ]
    },
    {
     "name": "stderr",
     "output_type": "stream",
     "text": [
      "\r",
      "260it [02:16,  1.88it/s]"
     ]
    },
    {
     "name": "stdout",
     "output_type": "stream",
     "text": [
      "sox WARN rate: rate clipped 15 samples; decrease volume?\r\n",
      "sox WARN dither: dither clipped 14 samples; decrease volume?\r\n"
     ]
    },
    {
     "name": "stderr",
     "output_type": "stream",
     "text": [
      "\r",
      "261it [02:17,  1.87it/s]"
     ]
    },
    {
     "name": "stdout",
     "output_type": "stream",
     "text": [
      "sox WARN rate: rate clipped 18 samples; decrease volume?\r\n",
      "sox WARN dither: dither clipped 17 samples; decrease volume?\r\n"
     ]
    },
    {
     "name": "stderr",
     "output_type": "stream",
     "text": [
      "\r",
      "262it [02:18,  1.88it/s]"
     ]
    },
    {
     "name": "stdout",
     "output_type": "stream",
     "text": [
      "sox WARN rate: rate clipped 25 samples; decrease volume?\r\n",
      "sox WARN dither: dither clipped 23 samples; decrease volume?\r\n"
     ]
    },
    {
     "name": "stderr",
     "output_type": "stream",
     "text": [
      "\r",
      "263it [02:18,  1.88it/s]"
     ]
    },
    {
     "name": "stdout",
     "output_type": "stream",
     "text": [
      "sox WARN rate: rate clipped 14 samples; decrease volume?\r\n",
      "sox WARN dither: dither clipped 14 samples; decrease volume?\r\n"
     ]
    },
    {
     "name": "stderr",
     "output_type": "stream",
     "text": [
      "\r",
      "264it [02:19,  1.89it/s]"
     ]
    },
    {
     "name": "stdout",
     "output_type": "stream",
     "text": [
      "sox WARN rate: rate clipped 284 samples; decrease volume?\r\n",
      "sox WARN dither: dither clipped 251 samples; decrease volume?\r\n"
     ]
    },
    {
     "name": "stderr",
     "output_type": "stream",
     "text": [
      "\r",
      "265it [02:19,  1.89it/s]"
     ]
    },
    {
     "name": "stdout",
     "output_type": "stream",
     "text": [
      "sox WARN rate: rate clipped 18 samples; decrease volume?\r\n",
      "sox WARN dither: dither clipped 17 samples; decrease volume?\r\n"
     ]
    },
    {
     "name": "stderr",
     "output_type": "stream",
     "text": [
      "\r",
      "266it [02:20,  1.89it/s]"
     ]
    },
    {
     "name": "stdout",
     "output_type": "stream",
     "text": [
      "sox WARN rate: rate clipped 18 samples; decrease volume?\r\n",
      "sox WARN dither: dither clipped 16 samples; decrease volume?\r\n"
     ]
    },
    {
     "name": "stderr",
     "output_type": "stream",
     "text": [
      "\r",
      "267it [02:20,  1.88it/s]"
     ]
    },
    {
     "name": "stdout",
     "output_type": "stream",
     "text": [
      "sox WARN rate: rate clipped 15 samples; decrease volume?\r\n",
      "sox WARN dither: dither clipped 12 samples; decrease volume?\r\n"
     ]
    },
    {
     "name": "stderr",
     "output_type": "stream",
     "text": [
      "\r",
      "268it [02:21,  1.88it/s]"
     ]
    },
    {
     "name": "stdout",
     "output_type": "stream",
     "text": [
      "sox WARN rate: rate clipped 18 samples; decrease volume?\r\n",
      "sox WARN dither: dither clipped 14 samples; decrease volume?\r\n"
     ]
    },
    {
     "name": "stderr",
     "output_type": "stream",
     "text": [
      "\r",
      "269it [02:21,  1.88it/s]"
     ]
    },
    {
     "name": "stdout",
     "output_type": "stream",
     "text": [
      "sox WARN rate: rate clipped 18 samples; decrease volume?\r\n",
      "sox WARN dither: dither clipped 14 samples; decrease volume?\r\n"
     ]
    },
    {
     "name": "stderr",
     "output_type": "stream",
     "text": [
      "\r",
      "270it [02:22,  1.88it/s]"
     ]
    },
    {
     "name": "stdout",
     "output_type": "stream",
     "text": [
      "sox WARN rate: rate clipped 18 samples; decrease volume?\r\n",
      "sox WARN dither: dither clipped 15 samples; decrease volume?\r\n"
     ]
    },
    {
     "name": "stderr",
     "output_type": "stream",
     "text": [
      "\r",
      "271it [02:22,  1.88it/s]"
     ]
    },
    {
     "name": "stdout",
     "output_type": "stream",
     "text": [
      "sox WARN rate: rate clipped 19 samples; decrease volume?\r\n",
      "sox WARN dither: dither clipped 17 samples; decrease volume?\r\n"
     ]
    },
    {
     "name": "stderr",
     "output_type": "stream",
     "text": [
      "\r",
      "272it [02:23,  1.88it/s]"
     ]
    },
    {
     "name": "stdout",
     "output_type": "stream",
     "text": [
      "sox WARN rate: rate clipped 124 samples; decrease volume?\r\n",
      "sox WARN dither: dither clipped 108 samples; decrease volume?\r\n"
     ]
    },
    {
     "name": "stderr",
     "output_type": "stream",
     "text": [
      "\r",
      "273it [02:23,  1.89it/s]"
     ]
    },
    {
     "name": "stdout",
     "output_type": "stream",
     "text": [
      "sox WARN rate: rate clipped 16 samples; decrease volume?\r\n",
      "sox WARN dither: dither clipped 14 samples; decrease volume?\r\n"
     ]
    },
    {
     "name": "stderr",
     "output_type": "stream",
     "text": [
      "\r",
      "274it [02:24,  1.89it/s]"
     ]
    },
    {
     "name": "stdout",
     "output_type": "stream",
     "text": [
      "sox WARN rate: rate clipped 18 samples; decrease volume?\r\n",
      "sox WARN dither: dither clipped 14 samples; decrease volume?\r\n"
     ]
    },
    {
     "name": "stderr",
     "output_type": "stream",
     "text": [
      "\r",
      "275it [02:24,  1.89it/s]"
     ]
    },
    {
     "name": "stdout",
     "output_type": "stream",
     "text": [
      "sox WARN rate: rate clipped 46 samples; decrease volume?\r\n",
      "sox WARN dither: dither clipped 40 samples; decrease volume?\r\n"
     ]
    },
    {
     "name": "stderr",
     "output_type": "stream",
     "text": [
      "\r",
      "276it [02:25,  1.88it/s]"
     ]
    },
    {
     "name": "stdout",
     "output_type": "stream",
     "text": [
      "sox WARN rate: rate clipped 19 samples; decrease volume?\r\n",
      "sox WARN dither: dither clipped 13 samples; decrease volume?\r\n"
     ]
    },
    {
     "name": "stderr",
     "output_type": "stream",
     "text": [
      "\r",
      "277it [02:25,  1.89it/s]"
     ]
    },
    {
     "name": "stdout",
     "output_type": "stream",
     "text": [
      "sox WARN rate: rate clipped 20 samples; decrease volume?\r\n",
      "sox WARN dither: dither clipped 17 samples; decrease volume?\r\n"
     ]
    },
    {
     "name": "stderr",
     "output_type": "stream",
     "text": [
      "\r",
      "278it [02:26,  1.97it/s]"
     ]
    },
    {
     "name": "stdout",
     "output_type": "stream",
     "text": [
      "sox WARN rate: rate clipped 17 samples; decrease volume?\r\n",
      "sox WARN dither: dither clipped 16 samples; decrease volume?\r\n"
     ]
    },
    {
     "name": "stderr",
     "output_type": "stream",
     "text": [
      "\r",
      "279it [02:26,  1.94it/s]"
     ]
    },
    {
     "name": "stdout",
     "output_type": "stream",
     "text": [
      "sox WARN rate: rate clipped 18 samples; decrease volume?\r\n",
      "sox WARN dither: dither clipped 14 samples; decrease volume?\r\n"
     ]
    },
    {
     "name": "stderr",
     "output_type": "stream",
     "text": [
      "\r",
      "280it [02:27,  1.92it/s]"
     ]
    },
    {
     "name": "stdout",
     "output_type": "stream",
     "text": [
      "sox WARN rate: rate clipped 18 samples; decrease volume?\r\n",
      "sox WARN dither: dither clipped 18 samples; decrease volume?\r\n"
     ]
    },
    {
     "name": "stderr",
     "output_type": "stream",
     "text": [
      "\r",
      "281it [02:28,  1.90it/s]"
     ]
    },
    {
     "name": "stdout",
     "output_type": "stream",
     "text": [
      "sox WARN rate: rate clipped 24 samples; decrease volume?\r\n",
      "sox WARN dither: dither clipped 22 samples; decrease volume?\r\n"
     ]
    },
    {
     "name": "stderr",
     "output_type": "stream",
     "text": [
      "\r",
      "282it [02:28,  1.89it/s]"
     ]
    },
    {
     "name": "stdout",
     "output_type": "stream",
     "text": [
      "sox WARN rate: rate clipped 17 samples; decrease volume?\r\n",
      "sox WARN dither: dither clipped 16 samples; decrease volume?\r\n"
     ]
    },
    {
     "name": "stderr",
     "output_type": "stream",
     "text": [
      "\r",
      "283it [02:29,  1.87it/s]"
     ]
    },
    {
     "name": "stdout",
     "output_type": "stream",
     "text": [
      "sox WARN rate: rate clipped 15 samples; decrease volume?\r\n",
      "sox WARN dither: dither clipped 13 samples; decrease volume?\r\n"
     ]
    },
    {
     "name": "stderr",
     "output_type": "stream",
     "text": [
      "\r",
      "284it [02:29,  1.86it/s]"
     ]
    },
    {
     "name": "stdout",
     "output_type": "stream",
     "text": [
      "sox WARN rate: rate clipped 17 samples; decrease volume?\r\n",
      "sox WARN dither: dither clipped 12 samples; decrease volume?\r\n"
     ]
    },
    {
     "name": "stderr",
     "output_type": "stream",
     "text": [
      "\r",
      "285it [02:30,  1.87it/s]"
     ]
    },
    {
     "name": "stdout",
     "output_type": "stream",
     "text": [
      "sox WARN rate: rate clipped 19 samples; decrease volume?\r\n",
      "sox WARN dither: dither clipped 17 samples; decrease volume?\r\n"
     ]
    },
    {
     "name": "stderr",
     "output_type": "stream",
     "text": [
      "\r",
      "286it [02:30,  1.86it/s]"
     ]
    },
    {
     "name": "stdout",
     "output_type": "stream",
     "text": [
      "sox WARN rate: rate clipped 18 samples; decrease volume?\r\n",
      "sox WARN dither: dither clipped 16 samples; decrease volume?\r\n"
     ]
    },
    {
     "name": "stderr",
     "output_type": "stream",
     "text": [
      "\r",
      "287it [02:31,  1.87it/s]"
     ]
    },
    {
     "name": "stdout",
     "output_type": "stream",
     "text": [
      "sox WARN rate: rate clipped 32 samples; decrease volume?\r\n",
      "sox WARN dither: dither clipped 29 samples; decrease volume?\r\n"
     ]
    },
    {
     "name": "stderr",
     "output_type": "stream",
     "text": [
      "\r",
      "288it [02:31,  1.87it/s]"
     ]
    },
    {
     "name": "stdout",
     "output_type": "stream",
     "text": [
      "sox WARN rate: rate clipped 18 samples; decrease volume?\r\n",
      "sox WARN dither: dither clipped 17 samples; decrease volume?\r\n"
     ]
    },
    {
     "name": "stderr",
     "output_type": "stream",
     "text": [
      "\r",
      "289it [02:32,  1.88it/s]"
     ]
    },
    {
     "name": "stdout",
     "output_type": "stream",
     "text": [
      "sox WARN rate: rate clipped 17 samples; decrease volume?\r\n",
      "sox WARN dither: dither clipped 12 samples; decrease volume?\r\n"
     ]
    },
    {
     "name": "stderr",
     "output_type": "stream",
     "text": [
      "\r",
      "290it [02:32,  1.85it/s]"
     ]
    },
    {
     "name": "stdout",
     "output_type": "stream",
     "text": [
      "sox WARN rate: rate clipped 19 samples; decrease volume?\r\n",
      "sox WARN dither: dither clipped 16 samples; decrease volume?\r\n"
     ]
    },
    {
     "name": "stderr",
     "output_type": "stream",
     "text": [
      "\r",
      "291it [02:33,  1.86it/s]"
     ]
    },
    {
     "name": "stdout",
     "output_type": "stream",
     "text": [
      "sox WARN rate: rate clipped 19 samples; decrease volume?\r\n",
      "sox WARN dither: dither clipped 17 samples; decrease volume?\r\n"
     ]
    },
    {
     "name": "stderr",
     "output_type": "stream",
     "text": [
      "\r",
      "292it [02:33,  1.87it/s]"
     ]
    },
    {
     "name": "stdout",
     "output_type": "stream",
     "text": [
      "sox WARN rate: rate clipped 16 samples; decrease volume?\r\n",
      "sox WARN dither: dither clipped 14 samples; decrease volume?\r\n"
     ]
    },
    {
     "name": "stderr",
     "output_type": "stream",
     "text": [
      "\r",
      "293it [02:34,  1.87it/s]"
     ]
    },
    {
     "name": "stdout",
     "output_type": "stream",
     "text": [
      "sox WARN rate: rate clipped 19 samples; decrease volume?\r\n",
      "sox WARN dither: dither clipped 14 samples; decrease volume?\r\n"
     ]
    },
    {
     "name": "stderr",
     "output_type": "stream",
     "text": [
      "\r",
      "294it [02:35,  1.88it/s]"
     ]
    },
    {
     "name": "stdout",
     "output_type": "stream",
     "text": [
      "sox WARN rate: rate clipped 178 samples; decrease volume?\r\n",
      "sox WARN dither: dither clipped 159 samples; decrease volume?\r\n"
     ]
    },
    {
     "name": "stderr",
     "output_type": "stream",
     "text": [
      "\r",
      "295it [02:35,  1.88it/s]"
     ]
    },
    {
     "name": "stdout",
     "output_type": "stream",
     "text": [
      "sox WARN rate: rate clipped 18 samples; decrease volume?\r\n",
      "sox WARN dither: dither clipped 15 samples; decrease volume?\r\n"
     ]
    },
    {
     "name": "stderr",
     "output_type": "stream",
     "text": [
      "\r",
      "296it [02:36,  1.88it/s]"
     ]
    },
    {
     "name": "stdout",
     "output_type": "stream",
     "text": [
      "sox WARN rate: rate clipped 20 samples; decrease volume?\r\n",
      "sox WARN dither: dither clipped 17 samples; decrease volume?\r\n"
     ]
    },
    {
     "name": "stderr",
     "output_type": "stream",
     "text": [
      "\r",
      "297it [02:36,  1.88it/s]"
     ]
    },
    {
     "name": "stdout",
     "output_type": "stream",
     "text": [
      "sox WARN rate: rate clipped 17 samples; decrease volume?\r\n",
      "sox WARN dither: dither clipped 16 samples; decrease volume?\r\n"
     ]
    },
    {
     "name": "stderr",
     "output_type": "stream",
     "text": [
      "\r",
      "298it [02:37,  1.89it/s]"
     ]
    },
    {
     "name": "stdout",
     "output_type": "stream",
     "text": [
      "sox WARN rate: rate clipped 17 samples; decrease volume?\r\n",
      "sox WARN dither: dither clipped 13 samples; decrease volume?\r\n"
     ]
    },
    {
     "name": "stderr",
     "output_type": "stream",
     "text": [
      "\r",
      "299it [02:37,  1.90it/s]"
     ]
    },
    {
     "name": "stdout",
     "output_type": "stream",
     "text": [
      "sox WARN rate: rate clipped 17 samples; decrease volume?\r\n",
      "sox WARN dither: dither clipped 14 samples; decrease volume?\r\n"
     ]
    },
    {
     "name": "stderr",
     "output_type": "stream",
     "text": [
      "\r",
      "300it [02:38,  1.89it/s]"
     ]
    },
    {
     "name": "stdout",
     "output_type": "stream",
     "text": [
      "sox WARN rate: rate clipped 18 samples; decrease volume?\r\n",
      "sox WARN dither: dither clipped 16 samples; decrease volume?\r\n"
     ]
    },
    {
     "name": "stderr",
     "output_type": "stream",
     "text": [
      "\r",
      "301it [02:38,  1.88it/s]"
     ]
    },
    {
     "name": "stdout",
     "output_type": "stream",
     "text": [
      "sox WARN rate: rate clipped 17 samples; decrease volume?\r\n",
      "sox WARN dither: dither clipped 15 samples; decrease volume?\r\n"
     ]
    },
    {
     "name": "stderr",
     "output_type": "stream",
     "text": [
      "\r",
      "302it [02:39,  1.88it/s]"
     ]
    },
    {
     "name": "stdout",
     "output_type": "stream",
     "text": [
      "sox WARN rate: rate clipped 20 samples; decrease volume?\r\n",
      "sox WARN dither: dither clipped 16 samples; decrease volume?\r\n"
     ]
    },
    {
     "name": "stderr",
     "output_type": "stream",
     "text": [
      "\r",
      "303it [02:39,  1.95it/s]"
     ]
    },
    {
     "name": "stdout",
     "output_type": "stream",
     "text": [
      "sox WARN rate: rate clipped 17 samples; decrease volume?\r\n",
      "sox WARN dither: dither clipped 14 samples; decrease volume?\r\n"
     ]
    },
    {
     "name": "stderr",
     "output_type": "stream",
     "text": [
      "\r",
      "304it [02:40,  1.93it/s]"
     ]
    },
    {
     "name": "stdout",
     "output_type": "stream",
     "text": [
      "sox WARN rate: rate clipped 17 samples; decrease volume?\r\n",
      "sox WARN dither: dither clipped 14 samples; decrease volume?\r\n"
     ]
    },
    {
     "name": "stderr",
     "output_type": "stream",
     "text": [
      "\r",
      "305it [02:40,  1.91it/s]"
     ]
    },
    {
     "name": "stdout",
     "output_type": "stream",
     "text": [
      "sox WARN rate: rate clipped 17 samples; decrease volume?\r\n",
      "sox WARN dither: dither clipped 17 samples; decrease volume?\r\n"
     ]
    },
    {
     "name": "stderr",
     "output_type": "stream",
     "text": [
      "\r",
      "306it [02:41,  1.90it/s]"
     ]
    },
    {
     "name": "stdout",
     "output_type": "stream",
     "text": [
      "sox WARN rate: rate clipped 17 samples; decrease volume?\r\n",
      "sox WARN dither: dither clipped 15 samples; decrease volume?\r\n"
     ]
    },
    {
     "name": "stderr",
     "output_type": "stream",
     "text": [
      "\r",
      "307it [02:41,  1.89it/s]"
     ]
    },
    {
     "name": "stdout",
     "output_type": "stream",
     "text": [
      "sox WARN rate: rate clipped 77 samples; decrease volume?\r\n",
      "sox WARN dither: dither clipped 64 samples; decrease volume?\r\n"
     ]
    },
    {
     "name": "stderr",
     "output_type": "stream",
     "text": [
      "\r",
      "308it [02:42,  1.88it/s]"
     ]
    },
    {
     "name": "stdout",
     "output_type": "stream",
     "text": [
      "sox WARN rate: rate clipped 15 samples; decrease volume?\r\n",
      "sox WARN dither: dither clipped 10 samples; decrease volume?\r\n"
     ]
    },
    {
     "name": "stderr",
     "output_type": "stream",
     "text": [
      "\r",
      "309it [02:42,  1.88it/s]"
     ]
    },
    {
     "name": "stdout",
     "output_type": "stream",
     "text": [
      "sox WARN rate: rate clipped 18 samples; decrease volume?\r\n",
      "sox WARN dither: dither clipped 17 samples; decrease volume?\r\n"
     ]
    },
    {
     "name": "stderr",
     "output_type": "stream",
     "text": [
      "\r",
      "310it [02:43,  1.85it/s]"
     ]
    },
    {
     "name": "stdout",
     "output_type": "stream",
     "text": [
      "sox WARN rate: rate clipped 19 samples; decrease volume?\r\n",
      "sox WARN dither: dither clipped 18 samples; decrease volume?\r\n"
     ]
    },
    {
     "name": "stderr",
     "output_type": "stream",
     "text": [
      "\r",
      "311it [02:44,  1.85it/s]"
     ]
    },
    {
     "name": "stdout",
     "output_type": "stream",
     "text": [
      "sox WARN rate: rate clipped 17 samples; decrease volume?\r\n",
      "sox WARN dither: dither clipped 15 samples; decrease volume?\r\n"
     ]
    },
    {
     "name": "stderr",
     "output_type": "stream",
     "text": [
      "\r",
      "312it [02:44,  1.87it/s]"
     ]
    },
    {
     "name": "stdout",
     "output_type": "stream",
     "text": [
      "sox WARN rate: rate clipped 19 samples; decrease volume?\r\n",
      "sox WARN dither: dither clipped 15 samples; decrease volume?\r\n"
     ]
    },
    {
     "name": "stderr",
     "output_type": "stream",
     "text": [
      "\r",
      "313it [02:45,  1.86it/s]"
     ]
    },
    {
     "name": "stdout",
     "output_type": "stream",
     "text": [
      "sox WARN rate: rate clipped 17 samples; decrease volume?\r\n",
      "sox WARN dither: dither clipped 17 samples; decrease volume?\r\n"
     ]
    },
    {
     "name": "stderr",
     "output_type": "stream",
     "text": [
      "\r",
      "314it [02:45,  1.86it/s]"
     ]
    },
    {
     "name": "stdout",
     "output_type": "stream",
     "text": [
      "sox WARN rate: rate clipped 16 samples; decrease volume?\r\n",
      "sox WARN dither: dither clipped 11 samples; decrease volume?\r\n"
     ]
    },
    {
     "name": "stderr",
     "output_type": "stream",
     "text": [
      "\r",
      "315it [02:46,  1.87it/s]"
     ]
    },
    {
     "name": "stdout",
     "output_type": "stream",
     "text": [
      "sox WARN rate: rate clipped 16 samples; decrease volume?\r\n",
      "sox WARN dither: dither clipped 16 samples; decrease volume?\r\n"
     ]
    },
    {
     "name": "stderr",
     "output_type": "stream",
     "text": [
      "\r",
      "316it [02:46,  1.87it/s]"
     ]
    },
    {
     "name": "stdout",
     "output_type": "stream",
     "text": [
      "sox WARN rate: rate clipped 19 samples; decrease volume?\r\n",
      "sox WARN dither: dither clipped 18 samples; decrease volume?\r\n"
     ]
    },
    {
     "name": "stderr",
     "output_type": "stream",
     "text": [
      "\r",
      "317it [02:47,  1.88it/s]"
     ]
    },
    {
     "name": "stdout",
     "output_type": "stream",
     "text": [
      "sox WARN rate: rate clipped 18 samples; decrease volume?\r\n",
      "sox WARN dither: dither clipped 17 samples; decrease volume?\r\n"
     ]
    },
    {
     "name": "stderr",
     "output_type": "stream",
     "text": [
      "\r",
      "318it [02:47,  1.88it/s]"
     ]
    },
    {
     "name": "stdout",
     "output_type": "stream",
     "text": [
      "sox WARN rate: rate clipped 18 samples; decrease volume?\r\n",
      "sox WARN dither: dither clipped 19 samples; decrease volume?\r\n"
     ]
    },
    {
     "name": "stderr",
     "output_type": "stream",
     "text": [
      "\r",
      "319it [02:48,  1.89it/s]"
     ]
    },
    {
     "name": "stdout",
     "output_type": "stream",
     "text": [
      "sox WARN rate: rate clipped 18 samples; decrease volume?\r\n",
      "sox WARN dither: dither clipped 14 samples; decrease volume?\r\n"
     ]
    },
    {
     "name": "stderr",
     "output_type": "stream",
     "text": [
      "\r",
      "320it [02:48,  1.89it/s]"
     ]
    },
    {
     "name": "stdout",
     "output_type": "stream",
     "text": [
      "sox WARN rate: rate clipped 18 samples; decrease volume?\r\n",
      "sox WARN dither: dither clipped 15 samples; decrease volume?\r\n"
     ]
    },
    {
     "name": "stderr",
     "output_type": "stream",
     "text": [
      "\r",
      "321it [02:49,  1.88it/s]"
     ]
    },
    {
     "name": "stdout",
     "output_type": "stream",
     "text": [
      "sox WARN rate: rate clipped 17 samples; decrease volume?\r\n",
      "sox WARN dither: dither clipped 14 samples; decrease volume?\r\n"
     ]
    },
    {
     "name": "stderr",
     "output_type": "stream",
     "text": [
      "\r",
      "322it [02:49,  1.88it/s]"
     ]
    },
    {
     "name": "stdout",
     "output_type": "stream",
     "text": [
      "sox WARN rate: rate clipped 17 samples; decrease volume?\r\n",
      "sox WARN dither: dither clipped 17 samples; decrease volume?\r\n"
     ]
    },
    {
     "name": "stderr",
     "output_type": "stream",
     "text": [
      "\r",
      "323it [02:50,  1.88it/s]"
     ]
    },
    {
     "name": "stdout",
     "output_type": "stream",
     "text": [
      "sox WARN rate: rate clipped 17 samples; decrease volume?\r\n",
      "sox WARN dither: dither clipped 13 samples; decrease volume?\r\n"
     ]
    },
    {
     "name": "stderr",
     "output_type": "stream",
     "text": [
      "\r",
      "324it [02:50,  1.88it/s]"
     ]
    },
    {
     "name": "stdout",
     "output_type": "stream",
     "text": [
      "sox WARN rate: rate clipped 1 samples; decrease volume?\r\n",
      "sox WARN dither: dither clipped 1 samples; decrease volume?\r\n"
     ]
    },
    {
     "name": "stderr",
     "output_type": "stream",
     "text": [
      "\r",
      "325it [02:51,  1.55it/s]"
     ]
    },
    {
     "name": "stdout",
     "output_type": "stream",
     "text": [
      "sox WARN rate: rate clipped 15 samples; decrease volume?\r\n",
      "sox WARN dither: dither clipped 15 samples; decrease volume?\r\n"
     ]
    },
    {
     "name": "stderr",
     "output_type": "stream",
     "text": [
      "\r",
      "326it [02:52,  1.64it/s]"
     ]
    },
    {
     "name": "stdout",
     "output_type": "stream",
     "text": [
      "sox WARN rate: rate clipped 18 samples; decrease volume?\r\n",
      "sox WARN dither: dither clipped 16 samples; decrease volume?\r\n"
     ]
    },
    {
     "name": "stderr",
     "output_type": "stream",
     "text": [
      "\r",
      "327it [02:52,  1.71it/s]"
     ]
    },
    {
     "name": "stdout",
     "output_type": "stream",
     "text": [
      "sox WARN rate: rate clipped 18 samples; decrease volume?\r\n",
      "sox WARN dither: dither clipped 16 samples; decrease volume?\r\n"
     ]
    },
    {
     "name": "stderr",
     "output_type": "stream",
     "text": [
      "\r",
      "328it [02:53,  1.76it/s]"
     ]
    },
    {
     "name": "stdout",
     "output_type": "stream",
     "text": [
      "sox WARN rate: rate clipped 15 samples; decrease volume?\r\n",
      "sox WARN dither: dither clipped 12 samples; decrease volume?\r\n"
     ]
    },
    {
     "name": "stderr",
     "output_type": "stream",
     "text": [
      "\r",
      "329it [02:53,  1.80it/s]"
     ]
    },
    {
     "name": "stdout",
     "output_type": "stream",
     "text": [
      "sox WARN rate: rate clipped 18 samples; decrease volume?\r\n",
      "sox WARN dither: dither clipped 16 samples; decrease volume?\r\n"
     ]
    },
    {
     "name": "stderr",
     "output_type": "stream",
     "text": [
      "\r",
      "330it [02:54,  1.83it/s]"
     ]
    },
    {
     "name": "stdout",
     "output_type": "stream",
     "text": [
      "sox WARN rate: rate clipped 19 samples; decrease volume?\r\n",
      "sox WARN dither: dither clipped 19 samples; decrease volume?\r\n"
     ]
    },
    {
     "name": "stderr",
     "output_type": "stream",
     "text": [
      "\r",
      "331it [02:55,  1.84it/s]"
     ]
    },
    {
     "name": "stdout",
     "output_type": "stream",
     "text": [
      "sox WARN rate: rate clipped 18 samples; decrease volume?\r\n",
      "sox WARN dither: dither clipped 16 samples; decrease volume?\r\n"
     ]
    },
    {
     "name": "stderr",
     "output_type": "stream",
     "text": [
      "\r",
      "332it [02:55,  1.85it/s]"
     ]
    },
    {
     "name": "stdout",
     "output_type": "stream",
     "text": [
      "sox WARN rate: rate clipped 17 samples; decrease volume?\r\n",
      "sox WARN dither: dither clipped 13 samples; decrease volume?\r\n"
     ]
    },
    {
     "name": "stderr",
     "output_type": "stream",
     "text": [
      "\r",
      "333it [02:56,  1.87it/s]"
     ]
    },
    {
     "name": "stdout",
     "output_type": "stream",
     "text": [
      "sox WARN rate: rate clipped 19 samples; decrease volume?\r\n",
      "sox WARN dither: dither clipped 18 samples; decrease volume?\r\n"
     ]
    },
    {
     "name": "stderr",
     "output_type": "stream",
     "text": [
      "\r",
      "334it [02:56,  1.88it/s]"
     ]
    },
    {
     "name": "stdout",
     "output_type": "stream",
     "text": [
      "sox WARN rate: rate clipped 18 samples; decrease volume?\r\n",
      "sox WARN dither: dither clipped 15 samples; decrease volume?\r\n"
     ]
    },
    {
     "name": "stderr",
     "output_type": "stream",
     "text": [
      "\r",
      "335it [02:57,  1.88it/s]"
     ]
    },
    {
     "name": "stdout",
     "output_type": "stream",
     "text": [
      "sox WARN rate: rate clipped 17 samples; decrease volume?\r\n",
      "sox WARN dither: dither clipped 15 samples; decrease volume?\r\n"
     ]
    },
    {
     "name": "stderr",
     "output_type": "stream",
     "text": [
      "\r",
      "336it [02:57,  1.89it/s]"
     ]
    },
    {
     "name": "stdout",
     "output_type": "stream",
     "text": [
      "sox WARN rate: rate clipped 19 samples; decrease volume?\r\n",
      "sox WARN dither: dither clipped 16 samples; decrease volume?\r\n"
     ]
    },
    {
     "name": "stderr",
     "output_type": "stream",
     "text": [
      "\r",
      "337it [02:58,  1.88it/s]"
     ]
    },
    {
     "name": "stdout",
     "output_type": "stream",
     "text": [
      "sox WARN rate: rate clipped 18 samples; decrease volume?\r\n",
      "sox WARN dither: dither clipped 16 samples; decrease volume?\r\n"
     ]
    },
    {
     "name": "stderr",
     "output_type": "stream",
     "text": [
      "\r",
      "338it [02:58,  1.86it/s]"
     ]
    },
    {
     "name": "stdout",
     "output_type": "stream",
     "text": [
      "sox WARN rate: rate clipped 19 samples; decrease volume?\r\n",
      "sox WARN dither: dither clipped 17 samples; decrease volume?\r\n"
     ]
    },
    {
     "name": "stderr",
     "output_type": "stream",
     "text": [
      "\r",
      "339it [02:59,  1.87it/s]"
     ]
    },
    {
     "name": "stdout",
     "output_type": "stream",
     "text": [
      "sox WARN rate: rate clipped 20 samples; decrease volume?\r\n",
      "sox WARN dither: dither clipped 14 samples; decrease volume?\r\n"
     ]
    },
    {
     "name": "stderr",
     "output_type": "stream",
     "text": [
      "\r",
      "340it [02:59,  1.86it/s]"
     ]
    },
    {
     "name": "stdout",
     "output_type": "stream",
     "text": [
      "sox WARN rate: rate clipped 17 samples; decrease volume?\r\n",
      "sox WARN dither: dither clipped 13 samples; decrease volume?\r\n"
     ]
    },
    {
     "name": "stderr",
     "output_type": "stream",
     "text": [
      "\r",
      "341it [03:00,  1.87it/s]"
     ]
    },
    {
     "name": "stdout",
     "output_type": "stream",
     "text": [
      "sox WARN rate: rate clipped 18 samples; decrease volume?\r\n",
      "sox WARN dither: dither clipped 16 samples; decrease volume?\r\n"
     ]
    },
    {
     "name": "stderr",
     "output_type": "stream",
     "text": [
      "\r",
      "342it [03:00,  1.87it/s]"
     ]
    },
    {
     "name": "stdout",
     "output_type": "stream",
     "text": [
      "sox WARN rate: rate clipped 19 samples; decrease volume?\r\n",
      "sox WARN dither: dither clipped 16 samples; decrease volume?\r\n"
     ]
    },
    {
     "name": "stderr",
     "output_type": "stream",
     "text": [
      "\r",
      "343it [03:01,  1.87it/s]"
     ]
    },
    {
     "name": "stdout",
     "output_type": "stream",
     "text": [
      "sox WARN rate: rate clipped 267 samples; decrease volume?\r\n",
      "sox WARN dither: dither clipped 224 samples; decrease volume?\r\n"
     ]
    },
    {
     "name": "stderr",
     "output_type": "stream",
     "text": [
      "\r",
      "344it [03:01,  1.87it/s]"
     ]
    },
    {
     "name": "stdout",
     "output_type": "stream",
     "text": [
      "sox WARN rate: rate clipped 18 samples; decrease volume?\r\n",
      "sox WARN dither: dither clipped 17 samples; decrease volume?\r\n"
     ]
    },
    {
     "name": "stderr",
     "output_type": "stream",
     "text": [
      "\r",
      "345it [03:02,  1.82it/s]"
     ]
    },
    {
     "name": "stdout",
     "output_type": "stream",
     "text": [
      "sox WARN rate: rate clipped 18 samples; decrease volume?\r\n",
      "sox WARN dither: dither clipped 15 samples; decrease volume?\r\n"
     ]
    },
    {
     "name": "stderr",
     "output_type": "stream",
     "text": [
      "\r",
      "346it [03:03,  1.84it/s]"
     ]
    },
    {
     "name": "stdout",
     "output_type": "stream",
     "text": [
      "sox WARN rate: rate clipped 18 samples; decrease volume?\r\n",
      "sox WARN dither: dither clipped 17 samples; decrease volume?\r\n"
     ]
    },
    {
     "name": "stderr",
     "output_type": "stream",
     "text": [
      "\r",
      "347it [03:03,  1.85it/s]"
     ]
    },
    {
     "name": "stdout",
     "output_type": "stream",
     "text": [
      "sox WARN rate: rate clipped 18 samples; decrease volume?\r\n",
      "sox WARN dither: dither clipped 17 samples; decrease volume?\r\n"
     ]
    },
    {
     "name": "stderr",
     "output_type": "stream",
     "text": [
      "\r",
      "348it [03:04,  1.87it/s]"
     ]
    },
    {
     "name": "stdout",
     "output_type": "stream",
     "text": [
      "sox WARN rate: rate clipped 17 samples; decrease volume?\r\n",
      "sox WARN dither: dither clipped 14 samples; decrease volume?\r\n"
     ]
    },
    {
     "name": "stderr",
     "output_type": "stream",
     "text": [
      "\r",
      "349it [03:04,  1.88it/s]"
     ]
    },
    {
     "name": "stdout",
     "output_type": "stream",
     "text": [
      "sox WARN rate: rate clipped 18 samples; decrease volume?\r\n",
      "sox WARN dither: dither clipped 17 samples; decrease volume?\r\n"
     ]
    },
    {
     "name": "stderr",
     "output_type": "stream",
     "text": [
      "\r",
      "350it [03:05,  1.88it/s]"
     ]
    },
    {
     "name": "stdout",
     "output_type": "stream",
     "text": [
      "sox WARN rate: rate clipped 426 samples; decrease volume?\r\n",
      "sox WARN dither: dither clipped 370 samples; decrease volume?\r\n"
     ]
    },
    {
     "name": "stderr",
     "output_type": "stream",
     "text": [
      "\r",
      "351it [03:05,  1.88it/s]"
     ]
    },
    {
     "name": "stdout",
     "output_type": "stream",
     "text": [
      "sox WARN rate: rate clipped 17 samples; decrease volume?\r\n",
      "sox WARN dither: dither clipped 15 samples; decrease volume?\r\n"
     ]
    },
    {
     "name": "stderr",
     "output_type": "stream",
     "text": [
      "\r",
      "352it [03:06,  1.87it/s]"
     ]
    },
    {
     "name": "stdout",
     "output_type": "stream",
     "text": [
      "sox WARN rate: rate clipped 19 samples; decrease volume?\r\n",
      "sox WARN dither: dither clipped 17 samples; decrease volume?\r\n"
     ]
    },
    {
     "name": "stderr",
     "output_type": "stream",
     "text": [
      "\r",
      "353it [03:06,  1.87it/s]"
     ]
    },
    {
     "name": "stdout",
     "output_type": "stream",
     "text": [
      "sox WARN rate: rate clipped 28 samples; decrease volume?\r\n",
      "sox WARN dither: dither clipped 22 samples; decrease volume?\r\n"
     ]
    },
    {
     "name": "stderr",
     "output_type": "stream",
     "text": [
      "\r",
      "354it [03:07,  1.87it/s]"
     ]
    },
    {
     "name": "stdout",
     "output_type": "stream",
     "text": [
      "sox WARN rate: rate clipped 32 samples; decrease volume?\r\n",
      "sox WARN dither: dither clipped 30 samples; decrease volume?\r\n"
     ]
    },
    {
     "name": "stderr",
     "output_type": "stream",
     "text": [
      "\r",
      "355it [03:07,  1.93it/s]"
     ]
    },
    {
     "name": "stdout",
     "output_type": "stream",
     "text": [
      "sox WARN rate: rate clipped 18 samples; decrease volume?\r\n",
      "sox WARN dither: dither clipped 15 samples; decrease volume?\r\n"
     ]
    },
    {
     "name": "stderr",
     "output_type": "stream",
     "text": [
      "\r",
      "356it [03:08,  1.91it/s]"
     ]
    },
    {
     "name": "stdout",
     "output_type": "stream",
     "text": [
      "sox WARN rate: rate clipped 15 samples; decrease volume?\r\n",
      "sox WARN dither: dither clipped 12 samples; decrease volume?\r\n"
     ]
    },
    {
     "name": "stderr",
     "output_type": "stream",
     "text": [
      "\r",
      "357it [03:08,  1.91it/s]"
     ]
    },
    {
     "name": "stdout",
     "output_type": "stream",
     "text": [
      "sox WARN rate: rate clipped 17 samples; decrease volume?\r\n",
      "sox WARN dither: dither clipped 15 samples; decrease volume?\r\n"
     ]
    },
    {
     "name": "stderr",
     "output_type": "stream",
     "text": [
      "\r",
      "358it [03:09,  1.91it/s]"
     ]
    },
    {
     "name": "stdout",
     "output_type": "stream",
     "text": [
      "sox WARN rate: rate clipped 17 samples; decrease volume?\r\n",
      "sox WARN dither: dither clipped 16 samples; decrease volume?\r\n"
     ]
    },
    {
     "name": "stderr",
     "output_type": "stream",
     "text": [
      "\r",
      "359it [03:09,  1.89it/s]"
     ]
    },
    {
     "name": "stdout",
     "output_type": "stream",
     "text": [
      "sox WARN rate: rate clipped 18 samples; decrease volume?\r\n",
      "sox WARN dither: dither clipped 15 samples; decrease volume?\r\n"
     ]
    },
    {
     "name": "stderr",
     "output_type": "stream",
     "text": [
      "\r",
      "360it [03:10,  1.89it/s]"
     ]
    },
    {
     "name": "stdout",
     "output_type": "stream",
     "text": [
      "sox WARN rate: rate clipped 190 samples; decrease volume?\r\n",
      "sox WARN dither: dither clipped 155 samples; decrease volume?\r\n"
     ]
    },
    {
     "name": "stderr",
     "output_type": "stream",
     "text": [
      "\r",
      "361it [03:10,  1.90it/s]"
     ]
    },
    {
     "name": "stdout",
     "output_type": "stream",
     "text": [
      "sox WARN rate: rate clipped 20 samples; decrease volume?\r\n",
      "sox WARN dither: dither clipped 17 samples; decrease volume?\r\n"
     ]
    },
    {
     "name": "stderr",
     "output_type": "stream",
     "text": [
      "\r",
      "362it [03:11,  1.89it/s]"
     ]
    },
    {
     "name": "stdout",
     "output_type": "stream",
     "text": [
      "sox WARN rate: rate clipped 18 samples; decrease volume?\r\n",
      "sox WARN dither: dither clipped 14 samples; decrease volume?\r\n"
     ]
    },
    {
     "name": "stderr",
     "output_type": "stream",
     "text": [
      "\r",
      "363it [03:12,  1.89it/s]"
     ]
    },
    {
     "name": "stdout",
     "output_type": "stream",
     "text": [
      "sox WARN rate: rate clipped 17 samples; decrease volume?\r\n",
      "sox WARN dither: dither clipped 16 samples; decrease volume?\r\n"
     ]
    },
    {
     "name": "stderr",
     "output_type": "stream",
     "text": [
      "\r",
      "364it [03:12,  1.88it/s]"
     ]
    },
    {
     "name": "stdout",
     "output_type": "stream",
     "text": [
      "sox WARN rate: rate clipped 19 samples; decrease volume?\r\n",
      "sox WARN dither: dither clipped 18 samples; decrease volume?\r\n"
     ]
    },
    {
     "name": "stderr",
     "output_type": "stream",
     "text": [
      "\r",
      "365it [03:13,  1.89it/s]"
     ]
    },
    {
     "name": "stdout",
     "output_type": "stream",
     "text": [
      "sox WARN rate: rate clipped 19 samples; decrease volume?\r\n",
      "sox WARN dither: dither clipped 17 samples; decrease volume?\r\n"
     ]
    },
    {
     "name": "stderr",
     "output_type": "stream",
     "text": [
      "\r",
      "366it [03:13,  1.89it/s]"
     ]
    },
    {
     "name": "stdout",
     "output_type": "stream",
     "text": [
      "sox WARN rate: rate clipped 19 samples; decrease volume?\r\n",
      "sox WARN dither: dither clipped 16 samples; decrease volume?\r\n"
     ]
    },
    {
     "name": "stderr",
     "output_type": "stream",
     "text": [
      "\r",
      "367it [03:14,  1.88it/s]"
     ]
    },
    {
     "name": "stdout",
     "output_type": "stream",
     "text": [
      "sox WARN rate: rate clipped 18 samples; decrease volume?\r\n",
      "sox WARN dither: dither clipped 16 samples; decrease volume?\r\n"
     ]
    },
    {
     "name": "stderr",
     "output_type": "stream",
     "text": [
      "\r",
      "368it [03:14,  1.89it/s]"
     ]
    },
    {
     "name": "stdout",
     "output_type": "stream",
     "text": [
      "sox WARN rate: rate clipped 19 samples; decrease volume?\r\n",
      "sox WARN dither: dither clipped 13 samples; decrease volume?\r\n"
     ]
    },
    {
     "name": "stderr",
     "output_type": "stream",
     "text": [
      "\r",
      "369it [03:15,  1.89it/s]"
     ]
    },
    {
     "name": "stdout",
     "output_type": "stream",
     "text": [
      "sox WARN rate: rate clipped 16 samples; decrease volume?\r\n",
      "sox WARN dither: dither clipped 15 samples; decrease volume?\r\n"
     ]
    },
    {
     "name": "stderr",
     "output_type": "stream",
     "text": [
      "\r",
      "370it [03:15,  1.90it/s]"
     ]
    },
    {
     "name": "stdout",
     "output_type": "stream",
     "text": [
      "sox WARN rate: rate clipped 18 samples; decrease volume?\r\n",
      "sox WARN dither: dither clipped 18 samples; decrease volume?\r\n"
     ]
    },
    {
     "name": "stderr",
     "output_type": "stream",
     "text": [
      "\r",
      "371it [03:16,  1.89it/s]"
     ]
    },
    {
     "name": "stdout",
     "output_type": "stream",
     "text": [
      "sox WARN rate: rate clipped 15 samples; decrease volume?\r\n",
      "sox WARN dither: dither clipped 12 samples; decrease volume?\r\n"
     ]
    },
    {
     "name": "stderr",
     "output_type": "stream",
     "text": [
      "\r",
      "372it [03:16,  1.88it/s]"
     ]
    },
    {
     "name": "stdout",
     "output_type": "stream",
     "text": [
      "sox WARN rate: rate clipped 17 samples; decrease volume?\r\n",
      "sox WARN dither: dither clipped 16 samples; decrease volume?\r\n"
     ]
    },
    {
     "name": "stderr",
     "output_type": "stream",
     "text": [
      "\r",
      "373it [03:17,  1.89it/s]"
     ]
    },
    {
     "name": "stdout",
     "output_type": "stream",
     "text": [
      "sox WARN rate: rate clipped 59 samples; decrease volume?\r\n",
      "sox WARN dither: dither clipped 51 samples; decrease volume?\r\n"
     ]
    },
    {
     "name": "stderr",
     "output_type": "stream",
     "text": [
      "\r",
      "374it [03:17,  1.89it/s]"
     ]
    },
    {
     "name": "stdout",
     "output_type": "stream",
     "text": [
      "sox WARN rate: rate clipped 18 samples; decrease volume?\r\n",
      "sox WARN dither: dither clipped 13 samples; decrease volume?\r\n"
     ]
    },
    {
     "name": "stderr",
     "output_type": "stream",
     "text": [
      "\r",
      "375it [03:18,  1.88it/s]"
     ]
    },
    {
     "name": "stdout",
     "output_type": "stream",
     "text": [
      "sox WARN rate: rate clipped 17 samples; decrease volume?\r\n",
      "sox WARN dither: dither clipped 16 samples; decrease volume?\r\n"
     ]
    },
    {
     "name": "stderr",
     "output_type": "stream",
     "text": [
      "\r",
      "376it [03:18,  1.88it/s]"
     ]
    },
    {
     "name": "stdout",
     "output_type": "stream",
     "text": [
      "sox WARN rate: rate clipped 17 samples; decrease volume?\r\n",
      "sox WARN dither: dither clipped 16 samples; decrease volume?\r\n"
     ]
    },
    {
     "name": "stderr",
     "output_type": "stream",
     "text": [
      "\r",
      "377it [03:19,  1.87it/s]"
     ]
    },
    {
     "name": "stdout",
     "output_type": "stream",
     "text": [
      "sox WARN rate: rate clipped 18 samples; decrease volume?\r\n",
      "sox WARN dither: dither clipped 15 samples; decrease volume?\r\n"
     ]
    },
    {
     "name": "stderr",
     "output_type": "stream",
     "text": [
      "\r",
      "378it [03:20,  1.88it/s]"
     ]
    },
    {
     "name": "stdout",
     "output_type": "stream",
     "text": [
      "sox WARN rate: rate clipped 18 samples; decrease volume?\r\n",
      "sox WARN dither: dither clipped 17 samples; decrease volume?\r\n"
     ]
    },
    {
     "name": "stderr",
     "output_type": "stream",
     "text": [
      "\r",
      "379it [03:20,  1.88it/s]"
     ]
    },
    {
     "name": "stdout",
     "output_type": "stream",
     "text": [
      "sox WARN rate: rate clipped 17 samples; decrease volume?\r\n",
      "sox WARN dither: dither clipped 12 samples; decrease volume?\r\n"
     ]
    },
    {
     "name": "stderr",
     "output_type": "stream",
     "text": [
      "\r",
      "380it [03:21,  1.88it/s]"
     ]
    },
    {
     "name": "stdout",
     "output_type": "stream",
     "text": [
      "sox WARN rate: rate clipped 17 samples; decrease volume?\r\n",
      "sox WARN dither: dither clipped 15 samples; decrease volume?\r\n"
     ]
    },
    {
     "name": "stderr",
     "output_type": "stream",
     "text": [
      "\r",
      "381it [03:21,  1.88it/s]"
     ]
    },
    {
     "name": "stdout",
     "output_type": "stream",
     "text": [
      "sox WARN rate: rate clipped 18 samples; decrease volume?\r\n",
      "sox WARN dither: dither clipped 16 samples; decrease volume?\r\n"
     ]
    },
    {
     "name": "stderr",
     "output_type": "stream",
     "text": [
      "\r",
      "382it [03:22,  1.88it/s]"
     ]
    },
    {
     "name": "stdout",
     "output_type": "stream",
     "text": [
      "sox WARN rate: rate clipped 20 samples; decrease volume?\r\n",
      "sox WARN dither: dither clipped 16 samples; decrease volume?\r\n"
     ]
    },
    {
     "name": "stderr",
     "output_type": "stream",
     "text": [
      "\r",
      "383it [03:22,  1.89it/s]"
     ]
    },
    {
     "name": "stdout",
     "output_type": "stream",
     "text": [
      "sox WARN rate: rate clipped 18 samples; decrease volume?\r\n",
      "sox WARN dither: dither clipped 16 samples; decrease volume?\r\n"
     ]
    },
    {
     "name": "stderr",
     "output_type": "stream",
     "text": [
      "\r",
      "384it [03:23,  1.89it/s]"
     ]
    },
    {
     "name": "stdout",
     "output_type": "stream",
     "text": [
      "sox WARN rate: rate clipped 17 samples; decrease volume?\r\n",
      "sox WARN dither: dither clipped 15 samples; decrease volume?\r\n"
     ]
    },
    {
     "name": "stderr",
     "output_type": "stream",
     "text": [
      "\r",
      "385it [03:23,  1.89it/s]"
     ]
    },
    {
     "name": "stdout",
     "output_type": "stream",
     "text": [
      "sox WARN rate: rate clipped 17 samples; decrease volume?\r\n",
      "sox WARN dither: dither clipped 15 samples; decrease volume?\r\n"
     ]
    },
    {
     "name": "stderr",
     "output_type": "stream",
     "text": [
      "\r",
      "386it [03:24,  1.88it/s]"
     ]
    },
    {
     "name": "stdout",
     "output_type": "stream",
     "text": [
      "sox WARN rate: rate clipped 17 samples; decrease volume?\r\n",
      "sox WARN dither: dither clipped 14 samples; decrease volume?\r\n"
     ]
    },
    {
     "name": "stderr",
     "output_type": "stream",
     "text": [
      "\r",
      "387it [03:24,  1.88it/s]"
     ]
    },
    {
     "name": "stdout",
     "output_type": "stream",
     "text": [
      "sox WARN rate: rate clipped 17 samples; decrease volume?\r\n",
      "sox WARN dither: dither clipped 17 samples; decrease volume?\r\n"
     ]
    },
    {
     "name": "stderr",
     "output_type": "stream",
     "text": [
      "\r",
      "388it [03:25,  1.88it/s]"
     ]
    },
    {
     "name": "stdout",
     "output_type": "stream",
     "text": [
      "sox WARN rate: rate clipped 18 samples; decrease volume?\r\n",
      "sox WARN dither: dither clipped 16 samples; decrease volume?\r\n"
     ]
    },
    {
     "name": "stderr",
     "output_type": "stream",
     "text": [
      "\r",
      "389it [03:25,  1.88it/s]"
     ]
    },
    {
     "name": "stdout",
     "output_type": "stream",
     "text": [
      "sox WARN rate: rate clipped 17 samples; decrease volume?\r\n",
      "sox WARN dither: dither clipped 14 samples; decrease volume?\r\n"
     ]
    },
    {
     "name": "stderr",
     "output_type": "stream",
     "text": [
      "\r",
      "390it [03:26,  1.87it/s]"
     ]
    },
    {
     "name": "stdout",
     "output_type": "stream",
     "text": [
      "sox WARN rate: rate clipped 19 samples; decrease volume?\r\n",
      "sox WARN dither: dither clipped 19 samples; decrease volume?\r\n"
     ]
    },
    {
     "name": "stderr",
     "output_type": "stream",
     "text": [
      "\r",
      "391it [03:26,  1.87it/s]"
     ]
    },
    {
     "name": "stdout",
     "output_type": "stream",
     "text": [
      "sox WARN rate: rate clipped 20 samples; decrease volume?\r\n",
      "sox WARN dither: dither clipped 18 samples; decrease volume?\r\n"
     ]
    },
    {
     "name": "stderr",
     "output_type": "stream",
     "text": [
      "\r",
      "392it [03:27,  1.87it/s]"
     ]
    },
    {
     "name": "stdout",
     "output_type": "stream",
     "text": [
      "sox WARN rate: rate clipped 19 samples; decrease volume?\r\n",
      "sox WARN dither: dither clipped 16 samples; decrease volume?\r\n"
     ]
    },
    {
     "name": "stderr",
     "output_type": "stream",
     "text": [
      "\r",
      "393it [03:27,  1.88it/s]"
     ]
    },
    {
     "name": "stdout",
     "output_type": "stream",
     "text": [
      "sox WARN rate: rate clipped 18 samples; decrease volume?\r\n",
      "sox WARN dither: dither clipped 15 samples; decrease volume?\r\n"
     ]
    },
    {
     "name": "stderr",
     "output_type": "stream",
     "text": [
      "\r",
      "394it [03:28,  1.87it/s]"
     ]
    },
    {
     "name": "stdout",
     "output_type": "stream",
     "text": [
      "sox WARN rate: rate clipped 20 samples; decrease volume?\r\n",
      "sox WARN dither: dither clipped 18 samples; decrease volume?\r\n"
     ]
    },
    {
     "name": "stderr",
     "output_type": "stream",
     "text": [
      "\r",
      "395it [03:29,  1.86it/s]"
     ]
    },
    {
     "name": "stdout",
     "output_type": "stream",
     "text": [
      "sox WARN rate: rate clipped 32 samples; decrease volume?\r\n",
      "sox WARN dither: dither clipped 26 samples; decrease volume?\r\n"
     ]
    },
    {
     "name": "stderr",
     "output_type": "stream",
     "text": [
      "\r",
      "396it [03:29,  1.87it/s]"
     ]
    },
    {
     "name": "stdout",
     "output_type": "stream",
     "text": [
      "sox WARN rate: rate clipped 19 samples; decrease volume?\r\n",
      "sox WARN dither: dither clipped 18 samples; decrease volume?\r\n"
     ]
    },
    {
     "name": "stderr",
     "output_type": "stream",
     "text": [
      "\r",
      "397it [03:30,  1.86it/s]"
     ]
    },
    {
     "name": "stdout",
     "output_type": "stream",
     "text": [
      "sox WARN rate: rate clipped 16 samples; decrease volume?\r\n",
      "sox WARN dither: dither clipped 13 samples; decrease volume?\r\n"
     ]
    },
    {
     "name": "stderr",
     "output_type": "stream",
     "text": [
      "\r",
      "398it [03:30,  1.87it/s]"
     ]
    },
    {
     "name": "stdout",
     "output_type": "stream",
     "text": [
      "sox WARN rate: rate clipped 16 samples; decrease volume?\r\n",
      "sox WARN dither: dither clipped 14 samples; decrease volume?\r\n"
     ]
    },
    {
     "name": "stderr",
     "output_type": "stream",
     "text": [
      "\r",
      "399it [03:31,  1.86it/s]"
     ]
    },
    {
     "name": "stdout",
     "output_type": "stream",
     "text": [
      "sox WARN rate: rate clipped 56 samples; decrease volume?\r\n",
      "sox WARN dither: dither clipped 48 samples; decrease volume?\r\n"
     ]
    },
    {
     "name": "stderr",
     "output_type": "stream",
     "text": [
      "\r",
      "400it [03:31,  1.85it/s]"
     ]
    },
    {
     "name": "stdout",
     "output_type": "stream",
     "text": [
      "sox WARN rate: rate clipped 14 samples; decrease volume?\r\n",
      "sox WARN dither: dither clipped 12 samples; decrease volume?\r\n"
     ]
    },
    {
     "name": "stderr",
     "output_type": "stream",
     "text": [
      "\r",
      "401it [03:32,  1.86it/s]"
     ]
    },
    {
     "name": "stdout",
     "output_type": "stream",
     "text": [
      "sox WARN rate: rate clipped 18 samples; decrease volume?\r\n",
      "sox WARN dither: dither clipped 15 samples; decrease volume?\r\n"
     ]
    },
    {
     "name": "stderr",
     "output_type": "stream",
     "text": [
      "\r",
      "402it [03:32,  1.86it/s]"
     ]
    },
    {
     "name": "stdout",
     "output_type": "stream",
     "text": [
      "sox WARN rate: rate clipped 18 samples; decrease volume?\r\n",
      "sox WARN dither: dither clipped 17 samples; decrease volume?\r\n"
     ]
    },
    {
     "name": "stderr",
     "output_type": "stream",
     "text": [
      "\r",
      "403it [03:33,  1.87it/s]"
     ]
    },
    {
     "name": "stdout",
     "output_type": "stream",
     "text": [
      "sox WARN rate: rate clipped 15 samples; decrease volume?\r\n",
      "sox WARN dither: dither clipped 13 samples; decrease volume?\r\n"
     ]
    },
    {
     "name": "stderr",
     "output_type": "stream",
     "text": [
      "\r",
      "404it [03:33,  1.88it/s]"
     ]
    },
    {
     "name": "stdout",
     "output_type": "stream",
     "text": [
      "sox WARN rate: rate clipped 21 samples; decrease volume?\r\n",
      "sox WARN dither: dither clipped 21 samples; decrease volume?\r\n"
     ]
    },
    {
     "name": "stderr",
     "output_type": "stream",
     "text": [
      "\r",
      "405it [03:34,  1.95it/s]"
     ]
    },
    {
     "name": "stdout",
     "output_type": "stream",
     "text": [
      "sox WARN rate: rate clipped 17 samples; decrease volume?\r\n",
      "sox WARN dither: dither clipped 14 samples; decrease volume?\r\n"
     ]
    },
    {
     "name": "stderr",
     "output_type": "stream",
     "text": [
      "\r",
      "406it [03:34,  1.92it/s]"
     ]
    },
    {
     "name": "stdout",
     "output_type": "stream",
     "text": [
      "sox WARN rate: rate clipped 18 samples; decrease volume?\r\n",
      "sox WARN dither: dither clipped 17 samples; decrease volume?\r\n"
     ]
    },
    {
     "name": "stderr",
     "output_type": "stream",
     "text": [
      "\r",
      "407it [03:35,  1.90it/s]"
     ]
    },
    {
     "name": "stdout",
     "output_type": "stream",
     "text": [
      "sox WARN rate: rate clipped 20 samples; decrease volume?\r\n",
      "sox WARN dither: dither clipped 16 samples; decrease volume?\r\n"
     ]
    },
    {
     "name": "stderr",
     "output_type": "stream",
     "text": [
      "\r",
      "408it [03:35,  1.90it/s]"
     ]
    },
    {
     "name": "stdout",
     "output_type": "stream",
     "text": [
      "sox WARN rate: rate clipped 21 samples; decrease volume?\r\n",
      "sox WARN dither: dither clipped 20 samples; decrease volume?\r\n"
     ]
    },
    {
     "name": "stderr",
     "output_type": "stream",
     "text": [
      "\r",
      "409it [03:36,  1.98it/s]"
     ]
    },
    {
     "name": "stdout",
     "output_type": "stream",
     "text": [
      "sox WARN rate: rate clipped 34 samples; decrease volume?\r\n",
      "sox WARN dither: dither clipped 31 samples; decrease volume?\r\n"
     ]
    },
    {
     "name": "stderr",
     "output_type": "stream",
     "text": [
      "\r",
      "410it [03:36,  1.95it/s]"
     ]
    },
    {
     "name": "stdout",
     "output_type": "stream",
     "text": [
      "sox WARN rate: rate clipped 18 samples; decrease volume?\r\n",
      "sox WARN dither: dither clipped 16 samples; decrease volume?\r\n"
     ]
    },
    {
     "name": "stderr",
     "output_type": "stream",
     "text": [
      "\r",
      "411it [03:37,  1.93it/s]"
     ]
    },
    {
     "name": "stdout",
     "output_type": "stream",
     "text": [
      "sox WARN rate: rate clipped 17 samples; decrease volume?\r\n",
      "sox WARN dither: dither clipped 14 samples; decrease volume?\r\n"
     ]
    },
    {
     "name": "stderr",
     "output_type": "stream",
     "text": [
      "\r",
      "412it [03:38,  1.91it/s]"
     ]
    },
    {
     "name": "stdout",
     "output_type": "stream",
     "text": [
      "sox WARN rate: rate clipped 17 samples; decrease volume?\r\n",
      "sox WARN dither: dither clipped 14 samples; decrease volume?\r\n"
     ]
    },
    {
     "name": "stderr",
     "output_type": "stream",
     "text": [
      "\r",
      "413it [03:38,  1.91it/s]"
     ]
    },
    {
     "name": "stdout",
     "output_type": "stream",
     "text": [
      "sox WARN rate: rate clipped 34 samples; decrease volume?\r\n",
      "sox WARN dither: dither clipped 31 samples; decrease volume?\r\n"
     ]
    },
    {
     "name": "stderr",
     "output_type": "stream",
     "text": [
      "\r",
      "414it [03:39,  1.96it/s]"
     ]
    },
    {
     "name": "stdout",
     "output_type": "stream",
     "text": [
      "sox WARN rate: rate clipped 15 samples; decrease volume?\r\n",
      "sox WARN dither: dither clipped 14 samples; decrease volume?\r\n"
     ]
    },
    {
     "name": "stderr",
     "output_type": "stream",
     "text": [
      "\r",
      "415it [03:39,  1.94it/s]"
     ]
    },
    {
     "name": "stdout",
     "output_type": "stream",
     "text": [
      "sox WARN rate: rate clipped 19 samples; decrease volume?\r\n",
      "sox WARN dither: dither clipped 17 samples; decrease volume?\r\n"
     ]
    },
    {
     "name": "stderr",
     "output_type": "stream",
     "text": [
      "\r",
      "416it [03:40,  1.92it/s]"
     ]
    },
    {
     "name": "stdout",
     "output_type": "stream",
     "text": [
      "sox WARN rate: rate clipped 21 samples; decrease volume?\r\n",
      "sox WARN dither: dither clipped 17 samples; decrease volume?\r\n"
     ]
    },
    {
     "name": "stderr",
     "output_type": "stream",
     "text": [
      "\r",
      "417it [03:40,  1.89it/s]"
     ]
    },
    {
     "name": "stdout",
     "output_type": "stream",
     "text": [
      "sox WARN rate: rate clipped 18 samples; decrease volume?\r\n",
      "sox WARN dither: dither clipped 17 samples; decrease volume?\r\n"
     ]
    },
    {
     "name": "stderr",
     "output_type": "stream",
     "text": [
      "\r",
      "418it [03:41,  1.88it/s]"
     ]
    },
    {
     "name": "stdout",
     "output_type": "stream",
     "text": [
      "sox WARN rate: rate clipped 18 samples; decrease volume?\r\n",
      "sox WARN dither: dither clipped 15 samples; decrease volume?\r\n"
     ]
    },
    {
     "name": "stderr",
     "output_type": "stream",
     "text": [
      "\r",
      "419it [03:41,  1.87it/s]"
     ]
    },
    {
     "name": "stdout",
     "output_type": "stream",
     "text": [
      "sox WARN rate: rate clipped 17 samples; decrease volume?\r\n",
      "sox WARN dither: dither clipped 16 samples; decrease volume?\r\n"
     ]
    },
    {
     "name": "stderr",
     "output_type": "stream",
     "text": [
      "\r",
      "420it [03:42,  1.87it/s]"
     ]
    },
    {
     "name": "stdout",
     "output_type": "stream",
     "text": [
      "sox WARN rate: rate clipped 24 samples; decrease volume?\r\n",
      "sox WARN dither: dither clipped 21 samples; decrease volume?\r\n"
     ]
    },
    {
     "name": "stderr",
     "output_type": "stream",
     "text": [
      "\r",
      "421it [03:42,  1.87it/s]"
     ]
    },
    {
     "name": "stdout",
     "output_type": "stream",
     "text": [
      "sox WARN rate: rate clipped 20 samples; decrease volume?\r\n",
      "sox WARN dither: dither clipped 19 samples; decrease volume?\r\n"
     ]
    },
    {
     "name": "stderr",
     "output_type": "stream",
     "text": [
      "\r",
      "422it [03:43,  1.87it/s]"
     ]
    },
    {
     "name": "stdout",
     "output_type": "stream",
     "text": [
      "sox WARN rate: rate clipped 18 samples; decrease volume?\r\n",
      "sox WARN dither: dither clipped 18 samples; decrease volume?\r\n"
     ]
    },
    {
     "name": "stderr",
     "output_type": "stream",
     "text": [
      "\r",
      "423it [03:43,  1.85it/s]"
     ]
    },
    {
     "name": "stdout",
     "output_type": "stream",
     "text": [
      "sox WARN rate: rate clipped 19 samples; decrease volume?\r\n",
      "sox WARN dither: dither clipped 19 samples; decrease volume?\r\n"
     ]
    },
    {
     "name": "stderr",
     "output_type": "stream",
     "text": [
      "\r",
      "424it [03:44,  1.85it/s]"
     ]
    },
    {
     "name": "stdout",
     "output_type": "stream",
     "text": [
      "sox WARN rate: rate clipped 47 samples; decrease volume?\r\n",
      "sox WARN dither: dither clipped 46 samples; decrease volume?\r\n"
     ]
    },
    {
     "name": "stderr",
     "output_type": "stream",
     "text": [
      "\r",
      "425it [03:44,  1.87it/s]"
     ]
    },
    {
     "name": "stdout",
     "output_type": "stream",
     "text": [
      "sox WARN rate: rate clipped 18 samples; decrease volume?\r\n",
      "sox WARN dither: dither clipped 16 samples; decrease volume?\r\n"
     ]
    },
    {
     "name": "stderr",
     "output_type": "stream",
     "text": [
      "\r",
      "426it [03:45,  1.87it/s]"
     ]
    },
    {
     "name": "stdout",
     "output_type": "stream",
     "text": [
      "sox WARN rate: rate clipped 19 samples; decrease volume?\r\n",
      "sox WARN dither: dither clipped 18 samples; decrease volume?\r\n"
     ]
    },
    {
     "name": "stderr",
     "output_type": "stream",
     "text": [
      "\r",
      "427it [03:45,  1.87it/s]"
     ]
    },
    {
     "name": "stdout",
     "output_type": "stream",
     "text": [
      "sox WARN rate: rate clipped 18 samples; decrease volume?\r\n",
      "sox WARN dither: dither clipped 17 samples; decrease volume?\r\n"
     ]
    },
    {
     "name": "stderr",
     "output_type": "stream",
     "text": [
      "\r",
      "428it [03:46,  1.88it/s]"
     ]
    },
    {
     "name": "stdout",
     "output_type": "stream",
     "text": [
      "sox WARN rate: rate clipped 18 samples; decrease volume?\r\n",
      "sox WARN dither: dither clipped 15 samples; decrease volume?\r\n"
     ]
    },
    {
     "name": "stderr",
     "output_type": "stream",
     "text": [
      "\r",
      "429it [03:47,  1.88it/s]"
     ]
    },
    {
     "name": "stdout",
     "output_type": "stream",
     "text": [
      "sox WARN rate: rate clipped 16 samples; decrease volume?\r\n",
      "sox WARN dither: dither clipped 15 samples; decrease volume?\r\n"
     ]
    },
    {
     "name": "stderr",
     "output_type": "stream",
     "text": [
      "\r",
      "430it [03:47,  1.88it/s]"
     ]
    },
    {
     "name": "stdout",
     "output_type": "stream",
     "text": [
      "sox WARN rate: rate clipped 38 samples; decrease volume?\r\n",
      "sox WARN dither: dither clipped 30 samples; decrease volume?\r\n"
     ]
    },
    {
     "name": "stderr",
     "output_type": "stream",
     "text": [
      "\r",
      "431it [03:48,  1.87it/s]"
     ]
    },
    {
     "name": "stdout",
     "output_type": "stream",
     "text": [
      "sox WARN rate: rate clipped 19 samples; decrease volume?\r\n",
      "sox WARN dither: dither clipped 18 samples; decrease volume?\r\n"
     ]
    },
    {
     "name": "stderr",
     "output_type": "stream",
     "text": [
      "\r",
      "432it [03:48,  1.88it/s]"
     ]
    },
    {
     "name": "stdout",
     "output_type": "stream",
     "text": [
      "sox WARN rate: rate clipped 19 samples; decrease volume?\r\n",
      "sox WARN dither: dither clipped 14 samples; decrease volume?\r\n"
     ]
    },
    {
     "name": "stderr",
     "output_type": "stream",
     "text": [
      "\r",
      "433it [03:49,  1.87it/s]"
     ]
    },
    {
     "name": "stdout",
     "output_type": "stream",
     "text": [
      "sox WARN rate: rate clipped 18 samples; decrease volume?\r\n",
      "sox WARN dither: dither clipped 17 samples; decrease volume?\r\n"
     ]
    },
    {
     "name": "stderr",
     "output_type": "stream",
     "text": [
      "\r",
      "434it [03:49,  1.87it/s]"
     ]
    },
    {
     "name": "stdout",
     "output_type": "stream",
     "text": [
      "sox WARN rate: rate clipped 17 samples; decrease volume?\r\n",
      "sox WARN dither: dither clipped 16 samples; decrease volume?\r\n"
     ]
    },
    {
     "name": "stderr",
     "output_type": "stream",
     "text": [
      "\r",
      "435it [03:50,  1.88it/s]"
     ]
    },
    {
     "name": "stdout",
     "output_type": "stream",
     "text": [
      "sox WARN rate: rate clipped 17 samples; decrease volume?\r\n",
      "sox WARN dither: dither clipped 15 samples; decrease volume?\r\n"
     ]
    },
    {
     "name": "stderr",
     "output_type": "stream",
     "text": [
      "\r",
      "436it [03:50,  1.88it/s]"
     ]
    },
    {
     "name": "stdout",
     "output_type": "stream",
     "text": [
      "sox WARN rate: rate clipped 24 samples; decrease volume?\r\n",
      "sox WARN dither: dither clipped 21 samples; decrease volume?\r\n"
     ]
    },
    {
     "name": "stderr",
     "output_type": "stream",
     "text": [
      "\r",
      "437it [03:51,  1.88it/s]"
     ]
    },
    {
     "name": "stdout",
     "output_type": "stream",
     "text": [
      "sox WARN rate: rate clipped 18 samples; decrease volume?\r\n",
      "sox WARN dither: dither clipped 16 samples; decrease volume?\r\n"
     ]
    },
    {
     "name": "stderr",
     "output_type": "stream",
     "text": [
      "\r",
      "438it [03:51,  1.87it/s]"
     ]
    },
    {
     "name": "stdout",
     "output_type": "stream",
     "text": [
      "sox WARN rate: rate clipped 18 samples; decrease volume?\r\n",
      "sox WARN dither: dither clipped 16 samples; decrease volume?\r\n"
     ]
    },
    {
     "name": "stderr",
     "output_type": "stream",
     "text": [
      "\r",
      "439it [03:52,  1.87it/s]"
     ]
    },
    {
     "name": "stdout",
     "output_type": "stream",
     "text": [
      "sox WARN rate: rate clipped 17 samples; decrease volume?\r\n",
      "sox WARN dither: dither clipped 17 samples; decrease volume?\r\n"
     ]
    },
    {
     "name": "stderr",
     "output_type": "stream",
     "text": [
      "\r",
      "440it [03:52,  1.87it/s]"
     ]
    },
    {
     "name": "stdout",
     "output_type": "stream",
     "text": [
      "sox WARN rate: rate clipped 18 samples; decrease volume?\r\n",
      "sox WARN dither: dither clipped 18 samples; decrease volume?\r\n"
     ]
    },
    {
     "name": "stderr",
     "output_type": "stream",
     "text": [
      "\r",
      "441it [03:53,  1.86it/s]"
     ]
    },
    {
     "name": "stdout",
     "output_type": "stream",
     "text": [
      "sox WARN rate: rate clipped 18 samples; decrease volume?\r\n",
      "sox WARN dither: dither clipped 17 samples; decrease volume?\r\n"
     ]
    },
    {
     "name": "stderr",
     "output_type": "stream",
     "text": [
      "\r",
      "442it [03:53,  1.86it/s]"
     ]
    },
    {
     "name": "stdout",
     "output_type": "stream",
     "text": [
      "sox WARN rate: rate clipped 137 samples; decrease volume?\r\n",
      "sox WARN dither: dither clipped 118 samples; decrease volume?\r\n"
     ]
    },
    {
     "name": "stderr",
     "output_type": "stream",
     "text": [
      "\r",
      "443it [03:54,  1.88it/s]"
     ]
    },
    {
     "name": "stdout",
     "output_type": "stream",
     "text": [
      "sox WARN rate: rate clipped 17 samples; decrease volume?\r\n",
      "sox WARN dither: dither clipped 14 samples; decrease volume?\r\n"
     ]
    },
    {
     "name": "stderr",
     "output_type": "stream",
     "text": [
      "\r",
      "444it [03:55,  1.88it/s]"
     ]
    },
    {
     "name": "stdout",
     "output_type": "stream",
     "text": [
      "sox WARN rate: rate clipped 19 samples; decrease volume?\r\n",
      "sox WARN dither: dither clipped 15 samples; decrease volume?\r\n"
     ]
    },
    {
     "name": "stderr",
     "output_type": "stream",
     "text": [
      "\r",
      "445it [03:55,  1.88it/s]"
     ]
    },
    {
     "name": "stdout",
     "output_type": "stream",
     "text": [
      "sox WARN rate: rate clipped 17 samples; decrease volume?\r\n",
      "sox WARN dither: dither clipped 15 samples; decrease volume?\r\n"
     ]
    },
    {
     "name": "stderr",
     "output_type": "stream",
     "text": [
      "\r",
      "446it [03:56,  1.88it/s]"
     ]
    },
    {
     "name": "stdout",
     "output_type": "stream",
     "text": [
      "sox WARN rate: rate clipped 18 samples; decrease volume?\r\n",
      "sox WARN dither: dither clipped 17 samples; decrease volume?\r\n"
     ]
    },
    {
     "name": "stderr",
     "output_type": "stream",
     "text": [
      "\r",
      "447it [03:56,  1.88it/s]"
     ]
    },
    {
     "name": "stdout",
     "output_type": "stream",
     "text": [
      "sox WARN rate: rate clipped 18 samples; decrease volume?\r\n",
      "sox WARN dither: dither clipped 16 samples; decrease volume?\r\n"
     ]
    },
    {
     "name": "stderr",
     "output_type": "stream",
     "text": [
      "\r",
      "448it [03:57,  1.88it/s]"
     ]
    },
    {
     "name": "stdout",
     "output_type": "stream",
     "text": [
      "sox WARN rate: rate clipped 18 samples; decrease volume?\r\n",
      "sox WARN dither: dither clipped 16 samples; decrease volume?\r\n"
     ]
    },
    {
     "name": "stderr",
     "output_type": "stream",
     "text": [
      "\r",
      "449it [03:57,  1.88it/s]"
     ]
    },
    {
     "name": "stdout",
     "output_type": "stream",
     "text": [
      "sox WARN rate: rate clipped 19 samples; decrease volume?\r\n",
      "sox WARN dither: dither clipped 16 samples; decrease volume?\r\n"
     ]
    },
    {
     "name": "stderr",
     "output_type": "stream",
     "text": [
      "\r",
      "450it [03:58,  1.88it/s]"
     ]
    },
    {
     "name": "stdout",
     "output_type": "stream",
     "text": [
      "sox WARN rate: rate clipped 18 samples; decrease volume?\r\n",
      "sox WARN dither: dither clipped 17 samples; decrease volume?\r\n"
     ]
    },
    {
     "name": "stderr",
     "output_type": "stream",
     "text": [
      "\r",
      "453it [03:58,  2.35it/s]"
     ]
    },
    {
     "name": "stdout",
     "output_type": "stream",
     "text": [
      "sox WARN rate: rate clipped 17 samples; decrease volume?\r\n",
      "sox WARN dither: dither clipped 15 samples; decrease volume?\r\n"
     ]
    },
    {
     "name": "stderr",
     "output_type": "stream",
     "text": [
      "\r",
      "454it [03:59,  2.18it/s]"
     ]
    },
    {
     "name": "stdout",
     "output_type": "stream",
     "text": [
      "sox WARN rate: rate clipped 18 samples; decrease volume?\r\n",
      "sox WARN dither: dither clipped 13 samples; decrease volume?\r\n"
     ]
    },
    {
     "name": "stderr",
     "output_type": "stream",
     "text": [
      "\r",
      "455it [03:59,  2.07it/s]"
     ]
    },
    {
     "name": "stdout",
     "output_type": "stream",
     "text": [
      "sox WARN rate: rate clipped 17 samples; decrease volume?\r\n",
      "sox WARN dither: dither clipped 15 samples; decrease volume?\r\n"
     ]
    },
    {
     "name": "stderr",
     "output_type": "stream",
     "text": [
      "\r",
      "456it [04:00,  1.99it/s]"
     ]
    },
    {
     "name": "stdout",
     "output_type": "stream",
     "text": [
      "sox WARN rate: rate clipped 17 samples; decrease volume?\r\n",
      "sox WARN dither: dither clipped 15 samples; decrease volume?\r\n"
     ]
    },
    {
     "name": "stderr",
     "output_type": "stream",
     "text": [
      "\r",
      "457it [04:00,  1.96it/s]"
     ]
    },
    {
     "name": "stdout",
     "output_type": "stream",
     "text": [
      "sox WARN rate: rate clipped 18 samples; decrease volume?\r\n",
      "sox WARN dither: dither clipped 16 samples; decrease volume?\r\n"
     ]
    },
    {
     "name": "stderr",
     "output_type": "stream",
     "text": [
      "\r",
      "458it [04:01,  1.94it/s]"
     ]
    },
    {
     "name": "stdout",
     "output_type": "stream",
     "text": [
      "sox WARN rate: rate clipped 19 samples; decrease volume?\r\n",
      "sox WARN dither: dither clipped 16 samples; decrease volume?\r\n"
     ]
    },
    {
     "name": "stderr",
     "output_type": "stream",
     "text": [
      "\r",
      "459it [04:01,  1.93it/s]"
     ]
    },
    {
     "name": "stdout",
     "output_type": "stream",
     "text": [
      "sox WARN rate: rate clipped 19 samples; decrease volume?\r\n",
      "sox WARN dither: dither clipped 18 samples; decrease volume?\r\n"
     ]
    },
    {
     "name": "stderr",
     "output_type": "stream",
     "text": [
      "461it [04:03,  1.53it/s]"
     ]
    },
    {
     "name": "stdout",
     "output_type": "stream",
     "text": [
      "sox WARN rate: rate clipped 16 samples; decrease volume?\r\n",
      "sox WARN dither: dither clipped 14 samples; decrease volume?\r\n"
     ]
    },
    {
     "name": "stderr",
     "output_type": "stream",
     "text": [
      "\r",
      "462it [04:04,  1.62it/s]"
     ]
    },
    {
     "name": "stdout",
     "output_type": "stream",
     "text": [
      "sox WARN rate: rate clipped 17 samples; decrease volume?\r\n",
      "sox WARN dither: dither clipped 15 samples; decrease volume?\r\n"
     ]
    },
    {
     "name": "stderr",
     "output_type": "stream",
     "text": [
      "\r",
      "463it [04:04,  1.68it/s]"
     ]
    },
    {
     "name": "stdout",
     "output_type": "stream",
     "text": [
      "sox WARN rate: rate clipped 1 samples; decrease volume?\r\n"
     ]
    },
    {
     "name": "stderr",
     "output_type": "stream",
     "text": [
      "465it [04:06,  1.32it/s]"
     ]
    },
    {
     "name": "stdout",
     "output_type": "stream",
     "text": [
      "sox WARN rate: rate clipped 112 samples; decrease volume?\r\n",
      "sox WARN dither: dither clipped 98 samples; decrease volume?\r\n"
     ]
    },
    {
     "name": "stderr",
     "output_type": "stream",
     "text": [
      "\r",
      "466it [04:07,  1.31it/s]"
     ]
    },
    {
     "name": "stdout",
     "output_type": "stream",
     "text": [
      "sox WARN rate: rate clipped 18 samples; decrease volume?\r\n",
      "sox WARN dither: dither clipped 15 samples; decrease volume?\r\n"
     ]
    },
    {
     "name": "stderr",
     "output_type": "stream",
     "text": [
      "\r",
      "467it [04:07,  1.44it/s]"
     ]
    },
    {
     "name": "stdout",
     "output_type": "stream",
     "text": [
      "sox WARN rate: rate clipped 18 samples; decrease volume?\r\n",
      "sox WARN dither: dither clipped 14 samples; decrease volume?\r\n"
     ]
    },
    {
     "name": "stderr",
     "output_type": "stream",
     "text": [
      "\r",
      "468it [04:08,  1.55it/s]"
     ]
    },
    {
     "name": "stdout",
     "output_type": "stream",
     "text": [
      "sox WARN rate: rate clipped 19 samples; decrease volume?\r\n",
      "sox WARN dither: dither clipped 17 samples; decrease volume?\r\n"
     ]
    },
    {
     "name": "stderr",
     "output_type": "stream",
     "text": [
      "\r",
      "469it [04:08,  1.64it/s]"
     ]
    },
    {
     "name": "stdout",
     "output_type": "stream",
     "text": [
      "sox WARN rate: rate clipped 77 samples; decrease volume?\r\n",
      "sox WARN dither: dither clipped 69 samples; decrease volume?\r\n"
     ]
    },
    {
     "name": "stderr",
     "output_type": "stream",
     "text": [
      "\r",
      "470it [04:09,  1.42it/s]"
     ]
    },
    {
     "name": "stdout",
     "output_type": "stream",
     "text": [
      "sox WARN rate: rate clipped 18 samples; decrease volume?\r\n",
      "sox WARN dither: dither clipped 16 samples; decrease volume?\r\n"
     ]
    },
    {
     "name": "stderr",
     "output_type": "stream",
     "text": [
      "\r",
      "471it [04:10,  1.53it/s]"
     ]
    },
    {
     "name": "stdout",
     "output_type": "stream",
     "text": [
      "sox WARN rate: rate clipped 14 samples; decrease volume?\r\n",
      "sox WARN dither: dither clipped 13 samples; decrease volume?\r\n"
     ]
    },
    {
     "name": "stderr",
     "output_type": "stream",
     "text": [
      "\r",
      "472it [04:10,  1.55it/s]"
     ]
    },
    {
     "name": "stdout",
     "output_type": "stream",
     "text": [
      "sox WARN rate: rate clipped 9 samples; decrease volume?\r\n",
      "sox WARN dither: dither clipped 7 samples; decrease volume?\r\n"
     ]
    },
    {
     "name": "stderr",
     "output_type": "stream",
     "text": [
      "\r",
      "473it [04:11,  1.58it/s]"
     ]
    },
    {
     "name": "stdout",
     "output_type": "stream",
     "text": [
      "sox WARN rate: rate clipped 17 samples; decrease volume?\r\n",
      "sox WARN dither: dither clipped 14 samples; decrease volume?\r\n"
     ]
    },
    {
     "name": "stderr",
     "output_type": "stream",
     "text": [
      "\r",
      "474it [04:11,  1.66it/s]"
     ]
    },
    {
     "name": "stdout",
     "output_type": "stream",
     "text": [
      "sox WARN rate: rate clipped 16 samples; decrease volume?\r\n",
      "sox WARN dither: dither clipped 15 samples; decrease volume?\r\n"
     ]
    },
    {
     "name": "stderr",
     "output_type": "stream",
     "text": [
      "\r",
      "475it [04:12,  1.72it/s]"
     ]
    },
    {
     "name": "stdout",
     "output_type": "stream",
     "text": [
      "sox WARN rate: rate clipped 15 samples; decrease volume?\r\n",
      "sox WARN dither: dither clipped 15 samples; decrease volume?\r\n"
     ]
    },
    {
     "name": "stderr",
     "output_type": "stream",
     "text": [
      "\r",
      "476it [04:13,  1.76it/s]"
     ]
    },
    {
     "name": "stdout",
     "output_type": "stream",
     "text": [
      "sox WARN rate: rate clipped 17 samples; decrease volume?\r\n",
      "sox WARN dither: dither clipped 14 samples; decrease volume?\r\n"
     ]
    },
    {
     "name": "stderr",
     "output_type": "stream",
     "text": [
      "\r",
      "477it [04:13,  1.79it/s]"
     ]
    },
    {
     "name": "stdout",
     "output_type": "stream",
     "text": [
      "sox WARN rate: rate clipped 17 samples; decrease volume?\r\n",
      "sox WARN dither: dither clipped 15 samples; decrease volume?\r\n"
     ]
    },
    {
     "name": "stderr",
     "output_type": "stream",
     "text": [
      "\r",
      "478it [04:14,  1.82it/s]"
     ]
    },
    {
     "name": "stdout",
     "output_type": "stream",
     "text": [
      "sox WARN rate: rate clipped 29 samples; decrease volume?\r\n",
      "sox WARN dither: dither clipped 24 samples; decrease volume?\r\n"
     ]
    },
    {
     "name": "stderr",
     "output_type": "stream",
     "text": [
      "\r",
      "479it [04:14,  1.83it/s]"
     ]
    },
    {
     "name": "stdout",
     "output_type": "stream",
     "text": [
      "sox WARN rate: rate clipped 19 samples; decrease volume?\r\n",
      "sox WARN dither: dither clipped 18 samples; decrease volume?\r\n"
     ]
    },
    {
     "name": "stderr",
     "output_type": "stream",
     "text": [
      "\r",
      "480it [04:15,  1.85it/s]"
     ]
    },
    {
     "name": "stdout",
     "output_type": "stream",
     "text": [
      "sox WARN rate: rate clipped 17 samples; decrease volume?\r\n",
      "sox WARN dither: dither clipped 16 samples; decrease volume?\r\n"
     ]
    },
    {
     "name": "stderr",
     "output_type": "stream",
     "text": [
      "\r",
      "481it [04:15,  1.86it/s]"
     ]
    },
    {
     "name": "stdout",
     "output_type": "stream",
     "text": [
      "sox WARN rate: rate clipped 18 samples; decrease volume?\r\n",
      "sox WARN dither: dither clipped 17 samples; decrease volume?\r\n"
     ]
    },
    {
     "name": "stderr",
     "output_type": "stream",
     "text": [
      "483it [04:16,  1.68it/s]"
     ]
    },
    {
     "name": "stdout",
     "output_type": "stream",
     "text": [
      "sox WARN rate: rate clipped 19 samples; decrease volume?\r\n",
      "sox WARN dither: dither clipped 15 samples; decrease volume?\r\n"
     ]
    },
    {
     "name": "stderr",
     "output_type": "stream",
     "text": [
      "\r",
      "484it [04:17,  1.44it/s]"
     ]
    },
    {
     "name": "stdout",
     "output_type": "stream",
     "text": [
      "sox WARN rate: rate clipped 15 samples; decrease volume?\r\n",
      "sox WARN dither: dither clipped 14 samples; decrease volume?\r\n"
     ]
    },
    {
     "name": "stderr",
     "output_type": "stream",
     "text": [
      "\r",
      "485it [04:18,  1.55it/s]"
     ]
    },
    {
     "name": "stdout",
     "output_type": "stream",
     "text": [
      "sox WARN rate: rate clipped 8 samples; decrease volume?\r\n",
      "sox WARN dither: dither clipped 8 samples; decrease volume?\r\n"
     ]
    },
    {
     "name": "stderr",
     "output_type": "stream",
     "text": [
      "\r",
      "486it [04:19,  1.41it/s]"
     ]
    },
    {
     "name": "stdout",
     "output_type": "stream",
     "text": [
      "sox WARN rate: rate clipped 18 samples; decrease volume?\r\n",
      "sox WARN dither: dither clipped 17 samples; decrease volume?\r\n"
     ]
    },
    {
     "name": "stderr",
     "output_type": "stream",
     "text": [
      "\r",
      "487it [04:19,  1.52it/s]"
     ]
    },
    {
     "name": "stdout",
     "output_type": "stream",
     "text": [
      "sox WARN rate: rate clipped 18 samples; decrease volume?\r\n",
      "sox WARN dither: dither clipped 16 samples; decrease volume?\r\n"
     ]
    },
    {
     "name": "stderr",
     "output_type": "stream",
     "text": [
      "\r",
      "488it [04:20,  1.62it/s]"
     ]
    },
    {
     "name": "stdout",
     "output_type": "stream",
     "text": [
      "sox WARN rate: rate clipped 299 samples; decrease volume?\r\n",
      "sox WARN dither: dither clipped 255 samples; decrease volume?\r\n"
     ]
    },
    {
     "name": "stderr",
     "output_type": "stream",
     "text": [
      "\r",
      "489it [04:21,  1.42it/s]"
     ]
    },
    {
     "name": "stdout",
     "output_type": "stream",
     "text": [
      "sox WARN rate: rate clipped 16 samples; decrease volume?\r\n",
      "sox WARN dither: dither clipped 15 samples; decrease volume?\r\n"
     ]
    },
    {
     "name": "stderr",
     "output_type": "stream",
     "text": [
      "\r",
      "490it [04:21,  1.52it/s]"
     ]
    },
    {
     "name": "stdout",
     "output_type": "stream",
     "text": [
      "sox WARN rate: rate clipped 18 samples; decrease volume?\r\n",
      "sox WARN dither: dither clipped 15 samples; decrease volume?\r\n"
     ]
    },
    {
     "name": "stderr",
     "output_type": "stream",
     "text": [
      "\r",
      "491it [04:22,  1.60it/s]"
     ]
    },
    {
     "name": "stdout",
     "output_type": "stream",
     "text": [
      "sox WARN rate: rate clipped 18 samples; decrease volume?\r\n",
      "sox WARN dither: dither clipped 16 samples; decrease volume?\r\n"
     ]
    },
    {
     "name": "stderr",
     "output_type": "stream",
     "text": [
      "494it [04:24,  1.43it/s]"
     ]
    },
    {
     "name": "stdout",
     "output_type": "stream",
     "text": [
      "sox WARN rate: rate clipped 15 samples; decrease volume?\r\n",
      "sox WARN dither: dither clipped 13 samples; decrease volume?\r\n"
     ]
    },
    {
     "name": "stderr",
     "output_type": "stream",
     "text": [
      "\r",
      "495it [04:25,  1.54it/s]"
     ]
    },
    {
     "name": "stdout",
     "output_type": "stream",
     "text": [
      "sox WARN rate: rate clipped 16 samples; decrease volume?\r\n",
      "sox WARN dither: dither clipped 16 samples; decrease volume?\r\n"
     ]
    },
    {
     "name": "stderr",
     "output_type": "stream",
     "text": [
      "497it [04:26,  1.42it/s]"
     ]
    },
    {
     "name": "stdout",
     "output_type": "stream",
     "text": [
      "sox WARN rate: rate clipped 17 samples; decrease volume?\r\n",
      "sox WARN dither: dither clipped 15 samples; decrease volume?\r\n"
     ]
    },
    {
     "name": "stderr",
     "output_type": "stream",
     "text": [
      "\r",
      "498it [04:27,  1.54it/s]"
     ]
    },
    {
     "name": "stdout",
     "output_type": "stream",
     "text": [
      "sox WARN rate: rate clipped 15 samples; decrease volume?\r\n",
      "sox WARN dither: dither clipped 14 samples; decrease volume?\r\n"
     ]
    },
    {
     "name": "stderr",
     "output_type": "stream",
     "text": [
      "\r",
      "499it [04:27,  1.62it/s]"
     ]
    },
    {
     "name": "stdout",
     "output_type": "stream",
     "text": [
      "sox WARN rate: rate clipped 18 samples; decrease volume?\r\n",
      "sox WARN dither: dither clipped 18 samples; decrease volume?\r\n"
     ]
    },
    {
     "name": "stderr",
     "output_type": "stream",
     "text": [
      "\r",
      "500it [04:28,  1.69it/s]"
     ]
    },
    {
     "name": "stdout",
     "output_type": "stream",
     "text": [
      "sox WARN rate: rate clipped 19 samples; decrease volume?\r\n",
      "sox WARN dither: dither clipped 17 samples; decrease volume?\r\n"
     ]
    },
    {
     "name": "stderr",
     "output_type": "stream",
     "text": [
      "502it [04:29,  1.47it/s]"
     ]
    },
    {
     "name": "stdout",
     "output_type": "stream",
     "text": [
      "sox WARN rate: rate clipped 18 samples; decrease volume?\r\n",
      "sox WARN dither: dither clipped 13 samples; decrease volume?\r\n"
     ]
    },
    {
     "name": "stderr",
     "output_type": "stream",
     "text": [
      "\r",
      "503it [04:30,  1.58it/s]"
     ]
    },
    {
     "name": "stdout",
     "output_type": "stream",
     "text": [
      "sox WARN rate: rate clipped 18 samples; decrease volume?\r\n",
      "sox WARN dither: dither clipped 15 samples; decrease volume?\r\n"
     ]
    },
    {
     "name": "stderr",
     "output_type": "stream",
     "text": [
      "\r",
      "504it [04:30,  1.67it/s]"
     ]
    },
    {
     "name": "stdout",
     "output_type": "stream",
     "text": [
      "sox WARN rate: rate clipped 16 samples; decrease volume?\r\n",
      "sox WARN dither: dither clipped 16 samples; decrease volume?\r\n"
     ]
    },
    {
     "name": "stderr",
     "output_type": "stream",
     "text": [
      "\r",
      "505it [04:31,  1.73it/s]"
     ]
    },
    {
     "name": "stdout",
     "output_type": "stream",
     "text": [
      "sox WARN rate: rate clipped 23 samples; decrease volume?\r\n",
      "sox WARN dither: dither clipped 19 samples; decrease volume?\r\n"
     ]
    },
    {
     "name": "stderr",
     "output_type": "stream",
     "text": [
      "\r",
      "506it [04:31,  1.75it/s]"
     ]
    },
    {
     "name": "stdout",
     "output_type": "stream",
     "text": [
      "sox WARN rate: rate clipped 15 samples; decrease volume?\r\n",
      "sox WARN dither: dither clipped 12 samples; decrease volume?\r\n"
     ]
    },
    {
     "name": "stderr",
     "output_type": "stream",
     "text": [
      "\r",
      "507it [04:32,  1.78it/s]"
     ]
    },
    {
     "name": "stdout",
     "output_type": "stream",
     "text": [
      "sox WARN rate: rate clipped 21 samples; decrease volume?\r\n",
      "sox WARN dither: dither clipped 21 samples; decrease volume?\r\n"
     ]
    },
    {
     "name": "stderr",
     "output_type": "stream",
     "text": [
      "\r",
      "508it [04:32,  1.66it/s]"
     ]
    },
    {
     "name": "stdout",
     "output_type": "stream",
     "text": [
      "sox WARN rate: rate clipped 16 samples; decrease volume?\r\n",
      "sox WARN dither: dither clipped 16 samples; decrease volume?\r\n"
     ]
    },
    {
     "name": "stderr",
     "output_type": "stream",
     "text": [
      "\r",
      "509it [04:33,  1.73it/s]"
     ]
    },
    {
     "name": "stdout",
     "output_type": "stream",
     "text": [
      "sox WARN rate: rate clipped 19 samples; decrease volume?\r\n",
      "sox WARN dither: dither clipped 17 samples; decrease volume?\r\n"
     ]
    },
    {
     "name": "stderr",
     "output_type": "stream",
     "text": [
      "511it [04:34,  1.49it/s]"
     ]
    },
    {
     "name": "stdout",
     "output_type": "stream",
     "text": [
      "sox WARN rate: rate clipped 22 samples; decrease volume?\r\n",
      "sox WARN dither: dither clipped 16 samples; decrease volume?\r\n"
     ]
    },
    {
     "name": "stderr",
     "output_type": "stream",
     "text": [
      "\r",
      "512it [04:35,  1.64it/s]"
     ]
    },
    {
     "name": "stdout",
     "output_type": "stream",
     "text": [
      "sox WARN rate: rate clipped 476 samples; decrease volume?\r\n",
      "sox WARN dither: dither clipped 410 samples; decrease volume?\r\n"
     ]
    },
    {
     "name": "stderr",
     "output_type": "stream",
     "text": [
      "\r",
      "513it [04:35,  1.70it/s]"
     ]
    },
    {
     "name": "stdout",
     "output_type": "stream",
     "text": [
      "sox WARN rate: rate clipped 18 samples; decrease volume?\r\n",
      "sox WARN dither: dither clipped 18 samples; decrease volume?\r\n"
     ]
    },
    {
     "name": "stderr",
     "output_type": "stream",
     "text": [
      "515it [04:37,  1.49it/s]"
     ]
    },
    {
     "name": "stdout",
     "output_type": "stream",
     "text": [
      "sox WARN rate: rate clipped 17 samples; decrease volume?\r\n",
      "sox WARN dither: dither clipped 16 samples; decrease volume?\r\n"
     ]
    },
    {
     "name": "stderr",
     "output_type": "stream",
     "text": [
      "\r",
      "516it [04:37,  1.59it/s]"
     ]
    },
    {
     "name": "stdout",
     "output_type": "stream",
     "text": [
      "sox WARN rate: rate clipped 20 samples; decrease volume?\r\n",
      "sox WARN dither: dither clipped 15 samples; decrease volume?\r\n"
     ]
    },
    {
     "name": "stderr",
     "output_type": "stream",
     "text": [
      "\r",
      "517it [04:38,  1.69it/s]"
     ]
    },
    {
     "name": "stdout",
     "output_type": "stream",
     "text": [
      "sox WARN rate: rate clipped 213 samples; decrease volume?\r\n",
      "sox WARN dither: dither clipped 196 samples; decrease volume?\r\n"
     ]
    },
    {
     "name": "stderr",
     "output_type": "stream",
     "text": [
      "\r",
      "518it [04:39,  1.58it/s]"
     ]
    },
    {
     "name": "stdout",
     "output_type": "stream",
     "text": [
      "sox WARN rate: rate clipped 17 samples; decrease volume?\r\n",
      "sox WARN dither: dither clipped 17 samples; decrease volume?\r\n"
     ]
    },
    {
     "name": "stderr",
     "output_type": "stream",
     "text": [
      "521it [04:41,  1.38it/s]"
     ]
    },
    {
     "name": "stdout",
     "output_type": "stream",
     "text": [
      "sox WARN rate: rate clipped 18 samples; decrease volume?\r\n",
      "sox WARN dither: dither clipped 16 samples; decrease volume?\r\n"
     ]
    },
    {
     "name": "stderr",
     "output_type": "stream",
     "text": [
      "\r",
      "522it [04:41,  1.51it/s]"
     ]
    },
    {
     "name": "stdout",
     "output_type": "stream",
     "text": [
      "sox WARN rate: rate clipped 19 samples; decrease volume?\r\n",
      "sox WARN dither: dither clipped 17 samples; decrease volume?\r\n"
     ]
    },
    {
     "name": "stderr",
     "output_type": "stream",
     "text": [
      "\r",
      "523it [04:42,  1.60it/s]"
     ]
    },
    {
     "name": "stdout",
     "output_type": "stream",
     "text": [
      "sox WARN rate: rate clipped 59 samples; decrease volume?\r\n",
      "sox WARN dither: dither clipped 50 samples; decrease volume?\r\n"
     ]
    },
    {
     "name": "stderr",
     "output_type": "stream",
     "text": [
      "\r",
      "524it [04:42,  1.68it/s]"
     ]
    },
    {
     "name": "stdout",
     "output_type": "stream",
     "text": [
      "sox WARN rate: rate clipped 197 samples; decrease volume?\r\n",
      "sox WARN dither: dither clipped 181 samples; decrease volume?\r\n"
     ]
    },
    {
     "name": "stderr",
     "output_type": "stream",
     "text": [
      "\r",
      "525it [04:43,  1.74it/s]"
     ]
    },
    {
     "name": "stdout",
     "output_type": "stream",
     "text": [
      "sox WARN rate: rate clipped 37 samples; decrease volume?\r\n",
      "sox WARN dither: dither clipped 32 samples; decrease volume?\r\n"
     ]
    },
    {
     "name": "stderr",
     "output_type": "stream",
     "text": [
      "\r",
      "526it [04:43,  1.78it/s]"
     ]
    },
    {
     "name": "stdout",
     "output_type": "stream",
     "text": [
      "sox WARN rate: rate clipped 20 samples; decrease volume?\r\n",
      "sox WARN dither: dither clipped 17 samples; decrease volume?\r\n"
     ]
    },
    {
     "name": "stderr",
     "output_type": "stream",
     "text": [
      "\r",
      "527it [04:44,  1.80it/s]"
     ]
    },
    {
     "name": "stdout",
     "output_type": "stream",
     "text": [
      "sox WARN rate: rate clipped 6 samples; decrease volume?\r\n",
      "sox WARN dither: dither clipped 6 samples; decrease volume?\r\n"
     ]
    },
    {
     "name": "stderr",
     "output_type": "stream",
     "text": [
      "\r",
      "528it [04:45,  1.51it/s]"
     ]
    },
    {
     "name": "stdout",
     "output_type": "stream",
     "text": [
      "sox WARN rate: rate clipped 955 samples; decrease volume?\r\n",
      "sox WARN dither: dither clipped 821 samples; decrease volume?\r\n"
     ]
    },
    {
     "name": "stderr",
     "output_type": "stream",
     "text": [
      "\r",
      "529it [04:45,  1.60it/s]"
     ]
    },
    {
     "name": "stdout",
     "output_type": "stream",
     "text": [
      "sox WARN rate: rate clipped 19 samples; decrease volume?\r\n",
      "sox WARN dither: dither clipped 19 samples; decrease volume?\r\n"
     ]
    },
    {
     "name": "stderr",
     "output_type": "stream",
     "text": [
      "\r",
      "530it [04:46,  1.67it/s]"
     ]
    },
    {
     "name": "stdout",
     "output_type": "stream",
     "text": [
      "sox WARN rate: rate clipped 18 samples; decrease volume?\r\n",
      "sox WARN dither: dither clipped 13 samples; decrease volume?\r\n"
     ]
    },
    {
     "name": "stderr",
     "output_type": "stream",
     "text": [
      "532it [04:47,  1.47it/s]"
     ]
    },
    {
     "name": "stdout",
     "output_type": "stream",
     "text": [
      "sox WARN rate: rate clipped 2 samples; decrease volume?\r\n",
      "sox WARN dither: dither clipped 2 samples; decrease volume?\r\n"
     ]
    },
    {
     "name": "stderr",
     "output_type": "stream",
     "text": [
      "\r",
      "533it [04:48,  1.45it/s]"
     ]
    },
    {
     "name": "stdout",
     "output_type": "stream",
     "text": [
      "sox WARN rate: rate clipped 17 samples; decrease volume?\r\n",
      "sox WARN dither: dither clipped 16 samples; decrease volume?\r\n"
     ]
    },
    {
     "name": "stderr",
     "output_type": "stream",
     "text": [
      "535it [04:50,  1.38it/s]"
     ]
    },
    {
     "name": "stdout",
     "output_type": "stream",
     "text": [
      "sox WARN rate: rate clipped 14 samples; decrease volume?\r\n",
      "sox WARN dither: dither clipped 14 samples; decrease volume?\r\n"
     ]
    },
    {
     "name": "stderr",
     "output_type": "stream",
     "text": [
      "\r",
      "536it [04:50,  1.49it/s]"
     ]
    },
    {
     "name": "stdout",
     "output_type": "stream",
     "text": [
      "sox WARN rate: rate clipped 4 samples; decrease volume?\r\n",
      "sox WARN dither: dither clipped 3 samples; decrease volume?\r\n"
     ]
    },
    {
     "name": "stderr",
     "output_type": "stream",
     "text": [
      "\r",
      "537it [04:51,  1.57it/s]"
     ]
    },
    {
     "name": "stdout",
     "output_type": "stream",
     "text": [
      "sox WARN rate: rate clipped 15 samples; decrease volume?\r\n",
      "sox WARN dither: dither clipped 15 samples; decrease volume?\r\n"
     ]
    },
    {
     "name": "stderr",
     "output_type": "stream",
     "text": [
      "\r",
      "538it [04:51,  1.64it/s]"
     ]
    },
    {
     "name": "stdout",
     "output_type": "stream",
     "text": [
      "sox WARN rate: rate clipped 53 samples; decrease volume?\r\n",
      "sox WARN dither: dither clipped 44 samples; decrease volume?\r\n"
     ]
    },
    {
     "name": "stderr",
     "output_type": "stream",
     "text": [
      "\r",
      "539it [04:52,  1.71it/s]"
     ]
    },
    {
     "name": "stdout",
     "output_type": "stream",
     "text": [
      "sox WARN rate: rate clipped 16 samples; decrease volume?\r\n",
      "sox WARN dither: dither clipped 13 samples; decrease volume?\r\n"
     ]
    },
    {
     "name": "stderr",
     "output_type": "stream",
     "text": [
      "541it [04:53,  1.49it/s]"
     ]
    },
    {
     "name": "stdout",
     "output_type": "stream",
     "text": [
      "sox WARN rate: rate clipped 18 samples; decrease volume?\r\n",
      "sox WARN dither: dither clipped 15 samples; decrease volume?\r\n"
     ]
    },
    {
     "name": "stderr",
     "output_type": "stream",
     "text": [
      "\r",
      "542it [04:54,  1.60it/s]"
     ]
    },
    {
     "name": "stdout",
     "output_type": "stream",
     "text": [
      "sox WARN rate: rate clipped 63 samples; decrease volume?\r\n",
      "sox WARN dither: dither clipped 56 samples; decrease volume?\r\n"
     ]
    },
    {
     "name": "stderr",
     "output_type": "stream",
     "text": [
      "\r",
      "543it [04:54,  1.52it/s]"
     ]
    },
    {
     "name": "stdout",
     "output_type": "stream",
     "text": [
      "sox WARN rate: rate clipped 16 samples; decrease volume?\r\n",
      "sox WARN dither: dither clipped 14 samples; decrease volume?\r\n"
     ]
    },
    {
     "name": "stderr",
     "output_type": "stream",
     "text": [
      "\r",
      "544it [04:55,  1.61it/s]"
     ]
    },
    {
     "name": "stdout",
     "output_type": "stream",
     "text": [
      "sox WARN rate: rate clipped 16 samples; decrease volume?\r\n",
      "sox WARN dither: dither clipped 11 samples; decrease volume?\r\n"
     ]
    },
    {
     "name": "stderr",
     "output_type": "stream",
     "text": [
      "\r",
      "545it [04:55,  1.67it/s]"
     ]
    },
    {
     "name": "stdout",
     "output_type": "stream",
     "text": [
      "sox WARN rate: rate clipped 17 samples; decrease volume?\r\n",
      "sox WARN dither: dither clipped 14 samples; decrease volume?\r\n"
     ]
    },
    {
     "name": "stderr",
     "output_type": "stream",
     "text": [
      "\r",
      "546it [04:56,  1.74it/s]"
     ]
    },
    {
     "name": "stdout",
     "output_type": "stream",
     "text": [
      "sox WARN rate: rate clipped 17 samples; decrease volume?\r\n",
      "sox WARN dither: dither clipped 15 samples; decrease volume?\r\n"
     ]
    },
    {
     "name": "stderr",
     "output_type": "stream",
     "text": [
      "\r",
      "547it [04:57,  1.77it/s]"
     ]
    },
    {
     "name": "stdout",
     "output_type": "stream",
     "text": [
      "sox WARN rate: rate clipped 18 samples; decrease volume?\r\n",
      "sox WARN dither: dither clipped 14 samples; decrease volume?\r\n"
     ]
    },
    {
     "name": "stderr",
     "output_type": "stream",
     "text": [
      "\r",
      "548it [04:57,  1.80it/s]"
     ]
    },
    {
     "name": "stdout",
     "output_type": "stream",
     "text": [
      "sox WARN rate: rate clipped 18 samples; decrease volume?\r\n",
      "sox WARN dither: dither clipped 15 samples; decrease volume?\r\n"
     ]
    },
    {
     "name": "stderr",
     "output_type": "stream",
     "text": [
      "\r",
      "549it [04:58,  1.82it/s]"
     ]
    },
    {
     "name": "stdout",
     "output_type": "stream",
     "text": [
      "sox WARN rate: rate clipped 19 samples; decrease volume?\r\n",
      "sox WARN dither: dither clipped 18 samples; decrease volume?\r\n"
     ]
    },
    {
     "name": "stderr",
     "output_type": "stream",
     "text": [
      "\r",
      "550it [04:58,  1.83it/s]"
     ]
    },
    {
     "name": "stdout",
     "output_type": "stream",
     "text": [
      "sox WARN rate: rate clipped 17 samples; decrease volume?\r\n",
      "sox WARN dither: dither clipped 17 samples; decrease volume?\r\n"
     ]
    },
    {
     "name": "stderr",
     "output_type": "stream",
     "text": [
      "\r",
      "551it [04:59,  1.85it/s]"
     ]
    },
    {
     "name": "stdout",
     "output_type": "stream",
     "text": [
      "sox WARN rate: rate clipped 16 samples; decrease volume?\r\n",
      "sox WARN dither: dither clipped 16 samples; decrease volume?\r\n"
     ]
    },
    {
     "name": "stderr",
     "output_type": "stream",
     "text": [
      "\r",
      "552it [04:59,  1.86it/s]"
     ]
    },
    {
     "name": "stdout",
     "output_type": "stream",
     "text": [
      "sox WARN rate: rate clipped 17 samples; decrease volume?\r\n",
      "sox WARN dither: dither clipped 16 samples; decrease volume?\r\n"
     ]
    },
    {
     "name": "stderr",
     "output_type": "stream",
     "text": [
      "\r",
      "553it [05:00,  1.86it/s]"
     ]
    },
    {
     "name": "stdout",
     "output_type": "stream",
     "text": [
      "sox WARN rate: rate clipped 17 samples; decrease volume?\r\n",
      "sox WARN dither: dither clipped 17 samples; decrease volume?\r\n"
     ]
    },
    {
     "name": "stderr",
     "output_type": "stream",
     "text": [
      "\r",
      "554it [05:00,  1.86it/s]"
     ]
    },
    {
     "name": "stdout",
     "output_type": "stream",
     "text": [
      "sox WARN rate: rate clipped 18 samples; decrease volume?\r\n",
      "sox WARN dither: dither clipped 17 samples; decrease volume?\r\n"
     ]
    },
    {
     "name": "stderr",
     "output_type": "stream",
     "text": [
      "\r",
      "555it [05:01,  1.87it/s]"
     ]
    },
    {
     "name": "stdout",
     "output_type": "stream",
     "text": [
      "sox WARN rate: rate clipped 19 samples; decrease volume?\r\n",
      "sox WARN dither: dither clipped 15 samples; decrease volume?\r\n"
     ]
    },
    {
     "name": "stderr",
     "output_type": "stream",
     "text": [
      "\r",
      "556it [05:01,  1.88it/s]"
     ]
    },
    {
     "name": "stdout",
     "output_type": "stream",
     "text": [
      "sox WARN rate: rate clipped 1 samples; decrease volume?\r\n",
      "sox WARN dither: dither clipped 1 samples; decrease volume?\r\n"
     ]
    },
    {
     "name": "stderr",
     "output_type": "stream",
     "text": [
      "\r",
      "557it [05:02,  1.51it/s]"
     ]
    },
    {
     "name": "stdout",
     "output_type": "stream",
     "text": [
      "sox WARN rate: rate clipped 17 samples; decrease volume?\r\n",
      "sox WARN dither: dither clipped 16 samples; decrease volume?\r\n"
     ]
    },
    {
     "name": "stderr",
     "output_type": "stream",
     "text": [
      "\r",
      "558it [05:03,  1.60it/s]"
     ]
    },
    {
     "name": "stdout",
     "output_type": "stream",
     "text": [
      "sox WARN rate: rate clipped 6 samples; decrease volume?\r\n",
      "sox WARN dither: dither clipped 4 samples; decrease volume?\r\n"
     ]
    },
    {
     "name": "stderr",
     "output_type": "stream",
     "text": [
      "\r",
      "559it [05:04,  1.52it/s]"
     ]
    },
    {
     "name": "stdout",
     "output_type": "stream",
     "text": [
      "sox WARN rate: rate clipped 18 samples; decrease volume?\r\n",
      "sox WARN dither: dither clipped 16 samples; decrease volume?\r\n"
     ]
    },
    {
     "name": "stderr",
     "output_type": "stream",
     "text": [
      "\r",
      "560it [05:04,  1.62it/s]"
     ]
    },
    {
     "name": "stdout",
     "output_type": "stream",
     "text": [
      "sox WARN rate: rate clipped 19 samples; decrease volume?\r\n",
      "sox WARN dither: dither clipped 15 samples; decrease volume?\r\n"
     ]
    },
    {
     "name": "stderr",
     "output_type": "stream",
     "text": [
      "\r",
      "561it [05:05,  1.69it/s]"
     ]
    },
    {
     "name": "stdout",
     "output_type": "stream",
     "text": [
      "sox WARN rate: rate clipped 19 samples; decrease volume?\r\n",
      "sox WARN dither: dither clipped 16 samples; decrease volume?\r\n"
     ]
    },
    {
     "name": "stderr",
     "output_type": "stream",
     "text": [
      "563it [05:06,  1.62it/s]"
     ]
    },
    {
     "name": "stdout",
     "output_type": "stream",
     "text": [
      "sox WARN rate: rate clipped 18 samples; decrease volume?\r\n",
      "sox WARN dither: dither clipped 17 samples; decrease volume?\r\n"
     ]
    },
    {
     "name": "stderr",
     "output_type": "stream",
     "text": [
      "\r",
      "564it [05:06,  1.69it/s]"
     ]
    },
    {
     "name": "stdout",
     "output_type": "stream",
     "text": [
      "sox WARN rate: rate clipped 29 samples; decrease volume?\r\n",
      "sox WARN dither: dither clipped 27 samples; decrease volume?\r\n"
     ]
    },
    {
     "name": "stderr",
     "output_type": "stream",
     "text": [
      "\r",
      "565it [05:07,  1.74it/s]"
     ]
    },
    {
     "name": "stdout",
     "output_type": "stream",
     "text": [
      "sox WARN rate: rate clipped 18 samples; decrease volume?\r\n",
      "sox WARN dither: dither clipped 16 samples; decrease volume?\r\n"
     ]
    },
    {
     "name": "stderr",
     "output_type": "stream",
     "text": [
      "\r",
      "566it [05:07,  1.79it/s]"
     ]
    },
    {
     "name": "stdout",
     "output_type": "stream",
     "text": [
      "sox WARN rate: rate clipped 18 samples; decrease volume?\r\n",
      "sox WARN dither: dither clipped 15 samples; decrease volume?\r\n"
     ]
    },
    {
     "name": "stderr",
     "output_type": "stream",
     "text": [
      "\r",
      "567it [05:08,  1.83it/s]"
     ]
    },
    {
     "name": "stdout",
     "output_type": "stream",
     "text": [
      "sox WARN rate: rate clipped 32 samples; decrease volume?\r\n",
      "sox WARN dither: dither clipped 30 samples; decrease volume?\r\n"
     ]
    },
    {
     "name": "stderr",
     "output_type": "stream",
     "text": [
      "\r",
      "568it [05:09,  1.85it/s]"
     ]
    },
    {
     "name": "stdout",
     "output_type": "stream",
     "text": [
      "sox WARN rate: rate clipped 18 samples; decrease volume?\r\n",
      "sox WARN dither: dither clipped 16 samples; decrease volume?\r\n"
     ]
    },
    {
     "name": "stderr",
     "output_type": "stream",
     "text": [
      "\r",
      "569it [05:09,  1.86it/s]"
     ]
    },
    {
     "name": "stdout",
     "output_type": "stream",
     "text": [
      "sox WARN rate: rate clipped 3 samples; decrease volume?\r\n",
      "sox WARN dither: dither clipped 3 samples; decrease volume?\r\n"
     ]
    },
    {
     "name": "stderr",
     "output_type": "stream",
     "text": [
      "\r",
      "570it [05:10,  1.53it/s]"
     ]
    },
    {
     "name": "stdout",
     "output_type": "stream",
     "text": [
      "sox WARN rate: rate clipped 2 samples; decrease volume?\r\n",
      "sox WARN dither: dither clipped 2 samples; decrease volume?\r\n"
     ]
    },
    {
     "name": "stderr",
     "output_type": "stream",
     "text": [
      "\r",
      "571it [05:11,  1.47it/s]"
     ]
    },
    {
     "name": "stdout",
     "output_type": "stream",
     "text": [
      "sox WARN rate: rate clipped 15 samples; decrease volume?\r\n",
      "sox WARN dither: dither clipped 14 samples; decrease volume?\r\n"
     ]
    },
    {
     "name": "stderr",
     "output_type": "stream",
     "text": [
      "573it [05:12,  1.39it/s]"
     ]
    },
    {
     "name": "stdout",
     "output_type": "stream",
     "text": [
      "sox WARN rate: rate clipped 19 samples; decrease volume?\r\n",
      "sox WARN dither: dither clipped 16 samples; decrease volume?\r\n"
     ]
    },
    {
     "name": "stderr",
     "output_type": "stream",
     "text": [
      "\r",
      "574it [05:13,  1.50it/s]"
     ]
    },
    {
     "name": "stdout",
     "output_type": "stream",
     "text": [
      "sox WARN rate: rate clipped 17 samples; decrease volume?\r\n",
      "sox WARN dither: dither clipped 13 samples; decrease volume?\r\n"
     ]
    },
    {
     "name": "stderr",
     "output_type": "stream",
     "text": [
      "576it [05:14,  1.41it/s]"
     ]
    },
    {
     "name": "stdout",
     "output_type": "stream",
     "text": [
      "sox WARN rate: rate clipped 18 samples; decrease volume?\r\n",
      "sox WARN dither: dither clipped 17 samples; decrease volume?\r\n"
     ]
    },
    {
     "name": "stderr",
     "output_type": "stream",
     "text": [
      "\r",
      "577it [05:15,  1.53it/s]"
     ]
    },
    {
     "name": "stdout",
     "output_type": "stream",
     "text": [
      "sox WARN rate: rate clipped 18 samples; decrease volume?\r\n",
      "sox WARN dither: dither clipped 16 samples; decrease volume?\r\n"
     ]
    },
    {
     "name": "stderr",
     "output_type": "stream",
     "text": [
      "\r",
      "578it [05:15,  1.62it/s]"
     ]
    },
    {
     "name": "stdout",
     "output_type": "stream",
     "text": [
      "sox WARN rate: rate clipped 18 samples; decrease volume?\r\n",
      "sox WARN dither: dither clipped 15 samples; decrease volume?\r\n"
     ]
    },
    {
     "name": "stderr",
     "output_type": "stream",
     "text": [
      "\r",
      "579it [05:16,  1.68it/s]"
     ]
    },
    {
     "name": "stdout",
     "output_type": "stream",
     "text": [
      "sox WARN rate: rate clipped 20 samples; decrease volume?\r\n",
      "sox WARN dither: dither clipped 18 samples; decrease volume?\r\n"
     ]
    },
    {
     "name": "stderr",
     "output_type": "stream",
     "text": [
      "\r",
      "580it [05:16,  1.73it/s]"
     ]
    },
    {
     "name": "stdout",
     "output_type": "stream",
     "text": [
      "sox WARN rate: rate clipped 18 samples; decrease volume?\r\n",
      "sox WARN dither: dither clipped 17 samples; decrease volume?\r\n"
     ]
    },
    {
     "name": "stderr",
     "output_type": "stream",
     "text": [
      "\r",
      "581it [05:17,  1.76it/s]"
     ]
    },
    {
     "name": "stdout",
     "output_type": "stream",
     "text": [
      "sox WARN rate: rate clipped 2 samples; decrease volume?\r\n",
      "sox WARN dither: dither clipped 2 samples; decrease volume?\r\n"
     ]
    },
    {
     "name": "stderr",
     "output_type": "stream",
     "text": [
      "\r",
      "582it [05:18,  1.49it/s]"
     ]
    },
    {
     "name": "stdout",
     "output_type": "stream",
     "text": [
      "sox WARN rate: rate clipped 2 samples; decrease volume?\r\n",
      "sox WARN dither: dither clipped 1 samples; decrease volume?\r\n"
     ]
    },
    {
     "name": "stderr",
     "output_type": "stream",
     "text": [
      "\r",
      "583it [05:18,  1.60it/s]"
     ]
    },
    {
     "name": "stdout",
     "output_type": "stream",
     "text": [
      "sox WARN rate: rate clipped 21 samples; decrease volume?\r\n",
      "sox WARN dither: dither clipped 18 samples; decrease volume?\r\n"
     ]
    },
    {
     "name": "stderr",
     "output_type": "stream",
     "text": [
      "\r",
      "584it [05:19,  1.67it/s]"
     ]
    },
    {
     "name": "stdout",
     "output_type": "stream",
     "text": [
      "sox WARN rate: rate clipped 17 samples; decrease volume?\r\n",
      "sox WARN dither: dither clipped 16 samples; decrease volume?\r\n"
     ]
    },
    {
     "name": "stderr",
     "output_type": "stream",
     "text": [
      "\r",
      "585it [05:19,  1.73it/s]"
     ]
    },
    {
     "name": "stdout",
     "output_type": "stream",
     "text": [
      "sox WARN rate: rate clipped 14 samples; decrease volume?\r\n",
      "sox WARN dither: dither clipped 11 samples; decrease volume?\r\n"
     ]
    },
    {
     "name": "stderr",
     "output_type": "stream",
     "text": [
      "\r",
      "586it [05:20,  1.78it/s]"
     ]
    },
    {
     "name": "stdout",
     "output_type": "stream",
     "text": [
      "sox WARN rate: rate clipped 14 samples; decrease volume?\r\n",
      "sox WARN dither: dither clipped 9 samples; decrease volume?\r\n"
     ]
    },
    {
     "name": "stderr",
     "output_type": "stream",
     "text": [
      "\r",
      "587it [05:20,  1.81it/s]"
     ]
    },
    {
     "name": "stdout",
     "output_type": "stream",
     "text": [
      "sox WARN rate: rate clipped 18 samples; decrease volume?\r\n",
      "sox WARN dither: dither clipped 14 samples; decrease volume?\r\n"
     ]
    },
    {
     "name": "stderr",
     "output_type": "stream",
     "text": [
      "\r",
      "588it [05:21,  1.82it/s]"
     ]
    },
    {
     "name": "stdout",
     "output_type": "stream",
     "text": [
      "sox WARN rate: rate clipped 16 samples; decrease volume?\r\n",
      "sox WARN dither: dither clipped 13 samples; decrease volume?\r\n"
     ]
    },
    {
     "name": "stderr",
     "output_type": "stream",
     "text": [
      "\r",
      "589it [05:21,  1.83it/s]"
     ]
    },
    {
     "name": "stdout",
     "output_type": "stream",
     "text": [
      "sox WARN rate: rate clipped 4 samples; decrease volume?\r\n",
      "sox WARN dither: dither clipped 4 samples; decrease volume?\r\n"
     ]
    },
    {
     "name": "stderr",
     "output_type": "stream",
     "text": [
      "\r",
      "590it [05:22,  1.75it/s]"
     ]
    },
    {
     "name": "stdout",
     "output_type": "stream",
     "text": [
      "sox WARN rate: rate clipped 18 samples; decrease volume?\r\n",
      "sox WARN dither: dither clipped 15 samples; decrease volume?\r\n"
     ]
    },
    {
     "name": "stderr",
     "output_type": "stream",
     "text": [
      "\r",
      "591it [05:23,  1.80it/s]"
     ]
    },
    {
     "name": "stdout",
     "output_type": "stream",
     "text": [
      "sox WARN rate: rate clipped 17 samples; decrease volume?\r\n",
      "sox WARN dither: dither clipped 17 samples; decrease volume?\r\n"
     ]
    },
    {
     "name": "stderr",
     "output_type": "stream",
     "text": [
      "\r",
      "592it [05:23,  1.82it/s]"
     ]
    },
    {
     "name": "stdout",
     "output_type": "stream",
     "text": [
      "sox WARN rate: rate clipped 18 samples; decrease volume?\r\n",
      "sox WARN dither: dither clipped 15 samples; decrease volume?\r\n"
     ]
    },
    {
     "name": "stderr",
     "output_type": "stream",
     "text": [
      "\r",
      "593it [05:24,  1.83it/s]"
     ]
    },
    {
     "name": "stdout",
     "output_type": "stream",
     "text": [
      "sox WARN rate: rate clipped 2 samples; decrease volume?\r\n",
      "sox WARN dither: dither clipped 2 samples; decrease volume?\r\n"
     ]
    },
    {
     "name": "stderr",
     "output_type": "stream",
     "text": [
      "\r",
      "594it [05:24,  1.80it/s]"
     ]
    },
    {
     "name": "stdout",
     "output_type": "stream",
     "text": [
      "sox WARN rate: rate clipped 3 samples; decrease volume?\r\n",
      "sox WARN dither: dither clipped 3 samples; decrease volume?\r\n"
     ]
    },
    {
     "name": "stderr",
     "output_type": "stream",
     "text": [
      "\r",
      "595it [05:25,  1.52it/s]"
     ]
    },
    {
     "name": "stdout",
     "output_type": "stream",
     "text": [
      "sox WARN rate: rate clipped 1052 samples; decrease volume?\r\n",
      "sox WARN dither: dither clipped 911 samples; decrease volume?\r\n"
     ]
    },
    {
     "name": "stderr",
     "output_type": "stream",
     "text": [
      "\r",
      "596it [05:26,  1.62it/s]"
     ]
    },
    {
     "name": "stdout",
     "output_type": "stream",
     "text": [
      "sox WARN rate: rate clipped 17 samples; decrease volume?\r\n",
      "sox WARN dither: dither clipped 15 samples; decrease volume?\r\n"
     ]
    },
    {
     "name": "stderr",
     "output_type": "stream",
     "text": [
      "\r",
      "597it [05:26,  1.69it/s]"
     ]
    },
    {
     "name": "stdout",
     "output_type": "stream",
     "text": [
      "sox WARN rate: rate clipped 16 samples; decrease volume?\r\n",
      "sox WARN dither: dither clipped 15 samples; decrease volume?\r\n"
     ]
    },
    {
     "name": "stderr",
     "output_type": "stream",
     "text": [
      "\r",
      "598it [05:27,  1.74it/s]"
     ]
    },
    {
     "name": "stdout",
     "output_type": "stream",
     "text": [
      "sox WARN rate: rate clipped 1 samples; decrease volume?\r\n"
     ]
    },
    {
     "name": "stderr",
     "output_type": "stream",
     "text": [
      "\r",
      "599it [05:27,  1.78it/s]"
     ]
    },
    {
     "name": "stdout",
     "output_type": "stream",
     "text": [
      "sox WARN rate: rate clipped 18 samples; decrease volume?\r\n",
      "sox WARN dither: dither clipped 17 samples; decrease volume?\r\n"
     ]
    },
    {
     "name": "stderr",
     "output_type": "stream",
     "text": [
      "\r",
      "600it [05:28,  1.81it/s]"
     ]
    },
    {
     "name": "stdout",
     "output_type": "stream",
     "text": [
      "sox WARN rate: rate clipped 16 samples; decrease volume?\r\n",
      "sox WARN dither: dither clipped 16 samples; decrease volume?\r\n"
     ]
    },
    {
     "name": "stderr",
     "output_type": "stream",
     "text": [
      "\r",
      "601it [05:28,  1.83it/s]"
     ]
    },
    {
     "name": "stdout",
     "output_type": "stream",
     "text": [
      "sox WARN rate: rate clipped 18 samples; decrease volume?\r\n",
      "sox WARN dither: dither clipped 14 samples; decrease volume?\r\n"
     ]
    },
    {
     "name": "stderr",
     "output_type": "stream",
     "text": [
      "\r",
      "602it [05:29,  1.84it/s]"
     ]
    },
    {
     "name": "stdout",
     "output_type": "stream",
     "text": [
      "sox WARN rate: rate clipped 17 samples; decrease volume?\r\n",
      "sox WARN dither: dither clipped 14 samples; decrease volume?\r\n"
     ]
    },
    {
     "name": "stderr",
     "output_type": "stream",
     "text": [
      "\r",
      "603it [05:30,  1.66it/s]"
     ]
    },
    {
     "name": "stdout",
     "output_type": "stream",
     "text": [
      "sox WARN rate: rate clipped 15 samples; decrease volume?\r\n",
      "sox WARN dither: dither clipped 14 samples; decrease volume?\r\n"
     ]
    },
    {
     "name": "stderr",
     "output_type": "stream",
     "text": [
      "\r",
      "604it [05:30,  1.72it/s]"
     ]
    },
    {
     "name": "stdout",
     "output_type": "stream",
     "text": [
      "sox WARN rate: rate clipped 19 samples; decrease volume?\r\n",
      "sox WARN dither: dither clipped 17 samples; decrease volume?\r\n"
     ]
    },
    {
     "name": "stderr",
     "output_type": "stream",
     "text": [
      "\r",
      "605it [05:31,  1.76it/s]"
     ]
    },
    {
     "name": "stdout",
     "output_type": "stream",
     "text": [
      "sox WARN rate: rate clipped 17 samples; decrease volume?\r\n",
      "sox WARN dither: dither clipped 15 samples; decrease volume?\r\n"
     ]
    },
    {
     "name": "stderr",
     "output_type": "stream",
     "text": [
      "\r",
      "606it [05:31,  1.80it/s]"
     ]
    },
    {
     "name": "stdout",
     "output_type": "stream",
     "text": [
      "sox WARN rate: rate clipped 18 samples; decrease volume?\r\n",
      "sox WARN dither: dither clipped 17 samples; decrease volume?\r\n"
     ]
    },
    {
     "name": "stderr",
     "output_type": "stream",
     "text": [
      "608it [05:33,  1.48it/s]"
     ]
    },
    {
     "name": "stdout",
     "output_type": "stream",
     "text": [
      "sox WARN rate: rate clipped 2 samples; decrease volume?\r\n",
      "sox WARN dither: dither clipped 2 samples; decrease volume?\r\n"
     ]
    },
    {
     "name": "stderr",
     "output_type": "stream",
     "text": [
      "\r",
      "609it [05:34,  1.33it/s]"
     ]
    },
    {
     "name": "stdout",
     "output_type": "stream",
     "text": [
      "sox WARN rate: rate clipped 15 samples; decrease volume?\r\n",
      "sox WARN dither: dither clipped 14 samples; decrease volume?\r\n"
     ]
    },
    {
     "name": "stderr",
     "output_type": "stream",
     "text": [
      "\r",
      "610it [05:34,  1.45it/s]"
     ]
    },
    {
     "name": "stdout",
     "output_type": "stream",
     "text": [
      "sox WARN rate: rate clipped 18 samples; decrease volume?\r\n",
      "sox WARN dither: dither clipped 15 samples; decrease volume?\r\n"
     ]
    },
    {
     "name": "stderr",
     "output_type": "stream",
     "text": [
      "\r",
      "611it [05:35,  1.56it/s]"
     ]
    },
    {
     "name": "stdout",
     "output_type": "stream",
     "text": [
      "sox WARN rate: rate clipped 18 samples; decrease volume?\r\n",
      "sox WARN dither: dither clipped 17 samples; decrease volume?\r\n"
     ]
    },
    {
     "name": "stderr",
     "output_type": "stream",
     "text": [
      "\r",
      "612it [05:35,  1.64it/s]"
     ]
    },
    {
     "name": "stdout",
     "output_type": "stream",
     "text": [
      "sox WARN rate: rate clipped 33 samples; decrease volume?\r\n",
      "sox WARN dither: dither clipped 30 samples; decrease volume?\r\n"
     ]
    },
    {
     "name": "stderr",
     "output_type": "stream",
     "text": [
      "614it [05:37,  1.46it/s]"
     ]
    },
    {
     "name": "stdout",
     "output_type": "stream",
     "text": [
      "sox WARN rate: rate clipped 17 samples; decrease volume?\r\n",
      "sox WARN dither: dither clipped 13 samples; decrease volume?\r\n"
     ]
    },
    {
     "name": "stderr",
     "output_type": "stream",
     "text": [
      "\r",
      "615it [05:37,  1.56it/s]"
     ]
    },
    {
     "name": "stdout",
     "output_type": "stream",
     "text": [
      "sox WARN rate: rate clipped 73 samples; decrease volume?\r\n",
      "sox WARN dither: dither clipped 63 samples; decrease volume?\r\n"
     ]
    },
    {
     "name": "stderr",
     "output_type": "stream",
     "text": [
      "\r",
      "616it [05:38,  1.64it/s]"
     ]
    },
    {
     "name": "stdout",
     "output_type": "stream",
     "text": [
      "sox WARN rate: rate clipped 17 samples; decrease volume?\r\n",
      "sox WARN dither: dither clipped 16 samples; decrease volume?\r\n"
     ]
    },
    {
     "name": "stderr",
     "output_type": "stream",
     "text": [
      "\r",
      "617it [05:38,  1.71it/s]"
     ]
    },
    {
     "name": "stdout",
     "output_type": "stream",
     "text": [
      "sox WARN rate: rate clipped 18 samples; decrease volume?\r\n",
      "sox WARN dither: dither clipped 15 samples; decrease volume?\r\n"
     ]
    },
    {
     "name": "stderr",
     "output_type": "stream",
     "text": [
      "\r",
      "618it [05:39,  1.75it/s]"
     ]
    },
    {
     "name": "stdout",
     "output_type": "stream",
     "text": [
      "sox WARN rate: rate clipped 23 samples; decrease volume?\r\n",
      "sox WARN dither: dither clipped 21 samples; decrease volume?\r\n"
     ]
    },
    {
     "name": "stderr",
     "output_type": "stream",
     "text": [
      "\r",
      "619it [05:39,  1.78it/s]"
     ]
    },
    {
     "name": "stdout",
     "output_type": "stream",
     "text": [
      "sox WARN rate: rate clipped 19 samples; decrease volume?\r\n",
      "sox WARN dither: dither clipped 17 samples; decrease volume?\r\n"
     ]
    },
    {
     "name": "stderr",
     "output_type": "stream",
     "text": [
      "\r",
      "620it [05:40,  1.80it/s]"
     ]
    },
    {
     "name": "stdout",
     "output_type": "stream",
     "text": [
      "sox WARN rate: rate clipped 9 samples; decrease volume?\r\n",
      "sox WARN dither: dither clipped 8 samples; decrease volume?\r\n"
     ]
    },
    {
     "name": "stderr",
     "output_type": "stream",
     "text": [
      "\r",
      "621it [05:41,  1.54it/s]"
     ]
    },
    {
     "name": "stdout",
     "output_type": "stream",
     "text": [
      "sox WARN rate: rate clipped 27 samples; decrease volume?\r\n",
      "sox WARN dither: dither clipped 23 samples; decrease volume?\r\n"
     ]
    },
    {
     "name": "stderr",
     "output_type": "stream",
     "text": [
      "\r",
      "622it [05:41,  1.63it/s]"
     ]
    },
    {
     "name": "stdout",
     "output_type": "stream",
     "text": [
      "sox WARN rate: rate clipped 17 samples; decrease volume?\r\n",
      "sox WARN dither: dither clipped 16 samples; decrease volume?\r\n"
     ]
    },
    {
     "name": "stderr",
     "output_type": "stream",
     "text": [
      "\r",
      "623it [05:42,  1.70it/s]"
     ]
    },
    {
     "name": "stdout",
     "output_type": "stream",
     "text": [
      "sox WARN rate: rate clipped 94 samples; decrease volume?\r\n",
      "sox WARN dither: dither clipped 79 samples; decrease volume?\r\n"
     ]
    },
    {
     "name": "stderr",
     "output_type": "stream",
     "text": [
      "\r",
      "624it [05:42,  1.74it/s]"
     ]
    },
    {
     "name": "stdout",
     "output_type": "stream",
     "text": [
      "sox WARN rate: rate clipped 19 samples; decrease volume?\r\n",
      "sox WARN dither: dither clipped 17 samples; decrease volume?\r\n"
     ]
    },
    {
     "name": "stderr",
     "output_type": "stream",
     "text": [
      "626it [05:44,  1.63it/s]"
     ]
    },
    {
     "name": "stdout",
     "output_type": "stream",
     "text": [
      "sox WARN rate: rate clipped 4 samples; decrease volume?\r\n",
      "sox WARN dither: dither clipped 4 samples; decrease volume?\r\n"
     ]
    },
    {
     "name": "stderr",
     "output_type": "stream",
     "text": [
      "\r",
      "627it [05:45,  1.43it/s]"
     ]
    },
    {
     "name": "stdout",
     "output_type": "stream",
     "text": [
      "sox WARN rate: rate clipped 17 samples; decrease volume?\r\n",
      "sox WARN dither: dither clipped 15 samples; decrease volume?\r\n"
     ]
    },
    {
     "name": "stderr",
     "output_type": "stream",
     "text": [
      "\r",
      "628it [05:45,  1.53it/s]"
     ]
    },
    {
     "name": "stdout",
     "output_type": "stream",
     "text": [
      "sox WARN rate: rate clipped 19 samples; decrease volume?\r\n",
      "sox WARN dither: dither clipped 18 samples; decrease volume?\r\n"
     ]
    },
    {
     "name": "stderr",
     "output_type": "stream",
     "text": [
      "630it [05:46,  1.54it/s]"
     ]
    },
    {
     "name": "stdout",
     "output_type": "stream",
     "text": [
      "sox WARN rate: rate clipped 17 samples; decrease volume?\r\n",
      "sox WARN dither: dither clipped 17 samples; decrease volume?\r\n"
     ]
    },
    {
     "name": "stderr",
     "output_type": "stream",
     "text": [
      "\r",
      "631it [05:47,  1.62it/s]"
     ]
    },
    {
     "name": "stdout",
     "output_type": "stream",
     "text": [
      "sox WARN rate: rate clipped 12 samples; decrease volume?\r\n",
      "sox WARN dither: dither clipped 9 samples; decrease volume?\r\n"
     ]
    },
    {
     "name": "stderr",
     "output_type": "stream",
     "text": [
      "\r",
      "632it [05:47,  1.67it/s]"
     ]
    },
    {
     "name": "stdout",
     "output_type": "stream",
     "text": [
      "sox WARN rate: rate clipped 18 samples; decrease volume?\r\n",
      "sox WARN dither: dither clipped 14 samples; decrease volume?\r\n"
     ]
    },
    {
     "name": "stderr",
     "output_type": "stream",
     "text": [
      "\r",
      "633it [05:48,  1.72it/s]"
     ]
    },
    {
     "name": "stdout",
     "output_type": "stream",
     "text": [
      "sox WARN rate: rate clipped 20 samples; decrease volume?\r\n",
      "sox WARN dither: dither clipped 20 samples; decrease volume?\r\n"
     ]
    },
    {
     "name": "stderr",
     "output_type": "stream",
     "text": [
      "635it [05:49,  1.49it/s]"
     ]
    },
    {
     "name": "stdout",
     "output_type": "stream",
     "text": [
      "sox WARN rate: rate clipped 18 samples; decrease volume?\r\n",
      "sox WARN dither: dither clipped 17 samples; decrease volume?\r\n"
     ]
    },
    {
     "name": "stderr",
     "output_type": "stream",
     "text": [
      "\r",
      "636it [05:50,  1.59it/s]"
     ]
    },
    {
     "name": "stdout",
     "output_type": "stream",
     "text": [
      "sox WARN rate: rate clipped 261 samples; decrease volume?\r\n",
      "sox WARN dither: dither clipped 230 samples; decrease volume?\r\n"
     ]
    },
    {
     "name": "stderr",
     "output_type": "stream",
     "text": [
      "\r",
      "637it [05:51,  1.67it/s]"
     ]
    },
    {
     "name": "stdout",
     "output_type": "stream",
     "text": [
      "sox WARN rate: rate clipped 18 samples; decrease volume?\r\n",
      "sox WARN dither: dither clipped 18 samples; decrease volume?\r\n"
     ]
    },
    {
     "name": "stderr",
     "output_type": "stream",
     "text": [
      "\r",
      "638it [05:51,  1.72it/s]"
     ]
    },
    {
     "name": "stdout",
     "output_type": "stream",
     "text": [
      "sox WARN rate: rate clipped 6 samples; decrease volume?\r\n",
      "sox WARN dither: dither clipped 5 samples; decrease volume?\r\n"
     ]
    },
    {
     "name": "stderr",
     "output_type": "stream",
     "text": [
      "\r",
      "639it [05:52,  1.51it/s]"
     ]
    },
    {
     "name": "stdout",
     "output_type": "stream",
     "text": [
      "sox WARN rate: rate clipped 19 samples; decrease volume?\r\n",
      "sox WARN dither: dither clipped 19 samples; decrease volume?\r\n"
     ]
    },
    {
     "name": "stderr",
     "output_type": "stream",
     "text": [
      "\r",
      "640it [05:52,  1.60it/s]"
     ]
    },
    {
     "name": "stdout",
     "output_type": "stream",
     "text": [
      "sox WARN rate: rate clipped 26 samples; decrease volume?\r\n",
      "sox WARN dither: dither clipped 24 samples; decrease volume?\r\n"
     ]
    },
    {
     "name": "stderr",
     "output_type": "stream",
     "text": [
      "\r",
      "641it [05:53,  1.68it/s]"
     ]
    },
    {
     "name": "stdout",
     "output_type": "stream",
     "text": [
      "sox WARN rate: rate clipped 129 samples; decrease volume?\r\n",
      "sox WARN dither: dither clipped 118 samples; decrease volume?\r\n"
     ]
    },
    {
     "name": "stderr",
     "output_type": "stream",
     "text": [
      "\r",
      "642it [05:54,  1.73it/s]"
     ]
    },
    {
     "name": "stdout",
     "output_type": "stream",
     "text": [
      "sox WARN rate: rate clipped 22 samples; decrease volume?\r\n",
      "sox WARN dither: dither clipped 21 samples; decrease volume?\r\n"
     ]
    },
    {
     "name": "stderr",
     "output_type": "stream",
     "text": [
      "\r",
      "643it [05:54,  1.93it/s]"
     ]
    },
    {
     "name": "stdout",
     "output_type": "stream",
     "text": [
      "sox WARN rate: rate clipped 37 samples; decrease volume?\r\n",
      "sox WARN dither: dither clipped 28 samples; decrease volume?\r\n"
     ]
    },
    {
     "name": "stderr",
     "output_type": "stream",
     "text": [
      "\r",
      "644it [05:55,  1.57it/s]"
     ]
    },
    {
     "name": "stdout",
     "output_type": "stream",
     "text": [
      "sox WARN rate: rate clipped 16 samples; decrease volume?\r\n",
      "sox WARN dither: dither clipped 16 samples; decrease volume?\r\n"
     ]
    },
    {
     "name": "stderr",
     "output_type": "stream",
     "text": [
      "\r",
      "645it [05:55,  1.65it/s]"
     ]
    },
    {
     "name": "stdout",
     "output_type": "stream",
     "text": [
      "sox WARN rate: rate clipped 18 samples; decrease volume?\r\n",
      "sox WARN dither: dither clipped 18 samples; decrease volume?\r\n"
     ]
    },
    {
     "name": "stderr",
     "output_type": "stream",
     "text": [
      "\r",
      "646it [05:56,  1.71it/s]"
     ]
    },
    {
     "name": "stdout",
     "output_type": "stream",
     "text": [
      "sox WARN rate: rate clipped 18 samples; decrease volume?\r\n",
      "sox WARN dither: dither clipped 16 samples; decrease volume?\r\n"
     ]
    },
    {
     "name": "stderr",
     "output_type": "stream",
     "text": [
      "\r",
      "647it [05:56,  1.76it/s]"
     ]
    },
    {
     "name": "stdout",
     "output_type": "stream",
     "text": [
      "sox WARN rate: rate clipped 19 samples; decrease volume?\r\n",
      "sox WARN dither: dither clipped 18 samples; decrease volume?\r\n"
     ]
    },
    {
     "name": "stderr",
     "output_type": "stream",
     "text": [
      "\r",
      "648it [05:57,  1.79it/s]"
     ]
    },
    {
     "name": "stdout",
     "output_type": "stream",
     "text": [
      "sox WARN rate: rate clipped 89 samples; decrease volume?\r\n",
      "sox WARN dither: dither clipped 82 samples; decrease volume?\r\n"
     ]
    },
    {
     "name": "stderr",
     "output_type": "stream",
     "text": [
      "\r",
      "649it [05:57,  1.81it/s]"
     ]
    },
    {
     "name": "stdout",
     "output_type": "stream",
     "text": [
      "sox WARN rate: rate clipped 19 samples; decrease volume?\r\n",
      "sox WARN dither: dither clipped 16 samples; decrease volume?\r\n"
     ]
    },
    {
     "name": "stderr",
     "output_type": "stream",
     "text": [
      "\r",
      "650it [05:58,  1.51it/s]"
     ]
    },
    {
     "name": "stdout",
     "output_type": "stream",
     "text": [
      "sox WARN rate: rate clipped 17 samples; decrease volume?\r\n",
      "sox WARN dither: dither clipped 16 samples; decrease volume?\r\n"
     ]
    },
    {
     "name": "stderr",
     "output_type": "stream",
     "text": [
      "\r",
      "651it [05:59,  1.60it/s]"
     ]
    },
    {
     "name": "stdout",
     "output_type": "stream",
     "text": [
      "sox WARN rate: rate clipped 345 samples; decrease volume?\r\n",
      "sox WARN dither: dither clipped 301 samples; decrease volume?\r\n"
     ]
    },
    {
     "name": "stderr",
     "output_type": "stream",
     "text": [
      "\r",
      "652it [06:00,  1.56it/s]"
     ]
    },
    {
     "name": "stdout",
     "output_type": "stream",
     "text": [
      "sox WARN rate: rate clipped 43 samples; decrease volume?\r\n",
      "sox WARN dither: dither clipped 36 samples; decrease volume?\r\n"
     ]
    },
    {
     "name": "stderr",
     "output_type": "stream",
     "text": [
      "\r",
      "653it [06:00,  1.66it/s]"
     ]
    },
    {
     "name": "stdout",
     "output_type": "stream",
     "text": [
      "sox WARN rate: rate clipped 458 samples; decrease volume?\r\n",
      "sox WARN dither: dither clipped 409 samples; decrease volume?\r\n"
     ]
    },
    {
     "name": "stderr",
     "output_type": "stream",
     "text": [
      "\r",
      "654it [06:01,  1.42it/s]"
     ]
    },
    {
     "name": "stdout",
     "output_type": "stream",
     "text": [
      "sox WARN rate: rate clipped 16 samples; decrease volume?\r\n",
      "sox WARN dither: dither clipped 14 samples; decrease volume?\r\n"
     ]
    },
    {
     "name": "stderr",
     "output_type": "stream",
     "text": [
      "\r",
      "655it [06:02,  1.54it/s]"
     ]
    },
    {
     "name": "stdout",
     "output_type": "stream",
     "text": [
      "sox WARN rate: rate clipped 19 samples; decrease volume?\r\n",
      "sox WARN dither: dither clipped 18 samples; decrease volume?\r\n"
     ]
    },
    {
     "name": "stderr",
     "output_type": "stream",
     "text": [
      "\r",
      "656it [06:02,  1.59it/s]"
     ]
    },
    {
     "name": "stdout",
     "output_type": "stream",
     "text": [
      "sox WARN rate: rate clipped 15 samples; decrease volume?\r\n",
      "sox WARN dither: dither clipped 12 samples; decrease volume?\r\n"
     ]
    },
    {
     "name": "stderr",
     "output_type": "stream",
     "text": [
      "\r",
      "657it [06:03,  1.66it/s]"
     ]
    },
    {
     "name": "stdout",
     "output_type": "stream",
     "text": [
      "sox WARN rate: rate clipped 18 samples; decrease volume?\r\n",
      "sox WARN dither: dither clipped 16 samples; decrease volume?\r\n"
     ]
    },
    {
     "name": "stderr",
     "output_type": "stream",
     "text": [
      "\r",
      "658it [06:03,  1.73it/s]"
     ]
    },
    {
     "name": "stdout",
     "output_type": "stream",
     "text": [
      "sox WARN rate: rate clipped 19 samples; decrease volume?\r\n",
      "sox WARN dither: dither clipped 17 samples; decrease volume?\r\n"
     ]
    },
    {
     "name": "stderr",
     "output_type": "stream",
     "text": [
      "\r",
      "659it [06:04,  1.77it/s]"
     ]
    },
    {
     "name": "stdout",
     "output_type": "stream",
     "text": [
      "sox WARN rate: rate clipped 18 samples; decrease volume?\r\n",
      "sox WARN dither: dither clipped 16 samples; decrease volume?\r\n"
     ]
    },
    {
     "name": "stderr",
     "output_type": "stream",
     "text": [
      "\r",
      "660it [06:04,  1.78it/s]"
     ]
    },
    {
     "name": "stdout",
     "output_type": "stream",
     "text": [
      "sox WARN rate: rate clipped 18 samples; decrease volume?\r\n",
      "sox WARN dither: dither clipped 15 samples; decrease volume?\r\n"
     ]
    },
    {
     "name": "stderr",
     "output_type": "stream",
     "text": [
      "\r",
      "661it [06:05,  1.80it/s]"
     ]
    },
    {
     "name": "stdout",
     "output_type": "stream",
     "text": [
      "sox WARN rate: rate clipped 18 samples; decrease volume?\r\n",
      "sox WARN dither: dither clipped 15 samples; decrease volume?\r\n"
     ]
    },
    {
     "name": "stderr",
     "output_type": "stream",
     "text": [
      "\r",
      "662it [06:05,  1.81it/s]"
     ]
    },
    {
     "name": "stdout",
     "output_type": "stream",
     "text": [
      "sox WARN rate: rate clipped 13 samples; decrease volume?\r\n",
      "sox WARN dither: dither clipped 10 samples; decrease volume?\r\n"
     ]
    },
    {
     "name": "stderr",
     "output_type": "stream",
     "text": [
      "\r",
      "663it [06:06,  1.56it/s]"
     ]
    },
    {
     "name": "stdout",
     "output_type": "stream",
     "text": [
      "sox WARN rate: rate clipped 15 samples; decrease volume?\r\n",
      "sox WARN dither: dither clipped 13 samples; decrease volume?\r\n"
     ]
    },
    {
     "name": "stderr",
     "output_type": "stream",
     "text": [
      "\r",
      "664it [06:07,  1.64it/s]"
     ]
    },
    {
     "name": "stdout",
     "output_type": "stream",
     "text": [
      "sox WARN rate: rate clipped 19 samples; decrease volume?\r\n",
      "sox WARN dither: dither clipped 16 samples; decrease volume?\r\n"
     ]
    },
    {
     "name": "stderr",
     "output_type": "stream",
     "text": [
      "\r",
      "665it [06:07,  1.70it/s]"
     ]
    },
    {
     "name": "stdout",
     "output_type": "stream",
     "text": [
      "sox WARN rate: rate clipped 18 samples; decrease volume?\r\n",
      "sox WARN dither: dither clipped 16 samples; decrease volume?\r\n"
     ]
    },
    {
     "name": "stderr",
     "output_type": "stream",
     "text": [
      "\r",
      "666it [06:08,  1.75it/s]"
     ]
    },
    {
     "name": "stdout",
     "output_type": "stream",
     "text": [
      "sox WARN rate: rate clipped 19 samples; decrease volume?\r\n",
      "sox WARN dither: dither clipped 16 samples; decrease volume?\r\n"
     ]
    },
    {
     "name": "stderr",
     "output_type": "stream",
     "text": [
      "668it [06:09,  1.49it/s]"
     ]
    },
    {
     "name": "stdout",
     "output_type": "stream",
     "text": [
      "sox WARN rate: rate clipped 19 samples; decrease volume?\r\n",
      "sox WARN dither: dither clipped 18 samples; decrease volume?\r\n"
     ]
    },
    {
     "name": "stderr",
     "output_type": "stream",
     "text": [
      "\r",
      "669it [06:10,  1.58it/s]"
     ]
    },
    {
     "name": "stdout",
     "output_type": "stream",
     "text": [
      "sox WARN rate: rate clipped 18 samples; decrease volume?\r\n",
      "sox WARN dither: dither clipped 15 samples; decrease volume?\r\n"
     ]
    },
    {
     "name": "stderr",
     "output_type": "stream",
     "text": [
      "\r",
      "670it [06:10,  1.66it/s]"
     ]
    },
    {
     "name": "stdout",
     "output_type": "stream",
     "text": [
      "sox WARN rate: rate clipped 15 samples; decrease volume?\r\n",
      "sox WARN dither: dither clipped 11 samples; decrease volume?\r\n"
     ]
    },
    {
     "name": "stderr",
     "output_type": "stream",
     "text": [
      "\r",
      "671it [06:11,  1.72it/s]"
     ]
    },
    {
     "name": "stdout",
     "output_type": "stream",
     "text": [
      "sox WARN rate: rate clipped 17 samples; decrease volume?\r\n",
      "sox WARN dither: dither clipped 16 samples; decrease volume?\r\n"
     ]
    },
    {
     "name": "stderr",
     "output_type": "stream",
     "text": [
      "673it [06:12,  1.47it/s]"
     ]
    },
    {
     "name": "stdout",
     "output_type": "stream",
     "text": [
      "sox WARN rate: rate clipped 19 samples; decrease volume?\r\n",
      "sox WARN dither: dither clipped 18 samples; decrease volume?\r\n"
     ]
    },
    {
     "name": "stderr",
     "output_type": "stream",
     "text": [
      "675it [06:14,  1.49it/s]"
     ]
    },
    {
     "name": "stdout",
     "output_type": "stream",
     "text": [
      "sox WARN rate: rate clipped 17 samples; decrease volume?\r\n",
      "sox WARN dither: dither clipped 13 samples; decrease volume?\r\n"
     ]
    },
    {
     "name": "stderr",
     "output_type": "stream",
     "text": [
      "677it [06:15,  1.40it/s]"
     ]
    },
    {
     "name": "stdout",
     "output_type": "stream",
     "text": [
      "sox WARN rate: rate clipped 19 samples; decrease volume?\r\n",
      "sox WARN dither: dither clipped 18 samples; decrease volume?\r\n"
     ]
    },
    {
     "name": "stderr",
     "output_type": "stream",
     "text": [
      "\r",
      "678it [06:16,  1.52it/s]"
     ]
    },
    {
     "name": "stdout",
     "output_type": "stream",
     "text": [
      "sox WARN rate: rate clipped 18 samples; decrease volume?\r\n",
      "sox WARN dither: dither clipped 17 samples; decrease volume?\r\n"
     ]
    },
    {
     "name": "stderr",
     "output_type": "stream",
     "text": [
      "\r",
      "679it [06:16,  1.61it/s]"
     ]
    },
    {
     "name": "stdout",
     "output_type": "stream",
     "text": [
      "sox WARN rate: rate clipped 17 samples; decrease volume?\r\n",
      "sox WARN dither: dither clipped 14 samples; decrease volume?\r\n"
     ]
    },
    {
     "name": "stderr",
     "output_type": "stream",
     "text": [
      "\r",
      "680it [06:17,  1.68it/s]"
     ]
    },
    {
     "name": "stdout",
     "output_type": "stream",
     "text": [
      "sox WARN rate: rate clipped 18 samples; decrease volume?\r\n",
      "sox WARN dither: dither clipped 16 samples; decrease volume?\r\n"
     ]
    },
    {
     "name": "stderr",
     "output_type": "stream",
     "text": [
      "\r",
      "681it [06:17,  1.74it/s]"
     ]
    },
    {
     "name": "stdout",
     "output_type": "stream",
     "text": [
      "sox WARN rate: rate clipped 17 samples; decrease volume?\r\n",
      "sox WARN dither: dither clipped 15 samples; decrease volume?\r\n"
     ]
    },
    {
     "name": "stderr",
     "output_type": "stream",
     "text": [
      "683it [06:19,  1.49it/s]"
     ]
    },
    {
     "name": "stdout",
     "output_type": "stream",
     "text": [
      "sox WARN rate: rate clipped 18 samples; decrease volume?\r\n",
      "sox WARN dither: dither clipped 14 samples; decrease volume?\r\n"
     ]
    },
    {
     "name": "stderr",
     "output_type": "stream",
     "text": [
      "\r",
      "684it [06:19,  1.59it/s]"
     ]
    },
    {
     "name": "stdout",
     "output_type": "stream",
     "text": [
      "sox WARN rate: rate clipped 19 samples; decrease volume?\r\n",
      "sox WARN dither: dither clipped 15 samples; decrease volume?\r\n"
     ]
    },
    {
     "name": "stderr",
     "output_type": "stream",
     "text": [
      "\r",
      "685it [06:20,  1.66it/s]"
     ]
    },
    {
     "name": "stdout",
     "output_type": "stream",
     "text": [
      "sox WARN rate: rate clipped 19 samples; decrease volume?\r\n",
      "sox WARN dither: dither clipped 16 samples; decrease volume?\r\n"
     ]
    },
    {
     "name": "stderr",
     "output_type": "stream",
     "text": [
      "\r",
      "686it [06:20,  1.72it/s]"
     ]
    },
    {
     "name": "stdout",
     "output_type": "stream",
     "text": [
      "sox WARN rate: rate clipped 16 samples; decrease volume?\r\n",
      "sox WARN dither: dither clipped 14 samples; decrease volume?\r\n"
     ]
    },
    {
     "name": "stderr",
     "output_type": "stream",
     "text": [
      "688it [06:22,  1.48it/s]"
     ]
    },
    {
     "name": "stdout",
     "output_type": "stream",
     "text": [
      "sox WARN rate: rate clipped 18 samples; decrease volume?\r\n",
      "sox WARN dither: dither clipped 14 samples; decrease volume?\r\n"
     ]
    },
    {
     "name": "stderr",
     "output_type": "stream",
     "text": [
      "\r",
      "689it [06:22,  1.59it/s]"
     ]
    },
    {
     "name": "stdout",
     "output_type": "stream",
     "text": [
      "sox WARN rate: rate clipped 18 samples; decrease volume?\r\n",
      "sox WARN dither: dither clipped 15 samples; decrease volume?\r\n"
     ]
    },
    {
     "name": "stderr",
     "output_type": "stream",
     "text": [
      "\r",
      "690it [06:23,  1.66it/s]"
     ]
    },
    {
     "name": "stdout",
     "output_type": "stream",
     "text": [
      "sox WARN rate: rate clipped 17 samples; decrease volume?\r\n",
      "sox WARN dither: dither clipped 15 samples; decrease volume?\r\n"
     ]
    },
    {
     "name": "stderr",
     "output_type": "stream",
     "text": [
      "\r",
      "691it [06:23,  1.70it/s]"
     ]
    },
    {
     "name": "stdout",
     "output_type": "stream",
     "text": [
      "sox WARN rate: rate clipped 17 samples; decrease volume?\r\n",
      "sox WARN dither: dither clipped 13 samples; decrease volume?\r\n"
     ]
    },
    {
     "name": "stderr",
     "output_type": "stream",
     "text": [
      "\r",
      "692it [06:24,  1.75it/s]"
     ]
    },
    {
     "name": "stdout",
     "output_type": "stream",
     "text": [
      "sox WARN rate: rate clipped 17 samples; decrease volume?\r\n",
      "sox WARN dither: dither clipped 14 samples; decrease volume?\r\n"
     ]
    },
    {
     "name": "stderr",
     "output_type": "stream",
     "text": [
      "\r",
      "693it [06:24,  1.79it/s]"
     ]
    },
    {
     "name": "stdout",
     "output_type": "stream",
     "text": [
      "sox WARN rate: rate clipped 11 samples; decrease volume?\r\n",
      "sox WARN dither: dither clipped 10 samples; decrease volume?\r\n"
     ]
    },
    {
     "name": "stderr",
     "output_type": "stream",
     "text": [
      "\r",
      "694it [06:25,  1.55it/s]"
     ]
    },
    {
     "name": "stdout",
     "output_type": "stream",
     "text": [
      "sox WARN rate: rate clipped 187 samples; decrease volume?\r\n",
      "sox WARN dither: dither clipped 160 samples; decrease volume?\r\n"
     ]
    },
    {
     "name": "stderr",
     "output_type": "stream",
     "text": [
      "\r",
      "695it [06:26,  1.63it/s]"
     ]
    },
    {
     "name": "stdout",
     "output_type": "stream",
     "text": [
      "sox WARN rate: rate clipped 15 samples; decrease volume?\r\n",
      "sox WARN dither: dither clipped 12 samples; decrease volume?\r\n"
     ]
    },
    {
     "name": "stderr",
     "output_type": "stream",
     "text": [
      "\r",
      "696it [06:26,  1.70it/s]"
     ]
    },
    {
     "name": "stdout",
     "output_type": "stream",
     "text": [
      "sox WARN rate: rate clipped 19 samples; decrease volume?\r\n",
      "sox WARN dither: dither clipped 16 samples; decrease volume?\r\n"
     ]
    },
    {
     "name": "stderr",
     "output_type": "stream",
     "text": [
      "698it [06:28,  1.47it/s]"
     ]
    },
    {
     "name": "stdout",
     "output_type": "stream",
     "text": [
      "sox WARN rate: rate clipped 97 samples; decrease volume?\r\n",
      "sox WARN dither: dither clipped 82 samples; decrease volume?\r\n"
     ]
    },
    {
     "name": "stderr",
     "output_type": "stream",
     "text": [
      "\r",
      "699it [06:28,  1.57it/s]"
     ]
    },
    {
     "name": "stdout",
     "output_type": "stream",
     "text": [
      "sox WARN rate: rate clipped 18 samples; decrease volume?\r\n",
      "sox WARN dither: dither clipped 16 samples; decrease volume?\r\n"
     ]
    },
    {
     "name": "stderr",
     "output_type": "stream",
     "text": [
      "\r",
      "700it [06:29,  1.65it/s]"
     ]
    },
    {
     "name": "stdout",
     "output_type": "stream",
     "text": [
      "sox WARN rate: rate clipped 52 samples; decrease volume?\r\n",
      "sox WARN dither: dither clipped 47 samples; decrease volume?\r\n"
     ]
    },
    {
     "name": "stderr",
     "output_type": "stream",
     "text": [
      "\r",
      "701it [06:29,  1.71it/s]"
     ]
    },
    {
     "name": "stdout",
     "output_type": "stream",
     "text": [
      "sox WARN rate: rate clipped 17 samples; decrease volume?\r\n",
      "sox WARN dither: dither clipped 16 samples; decrease volume?\r\n"
     ]
    },
    {
     "name": "stderr",
     "output_type": "stream",
     "text": [
      "\r",
      "702it [06:30,  1.76it/s]"
     ]
    },
    {
     "name": "stdout",
     "output_type": "stream",
     "text": [
      "sox WARN rate: rate clipped 17 samples; decrease volume?\r\n",
      "sox WARN dither: dither clipped 14 samples; decrease volume?\r\n"
     ]
    },
    {
     "name": "stderr",
     "output_type": "stream",
     "text": [
      "\r",
      "703it [06:31,  1.79it/s]"
     ]
    },
    {
     "name": "stdout",
     "output_type": "stream",
     "text": [
      "sox WARN rate: rate clipped 19 samples; decrease volume?\r\n",
      "sox WARN dither: dither clipped 9 samples; decrease volume?\r\n"
     ]
    },
    {
     "name": "stderr",
     "output_type": "stream",
     "text": [
      "\r",
      "704it [06:31,  1.81it/s]"
     ]
    },
    {
     "name": "stdout",
     "output_type": "stream",
     "text": [
      "sox WARN rate: rate clipped 47 samples; decrease volume?\r\n",
      "sox WARN dither: dither clipped 41 samples; decrease volume?\r\n"
     ]
    },
    {
     "name": "stderr",
     "output_type": "stream",
     "text": [
      "706it [06:33,  1.51it/s]"
     ]
    },
    {
     "name": "stdout",
     "output_type": "stream",
     "text": [
      "sox WARN rate: rate clipped 15 samples; decrease volume?\r\n",
      "sox WARN dither: dither clipped 14 samples; decrease volume?\r\n"
     ]
    },
    {
     "name": "stderr",
     "output_type": "stream",
     "text": [
      "708it [06:34,  1.40it/s]"
     ]
    },
    {
     "name": "stdout",
     "output_type": "stream",
     "text": [
      "sox WARN rate: rate clipped 17 samples; decrease volume?\r\n",
      "sox WARN dither: dither clipped 16 samples; decrease volume?\r\n"
     ]
    },
    {
     "name": "stderr",
     "output_type": "stream",
     "text": [
      "\r",
      "709it [06:35,  1.51it/s]"
     ]
    },
    {
     "name": "stdout",
     "output_type": "stream",
     "text": [
      "sox WARN rate: rate clipped 18 samples; decrease volume?\r\n",
      "sox WARN dither: dither clipped 17 samples; decrease volume?\r\n"
     ]
    },
    {
     "name": "stderr",
     "output_type": "stream",
     "text": [
      "\r",
      "710it [06:35,  1.61it/s]"
     ]
    },
    {
     "name": "stdout",
     "output_type": "stream",
     "text": [
      "sox WARN rate: rate clipped 17 samples; decrease volume?\r\n",
      "sox WARN dither: dither clipped 17 samples; decrease volume?\r\n"
     ]
    },
    {
     "name": "stderr",
     "output_type": "stream",
     "text": [
      "\r",
      "711it [06:36,  1.67it/s]"
     ]
    },
    {
     "name": "stdout",
     "output_type": "stream",
     "text": [
      "sox WARN rate: rate clipped 7 samples; decrease volume?\r\n",
      "sox WARN dither: dither clipped 6 samples; decrease volume?\r\n"
     ]
    },
    {
     "name": "stderr",
     "output_type": "stream",
     "text": [
      "\r",
      "712it [06:36,  1.57it/s]"
     ]
    },
    {
     "name": "stdout",
     "output_type": "stream",
     "text": [
      "sox WARN rate: rate clipped 362 samples; decrease volume?\r\n",
      "sox WARN dither: dither clipped 318 samples; decrease volume?\r\n"
     ]
    },
    {
     "name": "stderr",
     "output_type": "stream",
     "text": [
      "\r",
      "713it [06:37,  1.50it/s]"
     ]
    },
    {
     "name": "stdout",
     "output_type": "stream",
     "text": [
      "sox WARN rate: rate clipped 17 samples; decrease volume?\r\n",
      "sox WARN dither: dither clipped 16 samples; decrease volume?\r\n"
     ]
    },
    {
     "name": "stderr",
     "output_type": "stream",
     "text": [
      "\r",
      "714it [06:38,  1.58it/s]"
     ]
    },
    {
     "name": "stdout",
     "output_type": "stream",
     "text": [
      "sox WARN rate: rate clipped 15 samples; decrease volume?\r\n",
      "sox WARN dither: dither clipped 14 samples; decrease volume?\r\n"
     ]
    },
    {
     "name": "stderr",
     "output_type": "stream",
     "text": [
      "\r",
      "715it [06:38,  1.66it/s]"
     ]
    },
    {
     "name": "stdout",
     "output_type": "stream",
     "text": [
      "sox WARN rate: rate clipped 5 samples; decrease volume?\r\n",
      "sox WARN dither: dither clipped 5 samples; decrease volume?\r\n"
     ]
    },
    {
     "name": "stderr",
     "output_type": "stream",
     "text": [
      "\r",
      "716it [06:39,  1.43it/s]"
     ]
    },
    {
     "name": "stdout",
     "output_type": "stream",
     "text": [
      "sox WARN rate: rate clipped 17 samples; decrease volume?\r\n",
      "sox WARN dither: dither clipped 17 samples; decrease volume?\r\n"
     ]
    },
    {
     "name": "stderr",
     "output_type": "stream",
     "text": [
      "\r",
      "717it [06:40,  1.54it/s]"
     ]
    },
    {
     "name": "stdout",
     "output_type": "stream",
     "text": [
      "sox WARN rate: rate clipped 99 samples; decrease volume?\r\n",
      "sox WARN dither: dither clipped 84 samples; decrease volume?\r\n"
     ]
    },
    {
     "name": "stderr",
     "output_type": "stream",
     "text": [
      "\r",
      "718it [06:40,  1.64it/s]"
     ]
    },
    {
     "name": "stdout",
     "output_type": "stream",
     "text": [
      "sox WARN rate: rate clipped 17 samples; decrease volume?\r\n",
      "sox WARN dither: dither clipped 15 samples; decrease volume?\r\n"
     ]
    },
    {
     "name": "stderr",
     "output_type": "stream",
     "text": [
      "\r",
      "719it [06:41,  1.71it/s]"
     ]
    },
    {
     "name": "stdout",
     "output_type": "stream",
     "text": [
      "sox WARN rate: rate clipped 18 samples; decrease volume?\r\n",
      "sox WARN dither: dither clipped 16 samples; decrease volume?\r\n"
     ]
    },
    {
     "name": "stderr",
     "output_type": "stream",
     "text": [
      "\r",
      "720it [06:41,  1.74it/s]"
     ]
    },
    {
     "name": "stdout",
     "output_type": "stream",
     "text": [
      "sox WARN rate: rate clipped 1 samples; decrease volume?\r\n",
      "sox WARN dither: dither clipped 1 samples; decrease volume?\r\n"
     ]
    },
    {
     "name": "stderr",
     "output_type": "stream",
     "text": [
      "\r",
      "721it [06:42,  1.54it/s]"
     ]
    },
    {
     "name": "stdout",
     "output_type": "stream",
     "text": [
      "sox WARN rate: rate clipped 4 samples; decrease volume?\r\n",
      "sox WARN dither: dither clipped 3 samples; decrease volume?\r\n"
     ]
    },
    {
     "name": "stderr",
     "output_type": "stream",
     "text": [
      "\r",
      "722it [06:43,  1.35it/s]"
     ]
    },
    {
     "name": "stdout",
     "output_type": "stream",
     "text": [
      "sox WARN rate: rate clipped 28 samples; decrease volume?\r\n",
      "sox WARN dither: dither clipped 25 samples; decrease volume?\r\n"
     ]
    },
    {
     "name": "stderr",
     "output_type": "stream",
     "text": [
      "724it [06:44,  1.33it/s]"
     ]
    },
    {
     "name": "stdout",
     "output_type": "stream",
     "text": [
      "sox WARN rate: rate clipped 19 samples; decrease volume?\r\n",
      "sox WARN dither: dither clipped 16 samples; decrease volume?\r\n"
     ]
    },
    {
     "name": "stderr",
     "output_type": "stream",
     "text": [
      "\r",
      "725it [06:45,  1.45it/s]"
     ]
    },
    {
     "name": "stdout",
     "output_type": "stream",
     "text": [
      "sox WARN rate: rate clipped 48 samples; decrease volume?\r\n",
      "sox WARN dither: dither clipped 44 samples; decrease volume?\r\n"
     ]
    },
    {
     "name": "stderr",
     "output_type": "stream",
     "text": [
      "728it [06:48,  1.18it/s]"
     ]
    },
    {
     "name": "stdout",
     "output_type": "stream",
     "text": [
      "sox WARN rate: rate clipped 18 samples; decrease volume?\r\n",
      "sox WARN dither: dither clipped 12 samples; decrease volume?\r\n"
     ]
    },
    {
     "name": "stderr",
     "output_type": "stream",
     "text": [
      "\r",
      "729it [06:48,  1.32it/s]"
     ]
    },
    {
     "name": "stdout",
     "output_type": "stream",
     "text": [
      "sox WARN rate: rate clipped 18 samples; decrease volume?\r\n",
      "sox WARN dither: dither clipped 17 samples; decrease volume?\r\n"
     ]
    },
    {
     "name": "stderr",
     "output_type": "stream",
     "text": [
      "\r",
      "730it [06:49,  1.45it/s]"
     ]
    },
    {
     "name": "stdout",
     "output_type": "stream",
     "text": [
      "sox WARN rate: rate clipped 18 samples; decrease volume?\r\n",
      "sox WARN dither: dither clipped 16 samples; decrease volume?\r\n"
     ]
    },
    {
     "name": "stderr",
     "output_type": "stream",
     "text": [
      "\r",
      "731it [06:49,  1.55it/s]"
     ]
    },
    {
     "name": "stdout",
     "output_type": "stream",
     "text": [
      "sox WARN rate: rate clipped 17 samples; decrease volume?\r\n",
      "sox WARN dither: dither clipped 15 samples; decrease volume?\r\n"
     ]
    },
    {
     "name": "stderr",
     "output_type": "stream",
     "text": [
      "\r",
      "732it [06:50,  1.37it/s]"
     ]
    },
    {
     "name": "stdout",
     "output_type": "stream",
     "text": [
      "sox WARN rate: rate clipped 19 samples; decrease volume?\r\n",
      "sox WARN dither: dither clipped 17 samples; decrease volume?\r\n"
     ]
    },
    {
     "name": "stderr",
     "output_type": "stream",
     "text": [
      "\r",
      "733it [06:51,  1.50it/s]"
     ]
    },
    {
     "name": "stdout",
     "output_type": "stream",
     "text": [
      "sox WARN rate: rate clipped 17 samples; decrease volume?\r\n",
      "sox WARN dither: dither clipped 15 samples; decrease volume?\r\n"
     ]
    },
    {
     "name": "stderr",
     "output_type": "stream",
     "text": [
      "\r",
      "734it [06:51,  1.60it/s]"
     ]
    },
    {
     "name": "stdout",
     "output_type": "stream",
     "text": [
      "sox WARN rate: rate clipped 17 samples; decrease volume?\r\n",
      "sox WARN dither: dither clipped 17 samples; decrease volume?\r\n"
     ]
    },
    {
     "name": "stderr",
     "output_type": "stream",
     "text": [
      "\r",
      "735it [06:52,  1.67it/s]"
     ]
    },
    {
     "name": "stdout",
     "output_type": "stream",
     "text": [
      "sox WARN rate: rate clipped 19 samples; decrease volume?\r\n",
      "sox WARN dither: dither clipped 16 samples; decrease volume?\r\n"
     ]
    },
    {
     "name": "stderr",
     "output_type": "stream",
     "text": [
      "\r",
      "736it [06:52,  1.73it/s]"
     ]
    },
    {
     "name": "stdout",
     "output_type": "stream",
     "text": [
      "sox WARN rate: rate clipped 19 samples; decrease volume?\r\n",
      "sox WARN dither: dither clipped 14 samples; decrease volume?\r\n"
     ]
    },
    {
     "name": "stderr",
     "output_type": "stream",
     "text": [
      "\r",
      "737it [06:53,  1.46it/s]"
     ]
    },
    {
     "name": "stdout",
     "output_type": "stream",
     "text": [
      "sox WARN rate: rate clipped 132 samples; decrease volume?\r\n",
      "sox WARN dither: dither clipped 120 samples; decrease volume?\r\n"
     ]
    },
    {
     "name": "stderr",
     "output_type": "stream",
     "text": [
      "\r",
      "738it [06:54,  1.57it/s]"
     ]
    },
    {
     "name": "stdout",
     "output_type": "stream",
     "text": [
      "sox WARN rate: rate clipped 27 samples; decrease volume?\r\n",
      "sox WARN dither: dither clipped 23 samples; decrease volume?\r\n"
     ]
    },
    {
     "name": "stderr",
     "output_type": "stream",
     "text": [
      "\r",
      "739it [06:54,  1.65it/s]"
     ]
    },
    {
     "name": "stdout",
     "output_type": "stream",
     "text": [
      "sox WARN rate: rate clipped 9 samples; decrease volume?\r\n",
      "sox WARN dither: dither clipped 9 samples; decrease volume?\r\n"
     ]
    },
    {
     "name": "stderr",
     "output_type": "stream",
     "text": [
      "\r",
      "740it [06:55,  1.50it/s]"
     ]
    },
    {
     "name": "stdout",
     "output_type": "stream",
     "text": [
      "sox WARN rate: rate clipped 139 samples; decrease volume?\r\n",
      "sox WARN dither: dither clipped 120 samples; decrease volume?\r\n"
     ]
    },
    {
     "name": "stderr",
     "output_type": "stream",
     "text": [
      "\r",
      "741it [06:56,  1.59it/s]"
     ]
    },
    {
     "name": "stdout",
     "output_type": "stream",
     "text": [
      "sox WARN rate: rate clipped 16 samples; decrease volume?\r\n",
      "sox WARN dither: dither clipped 12 samples; decrease volume?\r\n"
     ]
    },
    {
     "name": "stderr",
     "output_type": "stream",
     "text": [
      "\r",
      "742it [06:56,  1.66it/s]"
     ]
    },
    {
     "name": "stdout",
     "output_type": "stream",
     "text": [
      "sox WARN rate: rate clipped 18 samples; decrease volume?\r\n",
      "sox WARN dither: dither clipped 14 samples; decrease volume?\r\n"
     ]
    },
    {
     "name": "stderr",
     "output_type": "stream",
     "text": [
      "\r",
      "743it [06:57,  1.71it/s]"
     ]
    },
    {
     "name": "stdout",
     "output_type": "stream",
     "text": [
      "sox WARN rate: rate clipped 205 samples; decrease volume?\r\n",
      "sox WARN dither: dither clipped 173 samples; decrease volume?\r\n"
     ]
    },
    {
     "name": "stderr",
     "output_type": "stream",
     "text": [
      "\r",
      "744it [06:57,  1.75it/s]"
     ]
    },
    {
     "name": "stdout",
     "output_type": "stream",
     "text": [
      "sox WARN rate: rate clipped 19 samples; decrease volume?\r\n",
      "sox WARN dither: dither clipped 14 samples; decrease volume?\r\n"
     ]
    },
    {
     "name": "stderr",
     "output_type": "stream",
     "text": [
      "\r",
      "745it [06:58,  1.78it/s]"
     ]
    },
    {
     "name": "stdout",
     "output_type": "stream",
     "text": [
      "sox WARN rate: rate clipped 88 samples; decrease volume?\r\n",
      "sox WARN dither: dither clipped 77 samples; decrease volume?\r\n"
     ]
    },
    {
     "name": "stderr",
     "output_type": "stream",
     "text": [
      "\r",
      "746it [06:58,  1.80it/s]"
     ]
    },
    {
     "name": "stdout",
     "output_type": "stream",
     "text": [
      "sox WARN rate: rate clipped 29 samples; decrease volume?\r\n",
      "sox WARN dither: dither clipped 26 samples; decrease volume?\r\n"
     ]
    },
    {
     "name": "stderr",
     "output_type": "stream",
     "text": [
      "\r",
      "747it [06:59,  1.93it/s]"
     ]
    },
    {
     "name": "stdout",
     "output_type": "stream",
     "text": [
      "sox WARN rate: rate clipped 17 samples; decrease volume?\r\n",
      "sox WARN dither: dither clipped 15 samples; decrease volume?\r\n"
     ]
    },
    {
     "name": "stderr",
     "output_type": "stream",
     "text": [
      "\r",
      "748it [06:59,  1.91it/s]"
     ]
    },
    {
     "name": "stdout",
     "output_type": "stream",
     "text": [
      "sox WARN rate: rate clipped 19 samples; decrease volume?\r\n",
      "sox WARN dither: dither clipped 14 samples; decrease volume?\r\n"
     ]
    },
    {
     "name": "stderr",
     "output_type": "stream",
     "text": [
      "\r",
      "749it [07:00,  1.89it/s]"
     ]
    },
    {
     "name": "stdout",
     "output_type": "stream",
     "text": [
      "sox WARN rate: rate clipped 22 samples; decrease volume?\r\n",
      "sox WARN dither: dither clipped 21 samples; decrease volume?\r\n"
     ]
    },
    {
     "name": "stderr",
     "output_type": "stream",
     "text": [
      "\r",
      "750it [07:01,  1.88it/s]"
     ]
    },
    {
     "name": "stdout",
     "output_type": "stream",
     "text": [
      "sox WARN rate: rate clipped 309 samples; decrease volume?\r\n",
      "sox WARN dither: dither clipped 270 samples; decrease volume?\r\n"
     ]
    },
    {
     "name": "stderr",
     "output_type": "stream",
     "text": [
      "\r",
      "751it [07:01,  1.88it/s]"
     ]
    },
    {
     "name": "stdout",
     "output_type": "stream",
     "text": [
      "sox WARN rate: rate clipped 17 samples; decrease volume?\r\n",
      "sox WARN dither: dither clipped 14 samples; decrease volume?\r\n"
     ]
    },
    {
     "name": "stderr",
     "output_type": "stream",
     "text": [
      "\r",
      "752it [07:02,  1.88it/s]"
     ]
    },
    {
     "name": "stdout",
     "output_type": "stream",
     "text": [
      "sox WARN rate: rate clipped 129 samples; decrease volume?\r\n",
      "sox WARN dither: dither clipped 111 samples; decrease volume?\r\n"
     ]
    },
    {
     "name": "stderr",
     "output_type": "stream",
     "text": [
      "754it [07:03,  1.50it/s]"
     ]
    },
    {
     "name": "stdout",
     "output_type": "stream",
     "text": [
      "sox WARN rate: rate clipped 9 samples; decrease volume?\r\n",
      "sox WARN dither: dither clipped 8 samples; decrease volume?\r\n"
     ]
    },
    {
     "name": "stderr",
     "output_type": "stream",
     "text": [
      "\r",
      "755it [07:04,  1.62it/s]"
     ]
    },
    {
     "name": "stdout",
     "output_type": "stream",
     "text": [
      "sox WARN rate: rate clipped 19 samples; decrease volume?\r\n",
      "sox WARN dither: dither clipped 19 samples; decrease volume?\r\n"
     ]
    },
    {
     "name": "stderr",
     "output_type": "stream",
     "text": [
      "\r",
      "756it [07:04,  1.69it/s]"
     ]
    },
    {
     "name": "stdout",
     "output_type": "stream",
     "text": [
      "sox WARN rate: rate clipped 17 samples; decrease volume?\r\n",
      "sox WARN dither: dither clipped 13 samples; decrease volume?\r\n"
     ]
    },
    {
     "name": "stderr",
     "output_type": "stream",
     "text": [
      "\r",
      "757it [07:05,  1.73it/s]"
     ]
    },
    {
     "name": "stdout",
     "output_type": "stream",
     "text": [
      "sox WARN rate: rate clipped 528 samples; decrease volume?\r\n",
      "sox WARN dither: dither clipped 474 samples; decrease volume?\r\n"
     ]
    },
    {
     "name": "stderr",
     "output_type": "stream",
     "text": [
      "\r",
      "758it [07:05,  1.76it/s]"
     ]
    },
    {
     "name": "stdout",
     "output_type": "stream",
     "text": [
      "sox WARN rate: rate clipped 18 samples; decrease volume?\r\n",
      "sox WARN dither: dither clipped 15 samples; decrease volume?\r\n"
     ]
    },
    {
     "name": "stderr",
     "output_type": "stream",
     "text": [
      "\r",
      "759it [07:06,  1.77it/s]"
     ]
    },
    {
     "name": "stdout",
     "output_type": "stream",
     "text": [
      "sox WARN rate: rate clipped 17 samples; decrease volume?\r\n",
      "sox WARN dither: dither clipped 17 samples; decrease volume?\r\n"
     ]
    },
    {
     "name": "stderr",
     "output_type": "stream",
     "text": [
      "\r",
      "760it [07:06,  1.80it/s]"
     ]
    },
    {
     "name": "stdout",
     "output_type": "stream",
     "text": [
      "sox WARN rate: rate clipped 17 samples; decrease volume?\r\n",
      "sox WARN dither: dither clipped 15 samples; decrease volume?\r\n"
     ]
    },
    {
     "name": "stderr",
     "output_type": "stream",
     "text": [
      "\r",
      "761it [07:07,  1.82it/s]"
     ]
    },
    {
     "name": "stdout",
     "output_type": "stream",
     "text": [
      "sox WARN rate: rate clipped 17 samples; decrease volume?\r\n",
      "sox WARN dither: dither clipped 16 samples; decrease volume?\r\n"
     ]
    },
    {
     "name": "stderr",
     "output_type": "stream",
     "text": [
      "\r",
      "762it [07:07,  1.83it/s]"
     ]
    },
    {
     "name": "stdout",
     "output_type": "stream",
     "text": [
      "sox WARN rate: rate clipped 18 samples; decrease volume?\r\n",
      "sox WARN dither: dither clipped 17 samples; decrease volume?\r\n"
     ]
    },
    {
     "name": "stderr",
     "output_type": "stream",
     "text": [
      "\r",
      "763it [07:08,  1.84it/s]"
     ]
    },
    {
     "name": "stdout",
     "output_type": "stream",
     "text": [
      "sox WARN rate: rate clipped 17 samples; decrease volume?\r\n",
      "sox WARN dither: dither clipped 14 samples; decrease volume?\r\n"
     ]
    },
    {
     "name": "stderr",
     "output_type": "stream",
     "text": [
      "\r",
      "764it [07:09,  1.83it/s]"
     ]
    },
    {
     "name": "stdout",
     "output_type": "stream",
     "text": [
      "sox WARN rate: rate clipped 19 samples; decrease volume?\r\n",
      "sox WARN dither: dither clipped 17 samples; decrease volume?\r\n"
     ]
    },
    {
     "name": "stderr",
     "output_type": "stream",
     "text": [
      "\r",
      "765it [07:09,  1.85it/s]"
     ]
    },
    {
     "name": "stdout",
     "output_type": "stream",
     "text": [
      "sox WARN rate: rate clipped 82 samples; decrease volume?\r\n",
      "sox WARN dither: dither clipped 71 samples; decrease volume?\r\n"
     ]
    },
    {
     "name": "stderr",
     "output_type": "stream",
     "text": [
      "\r",
      "766it [07:10,  1.68it/s]"
     ]
    },
    {
     "name": "stdout",
     "output_type": "stream",
     "text": [
      "sox WARN rate: rate clipped 16 samples; decrease volume?\r\n",
      "sox WARN dither: dither clipped 15 samples; decrease volume?\r\n"
     ]
    },
    {
     "name": "stderr",
     "output_type": "stream",
     "text": [
      "\r",
      "767it [07:10,  1.72it/s]"
     ]
    },
    {
     "name": "stdout",
     "output_type": "stream",
     "text": [
      "sox WARN rate: rate clipped 18 samples; decrease volume?\r\n",
      "sox WARN dither: dither clipped 15 samples; decrease volume?\r\n"
     ]
    },
    {
     "name": "stderr",
     "output_type": "stream",
     "text": [
      "\r",
      "768it [07:11,  1.76it/s]"
     ]
    },
    {
     "name": "stdout",
     "output_type": "stream",
     "text": [
      "sox WARN rate: rate clipped 24 samples; decrease volume?\r\n",
      "sox WARN dither: dither clipped 23 samples; decrease volume?\r\n"
     ]
    },
    {
     "name": "stderr",
     "output_type": "stream",
     "text": [
      "\r",
      "769it [07:11,  1.69it/s]"
     ]
    },
    {
     "name": "stdout",
     "output_type": "stream",
     "text": [
      "sox WARN rate: rate clipped 18 samples; decrease volume?\r\n",
      "sox WARN dither: dither clipped 15 samples; decrease volume?\r\n"
     ]
    },
    {
     "name": "stderr",
     "output_type": "stream",
     "text": [
      "\r",
      "770it [07:12,  1.73it/s]"
     ]
    },
    {
     "name": "stdout",
     "output_type": "stream",
     "text": [
      "sox WARN rate: rate clipped 7 samples; decrease volume?\r\n",
      "sox WARN dither: dither clipped 7 samples; decrease volume?\r\n"
     ]
    },
    {
     "name": "stderr",
     "output_type": "stream",
     "text": [
      "\r",
      "771it [07:13,  1.48it/s]"
     ]
    },
    {
     "name": "stdout",
     "output_type": "stream",
     "text": [
      "sox WARN rate: rate clipped 12 samples; decrease volume?\r\n",
      "sox WARN dither: dither clipped 10 samples; decrease volume?\r\n"
     ]
    },
    {
     "name": "stderr",
     "output_type": "stream",
     "text": [
      "\r",
      "772it [07:13,  1.58it/s]"
     ]
    },
    {
     "name": "stdout",
     "output_type": "stream",
     "text": [
      "sox WARN rate: rate clipped 115 samples; decrease volume?\r\n",
      "sox WARN dither: dither clipped 99 samples; decrease volume?\r\n"
     ]
    },
    {
     "name": "stderr",
     "output_type": "stream",
     "text": [
      "\r",
      "773it [07:14,  1.51it/s]"
     ]
    },
    {
     "name": "stdout",
     "output_type": "stream",
     "text": [
      "sox WARN rate: rate clipped 2 samples; decrease volume?\r\n",
      "sox WARN dither: dither clipped 2 samples; decrease volume?\r\n"
     ]
    },
    {
     "name": "stderr",
     "output_type": "stream",
     "text": [
      "\r",
      "774it [07:15,  1.43it/s]"
     ]
    },
    {
     "name": "stdout",
     "output_type": "stream",
     "text": [
      "sox WARN rate: rate clipped 19 samples; decrease volume?\r\n",
      "sox WARN dither: dither clipped 17 samples; decrease volume?\r\n"
     ]
    },
    {
     "name": "stderr",
     "output_type": "stream",
     "text": [
      "\r",
      "775it [07:16,  1.54it/s]"
     ]
    },
    {
     "name": "stdout",
     "output_type": "stream",
     "text": [
      "sox WARN rate: rate clipped 18 samples; decrease volume?\r\n",
      "sox WARN dither: dither clipped 16 samples; decrease volume?\r\n"
     ]
    },
    {
     "name": "stderr",
     "output_type": "stream",
     "text": [
      "\r",
      "776it [07:16,  1.62it/s]"
     ]
    },
    {
     "name": "stdout",
     "output_type": "stream",
     "text": [
      "sox WARN rate: rate clipped 15 samples; decrease volume?\r\n",
      "sox WARN dither: dither clipped 15 samples; decrease volume?\r\n"
     ]
    },
    {
     "name": "stderr",
     "output_type": "stream",
     "text": [
      "\r",
      "777it [07:17,  1.68it/s]"
     ]
    },
    {
     "name": "stdout",
     "output_type": "stream",
     "text": [
      "sox WARN rate: rate clipped 42 samples; decrease volume?\r\n",
      "sox WARN dither: dither clipped 39 samples; decrease volume?\r\n"
     ]
    },
    {
     "name": "stderr",
     "output_type": "stream",
     "text": [
      "\r",
      "778it [07:17,  1.87it/s]"
     ]
    },
    {
     "name": "stdout",
     "output_type": "stream",
     "text": [
      "sox WARN rate: rate clipped 19 samples; decrease volume?\r\n",
      "sox WARN dither: dither clipped 18 samples; decrease volume?\r\n"
     ]
    },
    {
     "name": "stderr",
     "output_type": "stream",
     "text": [
      "780it [07:18,  1.54it/s]"
     ]
    },
    {
     "name": "stdout",
     "output_type": "stream",
     "text": [
      "sox WARN rate: rate clipped 17 samples; decrease volume?\r\n",
      "sox WARN dither: dither clipped 15 samples; decrease volume?\r\n"
     ]
    },
    {
     "name": "stderr",
     "output_type": "stream",
     "text": [
      "\r",
      "781it [07:19,  1.63it/s]"
     ]
    },
    {
     "name": "stdout",
     "output_type": "stream",
     "text": [
      "sox WARN rate: rate clipped 17 samples; decrease volume?\r\n",
      "sox WARN dither: dither clipped 15 samples; decrease volume?\r\n"
     ]
    },
    {
     "name": "stderr",
     "output_type": "stream",
     "text": [
      "\r",
      "782it [07:20,  1.69it/s]"
     ]
    },
    {
     "name": "stdout",
     "output_type": "stream",
     "text": [
      "sox WARN rate: rate clipped 40 samples; decrease volume?\r\n",
      "sox WARN dither: dither clipped 32 samples; decrease volume?\r\n"
     ]
    },
    {
     "name": "stderr",
     "output_type": "stream",
     "text": [
      "\r",
      "783it [07:20,  1.74it/s]"
     ]
    },
    {
     "name": "stdout",
     "output_type": "stream",
     "text": [
      "sox WARN rate: rate clipped 19 samples; decrease volume?\r\n",
      "sox WARN dither: dither clipped 14 samples; decrease volume?\r\n"
     ]
    },
    {
     "name": "stderr",
     "output_type": "stream",
     "text": [
      "\r",
      "784it [07:21,  1.77it/s]"
     ]
    },
    {
     "name": "stdout",
     "output_type": "stream",
     "text": [
      "sox WARN rate: rate clipped 19 samples; decrease volume?\r\n",
      "sox WARN dither: dither clipped 19 samples; decrease volume?\r\n"
     ]
    },
    {
     "name": "stderr",
     "output_type": "stream",
     "text": [
      "\r",
      "785it [07:21,  1.79it/s]"
     ]
    },
    {
     "name": "stdout",
     "output_type": "stream",
     "text": [
      "sox WARN rate: rate clipped 5 samples; decrease volume?\r\n",
      "sox WARN dither: dither clipped 4 samples; decrease volume?\r\n"
     ]
    },
    {
     "name": "stderr",
     "output_type": "stream",
     "text": [
      "\r",
      "786it [07:22,  1.64it/s]"
     ]
    },
    {
     "name": "stdout",
     "output_type": "stream",
     "text": [
      "sox WARN rate: rate clipped 16 samples; decrease volume?\r\n",
      "sox WARN dither: dither clipped 13 samples; decrease volume?\r\n"
     ]
    },
    {
     "name": "stderr",
     "output_type": "stream",
     "text": [
      "\r",
      "787it [07:22,  1.70it/s]"
     ]
    },
    {
     "name": "stdout",
     "output_type": "stream",
     "text": [
      "sox WARN rate: rate clipped 18 samples; decrease volume?\r\n",
      "sox WARN dither: dither clipped 15 samples; decrease volume?\r\n"
     ]
    },
    {
     "name": "stderr",
     "output_type": "stream",
     "text": [
      "\r",
      "788it [07:23,  1.76it/s]"
     ]
    },
    {
     "name": "stdout",
     "output_type": "stream",
     "text": [
      "sox WARN rate: rate clipped 22 samples; decrease volume?\r\n",
      "sox WARN dither: dither clipped 20 samples; decrease volume?\r\n"
     ]
    },
    {
     "name": "stderr",
     "output_type": "stream",
     "text": [
      "\r",
      "789it [07:23,  1.79it/s]"
     ]
    },
    {
     "name": "stdout",
     "output_type": "stream",
     "text": [
      "sox WARN rate: rate clipped 18 samples; decrease volume?\r\n",
      "sox WARN dither: dither clipped 17 samples; decrease volume?\r\n"
     ]
    },
    {
     "name": "stderr",
     "output_type": "stream",
     "text": [
      "\r",
      "790it [07:24,  1.81it/s]"
     ]
    },
    {
     "name": "stdout",
     "output_type": "stream",
     "text": [
      "sox WARN rate: rate clipped 18 samples; decrease volume?\r\n",
      "sox WARN dither: dither clipped 18 samples; decrease volume?\r\n"
     ]
    },
    {
     "name": "stderr",
     "output_type": "stream",
     "text": [
      "\r",
      "791it [07:25,  1.84it/s]"
     ]
    },
    {
     "name": "stdout",
     "output_type": "stream",
     "text": [
      "sox WARN rate: rate clipped 18 samples; decrease volume?\r\n",
      "sox WARN dither: dither clipped 16 samples; decrease volume?\r\n"
     ]
    },
    {
     "name": "stderr",
     "output_type": "stream",
     "text": [
      "\r",
      "792it [07:25,  1.84it/s]"
     ]
    },
    {
     "name": "stdout",
     "output_type": "stream",
     "text": [
      "sox WARN rate: rate clipped 33 samples; decrease volume?\r\n",
      "sox WARN dither: dither clipped 27 samples; decrease volume?\r\n"
     ]
    },
    {
     "name": "stderr",
     "output_type": "stream",
     "text": [
      "\r",
      "793it [07:26,  1.85it/s]"
     ]
    },
    {
     "name": "stdout",
     "output_type": "stream",
     "text": [
      "sox WARN rate: rate clipped 17 samples; decrease volume?\r\n",
      "sox WARN dither: dither clipped 15 samples; decrease volume?\r\n"
     ]
    },
    {
     "name": "stderr",
     "output_type": "stream",
     "text": [
      "\r",
      "794it [07:26,  1.85it/s]"
     ]
    },
    {
     "name": "stdout",
     "output_type": "stream",
     "text": [
      "sox WARN rate: rate clipped 16 samples; decrease volume?\r\n",
      "sox WARN dither: dither clipped 15 samples; decrease volume?\r\n"
     ]
    },
    {
     "name": "stderr",
     "output_type": "stream",
     "text": [
      "\r",
      "795it [07:27,  1.86it/s]"
     ]
    },
    {
     "name": "stdout",
     "output_type": "stream",
     "text": [
      "sox WARN rate: rate clipped 19 samples; decrease volume?\r\n",
      "sox WARN dither: dither clipped 18 samples; decrease volume?\r\n"
     ]
    },
    {
     "name": "stderr",
     "output_type": "stream",
     "text": [
      "\r",
      "796it [07:27,  1.83it/s]"
     ]
    },
    {
     "name": "stdout",
     "output_type": "stream",
     "text": [
      "sox WARN rate: rate clipped 18 samples; decrease volume?\r\n",
      "sox WARN dither: dither clipped 18 samples; decrease volume?\r\n"
     ]
    },
    {
     "name": "stderr",
     "output_type": "stream",
     "text": [
      "798it [07:29,  1.52it/s]"
     ]
    },
    {
     "name": "stdout",
     "output_type": "stream",
     "text": [
      "sox WARN rate: rate clipped 19 samples; decrease volume?\r\n",
      "sox WARN dither: dither clipped 14 samples; decrease volume?\r\n"
     ]
    },
    {
     "name": "stderr",
     "output_type": "stream",
     "text": [
      "\r",
      "799it [07:29,  1.61it/s]"
     ]
    },
    {
     "name": "stdout",
     "output_type": "stream",
     "text": [
      "sox WARN rate: rate clipped 19 samples; decrease volume?\r\n",
      "sox WARN dither: dither clipped 18 samples; decrease volume?\r\n"
     ]
    },
    {
     "name": "stderr",
     "output_type": "stream",
     "text": [
      "\r",
      "800it [07:30,  1.68it/s]"
     ]
    },
    {
     "name": "stdout",
     "output_type": "stream",
     "text": [
      "sox WARN rate: rate clipped 19 samples; decrease volume?\r\n",
      "sox WARN dither: dither clipped 17 samples; decrease volume?\r\n"
     ]
    },
    {
     "name": "stderr",
     "output_type": "stream",
     "text": [
      "\r",
      "801it [07:30,  1.73it/s]"
     ]
    },
    {
     "name": "stdout",
     "output_type": "stream",
     "text": [
      "sox WARN rate: rate clipped 7 samples; decrease volume?\r\n",
      "sox WARN dither: dither clipped 6 samples; decrease volume?\r\n"
     ]
    },
    {
     "name": "stderr",
     "output_type": "stream",
     "text": [
      "\r",
      "802it [07:31,  1.70it/s]"
     ]
    },
    {
     "name": "stdout",
     "output_type": "stream",
     "text": [
      "sox WARN rate: rate clipped 9 samples; decrease volume?\r\n",
      "sox WARN dither: dither clipped 7 samples; decrease volume?\r\n"
     ]
    },
    {
     "name": "stderr",
     "output_type": "stream",
     "text": [
      "\r",
      "803it [07:32,  1.52it/s]"
     ]
    },
    {
     "name": "stdout",
     "output_type": "stream",
     "text": [
      "sox WARN rate: rate clipped 23 samples; decrease volume?\r\n",
      "sox WARN dither: dither clipped 21 samples; decrease volume?\r\n"
     ]
    },
    {
     "name": "stderr",
     "output_type": "stream",
     "text": [
      "\r",
      "804it [07:32,  1.60it/s]"
     ]
    },
    {
     "name": "stdout",
     "output_type": "stream",
     "text": [
      "sox WARN rate: rate clipped 4 samples; decrease volume?\r\n",
      "sox WARN dither: dither clipped 4 samples; decrease volume?\r\n"
     ]
    },
    {
     "name": "stderr",
     "output_type": "stream",
     "text": [
      "\r",
      "805it [07:33,  1.69it/s]"
     ]
    },
    {
     "name": "stdout",
     "output_type": "stream",
     "text": [
      "sox WARN rate: rate clipped 20 samples; decrease volume?\r\n",
      "sox WARN dither: dither clipped 17 samples; decrease volume?\r\n"
     ]
    },
    {
     "name": "stderr",
     "output_type": "stream",
     "text": [
      "\r",
      "806it [07:33,  1.74it/s]"
     ]
    },
    {
     "name": "stdout",
     "output_type": "stream",
     "text": [
      "sox WARN rate: rate clipped 26 samples; decrease volume?\r\n",
      "sox WARN dither: dither clipped 24 samples; decrease volume?\r\n"
     ]
    },
    {
     "name": "stderr",
     "output_type": "stream",
     "text": [
      "\r",
      "807it [07:34,  1.69it/s]"
     ]
    },
    {
     "name": "stdout",
     "output_type": "stream",
     "text": [
      "sox WARN rate: rate clipped 50 samples; decrease volume?\r\n",
      "sox WARN dither: dither clipped 46 samples; decrease volume?\r\n"
     ]
    },
    {
     "name": "stderr",
     "output_type": "stream",
     "text": [
      "\r",
      "808it [07:35,  1.72it/s]"
     ]
    },
    {
     "name": "stdout",
     "output_type": "stream",
     "text": [
      "sox WARN rate: rate clipped 43 samples; decrease volume?\r\n",
      "sox WARN dither: dither clipped 37 samples; decrease volume?\r\n"
     ]
    },
    {
     "name": "stderr",
     "output_type": "stream",
     "text": [
      "\r",
      "809it [07:35,  1.52it/s]"
     ]
    },
    {
     "name": "stdout",
     "output_type": "stream",
     "text": [
      "sox WARN rate: rate clipped 18 samples; decrease volume?\r\n",
      "sox WARN dither: dither clipped 17 samples; decrease volume?\r\n"
     ]
    },
    {
     "name": "stderr",
     "output_type": "stream",
     "text": [
      "\r",
      "810it [07:36,  1.60it/s]"
     ]
    },
    {
     "name": "stdout",
     "output_type": "stream",
     "text": [
      "sox WARN rate: rate clipped 15 samples; decrease volume?\r\n",
      "sox WARN dither: dither clipped 14 samples; decrease volume?\r\n"
     ]
    },
    {
     "name": "stderr",
     "output_type": "stream",
     "text": [
      "\r",
      "811it [07:36,  1.66it/s]"
     ]
    },
    {
     "name": "stdout",
     "output_type": "stream",
     "text": [
      "sox WARN rate: rate clipped 17 samples; decrease volume?\r\n",
      "sox WARN dither: dither clipped 15 samples; decrease volume?\r\n"
     ]
    },
    {
     "name": "stderr",
     "output_type": "stream",
     "text": [
      "\r",
      "812it [07:37,  1.71it/s]"
     ]
    },
    {
     "name": "stdout",
     "output_type": "stream",
     "text": [
      "sox WARN rate: rate clipped 335 samples; decrease volume?\r\n",
      "sox WARN dither: dither clipped 303 samples; decrease volume?\r\n"
     ]
    },
    {
     "name": "stderr",
     "output_type": "stream",
     "text": [
      "\r",
      "813it [07:38,  1.45it/s]"
     ]
    },
    {
     "name": "stdout",
     "output_type": "stream",
     "text": [
      "sox WARN rate: rate clipped 18 samples; decrease volume?\r\n",
      "sox WARN dither: dither clipped 15 samples; decrease volume?\r\n"
     ]
    },
    {
     "name": "stderr",
     "output_type": "stream",
     "text": [
      "\r",
      "814it [07:38,  1.56it/s]"
     ]
    },
    {
     "name": "stdout",
     "output_type": "stream",
     "text": [
      "sox WARN rate: rate clipped 29 samples; decrease volume?\r\n",
      "sox WARN dither: dither clipped 26 samples; decrease volume?\r\n"
     ]
    },
    {
     "name": "stderr",
     "output_type": "stream",
     "text": [
      "\r",
      "815it [07:39,  1.64it/s]"
     ]
    },
    {
     "name": "stdout",
     "output_type": "stream",
     "text": [
      "sox WARN rate: rate clipped 105 samples; decrease volume?\r\n",
      "sox WARN dither: dither clipped 90 samples; decrease volume?\r\n"
     ]
    },
    {
     "name": "stderr",
     "output_type": "stream",
     "text": [
      "\r",
      "816it [07:40,  1.70it/s]"
     ]
    },
    {
     "name": "stdout",
     "output_type": "stream",
     "text": [
      "sox WARN rate: rate clipped 18 samples; decrease volume?\r\n",
      "sox WARN dither: dither clipped 17 samples; decrease volume?\r\n"
     ]
    },
    {
     "name": "stderr",
     "output_type": "stream",
     "text": [
      "\r",
      "817it [07:40,  1.75it/s]"
     ]
    },
    {
     "name": "stdout",
     "output_type": "stream",
     "text": [
      "sox WARN rate: rate clipped 21 samples; decrease volume?\r\n",
      "sox WARN dither: dither clipped 14 samples; decrease volume?\r\n"
     ]
    },
    {
     "name": "stderr",
     "output_type": "stream",
     "text": [
      "\r",
      "818it [07:41,  1.83it/s]"
     ]
    },
    {
     "name": "stdout",
     "output_type": "stream",
     "text": [
      "sox WARN rate: rate clipped 18 samples; decrease volume?\r\n",
      "sox WARN dither: dither clipped 15 samples; decrease volume?\r\n"
     ]
    },
    {
     "name": "stderr",
     "output_type": "stream",
     "text": [
      "\r",
      "819it [07:41,  1.84it/s]"
     ]
    },
    {
     "name": "stdout",
     "output_type": "stream",
     "text": [
      "sox WARN rate: rate clipped 15 samples; decrease volume?\r\n",
      "sox WARN dither: dither clipped 14 samples; decrease volume?\r\n"
     ]
    },
    {
     "name": "stderr",
     "output_type": "stream",
     "text": [
      "\r",
      "820it [07:42,  1.85it/s]"
     ]
    },
    {
     "name": "stdout",
     "output_type": "stream",
     "text": [
      "sox WARN rate: rate clipped 22 samples; decrease volume?\r\n",
      "sox WARN dither: dither clipped 19 samples; decrease volume?\r\n"
     ]
    },
    {
     "name": "stderr",
     "output_type": "stream",
     "text": [
      "\r",
      "821it [07:42,  1.59it/s]"
     ]
    },
    {
     "name": "stdout",
     "output_type": "stream",
     "text": [
      "sox WARN rate: rate clipped 18 samples; decrease volume?\r\n",
      "sox WARN dither: dither clipped 17 samples; decrease volume?\r\n"
     ]
    },
    {
     "name": "stderr",
     "output_type": "stream",
     "text": [
      "\r",
      "822it [07:43,  1.66it/s]"
     ]
    },
    {
     "name": "stdout",
     "output_type": "stream",
     "text": [
      "sox WARN rate: rate clipped 18 samples; decrease volume?\r\n",
      "sox WARN dither: dither clipped 17 samples; decrease volume?\r\n"
     ]
    },
    {
     "name": "stderr",
     "output_type": "stream",
     "text": [
      "\r",
      "823it [07:44,  1.72it/s]"
     ]
    },
    {
     "name": "stdout",
     "output_type": "stream",
     "text": [
      "sox WARN rate: rate clipped 118 samples; decrease volume?\r\n",
      "sox WARN dither: dither clipped 105 samples; decrease volume?\r\n"
     ]
    },
    {
     "name": "stderr",
     "output_type": "stream",
     "text": [
      "\r",
      "824it [07:44,  1.76it/s]"
     ]
    },
    {
     "name": "stdout",
     "output_type": "stream",
     "text": [
      "sox WARN rate: rate clipped 43 samples; decrease volume?\r\n",
      "sox WARN dither: dither clipped 34 samples; decrease volume?\r\n"
     ]
    },
    {
     "name": "stderr",
     "output_type": "stream",
     "text": [
      "\r",
      "825it [07:45,  1.47it/s]"
     ]
    },
    {
     "name": "stdout",
     "output_type": "stream",
     "text": [
      "sox WARN rate: rate clipped 17 samples; decrease volume?\r\n",
      "sox WARN dither: dither clipped 15 samples; decrease volume?\r\n"
     ]
    },
    {
     "name": "stderr",
     "output_type": "stream",
     "text": [
      "\r",
      "826it [07:46,  1.60it/s]"
     ]
    },
    {
     "name": "stdout",
     "output_type": "stream",
     "text": [
      "sox WARN rate: rate clipped 223 samples; decrease volume?\r\n",
      "sox WARN dither: dither clipped 186 samples; decrease volume?\r\n"
     ]
    },
    {
     "name": "stderr",
     "output_type": "stream",
     "text": [
      "\r",
      "827it [07:46,  1.67it/s]"
     ]
    },
    {
     "name": "stdout",
     "output_type": "stream",
     "text": [
      "sox WARN rate: rate clipped 18 samples; decrease volume?\r\n",
      "sox WARN dither: dither clipped 15 samples; decrease volume?\r\n"
     ]
    },
    {
     "name": "stderr",
     "output_type": "stream",
     "text": [
      "\r",
      "828it [07:47,  1.73it/s]"
     ]
    },
    {
     "name": "stdout",
     "output_type": "stream",
     "text": [
      "sox WARN rate: rate clipped 20 samples; decrease volume?\r\n",
      "sox WARN dither: dither clipped 16 samples; decrease volume?\r\n"
     ]
    },
    {
     "name": "stderr",
     "output_type": "stream",
     "text": [
      "\r",
      "829it [07:47,  1.76it/s]"
     ]
    },
    {
     "name": "stdout",
     "output_type": "stream",
     "text": [
      "sox WARN rate: rate clipped 18 samples; decrease volume?\r\n",
      "sox WARN dither: dither clipped 16 samples; decrease volume?\r\n"
     ]
    },
    {
     "name": "stderr",
     "output_type": "stream",
     "text": [
      "\r",
      "830it [07:48,  1.82it/s]"
     ]
    },
    {
     "name": "stdout",
     "output_type": "stream",
     "text": [
      "sox WARN rate: rate clipped 34 samples; decrease volume?\r\n",
      "sox WARN dither: dither clipped 29 samples; decrease volume?\r\n"
     ]
    },
    {
     "name": "stderr",
     "output_type": "stream",
     "text": [
      "\r",
      "831it [07:48,  1.57it/s]"
     ]
    },
    {
     "name": "stdout",
     "output_type": "stream",
     "text": [
      "sox WARN rate: rate clipped 18 samples; decrease volume?\r\n",
      "sox WARN dither: dither clipped 15 samples; decrease volume?\r\n"
     ]
    },
    {
     "name": "stderr",
     "output_type": "stream",
     "text": [
      "\r",
      "832it [07:49,  1.64it/s]"
     ]
    },
    {
     "name": "stdout",
     "output_type": "stream",
     "text": [
      "sox WARN rate: rate clipped 17 samples; decrease volume?\r\n",
      "sox WARN dither: dither clipped 15 samples; decrease volume?\r\n"
     ]
    },
    {
     "name": "stderr",
     "output_type": "stream",
     "text": [
      "\r",
      "833it [07:50,  1.70it/s]"
     ]
    },
    {
     "name": "stdout",
     "output_type": "stream",
     "text": [
      "sox WARN rate: rate clipped 18 samples; decrease volume?\r\n",
      "sox WARN dither: dither clipped 15 samples; decrease volume?\r\n"
     ]
    },
    {
     "name": "stderr",
     "output_type": "stream",
     "text": [
      "835it [07:51,  1.47it/s]"
     ]
    },
    {
     "name": "stdout",
     "output_type": "stream",
     "text": [
      "sox WARN rate: rate clipped 15 samples; decrease volume?\r\n",
      "sox WARN dither: dither clipped 13 samples; decrease volume?\r\n"
     ]
    },
    {
     "name": "stderr",
     "output_type": "stream",
     "text": [
      "\r",
      "836it [07:52,  1.57it/s]"
     ]
    },
    {
     "name": "stdout",
     "output_type": "stream",
     "text": [
      "sox WARN rate: rate clipped 19 samples; decrease volume?\r\n",
      "sox WARN dither: dither clipped 18 samples; decrease volume?\r\n"
     ]
    },
    {
     "name": "stderr",
     "output_type": "stream",
     "text": [
      "\r",
      "837it [07:52,  1.64it/s]"
     ]
    },
    {
     "name": "stdout",
     "output_type": "stream",
     "text": [
      "sox WARN rate: rate clipped 18 samples; decrease volume?\r\n",
      "sox WARN dither: dither clipped 18 samples; decrease volume?\r\n"
     ]
    },
    {
     "name": "stderr",
     "output_type": "stream",
     "text": [
      "\r",
      "838it [07:53,  1.71it/s]"
     ]
    },
    {
     "name": "stdout",
     "output_type": "stream",
     "text": [
      "sox WARN rate: rate clipped 17 samples; decrease volume?\r\n",
      "sox WARN dither: dither clipped 16 samples; decrease volume?\r\n"
     ]
    },
    {
     "name": "stderr",
     "output_type": "stream",
     "text": [
      "\r",
      "839it [07:53,  1.75it/s]"
     ]
    },
    {
     "name": "stdout",
     "output_type": "stream",
     "text": [
      "sox WARN rate: rate clipped 17 samples; decrease volume?\r\n",
      "sox WARN dither: dither clipped 14 samples; decrease volume?\r\n"
     ]
    },
    {
     "name": "stderr",
     "output_type": "stream",
     "text": [
      "\r",
      "840it [07:54,  1.78it/s]"
     ]
    },
    {
     "name": "stdout",
     "output_type": "stream",
     "text": [
      "sox WARN rate: rate clipped 129 samples; decrease volume?\r\n",
      "sox WARN dither: dither clipped 114 samples; decrease volume?\r\n"
     ]
    },
    {
     "name": "stderr",
     "output_type": "stream",
     "text": [
      "\r",
      "841it [07:54,  1.81it/s]"
     ]
    },
    {
     "name": "stdout",
     "output_type": "stream",
     "text": [
      "sox WARN rate: rate clipped 19 samples; decrease volume?\r\n",
      "sox WARN dither: dither clipped 16 samples; decrease volume?\r\n"
     ]
    },
    {
     "name": "stderr",
     "output_type": "stream",
     "text": [
      "\r",
      "842it [07:55,  1.83it/s]"
     ]
    },
    {
     "name": "stdout",
     "output_type": "stream",
     "text": [
      "sox WARN rate: rate clipped 19 samples; decrease volume?\r\n",
      "sox WARN dither: dither clipped 17 samples; decrease volume?\r\n"
     ]
    },
    {
     "name": "stderr",
     "output_type": "stream",
     "text": [
      "\r",
      "843it [07:56,  1.51it/s]"
     ]
    },
    {
     "name": "stdout",
     "output_type": "stream",
     "text": [
      "sox WARN rate: rate clipped 17 samples; decrease volume?\r\n",
      "sox WARN dither: dither clipped 16 samples; decrease volume?\r\n"
     ]
    },
    {
     "name": "stderr",
     "output_type": "stream",
     "text": [
      "\r",
      "844it [07:56,  1.60it/s]"
     ]
    },
    {
     "name": "stdout",
     "output_type": "stream",
     "text": [
      "sox WARN rate: rate clipped 16 samples; decrease volume?\r\n",
      "sox WARN dither: dither clipped 14 samples; decrease volume?\r\n"
     ]
    },
    {
     "name": "stderr",
     "output_type": "stream",
     "text": [
      "\r",
      "845it [07:57,  1.67it/s]"
     ]
    },
    {
     "name": "stdout",
     "output_type": "stream",
     "text": [
      "sox WARN rate: rate clipped 19 samples; decrease volume?\r\n",
      "sox WARN dither: dither clipped 17 samples; decrease volume?\r\n"
     ]
    },
    {
     "name": "stderr",
     "output_type": "stream",
     "text": [
      "\r",
      "846it [07:57,  1.72it/s]"
     ]
    },
    {
     "name": "stdout",
     "output_type": "stream",
     "text": [
      "sox WARN rate: rate clipped 68 samples; decrease volume?\r\n",
      "sox WARN dither: dither clipped 59 samples; decrease volume?\r\n"
     ]
    },
    {
     "name": "stderr",
     "output_type": "stream",
     "text": [
      "\r",
      "847it [07:58,  1.75it/s]"
     ]
    },
    {
     "name": "stdout",
     "output_type": "stream",
     "text": [
      "sox WARN rate: rate clipped 17 samples; decrease volume?\r\n",
      "sox WARN dither: dither clipped 15 samples; decrease volume?\r\n"
     ]
    },
    {
     "name": "stderr",
     "output_type": "stream",
     "text": [
      "\r",
      "848it [07:58,  1.78it/s]"
     ]
    },
    {
     "name": "stdout",
     "output_type": "stream",
     "text": [
      "sox WARN rate: rate clipped 20 samples; decrease volume?\r\n",
      "sox WARN dither: dither clipped 14 samples; decrease volume?\r\n"
     ]
    },
    {
     "name": "stderr",
     "output_type": "stream",
     "text": [
      "850it [08:00,  1.50it/s]"
     ]
    },
    {
     "name": "stdout",
     "output_type": "stream",
     "text": [
      "sox WARN rate: rate clipped 18 samples; decrease volume?\r\n",
      "sox WARN dither: dither clipped 15 samples; decrease volume?\r\n"
     ]
    },
    {
     "name": "stderr",
     "output_type": "stream",
     "text": [
      "\r",
      "851it [08:00,  1.60it/s]"
     ]
    },
    {
     "name": "stdout",
     "output_type": "stream",
     "text": [
      "sox WARN rate: rate clipped 46 samples; decrease volume?\r\n",
      "sox WARN dither: dither clipped 37 samples; decrease volume?\r\n"
     ]
    },
    {
     "name": "stderr",
     "output_type": "stream",
     "text": [
      "\r",
      "852it [08:01,  1.69it/s]"
     ]
    },
    {
     "name": "stdout",
     "output_type": "stream",
     "text": [
      "sox WARN rate: rate clipped 17 samples; decrease volume?\r\n",
      "sox WARN dither: dither clipped 15 samples; decrease volume?\r\n"
     ]
    },
    {
     "name": "stderr",
     "output_type": "stream",
     "text": [
      "\r",
      "853it [08:01,  1.73it/s]"
     ]
    },
    {
     "name": "stdout",
     "output_type": "stream",
     "text": [
      "sox WARN rate: rate clipped 18 samples; decrease volume?\r\n",
      "sox WARN dither: dither clipped 16 samples; decrease volume?\r\n"
     ]
    },
    {
     "name": "stderr",
     "output_type": "stream",
     "text": [
      "\r",
      "854it [08:02,  1.73it/s]"
     ]
    },
    {
     "name": "stdout",
     "output_type": "stream",
     "text": [
      "sox WARN rate: rate clipped 7 samples; decrease volume?\r\n",
      "sox WARN dither: dither clipped 6 samples; decrease volume?\r\n"
     ]
    },
    {
     "name": "stderr",
     "output_type": "stream",
     "text": [
      "\r",
      "855it [08:03,  1.62it/s]"
     ]
    },
    {
     "name": "stdout",
     "output_type": "stream",
     "text": [
      "sox WARN rate: rate clipped 26 samples; decrease volume?\r\n",
      "sox WARN dither: dither clipped 23 samples; decrease volume?\r\n"
     ]
    },
    {
     "name": "stderr",
     "output_type": "stream",
     "text": [
      "\r",
      "856it [08:04,  1.41it/s]"
     ]
    },
    {
     "name": "stdout",
     "output_type": "stream",
     "text": [
      "sox WARN rate: rate clipped 19 samples; decrease volume?\r\n",
      "sox WARN dither: dither clipped 16 samples; decrease volume?\r\n"
     ]
    },
    {
     "name": "stderr",
     "output_type": "stream",
     "text": [
      "\r",
      "857it [08:04,  1.52it/s]"
     ]
    },
    {
     "name": "stdout",
     "output_type": "stream",
     "text": [
      "sox WARN rate: rate clipped 21 samples; decrease volume?\r\n",
      "sox WARN dither: dither clipped 16 samples; decrease volume?\r\n"
     ]
    },
    {
     "name": "stderr",
     "output_type": "stream",
     "text": [
      "\r",
      "858it [08:05,  1.39it/s]"
     ]
    },
    {
     "name": "stdout",
     "output_type": "stream",
     "text": [
      "sox WARN rate: rate clipped 19 samples; decrease volume?\r\n",
      "sox WARN dither: dither clipped 17 samples; decrease volume?\r\n"
     ]
    },
    {
     "name": "stderr",
     "output_type": "stream",
     "text": [
      "\r",
      "859it [08:06,  1.51it/s]"
     ]
    },
    {
     "name": "stdout",
     "output_type": "stream",
     "text": [
      "sox WARN rate: rate clipped 19 samples; decrease volume?\r\n",
      "sox WARN dither: dither clipped 17 samples; decrease volume?\r\n"
     ]
    },
    {
     "name": "stderr",
     "output_type": "stream",
     "text": [
      "\r",
      "860it [08:06,  1.60it/s]"
     ]
    },
    {
     "name": "stdout",
     "output_type": "stream",
     "text": [
      "sox WARN rate: rate clipped 16 samples; decrease volume?\r\n",
      "sox WARN dither: dither clipped 13 samples; decrease volume?\r\n"
     ]
    },
    {
     "name": "stderr",
     "output_type": "stream",
     "text": [
      "\r",
      "861it [08:07,  1.66it/s]"
     ]
    },
    {
     "name": "stdout",
     "output_type": "stream",
     "text": [
      "sox WARN rate: rate clipped 17 samples; decrease volume?\r\n",
      "sox WARN dither: dither clipped 15 samples; decrease volume?\r\n"
     ]
    },
    {
     "name": "stderr",
     "output_type": "stream",
     "text": [
      "\r",
      "862it [08:07,  1.72it/s]"
     ]
    },
    {
     "name": "stdout",
     "output_type": "stream",
     "text": [
      "sox WARN rate: rate clipped 31 samples; decrease volume?\r\n",
      "sox WARN dither: dither clipped 27 samples; decrease volume?\r\n"
     ]
    },
    {
     "name": "stderr",
     "output_type": "stream",
     "text": [
      "\r",
      "863it [08:08,  1.76it/s]"
     ]
    },
    {
     "name": "stdout",
     "output_type": "stream",
     "text": [
      "sox WARN rate: rate clipped 18 samples; decrease volume?\r\n",
      "sox WARN dither: dither clipped 17 samples; decrease volume?\r\n"
     ]
    },
    {
     "name": "stderr",
     "output_type": "stream",
     "text": [
      "\r",
      "864it [08:08,  1.79it/s]"
     ]
    },
    {
     "name": "stdout",
     "output_type": "stream",
     "text": [
      "sox WARN rate: rate clipped 18 samples; decrease volume?\r\n",
      "sox WARN dither: dither clipped 16 samples; decrease volume?\r\n"
     ]
    },
    {
     "name": "stderr",
     "output_type": "stream",
     "text": [
      "\r",
      "865it [08:09,  1.82it/s]"
     ]
    },
    {
     "name": "stdout",
     "output_type": "stream",
     "text": [
      "sox WARN rate: rate clipped 16 samples; decrease volume?\r\n",
      "sox WARN dither: dither clipped 14 samples; decrease volume?\r\n"
     ]
    },
    {
     "name": "stderr",
     "output_type": "stream",
     "text": [
      "\r",
      "866it [08:09,  1.83it/s]"
     ]
    },
    {
     "name": "stdout",
     "output_type": "stream",
     "text": [
      "sox WARN rate: rate clipped 15 samples; decrease volume?\r\n",
      "sox WARN dither: dither clipped 11 samples; decrease volume?\r\n"
     ]
    },
    {
     "name": "stderr",
     "output_type": "stream",
     "text": [
      "868it [08:11,  1.51it/s]"
     ]
    },
    {
     "name": "stdout",
     "output_type": "stream",
     "text": [
      "sox WARN rate: rate clipped 334 samples; decrease volume?\r\n",
      "sox WARN dither: dither clipped 284 samples; decrease volume?\r\n"
     ]
    },
    {
     "name": "stderr",
     "output_type": "stream",
     "text": [
      "\r",
      "869it [08:11,  1.60it/s]"
     ]
    },
    {
     "name": "stdout",
     "output_type": "stream",
     "text": [
      "sox WARN rate: rate clipped 20 samples; decrease volume?\r\n",
      "sox WARN dither: dither clipped 17 samples; decrease volume?\r\n"
     ]
    },
    {
     "name": "stderr",
     "output_type": "stream",
     "text": [
      "\r",
      "870it [08:12,  1.57it/s]"
     ]
    },
    {
     "name": "stdout",
     "output_type": "stream",
     "text": [
      "sox WARN rate: rate clipped 20 samples; decrease volume?\r\n",
      "sox WARN dither: dither clipped 19 samples; decrease volume?\r\n"
     ]
    },
    {
     "name": "stderr",
     "output_type": "stream",
     "text": [
      "\r",
      "871it [08:13,  1.65it/s]"
     ]
    },
    {
     "name": "stdout",
     "output_type": "stream",
     "text": [
      "sox WARN rate: rate clipped 35 samples; decrease volume?\r\n",
      "sox WARN dither: dither clipped 32 samples; decrease volume?\r\n"
     ]
    },
    {
     "name": "stderr",
     "output_type": "stream",
     "text": [
      "\r",
      "872it [08:13,  1.51it/s]"
     ]
    },
    {
     "name": "stdout",
     "output_type": "stream",
     "text": [
      "sox WARN rate: rate clipped 9 samples; decrease volume?\r\n",
      "sox WARN dither: dither clipped 9 samples; decrease volume?\r\n"
     ]
    },
    {
     "name": "stderr",
     "output_type": "stream",
     "text": [
      "\r",
      "873it [08:14,  1.65it/s]"
     ]
    },
    {
     "name": "stdout",
     "output_type": "stream",
     "text": [
      "sox WARN rate: rate clipped 5 samples; decrease volume?\r\n",
      "sox WARN dither: dither clipped 5 samples; decrease volume?\r\n"
     ]
    },
    {
     "name": "stderr",
     "output_type": "stream",
     "text": [
      "\r",
      "874it [08:15,  1.55it/s]"
     ]
    },
    {
     "name": "stdout",
     "output_type": "stream",
     "text": [
      "sox WARN rate: rate clipped 19 samples; decrease volume?\r\n",
      "sox WARN dither: dither clipped 17 samples; decrease volume?\r\n"
     ]
    },
    {
     "name": "stderr",
     "output_type": "stream",
     "text": [
      "\r",
      "875it [08:15,  1.63it/s]"
     ]
    },
    {
     "name": "stdout",
     "output_type": "stream",
     "text": [
      "sox WARN rate: rate clipped 33 samples; decrease volume?\r\n",
      "sox WARN dither: dither clipped 32 samples; decrease volume?\r\n"
     ]
    },
    {
     "name": "stderr",
     "output_type": "stream",
     "text": [
      "\r",
      "876it [08:16,  1.52it/s]"
     ]
    },
    {
     "name": "stdout",
     "output_type": "stream",
     "text": [
      "sox WARN rate: rate clipped 41 samples; decrease volume?\r\n",
      "sox WARN dither: dither clipped 35 samples; decrease volume?\r\n"
     ]
    },
    {
     "name": "stderr",
     "output_type": "stream",
     "text": [
      "\r",
      "877it [08:16,  1.61it/s]"
     ]
    },
    {
     "name": "stdout",
     "output_type": "stream",
     "text": [
      "sox WARN rate: rate clipped 17 samples; decrease volume?\r\n",
      "sox WARN dither: dither clipped 14 samples; decrease volume?\r\n"
     ]
    },
    {
     "name": "stderr",
     "output_type": "stream",
     "text": [
      "\r",
      "878it [08:17,  1.67it/s]"
     ]
    },
    {
     "name": "stdout",
     "output_type": "stream",
     "text": [
      "sox WARN rate: rate clipped 16 samples; decrease volume?\r\n",
      "sox WARN dither: dither clipped 16 samples; decrease volume?\r\n"
     ]
    },
    {
     "name": "stderr",
     "output_type": "stream",
     "text": [
      "\r",
      "879it [08:18,  1.72it/s]"
     ]
    },
    {
     "name": "stdout",
     "output_type": "stream",
     "text": [
      "sox WARN rate: rate clipped 18 samples; decrease volume?\r\n",
      "sox WARN dither: dither clipped 15 samples; decrease volume?\r\n"
     ]
    },
    {
     "name": "stderr",
     "output_type": "stream",
     "text": [
      "\r",
      "880it [08:18,  1.76it/s]"
     ]
    },
    {
     "name": "stdout",
     "output_type": "stream",
     "text": [
      "sox WARN rate: rate clipped 636 samples; decrease volume?\r\n",
      "sox WARN dither: dither clipped 564 samples; decrease volume?\r\n"
     ]
    },
    {
     "name": "stderr",
     "output_type": "stream",
     "text": [
      "\r",
      "881it [08:19,  1.79it/s]"
     ]
    },
    {
     "name": "stdout",
     "output_type": "stream",
     "text": [
      "sox WARN rate: rate clipped 15 samples; decrease volume?\r\n",
      "sox WARN dither: dither clipped 13 samples; decrease volume?\r\n"
     ]
    },
    {
     "name": "stderr",
     "output_type": "stream",
     "text": [
      "\r",
      "882it [08:19,  1.81it/s]"
     ]
    },
    {
     "name": "stdout",
     "output_type": "stream",
     "text": [
      "sox WARN rate: rate clipped 17 samples; decrease volume?\r\n",
      "sox WARN dither: dither clipped 14 samples; decrease volume?\r\n"
     ]
    },
    {
     "name": "stderr",
     "output_type": "stream",
     "text": [
      "\r",
      "883it [08:20,  1.81it/s]"
     ]
    },
    {
     "name": "stdout",
     "output_type": "stream",
     "text": [
      "sox WARN rate: rate clipped 19 samples; decrease volume?\r\n",
      "sox WARN dither: dither clipped 16 samples; decrease volume?\r\n"
     ]
    },
    {
     "name": "stderr",
     "output_type": "stream",
     "text": [
      "\r",
      "884it [08:20,  1.83it/s]"
     ]
    },
    {
     "name": "stdout",
     "output_type": "stream",
     "text": [
      "sox WARN rate: rate clipped 20 samples; decrease volume?\r\n",
      "sox WARN dither: dither clipped 18 samples; decrease volume?\r\n"
     ]
    },
    {
     "name": "stderr",
     "output_type": "stream",
     "text": [
      "886it [08:21,  1.85it/s]"
     ]
    },
    {
     "name": "stdout",
     "output_type": "stream",
     "text": [
      "sox WARN rate: rate clipped 135 samples; decrease volume?\r\n",
      "sox WARN dither: dither clipped 115 samples; decrease volume?\r\n"
     ]
    },
    {
     "name": "stderr",
     "output_type": "stream",
     "text": [
      "\r",
      "887it [08:22,  1.85it/s]"
     ]
    },
    {
     "name": "stdout",
     "output_type": "stream",
     "text": [
      "sox WARN rate: rate clipped 18 samples; decrease volume?\r\n",
      "sox WARN dither: dither clipped 12 samples; decrease volume?\r\n"
     ]
    },
    {
     "name": "stderr",
     "output_type": "stream",
     "text": [
      "\r",
      "888it [08:22,  1.85it/s]"
     ]
    },
    {
     "name": "stdout",
     "output_type": "stream",
     "text": [
      "sox WARN rate: rate clipped 18 samples; decrease volume?\r\n",
      "sox WARN dither: dither clipped 16 samples; decrease volume?\r\n"
     ]
    },
    {
     "name": "stderr",
     "output_type": "stream",
     "text": [
      "\r",
      "889it [08:23,  1.86it/s]"
     ]
    },
    {
     "name": "stdout",
     "output_type": "stream",
     "text": [
      "sox WARN rate: rate clipped 19 samples; decrease volume?\r\n",
      "sox WARN dither: dither clipped 19 samples; decrease volume?\r\n"
     ]
    },
    {
     "name": "stderr",
     "output_type": "stream",
     "text": [
      "\r",
      "890it [08:23,  1.85it/s]"
     ]
    },
    {
     "name": "stdout",
     "output_type": "stream",
     "text": [
      "sox WARN rate: rate clipped 19 samples; decrease volume?\r\n",
      "sox WARN dither: dither clipped 16 samples; decrease volume?\r\n"
     ]
    },
    {
     "name": "stderr",
     "output_type": "stream",
     "text": [
      "892it [08:25,  1.53it/s]"
     ]
    },
    {
     "name": "stdout",
     "output_type": "stream",
     "text": [
      "sox WARN rate: rate clipped 15 samples; decrease volume?\r\n",
      "sox WARN dither: dither clipped 14 samples; decrease volume?\r\n"
     ]
    },
    {
     "name": "stderr",
     "output_type": "stream",
     "text": [
      "\r",
      "893it [08:25,  1.61it/s]"
     ]
    },
    {
     "name": "stdout",
     "output_type": "stream",
     "text": [
      "sox WARN rate: rate clipped 17 samples; decrease volume?\r\n",
      "sox WARN dither: dither clipped 12 samples; decrease volume?\r\n"
     ]
    },
    {
     "name": "stderr",
     "output_type": "stream",
     "text": [
      "\r",
      "894it [08:26,  1.68it/s]"
     ]
    },
    {
     "name": "stdout",
     "output_type": "stream",
     "text": [
      "sox WARN rate: rate clipped 18 samples; decrease volume?\r\n",
      "sox WARN dither: dither clipped 15 samples; decrease volume?\r\n"
     ]
    },
    {
     "name": "stderr",
     "output_type": "stream",
     "text": [
      "\r",
      "895it [08:26,  1.78it/s]"
     ]
    },
    {
     "name": "stdout",
     "output_type": "stream",
     "text": [
      "sox WARN rate: rate clipped 4 samples; decrease volume?\r\n",
      "sox WARN dither: dither clipped 3 samples; decrease volume?\r\n"
     ]
    },
    {
     "name": "stderr",
     "output_type": "stream",
     "text": [
      "\r",
      "896it [08:27,  1.70it/s]"
     ]
    },
    {
     "name": "stdout",
     "output_type": "stream",
     "text": [
      "sox WARN rate: rate clipped 14 samples; decrease volume?\r\n",
      "sox WARN dither: dither clipped 13 samples; decrease volume?\r\n"
     ]
    },
    {
     "name": "stderr",
     "output_type": "stream",
     "text": [
      "\r",
      "897it [08:28,  1.74it/s]"
     ]
    },
    {
     "name": "stdout",
     "output_type": "stream",
     "text": [
      "sox WARN rate: rate clipped 850 samples; decrease volume?\r\n",
      "sox WARN dither: dither clipped 733 samples; decrease volume?\r\n"
     ]
    },
    {
     "name": "stderr",
     "output_type": "stream",
     "text": [
      "\r",
      "898it [08:28,  1.47it/s]"
     ]
    },
    {
     "name": "stdout",
     "output_type": "stream",
     "text": [
      "sox WARN rate: rate clipped 84 samples; decrease volume?\r\n",
      "sox WARN dither: dither clipped 72 samples; decrease volume?\r\n"
     ]
    },
    {
     "name": "stderr",
     "output_type": "stream",
     "text": [
      "\r",
      "899it [08:29,  1.33it/s]"
     ]
    },
    {
     "name": "stdout",
     "output_type": "stream",
     "text": [
      "sox WARN rate: rate clipped 17 samples; decrease volume?\r\n",
      "sox WARN dither: dither clipped 17 samples; decrease volume?\r\n"
     ]
    },
    {
     "name": "stderr",
     "output_type": "stream",
     "text": [
      "\r",
      "900it [08:30,  1.45it/s]"
     ]
    },
    {
     "name": "stdout",
     "output_type": "stream",
     "text": [
      "sox WARN rate: rate clipped 63 samples; decrease volume?\r\n",
      "sox WARN dither: dither clipped 57 samples; decrease volume?\r\n"
     ]
    },
    {
     "name": "stderr",
     "output_type": "stream",
     "text": [
      "\r",
      "901it [08:31,  1.42it/s]"
     ]
    },
    {
     "name": "stdout",
     "output_type": "stream",
     "text": [
      "sox WARN rate: rate clipped 17 samples; decrease volume?\r\n",
      "sox WARN dither: dither clipped 17 samples; decrease volume?\r\n"
     ]
    },
    {
     "name": "stderr",
     "output_type": "stream",
     "text": [
      "\r",
      "902it [08:31,  1.54it/s]"
     ]
    },
    {
     "name": "stdout",
     "output_type": "stream",
     "text": [
      "sox WARN rate: rate clipped 18 samples; decrease volume?\r\n",
      "sox WARN dither: dither clipped 17 samples; decrease volume?\r\n"
     ]
    },
    {
     "name": "stderr",
     "output_type": "stream",
     "text": [
      "904it [08:33,  1.51it/s]"
     ]
    },
    {
     "name": "stdout",
     "output_type": "stream",
     "text": [
      "sox WARN rate: rate clipped 22 samples; decrease volume?\r\n",
      "sox WARN dither: dither clipped 20 samples; decrease volume?\r\n"
     ]
    },
    {
     "name": "stderr",
     "output_type": "stream",
     "text": [
      "\r",
      "905it [08:33,  1.69it/s]"
     ]
    },
    {
     "name": "stdout",
     "output_type": "stream",
     "text": [
      "sox WARN rate: rate clipped 18 samples; decrease volume?\r\n",
      "sox WARN dither: dither clipped 13 samples; decrease volume?\r\n"
     ]
    },
    {
     "name": "stderr",
     "output_type": "stream",
     "text": [
      "\r",
      "906it [08:33,  1.75it/s]"
     ]
    },
    {
     "name": "stdout",
     "output_type": "stream",
     "text": [
      "sox WARN rate: rate clipped 3 samples; decrease volume?\r\n",
      "sox WARN dither: dither clipped 3 samples; decrease volume?\r\n"
     ]
    },
    {
     "name": "stderr",
     "output_type": "stream",
     "text": [
      "\r",
      "907it [08:34,  1.65it/s]"
     ]
    },
    {
     "name": "stdout",
     "output_type": "stream",
     "text": [
      "sox WARN rate: rate clipped 56 samples; decrease volume?\r\n",
      "sox WARN dither: dither clipped 51 samples; decrease volume?\r\n"
     ]
    },
    {
     "name": "stderr",
     "output_type": "stream",
     "text": [
      "\r",
      "908it [08:35,  1.71it/s]"
     ]
    },
    {
     "name": "stdout",
     "output_type": "stream",
     "text": [
      "sox WARN rate: rate clipped 17 samples; decrease volume?\r\n",
      "sox WARN dither: dither clipped 16 samples; decrease volume?\r\n"
     ]
    },
    {
     "name": "stderr",
     "output_type": "stream",
     "text": [
      "\r",
      "909it [08:35,  1.75it/s]"
     ]
    },
    {
     "name": "stdout",
     "output_type": "stream",
     "text": [
      "sox WARN rate: rate clipped 17 samples; decrease volume?\r\n",
      "sox WARN dither: dither clipped 16 samples; decrease volume?\r\n"
     ]
    },
    {
     "name": "stderr",
     "output_type": "stream",
     "text": [
      "911it [08:37,  1.49it/s]"
     ]
    },
    {
     "name": "stdout",
     "output_type": "stream",
     "text": [
      "sox WARN rate: rate clipped 17 samples; decrease volume?\r\n",
      "sox WARN dither: dither clipped 15 samples; decrease volume?\r\n"
     ]
    },
    {
     "name": "stderr",
     "output_type": "stream",
     "text": [
      "\r",
      "912it [08:37,  1.57it/s]"
     ]
    },
    {
     "name": "stdout",
     "output_type": "stream",
     "text": [
      "sox WARN rate: rate clipped 18 samples; decrease volume?\r\n",
      "sox WARN dither: dither clipped 17 samples; decrease volume?\r\n"
     ]
    },
    {
     "name": "stderr",
     "output_type": "stream",
     "text": [
      "\r",
      "913it [08:38,  1.64it/s]"
     ]
    },
    {
     "name": "stdout",
     "output_type": "stream",
     "text": [
      "sox WARN rate: rate clipped 17 samples; decrease volume?\r\n",
      "sox WARN dither: dither clipped 16 samples; decrease volume?\r\n"
     ]
    },
    {
     "name": "stderr",
     "output_type": "stream",
     "text": [
      "\r",
      "914it [08:38,  1.71it/s]"
     ]
    },
    {
     "name": "stdout",
     "output_type": "stream",
     "text": [
      "sox WARN rate: rate clipped 19 samples; decrease volume?\r\n",
      "sox WARN dither: dither clipped 18 samples; decrease volume?\r\n"
     ]
    },
    {
     "name": "stderr",
     "output_type": "stream",
     "text": [
      "\r",
      "915it [08:39,  1.75it/s]"
     ]
    },
    {
     "name": "stdout",
     "output_type": "stream",
     "text": [
      "sox WARN rate: rate clipped 24 samples; decrease volume?\r\n",
      "sox WARN dither: dither clipped 19 samples; decrease volume?\r\n"
     ]
    },
    {
     "name": "stderr",
     "output_type": "stream",
     "text": [
      "\r",
      "916it [08:39,  1.82it/s]"
     ]
    },
    {
     "name": "stdout",
     "output_type": "stream",
     "text": [
      "sox WARN rate: rate clipped 17 samples; decrease volume?\r\n",
      "sox WARN dither: dither clipped 15 samples; decrease volume?\r\n"
     ]
    },
    {
     "name": "stderr",
     "output_type": "stream",
     "text": [
      "\r",
      "917it [08:40,  1.84it/s]"
     ]
    },
    {
     "name": "stdout",
     "output_type": "stream",
     "text": [
      "sox WARN rate: rate clipped 18 samples; decrease volume?\r\n",
      "sox WARN dither: dither clipped 17 samples; decrease volume?\r\n"
     ]
    },
    {
     "name": "stderr",
     "output_type": "stream",
     "text": [
      "\r",
      "918it [08:40,  1.84it/s]"
     ]
    },
    {
     "name": "stdout",
     "output_type": "stream",
     "text": [
      "sox WARN rate: rate clipped 17 samples; decrease volume?\r\n",
      "sox WARN dither: dither clipped 14 samples; decrease volume?\r\n"
     ]
    },
    {
     "name": "stderr",
     "output_type": "stream",
     "text": [
      "\r",
      "919it [08:41,  1.85it/s]"
     ]
    },
    {
     "name": "stdout",
     "output_type": "stream",
     "text": [
      "sox WARN rate: rate clipped 18 samples; decrease volume?\r\n",
      "sox WARN dither: dither clipped 17 samples; decrease volume?\r\n"
     ]
    },
    {
     "name": "stderr",
     "output_type": "stream",
     "text": [
      "921it [08:42,  1.52it/s]"
     ]
    },
    {
     "name": "stdout",
     "output_type": "stream",
     "text": [
      "sox WARN rate: rate clipped 17 samples; decrease volume?\r\n",
      "sox WARN dither: dither clipped 17 samples; decrease volume?\r\n"
     ]
    },
    {
     "name": "stderr",
     "output_type": "stream",
     "text": [
      "\r",
      "922it [08:43,  1.61it/s]"
     ]
    },
    {
     "name": "stdout",
     "output_type": "stream",
     "text": [
      "sox WARN rate: rate clipped 18 samples; decrease volume?\r\n",
      "sox WARN dither: dither clipped 14 samples; decrease volume?\r\n"
     ]
    },
    {
     "name": "stderr",
     "output_type": "stream",
     "text": [
      "\r",
      "923it [08:44,  1.67it/s]"
     ]
    },
    {
     "name": "stdout",
     "output_type": "stream",
     "text": [
      "sox WARN rate: rate clipped 18 samples; decrease volume?\r\n",
      "sox WARN dither: dither clipped 15 samples; decrease volume?\r\n"
     ]
    },
    {
     "name": "stderr",
     "output_type": "stream",
     "text": [
      "\r",
      "924it [08:44,  1.73it/s]"
     ]
    },
    {
     "name": "stdout",
     "output_type": "stream",
     "text": [
      "sox WARN rate: rate clipped 17 samples; decrease volume?\r\n",
      "sox WARN dither: dither clipped 17 samples; decrease volume?\r\n"
     ]
    },
    {
     "name": "stderr",
     "output_type": "stream",
     "text": [
      "\r",
      "925it [08:45,  1.77it/s]"
     ]
    },
    {
     "name": "stdout",
     "output_type": "stream",
     "text": [
      "sox WARN rate: rate clipped 18 samples; decrease volume?\r\n",
      "sox WARN dither: dither clipped 17 samples; decrease volume?\r\n"
     ]
    },
    {
     "name": "stderr",
     "output_type": "stream",
     "text": [
      "\r",
      "926it [08:45,  1.80it/s]"
     ]
    },
    {
     "name": "stdout",
     "output_type": "stream",
     "text": [
      "sox WARN rate: rate clipped 473 samples; decrease volume?\r\n",
      "sox WARN dither: dither clipped 423 samples; decrease volume?\r\n"
     ]
    },
    {
     "name": "stderr",
     "output_type": "stream",
     "text": [
      "\r",
      "927it [08:46,  1.50it/s]"
     ]
    },
    {
     "name": "stdout",
     "output_type": "stream",
     "text": [
      "sox WARN rate: rate clipped 16 samples; decrease volume?\r\n",
      "sox WARN dither: dither clipped 14 samples; decrease volume?\r\n"
     ]
    },
    {
     "name": "stderr",
     "output_type": "stream",
     "text": [
      "\r",
      "928it [08:47,  1.59it/s]"
     ]
    },
    {
     "name": "stdout",
     "output_type": "stream",
     "text": [
      "sox WARN rate: rate clipped 20 samples; decrease volume?\r\n",
      "sox WARN dither: dither clipped 18 samples; decrease volume?\r\n"
     ]
    },
    {
     "name": "stderr",
     "output_type": "stream",
     "text": [
      "\r",
      "929it [08:47,  1.66it/s]"
     ]
    },
    {
     "name": "stdout",
     "output_type": "stream",
     "text": [
      "sox WARN rate: rate clipped 20 samples; decrease volume?\r\n",
      "sox WARN dither: dither clipped 14 samples; decrease volume?\r\n"
     ]
    },
    {
     "name": "stderr",
     "output_type": "stream",
     "text": [
      "931it [08:49,  1.46it/s]"
     ]
    },
    {
     "name": "stdout",
     "output_type": "stream",
     "text": [
      "sox WARN rate: rate clipped 17 samples; decrease volume?\r\n",
      "sox WARN dither: dither clipped 13 samples; decrease volume?\r\n"
     ]
    },
    {
     "name": "stderr",
     "output_type": "stream",
     "text": [
      "\r",
      "932it [08:49,  1.57it/s]"
     ]
    },
    {
     "name": "stdout",
     "output_type": "stream",
     "text": [
      "sox WARN rate: rate clipped 16 samples; decrease volume?\r\n",
      "sox WARN dither: dither clipped 14 samples; decrease volume?\r\n"
     ]
    },
    {
     "name": "stderr",
     "output_type": "stream",
     "text": [
      "\r",
      "933it [08:50,  1.38it/s]"
     ]
    },
    {
     "name": "stdout",
     "output_type": "stream",
     "text": [
      "sox WARN rate: rate clipped 7 samples; decrease volume?\r\n",
      "sox WARN dither: dither clipped 6 samples; decrease volume?\r\n"
     ]
    },
    {
     "name": "stderr",
     "output_type": "stream",
     "text": [
      "\r",
      "934it [08:51,  1.42it/s]"
     ]
    },
    {
     "name": "stdout",
     "output_type": "stream",
     "text": [
      "sox WARN rate: rate clipped 19 samples; decrease volume?\r\n",
      "sox WARN dither: dither clipped 14 samples; decrease volume?\r\n"
     ]
    },
    {
     "name": "stderr",
     "output_type": "stream",
     "text": [
      "\r",
      "935it [08:51,  1.53it/s]"
     ]
    },
    {
     "name": "stdout",
     "output_type": "stream",
     "text": [
      "sox WARN rate: rate clipped 17 samples; decrease volume?\r\n",
      "sox WARN dither: dither clipped 11 samples; decrease volume?\r\n"
     ]
    },
    {
     "name": "stderr",
     "output_type": "stream",
     "text": [
      "\r",
      "936it [08:52,  1.61it/s]"
     ]
    },
    {
     "name": "stdout",
     "output_type": "stream",
     "text": [
      "sox WARN rate: rate clipped 16 samples; decrease volume?\r\n",
      "sox WARN dither: dither clipped 14 samples; decrease volume?\r\n"
     ]
    },
    {
     "name": "stderr",
     "output_type": "stream",
     "text": [
      "\r",
      "937it [08:52,  1.68it/s]"
     ]
    },
    {
     "name": "stdout",
     "output_type": "stream",
     "text": [
      "sox WARN rate: rate clipped 2 samples; decrease volume?\r\n",
      "sox WARN dither: dither clipped 2 samples; decrease volume?\r\n"
     ]
    },
    {
     "name": "stderr",
     "output_type": "stream",
     "text": [
      "\r",
      "938it [08:53,  1.58it/s]"
     ]
    },
    {
     "name": "stdout",
     "output_type": "stream",
     "text": [
      "sox WARN rate: rate clipped 3 samples; decrease volume?\r\n",
      "sox WARN dither: dither clipped 2 samples; decrease volume?\r\n"
     ]
    },
    {
     "name": "stderr",
     "output_type": "stream",
     "text": [
      "\r",
      "939it [08:54,  1.44it/s]"
     ]
    },
    {
     "name": "stdout",
     "output_type": "stream",
     "text": [
      "sox WARN rate: rate clipped 16 samples; decrease volume?\r\n",
      "sox WARN dither: dither clipped 11 samples; decrease volume?\r\n"
     ]
    },
    {
     "name": "stderr",
     "output_type": "stream",
     "text": [
      "\r",
      "940it [08:54,  1.54it/s]"
     ]
    },
    {
     "name": "stdout",
     "output_type": "stream",
     "text": [
      "sox WARN rate: rate clipped 18 samples; decrease volume?\r\n",
      "sox WARN dither: dither clipped 17 samples; decrease volume?\r\n"
     ]
    },
    {
     "name": "stderr",
     "output_type": "stream",
     "text": [
      "\r",
      "941it [08:55,  1.63it/s]"
     ]
    },
    {
     "name": "stdout",
     "output_type": "stream",
     "text": [
      "sox WARN rate: rate clipped 18 samples; decrease volume?\r\n",
      "sox WARN dither: dither clipped 17 samples; decrease volume?\r\n"
     ]
    },
    {
     "name": "stderr",
     "output_type": "stream",
     "text": [
      "\r",
      "942it [08:55,  1.70it/s]"
     ]
    },
    {
     "name": "stdout",
     "output_type": "stream",
     "text": [
      "sox WARN rate: rate clipped 18 samples; decrease volume?\r\n",
      "sox WARN dither: dither clipped 15 samples; decrease volume?\r\n"
     ]
    },
    {
     "name": "stderr",
     "output_type": "stream",
     "text": [
      "\r",
      "943it [08:56,  1.74it/s]"
     ]
    },
    {
     "name": "stdout",
     "output_type": "stream",
     "text": [
      "sox WARN rate: rate clipped 132 samples; decrease volume?\r\n",
      "sox WARN dither: dither clipped 109 samples; decrease volume?\r\n"
     ]
    },
    {
     "name": "stderr",
     "output_type": "stream",
     "text": [
      "\r",
      "944it [08:57,  1.79it/s]"
     ]
    },
    {
     "name": "stdout",
     "output_type": "stream",
     "text": [
      "sox WARN rate: rate clipped 20 samples; decrease volume?\r\n",
      "sox WARN dither: dither clipped 17 samples; decrease volume?\r\n"
     ]
    },
    {
     "name": "stderr",
     "output_type": "stream",
     "text": [
      "\r",
      "945it [08:57,  1.81it/s]"
     ]
    },
    {
     "name": "stdout",
     "output_type": "stream",
     "text": [
      "sox WARN rate: rate clipped 324 samples; decrease volume?\r\n",
      "sox WARN dither: dither clipped 284 samples; decrease volume?\r\n"
     ]
    },
    {
     "name": "stderr",
     "output_type": "stream",
     "text": [
      "\r",
      "946it [08:58,  1.81it/s]"
     ]
    },
    {
     "name": "stdout",
     "output_type": "stream",
     "text": [
      "sox WARN rate: rate clipped 17 samples; decrease volume?\r\n",
      "sox WARN dither: dither clipped 16 samples; decrease volume?\r\n"
     ]
    },
    {
     "name": "stderr",
     "output_type": "stream",
     "text": [
      "\r",
      "947it [08:58,  1.82it/s]"
     ]
    },
    {
     "name": "stdout",
     "output_type": "stream",
     "text": [
      "sox WARN rate: rate clipped 18 samples; decrease volume?\r\n",
      "sox WARN dither: dither clipped 16 samples; decrease volume?\r\n"
     ]
    },
    {
     "name": "stderr",
     "output_type": "stream",
     "text": [
      "\r",
      "948it [08:59,  1.84it/s]"
     ]
    },
    {
     "name": "stdout",
     "output_type": "stream",
     "text": [
      "sox WARN rate: rate clipped 19 samples; decrease volume?\r\n",
      "sox WARN dither: dither clipped 15 samples; decrease volume?\r\n"
     ]
    },
    {
     "name": "stderr",
     "output_type": "stream",
     "text": [
      "\r",
      "949it [08:59,  1.84it/s]"
     ]
    },
    {
     "name": "stdout",
     "output_type": "stream",
     "text": [
      "sox WARN rate: rate clipped 14 samples; decrease volume?\r\n",
      "sox WARN dither: dither clipped 13 samples; decrease volume?\r\n"
     ]
    },
    {
     "name": "stderr",
     "output_type": "stream",
     "text": [
      "\r",
      "950it [09:00,  1.70it/s]"
     ]
    },
    {
     "name": "stdout",
     "output_type": "stream",
     "text": [
      "sox WARN rate: rate clipped 130 samples; decrease volume?\r\n",
      "sox WARN dither: dither clipped 117 samples; decrease volume?\r\n"
     ]
    },
    {
     "name": "stderr",
     "output_type": "stream",
     "text": [
      "\r",
      "951it [09:00,  1.74it/s]"
     ]
    },
    {
     "name": "stdout",
     "output_type": "stream",
     "text": [
      "sox WARN rate: rate clipped 16 samples; decrease volume?\r\n",
      "sox WARN dither: dither clipped 16 samples; decrease volume?\r\n"
     ]
    },
    {
     "name": "stderr",
     "output_type": "stream",
     "text": [
      "\r",
      "952it [09:01,  1.77it/s]"
     ]
    },
    {
     "name": "stdout",
     "output_type": "stream",
     "text": [
      "sox WARN rate: rate clipped 18 samples; decrease volume?\r\n",
      "sox WARN dither: dither clipped 15 samples; decrease volume?\r\n"
     ]
    },
    {
     "name": "stderr",
     "output_type": "stream",
     "text": [
      "\r",
      "953it [09:02,  1.62it/s]"
     ]
    },
    {
     "name": "stdout",
     "output_type": "stream",
     "text": [
      "sox WARN rate: rate clipped 18 samples; decrease volume?\r\n",
      "sox WARN dither: dither clipped 13 samples; decrease volume?\r\n"
     ]
    },
    {
     "name": "stderr",
     "output_type": "stream",
     "text": [
      "\r",
      "954it [09:02,  1.68it/s]"
     ]
    },
    {
     "name": "stdout",
     "output_type": "stream",
     "text": [
      "sox WARN rate: rate clipped 17 samples; decrease volume?\r\n",
      "sox WARN dither: dither clipped 15 samples; decrease volume?\r\n"
     ]
    },
    {
     "name": "stderr",
     "output_type": "stream",
     "text": [
      "956it [09:04,  1.46it/s]"
     ]
    },
    {
     "name": "stdout",
     "output_type": "stream",
     "text": [
      "sox WARN rate: rate clipped 23 samples; decrease volume?\r\n",
      "sox WARN dither: dither clipped 19 samples; decrease volume?\r\n"
     ]
    },
    {
     "name": "stderr",
     "output_type": "stream",
     "text": [
      "\r",
      "957it [09:04,  1.56it/s]"
     ]
    },
    {
     "name": "stdout",
     "output_type": "stream",
     "text": [
      "sox WARN rate: rate clipped 16 samples; decrease volume?\r\n",
      "sox WARN dither: dither clipped 14 samples; decrease volume?\r\n"
     ]
    },
    {
     "name": "stderr",
     "output_type": "stream",
     "text": [
      "\r",
      "958it [09:05,  1.65it/s]"
     ]
    },
    {
     "name": "stdout",
     "output_type": "stream",
     "text": [
      "sox WARN rate: rate clipped 16 samples; decrease volume?\r\n",
      "sox WARN dither: dither clipped 15 samples; decrease volume?\r\n"
     ]
    },
    {
     "name": "stderr",
     "output_type": "stream",
     "text": [
      "\r",
      "959it [09:06,  1.51it/s]"
     ]
    },
    {
     "name": "stdout",
     "output_type": "stream",
     "text": [
      "sox WARN rate: rate clipped 41 samples; decrease volume?\r\n",
      "sox WARN dither: dither clipped 37 samples; decrease volume?\r\n"
     ]
    },
    {
     "name": "stderr",
     "output_type": "stream",
     "text": [
      "961it [09:07,  1.39it/s]"
     ]
    },
    {
     "name": "stdout",
     "output_type": "stream",
     "text": [
      "sox WARN rate: rate clipped 4 samples; decrease volume?\r\n",
      "sox WARN dither: dither clipped 4 samples; decrease volume?\r\n"
     ]
    },
    {
     "name": "stderr",
     "output_type": "stream",
     "text": [
      "\r",
      "962it [09:08,  1.45it/s]"
     ]
    },
    {
     "name": "stdout",
     "output_type": "stream",
     "text": [
      "sox WARN rate: rate clipped 15 samples; decrease volume?\r\n",
      "sox WARN dither: dither clipped 12 samples; decrease volume?\r\n"
     ]
    },
    {
     "name": "stderr",
     "output_type": "stream",
     "text": [
      "964it [09:09,  1.36it/s]"
     ]
    },
    {
     "name": "stdout",
     "output_type": "stream",
     "text": [
      "sox WARN rate: rate clipped 17 samples; decrease volume?\r\n",
      "sox WARN dither: dither clipped 15 samples; decrease volume?\r\n"
     ]
    },
    {
     "name": "stderr",
     "output_type": "stream",
     "text": [
      "\r",
      "965it [09:10,  1.49it/s]"
     ]
    },
    {
     "name": "stdout",
     "output_type": "stream",
     "text": [
      "sox WARN rate: rate clipped 19 samples; decrease volume?\r\n",
      "sox WARN dither: dither clipped 18 samples; decrease volume?\r\n"
     ]
    },
    {
     "name": "stderr",
     "output_type": "stream",
     "text": [
      "967it [09:11,  1.40it/s]"
     ]
    },
    {
     "name": "stdout",
     "output_type": "stream",
     "text": [
      "sox WARN rate: rate clipped 17 samples; decrease volume?\r\n",
      "sox WARN dither: dither clipped 17 samples; decrease volume?\r\n"
     ]
    },
    {
     "name": "stderr",
     "output_type": "stream",
     "text": [
      "\r",
      "968it [09:12,  1.50it/s]"
     ]
    },
    {
     "name": "stdout",
     "output_type": "stream",
     "text": [
      "sox WARN rate: rate clipped 18 samples; decrease volume?\r\n",
      "sox WARN dither: dither clipped 16 samples; decrease volume?\r\n"
     ]
    },
    {
     "name": "stderr",
     "output_type": "stream",
     "text": [
      "\r",
      "969it [09:12,  1.59it/s]"
     ]
    },
    {
     "name": "stdout",
     "output_type": "stream",
     "text": [
      "sox WARN rate: rate clipped 19 samples; decrease volume?\r\n",
      "sox WARN dither: dither clipped 17 samples; decrease volume?\r\n"
     ]
    },
    {
     "name": "stderr",
     "output_type": "stream",
     "text": [
      "972it [09:14,  1.49it/s]"
     ]
    },
    {
     "name": "stdout",
     "output_type": "stream",
     "text": [
      "sox WARN rate: rate clipped 16 samples; decrease volume?\r\n",
      "sox WARN dither: dither clipped 15 samples; decrease volume?\r\n"
     ]
    },
    {
     "name": "stderr",
     "output_type": "stream",
     "text": [
      "\r",
      "973it [09:15,  1.59it/s]"
     ]
    },
    {
     "name": "stdout",
     "output_type": "stream",
     "text": [
      "sox WARN rate: rate clipped 25 samples; decrease volume?\r\n",
      "sox WARN dither: dither clipped 22 samples; decrease volume?\r\n"
     ]
    },
    {
     "name": "stderr",
     "output_type": "stream",
     "text": [
      "\r",
      "974it [09:15,  1.68it/s]"
     ]
    },
    {
     "name": "stdout",
     "output_type": "stream",
     "text": [
      "sox WARN rate: rate clipped 19 samples; decrease volume?\r\n",
      "sox WARN dither: dither clipped 17 samples; decrease volume?\r\n"
     ]
    },
    {
     "name": "stderr",
     "output_type": "stream",
     "text": [
      "\r",
      "975it [09:16,  1.73it/s]"
     ]
    },
    {
     "name": "stdout",
     "output_type": "stream",
     "text": [
      "sox WARN rate: rate clipped 18 samples; decrease volume?\r\n",
      "sox WARN dither: dither clipped 15 samples; decrease volume?\r\n"
     ]
    },
    {
     "name": "stderr",
     "output_type": "stream",
     "text": [
      "\r",
      "976it [09:16,  1.75it/s]"
     ]
    },
    {
     "name": "stdout",
     "output_type": "stream",
     "text": [
      "sox WARN rate: rate clipped 19 samples; decrease volume?\r\n",
      "sox WARN dither: dither clipped 17 samples; decrease volume?\r\n"
     ]
    },
    {
     "name": "stderr",
     "output_type": "stream",
     "text": [
      "\r",
      "977it [09:17,  1.78it/s]"
     ]
    },
    {
     "name": "stdout",
     "output_type": "stream",
     "text": [
      "sox WARN rate: rate clipped 15 samples; decrease volume?\r\n",
      "sox WARN dither: dither clipped 11 samples; decrease volume?\r\n"
     ]
    },
    {
     "name": "stderr",
     "output_type": "stream",
     "text": [
      "\r",
      "978it [09:18,  1.81it/s]"
     ]
    },
    {
     "name": "stdout",
     "output_type": "stream",
     "text": [
      "sox WARN rate: rate clipped 15 samples; decrease volume?\r\n",
      "sox WARN dither: dither clipped 13 samples; decrease volume?\r\n"
     ]
    },
    {
     "name": "stderr",
     "output_type": "stream",
     "text": [
      "\r",
      "979it [09:18,  1.83it/s]"
     ]
    },
    {
     "name": "stdout",
     "output_type": "stream",
     "text": [
      "sox WARN rate: rate clipped 18 samples; decrease volume?\r\n",
      "sox WARN dither: dither clipped 16 samples; decrease volume?\r\n"
     ]
    },
    {
     "name": "stderr",
     "output_type": "stream",
     "text": [
      "\r",
      "980it [09:19,  1.83it/s]"
     ]
    },
    {
     "name": "stdout",
     "output_type": "stream",
     "text": [
      "sox WARN rate: rate clipped 134 samples; decrease volume?\r\n",
      "sox WARN dither: dither clipped 119 samples; decrease volume?\r\n"
     ]
    },
    {
     "name": "stderr",
     "output_type": "stream",
     "text": [
      "\r",
      "981it [09:19,  1.64it/s]"
     ]
    },
    {
     "name": "stdout",
     "output_type": "stream",
     "text": [
      "sox WARN rate: rate clipped 24 samples; decrease volume?\r\n",
      "sox WARN dither: dither clipped 21 samples; decrease volume?\r\n"
     ]
    },
    {
     "name": "stderr",
     "output_type": "stream",
     "text": [
      "\r",
      "982it [09:20,  1.70it/s]"
     ]
    },
    {
     "name": "stdout",
     "output_type": "stream",
     "text": [
      "sox WARN rate: rate clipped 10 samples; decrease volume?\r\n",
      "sox WARN dither: dither clipped 9 samples; decrease volume?\r\n"
     ]
    },
    {
     "name": "stderr",
     "output_type": "stream",
     "text": [
      "\r",
      "983it [09:21,  1.57it/s]"
     ]
    },
    {
     "name": "stdout",
     "output_type": "stream",
     "text": [
      "sox WARN rate: rate clipped 44 samples; decrease volume?\r\n",
      "sox WARN dither: dither clipped 39 samples; decrease volume?\r\n"
     ]
    },
    {
     "name": "stderr",
     "output_type": "stream",
     "text": [
      "\r",
      "984it [09:21,  1.73it/s]"
     ]
    },
    {
     "name": "stdout",
     "output_type": "stream",
     "text": [
      "sox WARN rate: rate clipped 18 samples; decrease volume?\r\n",
      "sox WARN dither: dither clipped 17 samples; decrease volume?\r\n"
     ]
    },
    {
     "name": "stderr",
     "output_type": "stream",
     "text": [
      "986it [09:23,  1.48it/s]"
     ]
    },
    {
     "name": "stdout",
     "output_type": "stream",
     "text": [
      "sox WARN rate: rate clipped 16 samples; decrease volume?\r\n",
      "sox WARN dither: dither clipped 14 samples; decrease volume?\r\n"
     ]
    },
    {
     "name": "stderr",
     "output_type": "stream",
     "text": [
      "\r",
      "987it [09:23,  1.59it/s]"
     ]
    },
    {
     "name": "stdout",
     "output_type": "stream",
     "text": [
      "sox WARN rate: rate clipped 19 samples; decrease volume?\r\n",
      "sox WARN dither: dither clipped 17 samples; decrease volume?\r\n"
     ]
    },
    {
     "name": "stderr",
     "output_type": "stream",
     "text": [
      "\r",
      "988it [09:24,  1.66it/s]"
     ]
    },
    {
     "name": "stdout",
     "output_type": "stream",
     "text": [
      "sox WARN rate: rate clipped 18 samples; decrease volume?\r\n",
      "sox WARN dither: dither clipped 14 samples; decrease volume?\r\n"
     ]
    },
    {
     "name": "stderr",
     "output_type": "stream",
     "text": [
      "\r",
      "989it [09:24,  1.72it/s]"
     ]
    },
    {
     "name": "stdout",
     "output_type": "stream",
     "text": [
      "sox WARN rate: rate clipped 16 samples; decrease volume?\r\n",
      "sox WARN dither: dither clipped 15 samples; decrease volume?\r\n"
     ]
    },
    {
     "name": "stderr",
     "output_type": "stream",
     "text": [
      "\r",
      "990it [09:25,  1.60it/s]"
     ]
    },
    {
     "name": "stdout",
     "output_type": "stream",
     "text": [
      "sox WARN rate: rate clipped 18 samples; decrease volume?\r\n",
      "sox WARN dither: dither clipped 14 samples; decrease volume?\r\n"
     ]
    },
    {
     "name": "stderr",
     "output_type": "stream",
     "text": [
      "\r",
      "991it [09:25,  1.66it/s]"
     ]
    },
    {
     "name": "stdout",
     "output_type": "stream",
     "text": [
      "sox WARN rate: rate clipped 5 samples; decrease volume?\r\n",
      "sox WARN dither: dither clipped 5 samples; decrease volume?\r\n"
     ]
    },
    {
     "name": "stderr",
     "output_type": "stream",
     "text": [
      "\r",
      "992it [09:26,  1.44it/s]"
     ]
    },
    {
     "name": "stdout",
     "output_type": "stream",
     "text": [
      "sox WARN rate: rate clipped 18 samples; decrease volume?\r\n",
      "sox WARN dither: dither clipped 15 samples; decrease volume?\r\n"
     ]
    },
    {
     "name": "stderr",
     "output_type": "stream",
     "text": [
      "\r",
      "993it [09:27,  1.55it/s]"
     ]
    },
    {
     "name": "stdout",
     "output_type": "stream",
     "text": [
      "sox WARN rate: rate clipped 19 samples; decrease volume?\r\n",
      "sox WARN dither: dither clipped 16 samples; decrease volume?\r\n"
     ]
    },
    {
     "name": "stderr",
     "output_type": "stream",
     "text": [
      "\r",
      "994it [09:27,  1.63it/s]"
     ]
    },
    {
     "name": "stdout",
     "output_type": "stream",
     "text": [
      "sox WARN rate: rate clipped 27 samples; decrease volume?\r\n",
      "sox WARN dither: dither clipped 25 samples; decrease volume?\r\n"
     ]
    },
    {
     "name": "stderr",
     "output_type": "stream",
     "text": [
      "\r",
      "995it [09:28,  1.70it/s]"
     ]
    },
    {
     "name": "stdout",
     "output_type": "stream",
     "text": [
      "sox WARN rate: rate clipped 18 samples; decrease volume?\r\n",
      "sox WARN dither: dither clipped 16 samples; decrease volume?\r\n"
     ]
    },
    {
     "name": "stderr",
     "output_type": "stream",
     "text": [
      "\r",
      "996it [09:28,  1.73it/s]"
     ]
    },
    {
     "name": "stdout",
     "output_type": "stream",
     "text": [
      "sox WARN rate: rate clipped 940 samples; decrease volume?\r\n",
      "sox WARN dither: dither clipped 802 samples; decrease volume?\r\n"
     ]
    },
    {
     "name": "stderr",
     "output_type": "stream",
     "text": [
      "\r",
      "997it [09:29,  1.77it/s]"
     ]
    },
    {
     "name": "stdout",
     "output_type": "stream",
     "text": [
      "sox WARN rate: rate clipped 16 samples; decrease volume?\r\n",
      "sox WARN dither: dither clipped 14 samples; decrease volume?\r\n"
     ]
    },
    {
     "name": "stderr",
     "output_type": "stream",
     "text": [
      "\r",
      "998it [09:30,  1.80it/s]"
     ]
    },
    {
     "name": "stdout",
     "output_type": "stream",
     "text": [
      "sox WARN rate: rate clipped 18 samples; decrease volume?\r\n",
      "sox WARN dither: dither clipped 17 samples; decrease volume?\r\n"
     ]
    },
    {
     "name": "stderr",
     "output_type": "stream",
     "text": [
      "1000it [09:31,  1.50it/s]"
     ]
    },
    {
     "name": "stdout",
     "output_type": "stream",
     "text": [
      "sox WARN rate: rate clipped 17 samples; decrease volume?\r\n",
      "sox WARN dither: dither clipped 14 samples; decrease volume?\r\n"
     ]
    },
    {
     "name": "stderr",
     "output_type": "stream",
     "text": [
      "\r",
      "1001it [09:32,  1.59it/s]"
     ]
    },
    {
     "name": "stdout",
     "output_type": "stream",
     "text": [
      "sox WARN rate: rate clipped 18 samples; decrease volume?\r\n",
      "sox WARN dither: dither clipped 17 samples; decrease volume?\r\n"
     ]
    },
    {
     "name": "stderr",
     "output_type": "stream",
     "text": [
      "\r",
      "1002it [09:32,  1.65it/s]"
     ]
    },
    {
     "name": "stdout",
     "output_type": "stream",
     "text": [
      "sox WARN rate: rate clipped 19 samples; decrease volume?\r\n",
      "sox WARN dither: dither clipped 18 samples; decrease volume?\r\n"
     ]
    },
    {
     "name": "stderr",
     "output_type": "stream",
     "text": [
      "\r",
      "1003it [09:33,  1.71it/s]"
     ]
    },
    {
     "name": "stdout",
     "output_type": "stream",
     "text": [
      "sox WARN rate: rate clipped 19 samples; decrease volume?\r\n",
      "sox WARN dither: dither clipped 18 samples; decrease volume?\r\n"
     ]
    },
    {
     "name": "stderr",
     "output_type": "stream",
     "text": [
      "1005it [09:34,  1.61it/s]"
     ]
    },
    {
     "name": "stdout",
     "output_type": "stream",
     "text": [
      "sox WARN rate: rate clipped 18 samples; decrease volume?\r\n",
      "sox WARN dither: dither clipped 17 samples; decrease volume?\r\n"
     ]
    },
    {
     "name": "stderr",
     "output_type": "stream",
     "text": [
      "1007it [09:35,  1.43it/s]"
     ]
    },
    {
     "name": "stdout",
     "output_type": "stream",
     "text": [
      "sox WARN rate: rate clipped 240 samples; decrease volume?\r\n",
      "sox WARN dither: dither clipped 213 samples; decrease volume?\r\n"
     ]
    },
    {
     "name": "stderr",
     "output_type": "stream",
     "text": [
      "\r",
      "1008it [09:36,  1.30it/s]"
     ]
    },
    {
     "name": "stdout",
     "output_type": "stream",
     "text": [
      "sox WARN rate: rate clipped 18 samples; decrease volume?\r\n",
      "sox WARN dither: dither clipped 14 samples; decrease volume?\r\n"
     ]
    },
    {
     "name": "stderr",
     "output_type": "stream",
     "text": [
      "\r",
      "1009it [09:37,  1.43it/s]"
     ]
    },
    {
     "name": "stdout",
     "output_type": "stream",
     "text": [
      "sox WARN rate: rate clipped 18 samples; decrease volume?\r\n",
      "sox WARN dither: dither clipped 16 samples; decrease volume?\r\n"
     ]
    },
    {
     "name": "stderr",
     "output_type": "stream",
     "text": [
      "\r",
      "1010it [09:37,  1.53it/s]"
     ]
    },
    {
     "name": "stdout",
     "output_type": "stream",
     "text": [
      "sox WARN rate: rate clipped 16 samples; decrease volume?\r\n",
      "sox WARN dither: dither clipped 15 samples; decrease volume?\r\n"
     ]
    },
    {
     "name": "stderr",
     "output_type": "stream",
     "text": [
      "\r",
      "1011it [09:38,  1.62it/s]"
     ]
    },
    {
     "name": "stdout",
     "output_type": "stream",
     "text": [
      "sox WARN rate: rate clipped 18 samples; decrease volume?\r\n",
      "sox WARN dither: dither clipped 17 samples; decrease volume?\r\n"
     ]
    },
    {
     "name": "stderr",
     "output_type": "stream",
     "text": [
      "\r",
      "1012it [09:38,  1.69it/s]"
     ]
    },
    {
     "name": "stdout",
     "output_type": "stream",
     "text": [
      "sox WARN rate: rate clipped 18 samples; decrease volume?\r\n",
      "sox WARN dither: dither clipped 17 samples; decrease volume?\r\n"
     ]
    },
    {
     "name": "stderr",
     "output_type": "stream",
     "text": [
      "\r",
      "1013it [09:39,  1.73it/s]"
     ]
    },
    {
     "name": "stdout",
     "output_type": "stream",
     "text": [
      "sox WARN rate: rate clipped 31 samples; decrease volume?\r\n",
      "sox WARN dither: dither clipped 26 samples; decrease volume?\r\n"
     ]
    },
    {
     "name": "stderr",
     "output_type": "stream",
     "text": [
      "\r",
      "1014it [09:39,  1.91it/s]"
     ]
    },
    {
     "name": "stdout",
     "output_type": "stream",
     "text": [
      "sox WARN rate: rate clipped 17 samples; decrease volume?\r\n",
      "sox WARN dither: dither clipped 17 samples; decrease volume?\r\n"
     ]
    },
    {
     "name": "stderr",
     "output_type": "stream",
     "text": [
      "\r",
      "1015it [09:40,  1.90it/s]"
     ]
    },
    {
     "name": "stdout",
     "output_type": "stream",
     "text": [
      "sox WARN rate: rate clipped 19 samples; decrease volume?\r\n",
      "sox WARN dither: dither clipped 16 samples; decrease volume?\r\n"
     ]
    },
    {
     "name": "stderr",
     "output_type": "stream",
     "text": [
      "\r",
      "1016it [09:40,  1.90it/s]"
     ]
    },
    {
     "name": "stdout",
     "output_type": "stream",
     "text": [
      "sox WARN rate: rate clipped 22 samples; decrease volume?\r\n",
      "sox WARN dither: dither clipped 21 samples; decrease volume?\r\n"
     ]
    },
    {
     "name": "stderr",
     "output_type": "stream",
     "text": [
      "\r",
      "1017it [09:41,  1.96it/s]"
     ]
    },
    {
     "name": "stdout",
     "output_type": "stream",
     "text": [
      "sox WARN rate: rate clipped 15 samples; decrease volume?\r\n",
      "sox WARN dither: dither clipped 12 samples; decrease volume?\r\n"
     ]
    },
    {
     "name": "stderr",
     "output_type": "stream",
     "text": [
      "\r",
      "1018it [09:41,  1.92it/s]"
     ]
    },
    {
     "name": "stdout",
     "output_type": "stream",
     "text": [
      "sox WARN rate: rate clipped 19 samples; decrease volume?\r\n",
      "sox WARN dither: dither clipped 17 samples; decrease volume?\r\n"
     ]
    },
    {
     "name": "stderr",
     "output_type": "stream",
     "text": [
      "\r",
      "1019it [09:42,  1.90it/s]"
     ]
    },
    {
     "name": "stdout",
     "output_type": "stream",
     "text": [
      "sox WARN rate: rate clipped 19 samples; decrease volume?\r\n",
      "sox WARN dither: dither clipped 17 samples; decrease volume?\r\n"
     ]
    },
    {
     "name": "stderr",
     "output_type": "stream",
     "text": [
      "\r",
      "1020it [09:43,  1.89it/s]"
     ]
    },
    {
     "name": "stdout",
     "output_type": "stream",
     "text": [
      "sox WARN rate: rate clipped 37 samples; decrease volume?\r\n",
      "sox WARN dither: dither clipped 34 samples; decrease volume?\r\n"
     ]
    },
    {
     "name": "stderr",
     "output_type": "stream",
     "text": [
      "\r",
      "1021it [09:43,  1.69it/s]"
     ]
    },
    {
     "name": "stdout",
     "output_type": "stream",
     "text": [
      "sox WARN rate: rate clipped 17 samples; decrease volume?\r\n",
      "sox WARN dither: dither clipped 16 samples; decrease volume?\r\n"
     ]
    },
    {
     "name": "stderr",
     "output_type": "stream",
     "text": [
      "\r",
      "1022it [09:44,  1.74it/s]"
     ]
    },
    {
     "name": "stdout",
     "output_type": "stream",
     "text": [
      "sox WARN rate: rate clipped 17 samples; decrease volume?\r\n",
      "sox WARN dither: dither clipped 16 samples; decrease volume?\r\n"
     ]
    },
    {
     "name": "stderr",
     "output_type": "stream",
     "text": [
      "\r",
      "1023it [09:45,  1.47it/s]"
     ]
    },
    {
     "name": "stdout",
     "output_type": "stream",
     "text": [
      "sox WARN rate: rate clipped 15 samples; decrease volume?\r\n",
      "sox WARN dither: dither clipped 14 samples; decrease volume?\r\n"
     ]
    },
    {
     "name": "stderr",
     "output_type": "stream",
     "text": [
      "\r",
      "1024it [09:45,  1.57it/s]"
     ]
    },
    {
     "name": "stdout",
     "output_type": "stream",
     "text": [
      "sox WARN rate: rate clipped 1302 samples; decrease volume?\r\n",
      "sox WARN dither: dither clipped 1131 samples; decrease volume?\r\n"
     ]
    },
    {
     "name": "stderr",
     "output_type": "stream",
     "text": [
      "\r",
      "1025it [09:46,  1.65it/s]"
     ]
    },
    {
     "name": "stdout",
     "output_type": "stream",
     "text": [
      "sox WARN rate: rate clipped 16 samples; decrease volume?\r\n",
      "sox WARN dither: dither clipped 15 samples; decrease volume?\r\n"
     ]
    },
    {
     "name": "stderr",
     "output_type": "stream",
     "text": [
      "\r",
      "1026it [09:46,  1.71it/s]"
     ]
    },
    {
     "name": "stdout",
     "output_type": "stream",
     "text": [
      "sox WARN rate: rate clipped 4 samples; decrease volume?\r\n",
      "sox WARN dither: dither clipped 4 samples; decrease volume?\r\n"
     ]
    },
    {
     "name": "stderr",
     "output_type": "stream",
     "text": [
      "\r",
      "1027it [09:47,  1.50it/s]"
     ]
    },
    {
     "name": "stdout",
     "output_type": "stream",
     "text": [
      "sox WARN rate: rate clipped 18 samples; decrease volume?\r\n",
      "sox WARN dither: dither clipped 15 samples; decrease volume?\r\n"
     ]
    },
    {
     "name": "stderr",
     "output_type": "stream",
     "text": [
      "\r",
      "1028it [09:48,  1.59it/s]"
     ]
    },
    {
     "name": "stdout",
     "output_type": "stream",
     "text": [
      "sox WARN rate: rate clipped 2 samples; decrease volume?\r\n",
      "sox WARN dither: dither clipped 2 samples; decrease volume?\r\n"
     ]
    },
    {
     "name": "stderr",
     "output_type": "stream",
     "text": [
      "\r",
      "1029it [09:49,  1.43it/s]"
     ]
    },
    {
     "name": "stdout",
     "output_type": "stream",
     "text": [
      "sox WARN rate: rate clipped 18 samples; decrease volume?\r\n",
      "sox WARN dither: dither clipped 16 samples; decrease volume?\r\n"
     ]
    },
    {
     "name": "stderr",
     "output_type": "stream",
     "text": [
      "\r",
      "1030it [09:49,  1.53it/s]"
     ]
    },
    {
     "name": "stdout",
     "output_type": "stream",
     "text": [
      "sox WARN rate: rate clipped 908 samples; decrease volume?\r\n",
      "sox WARN dither: dither clipped 792 samples; decrease volume?\r\n"
     ]
    },
    {
     "name": "stderr",
     "output_type": "stream",
     "text": [
      "\r",
      "1031it [09:50,  1.62it/s]"
     ]
    },
    {
     "name": "stdout",
     "output_type": "stream",
     "text": [
      "sox WARN rate: rate clipped 3 samples; decrease volume?\r\n",
      "sox WARN dither: dither clipped 3 samples; decrease volume?\r\n"
     ]
    },
    {
     "name": "stderr",
     "output_type": "stream",
     "text": [
      "\r",
      "1032it [09:50,  1.66it/s]"
     ]
    },
    {
     "name": "stdout",
     "output_type": "stream",
     "text": [
      "sox WARN rate: rate clipped 16 samples; decrease volume?\r\n",
      "sox WARN dither: dither clipped 14 samples; decrease volume?\r\n"
     ]
    },
    {
     "name": "stderr",
     "output_type": "stream",
     "text": [
      "\r",
      "1033it [09:51,  1.71it/s]"
     ]
    },
    {
     "name": "stdout",
     "output_type": "stream",
     "text": [
      "sox WARN rate: rate clipped 18 samples; decrease volume?\r\n",
      "sox WARN dither: dither clipped 16 samples; decrease volume?\r\n"
     ]
    },
    {
     "name": "stderr",
     "output_type": "stream",
     "text": [
      "\r",
      "1034it [09:51,  1.76it/s]"
     ]
    },
    {
     "name": "stdout",
     "output_type": "stream",
     "text": [
      "sox WARN rate: rate clipped 25 samples; decrease volume?\r\n",
      "sox WARN dither: dither clipped 22 samples; decrease volume?\r\n"
     ]
    },
    {
     "name": "stderr",
     "output_type": "stream",
     "text": [
      "\r",
      "1035it [09:52,  1.61it/s]"
     ]
    },
    {
     "name": "stdout",
     "output_type": "stream",
     "text": [
      "sox WARN rate: rate clipped 19 samples; decrease volume?\r\n",
      "sox WARN dither: dither clipped 14 samples; decrease volume?\r\n"
     ]
    },
    {
     "name": "stderr",
     "output_type": "stream",
     "text": [
      "\r",
      "1036it [09:53,  1.67it/s]"
     ]
    },
    {
     "name": "stdout",
     "output_type": "stream",
     "text": [
      "sox WARN rate: rate clipped 15 samples; decrease volume?\r\n",
      "sox WARN dither: dither clipped 13 samples; decrease volume?\r\n"
     ]
    },
    {
     "name": "stderr",
     "output_type": "stream",
     "text": [
      "\r",
      "1037it [09:53,  1.73it/s]"
     ]
    },
    {
     "name": "stdout",
     "output_type": "stream",
     "text": [
      "sox WARN rate: rate clipped 21 samples; decrease volume?\r\n",
      "sox WARN dither: dither clipped 17 samples; decrease volume?\r\n"
     ]
    },
    {
     "name": "stderr",
     "output_type": "stream",
     "text": [
      "\r",
      "1038it [09:54,  1.77it/s]"
     ]
    },
    {
     "name": "stdout",
     "output_type": "stream",
     "text": [
      "sox WARN rate: rate clipped 16 samples; decrease volume?\r\n",
      "sox WARN dither: dither clipped 15 samples; decrease volume?\r\n"
     ]
    },
    {
     "name": "stderr",
     "output_type": "stream",
     "text": [
      "\r",
      "1039it [09:54,  1.79it/s]"
     ]
    },
    {
     "name": "stdout",
     "output_type": "stream",
     "text": [
      "sox WARN rate: rate clipped 18 samples; decrease volume?\r\n",
      "sox WARN dither: dither clipped 16 samples; decrease volume?\r\n"
     ]
    },
    {
     "name": "stderr",
     "output_type": "stream",
     "text": [
      "1041it [09:56,  1.65it/s]"
     ]
    },
    {
     "name": "stdout",
     "output_type": "stream",
     "text": [
      "sox WARN rate: rate clipped 19 samples; decrease volume?\r\n",
      "sox WARN dither: dither clipped 19 samples; decrease volume?\r\n"
     ]
    },
    {
     "name": "stderr",
     "output_type": "stream",
     "text": [
      "\r",
      "1042it [09:56,  1.71it/s]"
     ]
    },
    {
     "name": "stdout",
     "output_type": "stream",
     "text": [
      "sox WARN rate: rate clipped 18 samples; decrease volume?\r\n",
      "sox WARN dither: dither clipped 15 samples; decrease volume?\r\n"
     ]
    },
    {
     "name": "stderr",
     "output_type": "stream",
     "text": [
      "\r",
      "1043it [09:57,  1.76it/s]"
     ]
    },
    {
     "name": "stdout",
     "output_type": "stream",
     "text": [
      "sox WARN rate: rate clipped 89 samples; decrease volume?\r\n",
      "sox WARN dither: dither clipped 78 samples; decrease volume?\r\n"
     ]
    },
    {
     "name": "stderr",
     "output_type": "stream",
     "text": [
      "\r",
      "1044it [09:57,  1.79it/s]"
     ]
    },
    {
     "name": "stdout",
     "output_type": "stream",
     "text": [
      "sox WARN rate: rate clipped 14 samples; decrease volume?\r\n",
      "sox WARN dither: dither clipped 10 samples; decrease volume?\r\n"
     ]
    },
    {
     "name": "stderr",
     "output_type": "stream",
     "text": [
      "\r",
      "1045it [09:58,  1.63it/s]"
     ]
    },
    {
     "name": "stdout",
     "output_type": "stream",
     "text": [
      "sox WARN rate: rate clipped 16 samples; decrease volume?\r\n",
      "sox WARN dither: dither clipped 12 samples; decrease volume?\r\n"
     ]
    },
    {
     "name": "stderr",
     "output_type": "stream",
     "text": [
      "\r",
      "1046it [09:58,  1.69it/s]"
     ]
    },
    {
     "name": "stdout",
     "output_type": "stream",
     "text": [
      "sox WARN rate: rate clipped 23 samples; decrease volume?\r\n",
      "sox WARN dither: dither clipped 19 samples; decrease volume?\r\n"
     ]
    },
    {
     "name": "stderr",
     "output_type": "stream",
     "text": [
      "\r",
      "1047it [09:59,  1.74it/s]"
     ]
    },
    {
     "name": "stdout",
     "output_type": "stream",
     "text": [
      "sox WARN rate: rate clipped 19 samples; decrease volume?\r\n",
      "sox WARN dither: dither clipped 19 samples; decrease volume?\r\n"
     ]
    },
    {
     "name": "stderr",
     "output_type": "stream",
     "text": [
      "\r",
      "1048it [09:59,  1.78it/s]"
     ]
    },
    {
     "name": "stdout",
     "output_type": "stream",
     "text": [
      "sox WARN rate: rate clipped 18 samples; decrease volume?\r\n",
      "sox WARN dither: dither clipped 16 samples; decrease volume?\r\n"
     ]
    },
    {
     "name": "stderr",
     "output_type": "stream",
     "text": [
      "1050it [10:01,  1.65it/s]"
     ]
    },
    {
     "name": "stdout",
     "output_type": "stream",
     "text": [
      "sox WARN rate: rate clipped 70 samples; decrease volume?\r\n",
      "sox WARN dither: dither clipped 61 samples; decrease volume?\r\n"
     ]
    },
    {
     "name": "stderr",
     "output_type": "stream",
     "text": [
      "\r",
      "1051it [10:01,  1.69it/s]"
     ]
    },
    {
     "name": "stdout",
     "output_type": "stream",
     "text": [
      "sox WARN rate: rate clipped 22 samples; decrease volume?\r\n",
      "sox WARN dither: dither clipped 21 samples; decrease volume?\r\n"
     ]
    },
    {
     "name": "stderr",
     "output_type": "stream",
     "text": [
      "\r",
      "1052it [10:02,  1.62it/s]"
     ]
    },
    {
     "name": "stdout",
     "output_type": "stream",
     "text": [
      "sox WARN rate: rate clipped 18 samples; decrease volume?\r\n",
      "sox WARN dither: dither clipped 16 samples; decrease volume?\r\n"
     ]
    },
    {
     "name": "stderr",
     "output_type": "stream",
     "text": [
      "\r",
      "1053it [10:03,  1.69it/s]"
     ]
    },
    {
     "name": "stdout",
     "output_type": "stream",
     "text": [
      "sox WARN rate: rate clipped 17 samples; decrease volume?\r\n",
      "sox WARN dither: dither clipped 17 samples; decrease volume?\r\n"
     ]
    },
    {
     "name": "stderr",
     "output_type": "stream",
     "text": [
      "\r",
      "1054it [10:03,  1.74it/s]"
     ]
    },
    {
     "name": "stdout",
     "output_type": "stream",
     "text": [
      "sox WARN rate: rate clipped 18 samples; decrease volume?\r\n",
      "sox WARN dither: dither clipped 17 samples; decrease volume?\r\n"
     ]
    },
    {
     "name": "stderr",
     "output_type": "stream",
     "text": [
      "\r",
      "1055it [10:04,  1.78it/s]"
     ]
    },
    {
     "name": "stdout",
     "output_type": "stream",
     "text": [
      "sox WARN rate: rate clipped 16 samples; decrease volume?\r\n",
      "sox WARN dither: dither clipped 12 samples; decrease volume?\r\n"
     ]
    },
    {
     "name": "stderr",
     "output_type": "stream",
     "text": [
      "\r",
      "1056it [10:04,  1.79it/s]"
     ]
    },
    {
     "name": "stdout",
     "output_type": "stream",
     "text": [
      "sox WARN rate: rate clipped 19 samples; decrease volume?\r\n",
      "sox WARN dither: dither clipped 14 samples; decrease volume?\r\n"
     ]
    },
    {
     "name": "stderr",
     "output_type": "stream",
     "text": [
      "1058it [10:06,  1.50it/s]"
     ]
    },
    {
     "name": "stdout",
     "output_type": "stream",
     "text": [
      "sox WARN rate: rate clipped 15 samples; decrease volume?\r\n",
      "sox WARN dither: dither clipped 14 samples; decrease volume?\r\n"
     ]
    },
    {
     "name": "stderr",
     "output_type": "stream",
     "text": [
      "\r",
      "1059it [10:06,  1.50it/s]"
     ]
    },
    {
     "name": "stdout",
     "output_type": "stream",
     "text": [
      "sox WARN rate: rate clipped 21 samples; decrease volume?\r\n",
      "sox WARN dither: dither clipped 20 samples; decrease volume?\r\n"
     ]
    },
    {
     "name": "stderr",
     "output_type": "stream",
     "text": [
      "1061it [10:08,  1.44it/s]"
     ]
    },
    {
     "name": "stdout",
     "output_type": "stream",
     "text": [
      "sox WARN rate: rate clipped 17 samples; decrease volume?\r\n",
      "sox WARN dither: dither clipped 15 samples; decrease volume?\r\n"
     ]
    },
    {
     "name": "stderr",
     "output_type": "stream",
     "text": [
      "\r",
      "1062it [10:08,  1.54it/s]"
     ]
    },
    {
     "name": "stdout",
     "output_type": "stream",
     "text": [
      "sox WARN rate: rate clipped 17 samples; decrease volume?\r\n",
      "sox WARN dither: dither clipped 16 samples; decrease volume?\r\n"
     ]
    },
    {
     "name": "stderr",
     "output_type": "stream",
     "text": [
      "\r",
      "1063it [10:09,  1.62it/s]"
     ]
    },
    {
     "name": "stdout",
     "output_type": "stream",
     "text": [
      "sox WARN rate: rate clipped 33 samples; decrease volume?\r\n",
      "sox WARN dither: dither clipped 31 samples; decrease volume?\r\n"
     ]
    },
    {
     "name": "stderr",
     "output_type": "stream",
     "text": [
      "\r",
      "1064it [10:09,  1.69it/s]"
     ]
    },
    {
     "name": "stdout",
     "output_type": "stream",
     "text": [
      "sox WARN rate: rate clipped 21 samples; decrease volume?\r\n",
      "sox WARN dither: dither clipped 19 samples; decrease volume?\r\n"
     ]
    },
    {
     "name": "stderr",
     "output_type": "stream",
     "text": [
      "\r",
      "1065it [10:10,  1.74it/s]"
     ]
    },
    {
     "name": "stdout",
     "output_type": "stream",
     "text": [
      "sox WARN rate: rate clipped 28 samples; decrease volume?\r\n",
      "sox WARN dither: dither clipped 23 samples; decrease volume?\r\n"
     ]
    },
    {
     "name": "stderr",
     "output_type": "stream",
     "text": [
      "\r",
      "1066it [10:11,  1.47it/s]"
     ]
    },
    {
     "name": "stdout",
     "output_type": "stream",
     "text": [
      "sox WARN rate: rate clipped 17 samples; decrease volume?\r\n",
      "sox WARN dither: dither clipped 15 samples; decrease volume?\r\n"
     ]
    },
    {
     "name": "stderr",
     "output_type": "stream",
     "text": [
      "1068it [10:12,  1.50it/s]"
     ]
    },
    {
     "name": "stdout",
     "output_type": "stream",
     "text": [
      "sox WARN rate: rate clipped 57 samples; decrease volume?\r\n",
      "sox WARN dither: dither clipped 51 samples; decrease volume?\r\n"
     ]
    },
    {
     "name": "stderr",
     "output_type": "stream",
     "text": [
      "\r",
      "1069it [10:13,  1.59it/s]"
     ]
    },
    {
     "name": "stdout",
     "output_type": "stream",
     "text": [
      "sox WARN rate: rate clipped 17 samples; decrease volume?\r\n",
      "sox WARN dither: dither clipped 15 samples; decrease volume?\r\n"
     ]
    },
    {
     "name": "stderr",
     "output_type": "stream",
     "text": [
      "\r",
      "1070it [10:13,  1.39it/s]"
     ]
    },
    {
     "name": "stdout",
     "output_type": "stream",
     "text": [
      "sox WARN rate: rate clipped 87 samples; decrease volume?\r\n",
      "sox WARN dither: dither clipped 72 samples; decrease volume?\r\n"
     ]
    },
    {
     "name": "stderr",
     "output_type": "stream",
     "text": [
      "\r",
      "1071it [10:14,  1.51it/s]"
     ]
    },
    {
     "name": "stdout",
     "output_type": "stream",
     "text": [
      "sox WARN rate: rate clipped 76 samples; decrease volume?\r\n",
      "sox WARN dither: dither clipped 66 samples; decrease volume?\r\n"
     ]
    },
    {
     "name": "stderr",
     "output_type": "stream",
     "text": [
      "\r",
      "1072it [10:15,  1.61it/s]"
     ]
    },
    {
     "name": "stdout",
     "output_type": "stream",
     "text": [
      "sox WARN rate: rate clipped 16 samples; decrease volume?\r\n",
      "sox WARN dither: dither clipped 12 samples; decrease volume?\r\n"
     ]
    },
    {
     "name": "stderr",
     "output_type": "stream",
     "text": [
      "\r",
      "1073it [10:15,  1.67it/s]"
     ]
    },
    {
     "name": "stdout",
     "output_type": "stream",
     "text": [
      "sox WARN rate: rate clipped 78 samples; decrease volume?\r\n",
      "sox WARN dither: dither clipped 68 samples; decrease volume?\r\n"
     ]
    },
    {
     "name": "stderr",
     "output_type": "stream",
     "text": [
      "\r",
      "1074it [10:16,  1.55it/s]"
     ]
    },
    {
     "name": "stdout",
     "output_type": "stream",
     "text": [
      "sox WARN rate: rate clipped 18 samples; decrease volume?\r\n",
      "sox WARN dither: dither clipped 17 samples; decrease volume?\r\n"
     ]
    },
    {
     "name": "stderr",
     "output_type": "stream",
     "text": [
      "\r",
      "1075it [10:16,  1.63it/s]"
     ]
    },
    {
     "name": "stdout",
     "output_type": "stream",
     "text": [
      "sox WARN rate: rate clipped 3 samples; decrease volume?\r\n",
      "sox WARN dither: dither clipped 3 samples; decrease volume?\r\n"
     ]
    },
    {
     "name": "stderr",
     "output_type": "stream",
     "text": [
      "\r",
      "1076it [10:17,  1.56it/s]"
     ]
    },
    {
     "name": "stdout",
     "output_type": "stream",
     "text": [
      "sox WARN rate: rate clipped 18 samples; decrease volume?\r\n",
      "sox WARN dither: dither clipped 15 samples; decrease volume?\r\n"
     ]
    },
    {
     "name": "stderr",
     "output_type": "stream",
     "text": [
      "\r",
      "1077it [10:18,  1.64it/s]"
     ]
    },
    {
     "name": "stdout",
     "output_type": "stream",
     "text": [
      "sox WARN rate: rate clipped 15 samples; decrease volume?\r\n",
      "sox WARN dither: dither clipped 11 samples; decrease volume?\r\n"
     ]
    },
    {
     "name": "stderr",
     "output_type": "stream",
     "text": [
      "\r",
      "1078it [10:18,  1.70it/s]"
     ]
    },
    {
     "name": "stdout",
     "output_type": "stream",
     "text": [
      "sox WARN rate: rate clipped 19 samples; decrease volume?\r\n",
      "sox WARN dither: dither clipped 18 samples; decrease volume?\r\n"
     ]
    },
    {
     "name": "stderr",
     "output_type": "stream",
     "text": [
      "\r",
      "1079it [10:19,  1.75it/s]"
     ]
    },
    {
     "name": "stdout",
     "output_type": "stream",
     "text": [
      "sox WARN rate: rate clipped 19 samples; decrease volume?\r\n",
      "sox WARN dither: dither clipped 15 samples; decrease volume?\r\n"
     ]
    },
    {
     "name": "stderr",
     "output_type": "stream",
     "text": [
      "\r",
      "1080it [10:19,  1.77it/s]"
     ]
    },
    {
     "name": "stdout",
     "output_type": "stream",
     "text": [
      "sox WARN rate: rate clipped 21 samples; decrease volume?\r\n",
      "sox WARN dither: dither clipped 21 samples; decrease volume?\r\n"
     ]
    },
    {
     "name": "stderr",
     "output_type": "stream",
     "text": [
      "\r",
      "1081it [10:20,  1.80it/s]"
     ]
    },
    {
     "name": "stdout",
     "output_type": "stream",
     "text": [
      "sox WARN rate: rate clipped 134 samples; decrease volume?\r\n",
      "sox WARN dither: dither clipped 116 samples; decrease volume?\r\n"
     ]
    },
    {
     "name": "stderr",
     "output_type": "stream",
     "text": [
      "\r",
      "1082it [10:20,  1.82it/s]"
     ]
    },
    {
     "name": "stdout",
     "output_type": "stream",
     "text": [
      "sox WARN rate: rate clipped 18 samples; decrease volume?\r\n",
      "sox WARN dither: dither clipped 15 samples; decrease volume?\r\n"
     ]
    },
    {
     "name": "stderr",
     "output_type": "stream",
     "text": [
      "1084it [10:22,  1.67it/s]"
     ]
    },
    {
     "name": "stdout",
     "output_type": "stream",
     "text": [
      "sox WARN rate: rate clipped 27 samples; decrease volume?\r\n",
      "sox WARN dither: dither clipped 24 samples; decrease volume?\r\n"
     ]
    },
    {
     "name": "stderr",
     "output_type": "stream",
     "text": [
      "\r",
      "1085it [10:22,  1.53it/s]"
     ]
    },
    {
     "name": "stdout",
     "output_type": "stream",
     "text": [
      "sox WARN rate: rate clipped 15 samples; decrease volume?\r\n",
      "sox WARN dither: dither clipped 12 samples; decrease volume?\r\n"
     ]
    },
    {
     "name": "stderr",
     "output_type": "stream",
     "text": [
      "\r",
      "1086it [10:23,  1.62it/s]"
     ]
    },
    {
     "name": "stdout",
     "output_type": "stream",
     "text": [
      "sox WARN rate: rate clipped 22 samples; decrease volume?\r\n",
      "sox WARN dither: dither clipped 18 samples; decrease volume?\r\n"
     ]
    },
    {
     "name": "stderr",
     "output_type": "stream",
     "text": [
      "\r",
      "1087it [10:23,  1.69it/s]"
     ]
    },
    {
     "name": "stdout",
     "output_type": "stream",
     "text": [
      "sox WARN rate: rate clipped 19 samples; decrease volume?\r\n",
      "sox WARN dither: dither clipped 18 samples; decrease volume?\r\n"
     ]
    },
    {
     "name": "stderr",
     "output_type": "stream",
     "text": [
      "1089it [10:25,  1.48it/s]"
     ]
    },
    {
     "name": "stdout",
     "output_type": "stream",
     "text": [
      "sox WARN rate: rate clipped 17 samples; decrease volume?\r\n",
      "sox WARN dither: dither clipped 16 samples; decrease volume?\r\n"
     ]
    },
    {
     "name": "stderr",
     "output_type": "stream",
     "text": [
      "\r",
      "1090it [10:25,  1.58it/s]"
     ]
    },
    {
     "name": "stdout",
     "output_type": "stream",
     "text": [
      "sox WARN rate: rate clipped 442 samples; decrease volume?\r\n",
      "sox WARN dither: dither clipped 383 samples; decrease volume?\r\n"
     ]
    },
    {
     "name": "stderr",
     "output_type": "stream",
     "text": [
      "\r",
      "1091it [10:26,  1.67it/s]"
     ]
    },
    {
     "name": "stdout",
     "output_type": "stream",
     "text": [
      "sox WARN rate: rate clipped 18 samples; decrease volume?\r\n",
      "sox WARN dither: dither clipped 17 samples; decrease volume?\r\n"
     ]
    },
    {
     "name": "stderr",
     "output_type": "stream",
     "text": [
      "\r",
      "1092it [10:27,  1.43it/s]"
     ]
    },
    {
     "name": "stdout",
     "output_type": "stream",
     "text": [
      "sox WARN rate: rate clipped 17 samples; decrease volume?\r\n",
      "sox WARN dither: dither clipped 15 samples; decrease volume?\r\n"
     ]
    },
    {
     "name": "stderr",
     "output_type": "stream",
     "text": [
      "\r",
      "1093it [10:27,  1.54it/s]"
     ]
    },
    {
     "name": "stdout",
     "output_type": "stream",
     "text": [
      "sox WARN rate: rate clipped 18 samples; decrease volume?\r\n",
      "sox WARN dither: dither clipped 16 samples; decrease volume?\r\n"
     ]
    },
    {
     "name": "stderr",
     "output_type": "stream",
     "text": [
      "\r",
      "1094it [10:28,  1.63it/s]"
     ]
    },
    {
     "name": "stdout",
     "output_type": "stream",
     "text": [
      "sox WARN rate: rate clipped 17 samples; decrease volume?\r\n",
      "sox WARN dither: dither clipped 16 samples; decrease volume?\r\n"
     ]
    },
    {
     "name": "stderr",
     "output_type": "stream",
     "text": [
      "\r",
      "1095it [10:28,  1.69it/s]"
     ]
    },
    {
     "name": "stdout",
     "output_type": "stream",
     "text": [
      "sox WARN rate: rate clipped 18 samples; decrease volume?\r\n",
      "sox WARN dither: dither clipped 17 samples; decrease volume?\r\n"
     ]
    },
    {
     "name": "stderr",
     "output_type": "stream",
     "text": [
      "\r",
      "1096it [10:29,  1.74it/s]"
     ]
    },
    {
     "name": "stdout",
     "output_type": "stream",
     "text": [
      "sox WARN rate: rate clipped 17 samples; decrease volume?\r\n",
      "sox WARN dither: dither clipped 16 samples; decrease volume?\r\n"
     ]
    },
    {
     "name": "stderr",
     "output_type": "stream",
     "text": [
      "\r",
      "1097it [10:29,  1.78it/s]"
     ]
    },
    {
     "name": "stdout",
     "output_type": "stream",
     "text": [
      "sox WARN rate: rate clipped 18 samples; decrease volume?\r\n",
      "sox WARN dither: dither clipped 17 samples; decrease volume?\r\n"
     ]
    },
    {
     "name": "stderr",
     "output_type": "stream",
     "text": [
      "\r",
      "1098it [10:30,  1.82it/s]"
     ]
    },
    {
     "name": "stdout",
     "output_type": "stream",
     "text": [
      "sox WARN rate: rate clipped 19 samples; decrease volume?\r\n",
      "sox WARN dither: dither clipped 15 samples; decrease volume?\r\n"
     ]
    },
    {
     "name": "stderr",
     "output_type": "stream",
     "text": [
      "\r",
      "1099it [10:31,  1.83it/s]"
     ]
    },
    {
     "name": "stdout",
     "output_type": "stream",
     "text": [
      "sox WARN rate: rate clipped 22 samples; decrease volume?\r\n",
      "sox WARN dither: dither clipped 19 samples; decrease volume?\r\n"
     ]
    },
    {
     "name": "stderr",
     "output_type": "stream",
     "text": [
      "\r",
      "1100it [10:31,  1.84it/s]"
     ]
    },
    {
     "name": "stdout",
     "output_type": "stream",
     "text": [
      "sox WARN rate: rate clipped 18 samples; decrease volume?\r\n",
      "sox WARN dither: dither clipped 17 samples; decrease volume?\r\n"
     ]
    },
    {
     "name": "stderr",
     "output_type": "stream",
     "text": [
      "\r",
      "1101it [10:32,  1.85it/s]"
     ]
    },
    {
     "name": "stdout",
     "output_type": "stream",
     "text": [
      "sox WARN rate: rate clipped 10 samples; decrease volume?\r\n",
      "sox WARN dither: dither clipped 9 samples; decrease volume?\r\n"
     ]
    },
    {
     "name": "stderr",
     "output_type": "stream",
     "text": [
      "\r",
      "1102it [10:32,  1.64it/s]"
     ]
    },
    {
     "name": "stdout",
     "output_type": "stream",
     "text": [
      "sox WARN rate: rate clipped 19 samples; decrease volume?\r\n",
      "sox WARN dither: dither clipped 16 samples; decrease volume?\r\n"
     ]
    },
    {
     "name": "stderr",
     "output_type": "stream",
     "text": [
      "\r",
      "1103it [10:33,  1.71it/s]"
     ]
    },
    {
     "name": "stdout",
     "output_type": "stream",
     "text": [
      "sox WARN rate: rate clipped 27 samples; decrease volume?\r\n",
      "sox WARN dither: dither clipped 24 samples; decrease volume?\r\n"
     ]
    },
    {
     "name": "stderr",
     "output_type": "stream",
     "text": [
      "\r",
      "1104it [10:33,  1.76it/s]"
     ]
    },
    {
     "name": "stdout",
     "output_type": "stream",
     "text": [
      "sox WARN rate: rate clipped 4 samples; decrease volume?\r\n",
      "sox WARN dither: dither clipped 4 samples; decrease volume?\r\n"
     ]
    },
    {
     "name": "stderr",
     "output_type": "stream",
     "text": [
      "\r",
      "1105it [10:34,  1.72it/s]"
     ]
    },
    {
     "name": "stdout",
     "output_type": "stream",
     "text": [
      "sox WARN rate: rate clipped 17 samples; decrease volume?\r\n",
      "sox WARN dither: dither clipped 16 samples; decrease volume?\r\n"
     ]
    },
    {
     "name": "stderr",
     "output_type": "stream",
     "text": [
      "\r",
      "1106it [10:35,  1.77it/s]"
     ]
    },
    {
     "name": "stdout",
     "output_type": "stream",
     "text": [
      "sox WARN rate: rate clipped 24 samples; decrease volume?\r\n",
      "sox WARN dither: dither clipped 24 samples; decrease volume?\r\n"
     ]
    },
    {
     "name": "stderr",
     "output_type": "stream",
     "text": [
      "1108it [10:36,  1.40it/s]"
     ]
    },
    {
     "name": "stdout",
     "output_type": "stream",
     "text": [
      "sox WARN rate: rate clipped 18 samples; decrease volume?\r\n",
      "sox WARN dither: dither clipped 15 samples; decrease volume?\r\n"
     ]
    },
    {
     "name": "stderr",
     "output_type": "stream",
     "text": [
      "\r",
      "1109it [10:37,  1.52it/s]"
     ]
    },
    {
     "name": "stdout",
     "output_type": "stream",
     "text": [
      "sox WARN rate: rate clipped 15 samples; decrease volume?\r\n",
      "sox WARN dither: dither clipped 15 samples; decrease volume?\r\n"
     ]
    },
    {
     "name": "stderr",
     "output_type": "stream",
     "text": [
      "\r",
      "1110it [10:37,  1.60it/s]"
     ]
    },
    {
     "name": "stdout",
     "output_type": "stream",
     "text": [
      "sox WARN rate: rate clipped 18 samples; decrease volume?\r\n",
      "sox WARN dither: dither clipped 17 samples; decrease volume?\r\n"
     ]
    },
    {
     "name": "stderr",
     "output_type": "stream",
     "text": [
      "\r",
      "1111it [10:38,  1.67it/s]"
     ]
    },
    {
     "name": "stdout",
     "output_type": "stream",
     "text": [
      "sox WARN rate: rate clipped 15 samples; decrease volume?\r\n",
      "sox WARN dither: dither clipped 14 samples; decrease volume?\r\n"
     ]
    },
    {
     "name": "stderr",
     "output_type": "stream",
     "text": [
      "\r",
      "1112it [10:38,  1.72it/s]"
     ]
    },
    {
     "name": "stdout",
     "output_type": "stream",
     "text": [
      "sox WARN rate: rate clipped 110 samples; decrease volume?\r\n",
      "sox WARN dither: dither clipped 93 samples; decrease volume?\r\n"
     ]
    },
    {
     "name": "stderr",
     "output_type": "stream",
     "text": [
      "1114it [10:40,  1.44it/s]"
     ]
    },
    {
     "name": "stdout",
     "output_type": "stream",
     "text": [
      "sox WARN rate: rate clipped 17 samples; decrease volume?\r\n",
      "sox WARN dither: dither clipped 15 samples; decrease volume?\r\n"
     ]
    },
    {
     "name": "stderr",
     "output_type": "stream",
     "text": [
      "\r",
      "1115it [10:41,  1.54it/s]"
     ]
    },
    {
     "name": "stdout",
     "output_type": "stream",
     "text": [
      "sox WARN rate: rate clipped 20 samples; decrease volume?\r\n",
      "sox WARN dither: dither clipped 17 samples; decrease volume?\r\n"
     ]
    },
    {
     "name": "stderr",
     "output_type": "stream",
     "text": [
      "1117it [10:42,  1.73it/s]"
     ]
    },
    {
     "name": "stdout",
     "output_type": "stream",
     "text": [
      "sox WARN rate: rate clipped 19 samples; decrease volume?\r\n",
      "sox WARN dither: dither clipped 15 samples; decrease volume?\r\n"
     ]
    },
    {
     "name": "stderr",
     "output_type": "stream",
     "text": [
      "\r",
      "1118it [10:42,  1.71it/s]"
     ]
    },
    {
     "name": "stdout",
     "output_type": "stream",
     "text": [
      "sox WARN rate: rate clipped 18 samples; decrease volume?\r\n",
      "sox WARN dither: dither clipped 15 samples; decrease volume?\r\n"
     ]
    },
    {
     "name": "stderr",
     "output_type": "stream",
     "text": [
      "\r",
      "1119it [10:43,  1.74it/s]"
     ]
    },
    {
     "name": "stdout",
     "output_type": "stream",
     "text": [
      "sox WARN rate: rate clipped 17 samples; decrease volume?\r\n",
      "sox WARN dither: dither clipped 16 samples; decrease volume?\r\n"
     ]
    },
    {
     "name": "stderr",
     "output_type": "stream",
     "text": [
      "\r",
      "1120it [10:43,  1.77it/s]"
     ]
    },
    {
     "name": "stdout",
     "output_type": "stream",
     "text": [
      "sox WARN rate: rate clipped 19 samples; decrease volume?\r\n",
      "sox WARN dither: dither clipped 16 samples; decrease volume?\r\n"
     ]
    },
    {
     "name": "stderr",
     "output_type": "stream",
     "text": [
      "\r",
      "1121it [10:44,  1.79it/s]"
     ]
    },
    {
     "name": "stdout",
     "output_type": "stream",
     "text": [
      "sox WARN rate: rate clipped 19 samples; decrease volume?\r\n",
      "sox WARN dither: dither clipped 18 samples; decrease volume?\r\n"
     ]
    },
    {
     "name": "stderr",
     "output_type": "stream",
     "text": [
      "\r",
      "1122it [10:44,  1.82it/s]"
     ]
    },
    {
     "name": "stdout",
     "output_type": "stream",
     "text": [
      "sox WARN rate: rate clipped 17 samples; decrease volume?\r\n",
      "sox WARN dither: dither clipped 15 samples; decrease volume?\r\n"
     ]
    },
    {
     "name": "stderr",
     "output_type": "stream",
     "text": [
      "\r",
      "1123it [10:45,  1.82it/s]"
     ]
    },
    {
     "name": "stdout",
     "output_type": "stream",
     "text": [
      "sox WARN rate: rate clipped 19 samples; decrease volume?\r\n",
      "sox WARN dither: dither clipped 15 samples; decrease volume?\r\n"
     ]
    },
    {
     "name": "stderr",
     "output_type": "stream",
     "text": [
      "\r",
      "1124it [10:45,  1.83it/s]"
     ]
    },
    {
     "name": "stdout",
     "output_type": "stream",
     "text": [
      "sox WARN rate: rate clipped 18 samples; decrease volume?\r\n",
      "sox WARN dither: dither clipped 18 samples; decrease volume?\r\n"
     ]
    },
    {
     "name": "stderr",
     "output_type": "stream",
     "text": [
      "\r",
      "1125it [10:46,  1.84it/s]"
     ]
    },
    {
     "name": "stdout",
     "output_type": "stream",
     "text": [
      "sox WARN rate: rate clipped 17 samples; decrease volume?\r\n",
      "sox WARN dither: dither clipped 16 samples; decrease volume?\r\n"
     ]
    },
    {
     "name": "stderr",
     "output_type": "stream",
     "text": [
      "1127it [10:47,  1.53it/s]"
     ]
    },
    {
     "name": "stdout",
     "output_type": "stream",
     "text": [
      "sox WARN rate: rate clipped 22 samples; decrease volume?\r\n",
      "sox WARN dither: dither clipped 18 samples; decrease volume?\r\n"
     ]
    },
    {
     "name": "stderr",
     "output_type": "stream",
     "text": [
      "\r",
      "1128it [10:48,  1.62it/s]"
     ]
    },
    {
     "name": "stdout",
     "output_type": "stream",
     "text": [
      "sox WARN rate: rate clipped 17 samples; decrease volume?\r\n",
      "sox WARN dither: dither clipped 14 samples; decrease volume?\r\n"
     ]
    },
    {
     "name": "stderr",
     "output_type": "stream",
     "text": [
      "\r",
      "1129it [10:49,  1.69it/s]"
     ]
    },
    {
     "name": "stdout",
     "output_type": "stream",
     "text": [
      "sox WARN rate: rate clipped 29 samples; decrease volume?\r\n",
      "sox WARN dither: dither clipped 25 samples; decrease volume?\r\n"
     ]
    },
    {
     "name": "stderr",
     "output_type": "stream",
     "text": [
      "\r",
      "1130it [10:49,  1.67it/s]"
     ]
    },
    {
     "name": "stdout",
     "output_type": "stream",
     "text": [
      "sox WARN rate: rate clipped 15 samples; decrease volume?\r\n",
      "sox WARN dither: dither clipped 14 samples; decrease volume?\r\n"
     ]
    },
    {
     "name": "stderr",
     "output_type": "stream",
     "text": [
      "\r",
      "1131it [10:50,  1.73it/s]"
     ]
    },
    {
     "name": "stdout",
     "output_type": "stream",
     "text": [
      "sox WARN rate: rate clipped 17 samples; decrease volume?\r\n",
      "sox WARN dither: dither clipped 14 samples; decrease volume?\r\n"
     ]
    },
    {
     "name": "stderr",
     "output_type": "stream",
     "text": [
      "\r",
      "1132it [10:50,  1.76it/s]"
     ]
    },
    {
     "name": "stdout",
     "output_type": "stream",
     "text": [
      "sox WARN rate: rate clipped 9 samples; decrease volume?\r\n",
      "sox WARN dither: dither clipped 7 samples; decrease volume?\r\n"
     ]
    },
    {
     "name": "stderr",
     "output_type": "stream",
     "text": [
      "\r",
      "1133it [10:51,  1.87it/s]"
     ]
    },
    {
     "name": "stdout",
     "output_type": "stream",
     "text": [
      "sox WARN rate: rate clipped 18 samples; decrease volume?\r\n",
      "sox WARN dither: dither clipped 17 samples; decrease volume?\r\n"
     ]
    },
    {
     "name": "stderr",
     "output_type": "stream",
     "text": [
      "\r",
      "1134it [10:51,  1.87it/s]"
     ]
    },
    {
     "name": "stdout",
     "output_type": "stream",
     "text": [
      "sox WARN rate: rate clipped 18 samples; decrease volume?\r\n",
      "sox WARN dither: dither clipped 14 samples; decrease volume?\r\n"
     ]
    },
    {
     "name": "stderr",
     "output_type": "stream",
     "text": [
      "\r",
      "1135it [10:52,  1.86it/s]"
     ]
    },
    {
     "name": "stdout",
     "output_type": "stream",
     "text": [
      "sox WARN rate: rate clipped 36 samples; decrease volume?\r\n",
      "sox WARN dither: dither clipped 29 samples; decrease volume?\r\n"
     ]
    },
    {
     "name": "stderr",
     "output_type": "stream",
     "text": [
      "\r",
      "1136it [10:52,  1.87it/s]"
     ]
    },
    {
     "name": "stdout",
     "output_type": "stream",
     "text": [
      "sox WARN rate: rate clipped 299 samples; decrease volume?\r\n",
      "sox WARN dither: dither clipped 266 samples; decrease volume?\r\n"
     ]
    },
    {
     "name": "stderr",
     "output_type": "stream",
     "text": [
      "\r",
      "1137it [10:53,  1.52it/s]"
     ]
    },
    {
     "name": "stdout",
     "output_type": "stream",
     "text": [
      "sox WARN rate: rate clipped 17 samples; decrease volume?\r\n",
      "sox WARN dither: dither clipped 13 samples; decrease volume?\r\n"
     ]
    },
    {
     "name": "stderr",
     "output_type": "stream",
     "text": [
      "\r",
      "1138it [10:54,  1.61it/s]"
     ]
    },
    {
     "name": "stdout",
     "output_type": "stream",
     "text": [
      "sox WARN rate: rate clipped 19 samples; decrease volume?\r\n",
      "sox WARN dither: dither clipped 17 samples; decrease volume?\r\n"
     ]
    },
    {
     "name": "stderr",
     "output_type": "stream",
     "text": [
      "\r",
      "1139it [10:54,  1.68it/s]"
     ]
    },
    {
     "name": "stdout",
     "output_type": "stream",
     "text": [
      "sox WARN rate: rate clipped 3 samples; decrease volume?\r\n",
      "sox WARN dither: dither clipped 3 samples; decrease volume?\r\n"
     ]
    },
    {
     "name": "stderr",
     "output_type": "stream",
     "text": [
      "1141it [10:56,  1.51it/s]"
     ]
    },
    {
     "name": "stdout",
     "output_type": "stream",
     "text": [
      "sox WARN rate: rate clipped 16 samples; decrease volume?\r\n",
      "sox WARN dither: dither clipped 12 samples; decrease volume?\r\n"
     ]
    },
    {
     "name": "stderr",
     "output_type": "stream",
     "text": [
      "\r",
      "1142it [10:56,  1.59it/s]"
     ]
    },
    {
     "name": "stdout",
     "output_type": "stream",
     "text": [
      "sox WARN rate: rate clipped 10 samples; decrease volume?\r\n",
      "sox WARN dither: dither clipped 9 samples; decrease volume?\r\n"
     ]
    },
    {
     "name": "stderr",
     "output_type": "stream",
     "text": [
      "\r",
      "1143it [10:57,  1.59it/s]"
     ]
    },
    {
     "name": "stdout",
     "output_type": "stream",
     "text": [
      "sox WARN rate: rate clipped 17 samples; decrease volume?\r\n",
      "sox WARN dither: dither clipped 15 samples; decrease volume?\r\n"
     ]
    },
    {
     "name": "stderr",
     "output_type": "stream",
     "text": [
      "\r",
      "1144it [10:57,  1.66it/s]"
     ]
    },
    {
     "name": "stdout",
     "output_type": "stream",
     "text": [
      "sox WARN rate: rate clipped 18 samples; decrease volume?\r\n",
      "sox WARN dither: dither clipped 14 samples; decrease volume?\r\n"
     ]
    },
    {
     "name": "stderr",
     "output_type": "stream",
     "text": [
      "1146it [10:59,  1.47it/s]"
     ]
    },
    {
     "name": "stdout",
     "output_type": "stream",
     "text": [
      "sox WARN rate: rate clipped 17 samples; decrease volume?\r\n",
      "sox WARN dither: dither clipped 12 samples; decrease volume?\r\n"
     ]
    },
    {
     "name": "stderr",
     "output_type": "stream",
     "text": [
      "\r",
      "1147it [10:59,  1.57it/s]"
     ]
    },
    {
     "name": "stdout",
     "output_type": "stream",
     "text": [
      "sox WARN rate: rate clipped 18 samples; decrease volume?\r\n",
      "sox WARN dither: dither clipped 17 samples; decrease volume?\r\n"
     ]
    },
    {
     "name": "stderr",
     "output_type": "stream",
     "text": [
      "\r",
      "1148it [11:00,  1.65it/s]"
     ]
    },
    {
     "name": "stdout",
     "output_type": "stream",
     "text": [
      "sox WARN rate: rate clipped 21 samples; decrease volume?\r\n",
      "sox WARN dither: dither clipped 18 samples; decrease volume?\r\n"
     ]
    },
    {
     "name": "stderr",
     "output_type": "stream",
     "text": [
      "\r",
      "1149it [11:01,  1.71it/s]"
     ]
    },
    {
     "name": "stdout",
     "output_type": "stream",
     "text": [
      "sox WARN rate: rate clipped 18 samples; decrease volume?\r\n",
      "sox WARN dither: dither clipped 16 samples; decrease volume?\r\n"
     ]
    },
    {
     "name": "stderr",
     "output_type": "stream",
     "text": [
      "\r",
      "1150it [11:01,  1.76it/s]"
     ]
    },
    {
     "name": "stdout",
     "output_type": "stream",
     "text": [
      "sox WARN rate: rate clipped 19 samples; decrease volume?\r\n",
      "sox WARN dither: dither clipped 18 samples; decrease volume?\r\n"
     ]
    },
    {
     "name": "stderr",
     "output_type": "stream",
     "text": [
      "\r",
      "1151it [11:02,  1.78it/s]"
     ]
    },
    {
     "name": "stdout",
     "output_type": "stream",
     "text": [
      "sox WARN rate: rate clipped 20 samples; decrease volume?\r\n",
      "sox WARN dither: dither clipped 16 samples; decrease volume?\r\n"
     ]
    },
    {
     "name": "stderr",
     "output_type": "stream",
     "text": [
      "\r",
      "1152it [11:02,  1.77it/s]"
     ]
    },
    {
     "name": "stdout",
     "output_type": "stream",
     "text": [
      "sox WARN rate: rate clipped 16 samples; decrease volume?\r\n",
      "sox WARN dither: dither clipped 15 samples; decrease volume?\r\n"
     ]
    },
    {
     "name": "stderr",
     "output_type": "stream",
     "text": [
      "\r",
      "1153it [11:03,  1.80it/s]"
     ]
    },
    {
     "name": "stdout",
     "output_type": "stream",
     "text": [
      "sox WARN rate: rate clipped 17 samples; decrease volume?\r\n",
      "sox WARN dither: dither clipped 15 samples; decrease volume?\r\n"
     ]
    },
    {
     "name": "stderr",
     "output_type": "stream",
     "text": [
      "1155it [11:04,  1.50it/s]"
     ]
    },
    {
     "name": "stdout",
     "output_type": "stream",
     "text": [
      "sox WARN rate: rate clipped 5 samples; decrease volume?\r\n",
      "sox WARN dither: dither clipped 4 samples; decrease volume?\r\n"
     ]
    },
    {
     "name": "stderr",
     "output_type": "stream",
     "text": [
      "\r",
      "1156it [11:05,  1.50it/s]"
     ]
    },
    {
     "name": "stdout",
     "output_type": "stream",
     "text": [
      "sox WARN rate: rate clipped 34 samples; decrease volume?\r\n",
      "sox WARN dither: dither clipped 31 samples; decrease volume?\r\n"
     ]
    },
    {
     "name": "stderr",
     "output_type": "stream",
     "text": [
      "1158it [11:06,  1.60it/s]"
     ]
    },
    {
     "name": "stdout",
     "output_type": "stream",
     "text": [
      "sox WARN rate: rate clipped 17 samples; decrease volume?\r\n",
      "sox WARN dither: dither clipped 13 samples; decrease volume?\r\n"
     ]
    },
    {
     "name": "stderr",
     "output_type": "stream",
     "text": [
      "\r",
      "1159it [11:07,  1.66it/s]"
     ]
    },
    {
     "name": "stdout",
     "output_type": "stream",
     "text": [
      "sox WARN rate: rate clipped 18 samples; decrease volume?\r\n",
      "sox WARN dither: dither clipped 17 samples; decrease volume?\r\n"
     ]
    },
    {
     "name": "stderr",
     "output_type": "stream",
     "text": [
      "\r",
      "1160it [11:07,  1.72it/s]"
     ]
    },
    {
     "name": "stdout",
     "output_type": "stream",
     "text": [
      "sox WARN rate: rate clipped 18 samples; decrease volume?\r\n",
      "sox WARN dither: dither clipped 16 samples; decrease volume?\r\n"
     ]
    },
    {
     "name": "stderr",
     "output_type": "stream",
     "text": [
      "\r",
      "1161it [11:08,  1.75it/s]"
     ]
    },
    {
     "name": "stdout",
     "output_type": "stream",
     "text": [
      "sox WARN rate: rate clipped 17 samples; decrease volume?\r\n",
      "sox WARN dither: dither clipped 14 samples; decrease volume?\r\n"
     ]
    },
    {
     "name": "stderr",
     "output_type": "stream",
     "text": [
      "\r",
      "1162it [11:08,  2.05it/s]"
     ]
    },
    {
     "name": "stdout",
     "output_type": "stream",
     "text": [
      "sox WARN rate: rate clipped 17 samples; decrease volume?\r\n",
      "sox WARN dither: dither clipped 14 samples; decrease volume?\r\n"
     ]
    },
    {
     "name": "stderr",
     "output_type": "stream",
     "text": [
      "\r",
      "1163it [11:08,  1.99it/s]"
     ]
    },
    {
     "name": "stdout",
     "output_type": "stream",
     "text": [
      "sox WARN rate: rate clipped 18 samples; decrease volume?\r\n",
      "sox WARN dither: dither clipped 16 samples; decrease volume?\r\n"
     ]
    },
    {
     "name": "stderr",
     "output_type": "stream",
     "text": [
      "\r",
      "1164it [11:09,  1.94it/s]"
     ]
    },
    {
     "name": "stdout",
     "output_type": "stream",
     "text": [
      "sox WARN rate: rate clipped 13 samples; decrease volume?\r\n",
      "sox WARN dither: dither clipped 12 samples; decrease volume?\r\n"
     ]
    },
    {
     "name": "stderr",
     "output_type": "stream",
     "text": [
      "1166it [11:10,  1.73it/s]"
     ]
    },
    {
     "name": "stdout",
     "output_type": "stream",
     "text": [
      "sox WARN rate: rate clipped 18 samples; decrease volume?\r\n",
      "sox WARN dither: dither clipped 18 samples; decrease volume?\r\n"
     ]
    },
    {
     "name": "stderr",
     "output_type": "stream",
     "text": [
      "\r",
      "1167it [11:11,  1.78it/s]"
     ]
    },
    {
     "name": "stdout",
     "output_type": "stream",
     "text": [
      "sox WARN rate: rate clipped 14 samples; decrease volume?\r\n",
      "sox WARN dither: dither clipped 12 samples; decrease volume?\r\n"
     ]
    },
    {
     "name": "stderr",
     "output_type": "stream",
     "text": [
      "1170it [11:13,  1.41it/s]"
     ]
    },
    {
     "name": "stdout",
     "output_type": "stream",
     "text": [
      "sox WARN rate: rate clipped 17 samples; decrease volume?\r\n",
      "sox WARN dither: dither clipped 17 samples; decrease volume?\r\n"
     ]
    },
    {
     "name": "stderr",
     "output_type": "stream",
     "text": [
      "\r",
      "1171it [11:14,  1.51it/s]"
     ]
    },
    {
     "name": "stdout",
     "output_type": "stream",
     "text": [
      "sox WARN rate: rate clipped 17 samples; decrease volume?\r\n",
      "sox WARN dither: dither clipped 13 samples; decrease volume?\r\n"
     ]
    },
    {
     "name": "stderr",
     "output_type": "stream",
     "text": [
      "\r",
      "1172it [11:14,  1.60it/s]"
     ]
    },
    {
     "name": "stdout",
     "output_type": "stream",
     "text": [
      "sox WARN rate: rate clipped 16 samples; decrease volume?\r\n",
      "sox WARN dither: dither clipped 11 samples; decrease volume?\r\n"
     ]
    },
    {
     "name": "stderr",
     "output_type": "stream",
     "text": [
      "\r",
      "1173it [11:15,  1.66it/s]"
     ]
    },
    {
     "name": "stdout",
     "output_type": "stream",
     "text": [
      "sox WARN rate: rate clipped 107 samples; decrease volume?\r\n",
      "sox WARN dither: dither clipped 98 samples; decrease volume?\r\n"
     ]
    },
    {
     "name": "stderr",
     "output_type": "stream",
     "text": [
      "1175it [11:16,  1.38it/s]"
     ]
    },
    {
     "name": "stdout",
     "output_type": "stream",
     "text": [
      "sox WARN rate: rate clipped 6 samples; decrease volume?\r\n",
      "sox WARN dither: dither clipped 5 samples; decrease volume?\r\n"
     ]
    },
    {
     "name": "stderr",
     "output_type": "stream",
     "text": [
      "\r",
      "1176it [11:17,  1.32it/s]"
     ]
    },
    {
     "name": "stdout",
     "output_type": "stream",
     "text": [
      "sox WARN rate: rate clipped 206 samples; decrease volume?\r\n",
      "sox WARN dither: dither clipped 172 samples; decrease volume?\r\n"
     ]
    },
    {
     "name": "stderr",
     "output_type": "stream",
     "text": [
      "\r",
      "1177it [11:18,  1.29it/s]"
     ]
    },
    {
     "name": "stdout",
     "output_type": "stream",
     "text": [
      "sox WARN rate: rate clipped 20 samples; decrease volume?\r\n",
      "sox WARN dither: dither clipped 20 samples; decrease volume?\r\n"
     ]
    },
    {
     "name": "stderr",
     "output_type": "stream",
     "text": [
      "\r",
      "1178it [11:18,  1.43it/s]"
     ]
    },
    {
     "name": "stdout",
     "output_type": "stream",
     "text": [
      "sox WARN rate: rate clipped 17 samples; decrease volume?\r\n",
      "sox WARN dither: dither clipped 14 samples; decrease volume?\r\n"
     ]
    },
    {
     "name": "stderr",
     "output_type": "stream",
     "text": [
      "\r",
      "1179it [11:19,  1.54it/s]"
     ]
    },
    {
     "name": "stdout",
     "output_type": "stream",
     "text": [
      "sox WARN rate: rate clipped 19 samples; decrease volume?\r\n",
      "sox WARN dither: dither clipped 17 samples; decrease volume?\r\n"
     ]
    },
    {
     "name": "stderr",
     "output_type": "stream",
     "text": [
      "\r",
      "1180it [11:20,  1.36it/s]"
     ]
    },
    {
     "name": "stdout",
     "output_type": "stream",
     "text": [
      "sox WARN rate: rate clipped 17 samples; decrease volume?\r\n",
      "sox WARN dither: dither clipped 16 samples; decrease volume?\r\n"
     ]
    },
    {
     "name": "stderr",
     "output_type": "stream",
     "text": [
      "\r",
      "1181it [11:20,  1.48it/s]"
     ]
    },
    {
     "name": "stdout",
     "output_type": "stream",
     "text": [
      "sox WARN rate: rate clipped 4 samples; decrease volume?\r\n",
      "sox WARN dither: dither clipped 4 samples; decrease volume?\r\n"
     ]
    },
    {
     "name": "stderr",
     "output_type": "stream",
     "text": [
      "\r",
      "1182it [11:21,  1.46it/s]"
     ]
    },
    {
     "name": "stdout",
     "output_type": "stream",
     "text": [
      "sox WARN rate: rate clipped 19 samples; decrease volume?\r\n",
      "sox WARN dither: dither clipped 17 samples; decrease volume?\r\n"
     ]
    },
    {
     "name": "stderr",
     "output_type": "stream",
     "text": [
      "\r",
      "1183it [11:22,  1.56it/s]"
     ]
    },
    {
     "name": "stdout",
     "output_type": "stream",
     "text": [
      "sox WARN rate: rate clipped 15 samples; decrease volume?\r\n",
      "sox WARN dither: dither clipped 14 samples; decrease volume?\r\n"
     ]
    },
    {
     "name": "stderr",
     "output_type": "stream",
     "text": [
      "\r",
      "1184it [11:22,  1.64it/s]"
     ]
    },
    {
     "name": "stdout",
     "output_type": "stream",
     "text": [
      "sox WARN rate: rate clipped 11 samples; decrease volume?\r\n",
      "sox WARN dither: dither clipped 8 samples; decrease volume?\r\n"
     ]
    },
    {
     "name": "stderr",
     "output_type": "stream",
     "text": [
      "\r",
      "1185it [11:23,  1.62it/s]"
     ]
    },
    {
     "name": "stdout",
     "output_type": "stream",
     "text": [
      "sox WARN rate: rate clipped 16 samples; decrease volume?\r\n",
      "sox WARN dither: dither clipped 16 samples; decrease volume?\r\n"
     ]
    },
    {
     "name": "stderr",
     "output_type": "stream",
     "text": [
      "\r",
      "1186it [11:23,  1.69it/s]"
     ]
    },
    {
     "name": "stdout",
     "output_type": "stream",
     "text": [
      "sox WARN rate: rate clipped 18 samples; decrease volume?\r\n",
      "sox WARN dither: dither clipped 17 samples; decrease volume?\r\n"
     ]
    },
    {
     "name": "stderr",
     "output_type": "stream",
     "text": [
      "\r",
      "1187it [11:24,  1.74it/s]"
     ]
    },
    {
     "name": "stdout",
     "output_type": "stream",
     "text": [
      "sox WARN rate: rate clipped 12 samples; decrease volume?\r\n",
      "sox WARN dither: dither clipped 9 samples; decrease volume?\r\n"
     ]
    },
    {
     "name": "stderr",
     "output_type": "stream",
     "text": [
      "\r",
      "1188it [11:25,  1.62it/s]"
     ]
    },
    {
     "name": "stdout",
     "output_type": "stream",
     "text": [
      "sox WARN rate: rate clipped 17 samples; decrease volume?\r\n",
      "sox WARN dither: dither clipped 15 samples; decrease volume?\r\n"
     ]
    },
    {
     "name": "stderr",
     "output_type": "stream",
     "text": [
      "1191it [11:27,  1.44it/s]"
     ]
    },
    {
     "name": "stdout",
     "output_type": "stream",
     "text": [
      "sox WARN rate: rate clipped 18 samples; decrease volume?\r\n",
      "sox WARN dither: dither clipped 15 samples; decrease volume?\r\n"
     ]
    },
    {
     "name": "stderr",
     "output_type": "stream",
     "text": [
      "\r",
      "1192it [11:27,  1.55it/s]"
     ]
    },
    {
     "name": "stdout",
     "output_type": "stream",
     "text": [
      "sox WARN rate: rate clipped 1 samples; decrease volume?\r\n",
      "sox WARN dither: dither clipped 1 samples; decrease volume?\r\n"
     ]
    },
    {
     "name": "stderr",
     "output_type": "stream",
     "text": [
      "\r",
      "1193it [11:28,  1.64it/s]"
     ]
    },
    {
     "name": "stdout",
     "output_type": "stream",
     "text": [
      "sox WARN rate: rate clipped 18 samples; decrease volume?\r\n",
      "sox WARN dither: dither clipped 16 samples; decrease volume?\r\n"
     ]
    },
    {
     "name": "stderr",
     "output_type": "stream",
     "text": [
      "\r",
      "1194it [11:28,  1.69it/s]"
     ]
    },
    {
     "name": "stdout",
     "output_type": "stream",
     "text": [
      "sox WARN rate: rate clipped 19 samples; decrease volume?\r\n",
      "sox WARN dither: dither clipped 13 samples; decrease volume?\r\n"
     ]
    },
    {
     "name": "stderr",
     "output_type": "stream",
     "text": [
      "\r",
      "1195it [11:29,  1.73it/s]"
     ]
    },
    {
     "name": "stdout",
     "output_type": "stream",
     "text": [
      "sox WARN rate: rate clipped 321 samples; decrease volume?\r\n",
      "sox WARN dither: dither clipped 280 samples; decrease volume?\r\n"
     ]
    },
    {
     "name": "stderr",
     "output_type": "stream",
     "text": [
      "\r",
      "1196it [11:29,  1.77it/s]"
     ]
    },
    {
     "name": "stdout",
     "output_type": "stream",
     "text": [
      "sox WARN rate: rate clipped 15 samples; decrease volume?\r\n",
      "sox WARN dither: dither clipped 13 samples; decrease volume?\r\n"
     ]
    },
    {
     "name": "stderr",
     "output_type": "stream",
     "text": [
      "\r",
      "1197it [11:30,  1.81it/s]"
     ]
    },
    {
     "name": "stdout",
     "output_type": "stream",
     "text": [
      "sox WARN rate: rate clipped 18 samples; decrease volume?\r\n",
      "sox WARN dither: dither clipped 17 samples; decrease volume?\r\n"
     ]
    },
    {
     "name": "stderr",
     "output_type": "stream",
     "text": [
      "\r",
      "1198it [11:30,  1.82it/s]"
     ]
    },
    {
     "name": "stdout",
     "output_type": "stream",
     "text": [
      "sox WARN rate: rate clipped 18 samples; decrease volume?\r\n",
      "sox WARN dither: dither clipped 14 samples; decrease volume?\r\n"
     ]
    },
    {
     "name": "stderr",
     "output_type": "stream",
     "text": [
      "\r",
      "1199it [11:31,  1.81it/s]"
     ]
    },
    {
     "name": "stdout",
     "output_type": "stream",
     "text": [
      "sox WARN rate: rate clipped 17 samples; decrease volume?\r\n",
      "sox WARN dither: dither clipped 16 samples; decrease volume?\r\n"
     ]
    },
    {
     "name": "stderr",
     "output_type": "stream",
     "text": [
      "\r",
      "1200it [11:32,  1.83it/s]"
     ]
    },
    {
     "name": "stdout",
     "output_type": "stream",
     "text": [
      "sox WARN rate: rate clipped 18 samples; decrease volume?\r\n",
      "sox WARN dither: dither clipped 16 samples; decrease volume?\r\n"
     ]
    },
    {
     "name": "stderr",
     "output_type": "stream",
     "text": [
      "\r",
      "1201it [11:32,  1.81it/s]"
     ]
    },
    {
     "name": "stdout",
     "output_type": "stream",
     "text": [
      "sox WARN rate: rate clipped 18 samples; decrease volume?\r\n",
      "sox WARN dither: dither clipped 16 samples; decrease volume?\r\n"
     ]
    },
    {
     "name": "stderr",
     "output_type": "stream",
     "text": [
      "\r",
      "1202it [11:33,  1.82it/s]"
     ]
    },
    {
     "name": "stdout",
     "output_type": "stream",
     "text": [
      "sox WARN rate: rate clipped 15 samples; decrease volume?\r\n",
      "sox WARN dither: dither clipped 13 samples; decrease volume?\r\n"
     ]
    },
    {
     "name": "stderr",
     "output_type": "stream",
     "text": [
      "\r",
      "1203it [11:33,  1.83it/s]"
     ]
    },
    {
     "name": "stdout",
     "output_type": "stream",
     "text": [
      "sox WARN rate: rate clipped 14 samples; decrease volume?\r\n",
      "sox WARN dither: dither clipped 11 samples; decrease volume?\r\n"
     ]
    },
    {
     "name": "stderr",
     "output_type": "stream",
     "text": [
      "\r",
      "1204it [11:34,  1.78it/s]"
     ]
    },
    {
     "name": "stdout",
     "output_type": "stream",
     "text": [
      "sox WARN rate: rate clipped 19 samples; decrease volume?\r\n",
      "sox WARN dither: dither clipped 18 samples; decrease volume?\r\n"
     ]
    },
    {
     "name": "stderr",
     "output_type": "stream",
     "text": [
      "\r",
      "1205it [11:34,  1.80it/s]"
     ]
    },
    {
     "name": "stdout",
     "output_type": "stream",
     "text": [
      "sox WARN rate: rate clipped 18 samples; decrease volume?\r\n",
      "sox WARN dither: dither clipped 17 samples; decrease volume?\r\n"
     ]
    },
    {
     "name": "stderr",
     "output_type": "stream",
     "text": [
      "\r",
      "1206it [11:35,  1.81it/s]"
     ]
    },
    {
     "name": "stdout",
     "output_type": "stream",
     "text": [
      "sox WARN rate: rate clipped 19 samples; decrease volume?\r\n",
      "sox WARN dither: dither clipped 16 samples; decrease volume?\r\n"
     ]
    },
    {
     "name": "stderr",
     "output_type": "stream",
     "text": [
      "\r",
      "1207it [11:35,  1.81it/s]"
     ]
    },
    {
     "name": "stdout",
     "output_type": "stream",
     "text": [
      "sox WARN rate: rate clipped 29 samples; decrease volume?\r\n",
      "sox WARN dither: dither clipped 27 samples; decrease volume?\r\n"
     ]
    },
    {
     "name": "stderr",
     "output_type": "stream",
     "text": [
      "\r",
      "1208it [11:36,  1.81it/s]"
     ]
    },
    {
     "name": "stdout",
     "output_type": "stream",
     "text": [
      "sox WARN rate: rate clipped 2 samples; decrease volume?\r\n",
      "sox WARN dither: dither clipped 2 samples; decrease volume?\r\n"
     ]
    },
    {
     "name": "stderr",
     "output_type": "stream",
     "text": [
      "1213it [11:38,  1.60it/s]"
     ]
    },
    {
     "name": "stdout",
     "output_type": "stream",
     "text": [
      "sox WARN rate: rate clipped 18 samples; decrease volume?\r\n",
      "sox WARN dither: dither clipped 16 samples; decrease volume?\r\n"
     ]
    },
    {
     "name": "stderr",
     "output_type": "stream",
     "text": [
      "\r",
      "1214it [11:39,  1.67it/s]"
     ]
    },
    {
     "name": "stdout",
     "output_type": "stream",
     "text": [
      "sox WARN rate: rate clipped 347 samples; decrease volume?\r\n",
      "sox WARN dither: dither clipped 312 samples; decrease volume?\r\n"
     ]
    },
    {
     "name": "stderr",
     "output_type": "stream",
     "text": [
      "\r",
      "1215it [11:40,  1.44it/s]"
     ]
    },
    {
     "name": "stdout",
     "output_type": "stream",
     "text": [
      "sox WARN rate: rate clipped 12 samples; decrease volume?\r\n",
      "sox WARN dither: dither clipped 11 samples; decrease volume?\r\n"
     ]
    },
    {
     "name": "stderr",
     "output_type": "stream",
     "text": [
      "\r",
      "1216it [11:40,  1.62it/s]"
     ]
    },
    {
     "name": "stdout",
     "output_type": "stream",
     "text": [
      "sox WARN rate: rate clipped 17 samples; decrease volume?\r\n",
      "sox WARN dither: dither clipped 14 samples; decrease volume?\r\n"
     ]
    },
    {
     "name": "stderr",
     "output_type": "stream",
     "text": [
      "\r",
      "1217it [11:41,  1.68it/s]"
     ]
    },
    {
     "name": "stdout",
     "output_type": "stream",
     "text": [
      "sox WARN rate: rate clipped 54 samples; decrease volume?\r\n",
      "sox WARN dither: dither clipped 49 samples; decrease volume?\r\n"
     ]
    },
    {
     "name": "stderr",
     "output_type": "stream",
     "text": [
      "\r",
      "1218it [11:41,  1.73it/s]"
     ]
    },
    {
     "name": "stdout",
     "output_type": "stream",
     "text": [
      "sox WARN rate: rate clipped 18 samples; decrease volume?\r\n",
      "sox WARN dither: dither clipped 14 samples; decrease volume?\r\n"
     ]
    },
    {
     "name": "stderr",
     "output_type": "stream",
     "text": [
      "\r",
      "1219it [11:42,  1.47it/s]"
     ]
    },
    {
     "name": "stdout",
     "output_type": "stream",
     "text": [
      "sox WARN rate: rate clipped 32 samples; decrease volume?\r\n",
      "sox WARN dither: dither clipped 30 samples; decrease volume?\r\n"
     ]
    },
    {
     "name": "stderr",
     "output_type": "stream",
     "text": [
      "\r",
      "1220it [11:43,  1.52it/s]"
     ]
    },
    {
     "name": "stdout",
     "output_type": "stream",
     "text": [
      "sox WARN rate: rate clipped 18 samples; decrease volume?\r\n",
      "sox WARN dither: dither clipped 16 samples; decrease volume?\r\n"
     ]
    },
    {
     "name": "stderr",
     "output_type": "stream",
     "text": [
      "\r",
      "1221it [11:44,  1.35it/s]"
     ]
    },
    {
     "name": "stdout",
     "output_type": "stream",
     "text": [
      "sox WARN rate: rate clipped 18 samples; decrease volume?\r\n",
      "sox WARN dither: dither clipped 16 samples; decrease volume?\r\n"
     ]
    },
    {
     "name": "stderr",
     "output_type": "stream",
     "text": [
      "\r",
      "1222it [11:44,  1.47it/s]"
     ]
    },
    {
     "name": "stdout",
     "output_type": "stream",
     "text": [
      "sox WARN rate: rate clipped 16 samples; decrease volume?\r\n",
      "sox WARN dither: dither clipped 13 samples; decrease volume?\r\n"
     ]
    },
    {
     "name": "stderr",
     "output_type": "stream",
     "text": [
      "\r",
      "1223it [11:45,  1.58it/s]"
     ]
    },
    {
     "name": "stdout",
     "output_type": "stream",
     "text": [
      "sox WARN rate: rate clipped 18 samples; decrease volume?\r\n",
      "sox WARN dither: dither clipped 16 samples; decrease volume?\r\n"
     ]
    },
    {
     "name": "stderr",
     "output_type": "stream",
     "text": [
      "\r",
      "1224it [11:45,  1.89it/s]"
     ]
    },
    {
     "name": "stdout",
     "output_type": "stream",
     "text": [
      "sox WARN rate: rate clipped 11 samples; decrease volume?\r\n",
      "sox WARN dither: dither clipped 11 samples; decrease volume?\r\n"
     ]
    },
    {
     "name": "stderr",
     "output_type": "stream",
     "text": [
      "\r",
      "1225it [11:46,  1.72it/s]"
     ]
    },
    {
     "name": "stdout",
     "output_type": "stream",
     "text": [
      "sox WARN rate: rate clipped 15 samples; decrease volume?\r\n",
      "sox WARN dither: dither clipped 14 samples; decrease volume?\r\n"
     ]
    },
    {
     "name": "stderr",
     "output_type": "stream",
     "text": [
      "\r",
      "1226it [11:47,  1.57it/s]"
     ]
    },
    {
     "name": "stdout",
     "output_type": "stream",
     "text": [
      "sox WARN rate: rate clipped 4 samples; decrease volume?\r\n",
      "sox WARN dither: dither clipped 4 samples; decrease volume?\r\n"
     ]
    },
    {
     "name": "stderr",
     "output_type": "stream",
     "text": [
      "1228it [11:48,  1.44it/s]"
     ]
    },
    {
     "name": "stdout",
     "output_type": "stream",
     "text": [
      "sox WARN rate: rate clipped 16 samples; decrease volume?\r\n",
      "sox WARN dither: dither clipped 13 samples; decrease volume?\r\n"
     ]
    },
    {
     "name": "stderr",
     "output_type": "stream",
     "text": [
      "\r",
      "1229it [11:49,  1.55it/s]"
     ]
    },
    {
     "name": "stdout",
     "output_type": "stream",
     "text": [
      "sox WARN rate: rate clipped 3 samples; decrease volume?\r\n",
      "sox WARN dither: dither clipped 3 samples; decrease volume?\r\n"
     ]
    },
    {
     "name": "stderr",
     "output_type": "stream",
     "text": [
      "\r",
      "1230it [11:49,  1.49it/s]"
     ]
    },
    {
     "name": "stdout",
     "output_type": "stream",
     "text": [
      "sox WARN rate: rate clipped 1 samples; decrease volume?\r\n",
      "sox WARN dither: dither clipped 1 samples; decrease volume?\r\n"
     ]
    },
    {
     "name": "stderr",
     "output_type": "stream",
     "text": [
      "\r",
      "1231it [11:50,  1.35it/s]"
     ]
    },
    {
     "name": "stdout",
     "output_type": "stream",
     "text": [
      "sox WARN rate: rate clipped 17 samples; decrease volume?\r\n",
      "sox WARN dither: dither clipped 15 samples; decrease volume?\r\n"
     ]
    },
    {
     "name": "stderr",
     "output_type": "stream",
     "text": [
      "\r",
      "1232it [11:51,  1.47it/s]"
     ]
    },
    {
     "name": "stdout",
     "output_type": "stream",
     "text": [
      "sox WARN rate: rate clipped 65 samples; decrease volume?\r\n",
      "sox WARN dither: dither clipped 55 samples; decrease volume?\r\n"
     ]
    },
    {
     "name": "stderr",
     "output_type": "stream",
     "text": [
      "\r",
      "1233it [11:52,  1.44it/s]"
     ]
    },
    {
     "name": "stdout",
     "output_type": "stream",
     "text": [
      "sox WARN rate: rate clipped 4 samples; decrease volume?\r\n",
      "sox WARN dither: dither clipped 1 samples; decrease volume?\r\n"
     ]
    },
    {
     "name": "stderr",
     "output_type": "stream",
     "text": [
      "1235it [11:53,  1.27it/s]"
     ]
    },
    {
     "name": "stdout",
     "output_type": "stream",
     "text": [
      "sox WARN rate: rate clipped 25 samples; decrease volume?\r\n",
      "sox WARN dither: dither clipped 19 samples; decrease volume?\r\n"
     ]
    },
    {
     "name": "stderr",
     "output_type": "stream",
     "text": [
      "\r",
      "1236it [11:54,  1.33it/s]"
     ]
    },
    {
     "name": "stdout",
     "output_type": "stream",
     "text": [
      "sox WARN rate: rate clipped 18 samples; decrease volume?\r\n",
      "sox WARN dither: dither clipped 14 samples; decrease volume?\r\n"
     ]
    },
    {
     "name": "stderr",
     "output_type": "stream",
     "text": [
      "\r",
      "1237it [11:55,  1.25it/s]"
     ]
    },
    {
     "name": "stdout",
     "output_type": "stream",
     "text": [
      "sox WARN rate: rate clipped 36 samples; decrease volume?\r\n",
      "sox WARN dither: dither clipped 32 samples; decrease volume?\r\n"
     ]
    },
    {
     "name": "stderr",
     "output_type": "stream",
     "text": [
      "\r",
      "1238it [11:55,  1.47it/s]"
     ]
    },
    {
     "name": "stdout",
     "output_type": "stream",
     "text": [
      "sox WARN rate: rate clipped 17 samples; decrease volume?\r\n",
      "sox WARN dither: dither clipped 17 samples; decrease volume?\r\n"
     ]
    },
    {
     "name": "stderr",
     "output_type": "stream",
     "text": [
      "1241it [11:58,  1.31it/s]"
     ]
    },
    {
     "name": "stdout",
     "output_type": "stream",
     "text": [
      "sox WARN rate: rate clipped 15 samples; decrease volume?\r\n",
      "sox WARN dither: dither clipped 11 samples; decrease volume?\r\n"
     ]
    },
    {
     "name": "stderr",
     "output_type": "stream",
     "text": [
      "\r",
      "1242it [11:58,  1.44it/s]"
     ]
    },
    {
     "name": "stdout",
     "output_type": "stream",
     "text": [
      "sox WARN rate: rate clipped 19 samples; decrease volume?\r\n",
      "sox WARN dither: dither clipped 17 samples; decrease volume?\r\n"
     ]
    },
    {
     "name": "stderr",
     "output_type": "stream",
     "text": [
      "\r",
      "1243it [11:59,  1.55it/s]"
     ]
    },
    {
     "name": "stdout",
     "output_type": "stream",
     "text": [
      "sox WARN rate: rate clipped 19 samples; decrease volume?\r\n",
      "sox WARN dither: dither clipped 17 samples; decrease volume?\r\n"
     ]
    },
    {
     "name": "stderr",
     "output_type": "stream",
     "text": [
      "\r",
      "1244it [12:00,  1.37it/s]"
     ]
    },
    {
     "name": "stdout",
     "output_type": "stream",
     "text": [
      "sox WARN rate: rate clipped 1 samples; decrease volume?\r\n",
      "sox WARN dither: dither clipped 1 samples; decrease volume?\r\n"
     ]
    },
    {
     "name": "stderr",
     "output_type": "stream",
     "text": [
      "\r",
      "1245it [12:00,  1.31it/s]"
     ]
    },
    {
     "name": "stdout",
     "output_type": "stream",
     "text": [
      "sox WARN rate: rate clipped 161 samples; decrease volume?\r\n",
      "sox WARN dither: dither clipped 145 samples; decrease volume?\r\n"
     ]
    },
    {
     "name": "stderr",
     "output_type": "stream",
     "text": [
      "1247it [12:02,  1.28it/s]"
     ]
    },
    {
     "name": "stdout",
     "output_type": "stream",
     "text": [
      "sox WARN rate: rate clipped 20 samples; decrease volume?\r\n",
      "sox WARN dither: dither clipped 17 samples; decrease volume?\r\n"
     ]
    },
    {
     "name": "stderr",
     "output_type": "stream",
     "text": [
      "\r",
      "1248it [12:03,  1.41it/s]"
     ]
    },
    {
     "name": "stdout",
     "output_type": "stream",
     "text": [
      "sox WARN rate: rate clipped 14 samples; decrease volume?\r\n",
      "sox WARN dither: dither clipped 14 samples; decrease volume?\r\n"
     ]
    },
    {
     "name": "stderr",
     "output_type": "stream",
     "text": [
      "\r",
      "1249it [12:03,  1.42it/s]"
     ]
    },
    {
     "name": "stdout",
     "output_type": "stream",
     "text": [
      "sox WARN rate: rate clipped 18 samples; decrease volume?\r\n",
      "sox WARN dither: dither clipped 15 samples; decrease volume?\r\n"
     ]
    },
    {
     "name": "stderr",
     "output_type": "stream",
     "text": [
      "\r",
      "1250it [12:04,  1.53it/s]"
     ]
    },
    {
     "name": "stdout",
     "output_type": "stream",
     "text": [
      "sox WARN rate: rate clipped 392 samples; decrease volume?\r\n",
      "sox WARN dither: dither clipped 344 samples; decrease volume?\r\n"
     ]
    },
    {
     "name": "stderr",
     "output_type": "stream",
     "text": [
      "1252it [12:05,  1.41it/s]"
     ]
    },
    {
     "name": "stdout",
     "output_type": "stream",
     "text": [
      "sox WARN rate: rate clipped 336 samples; decrease volume?\r\n",
      "sox WARN dither: dither clipped 297 samples; decrease volume?\r\n"
     ]
    },
    {
     "name": "stderr",
     "output_type": "stream",
     "text": [
      "\r",
      "1253it [12:06,  1.39it/s]"
     ]
    },
    {
     "name": "stdout",
     "output_type": "stream",
     "text": [
      "sox WARN rate: rate clipped 12 samples; decrease volume?\r\n",
      "sox WARN dither: dither clipped 9 samples; decrease volume?\r\n"
     ]
    },
    {
     "name": "stderr",
     "output_type": "stream",
     "text": [
      "\r",
      "1254it [12:07,  1.46it/s]"
     ]
    },
    {
     "name": "stdout",
     "output_type": "stream",
     "text": [
      "sox WARN rate: rate clipped 17 samples; decrease volume?\r\n",
      "sox WARN dither: dither clipped 14 samples; decrease volume?\r\n"
     ]
    },
    {
     "name": "stderr",
     "output_type": "stream",
     "text": [
      "\r",
      "1255it [12:07,  1.56it/s]"
     ]
    },
    {
     "name": "stdout",
     "output_type": "stream",
     "text": [
      "sox WARN rate: rate clipped 17 samples; decrease volume?\r\n",
      "sox WARN dither: dither clipped 16 samples; decrease volume?\r\n"
     ]
    },
    {
     "name": "stderr",
     "output_type": "stream",
     "text": [
      "\r",
      "1256it [12:08,  1.65it/s]"
     ]
    },
    {
     "name": "stdout",
     "output_type": "stream",
     "text": [
      "sox WARN rate: rate clipped 5 samples; decrease volume?\r\n",
      "sox WARN dither: dither clipped 4 samples; decrease volume?\r\n"
     ]
    },
    {
     "name": "stderr",
     "output_type": "stream",
     "text": [
      "1258it [12:09,  1.32it/s]"
     ]
    },
    {
     "name": "stdout",
     "output_type": "stream",
     "text": [
      "sox WARN rate: rate clipped 14 samples; decrease volume?\r\n",
      "sox WARN dither: dither clipped 10 samples; decrease volume?\r\n"
     ]
    },
    {
     "name": "stderr",
     "output_type": "stream",
     "text": [
      "1260it [12:11,  1.39it/s]"
     ]
    },
    {
     "name": "stdout",
     "output_type": "stream",
     "text": [
      "sox WARN rate: rate clipped 17 samples; decrease volume?\r\n",
      "sox WARN dither: dither clipped 14 samples; decrease volume?\r\n"
     ]
    },
    {
     "name": "stderr",
     "output_type": "stream",
     "text": [
      "\r",
      "1261it [12:11,  1.50it/s]"
     ]
    },
    {
     "name": "stdout",
     "output_type": "stream",
     "text": [
      "sox WARN rate: rate clipped 20 samples; decrease volume?\r\n",
      "sox WARN dither: dither clipped 17 samples; decrease volume?\r\n"
     ]
    },
    {
     "name": "stderr",
     "output_type": "stream",
     "text": [
      "\r",
      "1262it [12:12,  1.59it/s]"
     ]
    },
    {
     "name": "stdout",
     "output_type": "stream",
     "text": [
      "sox WARN rate: rate clipped 36 samples; decrease volume?\r\n",
      "sox WARN dither: dither clipped 28 samples; decrease volume?\r\n"
     ]
    },
    {
     "name": "stderr",
     "output_type": "stream",
     "text": [
      "\r",
      "1263it [12:13,  1.38it/s]"
     ]
    },
    {
     "name": "stdout",
     "output_type": "stream",
     "text": [
      "sox WARN rate: rate clipped 6 samples; decrease volume?\r\n",
      "sox WARN dither: dither clipped 4 samples; decrease volume?\r\n"
     ]
    },
    {
     "name": "stderr",
     "output_type": "stream",
     "text": [
      "\r",
      "1264it [12:14,  1.34it/s]"
     ]
    },
    {
     "name": "stdout",
     "output_type": "stream",
     "text": [
      "sox WARN rate: rate clipped 18 samples; decrease volume?\r\n",
      "sox WARN dither: dither clipped 16 samples; decrease volume?\r\n"
     ]
    },
    {
     "name": "stderr",
     "output_type": "stream",
     "text": [
      "\r",
      "1265it [12:14,  1.45it/s]"
     ]
    },
    {
     "name": "stdout",
     "output_type": "stream",
     "text": [
      "sox WARN rate: rate clipped 2 samples; decrease volume?\r\n",
      "sox WARN dither: dither clipped 1 samples; decrease volume?\r\n"
     ]
    },
    {
     "name": "stderr",
     "output_type": "stream",
     "text": [
      "\r",
      "1266it [12:15,  1.40it/s]"
     ]
    },
    {
     "name": "stdout",
     "output_type": "stream",
     "text": [
      "sox WARN rate: rate clipped 18 samples; decrease volume?\r\n",
      "sox WARN dither: dither clipped 16 samples; decrease volume?\r\n"
     ]
    },
    {
     "name": "stderr",
     "output_type": "stream",
     "text": [
      "\r",
      "1267it [12:16,  1.50it/s]"
     ]
    },
    {
     "name": "stdout",
     "output_type": "stream",
     "text": [
      "sox WARN rate: rate clipped 18 samples; decrease volume?\r\n",
      "sox WARN dither: dither clipped 17 samples; decrease volume?\r\n"
     ]
    },
    {
     "name": "stderr",
     "output_type": "stream",
     "text": [
      "\r",
      "1268it [12:16,  1.34it/s]"
     ]
    },
    {
     "name": "stdout",
     "output_type": "stream",
     "text": [
      "sox WARN rate: rate clipped 28 samples; decrease volume?\r\n",
      "sox WARN dither: dither clipped 24 samples; decrease volume?\r\n"
     ]
    },
    {
     "name": "stderr",
     "output_type": "stream",
     "text": [
      "\r",
      "1269it [12:17,  1.34it/s]"
     ]
    },
    {
     "name": "stdout",
     "output_type": "stream",
     "text": [
      "sox WARN rate: rate clipped 10 samples; decrease volume?\r\n",
      "sox WARN dither: dither clipped 9 samples; decrease volume?\r\n"
     ]
    },
    {
     "name": "stderr",
     "output_type": "stream",
     "text": [
      "\r",
      "1270it [12:18,  1.25it/s]"
     ]
    },
    {
     "name": "stdout",
     "output_type": "stream",
     "text": [
      "sox WARN rate: rate clipped 104 samples; decrease volume?\r\n",
      "sox WARN dither: dither clipped 88 samples; decrease volume?\r\n"
     ]
    },
    {
     "name": "stderr",
     "output_type": "stream",
     "text": [
      "\r",
      "1271it [12:19,  1.19it/s]"
     ]
    },
    {
     "name": "stdout",
     "output_type": "stream",
     "text": [
      "sox WARN rate: rate clipped 7 samples; decrease volume?\r\n",
      "sox WARN dither: dither clipped 4 samples; decrease volume?\r\n"
     ]
    },
    {
     "name": "stderr",
     "output_type": "stream",
     "text": [
      "1273it [12:21,  1.27it/s]"
     ]
    },
    {
     "name": "stdout",
     "output_type": "stream",
     "text": [
      "sox WARN rate: rate clipped 19 samples; decrease volume?\r\n",
      "sox WARN dither: dither clipped 18 samples; decrease volume?\r\n"
     ]
    },
    {
     "name": "stderr",
     "output_type": "stream",
     "text": [
      "\r",
      "1274it [12:21,  1.40it/s]"
     ]
    },
    {
     "name": "stdout",
     "output_type": "stream",
     "text": [
      "sox WARN rate: rate clipped 19 samples; decrease volume?\r\n",
      "sox WARN dither: dither clipped 18 samples; decrease volume?\r\n"
     ]
    },
    {
     "name": "stderr",
     "output_type": "stream",
     "text": [
      "\r",
      "1275it [12:22,  1.28it/s]"
     ]
    },
    {
     "name": "stdout",
     "output_type": "stream",
     "text": [
      "sox WARN rate: rate clipped 86 samples; decrease volume?\r\n",
      "sox WARN dither: dither clipped 75 samples; decrease volume?\r\n"
     ]
    },
    {
     "name": "stderr",
     "output_type": "stream",
     "text": [
      "\r",
      "1276it [12:23,  1.26it/s]"
     ]
    },
    {
     "name": "stdout",
     "output_type": "stream",
     "text": [
      "sox WARN rate: rate clipped 1017 samples; decrease volume?\r\n",
      "sox WARN dither: dither clipped 888 samples; decrease volume?\r\n"
     ]
    },
    {
     "name": "stderr",
     "output_type": "stream",
     "text": [
      "1278it [12:25,  1.16it/s]"
     ]
    },
    {
     "name": "stdout",
     "output_type": "stream",
     "text": [
      "sox WARN rate: rate clipped 19 samples; decrease volume?\r\n",
      "sox WARN dither: dither clipped 17 samples; decrease volume?\r\n"
     ]
    },
    {
     "name": "stderr",
     "output_type": "stream",
     "text": [
      "1280it [12:26,  1.22it/s]"
     ]
    },
    {
     "name": "stdout",
     "output_type": "stream",
     "text": [
      "sox WARN rate: rate clipped 532 samples; decrease volume?\r\n",
      "sox WARN dither: dither clipped 470 samples; decrease volume?\r\n"
     ]
    },
    {
     "name": "stderr",
     "output_type": "stream",
     "text": [
      "1282it [12:28,  1.26it/s]"
     ]
    },
    {
     "name": "stdout",
     "output_type": "stream",
     "text": [
      "sox WARN rate: rate clipped 4 samples; decrease volume?\r\n",
      "sox WARN dither: dither clipped 2 samples; decrease volume?\r\n"
     ]
    },
    {
     "name": "stderr",
     "output_type": "stream",
     "text": [
      "\r",
      "1283it [12:28,  1.45it/s]"
     ]
    },
    {
     "name": "stdout",
     "output_type": "stream",
     "text": [
      "sox WARN rate: rate clipped 18 samples; decrease volume?\r\n",
      "sox WARN dither: dither clipped 18 samples; decrease volume?\r\n"
     ]
    },
    {
     "name": "stderr",
     "output_type": "stream",
     "text": [
      "\r",
      "1284it [12:29,  1.54it/s]"
     ]
    },
    {
     "name": "stdout",
     "output_type": "stream",
     "text": [
      "sox WARN rate: rate clipped 23 samples; decrease volume?\r\n",
      "sox WARN dither: dither clipped 22 samples; decrease volume?\r\n"
     ]
    },
    {
     "name": "stderr",
     "output_type": "stream",
     "text": [
      "\r",
      "1285it [12:29,  1.63it/s]"
     ]
    },
    {
     "name": "stdout",
     "output_type": "stream",
     "text": [
      "sox WARN rate: rate clipped 18 samples; decrease volume?\r\n",
      "sox WARN dither: dither clipped 17 samples; decrease volume?\r\n"
     ]
    },
    {
     "name": "stderr",
     "output_type": "stream",
     "text": [
      "1289it [12:32,  1.26it/s]"
     ]
    },
    {
     "name": "stdout",
     "output_type": "stream",
     "text": [
      "sox WARN rate: rate clipped 260 samples; decrease volume?\r\n",
      "sox WARN dither: dither clipped 231 samples; decrease volume?\r\n"
     ]
    },
    {
     "name": "stderr",
     "output_type": "stream",
     "text": [
      "\r",
      "1290it [12:33,  1.29it/s]"
     ]
    },
    {
     "name": "stdout",
     "output_type": "stream",
     "text": [
      "sox WARN rate: rate clipped 19 samples; decrease volume?\r\n",
      "sox WARN dither: dither clipped 16 samples; decrease volume?\r\n"
     ]
    },
    {
     "name": "stderr",
     "output_type": "stream",
     "text": [
      "1292it [12:35,  1.29it/s]"
     ]
    },
    {
     "name": "stdout",
     "output_type": "stream",
     "text": [
      "sox WARN rate: rate clipped 18 samples; decrease volume?\r\n",
      "sox WARN dither: dither clipped 16 samples; decrease volume?\r\n"
     ]
    },
    {
     "name": "stderr",
     "output_type": "stream",
     "text": [
      "\r",
      "1293it [12:35,  1.42it/s]"
     ]
    },
    {
     "name": "stdout",
     "output_type": "stream",
     "text": [
      "sox WARN rate: rate clipped 14 samples; decrease volume?\r\n",
      "sox WARN dither: dither clipped 11 samples; decrease volume?\r\n"
     ]
    },
    {
     "name": "stderr",
     "output_type": "stream",
     "text": [
      "1295it [12:36,  1.46it/s]"
     ]
    },
    {
     "name": "stdout",
     "output_type": "stream",
     "text": [
      "sox WARN rate: rate clipped 20 samples; decrease volume?\r\n",
      "sox WARN dither: dither clipped 16 samples; decrease volume?\r\n"
     ]
    },
    {
     "name": "stderr",
     "output_type": "stream",
     "text": [
      "\r",
      "1296it [12:37,  1.37it/s]"
     ]
    },
    {
     "name": "stdout",
     "output_type": "stream",
     "text": [
      "sox WARN rate: rate clipped 16 samples; decrease volume?\r\n",
      "sox WARN dither: dither clipped 16 samples; decrease volume?\r\n"
     ]
    },
    {
     "name": "stderr",
     "output_type": "stream",
     "text": [
      "\r",
      "1297it [12:38,  1.49it/s]"
     ]
    },
    {
     "name": "stdout",
     "output_type": "stream",
     "text": [
      "sox WARN rate: rate clipped 87 samples; decrease volume?\r\n",
      "sox WARN dither: dither clipped 77 samples; decrease volume?\r\n"
     ]
    },
    {
     "name": "stderr",
     "output_type": "stream",
     "text": [
      "\r",
      "1298it [12:39,  1.41it/s]"
     ]
    },
    {
     "name": "stdout",
     "output_type": "stream",
     "text": [
      "sox WARN rate: rate clipped 17 samples; decrease volume?\r\n",
      "sox WARN dither: dither clipped 14 samples; decrease volume?\r\n"
     ]
    },
    {
     "name": "stderr",
     "output_type": "stream",
     "text": [
      "1300it [12:40,  1.57it/s]"
     ]
    },
    {
     "name": "stdout",
     "output_type": "stream",
     "text": [
      "sox WARN rate: rate clipped 153 samples; decrease volume?\r\n",
      "sox WARN dither: dither clipped 136 samples; decrease volume?\r\n"
     ]
    },
    {
     "name": "stderr",
     "output_type": "stream",
     "text": [
      "\r",
      "1301it [12:40,  1.64it/s]"
     ]
    },
    {
     "name": "stdout",
     "output_type": "stream",
     "text": [
      "sox WARN rate: rate clipped 16 samples; decrease volume?\r\n",
      "sox WARN dither: dither clipped 14 samples; decrease volume?\r\n"
     ]
    },
    {
     "name": "stderr",
     "output_type": "stream",
     "text": [
      "\r",
      "1302it [12:41,  1.70it/s]"
     ]
    },
    {
     "name": "stdout",
     "output_type": "stream",
     "text": [
      "sox WARN rate: rate clipped 22 samples; decrease volume?\r\n",
      "sox WARN dither: dither clipped 22 samples; decrease volume?\r\n"
     ]
    },
    {
     "name": "stderr",
     "output_type": "stream",
     "text": [
      "\r",
      "1303it [12:42,  1.44it/s]"
     ]
    },
    {
     "name": "stdout",
     "output_type": "stream",
     "text": [
      "sox WARN rate: rate clipped 2 samples; decrease volume?\r\n",
      "sox WARN dither: dither clipped 2 samples; decrease volume?\r\n"
     ]
    },
    {
     "name": "stderr",
     "output_type": "stream",
     "text": [
      "\r",
      "1304it [12:43,  1.36it/s]"
     ]
    },
    {
     "name": "stdout",
     "output_type": "stream",
     "text": [
      "sox WARN rate: rate clipped 3 samples; decrease volume?\r\n",
      "sox WARN dither: dither clipped 3 samples; decrease volume?\r\n"
     ]
    },
    {
     "name": "stderr",
     "output_type": "stream",
     "text": [
      "\r",
      "1305it [12:43,  1.36it/s]"
     ]
    },
    {
     "name": "stdout",
     "output_type": "stream",
     "text": [
      "sox WARN rate: rate clipped 18 samples; decrease volume?\r\n",
      "sox WARN dither: dither clipped 16 samples; decrease volume?\r\n"
     ]
    },
    {
     "name": "stderr",
     "output_type": "stream",
     "text": [
      "\r",
      "1306it [12:44,  1.47it/s]"
     ]
    },
    {
     "name": "stdout",
     "output_type": "stream",
     "text": [
      "sox WARN rate: rate clipped 4 samples; decrease volume?\r\n",
      "sox WARN dither: dither clipped 4 samples; decrease volume?\r\n"
     ]
    },
    {
     "name": "stderr",
     "output_type": "stream",
     "text": [
      "\r",
      "1307it [12:45,  1.37it/s]"
     ]
    },
    {
     "name": "stdout",
     "output_type": "stream",
     "text": [
      "sox WARN rate: rate clipped 26 samples; decrease volume?\r\n",
      "sox WARN dither: dither clipped 25 samples; decrease volume?\r\n"
     ]
    },
    {
     "name": "stderr",
     "output_type": "stream",
     "text": [
      "\r",
      "1308it [12:45,  1.32it/s]"
     ]
    },
    {
     "name": "stdout",
     "output_type": "stream",
     "text": [
      "sox WARN rate: rate clipped 4 samples; decrease volume?\r\n",
      "sox WARN dither: dither clipped 4 samples; decrease volume?\r\n"
     ]
    },
    {
     "name": "stderr",
     "output_type": "stream",
     "text": [
      "1310it [12:47,  1.29it/s]"
     ]
    },
    {
     "name": "stdout",
     "output_type": "stream",
     "text": [
      "sox WARN rate: rate clipped 8 samples; decrease volume?\r\n",
      "sox WARN dither: dither clipped 7 samples; decrease volume?\r\n"
     ]
    },
    {
     "name": "stderr",
     "output_type": "stream",
     "text": [
      "1312it [12:49,  1.30it/s]"
     ]
    },
    {
     "name": "stdout",
     "output_type": "stream",
     "text": [
      "sox WARN rate: rate clipped 2 samples; decrease volume?\r\n",
      "sox WARN dither: dither clipped 2 samples; decrease volume?\r\n"
     ]
    },
    {
     "name": "stderr",
     "output_type": "stream",
     "text": [
      "\r",
      "1313it [12:49,  1.31it/s]"
     ]
    },
    {
     "name": "stdout",
     "output_type": "stream",
     "text": [
      "sox WARN rate: rate clipped 20 samples; decrease volume?\r\n",
      "sox WARN dither: dither clipped 20 samples; decrease volume?\r\n"
     ]
    },
    {
     "name": "stderr",
     "output_type": "stream",
     "text": [
      "\r",
      "1314it [12:50,  1.44it/s]"
     ]
    },
    {
     "name": "stdout",
     "output_type": "stream",
     "text": [
      "sox WARN rate: rate clipped 3 samples; decrease volume?\r\n",
      "sox WARN dither: dither clipped 3 samples; decrease volume?\r\n"
     ]
    },
    {
     "name": "stderr",
     "output_type": "stream",
     "text": [
      "\r",
      "1315it [12:51,  1.36it/s]"
     ]
    },
    {
     "name": "stdout",
     "output_type": "stream",
     "text": [
      "sox WARN rate: rate clipped 18 samples; decrease volume?\r\n",
      "sox WARN dither: dither clipped 15 samples; decrease volume?\r\n"
     ]
    },
    {
     "name": "stderr",
     "output_type": "stream",
     "text": [
      "1317it [12:53,  1.19it/s]"
     ]
    },
    {
     "name": "stdout",
     "output_type": "stream",
     "text": [
      "sox WARN rate: rate clipped 207 samples; decrease volume?\r\n",
      "sox WARN dither: dither clipped 174 samples; decrease volume?\r\n"
     ]
    },
    {
     "name": "stderr",
     "output_type": "stream",
     "text": [
      "\r",
      "1318it [12:53,  1.34it/s]"
     ]
    },
    {
     "name": "stdout",
     "output_type": "stream",
     "text": [
      "sox WARN rate: rate clipped 152 samples; decrease volume?\r\n",
      "sox WARN dither: dither clipped 138 samples; decrease volume?\r\n"
     ]
    },
    {
     "name": "stderr",
     "output_type": "stream",
     "text": [
      "1320it [12:55,  1.32it/s]"
     ]
    },
    {
     "name": "stdout",
     "output_type": "stream",
     "text": [
      "sox WARN rate: rate clipped 4 samples; decrease volume?\r\n",
      "sox WARN dither: dither clipped 3 samples; decrease volume?\r\n"
     ]
    },
    {
     "name": "stderr",
     "output_type": "stream",
     "text": [
      "\r",
      "1321it [12:55,  1.41it/s]"
     ]
    },
    {
     "name": "stdout",
     "output_type": "stream",
     "text": [
      "sox WARN rate: rate clipped 7 samples; decrease volume?\r\n",
      "sox WARN dither: dither clipped 7 samples; decrease volume?\r\n"
     ]
    },
    {
     "name": "stderr",
     "output_type": "stream",
     "text": [
      "\r",
      "1322it [12:56,  1.29it/s]"
     ]
    },
    {
     "name": "stdout",
     "output_type": "stream",
     "text": [
      "sox WARN rate: rate clipped 15 samples; decrease volume?\r\n",
      "sox WARN dither: dither clipped 14 samples; decrease volume?\r\n"
     ]
    },
    {
     "name": "stderr",
     "output_type": "stream",
     "text": [
      "\r",
      "1323it [12:57,  1.42it/s]"
     ]
    },
    {
     "name": "stdout",
     "output_type": "stream",
     "text": [
      "sox WARN rate: rate clipped 18 samples; decrease volume?\r\n",
      "sox WARN dither: dither clipped 17 samples; decrease volume?\r\n"
     ]
    },
    {
     "name": "stderr",
     "output_type": "stream",
     "text": [
      "\r",
      "1324it [12:57,  1.52it/s]"
     ]
    },
    {
     "name": "stdout",
     "output_type": "stream",
     "text": [
      "sox WARN rate: rate clipped 29 samples; decrease volume?\r\n",
      "sox WARN dither: dither clipped 23 samples; decrease volume?\r\n"
     ]
    },
    {
     "name": "stderr",
     "output_type": "stream",
     "text": [
      "\r",
      "1325it [12:58,  1.61it/s]"
     ]
    },
    {
     "name": "stdout",
     "output_type": "stream",
     "text": [
      "sox WARN rate: rate clipped 218 samples; decrease volume?\r\n",
      "sox WARN dither: dither clipped 184 samples; decrease volume?\r\n"
     ]
    },
    {
     "name": "stderr",
     "output_type": "stream",
     "text": [
      "1327it [12:59,  1.31it/s]"
     ]
    },
    {
     "name": "stdout",
     "output_type": "stream",
     "text": [
      "sox WARN rate: rate clipped 18 samples; decrease volume?\r\n",
      "sox WARN dither: dither clipped 17 samples; decrease volume?\r\n"
     ]
    },
    {
     "name": "stderr",
     "output_type": "stream",
     "text": [
      "1329it [13:01,  1.41it/s]"
     ]
    },
    {
     "name": "stdout",
     "output_type": "stream",
     "text": [
      "sox WARN rate: rate clipped 19 samples; decrease volume?\r\n",
      "sox WARN dither: dither clipped 16 samples; decrease volume?\r\n"
     ]
    },
    {
     "name": "stderr",
     "output_type": "stream",
     "text": [
      "1331it [13:02,  1.32it/s]"
     ]
    },
    {
     "name": "stdout",
     "output_type": "stream",
     "text": [
      "sox WARN rate: rate clipped 63 samples; decrease volume?\r\n",
      "sox WARN dither: dither clipped 55 samples; decrease volume?\r\n"
     ]
    },
    {
     "name": "stderr",
     "output_type": "stream",
     "text": [
      "\r",
      "1332it [13:03,  1.45it/s]"
     ]
    },
    {
     "name": "stdout",
     "output_type": "stream",
     "text": [
      "sox WARN rate: rate clipped 18 samples; decrease volume?\r\n",
      "sox WARN dither: dither clipped 15 samples; decrease volume?\r\n"
     ]
    },
    {
     "name": "stderr",
     "output_type": "stream",
     "text": [
      "1334it [13:04,  1.37it/s]"
     ]
    },
    {
     "name": "stdout",
     "output_type": "stream",
     "text": [
      "sox WARN rate: rate clipped 19 samples; decrease volume?\r\n",
      "sox WARN dither: dither clipped 17 samples; decrease volume?\r\n"
     ]
    },
    {
     "name": "stderr",
     "output_type": "stream",
     "text": [
      "\r",
      "1335it [13:05,  1.36it/s]"
     ]
    },
    {
     "name": "stdout",
     "output_type": "stream",
     "text": [
      "sox WARN rate: rate clipped 89 samples; decrease volume?\r\n",
      "sox WARN dither: dither clipped 73 samples; decrease volume?\r\n"
     ]
    },
    {
     "name": "stderr",
     "output_type": "stream",
     "text": [
      "\r",
      "1336it [13:06,  1.48it/s]"
     ]
    },
    {
     "name": "stdout",
     "output_type": "stream",
     "text": [
      "sox WARN rate: rate clipped 16 samples; decrease volume?\r\n",
      "sox WARN dither: dither clipped 15 samples; decrease volume?\r\n"
     ]
    },
    {
     "name": "stderr",
     "output_type": "stream",
     "text": [
      "\r",
      "1337it [13:06,  1.58it/s]"
     ]
    },
    {
     "name": "stdout",
     "output_type": "stream",
     "text": [
      "sox WARN rate: rate clipped 19 samples; decrease volume?\r\n",
      "sox WARN dither: dither clipped 16 samples; decrease volume?\r\n"
     ]
    },
    {
     "name": "stderr",
     "output_type": "stream",
     "text": [
      "\r",
      "1338it [13:07,  1.65it/s]"
     ]
    },
    {
     "name": "stdout",
     "output_type": "stream",
     "text": [
      "sox WARN rate: rate clipped 25 samples; decrease volume?\r\n",
      "sox WARN dither: dither clipped 20 samples; decrease volume?\r\n"
     ]
    },
    {
     "name": "stderr",
     "output_type": "stream",
     "text": [
      "\r",
      "1339it [13:07,  1.55it/s]"
     ]
    },
    {
     "name": "stdout",
     "output_type": "stream",
     "text": [
      "sox WARN rate: rate clipped 4 samples; decrease volume?\r\n",
      "sox WARN dither: dither clipped 3 samples; decrease volume?\r\n"
     ]
    },
    {
     "name": "stderr",
     "output_type": "stream",
     "text": [
      "1341it [13:09,  1.40it/s]"
     ]
    },
    {
     "name": "stdout",
     "output_type": "stream",
     "text": [
      "sox WARN rate: rate clipped 23 samples; decrease volume?\r\n",
      "sox WARN dither: dither clipped 19 samples; decrease volume?\r\n"
     ]
    },
    {
     "name": "stderr",
     "output_type": "stream",
     "text": [
      "\r",
      "1342it [13:10,  1.52it/s]"
     ]
    },
    {
     "name": "stdout",
     "output_type": "stream",
     "text": [
      "sox WARN rate: rate clipped 15 samples; decrease volume?\r\n",
      "sox WARN dither: dither clipped 13 samples; decrease volume?\r\n"
     ]
    },
    {
     "name": "stderr",
     "output_type": "stream",
     "text": [
      "\r",
      "1343it [13:10,  1.48it/s]"
     ]
    },
    {
     "name": "stdout",
     "output_type": "stream",
     "text": [
      "sox WARN rate: rate clipped 2 samples; decrease volume?\r\n",
      "sox WARN dither: dither clipped 2 samples; decrease volume?\r\n"
     ]
    },
    {
     "name": "stderr",
     "output_type": "stream",
     "text": [
      "\r",
      "1344it [13:11,  1.37it/s]"
     ]
    },
    {
     "name": "stdout",
     "output_type": "stream",
     "text": [
      "sox WARN rate: rate clipped 9 samples; decrease volume?\r\n",
      "sox WARN dither: dither clipped 9 samples; decrease volume?\r\n"
     ]
    },
    {
     "name": "stderr",
     "output_type": "stream",
     "text": [
      "1350it [13:17,  1.10it/s]"
     ]
    },
    {
     "name": "stdout",
     "output_type": "stream",
     "text": [
      "sox WARN rate: rate clipped 16 samples; decrease volume?\r\n",
      "sox WARN dither: dither clipped 15 samples; decrease volume?\r\n"
     ]
    },
    {
     "name": "stderr",
     "output_type": "stream",
     "text": [
      "1352it [13:18,  1.29it/s]"
     ]
    },
    {
     "name": "stdout",
     "output_type": "stream",
     "text": [
      "sox WARN rate: rate clipped 16 samples; decrease volume?\r\n",
      "sox WARN dither: dither clipped 13 samples; decrease volume?\r\n"
     ]
    },
    {
     "name": "stderr",
     "output_type": "stream",
     "text": [
      "1354it [13:19,  1.30it/s]"
     ]
    },
    {
     "name": "stdout",
     "output_type": "stream",
     "text": [
      "sox WARN rate: rate clipped 2 samples; decrease volume?\r\n"
     ]
    },
    {
     "name": "stderr",
     "output_type": "stream",
     "text": [
      "\r",
      "1355it [13:20,  1.28it/s]"
     ]
    },
    {
     "name": "stdout",
     "output_type": "stream",
     "text": [
      "sox WARN rate: rate clipped 19 samples; decrease volume?\r\n",
      "sox WARN dither: dither clipped 16 samples; decrease volume?\r\n"
     ]
    },
    {
     "name": "stderr",
     "output_type": "stream",
     "text": [
      "\r",
      "1356it [13:21,  1.41it/s]"
     ]
    },
    {
     "name": "stdout",
     "output_type": "stream",
     "text": [
      "sox WARN rate: rate clipped 25 samples; decrease volume?\r\n",
      "sox WARN dither: dither clipped 20 samples; decrease volume?\r\n"
     ]
    },
    {
     "name": "stderr",
     "output_type": "stream",
     "text": [
      "\r",
      "1357it [13:22,  1.33it/s]"
     ]
    },
    {
     "name": "stdout",
     "output_type": "stream",
     "text": [
      "sox WARN rate: rate clipped 9 samples; decrease volume?\r\n",
      "sox WARN dither: dither clipped 9 samples; decrease volume?\r\n"
     ]
    },
    {
     "name": "stderr",
     "output_type": "stream",
     "text": [
      "1360it [13:24,  1.16it/s]"
     ]
    },
    {
     "name": "stdout",
     "output_type": "stream",
     "text": [
      "sox WARN rate: rate clipped 17 samples; decrease volume?\r\n",
      "sox WARN dither: dither clipped 15 samples; decrease volume?\r\n"
     ]
    },
    {
     "name": "stderr",
     "output_type": "stream",
     "text": [
      "\r",
      "1361it [13:25,  1.31it/s]"
     ]
    },
    {
     "name": "stdout",
     "output_type": "stream",
     "text": [
      "sox WARN rate: rate clipped 18 samples; decrease volume?\r\n",
      "sox WARN dither: dither clipped 15 samples; decrease volume?\r\n"
     ]
    },
    {
     "name": "stderr",
     "output_type": "stream",
     "text": [
      "1363it [13:26,  1.31it/s]"
     ]
    },
    {
     "name": "stdout",
     "output_type": "stream",
     "text": [
      "sox WARN rate: rate clipped 18 samples; decrease volume?\r\n",
      "sox WARN dither: dither clipped 14 samples; decrease volume?\r\n"
     ]
    },
    {
     "name": "stderr",
     "output_type": "stream",
     "text": [
      "\r",
      "1364it [13:27,  1.45it/s]"
     ]
    },
    {
     "name": "stdout",
     "output_type": "stream",
     "text": [
      "sox WARN rate: rate clipped 23 samples; decrease volume?\r\n",
      "sox WARN dither: dither clipped 20 samples; decrease volume?\r\n"
     ]
    },
    {
     "name": "stderr",
     "output_type": "stream",
     "text": [
      "\r",
      "1365it [13:28,  1.43it/s]"
     ]
    },
    {
     "name": "stdout",
     "output_type": "stream",
     "text": [
      "sox WARN rate: rate clipped 245 samples; decrease volume?\r\n",
      "sox WARN dither: dither clipped 211 samples; decrease volume?\r\n"
     ]
    },
    {
     "name": "stderr",
     "output_type": "stream",
     "text": [
      "1367it [13:29,  1.29it/s]"
     ]
    },
    {
     "name": "stdout",
     "output_type": "stream",
     "text": [
      "sox WARN rate: rate clipped 42 samples; decrease volume?\r\n",
      "sox WARN dither: dither clipped 37 samples; decrease volume?\r\n"
     ]
    },
    {
     "name": "stderr",
     "output_type": "stream",
     "text": [
      "\r",
      "1368it [13:30,  1.43it/s]"
     ]
    },
    {
     "name": "stdout",
     "output_type": "stream",
     "text": [
      "sox WARN rate: rate clipped 87 samples; decrease volume?\r\n",
      "sox WARN dither: dither clipped 73 samples; decrease volume?\r\n"
     ]
    },
    {
     "name": "stderr",
     "output_type": "stream",
     "text": [
      "\r",
      "1369it [13:30,  1.55it/s]"
     ]
    },
    {
     "name": "stdout",
     "output_type": "stream",
     "text": [
      "sox WARN rate: rate clipped 24 samples; decrease volume?\r\n",
      "sox WARN dither: dither clipped 22 samples; decrease volume?\r\n"
     ]
    },
    {
     "name": "stderr",
     "output_type": "stream",
     "text": [
      "\r",
      "1370it [13:31,  1.47it/s]"
     ]
    },
    {
     "name": "stdout",
     "output_type": "stream",
     "text": [
      "sox WARN rate: rate clipped 25 samples; decrease volume?\r\n",
      "sox WARN dither: dither clipped 22 samples; decrease volume?\r\n"
     ]
    },
    {
     "name": "stderr",
     "output_type": "stream",
     "text": [
      "\r",
      "1371it [13:32,  1.46it/s]"
     ]
    },
    {
     "name": "stdout",
     "output_type": "stream",
     "text": [
      "sox WARN rate: rate clipped 16 samples; decrease volume?\r\n",
      "sox WARN dither: dither clipped 14 samples; decrease volume?\r\n"
     ]
    },
    {
     "name": "stderr",
     "output_type": "stream",
     "text": [
      "\r",
      "1372it [13:33,  1.31it/s]"
     ]
    },
    {
     "name": "stdout",
     "output_type": "stream",
     "text": [
      "sox WARN rate: rate clipped 18 samples; decrease volume?\r\n",
      "sox WARN dither: dither clipped 16 samples; decrease volume?\r\n"
     ]
    },
    {
     "name": "stderr",
     "output_type": "stream",
     "text": [
      "\r",
      "1373it [13:33,  1.43it/s]"
     ]
    },
    {
     "name": "stdout",
     "output_type": "stream",
     "text": [
      "sox WARN rate: rate clipped 19 samples; decrease volume?\r\n",
      "sox WARN dither: dither clipped 15 samples; decrease volume?\r\n"
     ]
    },
    {
     "name": "stderr",
     "output_type": "stream",
     "text": [
      "\r",
      "1374it [13:34,  1.54it/s]"
     ]
    },
    {
     "name": "stdout",
     "output_type": "stream",
     "text": [
      "sox WARN rate: rate clipped 19 samples; decrease volume?\r\n",
      "sox WARN dither: dither clipped 17 samples; decrease volume?\r\n"
     ]
    },
    {
     "name": "stderr",
     "output_type": "stream",
     "text": [
      "\r",
      "1375it [13:34,  1.63it/s]"
     ]
    },
    {
     "name": "stdout",
     "output_type": "stream",
     "text": [
      "sox WARN rate: rate clipped 8 samples; decrease volume?\r\n",
      "sox WARN dither: dither clipped 6 samples; decrease volume?\r\n"
     ]
    },
    {
     "name": "stderr",
     "output_type": "stream",
     "text": [
      "\r",
      "1376it [13:35,  1.42it/s]"
     ]
    },
    {
     "name": "stdout",
     "output_type": "stream",
     "text": [
      "sox WARN rate: rate clipped 17 samples; decrease volume?\r\n",
      "sox WARN dither: dither clipped 14 samples; decrease volume?\r\n"
     ]
    },
    {
     "name": "stderr",
     "output_type": "stream",
     "text": [
      "\r",
      "1377it [13:36,  1.52it/s]"
     ]
    },
    {
     "name": "stdout",
     "output_type": "stream",
     "text": [
      "sox WARN rate: rate clipped 14 samples; decrease volume?\r\n",
      "sox WARN dither: dither clipped 13 samples; decrease volume?\r\n"
     ]
    },
    {
     "name": "stderr",
     "output_type": "stream",
     "text": [
      "1379it [13:37,  1.41it/s]"
     ]
    },
    {
     "name": "stdout",
     "output_type": "stream",
     "text": [
      "sox WARN rate: rate clipped 259 samples; decrease volume?\r\n",
      "sox WARN dither: dither clipped 241 samples; decrease volume?\r\n"
     ]
    },
    {
     "name": "stderr",
     "output_type": "stream",
     "text": [
      "1382it [13:40,  1.26it/s]"
     ]
    },
    {
     "name": "stdout",
     "output_type": "stream",
     "text": [
      "sox WARN rate: rate clipped 11 samples; decrease volume?\r\n",
      "sox WARN dither: dither clipped 11 samples; decrease volume?\r\n"
     ]
    },
    {
     "name": "stderr",
     "output_type": "stream",
     "text": [
      "\r",
      "1383it [13:40,  1.42it/s]"
     ]
    },
    {
     "name": "stdout",
     "output_type": "stream",
     "text": [
      "sox WARN rate: rate clipped 50 samples; decrease volume?\r\n",
      "sox WARN dither: dither clipped 44 samples; decrease volume?\r\n"
     ]
    },
    {
     "name": "stderr",
     "output_type": "stream",
     "text": [
      "1385it [13:41,  1.42it/s]"
     ]
    },
    {
     "name": "stdout",
     "output_type": "stream",
     "text": [
      "sox WARN rate: rate clipped 23 samples; decrease volume?\r\n",
      "sox WARN dither: dither clipped 20 samples; decrease volume?\r\n"
     ]
    },
    {
     "name": "stderr",
     "output_type": "stream",
     "text": [
      "\r",
      "1386it [13:42,  1.40it/s]"
     ]
    },
    {
     "name": "stdout",
     "output_type": "stream",
     "text": [
      "sox WARN rate: rate clipped 4 samples; decrease volume?\r\n",
      "sox WARN dither: dither clipped 4 samples; decrease volume?\r\n"
     ]
    },
    {
     "name": "stderr",
     "output_type": "stream",
     "text": [
      "\r",
      "1387it [13:43,  1.38it/s]"
     ]
    },
    {
     "name": "stdout",
     "output_type": "stream",
     "text": [
      "sox WARN rate: rate clipped 1 samples; decrease volume?\r\n",
      "sox WARN dither: dither clipped 1 samples; decrease volume?\r\n"
     ]
    },
    {
     "name": "stderr",
     "output_type": "stream",
     "text": [
      "\r",
      "1388it [13:44,  1.46it/s]"
     ]
    },
    {
     "name": "stdout",
     "output_type": "stream",
     "text": [
      "sox WARN rate: rate clipped 57 samples; decrease volume?\r\n",
      "sox WARN dither: dither clipped 54 samples; decrease volume?\r\n"
     ]
    },
    {
     "name": "stderr",
     "output_type": "stream",
     "text": [
      "1390it [13:45,  1.50it/s]"
     ]
    },
    {
     "name": "stdout",
     "output_type": "stream",
     "text": [
      "sox WARN rate: rate clipped 8 samples; decrease volume?\r\n",
      "sox WARN dither: dither clipped 8 samples; decrease volume?\r\n"
     ]
    },
    {
     "name": "stderr",
     "output_type": "stream",
     "text": [
      "\r",
      "1391it [13:46,  1.34it/s]"
     ]
    },
    {
     "name": "stdout",
     "output_type": "stream",
     "text": [
      "sox WARN rate: rate clipped 12 samples; decrease volume?\r\n",
      "sox WARN dither: dither clipped 9 samples; decrease volume?\r\n"
     ]
    },
    {
     "name": "stderr",
     "output_type": "stream",
     "text": [
      "\r",
      "1392it [13:46,  1.34it/s]"
     ]
    },
    {
     "name": "stdout",
     "output_type": "stream",
     "text": [
      "sox WARN rate: rate clipped 9 samples; decrease volume?\r\n",
      "sox WARN dither: dither clipped 9 samples; decrease volume?\r\n"
     ]
    },
    {
     "name": "stderr",
     "output_type": "stream",
     "text": [
      "1394it [13:48,  1.26it/s]"
     ]
    },
    {
     "name": "stdout",
     "output_type": "stream",
     "text": [
      "sox WARN rate: rate clipped 17 samples; decrease volume?\r\n",
      "sox WARN dither: dither clipped 13 samples; decrease volume?\r\n"
     ]
    },
    {
     "name": "stderr",
     "output_type": "stream",
     "text": [
      "\r",
      "1395it [13:49,  1.20it/s]"
     ]
    },
    {
     "name": "stdout",
     "output_type": "stream",
     "text": [
      "sox WARN rate: rate clipped 15 samples; decrease volume?\r\n",
      "sox WARN dither: dither clipped 14 samples; decrease volume?\r\n"
     ]
    },
    {
     "name": "stderr",
     "output_type": "stream",
     "text": [
      "\r",
      "1396it [13:50,  1.35it/s]"
     ]
    },
    {
     "name": "stdout",
     "output_type": "stream",
     "text": [
      "sox WARN rate: rate clipped 20 samples; decrease volume?\r\n",
      "sox WARN dither: dither clipped 15 samples; decrease volume?\r\n"
     ]
    },
    {
     "name": "stderr",
     "output_type": "stream",
     "text": [
      "1398it [13:51,  1.55it/s]"
     ]
    },
    {
     "name": "stdout",
     "output_type": "stream",
     "text": [
      "sox WARN rate: rate clipped 33 samples; decrease volume?\r\n",
      "sox WARN dither: dither clipped 29 samples; decrease volume?\r\n"
     ]
    },
    {
     "name": "stderr",
     "output_type": "stream",
     "text": [
      "\r",
      "1399it [13:52,  1.37it/s]"
     ]
    },
    {
     "name": "stdout",
     "output_type": "stream",
     "text": [
      "sox WARN rate: rate clipped 1 samples; decrease volume?\r\n",
      "sox WARN dither: dither clipped 1 samples; decrease volume?\r\n"
     ]
    },
    {
     "name": "stderr",
     "output_type": "stream",
     "text": [
      "\r",
      "1400it [13:52,  1.27it/s]"
     ]
    },
    {
     "name": "stdout",
     "output_type": "stream",
     "text": [
      "sox WARN rate: rate clipped 54 samples; decrease volume?\r\n",
      "sox WARN dither: dither clipped 47 samples; decrease volume?\r\n"
     ]
    },
    {
     "name": "stderr",
     "output_type": "stream",
     "text": [
      "\r",
      "1401it [13:53,  1.40it/s]"
     ]
    },
    {
     "name": "stdout",
     "output_type": "stream",
     "text": [
      "sox WARN rate: rate clipped 18 samples; decrease volume?\r\n",
      "sox WARN dither: dither clipped 15 samples; decrease volume?\r\n"
     ]
    },
    {
     "name": "stderr",
     "output_type": "stream",
     "text": [
      "\r",
      "1402it [13:54,  1.29it/s]"
     ]
    },
    {
     "name": "stdout",
     "output_type": "stream",
     "text": [
      "sox WARN rate: rate clipped 16 samples; decrease volume?\r\n",
      "sox WARN dither: dither clipped 11 samples; decrease volume?\r\n"
     ]
    },
    {
     "name": "stderr",
     "output_type": "stream",
     "text": [
      "\r",
      "1403it [13:54,  1.43it/s]"
     ]
    },
    {
     "name": "stdout",
     "output_type": "stream",
     "text": [
      "sox WARN rate: rate clipped 4 samples; decrease volume?\r\n",
      "sox WARN dither: dither clipped 4 samples; decrease volume?\r\n"
     ]
    },
    {
     "name": "stderr",
     "output_type": "stream",
     "text": [
      "\r",
      "1404it [13:55,  1.31it/s]"
     ]
    },
    {
     "name": "stdout",
     "output_type": "stream",
     "text": [
      "sox WARN rate: rate clipped 20 samples; decrease volume?\r\n",
      "sox WARN dither: dither clipped 16 samples; decrease volume?\r\n"
     ]
    },
    {
     "name": "stderr",
     "output_type": "stream",
     "text": [
      "\r",
      "1405it [13:56,  1.58it/s]"
     ]
    },
    {
     "name": "stdout",
     "output_type": "stream",
     "text": [
      "sox WARN rate: rate clipped 17 samples; decrease volume?\r\n",
      "sox WARN dither: dither clipped 17 samples; decrease volume?\r\n"
     ]
    },
    {
     "name": "stderr",
     "output_type": "stream",
     "text": [
      "1407it [13:57,  1.43it/s]"
     ]
    },
    {
     "name": "stdout",
     "output_type": "stream",
     "text": [
      "sox WARN rate: rate clipped 145 samples; decrease volume?\r\n",
      "sox WARN dither: dither clipped 124 samples; decrease volume?\r\n"
     ]
    },
    {
     "name": "stderr",
     "output_type": "stream",
     "text": [
      "\r",
      "1408it [13:58,  1.56it/s]"
     ]
    },
    {
     "name": "stdout",
     "output_type": "stream",
     "text": [
      "sox WARN rate: rate clipped 18 samples; decrease volume?\r\n",
      "sox WARN dither: dither clipped 16 samples; decrease volume?\r\n"
     ]
    },
    {
     "name": "stderr",
     "output_type": "stream",
     "text": [
      "\r",
      "1409it [13:58,  1.65it/s]"
     ]
    },
    {
     "name": "stdout",
     "output_type": "stream",
     "text": [
      "sox WARN rate: rate clipped 30 samples; decrease volume?\r\n",
      "sox WARN dither: dither clipped 26 samples; decrease volume?\r\n"
     ]
    },
    {
     "name": "stderr",
     "output_type": "stream",
     "text": [
      "\r",
      "1410it [13:59,  1.44it/s]"
     ]
    },
    {
     "name": "stdout",
     "output_type": "stream",
     "text": [
      "sox WARN rate: rate clipped 16 samples; decrease volume?\r\n",
      "sox WARN dither: dither clipped 16 samples; decrease volume?\r\n"
     ]
    },
    {
     "name": "stderr",
     "output_type": "stream",
     "text": [
      "1412it [14:01,  1.37it/s]"
     ]
    },
    {
     "name": "stdout",
     "output_type": "stream",
     "text": [
      "sox WARN rate: rate clipped 17 samples; decrease volume?\r\n",
      "sox WARN dither: dither clipped 17 samples; decrease volume?\r\n"
     ]
    },
    {
     "name": "stderr",
     "output_type": "stream",
     "text": [
      "\r",
      "1413it [14:01,  1.48it/s]"
     ]
    },
    {
     "name": "stdout",
     "output_type": "stream",
     "text": [
      "sox WARN rate: rate clipped 41 samples; decrease volume?\r\n",
      "sox WARN dither: dither clipped 35 samples; decrease volume?\r\n"
     ]
    },
    {
     "name": "stderr",
     "output_type": "stream",
     "text": [
      "1415it [14:03,  1.37it/s]"
     ]
    },
    {
     "name": "stdout",
     "output_type": "stream",
     "text": [
      "sox WARN rate: rate clipped 29 samples; decrease volume?\r\n",
      "sox WARN dither: dither clipped 23 samples; decrease volume?\r\n"
     ]
    },
    {
     "name": "stderr",
     "output_type": "stream",
     "text": [
      "\r",
      "1416it [14:03,  1.48it/s]"
     ]
    },
    {
     "name": "stdout",
     "output_type": "stream",
     "text": [
      "sox WARN rate: rate clipped 18 samples; decrease volume?\r\n",
      "sox WARN dither: dither clipped 16 samples; decrease volume?\r\n"
     ]
    },
    {
     "name": "stderr",
     "output_type": "stream",
     "text": [
      "\r",
      "1417it [14:04,  1.58it/s]"
     ]
    },
    {
     "name": "stdout",
     "output_type": "stream",
     "text": [
      "sox WARN rate: rate clipped 17 samples; decrease volume?\r\n",
      "sox WARN dither: dither clipped 16 samples; decrease volume?\r\n"
     ]
    },
    {
     "name": "stderr",
     "output_type": "stream",
     "text": [
      "\r",
      "1418it [14:04,  1.64it/s]"
     ]
    },
    {
     "name": "stdout",
     "output_type": "stream",
     "text": [
      "sox WARN rate: rate clipped 3 samples; decrease volume?\r\n",
      "sox WARN dither: dither clipped 3 samples; decrease volume?\r\n"
     ]
    },
    {
     "name": "stderr",
     "output_type": "stream",
     "text": [
      "\r",
      "1419it [14:05,  1.54it/s]"
     ]
    },
    {
     "name": "stdout",
     "output_type": "stream",
     "text": [
      "sox WARN rate: rate clipped 6 samples; decrease volume?\r\n",
      "sox WARN dither: dither clipped 5 samples; decrease volume?\r\n"
     ]
    },
    {
     "name": "stderr",
     "output_type": "stream",
     "text": [
      "\r",
      "1420it [14:05,  1.74it/s]"
     ]
    },
    {
     "name": "stdout",
     "output_type": "stream",
     "text": [
      "sox WARN rate: rate clipped 2 samples; decrease volume?\r\n",
      "sox WARN dither: dither clipped 2 samples; decrease volume?\r\n"
     ]
    },
    {
     "name": "stderr",
     "output_type": "stream",
     "text": [
      "1422it [14:07,  1.52it/s]"
     ]
    },
    {
     "name": "stdout",
     "output_type": "stream",
     "text": [
      "sox WARN rate: rate clipped 24 samples; decrease volume?\r\n",
      "sox WARN dither: dither clipped 20 samples; decrease volume?\r\n"
     ]
    },
    {
     "name": "stderr",
     "output_type": "stream",
     "text": [
      "1424it [14:09,  1.26it/s]"
     ]
    },
    {
     "name": "stdout",
     "output_type": "stream",
     "text": [
      "sox WARN rate: rate clipped 2 samples; decrease volume?\r\n",
      "sox WARN dither: dither clipped 2 samples; decrease volume?\r\n"
     ]
    },
    {
     "name": "stderr",
     "output_type": "stream",
     "text": [
      "1428it [14:12,  1.21it/s]"
     ]
    },
    {
     "name": "stdout",
     "output_type": "stream",
     "text": [
      "sox WARN rate: rate clipped 18 samples; decrease volume?\r\n",
      "sox WARN dither: dither clipped 16 samples; decrease volume?\r\n"
     ]
    },
    {
     "name": "stderr",
     "output_type": "stream",
     "text": [
      "1430it [14:14,  1.26it/s]"
     ]
    },
    {
     "name": "stdout",
     "output_type": "stream",
     "text": [
      "sox WARN rate: rate clipped 31 samples; decrease volume?\r\n",
      "sox WARN dither: dither clipped 28 samples; decrease volume?\r\n"
     ]
    },
    {
     "name": "stderr",
     "output_type": "stream",
     "text": [
      "\r",
      "1431it [14:14,  1.35it/s]"
     ]
    },
    {
     "name": "stdout",
     "output_type": "stream",
     "text": [
      "sox WARN rate: rate clipped 20 samples; decrease volume?\r\n",
      "sox WARN dither: dither clipped 19 samples; decrease volume?\r\n"
     ]
    },
    {
     "name": "stderr",
     "output_type": "stream",
     "text": [
      "\r",
      "1432it [14:15,  1.42it/s]"
     ]
    },
    {
     "name": "stdout",
     "output_type": "stream",
     "text": [
      "sox WARN rate: rate clipped 5 samples; decrease volume?\r\n",
      "sox WARN dither: dither clipped 5 samples; decrease volume?\r\n"
     ]
    },
    {
     "name": "stderr",
     "output_type": "stream",
     "text": [
      "\r",
      "1433it [14:16,  1.32it/s]"
     ]
    },
    {
     "name": "stdout",
     "output_type": "stream",
     "text": [
      "sox WARN rate: rate clipped 15 samples; decrease volume?\r\n",
      "sox WARN dither: dither clipped 12 samples; decrease volume?\r\n"
     ]
    },
    {
     "name": "stderr",
     "output_type": "stream",
     "text": [
      "\r",
      "1434it [14:16,  1.44it/s]"
     ]
    },
    {
     "name": "stdout",
     "output_type": "stream",
     "text": [
      "sox WARN rate: rate clipped 18 samples; decrease volume?\r\n",
      "sox WARN dither: dither clipped 15 samples; decrease volume?\r\n"
     ]
    },
    {
     "name": "stderr",
     "output_type": "stream",
     "text": [
      "\r",
      "1435it [14:17,  1.55it/s]"
     ]
    },
    {
     "name": "stdout",
     "output_type": "stream",
     "text": [
      "sox WARN rate: rate clipped 93 samples; decrease volume?\r\n",
      "sox WARN dither: dither clipped 78 samples; decrease volume?\r\n"
     ]
    },
    {
     "name": "stderr",
     "output_type": "stream",
     "text": [
      "\r",
      "1436it [14:18,  1.45it/s]"
     ]
    },
    {
     "name": "stdout",
     "output_type": "stream",
     "text": [
      "sox WARN rate: rate clipped 17 samples; decrease volume?\r\n",
      "sox WARN dither: dither clipped 17 samples; decrease volume?\r\n"
     ]
    },
    {
     "name": "stderr",
     "output_type": "stream",
     "text": [
      "\r",
      "1437it [14:18,  1.55it/s]"
     ]
    },
    {
     "name": "stdout",
     "output_type": "stream",
     "text": [
      "sox WARN rate: rate clipped 15 samples; decrease volume?\r\n",
      "sox WARN dither: dither clipped 13 samples; decrease volume?\r\n"
     ]
    },
    {
     "name": "stderr",
     "output_type": "stream",
     "text": [
      "\r",
      "1438it [14:19,  1.63it/s]"
     ]
    },
    {
     "name": "stdout",
     "output_type": "stream",
     "text": [
      "sox WARN rate: rate clipped 281 samples; decrease volume?\r\n",
      "sox WARN dither: dither clipped 252 samples; decrease volume?\r\n"
     ]
    },
    {
     "name": "stderr",
     "output_type": "stream",
     "text": [
      "\r",
      "1439it [14:19,  1.69it/s]"
     ]
    },
    {
     "name": "stdout",
     "output_type": "stream",
     "text": [
      "sox WARN rate: rate clipped 19 samples; decrease volume?\r\n",
      "sox WARN dither: dither clipped 18 samples; decrease volume?\r\n"
     ]
    },
    {
     "name": "stderr",
     "output_type": "stream",
     "text": [
      "\r",
      "1440it [14:20,  1.74it/s]"
     ]
    },
    {
     "name": "stdout",
     "output_type": "stream",
     "text": [
      "sox WARN rate: rate clipped 21 samples; decrease volume?\r\n",
      "sox WARN dither: dither clipped 18 samples; decrease volume?\r\n"
     ]
    },
    {
     "name": "stderr",
     "output_type": "stream",
     "text": [
      "\r",
      "1441it [14:20,  1.88it/s]"
     ]
    },
    {
     "name": "stdout",
     "output_type": "stream",
     "text": [
      "sox WARN rate: rate clipped 15 samples; decrease volume?\r\n",
      "sox WARN dither: dither clipped 15 samples; decrease volume?\r\n"
     ]
    },
    {
     "name": "stderr",
     "output_type": "stream",
     "text": [
      "\r",
      "1442it [14:21,  1.89it/s]"
     ]
    },
    {
     "name": "stdout",
     "output_type": "stream",
     "text": [
      "sox WARN rate: rate clipped 1 samples; decrease volume?\r\n",
      "sox WARN dither: dither clipped 1 samples; decrease volume?\r\n"
     ]
    },
    {
     "name": "stderr",
     "output_type": "stream",
     "text": [
      "\r",
      "1443it [14:22,  1.54it/s]"
     ]
    },
    {
     "name": "stdout",
     "output_type": "stream",
     "text": [
      "sox WARN rate: rate clipped 31 samples; decrease volume?\r\n",
      "sox WARN dither: dither clipped 27 samples; decrease volume?\r\n"
     ]
    },
    {
     "name": "stderr",
     "output_type": "stream",
     "text": [
      "\r",
      "1444it [14:22,  1.65it/s]"
     ]
    },
    {
     "name": "stdout",
     "output_type": "stream",
     "text": [
      "sox WARN rate: rate clipped 19 samples; decrease volume?\r\n",
      "sox WARN dither: dither clipped 17 samples; decrease volume?\r\n"
     ]
    },
    {
     "name": "stderr",
     "output_type": "stream",
     "text": [
      "1446it [14:23,  1.58it/s]"
     ]
    },
    {
     "name": "stdout",
     "output_type": "stream",
     "text": [
      "sox WARN rate: rate clipped 2 samples; decrease volume?\r\n",
      "sox WARN dither: dither clipped 2 samples; decrease volume?\r\n"
     ]
    },
    {
     "name": "stderr",
     "output_type": "stream",
     "text": [
      "1448it [14:25,  1.42it/s]"
     ]
    },
    {
     "name": "stdout",
     "output_type": "stream",
     "text": [
      "sox WARN rate: rate clipped 17 samples; decrease volume?\r\n",
      "sox WARN dither: dither clipped 14 samples; decrease volume?\r\n"
     ]
    },
    {
     "name": "stderr",
     "output_type": "stream",
     "text": [
      "\r",
      "1449it [14:25,  1.53it/s]"
     ]
    },
    {
     "name": "stdout",
     "output_type": "stream",
     "text": [
      "sox WARN rate: rate clipped 18 samples; decrease volume?\r\n",
      "sox WARN dither: dither clipped 17 samples; decrease volume?\r\n"
     ]
    },
    {
     "name": "stderr",
     "output_type": "stream",
     "text": [
      "\r",
      "1450it [14:26,  1.62it/s]"
     ]
    },
    {
     "name": "stdout",
     "output_type": "stream",
     "text": [
      "sox WARN rate: rate clipped 48 samples; decrease volume?\r\n",
      "sox WARN dither: dither clipped 44 samples; decrease volume?\r\n"
     ]
    },
    {
     "name": "stderr",
     "output_type": "stream",
     "text": [
      "\r",
      "1451it [14:27,  1.41it/s]"
     ]
    },
    {
     "name": "stdout",
     "output_type": "stream",
     "text": [
      "sox WARN rate: rate clipped 17 samples; decrease volume?\r\n",
      "sox WARN dither: dither clipped 14 samples; decrease volume?\r\n"
     ]
    },
    {
     "name": "stderr",
     "output_type": "stream",
     "text": [
      "\r",
      "1452it [14:27,  1.51it/s]"
     ]
    },
    {
     "name": "stdout",
     "output_type": "stream",
     "text": [
      "sox WARN rate: rate clipped 1 samples; decrease volume?\r\n",
      "sox WARN dither: dither clipped 1 samples; decrease volume?\r\n"
     ]
    },
    {
     "name": "stderr",
     "output_type": "stream",
     "text": [
      "1454it [14:29,  1.27it/s]"
     ]
    },
    {
     "name": "stdout",
     "output_type": "stream",
     "text": [
      "sox WARN rate: rate clipped 29 samples; decrease volume?\r\n",
      "sox WARN dither: dither clipped 26 samples; decrease volume?\r\n"
     ]
    },
    {
     "name": "stderr",
     "output_type": "stream",
     "text": [
      "\r",
      "1455it [14:30,  1.25it/s]"
     ]
    },
    {
     "name": "stdout",
     "output_type": "stream",
     "text": [
      "sox WARN rate: rate clipped 19 samples; decrease volume?\r\n",
      "sox WARN dither: dither clipped 18 samples; decrease volume?\r\n"
     ]
    },
    {
     "name": "stderr",
     "output_type": "stream",
     "text": [
      "\r",
      "1456it [14:30,  1.55it/s]"
     ]
    },
    {
     "name": "stdout",
     "output_type": "stream",
     "text": [
      "sox WARN rate: rate clipped 18 samples; decrease volume?\r\n",
      "sox WARN dither: dither clipped 16 samples; decrease volume?\r\n"
     ]
    },
    {
     "name": "stderr",
     "output_type": "stream",
     "text": [
      "\r",
      "1457it [14:31,  1.64it/s]"
     ]
    },
    {
     "name": "stdout",
     "output_type": "stream",
     "text": [
      "sox WARN rate: rate clipped 17 samples; decrease volume?\r\n",
      "sox WARN dither: dither clipped 15 samples; decrease volume?\r\n"
     ]
    },
    {
     "name": "stderr",
     "output_type": "stream",
     "text": [
      "1460it [14:33,  1.28it/s]"
     ]
    },
    {
     "name": "stdout",
     "output_type": "stream",
     "text": [
      "sox WARN rate: rate clipped 114 samples; decrease volume?\r\n",
      "sox WARN dither: dither clipped 101 samples; decrease volume?\r\n"
     ]
    },
    {
     "name": "stderr",
     "output_type": "stream",
     "text": [
      "1463it [14:36,  1.29it/s]"
     ]
    },
    {
     "name": "stdout",
     "output_type": "stream",
     "text": [
      "sox WARN rate: rate clipped 3 samples; decrease volume?\r\n",
      "sox WARN dither: dither clipped 2 samples; decrease volume?\r\n"
     ]
    },
    {
     "name": "stderr",
     "output_type": "stream",
     "text": [
      "1465it [14:37,  1.40it/s]"
     ]
    },
    {
     "name": "stdout",
     "output_type": "stream",
     "text": [
      "sox WARN rate: rate clipped 15 samples; decrease volume?\r\n",
      "sox WARN dither: dither clipped 13 samples; decrease volume?\r\n"
     ]
    },
    {
     "name": "stderr",
     "output_type": "stream",
     "text": [
      "\r",
      "1466it [14:38,  1.43it/s]"
     ]
    },
    {
     "name": "stdout",
     "output_type": "stream",
     "text": [
      "sox WARN rate: rate clipped 5 samples; decrease volume?\r\n",
      "sox WARN dither: dither clipped 5 samples; decrease volume?\r\n"
     ]
    },
    {
     "name": "stderr",
     "output_type": "stream",
     "text": [
      "\r",
      "1467it [14:38,  1.35it/s]"
     ]
    },
    {
     "name": "stdout",
     "output_type": "stream",
     "text": [
      "sox WARN rate: rate clipped 54 samples; decrease volume?\r\n",
      "sox WARN dither: dither clipped 44 samples; decrease volume?\r\n"
     ]
    },
    {
     "name": "stderr",
     "output_type": "stream",
     "text": [
      "1469it [14:40,  1.20it/s]"
     ]
    },
    {
     "name": "stdout",
     "output_type": "stream",
     "text": [
      "sox WARN rate: rate clipped 3 samples; decrease volume?\r\n",
      "sox WARN dither: dither clipped 3 samples; decrease volume?\r\n"
     ]
    },
    {
     "name": "stderr",
     "output_type": "stream",
     "text": [
      "\r",
      "1470it [14:41,  1.16it/s]"
     ]
    },
    {
     "name": "stdout",
     "output_type": "stream",
     "text": [
      "sox WARN rate: rate clipped 4 samples; decrease volume?\r\n",
      "sox WARN dither: dither clipped 2 samples; decrease volume?\r\n"
     ]
    },
    {
     "name": "stderr",
     "output_type": "stream",
     "text": [
      "\r",
      "1471it [14:42,  1.22it/s]"
     ]
    },
    {
     "name": "stdout",
     "output_type": "stream",
     "text": [
      "sox WARN rate: rate clipped 18 samples; decrease volume?\r\n",
      "sox WARN dither: dither clipped 17 samples; decrease volume?\r\n"
     ]
    },
    {
     "name": "stderr",
     "output_type": "stream",
     "text": [
      "\r",
      "1472it [14:43,  1.17it/s]"
     ]
    },
    {
     "name": "stdout",
     "output_type": "stream",
     "text": [
      "sox WARN rate: rate clipped 16 samples; decrease volume?\r\n",
      "sox WARN dither: dither clipped 12 samples; decrease volume?\r\n"
     ]
    },
    {
     "name": "stderr",
     "output_type": "stream",
     "text": [
      "\r",
      "1473it [14:44,  1.14it/s]"
     ]
    },
    {
     "name": "stdout",
     "output_type": "stream",
     "text": [
      "sox WARN rate: rate clipped 11 samples; decrease volume?\r\n",
      "sox WARN dither: dither clipped 9 samples; decrease volume?\r\n"
     ]
    },
    {
     "name": "stderr",
     "output_type": "stream",
     "text": [
      "1475it [14:45,  1.18it/s]"
     ]
    },
    {
     "name": "stdout",
     "output_type": "stream",
     "text": [
      "sox WARN rate: rate clipped 23 samples; decrease volume?\r\n",
      "sox WARN dither: dither clipped 20 samples; decrease volume?\r\n"
     ]
    },
    {
     "name": "stderr",
     "output_type": "stream",
     "text": [
      "\r",
      "1476it [14:46,  1.32it/s]"
     ]
    },
    {
     "name": "stdout",
     "output_type": "stream",
     "text": [
      "sox WARN rate: rate clipped 16 samples; decrease volume?\r\n",
      "sox WARN dither: dither clipped 13 samples; decrease volume?\r\n"
     ]
    },
    {
     "name": "stderr",
     "output_type": "stream",
     "text": [
      "\r",
      "1477it [14:47,  1.44it/s]"
     ]
    },
    {
     "name": "stdout",
     "output_type": "stream",
     "text": [
      "sox WARN rate: rate clipped 18 samples; decrease volume?\r\n",
      "sox WARN dither: dither clipped 16 samples; decrease volume?\r\n"
     ]
    },
    {
     "name": "stderr",
     "output_type": "stream",
     "text": [
      "\r",
      "1478it [14:47,  1.54it/s]"
     ]
    },
    {
     "name": "stdout",
     "output_type": "stream",
     "text": [
      "sox WARN rate: rate clipped 2 samples; decrease volume?\r\n",
      "sox WARN dither: dither clipped 2 samples; decrease volume?\r\n"
     ]
    },
    {
     "name": "stderr",
     "output_type": "stream",
     "text": [
      "\r",
      "1479it [14:48,  1.37it/s]"
     ]
    },
    {
     "name": "stdout",
     "output_type": "stream",
     "text": [
      "sox WARN rate: rate clipped 18 samples; decrease volume?\r\n",
      "sox WARN dither: dither clipped 12 samples; decrease volume?\r\n"
     ]
    },
    {
     "name": "stderr",
     "output_type": "stream",
     "text": [
      "\r",
      "1480it [14:49,  1.27it/s]"
     ]
    },
    {
     "name": "stdout",
     "output_type": "stream",
     "text": [
      "sox WARN rate: rate clipped 16 samples; decrease volume?\r\n",
      "sox WARN dither: dither clipped 15 samples; decrease volume?\r\n"
     ]
    },
    {
     "name": "stderr",
     "output_type": "stream",
     "text": [
      "\r",
      "1481it [14:49,  1.40it/s]"
     ]
    },
    {
     "name": "stdout",
     "output_type": "stream",
     "text": [
      "sox WARN rate: rate clipped 447 samples; decrease volume?\r\n",
      "sox WARN dither: dither clipped 404 samples; decrease volume?\r\n"
     ]
    },
    {
     "name": "stderr",
     "output_type": "stream",
     "text": [
      "\r",
      "1482it [14:50,  1.52it/s]"
     ]
    },
    {
     "name": "stdout",
     "output_type": "stream",
     "text": [
      "sox WARN rate: rate clipped 21 samples; decrease volume?\r\n",
      "sox WARN dither: dither clipped 18 samples; decrease volume?\r\n"
     ]
    },
    {
     "name": "stderr",
     "output_type": "stream",
     "text": [
      "1484it [14:51,  1.44it/s]"
     ]
    },
    {
     "name": "stdout",
     "output_type": "stream",
     "text": [
      "sox WARN rate: rate clipped 18 samples; decrease volume?\r\n",
      "sox WARN dither: dither clipped 16 samples; decrease volume?\r\n"
     ]
    },
    {
     "name": "stderr",
     "output_type": "stream",
     "text": [
      "\r",
      "1485it [14:52,  1.55it/s]"
     ]
    },
    {
     "name": "stdout",
     "output_type": "stream",
     "text": [
      "sox WARN rate: rate clipped 15 samples; decrease volume?\r\n",
      "sox WARN dither: dither clipped 13 samples; decrease volume?\r\n"
     ]
    },
    {
     "name": "stderr",
     "output_type": "stream",
     "text": [
      "\r",
      "1486it [14:52,  1.64it/s]"
     ]
    },
    {
     "name": "stdout",
     "output_type": "stream",
     "text": [
      "sox WARN rate: rate clipped 20 samples; decrease volume?\r\n",
      "sox WARN dither: dither clipped 17 samples; decrease volume?\r\n"
     ]
    },
    {
     "name": "stderr",
     "output_type": "stream",
     "text": [
      "\r",
      "1487it [14:53,  1.64it/s]"
     ]
    },
    {
     "name": "stdout",
     "output_type": "stream",
     "text": [
      "sox WARN rate: rate clipped 18 samples; decrease volume?\r\n",
      "sox WARN dither: dither clipped 13 samples; decrease volume?\r\n"
     ]
    },
    {
     "name": "stderr",
     "output_type": "stream",
     "text": [
      "\r",
      "1488it [14:54,  1.70it/s]"
     ]
    },
    {
     "name": "stdout",
     "output_type": "stream",
     "text": [
      "sox WARN rate: rate clipped 4 samples; decrease volume?\r\n",
      "sox WARN dither: dither clipped 4 samples; decrease volume?\r\n"
     ]
    },
    {
     "name": "stderr",
     "output_type": "stream",
     "text": [
      "1490it [14:55,  1.39it/s]"
     ]
    },
    {
     "name": "stdout",
     "output_type": "stream",
     "text": [
      "sox WARN rate: rate clipped 21 samples; decrease volume?\r\n",
      "sox WARN dither: dither clipped 21 samples; decrease volume?\r\n"
     ]
    },
    {
     "name": "stderr",
     "output_type": "stream",
     "text": [
      "\r",
      "1491it [14:56,  1.54it/s]"
     ]
    },
    {
     "name": "stdout",
     "output_type": "stream",
     "text": [
      "sox WARN rate: rate clipped 19 samples; decrease volume?\r\n",
      "sox WARN dither: dither clipped 17 samples; decrease volume?\r\n"
     ]
    },
    {
     "name": "stderr",
     "output_type": "stream",
     "text": [
      "\r",
      "1492it [14:56,  1.63it/s]"
     ]
    },
    {
     "name": "stdout",
     "output_type": "stream",
     "text": [
      "sox WARN rate: rate clipped 18 samples; decrease volume?\r\n",
      "sox WARN dither: dither clipped 17 samples; decrease volume?\r\n"
     ]
    },
    {
     "name": "stderr",
     "output_type": "stream",
     "text": [
      "\r",
      "1493it [14:57,  1.70it/s]"
     ]
    },
    {
     "name": "stdout",
     "output_type": "stream",
     "text": [
      "sox WARN rate: rate clipped 16 samples; decrease volume?\r\n",
      "sox WARN dither: dither clipped 13 samples; decrease volume?\r\n"
     ]
    },
    {
     "name": "stderr",
     "output_type": "stream",
     "text": [
      "1495it [14:58,  1.48it/s]"
     ]
    },
    {
     "name": "stdout",
     "output_type": "stream",
     "text": [
      "sox WARN rate: rate clipped 22 samples; decrease volume?\r\n",
      "sox WARN dither: dither clipped 17 samples; decrease volume?\r\n"
     ]
    },
    {
     "name": "stderr",
     "output_type": "stream",
     "text": [
      "\r",
      "1496it [14:59,  1.68it/s]"
     ]
    },
    {
     "name": "stdout",
     "output_type": "stream",
     "text": [
      "sox WARN rate: rate clipped 120 samples; decrease volume?\r\n",
      "sox WARN dither: dither clipped 108 samples; decrease volume?\r\n"
     ]
    },
    {
     "name": "stderr",
     "output_type": "stream",
     "text": [
      "\r",
      "1497it [14:59,  1.69it/s]"
     ]
    },
    {
     "name": "stdout",
     "output_type": "stream",
     "text": [
      "sox WARN rate: rate clipped 30 samples; decrease volume?\r\n",
      "sox WARN dither: dither clipped 26 samples; decrease volume?\r\n"
     ]
    },
    {
     "name": "stderr",
     "output_type": "stream",
     "text": [
      "\r",
      "1498it [15:00,  1.75it/s]"
     ]
    },
    {
     "name": "stdout",
     "output_type": "stream",
     "text": [
      "sox WARN rate: rate clipped 5 samples; decrease volume?\r\n",
      "sox WARN dither: dither clipped 5 samples; decrease volume?\r\n"
     ]
    },
    {
     "name": "stderr",
     "output_type": "stream",
     "text": [
      "1500it [15:01,  1.58it/s]"
     ]
    },
    {
     "name": "stdout",
     "output_type": "stream",
     "text": [
      "sox WARN rate: rate clipped 24 samples; decrease volume?\r\n",
      "sox WARN dither: dither clipped 20 samples; decrease volume?\r\n"
     ]
    },
    {
     "name": "stderr",
     "output_type": "stream",
     "text": [
      "\r",
      "1501it [15:02,  1.37it/s]"
     ]
    },
    {
     "name": "stdout",
     "output_type": "stream",
     "text": [
      "sox WARN rate: rate clipped 21 samples; decrease volume?\r\n",
      "sox WARN dither: dither clipped 17 samples; decrease volume?\r\n"
     ]
    },
    {
     "name": "stderr",
     "output_type": "stream",
     "text": [
      "1503it [15:04,  1.23it/s]"
     ]
    },
    {
     "name": "stdout",
     "output_type": "stream",
     "text": [
      "sox WARN rate: rate clipped 21 samples; decrease volume?\r\n",
      "sox WARN dither: dither clipped 19 samples; decrease volume?\r\n"
     ]
    },
    {
     "name": "stderr",
     "output_type": "stream",
     "text": [
      "\r",
      "1504it [15:05,  1.18it/s]"
     ]
    },
    {
     "name": "stdout",
     "output_type": "stream",
     "text": [
      "sox WARN rate: rate clipped 19 samples; decrease volume?\r\n",
      "sox WARN dither: dither clipped 17 samples; decrease volume?\r\n"
     ]
    },
    {
     "name": "stderr",
     "output_type": "stream",
     "text": [
      "\r",
      "1505it [15:05,  1.24it/s]"
     ]
    },
    {
     "name": "stdout",
     "output_type": "stream",
     "text": [
      "sox WARN rate: rate clipped 19 samples; decrease volume?\r\n",
      "sox WARN dither: dither clipped 18 samples; decrease volume?\r\n"
     ]
    },
    {
     "name": "stderr",
     "output_type": "stream",
     "text": [
      "\r",
      "1506it [15:06,  1.19it/s]"
     ]
    },
    {
     "name": "stdout",
     "output_type": "stream",
     "text": [
      "sox WARN rate: rate clipped 229 samples; decrease volume?\r\n",
      "sox WARN dither: dither clipped 203 samples; decrease volume?\r\n"
     ]
    },
    {
     "name": "stderr",
     "output_type": "stream",
     "text": [
      "1509it [15:09,  1.19it/s]"
     ]
    },
    {
     "name": "stdout",
     "output_type": "stream",
     "text": [
      "sox WARN rate: rate clipped 19 samples; decrease volume?\r\n",
      "sox WARN dither: dither clipped 17 samples; decrease volume?\r\n"
     ]
    },
    {
     "name": "stderr",
     "output_type": "stream",
     "text": [
      "\r",
      "1510it [15:09,  1.29it/s]"
     ]
    },
    {
     "name": "stdout",
     "output_type": "stream",
     "text": [
      "sox WARN rate: rate clipped 14 samples; decrease volume?\r\n",
      "sox WARN dither: dither clipped 12 samples; decrease volume?\r\n"
     ]
    },
    {
     "name": "stderr",
     "output_type": "stream",
     "text": [
      "\r",
      "1511it [15:10,  1.31it/s]"
     ]
    },
    {
     "name": "stdout",
     "output_type": "stream",
     "text": [
      "sox WARN rate: rate clipped 16 samples; decrease volume?\r\n",
      "sox WARN dither: dither clipped 15 samples; decrease volume?\r\n"
     ]
    },
    {
     "name": "stderr",
     "output_type": "stream",
     "text": [
      "\r",
      "1512it [15:11,  1.44it/s]"
     ]
    },
    {
     "name": "stdout",
     "output_type": "stream",
     "text": [
      "sox WARN rate: rate clipped 16 samples; decrease volume?\r\n",
      "sox WARN dither: dither clipped 12 samples; decrease volume?\r\n"
     ]
    },
    {
     "name": "stderr",
     "output_type": "stream",
     "text": [
      "1514it [15:12,  1.36it/s]"
     ]
    },
    {
     "name": "stdout",
     "output_type": "stream",
     "text": [
      "sox WARN rate: rate clipped 18 samples; decrease volume?\r\n",
      "sox WARN dither: dither clipped 18 samples; decrease volume?\r\n"
     ]
    },
    {
     "name": "stderr",
     "output_type": "stream",
     "text": [
      "1516it [15:14,  1.32it/s]"
     ]
    },
    {
     "name": "stdout",
     "output_type": "stream",
     "text": [
      "sox WARN rate: rate clipped 18 samples; decrease volume?\r\n",
      "sox WARN dither: dither clipped 16 samples; decrease volume?\r\n"
     ]
    },
    {
     "name": "stderr",
     "output_type": "stream",
     "text": [
      "\r",
      "1517it [15:14,  1.44it/s]"
     ]
    },
    {
     "name": "stdout",
     "output_type": "stream",
     "text": [
      "sox WARN rate: rate clipped 4 samples; decrease volume?\r\n",
      "sox WARN dither: dither clipped 4 samples; decrease volume?\r\n"
     ]
    },
    {
     "name": "stderr",
     "output_type": "stream",
     "text": [
      "\r",
      "1518it [15:15,  1.70it/s]"
     ]
    },
    {
     "name": "stdout",
     "output_type": "stream",
     "text": [
      "sox WARN rate: rate clipped 17 samples; decrease volume?\r\n",
      "sox WARN dither: dither clipped 15 samples; decrease volume?\r\n"
     ]
    },
    {
     "name": "stderr",
     "output_type": "stream",
     "text": [
      "\r",
      "1519it [15:15,  1.74it/s]"
     ]
    },
    {
     "name": "stdout",
     "output_type": "stream",
     "text": [
      "sox WARN rate: rate clipped 17 samples; decrease volume?\r\n",
      "sox WARN dither: dither clipped 17 samples; decrease volume?\r\n"
     ]
    },
    {
     "name": "stderr",
     "output_type": "stream",
     "text": [
      "\r",
      "1520it [15:16,  1.77it/s]"
     ]
    },
    {
     "name": "stdout",
     "output_type": "stream",
     "text": [
      "sox WARN rate: rate clipped 22 samples; decrease volume?\r\n",
      "sox WARN dither: dither clipped 18 samples; decrease volume?\r\n"
     ]
    },
    {
     "name": "stderr",
     "output_type": "stream",
     "text": [
      "1522it [15:17,  1.47it/s]"
     ]
    },
    {
     "name": "stdout",
     "output_type": "stream",
     "text": [
      "sox WARN rate: rate clipped 18 samples; decrease volume?\r\n",
      "sox WARN dither: dither clipped 15 samples; decrease volume?\r\n"
     ]
    },
    {
     "name": "stderr",
     "output_type": "stream",
     "text": [
      "\r",
      "1523it [15:18,  1.57it/s]"
     ]
    },
    {
     "name": "stdout",
     "output_type": "stream",
     "text": [
      "sox WARN rate: rate clipped 15 samples; decrease volume?\r\n",
      "sox WARN dither: dither clipped 15 samples; decrease volume?\r\n"
     ]
    },
    {
     "name": "stderr",
     "output_type": "stream",
     "text": [
      "\r",
      "1524it [15:18,  1.50it/s]"
     ]
    },
    {
     "name": "stdout",
     "output_type": "stream",
     "text": [
      "sox WARN rate: rate clipped 18 samples; decrease volume?\r\n",
      "sox WARN dither: dither clipped 16 samples; decrease volume?\r\n"
     ]
    },
    {
     "name": "stderr",
     "output_type": "stream",
     "text": [
      "\r",
      "1525it [15:19,  1.60it/s]"
     ]
    },
    {
     "name": "stdout",
     "output_type": "stream",
     "text": [
      "sox WARN rate: rate clipped 18 samples; decrease volume?\r\n",
      "sox WARN dither: dither clipped 16 samples; decrease volume?\r\n"
     ]
    },
    {
     "name": "stderr",
     "output_type": "stream",
     "text": [
      "1527it [15:20,  1.43it/s]"
     ]
    },
    {
     "name": "stdout",
     "output_type": "stream",
     "text": [
      "sox WARN rate: rate clipped 19 samples; decrease volume?\r\n",
      "sox WARN dither: dither clipped 16 samples; decrease volume?\r\n"
     ]
    },
    {
     "name": "stderr",
     "output_type": "stream",
     "text": [
      "\r",
      "1528it [15:21,  1.53it/s]"
     ]
    },
    {
     "name": "stdout",
     "output_type": "stream",
     "text": [
      "sox WARN rate: rate clipped 17 samples; decrease volume?\r\n",
      "sox WARN dither: dither clipped 17 samples; decrease volume?\r\n"
     ]
    },
    {
     "name": "stderr",
     "output_type": "stream",
     "text": [
      "\r",
      "1529it [15:22,  1.62it/s]"
     ]
    },
    {
     "name": "stdout",
     "output_type": "stream",
     "text": [
      "sox WARN rate: rate clipped 17 samples; decrease volume?\r\n",
      "sox WARN dither: dither clipped 14 samples; decrease volume?\r\n"
     ]
    },
    {
     "name": "stderr",
     "output_type": "stream",
     "text": [
      "\r",
      "1530it [15:22,  1.41it/s]"
     ]
    },
    {
     "name": "stdout",
     "output_type": "stream",
     "text": [
      "sox WARN rate: rate clipped 22 samples; decrease volume?\r\n",
      "sox WARN dither: dither clipped 20 samples; decrease volume?\r\n"
     ]
    },
    {
     "name": "stderr",
     "output_type": "stream",
     "text": [
      "1532it [15:24,  1.37it/s]"
     ]
    },
    {
     "name": "stdout",
     "output_type": "stream",
     "text": [
      "sox WARN rate: rate clipped 18 samples; decrease volume?\r\n",
      "sox WARN dither: dither clipped 17 samples; decrease volume?\r\n"
     ]
    },
    {
     "name": "stderr",
     "output_type": "stream",
     "text": [
      "\r",
      "1533it [15:24,  1.49it/s]"
     ]
    },
    {
     "name": "stdout",
     "output_type": "stream",
     "text": [
      "sox WARN rate: rate clipped 18 samples; decrease volume?\r\n",
      "sox WARN dither: dither clipped 16 samples; decrease volume?\r\n"
     ]
    },
    {
     "name": "stderr",
     "output_type": "stream",
     "text": [
      "\r",
      "1534it [15:25,  1.59it/s]"
     ]
    },
    {
     "name": "stdout",
     "output_type": "stream",
     "text": [
      "sox WARN rate: rate clipped 2 samples; decrease volume?\r\n",
      "sox WARN dither: dither clipped 2 samples; decrease volume?\r\n"
     ]
    },
    {
     "name": "stderr",
     "output_type": "stream",
     "text": [
      "\r",
      "1535it [15:26,  1.39it/s]"
     ]
    },
    {
     "name": "stdout",
     "output_type": "stream",
     "text": [
      "sox WARN rate: rate clipped 6 samples; decrease volume?\r\n",
      "sox WARN dither: dither clipped 5 samples; decrease volume?\r\n"
     ]
    },
    {
     "name": "stderr",
     "output_type": "stream",
     "text": [
      "\r",
      "1536it [15:27,  1.34it/s]"
     ]
    },
    {
     "name": "stdout",
     "output_type": "stream",
     "text": [
      "sox WARN rate: rate clipped 19 samples; decrease volume?\r\n",
      "sox WARN dither: dither clipped 17 samples; decrease volume?\r\n"
     ]
    },
    {
     "name": "stderr",
     "output_type": "stream",
     "text": [
      "\r",
      "1537it [15:27,  1.46it/s]"
     ]
    },
    {
     "name": "stdout",
     "output_type": "stream",
     "text": [
      "sox WARN rate: rate clipped 5 samples; decrease volume?\r\n",
      "sox WARN dither: dither clipped 5 samples; decrease volume?\r\n"
     ]
    },
    {
     "name": "stderr",
     "output_type": "stream",
     "text": [
      "1539it [15:29,  1.29it/s]"
     ]
    },
    {
     "name": "stdout",
     "output_type": "stream",
     "text": [
      "sox WARN rate: rate clipped 28 samples; decrease volume?\r\n",
      "sox WARN dither: dither clipped 23 samples; decrease volume?\r\n"
     ]
    },
    {
     "name": "stderr",
     "output_type": "stream",
     "text": [
      "\r",
      "1540it [15:30,  1.22it/s]"
     ]
    },
    {
     "name": "stdout",
     "output_type": "stream",
     "text": [
      "sox WARN rate: rate clipped 20 samples; decrease volume?\r\n",
      "sox WARN dither: dither clipped 17 samples; decrease volume?\r\n"
     ]
    },
    {
     "name": "stderr",
     "output_type": "stream",
     "text": [
      "1542it [15:31,  1.30it/s]"
     ]
    },
    {
     "name": "stdout",
     "output_type": "stream",
     "text": [
      "sox WARN rate: rate clipped 665 samples; decrease volume?\r\n",
      "sox WARN dither: dither clipped 579 samples; decrease volume?\r\n"
     ]
    },
    {
     "name": "stderr",
     "output_type": "stream",
     "text": [
      "\r",
      "1543it [15:32,  1.25it/s]"
     ]
    },
    {
     "name": "stdout",
     "output_type": "stream",
     "text": [
      "sox WARN rate: rate clipped 24 samples; decrease volume?\r\n",
      "sox WARN dither: dither clipped 19 samples; decrease volume?\r\n"
     ]
    },
    {
     "name": "stderr",
     "output_type": "stream",
     "text": [
      "\r",
      "1544it [15:33,  1.19it/s]"
     ]
    },
    {
     "name": "stdout",
     "output_type": "stream",
     "text": [
      "sox WARN rate: rate clipped 87 samples; decrease volume?\r\n",
      "sox WARN dither: dither clipped 77 samples; decrease volume?\r\n"
     ]
    },
    {
     "name": "stderr",
     "output_type": "stream",
     "text": [
      "\r",
      "1545it [15:34,  1.24it/s]"
     ]
    },
    {
     "name": "stdout",
     "output_type": "stream",
     "text": [
      "sox WARN rate: rate clipped 21 samples; decrease volume?\r\n",
      "sox WARN dither: dither clipped 17 samples; decrease volume?\r\n"
     ]
    },
    {
     "name": "stderr",
     "output_type": "stream",
     "text": [
      "1547it [15:35,  1.23it/s]"
     ]
    },
    {
     "name": "stdout",
     "output_type": "stream",
     "text": [
      "sox WARN rate: rate clipped 16 samples; decrease volume?\r\n",
      "sox WARN dither: dither clipped 14 samples; decrease volume?\r\n"
     ]
    },
    {
     "name": "stderr",
     "output_type": "stream",
     "text": [
      "\r",
      "1548it [15:36,  1.37it/s]"
     ]
    },
    {
     "name": "stdout",
     "output_type": "stream",
     "text": [
      "sox WARN rate: rate clipped 4 samples; decrease volume?\r\n",
      "sox WARN dither: dither clipped 4 samples; decrease volume?\r\n"
     ]
    },
    {
     "name": "stderr",
     "output_type": "stream",
     "text": [
      "\r",
      "1549it [15:37,  1.26it/s]"
     ]
    },
    {
     "name": "stdout",
     "output_type": "stream",
     "text": [
      "sox WARN rate: rate clipped 23 samples; decrease volume?\r\n",
      "sox WARN dither: dither clipped 20 samples; decrease volume?\r\n"
     ]
    },
    {
     "name": "stderr",
     "output_type": "stream",
     "text": [
      "\r",
      "1550it [15:37,  1.39it/s]"
     ]
    },
    {
     "name": "stdout",
     "output_type": "stream",
     "text": [
      "sox WARN rate: rate clipped 18 samples; decrease volume?\r\n",
      "sox WARN dither: dither clipped 18 samples; decrease volume?\r\n"
     ]
    },
    {
     "name": "stderr",
     "output_type": "stream",
     "text": [
      "\r",
      "1551it [15:38,  1.50it/s]"
     ]
    },
    {
     "name": "stdout",
     "output_type": "stream",
     "text": [
      "sox WARN rate: rate clipped 65 samples; decrease volume?\r\n",
      "sox WARN dither: dither clipped 58 samples; decrease volume?\r\n"
     ]
    },
    {
     "name": "stderr",
     "output_type": "stream",
     "text": [
      "1553it [15:40,  1.25it/s]"
     ]
    },
    {
     "name": "stdout",
     "output_type": "stream",
     "text": [
      "sox WARN rate: rate clipped 18 samples; decrease volume?\r\n",
      "sox WARN dither: dither clipped 16 samples; decrease volume?\r\n"
     ]
    },
    {
     "name": "stderr",
     "output_type": "stream",
     "text": [
      "\r",
      "1554it [15:40,  1.41it/s]"
     ]
    },
    {
     "name": "stdout",
     "output_type": "stream",
     "text": [
      "sox WARN rate: rate clipped 19 samples; decrease volume?\r\n",
      "sox WARN dither: dither clipped 17 samples; decrease volume?\r\n"
     ]
    },
    {
     "name": "stderr",
     "output_type": "stream",
     "text": [
      "\r",
      "1555it [15:41,  1.53it/s]"
     ]
    },
    {
     "name": "stdout",
     "output_type": "stream",
     "text": [
      "sox WARN rate: rate clipped 17 samples; decrease volume?\r\n",
      "sox WARN dither: dither clipped 14 samples; decrease volume?\r\n"
     ]
    },
    {
     "name": "stderr",
     "output_type": "stream",
     "text": [
      "\r",
      "1556it [15:41,  1.62it/s]"
     ]
    },
    {
     "name": "stdout",
     "output_type": "stream",
     "text": [
      "sox WARN rate: rate clipped 19 samples; decrease volume?\r\n",
      "sox WARN dither: dither clipped 16 samples; decrease volume?\r\n"
     ]
    },
    {
     "name": "stderr",
     "output_type": "stream",
     "text": [
      "\r",
      "1557it [15:42,  1.69it/s]"
     ]
    },
    {
     "name": "stdout",
     "output_type": "stream",
     "text": [
      "sox WARN rate: rate clipped 18 samples; decrease volume?\r\n",
      "sox WARN dither: dither clipped 18 samples; decrease volume?\r\n"
     ]
    },
    {
     "name": "stderr",
     "output_type": "stream",
     "text": [
      "\r",
      "1558it [15:43,  1.44it/s]"
     ]
    },
    {
     "name": "stdout",
     "output_type": "stream",
     "text": [
      "sox WARN rate: rate clipped 16 samples; decrease volume?\r\n",
      "sox WARN dither: dither clipped 14 samples; decrease volume?\r\n"
     ]
    },
    {
     "name": "stderr",
     "output_type": "stream",
     "text": [
      "\r",
      "1559it [15:43,  1.53it/s]"
     ]
    },
    {
     "name": "stdout",
     "output_type": "stream",
     "text": [
      "sox WARN rate: rate clipped 7 samples; decrease volume?\r\n",
      "sox WARN dither: dither clipped 5 samples; decrease volume?\r\n"
     ]
    },
    {
     "name": "stderr",
     "output_type": "stream",
     "text": [
      "\r",
      "1560it [15:44,  1.48it/s]"
     ]
    },
    {
     "name": "stdout",
     "output_type": "stream",
     "text": [
      "sox WARN rate: rate clipped 17 samples; decrease volume?\r\n",
      "sox WARN dither: dither clipped 15 samples; decrease volume?\r\n"
     ]
    },
    {
     "name": "stderr",
     "output_type": "stream",
     "text": [
      "1563it [15:46,  1.31it/s]"
     ]
    },
    {
     "name": "stdout",
     "output_type": "stream",
     "text": [
      "sox WARN rate: rate clipped 18 samples; decrease volume?\r\n",
      "sox WARN dither: dither clipped 15 samples; decrease volume?\r\n"
     ]
    },
    {
     "name": "stderr",
     "output_type": "stream",
     "text": [
      "\r",
      "1564it [15:47,  1.43it/s]"
     ]
    },
    {
     "name": "stdout",
     "output_type": "stream",
     "text": [
      "sox WARN rate: rate clipped 5 samples; decrease volume?\r\n",
      "sox WARN dither: dither clipped 5 samples; decrease volume?\r\n"
     ]
    },
    {
     "name": "stderr",
     "output_type": "stream",
     "text": [
      "\r",
      "1565it [15:48,  1.42it/s]"
     ]
    },
    {
     "name": "stdout",
     "output_type": "stream",
     "text": [
      "sox WARN rate: rate clipped 15 samples; decrease volume?\r\n",
      "sox WARN dither: dither clipped 13 samples; decrease volume?\r\n"
     ]
    },
    {
     "name": "stderr",
     "output_type": "stream",
     "text": [
      "\r",
      "1566it [15:48,  1.55it/s]"
     ]
    },
    {
     "name": "stdout",
     "output_type": "stream",
     "text": [
      "sox WARN rate: rate clipped 4 samples; decrease volume?\r\n",
      "sox WARN dither: dither clipped 3 samples; decrease volume?\r\n"
     ]
    },
    {
     "name": "stderr",
     "output_type": "stream",
     "text": [
      "\r",
      "1567it [15:49,  1.56it/s]"
     ]
    },
    {
     "name": "stdout",
     "output_type": "stream",
     "text": [
      "sox WARN rate: rate clipped 18 samples; decrease volume?\r\n",
      "sox WARN dither: dither clipped 16 samples; decrease volume?\r\n"
     ]
    },
    {
     "name": "stderr",
     "output_type": "stream",
     "text": [
      "\r",
      "1568it [15:49,  1.63it/s]"
     ]
    },
    {
     "name": "stdout",
     "output_type": "stream",
     "text": [
      "sox WARN rate: rate clipped 7 samples; decrease volume?\r\n",
      "sox WARN dither: dither clipped 6 samples; decrease volume?\r\n"
     ]
    },
    {
     "name": "stderr",
     "output_type": "stream",
     "text": [
      "\r",
      "1569it [15:50,  1.58it/s]"
     ]
    },
    {
     "name": "stdout",
     "output_type": "stream",
     "text": [
      "sox WARN rate: rate clipped 17 samples; decrease volume?\r\n",
      "sox WARN dither: dither clipped 15 samples; decrease volume?\r\n"
     ]
    },
    {
     "name": "stderr",
     "output_type": "stream",
     "text": [
      "\r",
      "1570it [15:51,  1.66it/s]"
     ]
    },
    {
     "name": "stdout",
     "output_type": "stream",
     "text": [
      "sox WARN rate: rate clipped 19 samples; decrease volume?\r\n",
      "sox WARN dither: dither clipped 17 samples; decrease volume?\r\n"
     ]
    },
    {
     "name": "stderr",
     "output_type": "stream",
     "text": [
      "\r",
      "1571it [15:51,  1.71it/s]"
     ]
    },
    {
     "name": "stdout",
     "output_type": "stream",
     "text": [
      "sox WARN rate: rate clipped 17 samples; decrease volume?\r\n",
      "sox WARN dither: dither clipped 15 samples; decrease volume?\r\n"
     ]
    },
    {
     "name": "stderr",
     "output_type": "stream",
     "text": [
      "\r",
      "1572it [15:52,  1.75it/s]"
     ]
    },
    {
     "name": "stdout",
     "output_type": "stream",
     "text": [
      "sox WARN rate: rate clipped 1 samples; decrease volume?\r\n",
      "sox WARN dither: dither clipped 1 samples; decrease volume?\r\n"
     ]
    },
    {
     "name": "stderr",
     "output_type": "stream",
     "text": [
      "1575it [15:54,  1.27it/s]"
     ]
    },
    {
     "name": "stdout",
     "output_type": "stream",
     "text": [
      "sox WARN rate: rate clipped 17 samples; decrease volume?\r\n",
      "sox WARN dither: dither clipped 17 samples; decrease volume?\r\n"
     ]
    },
    {
     "name": "stderr",
     "output_type": "stream",
     "text": [
      "\r",
      "1576it [15:55,  1.40it/s]"
     ]
    },
    {
     "name": "stdout",
     "output_type": "stream",
     "text": [
      "sox WARN rate: rate clipped 18 samples; decrease volume?\r\n",
      "sox WARN dither: dither clipped 17 samples; decrease volume?\r\n"
     ]
    },
    {
     "name": "stderr",
     "output_type": "stream",
     "text": [
      "\r",
      "1577it [15:55,  1.51it/s]"
     ]
    },
    {
     "name": "stdout",
     "output_type": "stream",
     "text": [
      "sox WARN rate: rate clipped 5 samples; decrease volume?\r\n",
      "sox WARN dither: dither clipped 5 samples; decrease volume?\r\n"
     ]
    },
    {
     "name": "stderr",
     "output_type": "stream",
     "text": [
      "\r",
      "1578it [15:56,  1.48it/s]"
     ]
    },
    {
     "name": "stdout",
     "output_type": "stream",
     "text": [
      "sox WARN rate: rate clipped 95 samples; decrease volume?\r\n",
      "sox WARN dither: dither clipped 72 samples; decrease volume?\r\n"
     ]
    },
    {
     "name": "stderr",
     "output_type": "stream",
     "text": [
      "1580it [15:58,  1.39it/s]"
     ]
    },
    {
     "name": "stdout",
     "output_type": "stream",
     "text": [
      "sox WARN rate: rate clipped 108 samples; decrease volume?\r\n",
      "sox WARN dither: dither clipped 97 samples; decrease volume?\r\n"
     ]
    },
    {
     "name": "stderr",
     "output_type": "stream",
     "text": [
      "\r",
      "1581it [15:58,  1.51it/s]"
     ]
    },
    {
     "name": "stdout",
     "output_type": "stream",
     "text": [
      "sox WARN rate: rate clipped 8 samples; decrease volume?\r\n",
      "sox WARN dither: dither clipped 7 samples; decrease volume?\r\n"
     ]
    },
    {
     "name": "stderr",
     "output_type": "stream",
     "text": [
      "\r",
      "1582it [15:59,  1.52it/s]"
     ]
    },
    {
     "name": "stdout",
     "output_type": "stream",
     "text": [
      "sox WARN rate: rate clipped 9 samples; decrease volume?\r\n",
      "sox WARN dither: dither clipped 8 samples; decrease volume?\r\n"
     ]
    },
    {
     "name": "stderr",
     "output_type": "stream",
     "text": [
      "\r",
      "1583it [15:59,  1.60it/s]"
     ]
    },
    {
     "name": "stdout",
     "output_type": "stream",
     "text": [
      "sox WARN rate: rate clipped 131 samples; decrease volume?\r\n",
      "sox WARN dither: dither clipped 116 samples; decrease volume?\r\n"
     ]
    },
    {
     "name": "stderr",
     "output_type": "stream",
     "text": [
      "\r",
      "1584it [16:00,  1.40it/s]"
     ]
    },
    {
     "name": "stdout",
     "output_type": "stream",
     "text": [
      "sox WARN rate: rate clipped 55 samples; decrease volume?\r\n",
      "sox WARN dither: dither clipped 48 samples; decrease volume?\r\n"
     ]
    },
    {
     "name": "stderr",
     "output_type": "stream",
     "text": [
      "\r",
      "1585it [16:01,  1.39it/s]"
     ]
    },
    {
     "name": "stdout",
     "output_type": "stream",
     "text": [
      "sox WARN rate: rate clipped 16 samples; decrease volume?\r\n",
      "sox WARN dither: dither clipped 14 samples; decrease volume?\r\n"
     ]
    },
    {
     "name": "stderr",
     "output_type": "stream",
     "text": [
      "\r",
      "1586it [16:02,  1.51it/s]"
     ]
    },
    {
     "name": "stdout",
     "output_type": "stream",
     "text": [
      "sox WARN rate: rate clipped 9 samples; decrease volume?\r\n",
      "sox WARN dither: dither clipped 9 samples; decrease volume?\r\n"
     ]
    },
    {
     "name": "stderr",
     "output_type": "stream",
     "text": [
      "\r",
      "1587it [16:02,  1.51it/s]"
     ]
    },
    {
     "name": "stdout",
     "output_type": "stream",
     "text": [
      "sox WARN rate: rate clipped 17 samples; decrease volume?\r\n",
      "sox WARN dither: dither clipped 15 samples; decrease volume?\r\n"
     ]
    },
    {
     "name": "stderr",
     "output_type": "stream",
     "text": [
      "\r",
      "1588it [16:03,  1.60it/s]"
     ]
    },
    {
     "name": "stdout",
     "output_type": "stream",
     "text": [
      "sox WARN rate: rate clipped 8 samples; decrease volume?\r\n",
      "sox WARN dither: dither clipped 8 samples; decrease volume?\r\n"
     ]
    },
    {
     "name": "stderr",
     "output_type": "stream",
     "text": [
      "\r",
      "1589it [16:04,  1.45it/s]"
     ]
    },
    {
     "name": "stdout",
     "output_type": "stream",
     "text": [
      "sox WARN rate: rate clipped 32 samples; decrease volume?\r\n",
      "sox WARN dither: dither clipped 28 samples; decrease volume?\r\n"
     ]
    },
    {
     "name": "stderr",
     "output_type": "stream",
     "text": [
      "1591it [16:05,  1.29it/s]"
     ]
    },
    {
     "name": "stdout",
     "output_type": "stream",
     "text": [
      "sox WARN rate: rate clipped 3 samples; decrease volume?\r\n",
      "sox WARN dither: dither clipped 3 samples; decrease volume?\r\n"
     ]
    },
    {
     "name": "stderr",
     "output_type": "stream",
     "text": [
      "1593it [16:07,  1.20it/s]"
     ]
    },
    {
     "name": "stdout",
     "output_type": "stream",
     "text": [
      "sox WARN rate: rate clipped 175 samples; decrease volume?\r\n",
      "sox WARN dither: dither clipped 154 samples; decrease volume?\r\n"
     ]
    },
    {
     "name": "stderr",
     "output_type": "stream",
     "text": [
      "\r",
      "1594it [16:08,  1.34it/s]"
     ]
    },
    {
     "name": "stdout",
     "output_type": "stream",
     "text": [
      "sox WARN rate: rate clipped 19 samples; decrease volume?\r\n",
      "sox WARN dither: dither clipped 17 samples; decrease volume?\r\n"
     ]
    },
    {
     "name": "stderr",
     "output_type": "stream",
     "text": [
      "\r",
      "1595it [16:08,  1.46it/s]"
     ]
    },
    {
     "name": "stdout",
     "output_type": "stream",
     "text": [
      "sox WARN rate: rate clipped 24 samples; decrease volume?\r\n",
      "sox WARN dither: dither clipped 19 samples; decrease volume?\r\n"
     ]
    },
    {
     "name": "stderr",
     "output_type": "stream",
     "text": [
      "\r",
      "1596it [16:09,  1.56it/s]"
     ]
    },
    {
     "name": "stdout",
     "output_type": "stream",
     "text": [
      "sox WARN rate: rate clipped 210 samples; decrease volume?\r\n",
      "sox WARN dither: dither clipped 182 samples; decrease volume?\r\n"
     ]
    },
    {
     "name": "stderr",
     "output_type": "stream",
     "text": [
      "\r",
      "1597it [16:09,  1.61it/s]"
     ]
    },
    {
     "name": "stdout",
     "output_type": "stream",
     "text": [
      "sox WARN rate: rate clipped 17 samples; decrease volume?\r\n",
      "sox WARN dither: dither clipped 16 samples; decrease volume?\r\n"
     ]
    },
    {
     "name": "stderr",
     "output_type": "stream",
     "text": [
      "\r",
      "1598it [16:10,  1.68it/s]"
     ]
    },
    {
     "name": "stdout",
     "output_type": "stream",
     "text": [
      "sox WARN rate: rate clipped 24 samples; decrease volume?\r\n",
      "sox WARN dither: dither clipped 21 samples; decrease volume?\r\n"
     ]
    },
    {
     "name": "stderr",
     "output_type": "stream",
     "text": [
      "\r",
      "1599it [16:11,  1.44it/s]"
     ]
    },
    {
     "name": "stdout",
     "output_type": "stream",
     "text": [
      "sox WARN rate: rate clipped 26 samples; decrease volume?\r\n",
      "sox WARN dither: dither clipped 24 samples; decrease volume?\r\n"
     ]
    },
    {
     "name": "stderr",
     "output_type": "stream",
     "text": [
      "\r",
      "1600it [16:11,  1.60it/s]"
     ]
    },
    {
     "name": "stdout",
     "output_type": "stream",
     "text": [
      "sox WARN rate: rate clipped 17 samples; decrease volume?\r\n",
      "sox WARN dither: dither clipped 12 samples; decrease volume?\r\n"
     ]
    },
    {
     "name": "stderr",
     "output_type": "stream",
     "text": [
      "\r",
      "1601it [16:12,  1.66it/s]"
     ]
    },
    {
     "name": "stdout",
     "output_type": "stream",
     "text": [
      "sox WARN rate: rate clipped 27 samples; decrease volume?\r\n",
      "sox WARN dither: dither clipped 26 samples; decrease volume?\r\n"
     ]
    },
    {
     "name": "stderr",
     "output_type": "stream",
     "text": [
      "\r",
      "1602it [16:12,  1.79it/s]"
     ]
    },
    {
     "name": "stdout",
     "output_type": "stream",
     "text": [
      "sox WARN rate: rate clipped 4 samples; decrease volume?\r\n",
      "sox WARN dither: dither clipped 3 samples; decrease volume?\r\n"
     ]
    },
    {
     "name": "stderr",
     "output_type": "stream",
     "text": [
      "\r",
      "1603it [16:13,  1.50it/s]"
     ]
    },
    {
     "name": "stdout",
     "output_type": "stream",
     "text": [
      "sox WARN rate: rate clipped 123 samples; decrease volume?\r\n",
      "sox WARN dither: dither clipped 104 samples; decrease volume?\r\n"
     ]
    },
    {
     "name": "stderr",
     "output_type": "stream",
     "text": [
      "\r",
      "1604it [16:14,  1.59it/s]"
     ]
    },
    {
     "name": "stdout",
     "output_type": "stream",
     "text": [
      "sox WARN rate: rate clipped 11 samples; decrease volume?\r\n",
      "sox WARN dither: dither clipped 10 samples; decrease volume?\r\n"
     ]
    },
    {
     "name": "stderr",
     "output_type": "stream",
     "text": [
      "1606it [16:15,  1.35it/s]"
     ]
    },
    {
     "name": "stdout",
     "output_type": "stream",
     "text": [
      "sox WARN rate: rate clipped 48 samples; decrease volume?\r\n",
      "sox WARN dither: dither clipped 44 samples; decrease volume?\r\n"
     ]
    },
    {
     "name": "stderr",
     "output_type": "stream",
     "text": [
      "\r",
      "1607it [16:16,  1.25it/s]"
     ]
    },
    {
     "name": "stdout",
     "output_type": "stream",
     "text": [
      "sox WARN rate: rate clipped 16 samples; decrease volume?\r\n",
      "sox WARN dither: dither clipped 14 samples; decrease volume?\r\n"
     ]
    },
    {
     "name": "stderr",
     "output_type": "stream",
     "text": [
      "\r",
      "1608it [16:17,  1.39it/s]"
     ]
    },
    {
     "name": "stdout",
     "output_type": "stream",
     "text": [
      "sox WARN rate: rate clipped 16 samples; decrease volume?\r\n",
      "sox WARN dither: dither clipped 16 samples; decrease volume?\r\n"
     ]
    },
    {
     "name": "stderr",
     "output_type": "stream",
     "text": [
      "\r",
      "1609it [16:17,  1.50it/s]"
     ]
    },
    {
     "name": "stdout",
     "output_type": "stream",
     "text": [
      "sox WARN rate: rate clipped 20 samples; decrease volume?\r\n",
      "sox WARN dither: dither clipped 17 samples; decrease volume?\r\n"
     ]
    },
    {
     "name": "stderr",
     "output_type": "stream",
     "text": [
      "\r",
      "1610it [16:18,  1.74it/s]"
     ]
    },
    {
     "name": "stdout",
     "output_type": "stream",
     "text": [
      "sox WARN rate: rate clipped 18 samples; decrease volume?\r\n",
      "sox WARN dither: dither clipped 16 samples; decrease volume?\r\n"
     ]
    },
    {
     "name": "stderr",
     "output_type": "stream",
     "text": [
      "\r",
      "1611it [16:18,  1.77it/s]"
     ]
    },
    {
     "name": "stdout",
     "output_type": "stream",
     "text": [
      "sox WARN rate: rate clipped 13 samples; decrease volume?\r\n",
      "sox WARN dither: dither clipped 10 samples; decrease volume?\r\n"
     ]
    },
    {
     "name": "stderr",
     "output_type": "stream",
     "text": [
      "\r",
      "1612it [16:19,  1.56it/s]"
     ]
    },
    {
     "name": "stdout",
     "output_type": "stream",
     "text": [
      "sox WARN rate: rate clipped 18 samples; decrease volume?\r\n",
      "sox WARN dither: dither clipped 15 samples; decrease volume?\r\n"
     ]
    },
    {
     "name": "stderr",
     "output_type": "stream",
     "text": [
      "\r",
      "1613it [16:20,  1.63it/s]"
     ]
    },
    {
     "name": "stdout",
     "output_type": "stream",
     "text": [
      "sox WARN rate: rate clipped 17 samples; decrease volume?\r\n",
      "sox WARN dither: dither clipped 17 samples; decrease volume?\r\n"
     ]
    },
    {
     "name": "stderr",
     "output_type": "stream",
     "text": [
      "\r",
      "1614it [16:20,  1.69it/s]"
     ]
    },
    {
     "name": "stdout",
     "output_type": "stream",
     "text": [
      "sox WARN rate: rate clipped 20 samples; decrease volume?\r\n",
      "sox WARN dither: dither clipped 18 samples; decrease volume?\r\n"
     ]
    },
    {
     "name": "stderr",
     "output_type": "stream",
     "text": [
      "\r",
      "1615it [16:21,  1.74it/s]"
     ]
    },
    {
     "name": "stdout",
     "output_type": "stream",
     "text": [
      "sox WARN rate: rate clipped 18 samples; decrease volume?\r\n",
      "sox WARN dither: dither clipped 14 samples; decrease volume?\r\n"
     ]
    },
    {
     "name": "stderr",
     "output_type": "stream",
     "text": [
      "1617it [16:22,  1.48it/s]"
     ]
    },
    {
     "name": "stdout",
     "output_type": "stream",
     "text": [
      "sox WARN rate: rate clipped 29 samples; decrease volume?\r\n",
      "sox WARN dither: dither clipped 25 samples; decrease volume?\r\n"
     ]
    },
    {
     "name": "stderr",
     "output_type": "stream",
     "text": [
      "\r",
      "1618it [16:23,  1.57it/s]"
     ]
    },
    {
     "name": "stdout",
     "output_type": "stream",
     "text": [
      "sox WARN rate: rate clipped 24 samples; decrease volume?\r\n",
      "sox WARN dither: dither clipped 23 samples; decrease volume?\r\n"
     ]
    },
    {
     "name": "stderr",
     "output_type": "stream",
     "text": [
      "\r",
      "1619it [16:23,  1.43it/s]"
     ]
    },
    {
     "name": "stdout",
     "output_type": "stream",
     "text": [
      "sox WARN rate: rate clipped 19 samples; decrease volume?\r\n",
      "sox WARN dither: dither clipped 17 samples; decrease volume?\r\n"
     ]
    },
    {
     "name": "stderr",
     "output_type": "stream",
     "text": [
      "\r",
      "1620it [16:24,  1.53it/s]"
     ]
    },
    {
     "name": "stdout",
     "output_type": "stream",
     "text": [
      "sox WARN rate: rate clipped 22 samples; decrease volume?\r\n",
      "sox WARN dither: dither clipped 18 samples; decrease volume?\r\n"
     ]
    },
    {
     "name": "stderr",
     "output_type": "stream",
     "text": [
      "\r",
      "1621it [16:25,  1.50it/s]"
     ]
    },
    {
     "name": "stdout",
     "output_type": "stream",
     "text": [
      "sox WARN rate: rate clipped 18 samples; decrease volume?\r\n",
      "sox WARN dither: dither clipped 15 samples; decrease volume?\r\n"
     ]
    },
    {
     "name": "stderr",
     "output_type": "stream",
     "text": [
      "1623it [16:27,  1.26it/s]"
     ]
    },
    {
     "name": "stdout",
     "output_type": "stream",
     "text": [
      "sox WARN rate: rate clipped 4 samples; decrease volume?\r\n",
      "sox WARN dither: dither clipped 2 samples; decrease volume?\r\n"
     ]
    },
    {
     "name": "stderr",
     "output_type": "stream",
     "text": [
      "\r",
      "1624it [16:27,  1.37it/s]"
     ]
    },
    {
     "name": "stdout",
     "output_type": "stream",
     "text": [
      "sox WARN rate: rate clipped 19 samples; decrease volume?\r\n",
      "sox WARN dither: dither clipped 17 samples; decrease volume?\r\n"
     ]
    },
    {
     "name": "stderr",
     "output_type": "stream",
     "text": [
      "1626it [16:29,  1.21it/s]"
     ]
    },
    {
     "name": "stdout",
     "output_type": "stream",
     "text": [
      "sox WARN rate: rate clipped 5 samples; decrease volume?\r\n",
      "sox WARN dither: dither clipped 4 samples; decrease volume?\r\n"
     ]
    },
    {
     "name": "stderr",
     "output_type": "stream",
     "text": [
      "1629it [16:31,  1.24it/s]"
     ]
    },
    {
     "name": "stdout",
     "output_type": "stream",
     "text": [
      "sox WARN rate: rate clipped 1 samples; decrease volume?\r\n",
      "sox WARN dither: dither clipped 1 samples; decrease volume?\r\n"
     ]
    },
    {
     "name": "stderr",
     "output_type": "stream",
     "text": [
      "\r",
      "1630it [16:32,  1.18it/s]"
     ]
    },
    {
     "name": "stdout",
     "output_type": "stream",
     "text": [
      "sox WARN rate: rate clipped 17 samples; decrease volume?\r\n",
      "sox WARN dither: dither clipped 15 samples; decrease volume?\r\n"
     ]
    },
    {
     "name": "stderr",
     "output_type": "stream",
     "text": [
      "\r",
      "1631it [16:33,  1.32it/s]"
     ]
    },
    {
     "name": "stdout",
     "output_type": "stream",
     "text": [
      "sox WARN rate: rate clipped 18 samples; decrease volume?\r\n",
      "sox WARN dither: dither clipped 18 samples; decrease volume?\r\n"
     ]
    },
    {
     "name": "stderr",
     "output_type": "stream",
     "text": [
      "\r",
      "1632it [16:33,  1.44it/s]"
     ]
    },
    {
     "name": "stdout",
     "output_type": "stream",
     "text": [
      "sox WARN rate: rate clipped 15 samples; decrease volume?\r\n",
      "sox WARN dither: dither clipped 14 samples; decrease volume?\r\n"
     ]
    },
    {
     "name": "stderr",
     "output_type": "stream",
     "text": [
      "\r",
      "1633it [16:34,  1.34it/s]"
     ]
    },
    {
     "name": "stdout",
     "output_type": "stream",
     "text": [
      "sox WARN rate: rate clipped 62 samples; decrease volume?\r\n",
      "sox WARN dither: dither clipped 52 samples; decrease volume?\r\n"
     ]
    },
    {
     "name": "stderr",
     "output_type": "stream",
     "text": [
      "1635it [16:36,  1.32it/s]"
     ]
    },
    {
     "name": "stdout",
     "output_type": "stream",
     "text": [
      "sox WARN rate: rate clipped 15 samples; decrease volume?\r\n",
      "sox WARN dither: dither clipped 13 samples; decrease volume?\r\n"
     ]
    },
    {
     "name": "stderr",
     "output_type": "stream",
     "text": [
      "1637it [16:37,  1.30it/s]"
     ]
    },
    {
     "name": "stdout",
     "output_type": "stream",
     "text": [
      "sox WARN rate: rate clipped 19 samples; decrease volume?\r\n",
      "sox WARN dither: dither clipped 17 samples; decrease volume?\r\n"
     ]
    },
    {
     "name": "stderr",
     "output_type": "stream",
     "text": [
      "\r",
      "1638it [16:38,  1.43it/s]"
     ]
    },
    {
     "name": "stdout",
     "output_type": "stream",
     "text": [
      "sox WARN rate: rate clipped 740 samples; decrease volume?\r\n",
      "sox WARN dither: dither clipped 650 samples; decrease volume?\r\n"
     ]
    },
    {
     "name": "stderr",
     "output_type": "stream",
     "text": [
      "1640it [16:39,  1.41it/s]"
     ]
    },
    {
     "name": "stdout",
     "output_type": "stream",
     "text": [
      "sox WARN rate: rate clipped 14 samples; decrease volume?\r\n",
      "sox WARN dither: dither clipped 13 samples; decrease volume?\r\n"
     ]
    },
    {
     "name": "stderr",
     "output_type": "stream",
     "text": [
      "\r",
      "1641it [16:40,  1.51it/s]"
     ]
    },
    {
     "name": "stdout",
     "output_type": "stream",
     "text": [
      "sox WARN rate: rate clipped 27 samples; decrease volume?\r\n",
      "sox WARN dither: dither clipped 23 samples; decrease volume?\r\n"
     ]
    },
    {
     "name": "stderr",
     "output_type": "stream",
     "text": [
      "\r",
      "1642it [16:40,  1.46it/s]"
     ]
    },
    {
     "name": "stdout",
     "output_type": "stream",
     "text": [
      "sox WARN rate: rate clipped 25 samples; decrease volume?\r\n",
      "sox WARN dither: dither clipped 23 samples; decrease volume?\r\n"
     ]
    },
    {
     "name": "stderr",
     "output_type": "stream",
     "text": [
      "\r",
      "1643it [16:41,  1.56it/s]"
     ]
    },
    {
     "name": "stdout",
     "output_type": "stream",
     "text": [
      "sox WARN rate: rate clipped 73 samples; decrease volume?\r\n",
      "sox WARN dither: dither clipped 60 samples; decrease volume?\r\n"
     ]
    },
    {
     "name": "stderr",
     "output_type": "stream",
     "text": [
      "\r",
      "1644it [16:41,  1.63it/s]"
     ]
    },
    {
     "name": "stdout",
     "output_type": "stream",
     "text": [
      "sox WARN rate: rate clipped 20 samples; decrease volume?\r\n",
      "sox WARN dither: dither clipped 17 samples; decrease volume?\r\n"
     ]
    },
    {
     "name": "stderr",
     "output_type": "stream",
     "text": [
      "\r",
      "1645it [16:42,  1.68it/s]"
     ]
    },
    {
     "name": "stdout",
     "output_type": "stream",
     "text": [
      "sox WARN rate: rate clipped 15 samples; decrease volume?\r\n",
      "sox WARN dither: dither clipped 12 samples; decrease volume?\r\n"
     ]
    },
    {
     "name": "stderr",
     "output_type": "stream",
     "text": [
      "\r",
      "1646it [16:43,  1.71it/s]"
     ]
    },
    {
     "name": "stdout",
     "output_type": "stream",
     "text": [
      "sox WARN rate: rate clipped 19 samples; decrease volume?\r\n",
      "sox WARN dither: dither clipped 17 samples; decrease volume?\r\n"
     ]
    },
    {
     "name": "stderr",
     "output_type": "stream",
     "text": [
      "\r",
      "1647it [16:43,  1.74it/s]"
     ]
    },
    {
     "name": "stdout",
     "output_type": "stream",
     "text": [
      "sox WARN rate: rate clipped 19 samples; decrease volume?\r\n",
      "sox WARN dither: dither clipped 17 samples; decrease volume?\r\n"
     ]
    },
    {
     "name": "stderr",
     "output_type": "stream",
     "text": [
      "1649it [16:45,  1.50it/s]"
     ]
    },
    {
     "name": "stdout",
     "output_type": "stream",
     "text": [
      "sox WARN rate: rate clipped 65 samples; decrease volume?\r\n",
      "sox WARN dither: dither clipped 58 samples; decrease volume?\r\n"
     ]
    },
    {
     "name": "stderr",
     "output_type": "stream",
     "text": [
      "\r",
      "1650it [16:46,  1.33it/s]"
     ]
    },
    {
     "name": "stdout",
     "output_type": "stream",
     "text": [
      "sox WARN rate: rate clipped 95 samples; decrease volume?\r\n",
      "sox WARN dither: dither clipped 89 samples; decrease volume?\r\n"
     ]
    },
    {
     "name": "stderr",
     "output_type": "stream",
     "text": [
      "\r",
      "1651it [16:46,  1.45it/s]"
     ]
    },
    {
     "name": "stdout",
     "output_type": "stream",
     "text": [
      "sox WARN rate: rate clipped 17 samples; decrease volume?\r\n",
      "sox WARN dither: dither clipped 14 samples; decrease volume?\r\n"
     ]
    },
    {
     "name": "stderr",
     "output_type": "stream",
     "text": [
      "1653it [16:48,  1.36it/s]"
     ]
    },
    {
     "name": "stdout",
     "output_type": "stream",
     "text": [
      "sox WARN rate: rate clipped 19 samples; decrease volume?\r\n",
      "sox WARN dither: dither clipped 15 samples; decrease volume?\r\n"
     ]
    },
    {
     "name": "stderr",
     "output_type": "stream",
     "text": [
      "\r",
      "1654it [16:48,  1.38it/s]"
     ]
    },
    {
     "name": "stdout",
     "output_type": "stream",
     "text": [
      "sox WARN rate: rate clipped 17 samples; decrease volume?\r\n",
      "sox WARN dither: dither clipped 16 samples; decrease volume?\r\n"
     ]
    },
    {
     "name": "stderr",
     "output_type": "stream",
     "text": [
      "\r",
      "1655it [16:49,  1.49it/s]"
     ]
    },
    {
     "name": "stdout",
     "output_type": "stream",
     "text": [
      "sox WARN rate: rate clipped 23 samples; decrease volume?\r\n",
      "sox WARN dither: dither clipped 22 samples; decrease volume?\r\n"
     ]
    },
    {
     "name": "stderr",
     "output_type": "stream",
     "text": [
      "\r",
      "1656it [16:50,  1.42it/s]"
     ]
    },
    {
     "name": "stdout",
     "output_type": "stream",
     "text": [
      "sox WARN rate: rate clipped 19 samples; decrease volume?\r\n",
      "sox WARN dither: dither clipped 13 samples; decrease volume?\r\n"
     ]
    },
    {
     "name": "stderr",
     "output_type": "stream",
     "text": [
      "1658it [16:51,  1.35it/s]"
     ]
    },
    {
     "name": "stdout",
     "output_type": "stream",
     "text": [
      "sox WARN rate: rate clipped 14 samples; decrease volume?\r\n",
      "sox WARN dither: dither clipped 12 samples; decrease volume?\r\n"
     ]
    },
    {
     "name": "stderr",
     "output_type": "stream",
     "text": [
      "\r",
      "1659it [16:52,  1.41it/s]"
     ]
    },
    {
     "name": "stdout",
     "output_type": "stream",
     "text": [
      "sox WARN rate: rate clipped 18 samples; decrease volume?\r\n",
      "sox WARN dither: dither clipped 16 samples; decrease volume?\r\n"
     ]
    },
    {
     "name": "stderr",
     "output_type": "stream",
     "text": [
      "\r",
      "1660it [16:52,  1.53it/s]"
     ]
    },
    {
     "name": "stdout",
     "output_type": "stream",
     "text": [
      "sox WARN rate: rate clipped 76 samples; decrease volume?\r\n",
      "sox WARN dither: dither clipped 70 samples; decrease volume?\r\n"
     ]
    },
    {
     "name": "stderr",
     "output_type": "stream",
     "text": [
      "\r",
      "1661it [16:53,  1.47it/s]"
     ]
    },
    {
     "name": "stdout",
     "output_type": "stream",
     "text": [
      "sox WARN rate: rate clipped 14 samples; decrease volume?\r\n",
      "sox WARN dither: dither clipped 13 samples; decrease volume?\r\n"
     ]
    },
    {
     "name": "stderr",
     "output_type": "stream",
     "text": [
      "\r",
      "1662it [16:54,  1.34it/s]"
     ]
    },
    {
     "name": "stdout",
     "output_type": "stream",
     "text": [
      "sox WARN rate: rate clipped 1 samples; decrease volume?\r\n"
     ]
    },
    {
     "name": "stderr",
     "output_type": "stream",
     "text": [
      "\r",
      "1663it [16:55,  1.25it/s]"
     ]
    },
    {
     "name": "stdout",
     "output_type": "stream",
     "text": [
      "sox WARN rate: rate clipped 21 samples; decrease volume?\r\n",
      "sox WARN dither: dither clipped 17 samples; decrease volume?\r\n"
     ]
    },
    {
     "name": "stderr",
     "output_type": "stream",
     "text": [
      "\r",
      "1664it [16:55,  1.33it/s]"
     ]
    },
    {
     "name": "stdout",
     "output_type": "stream",
     "text": [
      "sox WARN rate: rate clipped 2 samples; decrease volume?\r\n",
      "sox WARN dither: dither clipped 1 samples; decrease volume?\r\n"
     ]
    },
    {
     "name": "stderr",
     "output_type": "stream",
     "text": [
      "\r",
      "1665it [16:56,  1.51it/s]"
     ]
    },
    {
     "name": "stdout",
     "output_type": "stream",
     "text": [
      "sox WARN rate: rate clipped 19 samples; decrease volume?\r\n",
      "sox WARN dither: dither clipped 17 samples; decrease volume?\r\n"
     ]
    },
    {
     "name": "stderr",
     "output_type": "stream",
     "text": [
      "1669it [16:59,  1.27it/s]"
     ]
    },
    {
     "name": "stdout",
     "output_type": "stream",
     "text": [
      "sox WARN rate: rate clipped 17 samples; decrease volume?\r\n",
      "sox WARN dither: dither clipped 14 samples; decrease volume?\r\n"
     ]
    },
    {
     "name": "stderr",
     "output_type": "stream",
     "text": [
      "\r",
      "1670it [17:00,  1.40it/s]"
     ]
    },
    {
     "name": "stdout",
     "output_type": "stream",
     "text": [
      "sox WARN rate: rate clipped 20 samples; decrease volume?\r\n",
      "sox WARN dither: dither clipped 19 samples; decrease volume?\r\n"
     ]
    },
    {
     "name": "stderr",
     "output_type": "stream",
     "text": [
      "\r",
      "1671it [17:00,  1.52it/s]"
     ]
    },
    {
     "name": "stdout",
     "output_type": "stream",
     "text": [
      "sox WARN rate: rate clipped 1 samples; decrease volume?\r\n",
      "sox WARN dither: dither clipped 1 samples; decrease volume?\r\n"
     ]
    },
    {
     "name": "stderr",
     "output_type": "stream",
     "text": [
      "1673it [17:02,  1.23it/s]"
     ]
    },
    {
     "name": "stdout",
     "output_type": "stream",
     "text": [
      "sox WARN rate: rate clipped 17 samples; decrease volume?\r\n",
      "sox WARN dither: dither clipped 13 samples; decrease volume?\r\n"
     ]
    },
    {
     "name": "stderr",
     "output_type": "stream",
     "text": [
      "\r",
      "1674it [17:03,  1.37it/s]"
     ]
    },
    {
     "name": "stdout",
     "output_type": "stream",
     "text": [
      "sox WARN rate: rate clipped 9 samples; decrease volume?\r\n",
      "sox WARN dither: dither clipped 9 samples; decrease volume?\r\n"
     ]
    },
    {
     "name": "stderr",
     "output_type": "stream",
     "text": [
      "\r",
      "1675it [17:03,  1.34it/s]"
     ]
    },
    {
     "name": "stdout",
     "output_type": "stream",
     "text": [
      "sox WARN rate: rate clipped 17 samples; decrease volume?\r\n",
      "sox WARN dither: dither clipped 13 samples; decrease volume?\r\n"
     ]
    },
    {
     "name": "stderr",
     "output_type": "stream",
     "text": [
      "1677it [17:05,  1.33it/s]"
     ]
    },
    {
     "name": "stdout",
     "output_type": "stream",
     "text": [
      "sox WARN rate: rate clipped 19 samples; decrease volume?\r\n",
      "sox WARN dither: dither clipped 17 samples; decrease volume?\r\n"
     ]
    },
    {
     "name": "stderr",
     "output_type": "stream",
     "text": [
      "1679it [17:06,  1.31it/s]"
     ]
    },
    {
     "name": "stdout",
     "output_type": "stream",
     "text": [
      "sox WARN rate: rate clipped 86 samples; decrease volume?\r\n",
      "sox WARN dither: dither clipped 74 samples; decrease volume?\r\n"
     ]
    },
    {
     "name": "stderr",
     "output_type": "stream",
     "text": [
      "\r",
      "1680it [17:07,  1.43it/s]"
     ]
    },
    {
     "name": "stdout",
     "output_type": "stream",
     "text": [
      "sox WARN rate: rate clipped 22 samples; decrease volume?\r\n",
      "sox WARN dither: dither clipped 21 samples; decrease volume?\r\n"
     ]
    },
    {
     "name": "stderr",
     "output_type": "stream",
     "text": [
      "\r",
      "1681it [17:07,  1.47it/s]"
     ]
    },
    {
     "name": "stdout",
     "output_type": "stream",
     "text": [
      "sox WARN rate: rate clipped 1 samples; decrease volume?\r\n"
     ]
    },
    {
     "name": "stderr",
     "output_type": "stream",
     "text": [
      "\r",
      "1682it [17:08,  1.49it/s]"
     ]
    },
    {
     "name": "stdout",
     "output_type": "stream",
     "text": [
      "sox WARN rate: rate clipped 18 samples; decrease volume?\r\n",
      "sox WARN dither: dither clipped 14 samples; decrease volume?\r\n"
     ]
    },
    {
     "name": "stderr",
     "output_type": "stream",
     "text": [
      "\r",
      "1683it [17:09,  1.58it/s]"
     ]
    },
    {
     "name": "stdout",
     "output_type": "stream",
     "text": [
      "sox WARN rate: rate clipped 32 samples; decrease volume?\r\n",
      "sox WARN dither: dither clipped 27 samples; decrease volume?\r\n"
     ]
    },
    {
     "name": "stderr",
     "output_type": "stream",
     "text": [
      "\r",
      "1684it [17:09,  1.50it/s]"
     ]
    },
    {
     "name": "stdout",
     "output_type": "stream",
     "text": [
      "sox WARN rate: rate clipped 2 samples; decrease volume?\r\n",
      "sox WARN dither: dither clipped 2 samples; decrease volume?\r\n"
     ]
    },
    {
     "name": "stderr",
     "output_type": "stream",
     "text": [
      "\r",
      "1685it [17:10,  1.54it/s]"
     ]
    },
    {
     "name": "stdout",
     "output_type": "stream",
     "text": [
      "sox WARN rate: rate clipped 19 samples; decrease volume?\r\n",
      "sox WARN dither: dither clipped 18 samples; decrease volume?\r\n"
     ]
    },
    {
     "name": "stderr",
     "output_type": "stream",
     "text": [
      "1687it [17:12,  1.40it/s]"
     ]
    },
    {
     "name": "stdout",
     "output_type": "stream",
     "text": [
      "sox WARN rate: rate clipped 96 samples; decrease volume?\r\n",
      "sox WARN dither: dither clipped 79 samples; decrease volume?\r\n"
     ]
    },
    {
     "name": "stderr",
     "output_type": "stream",
     "text": [
      "\r",
      "1688it [17:12,  1.51it/s]"
     ]
    },
    {
     "name": "stdout",
     "output_type": "stream",
     "text": [
      "sox WARN rate: rate clipped 17 samples; decrease volume?\r\n",
      "sox WARN dither: dither clipped 14 samples; decrease volume?\r\n"
     ]
    },
    {
     "name": "stderr",
     "output_type": "stream",
     "text": [
      "\r",
      "1689it [17:13,  1.59it/s]"
     ]
    },
    {
     "name": "stdout",
     "output_type": "stream",
     "text": [
      "sox WARN rate: rate clipped 12 samples; decrease volume?\r\n",
      "sox WARN dither: dither clipped 9 samples; decrease volume?\r\n"
     ]
    },
    {
     "name": "stderr",
     "output_type": "stream",
     "text": [
      "1691it [17:14,  1.53it/s]"
     ]
    },
    {
     "name": "stdout",
     "output_type": "stream",
     "text": [
      "sox WARN rate: rate clipped 17 samples; decrease volume?\r\n",
      "sox WARN dither: dither clipped 14 samples; decrease volume?\r\n"
     ]
    },
    {
     "name": "stderr",
     "output_type": "stream",
     "text": [
      "\r",
      "1692it [17:14,  1.61it/s]"
     ]
    },
    {
     "name": "stdout",
     "output_type": "stream",
     "text": [
      "sox WARN rate: rate clipped 8 samples; decrease volume?\r\n",
      "sox WARN dither: dither clipped 8 samples; decrease volume?\r\n"
     ]
    },
    {
     "name": "stderr",
     "output_type": "stream",
     "text": [
      "\r",
      "1693it [17:15,  1.47it/s]"
     ]
    },
    {
     "name": "stdout",
     "output_type": "stream",
     "text": [
      "sox WARN rate: rate clipped 17 samples; decrease volume?\r\n",
      "sox WARN dither: dither clipped 15 samples; decrease volume?\r\n"
     ]
    },
    {
     "name": "stderr",
     "output_type": "stream",
     "text": [
      "\r",
      "1694it [17:16,  1.55it/s]"
     ]
    },
    {
     "name": "stdout",
     "output_type": "stream",
     "text": [
      "sox WARN rate: rate clipped 17 samples; decrease volume?\r\n",
      "sox WARN dither: dither clipped 15 samples; decrease volume?\r\n"
     ]
    },
    {
     "name": "stderr",
     "output_type": "stream",
     "text": [
      "\r",
      "1695it [17:16,  1.63it/s]"
     ]
    },
    {
     "name": "stdout",
     "output_type": "stream",
     "text": [
      "sox WARN rate: rate clipped 18 samples; decrease volume?\r\n",
      "sox WARN dither: dither clipped 18 samples; decrease volume?\r\n"
     ]
    },
    {
     "name": "stderr",
     "output_type": "stream",
     "text": [
      "1697it [17:18,  1.43it/s]"
     ]
    },
    {
     "name": "stdout",
     "output_type": "stream",
     "text": [
      "sox WARN rate: rate clipped 17 samples; decrease volume?\r\n",
      "sox WARN dither: dither clipped 16 samples; decrease volume?\r\n"
     ]
    },
    {
     "name": "stderr",
     "output_type": "stream",
     "text": [
      "1699it [17:19,  1.36it/s]"
     ]
    },
    {
     "name": "stdout",
     "output_type": "stream",
     "text": [
      "sox WARN rate: rate clipped 1 samples; decrease volume?\r\n",
      "sox WARN dither: dither clipped 1 samples; decrease volume?\r\n"
     ]
    },
    {
     "name": "stderr",
     "output_type": "stream",
     "text": [
      "1701it [17:21,  1.22it/s]"
     ]
    },
    {
     "name": "stdout",
     "output_type": "stream",
     "text": [
      "sox WARN rate: rate clipped 1 samples; decrease volume?\r\n",
      "sox WARN dither: dither clipped 1 samples; decrease volume?\r\n"
     ]
    },
    {
     "name": "stderr",
     "output_type": "stream",
     "text": [
      "\r",
      "1702it [17:22,  1.25it/s]"
     ]
    },
    {
     "name": "stdout",
     "output_type": "stream",
     "text": [
      "sox WARN rate: rate clipped 20 samples; decrease volume?\r\n",
      "sox WARN dither: dither clipped 19 samples; decrease volume?\r\n"
     ]
    },
    {
     "name": "stderr",
     "output_type": "stream",
     "text": [
      "\r",
      "1703it [17:22,  1.39it/s]"
     ]
    },
    {
     "name": "stdout",
     "output_type": "stream",
     "text": [
      "sox WARN rate: rate clipped 2 samples; decrease volume?\r\n",
      "sox WARN dither: dither clipped 1 samples; decrease volume?\r\n"
     ]
    },
    {
     "name": "stderr",
     "output_type": "stream",
     "text": [
      "1706it [17:25,  1.29it/s]"
     ]
    },
    {
     "name": "stdout",
     "output_type": "stream",
     "text": [
      "sox WARN rate: rate clipped 1 samples; decrease volume?\r\n",
      "sox WARN dither: dither clipped 1 samples; decrease volume?\r\n"
     ]
    },
    {
     "name": "stderr",
     "output_type": "stream",
     "text": [
      "1708it [17:27,  1.22it/s]"
     ]
    },
    {
     "name": "stdout",
     "output_type": "stream",
     "text": [
      "sox WARN rate: rate clipped 20 samples; decrease volume?\r\n",
      "sox WARN dither: dither clipped 15 samples; decrease volume?\r\n"
     ]
    },
    {
     "name": "stderr",
     "output_type": "stream",
     "text": [
      "\r",
      "1709it [17:27,  1.29it/s]"
     ]
    },
    {
     "name": "stdout",
     "output_type": "stream",
     "text": [
      "sox WARN rate: rate clipped 6 samples; decrease volume?\r\n",
      "sox WARN dither: dither clipped 5 samples; decrease volume?\r\n"
     ]
    },
    {
     "name": "stderr",
     "output_type": "stream",
     "text": [
      "\r",
      "1710it [17:28,  1.36it/s]"
     ]
    },
    {
     "name": "stdout",
     "output_type": "stream",
     "text": [
      "sox WARN rate: rate clipped 14 samples; decrease volume?\r\n",
      "sox WARN dither: dither clipped 14 samples; decrease volume?\r\n"
     ]
    },
    {
     "name": "stderr",
     "output_type": "stream",
     "text": [
      "\r",
      "1711it [17:28,  1.48it/s]"
     ]
    },
    {
     "name": "stdout",
     "output_type": "stream",
     "text": [
      "sox WARN rate: rate clipped 16 samples; decrease volume?\r\n",
      "sox WARN dither: dither clipped 13 samples; decrease volume?\r\n"
     ]
    },
    {
     "name": "stderr",
     "output_type": "stream",
     "text": [
      "1713it [17:30,  1.37it/s]"
     ]
    },
    {
     "name": "stdout",
     "output_type": "stream",
     "text": [
      "sox WARN rate: rate clipped 26 samples; decrease volume?\r\n",
      "sox WARN dither: dither clipped 22 samples; decrease volume?\r\n"
     ]
    },
    {
     "name": "stderr",
     "output_type": "stream",
     "text": [
      "\r",
      "1714it [17:30,  1.48it/s]"
     ]
    },
    {
     "name": "stdout",
     "output_type": "stream",
     "text": [
      "sox WARN rate: rate clipped 13 samples; decrease volume?\r\n",
      "sox WARN dither: dither clipped 12 samples; decrease volume?\r\n"
     ]
    },
    {
     "name": "stderr",
     "output_type": "stream",
     "text": [
      "1716it [17:32,  1.37it/s]"
     ]
    },
    {
     "name": "stdout",
     "output_type": "stream",
     "text": [
      "sox WARN rate: rate clipped 15 samples; decrease volume?\r\n",
      "sox WARN dither: dither clipped 15 samples; decrease volume?\r\n"
     ]
    },
    {
     "name": "stderr",
     "output_type": "stream",
     "text": [
      "1718it [17:33,  1.33it/s]"
     ]
    },
    {
     "name": "stdout",
     "output_type": "stream",
     "text": [
      "sox WARN rate: rate clipped 5 samples; decrease volume?\r\n",
      "sox WARN dither: dither clipped 4 samples; decrease volume?\r\n"
     ]
    },
    {
     "name": "stderr",
     "output_type": "stream",
     "text": [
      "\r",
      "1719it [17:34,  1.33it/s]"
     ]
    },
    {
     "name": "stdout",
     "output_type": "stream",
     "text": [
      "sox WARN rate: rate clipped 18 samples; decrease volume?\r\n",
      "sox WARN dither: dither clipped 16 samples; decrease volume?\r\n"
     ]
    },
    {
     "name": "stderr",
     "output_type": "stream",
     "text": [
      "1721it [17:35,  1.42it/s]"
     ]
    },
    {
     "name": "stdout",
     "output_type": "stream",
     "text": [
      "sox WARN rate: rate clipped 18 samples; decrease volume?\r\n",
      "sox WARN dither: dither clipped 17 samples; decrease volume?\r\n"
     ]
    },
    {
     "name": "stderr",
     "output_type": "stream",
     "text": [
      "\r",
      "1722it [17:36,  1.53it/s]"
     ]
    },
    {
     "name": "stdout",
     "output_type": "stream",
     "text": [
      "sox WARN rate: rate clipped 16 samples; decrease volume?\r\n",
      "sox WARN dither: dither clipped 16 samples; decrease volume?\r\n"
     ]
    },
    {
     "name": "stderr",
     "output_type": "stream",
     "text": [
      "1724it [17:37,  1.39it/s]"
     ]
    },
    {
     "name": "stdout",
     "output_type": "stream",
     "text": [
      "sox WARN rate: rate clipped 115 samples; decrease volume?\r\n",
      "sox WARN dither: dither clipped 103 samples; decrease volume?\r\n"
     ]
    },
    {
     "name": "stderr",
     "output_type": "stream",
     "text": [
      "\r",
      "1725it [17:38,  1.38it/s]"
     ]
    },
    {
     "name": "stdout",
     "output_type": "stream",
     "text": [
      "sox WARN rate: rate clipped 23 samples; decrease volume?\r\n",
      "sox WARN dither: dither clipped 21 samples; decrease volume?\r\n"
     ]
    },
    {
     "name": "stderr",
     "output_type": "stream",
     "text": [
      "\r",
      "1726it [17:39,  1.44it/s]"
     ]
    },
    {
     "name": "stdout",
     "output_type": "stream",
     "text": [
      "sox WARN rate: rate clipped 19 samples; decrease volume?\r\n",
      "sox WARN dither: dither clipped 18 samples; decrease volume?\r\n"
     ]
    },
    {
     "name": "stderr",
     "output_type": "stream",
     "text": [
      "\r",
      "1727it [17:39,  1.53it/s]"
     ]
    },
    {
     "name": "stdout",
     "output_type": "stream",
     "text": [
      "sox WARN rate: rate clipped 3 samples; decrease volume?\r\n",
      "sox WARN dither: dither clipped 2 samples; decrease volume?\r\n"
     ]
    },
    {
     "name": "stderr",
     "output_type": "stream",
     "text": [
      "\r",
      "1728it [17:40,  1.48it/s]"
     ]
    },
    {
     "name": "stdout",
     "output_type": "stream",
     "text": [
      "sox WARN rate: rate clipped 38 samples; decrease volume?\r\n",
      "sox WARN dither: dither clipped 33 samples; decrease volume?\r\n"
     ]
    },
    {
     "name": "stderr",
     "output_type": "stream",
     "text": [
      "\r",
      "1729it [17:41,  1.59it/s]"
     ]
    },
    {
     "name": "stdout",
     "output_type": "stream",
     "text": [
      "sox WARN rate: rate clipped 20 samples; decrease volume?\r\n",
      "sox WARN dither: dither clipped 18 samples; decrease volume?\r\n"
     ]
    },
    {
     "name": "stderr",
     "output_type": "stream",
     "text": [
      "\r",
      "1730it [17:41,  1.65it/s]"
     ]
    },
    {
     "name": "stdout",
     "output_type": "stream",
     "text": [
      "sox WARN rate: rate clipped 3 samples; decrease volume?\r\n",
      "sox WARN dither: dither clipped 3 samples; decrease volume?\r\n"
     ]
    },
    {
     "name": "stderr",
     "output_type": "stream",
     "text": [
      "\r",
      "1731it [17:42,  1.64it/s]"
     ]
    },
    {
     "name": "stdout",
     "output_type": "stream",
     "text": [
      "sox WARN rate: rate clipped 38 samples; decrease volume?\r\n",
      "sox WARN dither: dither clipped 33 samples; decrease volume?\r\n"
     ]
    },
    {
     "name": "stderr",
     "output_type": "stream",
     "text": [
      "\r",
      "1732it [17:42,  1.83it/s]"
     ]
    },
    {
     "name": "stdout",
     "output_type": "stream",
     "text": [
      "sox WARN rate: rate clipped 16 samples; decrease volume?\r\n",
      "sox WARN dither: dither clipped 12 samples; decrease volume?\r\n"
     ]
    },
    {
     "name": "stderr",
     "output_type": "stream",
     "text": [
      "\r",
      "1733it [17:43,  1.84it/s]"
     ]
    },
    {
     "name": "stdout",
     "output_type": "stream",
     "text": [
      "sox WARN rate: rate clipped 16 samples; decrease volume?\r\n",
      "sox WARN dither: dither clipped 15 samples; decrease volume?\r\n"
     ]
    },
    {
     "name": "stderr",
     "output_type": "stream",
     "text": [
      "\r",
      "1734it [17:43,  1.84it/s]"
     ]
    },
    {
     "name": "stdout",
     "output_type": "stream",
     "text": [
      "sox WARN rate: rate clipped 21 samples; decrease volume?\r\n",
      "sox WARN dither: dither clipped 19 samples; decrease volume?\r\n"
     ]
    },
    {
     "name": "stderr",
     "output_type": "stream",
     "text": [
      "\r",
      "1735it [17:44,  1.87it/s]"
     ]
    },
    {
     "name": "stdout",
     "output_type": "stream",
     "text": [
      "sox WARN rate: rate clipped 2 samples; decrease volume?\r\n",
      "sox WARN dither: dither clipped 1 samples; decrease volume?\r\n"
     ]
    },
    {
     "name": "stderr",
     "output_type": "stream",
     "text": [
      "\r",
      "1736it [17:45,  1.58it/s]"
     ]
    },
    {
     "name": "stdout",
     "output_type": "stream",
     "text": [
      "sox WARN rate: rate clipped 18 samples; decrease volume?\r\n",
      "sox WARN dither: dither clipped 17 samples; decrease volume?\r\n"
     ]
    },
    {
     "name": "stderr",
     "output_type": "stream",
     "text": [
      "\r",
      "1737it [17:45,  1.65it/s]"
     ]
    },
    {
     "name": "stdout",
     "output_type": "stream",
     "text": [
      "sox WARN rate: rate clipped 6 samples; decrease volume?\r\n",
      "sox WARN dither: dither clipped 6 samples; decrease volume?\r\n"
     ]
    },
    {
     "name": "stderr",
     "output_type": "stream",
     "text": [
      "\r",
      "1738it [17:46,  1.49it/s]"
     ]
    },
    {
     "name": "stdout",
     "output_type": "stream",
     "text": [
      "sox WARN rate: rate clipped 2 samples; decrease volume?\r\n",
      "sox WARN dither: dither clipped 2 samples; decrease volume?\r\n"
     ]
    },
    {
     "name": "stderr",
     "output_type": "stream",
     "text": [
      "\r",
      "1739it [17:47,  1.48it/s]"
     ]
    },
    {
     "name": "stdout",
     "output_type": "stream",
     "text": [
      "sox WARN rate: rate clipped 1194 samples; decrease volume?\r\n",
      "sox WARN dither: dither clipped 1043 samples; decrease volume?\r\n"
     ]
    },
    {
     "name": "stderr",
     "output_type": "stream",
     "text": [
      "\r",
      "1740it [17:47,  1.42it/s]"
     ]
    },
    {
     "name": "stdout",
     "output_type": "stream",
     "text": [
      "sox WARN rate: rate clipped 59 samples; decrease volume?\r\n",
      "sox WARN dither: dither clipped 52 samples; decrease volume?\r\n"
     ]
    },
    {
     "name": "stderr",
     "output_type": "stream",
     "text": [
      "\r",
      "1741it [17:48,  1.52it/s]"
     ]
    },
    {
     "name": "stdout",
     "output_type": "stream",
     "text": [
      "sox WARN rate: rate clipped 210 samples; decrease volume?\r\n",
      "sox WARN dither: dither clipped 175 samples; decrease volume?\r\n"
     ]
    },
    {
     "name": "stderr",
     "output_type": "stream",
     "text": [
      "\r",
      "1742it [17:49,  1.49it/s]"
     ]
    },
    {
     "name": "stdout",
     "output_type": "stream",
     "text": [
      "sox WARN rate: rate clipped 2 samples; decrease volume?\r\n",
      "sox WARN dither: dither clipped 2 samples; decrease volume?\r\n"
     ]
    },
    {
     "name": "stderr",
     "output_type": "stream",
     "text": [
      "\r",
      "1743it [17:49,  1.49it/s]"
     ]
    },
    {
     "name": "stdout",
     "output_type": "stream",
     "text": [
      "sox WARN rate: rate clipped 3 samples; decrease volume?\r\n",
      "sox WARN dither: dither clipped 2 samples; decrease volume?\r\n"
     ]
    },
    {
     "name": "stderr",
     "output_type": "stream",
     "text": [
      "\r",
      "1744it [17:50,  1.49it/s]"
     ]
    },
    {
     "name": "stdout",
     "output_type": "stream",
     "text": [
      "sox WARN rate: rate clipped 27 samples; decrease volume?\r\n",
      "sox WARN dither: dither clipped 25 samples; decrease volume?\r\n"
     ]
    },
    {
     "name": "stderr",
     "output_type": "stream",
     "text": [
      "\r",
      "1745it [17:51,  1.46it/s]"
     ]
    },
    {
     "name": "stdout",
     "output_type": "stream",
     "text": [
      "sox WARN rate: rate clipped 18 samples; decrease volume?\r\n",
      "sox WARN dither: dither clipped 14 samples; decrease volume?\r\n"
     ]
    },
    {
     "name": "stderr",
     "output_type": "stream",
     "text": [
      "\r",
      "1746it [17:51,  1.56it/s]"
     ]
    },
    {
     "name": "stdout",
     "output_type": "stream",
     "text": [
      "sox WARN rate: rate clipped 3 samples; decrease volume?\r\n",
      "sox WARN dither: dither clipped 3 samples; decrease volume?\r\n"
     ]
    },
    {
     "name": "stderr",
     "output_type": "stream",
     "text": [
      "\r",
      "1747it [17:52,  1.52it/s]"
     ]
    },
    {
     "name": "stdout",
     "output_type": "stream",
     "text": [
      "sox WARN rate: rate clipped 1 samples; decrease volume?\r\n",
      "sox WARN dither: dither clipped 1 samples; decrease volume?\r\n"
     ]
    },
    {
     "name": "stderr",
     "output_type": "stream",
     "text": [
      "\r",
      "1748it [17:53,  1.48it/s]"
     ]
    },
    {
     "name": "stdout",
     "output_type": "stream",
     "text": [
      "sox WARN rate: rate clipped 23 samples; decrease volume?\r\n",
      "sox WARN dither: dither clipped 15 samples; decrease volume?\r\n"
     ]
    },
    {
     "name": "stderr",
     "output_type": "stream",
     "text": [
      "\r",
      "1749it [17:53,  1.55it/s]"
     ]
    },
    {
     "name": "stdout",
     "output_type": "stream",
     "text": [
      "sox WARN rate: rate clipped 20 samples; decrease volume?\r\n",
      "sox WARN dither: dither clipped 17 samples; decrease volume?\r\n"
     ]
    },
    {
     "name": "stderr",
     "output_type": "stream",
     "text": [
      "\r",
      "1750it [17:54,  1.63it/s]"
     ]
    },
    {
     "name": "stdout",
     "output_type": "stream",
     "text": [
      "sox WARN rate: rate clipped 16 samples; decrease volume?\r\n",
      "sox WARN dither: dither clipped 13 samples; decrease volume?\r\n"
     ]
    },
    {
     "name": "stderr",
     "output_type": "stream",
     "text": [
      "1752it [17:55,  1.45it/s]"
     ]
    },
    {
     "name": "stdout",
     "output_type": "stream",
     "text": [
      "sox WARN rate: rate clipped 20 samples; decrease volume?\r\n",
      "sox WARN dither: dither clipped 18 samples; decrease volume?\r\n"
     ]
    },
    {
     "name": "stderr",
     "output_type": "stream",
     "text": [
      "\r",
      "1753it [17:56,  1.55it/s]"
     ]
    },
    {
     "name": "stdout",
     "output_type": "stream",
     "text": [
      "sox WARN rate: rate clipped 216 samples; decrease volume?\r\n",
      "sox WARN dither: dither clipped 186 samples; decrease volume?\r\n"
     ]
    },
    {
     "name": "stderr",
     "output_type": "stream",
     "text": [
      "\r",
      "1754it [17:57,  1.49it/s]"
     ]
    },
    {
     "name": "stdout",
     "output_type": "stream",
     "text": [
      "sox WARN rate: rate clipped 27 samples; decrease volume?\r\n",
      "sox WARN dither: dither clipped 25 samples; decrease volume?\r\n"
     ]
    },
    {
     "name": "stderr",
     "output_type": "stream",
     "text": [
      "1756it [17:58,  1.38it/s]"
     ]
    },
    {
     "name": "stdout",
     "output_type": "stream",
     "text": [
      "sox WARN rate: rate clipped 18 samples; decrease volume?\r\n",
      "sox WARN dither: dither clipped 14 samples; decrease volume?\r\n"
     ]
    },
    {
     "name": "stderr",
     "output_type": "stream",
     "text": [
      "\r",
      "1757it [17:59,  1.49it/s]"
     ]
    },
    {
     "name": "stdout",
     "output_type": "stream",
     "text": [
      "sox WARN rate: rate clipped 24 samples; decrease volume?\r\n",
      "sox WARN dither: dither clipped 19 samples; decrease volume?\r\n"
     ]
    },
    {
     "name": "stderr",
     "output_type": "stream",
     "text": [
      "\r",
      "1758it [17:59,  1.58it/s]"
     ]
    },
    {
     "name": "stdout",
     "output_type": "stream",
     "text": [
      "sox WARN rate: rate clipped 9 samples; decrease volume?\r\n",
      "sox WARN dither: dither clipped 7 samples; decrease volume?\r\n"
     ]
    },
    {
     "name": "stderr",
     "output_type": "stream",
     "text": [
      "\r",
      "1759it [18:00,  1.38it/s]"
     ]
    },
    {
     "name": "stdout",
     "output_type": "stream",
     "text": [
      "sox WARN rate: rate clipped 47 samples; decrease volume?\r\n",
      "sox WARN dither: dither clipped 41 samples; decrease volume?\r\n"
     ]
    },
    {
     "name": "stderr",
     "output_type": "stream",
     "text": [
      "\r",
      "1760it [18:01,  1.50it/s]"
     ]
    },
    {
     "name": "stdout",
     "output_type": "stream",
     "text": [
      "sox WARN rate: rate clipped 2 samples; decrease volume?\r\n",
      "sox WARN dither: dither clipped 2 samples; decrease volume?\r\n"
     ]
    },
    {
     "name": "stderr",
     "output_type": "stream",
     "text": [
      "1762it [18:02,  1.33it/s]"
     ]
    },
    {
     "name": "stdout",
     "output_type": "stream",
     "text": [
      "sox WARN rate: rate clipped 109 samples; decrease volume?\r\n",
      "sox WARN dither: dither clipped 98 samples; decrease volume?\r\n"
     ]
    },
    {
     "name": "stderr",
     "output_type": "stream",
     "text": [
      "\r",
      "1763it [18:03,  1.34it/s]"
     ]
    },
    {
     "name": "stdout",
     "output_type": "stream",
     "text": [
      "sox WARN rate: rate clipped 18 samples; decrease volume?\r\n",
      "sox WARN dither: dither clipped 16 samples; decrease volume?\r\n"
     ]
    },
    {
     "name": "stderr",
     "output_type": "stream",
     "text": [
      "\r",
      "1764it [18:04,  1.46it/s]"
     ]
    },
    {
     "name": "stdout",
     "output_type": "stream",
     "text": [
      "sox WARN rate: rate clipped 97 samples; decrease volume?\r\n",
      "sox WARN dither: dither clipped 84 samples; decrease volume?\r\n"
     ]
    },
    {
     "name": "stderr",
     "output_type": "stream",
     "text": [
      "\r",
      "1765it [18:04,  1.56it/s]"
     ]
    },
    {
     "name": "stdout",
     "output_type": "stream",
     "text": [
      "sox WARN rate: rate clipped 19 samples; decrease volume?\r\n",
      "sox WARN dither: dither clipped 15 samples; decrease volume?\r\n"
     ]
    },
    {
     "name": "stderr",
     "output_type": "stream",
     "text": [
      "\r",
      "1766it [18:05,  1.64it/s]"
     ]
    },
    {
     "name": "stdout",
     "output_type": "stream",
     "text": [
      "sox WARN rate: rate clipped 17 samples; decrease volume?\r\n",
      "sox WARN dither: dither clipped 13 samples; decrease volume?\r\n"
     ]
    },
    {
     "name": "stderr",
     "output_type": "stream",
     "text": [
      "\r",
      "1767it [18:05,  1.54it/s]"
     ]
    },
    {
     "name": "stdout",
     "output_type": "stream",
     "text": [
      "sox WARN rate: rate clipped 18 samples; decrease volume?\r\n",
      "sox WARN dither: dither clipped 15 samples; decrease volume?\r\n"
     ]
    },
    {
     "name": "stderr",
     "output_type": "stream",
     "text": [
      "1770it [18:08,  1.29it/s]"
     ]
    },
    {
     "name": "stdout",
     "output_type": "stream",
     "text": [
      "sox WARN rate: rate clipped 1194 samples; decrease volume?\r\n",
      "sox WARN dither: dither clipped 1041 samples; decrease volume?\r\n"
     ]
    },
    {
     "name": "stderr",
     "output_type": "stream",
     "text": [
      "\r",
      "1771it [18:08,  1.42it/s]"
     ]
    },
    {
     "name": "stdout",
     "output_type": "stream",
     "text": [
      "sox WARN rate: rate clipped 17 samples; decrease volume?\r\n",
      "sox WARN dither: dither clipped 14 samples; decrease volume?\r\n"
     ]
    },
    {
     "name": "stderr",
     "output_type": "stream",
     "text": [
      "1773it [18:10,  1.36it/s]"
     ]
    },
    {
     "name": "stdout",
     "output_type": "stream",
     "text": [
      "sox WARN rate: rate clipped 17 samples; decrease volume?\r\n",
      "sox WARN dither: dither clipped 14 samples; decrease volume?\r\n"
     ]
    },
    {
     "name": "stderr",
     "output_type": "stream",
     "text": [
      "\r",
      "1774it [18:10,  1.47it/s]"
     ]
    },
    {
     "name": "stdout",
     "output_type": "stream",
     "text": [
      "sox WARN rate: rate clipped 17 samples; decrease volume?\r\n",
      "sox WARN dither: dither clipped 16 samples; decrease volume?\r\n"
     ]
    },
    {
     "name": "stderr",
     "output_type": "stream",
     "text": [
      "1776it [18:12,  1.51it/s]"
     ]
    },
    {
     "name": "stdout",
     "output_type": "stream",
     "text": [
      "sox WARN rate: rate clipped 2 samples; decrease volume?\r\n",
      "sox WARN dither: dither clipped 2 samples; decrease volume?\r\n"
     ]
    },
    {
     "name": "stderr",
     "output_type": "stream",
     "text": [
      "\r",
      "1777it [18:12,  1.47it/s]"
     ]
    },
    {
     "name": "stdout",
     "output_type": "stream",
     "text": [
      "sox WARN rate: rate clipped 471 samples; decrease volume?\r\n",
      "sox WARN dither: dither clipped 405 samples; decrease volume?\r\n"
     ]
    },
    {
     "name": "stderr",
     "output_type": "stream",
     "text": [
      "1779it [18:14,  1.38it/s]"
     ]
    },
    {
     "name": "stdout",
     "output_type": "stream",
     "text": [
      "sox WARN rate: rate clipped 2 samples; decrease volume?\r\n",
      "sox WARN dither: dither clipped 2 samples; decrease volume?\r\n"
     ]
    },
    {
     "name": "stderr",
     "output_type": "stream",
     "text": [
      "\r",
      "1780it [18:14,  1.52it/s]"
     ]
    },
    {
     "name": "stdout",
     "output_type": "stream",
     "text": [
      "sox WARN rate: rate clipped 4 samples; decrease volume?\r\n",
      "sox WARN dither: dither clipped 4 samples; decrease volume?\r\n"
     ]
    },
    {
     "name": "stderr",
     "output_type": "stream",
     "text": [
      "1782it [18:16,  1.40it/s]"
     ]
    },
    {
     "name": "stdout",
     "output_type": "stream",
     "text": [
      "sox WARN rate: rate clipped 17 samples; decrease volume?\r\n",
      "sox WARN dither: dither clipped 14 samples; decrease volume?\r\n"
     ]
    },
    {
     "name": "stderr",
     "output_type": "stream",
     "text": [
      "\r",
      "1783it [18:16,  1.51it/s]"
     ]
    },
    {
     "name": "stdout",
     "output_type": "stream",
     "text": [
      "sox WARN rate: rate clipped 187 samples; decrease volume?\r\n",
      "sox WARN dither: dither clipped 160 samples; decrease volume?\r\n"
     ]
    },
    {
     "name": "stderr",
     "output_type": "stream",
     "text": [
      "\r",
      "1784it [18:17,  1.46it/s]"
     ]
    },
    {
     "name": "stdout",
     "output_type": "stream",
     "text": [
      "sox WARN rate: rate clipped 2 samples; decrease volume?\r\n",
      "sox WARN dither: dither clipped 2 samples; decrease volume?\r\n"
     ]
    },
    {
     "name": "stderr",
     "output_type": "stream",
     "text": [
      "\r",
      "1785it [18:18,  1.58it/s]"
     ]
    },
    {
     "name": "stdout",
     "output_type": "stream",
     "text": [
      "sox WARN rate: rate clipped 180 samples; decrease volume?\r\n",
      "sox WARN dither: dither clipped 157 samples; decrease volume?\r\n"
     ]
    },
    {
     "name": "stderr",
     "output_type": "stream",
     "text": [
      "\r",
      "1786it [18:18,  1.65it/s]"
     ]
    },
    {
     "name": "stdout",
     "output_type": "stream",
     "text": [
      "sox WARN rate: rate clipped 27 samples; decrease volume?\r\n",
      "sox WARN dither: dither clipped 24 samples; decrease volume?\r\n"
     ]
    },
    {
     "name": "stderr",
     "output_type": "stream",
     "text": [
      "1788it [18:20,  1.32it/s]"
     ]
    },
    {
     "name": "stdout",
     "output_type": "stream",
     "text": [
      "sox WARN rate: rate clipped 68 samples; decrease volume?\r\n",
      "sox WARN dither: dither clipped 60 samples; decrease volume?\r\n"
     ]
    },
    {
     "name": "stderr",
     "output_type": "stream",
     "text": [
      "\r",
      "1789it [18:20,  1.44it/s]"
     ]
    },
    {
     "name": "stdout",
     "output_type": "stream",
     "text": [
      "sox WARN rate: rate clipped 29 samples; decrease volume?\r\n",
      "sox WARN dither: dither clipped 24 samples; decrease volume?\r\n"
     ]
    },
    {
     "name": "stderr",
     "output_type": "stream",
     "text": [
      "\r",
      "1790it [18:21,  1.53it/s]"
     ]
    },
    {
     "name": "stdout",
     "output_type": "stream",
     "text": [
      "sox WARN rate: rate clipped 18 samples; decrease volume?\r\n",
      "sox WARN dither: dither clipped 16 samples; decrease volume?\r\n"
     ]
    },
    {
     "name": "stderr",
     "output_type": "stream",
     "text": [
      "1792it [18:22,  1.40it/s]"
     ]
    },
    {
     "name": "stdout",
     "output_type": "stream",
     "text": [
      "sox WARN rate: rate clipped 19 samples; decrease volume?\r\n",
      "sox WARN dither: dither clipped 16 samples; decrease volume?\r\n"
     ]
    },
    {
     "name": "stderr",
     "output_type": "stream",
     "text": [
      "\r",
      "1793it [18:23,  1.51it/s]"
     ]
    },
    {
     "name": "stdout",
     "output_type": "stream",
     "text": [
      "sox WARN rate: rate clipped 12 samples; decrease volume?\r\n",
      "sox WARN dither: dither clipped 10 samples; decrease volume?\r\n"
     ]
    },
    {
     "name": "stderr",
     "output_type": "stream",
     "text": [
      "1795it [18:24,  1.45it/s]"
     ]
    },
    {
     "name": "stdout",
     "output_type": "stream",
     "text": [
      "sox WARN rate: rate clipped 18 samples; decrease volume?\r\n",
      "sox WARN dither: dither clipped 17 samples; decrease volume?\r\n"
     ]
    },
    {
     "name": "stderr",
     "output_type": "stream",
     "text": [
      "\r",
      "1796it [18:25,  1.55it/s]"
     ]
    },
    {
     "name": "stdout",
     "output_type": "stream",
     "text": [
      "sox WARN rate: rate clipped 52 samples; decrease volume?\r\n",
      "sox WARN dither: dither clipped 43 samples; decrease volume?\r\n"
     ]
    },
    {
     "name": "stderr",
     "output_type": "stream",
     "text": [
      "\r",
      "1797it [18:26,  1.37it/s]"
     ]
    },
    {
     "name": "stdout",
     "output_type": "stream",
     "text": [
      "sox WARN rate: rate clipped 16 samples; decrease volume?\r\n",
      "sox WARN dither: dither clipped 15 samples; decrease volume?\r\n"
     ]
    },
    {
     "name": "stderr",
     "output_type": "stream",
     "text": [
      "\r",
      "1798it [18:26,  1.47it/s]"
     ]
    },
    {
     "name": "stdout",
     "output_type": "stream",
     "text": [
      "sox WARN rate: rate clipped 63 samples; decrease volume?\r\n",
      "sox WARN dither: dither clipped 53 samples; decrease volume?\r\n"
     ]
    },
    {
     "name": "stderr",
     "output_type": "stream",
     "text": [
      "\r",
      "1799it [18:27,  1.36it/s]"
     ]
    },
    {
     "name": "stdout",
     "output_type": "stream",
     "text": [
      "sox WARN rate: rate clipped 69 samples; decrease volume?\r\n",
      "sox WARN dither: dither clipped 62 samples; decrease volume?\r\n"
     ]
    },
    {
     "name": "stderr",
     "output_type": "stream",
     "text": [
      "1801it [18:29,  1.43it/s]"
     ]
    },
    {
     "name": "stdout",
     "output_type": "stream",
     "text": [
      "sox WARN rate: rate clipped 18 samples; decrease volume?\r\n",
      "sox WARN dither: dither clipped 14 samples; decrease volume?\r\n"
     ]
    },
    {
     "name": "stderr",
     "output_type": "stream",
     "text": [
      "1803it [18:30,  1.48it/s]"
     ]
    },
    {
     "name": "stdout",
     "output_type": "stream",
     "text": [
      "sox WARN rate: rate clipped 6 samples; decrease volume?\r\n",
      "sox WARN dither: dither clipped 5 samples; decrease volume?\r\n"
     ]
    },
    {
     "name": "stderr",
     "output_type": "stream",
     "text": [
      "\r",
      "1804it [18:30,  1.57it/s]"
     ]
    },
    {
     "name": "stdout",
     "output_type": "stream",
     "text": [
      "sox WARN rate: rate clipped 328 samples; decrease volume?\r\n",
      "sox WARN dither: dither clipped 292 samples; decrease volume?\r\n"
     ]
    },
    {
     "name": "stderr",
     "output_type": "stream",
     "text": [
      "\r",
      "1805it [18:31,  1.51it/s]"
     ]
    },
    {
     "name": "stdout",
     "output_type": "stream",
     "text": [
      "sox WARN rate: rate clipped 17 samples; decrease volume?\r\n",
      "sox WARN dither: dither clipped 14 samples; decrease volume?\r\n"
     ]
    },
    {
     "name": "stderr",
     "output_type": "stream",
     "text": [
      "\r",
      "1806it [18:32,  1.59it/s]"
     ]
    },
    {
     "name": "stdout",
     "output_type": "stream",
     "text": [
      "sox WARN rate: rate clipped 18 samples; decrease volume?\r\n",
      "sox WARN dither: dither clipped 16 samples; decrease volume?\r\n"
     ]
    },
    {
     "name": "stderr",
     "output_type": "stream",
     "text": [
      "\r",
      "1807it [18:32,  1.64it/s]"
     ]
    },
    {
     "name": "stdout",
     "output_type": "stream",
     "text": [
      "sox WARN rate: rate clipped 26 samples; decrease volume?\r\n",
      "sox WARN dither: dither clipped 25 samples; decrease volume?\r\n"
     ]
    },
    {
     "name": "stderr",
     "output_type": "stream",
     "text": [
      "\r",
      "1808it [18:33,  1.69it/s]"
     ]
    },
    {
     "name": "stdout",
     "output_type": "stream",
     "text": [
      "sox WARN rate: rate clipped 2 samples; decrease volume?\r\n",
      "sox WARN dither: dither clipped 2 samples; decrease volume?\r\n"
     ]
    },
    {
     "name": "stderr",
     "output_type": "stream",
     "text": [
      "\r",
      "1809it [18:34,  1.44it/s]"
     ]
    },
    {
     "name": "stdout",
     "output_type": "stream",
     "text": [
      "sox WARN rate: rate clipped 20 samples; decrease volume?\r\n",
      "sox WARN dither: dither clipped 15 samples; decrease volume?\r\n"
     ]
    },
    {
     "name": "stderr",
     "output_type": "stream",
     "text": [
      "\r",
      "1810it [18:35,  1.32it/s]"
     ]
    },
    {
     "name": "stdout",
     "output_type": "stream",
     "text": [
      "sox WARN rate: rate clipped 14 samples; decrease volume?\r\n",
      "sox WARN dither: dither clipped 13 samples; decrease volume?\r\n"
     ]
    },
    {
     "name": "stderr",
     "output_type": "stream",
     "text": [
      "\r",
      "1811it [18:36,  1.26it/s]"
     ]
    },
    {
     "name": "stdout",
     "output_type": "stream",
     "text": [
      "sox WARN rate: rate clipped 19 samples; decrease volume?\r\n",
      "sox WARN dither: dither clipped 18 samples; decrease volume?\r\n"
     ]
    },
    {
     "name": "stderr",
     "output_type": "stream",
     "text": [
      "\r",
      "1812it [18:36,  1.39it/s]"
     ]
    },
    {
     "name": "stdout",
     "output_type": "stream",
     "text": [
      "sox WARN rate: rate clipped 20 samples; decrease volume?\r\n",
      "sox WARN dither: dither clipped 19 samples; decrease volume?\r\n"
     ]
    },
    {
     "name": "stderr",
     "output_type": "stream",
     "text": [
      "\r",
      "1813it [18:37,  1.51it/s]"
     ]
    },
    {
     "name": "stdout",
     "output_type": "stream",
     "text": [
      "sox WARN rate: rate clipped 18 samples; decrease volume?\r\n",
      "sox WARN dither: dither clipped 12 samples; decrease volume?\r\n"
     ]
    },
    {
     "name": "stderr",
     "output_type": "stream",
     "text": [
      "1815it [18:38,  1.39it/s]"
     ]
    },
    {
     "name": "stdout",
     "output_type": "stream",
     "text": [
      "sox WARN rate: rate clipped 18 samples; decrease volume?\r\n",
      "sox WARN dither: dither clipped 17 samples; decrease volume?\r\n"
     ]
    },
    {
     "name": "stderr",
     "output_type": "stream",
     "text": [
      "\r",
      "1816it [18:39,  1.50it/s]"
     ]
    },
    {
     "name": "stdout",
     "output_type": "stream",
     "text": [
      "sox WARN rate: rate clipped 18 samples; decrease volume?\r\n",
      "sox WARN dither: dither clipped 17 samples; decrease volume?\r\n"
     ]
    },
    {
     "name": "stderr",
     "output_type": "stream",
     "text": [
      "1819it [18:41,  1.47it/s]"
     ]
    },
    {
     "name": "stdout",
     "output_type": "stream",
     "text": [
      "sox WARN rate: rate clipped 6 samples; decrease volume?\r\n",
      "sox WARN dither: dither clipped 5 samples; decrease volume?\r\n"
     ]
    },
    {
     "name": "stderr",
     "output_type": "stream",
     "text": [
      "\r",
      "1820it [18:42,  1.36it/s]"
     ]
    },
    {
     "name": "stdout",
     "output_type": "stream",
     "text": [
      "sox WARN rate: rate clipped 722 samples; decrease volume?\r\n",
      "sox WARN dither: dither clipped 627 samples; decrease volume?\r\n"
     ]
    },
    {
     "name": "stderr",
     "output_type": "stream",
     "text": [
      "\r",
      "1821it [18:42,  1.24it/s]"
     ]
    },
    {
     "name": "stdout",
     "output_type": "stream",
     "text": [
      "sox WARN rate: rate clipped 14 samples; decrease volume?\r\n",
      "sox WARN dither: dither clipped 12 samples; decrease volume?\r\n"
     ]
    },
    {
     "name": "stderr",
     "output_type": "stream",
     "text": [
      "\r",
      "1822it [18:43,  1.33it/s]"
     ]
    },
    {
     "name": "stdout",
     "output_type": "stream",
     "text": [
      "sox WARN rate: rate clipped 187 samples; decrease volume?\r\n",
      "sox WARN dither: dither clipped 155 samples; decrease volume?\r\n"
     ]
    },
    {
     "name": "stderr",
     "output_type": "stream",
     "text": [
      "1825it [18:46,  1.18it/s]"
     ]
    },
    {
     "name": "stdout",
     "output_type": "stream",
     "text": [
      "sox WARN rate: rate clipped 217 samples; decrease volume?\r\n",
      "sox WARN dither: dither clipped 187 samples; decrease volume?\r\n"
     ]
    },
    {
     "name": "stderr",
     "output_type": "stream",
     "text": [
      "1827it [18:47,  1.18it/s]"
     ]
    },
    {
     "name": "stdout",
     "output_type": "stream",
     "text": [
      "sox WARN rate: rate clipped 18 samples; decrease volume?\r\n",
      "sox WARN dither: dither clipped 17 samples; decrease volume?\r\n"
     ]
    },
    {
     "name": "stderr",
     "output_type": "stream",
     "text": [
      "\r",
      "1828it [18:48,  1.32it/s]"
     ]
    },
    {
     "name": "stdout",
     "output_type": "stream",
     "text": [
      "sox WARN rate: rate clipped 159 samples; decrease volume?\r\n",
      "sox WARN dither: dither clipped 143 samples; decrease volume?\r\n"
     ]
    },
    {
     "name": "stderr",
     "output_type": "stream",
     "text": [
      "\r",
      "1829it [18:49,  1.39it/s]"
     ]
    },
    {
     "name": "stdout",
     "output_type": "stream",
     "text": [
      "sox WARN rate: rate clipped 304 samples; decrease volume?\r\n",
      "sox WARN dither: dither clipped 267 samples; decrease volume?\r\n"
     ]
    },
    {
     "name": "stderr",
     "output_type": "stream",
     "text": [
      "1831it [18:50,  1.34it/s]"
     ]
    },
    {
     "name": "stdout",
     "output_type": "stream",
     "text": [
      "sox WARN rate: rate clipped 157 samples; decrease volume?\r\n",
      "sox WARN dither: dither clipped 134 samples; decrease volume?\r\n"
     ]
    },
    {
     "name": "stderr",
     "output_type": "stream",
     "text": [
      "1833it [18:52,  1.18it/s]"
     ]
    },
    {
     "name": "stdout",
     "output_type": "stream",
     "text": [
      "sox WARN rate: rate clipped 19 samples; decrease volume?\r\n",
      "sox WARN dither: dither clipped 15 samples; decrease volume?\r\n"
     ]
    },
    {
     "name": "stderr",
     "output_type": "stream",
     "text": [
      "\r",
      "1834it [18:52,  1.32it/s]"
     ]
    },
    {
     "name": "stdout",
     "output_type": "stream",
     "text": [
      "sox WARN rate: rate clipped 17 samples; decrease volume?\r\n",
      "sox WARN dither: dither clipped 16 samples; decrease volume?\r\n"
     ]
    },
    {
     "name": "stderr",
     "output_type": "stream",
     "text": [
      "\r",
      "1835it [18:53,  1.44it/s]"
     ]
    },
    {
     "name": "stdout",
     "output_type": "stream",
     "text": [
      "sox WARN rate: rate clipped 3 samples; decrease volume?\r\n",
      "sox WARN dither: dither clipped 3 samples; decrease volume?\r\n"
     ]
    },
    {
     "name": "stderr",
     "output_type": "stream",
     "text": [
      "\r",
      "1836it [18:54,  1.52it/s]"
     ]
    },
    {
     "name": "stdout",
     "output_type": "stream",
     "text": [
      "sox WARN rate: rate clipped 31 samples; decrease volume?\r\n",
      "sox WARN dither: dither clipped 25 samples; decrease volume?\r\n"
     ]
    },
    {
     "name": "stderr",
     "output_type": "stream",
     "text": [
      "\r",
      "1837it [18:54,  1.60it/s]"
     ]
    },
    {
     "name": "stdout",
     "output_type": "stream",
     "text": [
      "sox WARN rate: rate clipped 8 samples; decrease volume?\r\n",
      "sox WARN dither: dither clipped 5 samples; decrease volume?\r\n"
     ]
    },
    {
     "name": "stderr",
     "output_type": "stream",
     "text": [
      "\r",
      "1838it [18:55,  1.41it/s]"
     ]
    },
    {
     "name": "stdout",
     "output_type": "stream",
     "text": [
      "sox WARN rate: rate clipped 191 samples; decrease volume?\r\n",
      "sox WARN dither: dither clipped 171 samples; decrease volume?\r\n"
     ]
    },
    {
     "name": "stderr",
     "output_type": "stream",
     "text": [
      "1840it [18:56,  1.45it/s]"
     ]
    },
    {
     "name": "stdout",
     "output_type": "stream",
     "text": [
      "sox WARN rate: rate clipped 17 samples; decrease volume?\r\n",
      "sox WARN dither: dither clipped 13 samples; decrease volume?\r\n"
     ]
    },
    {
     "name": "stderr",
     "output_type": "stream",
     "text": [
      "\r",
      "1841it [18:57,  1.56it/s]"
     ]
    },
    {
     "name": "stdout",
     "output_type": "stream",
     "text": [
      "sox WARN rate: rate clipped 452 samples; decrease volume?\r\n",
      "sox WARN dither: dither clipped 409 samples; decrease volume?\r\n"
     ]
    },
    {
     "name": "stderr",
     "output_type": "stream",
     "text": [
      "\r",
      "1842it [18:57,  1.64it/s]"
     ]
    },
    {
     "name": "stdout",
     "output_type": "stream",
     "text": [
      "sox WARN rate: rate clipped 8 samples; decrease volume?\r\n",
      "sox WARN dither: dither clipped 7 samples; decrease volume?\r\n"
     ]
    },
    {
     "name": "stderr",
     "output_type": "stream",
     "text": [
      "1844it [18:59,  1.39it/s]"
     ]
    },
    {
     "name": "stdout",
     "output_type": "stream",
     "text": [
      "sox WARN rate: rate clipped 3 samples; decrease volume?\r\n",
      "sox WARN dither: dither clipped 2 samples; decrease volume?\r\n"
     ]
    },
    {
     "name": "stderr",
     "output_type": "stream",
     "text": [
      "1852it [19:01,  1.54it/s]"
     ]
    },
    {
     "name": "stdout",
     "output_type": "stream",
     "text": [
      "sox WARN rate: rate clipped 11 samples; decrease volume?\r\n",
      "sox WARN dither: dither clipped 10 samples; decrease volume?\r\n"
     ]
    },
    {
     "name": "stderr",
     "output_type": "stream",
     "text": [
      "\r",
      "1853it [19:01,  1.47it/s]"
     ]
    },
    {
     "name": "stdout",
     "output_type": "stream",
     "text": [
      "sox WARN rate: rate clipped 18 samples; decrease volume?\r\n",
      "sox WARN dither: dither clipped 17 samples; decrease volume?\r\n"
     ]
    },
    {
     "name": "stderr",
     "output_type": "stream",
     "text": [
      "\r",
      "1854it [19:02,  1.56it/s]"
     ]
    },
    {
     "name": "stdout",
     "output_type": "stream",
     "text": [
      "sox WARN rate: rate clipped 6 samples; decrease volume?\r\n",
      "sox WARN dither: dither clipped 5 samples; decrease volume?\r\n"
     ]
    },
    {
     "name": "stderr",
     "output_type": "stream",
     "text": [
      "\r",
      "1855it [19:03,  1.43it/s]"
     ]
    },
    {
     "name": "stdout",
     "output_type": "stream",
     "text": [
      "sox WARN rate: rate clipped 3 samples; decrease volume?\r\n",
      "sox WARN dither: dither clipped 3 samples; decrease volume?\r\n"
     ]
    },
    {
     "name": "stderr",
     "output_type": "stream",
     "text": [
      "\r",
      "1856it [19:03,  1.49it/s]"
     ]
    },
    {
     "name": "stdout",
     "output_type": "stream",
     "text": [
      "sox WARN rate: rate clipped 33 samples; decrease volume?\r\n",
      "sox WARN dither: dither clipped 32 samples; decrease volume?\r\n"
     ]
    },
    {
     "name": "stderr",
     "output_type": "stream",
     "text": [
      "\r",
      "1857it [19:04,  1.45it/s]"
     ]
    },
    {
     "name": "stdout",
     "output_type": "stream",
     "text": [
      "sox WARN rate: rate clipped 17 samples; decrease volume?\r\n",
      "sox WARN dither: dither clipped 15 samples; decrease volume?\r\n"
     ]
    },
    {
     "name": "stderr",
     "output_type": "stream",
     "text": [
      "1860it [19:07,  1.26it/s]"
     ]
    },
    {
     "name": "stdout",
     "output_type": "stream",
     "text": [
      "sox WARN rate: rate clipped 6 samples; decrease volume?\r\n",
      "sox WARN dither: dither clipped 6 samples; decrease volume?\r\n"
     ]
    },
    {
     "name": "stderr",
     "output_type": "stream",
     "text": [
      "\r",
      "1861it [19:07,  1.49it/s]"
     ]
    },
    {
     "name": "stdout",
     "output_type": "stream",
     "text": [
      "sox WARN rate: rate clipped 6 samples; decrease volume?\r\n",
      "sox WARN dither: dither clipped 5 samples; decrease volume?\r\n"
     ]
    },
    {
     "name": "stderr",
     "output_type": "stream",
     "text": [
      "\r",
      "1862it [19:08,  1.40it/s]"
     ]
    },
    {
     "name": "stdout",
     "output_type": "stream",
     "text": [
      "sox WARN rate: rate clipped 17 samples; decrease volume?\r\n",
      "sox WARN dither: dither clipped 16 samples; decrease volume?\r\n"
     ]
    },
    {
     "name": "stderr",
     "output_type": "stream",
     "text": [
      "1865it [19:10,  1.24it/s]"
     ]
    },
    {
     "name": "stdout",
     "output_type": "stream",
     "text": [
      "sox WARN rate: rate clipped 5 samples; decrease volume?\r\n",
      "sox WARN dither: dither clipped 3 samples; decrease volume?\r\n"
     ]
    },
    {
     "name": "stderr",
     "output_type": "stream",
     "text": [
      "1867it [19:12,  1.18it/s]"
     ]
    },
    {
     "name": "stdout",
     "output_type": "stream",
     "text": [
      "sox WARN rate: rate clipped 5 samples; decrease volume?\r\n",
      "sox WARN dither: dither clipped 5 samples; decrease volume?\r\n"
     ]
    },
    {
     "name": "stderr",
     "output_type": "stream",
     "text": [
      "1871it [19:15,  1.22it/s]"
     ]
    },
    {
     "name": "stdout",
     "output_type": "stream",
     "text": [
      "sox WARN rate: rate clipped 18 samples; decrease volume?\r\n",
      "sox WARN dither: dither clipped 17 samples; decrease volume?\r\n"
     ]
    },
    {
     "name": "stderr",
     "output_type": "stream",
     "text": [
      "\r",
      "1872it [19:16,  1.36it/s]"
     ]
    },
    {
     "name": "stdout",
     "output_type": "stream",
     "text": [
      "sox WARN rate: rate clipped 123 samples; decrease volume?\r\n",
      "sox WARN dither: dither clipped 101 samples; decrease volume?\r\n"
     ]
    },
    {
     "name": "stderr",
     "output_type": "stream",
     "text": [
      "\r",
      "1873it [19:16,  1.37it/s]"
     ]
    },
    {
     "name": "stdout",
     "output_type": "stream",
     "text": [
      "sox WARN rate: rate clipped 198 samples; decrease volume?\r\n",
      "sox WARN dither: dither clipped 173 samples; decrease volume?\r\n"
     ]
    },
    {
     "name": "stderr",
     "output_type": "stream",
     "text": [
      "1876it [19:19,  1.24it/s]"
     ]
    },
    {
     "name": "stdout",
     "output_type": "stream",
     "text": [
      "sox WARN rate: rate clipped 18 samples; decrease volume?\r\n",
      "sox WARN dither: dither clipped 15 samples; decrease volume?\r\n"
     ]
    },
    {
     "name": "stderr",
     "output_type": "stream",
     "text": [
      "\r",
      "1877it [19:19,  1.38it/s]"
     ]
    },
    {
     "name": "stdout",
     "output_type": "stream",
     "text": [
      "sox WARN rate: rate clipped 43 samples; decrease volume?\r\n",
      "sox WARN dither: dither clipped 38 samples; decrease volume?\r\n"
     ]
    },
    {
     "name": "stderr",
     "output_type": "stream",
     "text": [
      "\r",
      "1878it [19:20,  1.34it/s]"
     ]
    },
    {
     "name": "stdout",
     "output_type": "stream",
     "text": [
      "sox WARN rate: rate clipped 73 samples; decrease volume?\r\n",
      "sox WARN dither: dither clipped 64 samples; decrease volume?\r\n"
     ]
    },
    {
     "name": "stderr",
     "output_type": "stream",
     "text": [
      "\r",
      "1879it [19:21,  1.45it/s]"
     ]
    },
    {
     "name": "stdout",
     "output_type": "stream",
     "text": [
      "sox WARN rate: rate clipped 91 samples; decrease volume?\r\n",
      "sox WARN dither: dither clipped 79 samples; decrease volume?\r\n"
     ]
    },
    {
     "name": "stderr",
     "output_type": "stream",
     "text": [
      "\r",
      "1880it [19:22,  1.36it/s]"
     ]
    },
    {
     "name": "stdout",
     "output_type": "stream",
     "text": [
      "sox WARN rate: rate clipped 34 samples; decrease volume?\r\n",
      "sox WARN dither: dither clipped 30 samples; decrease volume?\r\n"
     ]
    },
    {
     "name": "stderr",
     "output_type": "stream",
     "text": [
      "1883it [19:24,  1.16it/s]"
     ]
    },
    {
     "name": "stdout",
     "output_type": "stream",
     "text": [
      "sox WARN rate: rate clipped 19 samples; decrease volume?\r\n",
      "sox WARN dither: dither clipped 18 samples; decrease volume?\r\n"
     ]
    },
    {
     "name": "stderr",
     "output_type": "stream",
     "text": [
      "\r",
      "1884it [19:25,  1.30it/s]"
     ]
    },
    {
     "name": "stdout",
     "output_type": "stream",
     "text": [
      "sox WARN rate: rate clipped 28 samples; decrease volume?\r\n",
      "sox WARN dither: dither clipped 26 samples; decrease volume?\r\n"
     ]
    },
    {
     "name": "stderr",
     "output_type": "stream",
     "text": [
      "\r",
      "1885it [19:26,  1.36it/s]"
     ]
    },
    {
     "name": "stdout",
     "output_type": "stream",
     "text": [
      "sox WARN rate: rate clipped 17 samples; decrease volume?\r\n",
      "sox WARN dither: dither clipped 17 samples; decrease volume?\r\n"
     ]
    },
    {
     "name": "stderr",
     "output_type": "stream",
     "text": [
      "\r",
      "1886it [19:26,  1.47it/s]"
     ]
    },
    {
     "name": "stdout",
     "output_type": "stream",
     "text": [
      "sox WARN rate: rate clipped 6 samples; decrease volume?\r\n",
      "sox WARN dither: dither clipped 6 samples; decrease volume?\r\n"
     ]
    },
    {
     "name": "stderr",
     "output_type": "stream",
     "text": [
      "\r",
      "1887it [19:27,  1.48it/s]"
     ]
    },
    {
     "name": "stdout",
     "output_type": "stream",
     "text": [
      "sox WARN rate: rate clipped 87 samples; decrease volume?\r\n",
      "sox WARN dither: dither clipped 76 samples; decrease volume?\r\n"
     ]
    },
    {
     "name": "stderr",
     "output_type": "stream",
     "text": [
      "\r",
      "1888it [19:28,  1.43it/s]"
     ]
    },
    {
     "name": "stdout",
     "output_type": "stream",
     "text": [
      "sox WARN rate: rate clipped 608 samples; decrease volume?\r\n",
      "sox WARN dither: dither clipped 526 samples; decrease volume?\r\n"
     ]
    },
    {
     "name": "stderr",
     "output_type": "stream",
     "text": [
      "\r",
      "1889it [19:28,  1.30it/s]"
     ]
    },
    {
     "name": "stdout",
     "output_type": "stream",
     "text": [
      "sox WARN rate: rate clipped 18 samples; decrease volume?\r\n",
      "sox WARN dither: dither clipped 15 samples; decrease volume?\r\n"
     ]
    },
    {
     "name": "stderr",
     "output_type": "stream",
     "text": [
      "\r",
      "1890it [19:29,  1.43it/s]"
     ]
    },
    {
     "name": "stdout",
     "output_type": "stream",
     "text": [
      "sox WARN rate: rate clipped 3 samples; decrease volume?\r\n",
      "sox WARN dither: dither clipped 3 samples; decrease volume?\r\n"
     ]
    },
    {
     "name": "stderr",
     "output_type": "stream",
     "text": [
      "\r",
      "1891it [19:30,  1.30it/s]"
     ]
    },
    {
     "name": "stdout",
     "output_type": "stream",
     "text": [
      "sox WARN rate: rate clipped 22 samples; decrease volume?\r\n",
      "sox WARN dither: dither clipped 21 samples; decrease volume?\r\n"
     ]
    },
    {
     "name": "stderr",
     "output_type": "stream",
     "text": [
      "\r",
      "1892it [19:31,  1.40it/s]"
     ]
    },
    {
     "name": "stdout",
     "output_type": "stream",
     "text": [
      "sox WARN rate: rate clipped 3 samples; decrease volume?\r\n",
      "sox WARN dither: dither clipped 3 samples; decrease volume?\r\n"
     ]
    },
    {
     "name": "stderr",
     "output_type": "stream",
     "text": [
      "\r",
      "1893it [19:31,  1.35it/s]"
     ]
    },
    {
     "name": "stdout",
     "output_type": "stream",
     "text": [
      "sox WARN rate: rate clipped 36 samples; decrease volume?\r\n",
      "sox WARN dither: dither clipped 26 samples; decrease volume?\r\n"
     ]
    },
    {
     "name": "stderr",
     "output_type": "stream",
     "text": [
      "\r",
      "1894it [19:32,  1.32it/s]"
     ]
    },
    {
     "name": "stdout",
     "output_type": "stream",
     "text": [
      "sox WARN rate: rate clipped 1 samples; decrease volume?\r\n",
      "sox WARN dither: dither clipped 1 samples; decrease volume?\r\n"
     ]
    },
    {
     "name": "stderr",
     "output_type": "stream",
     "text": [
      "1896it [19:34,  1.19it/s]"
     ]
    },
    {
     "name": "stdout",
     "output_type": "stream",
     "text": [
      "sox WARN rate: rate clipped 4 samples; decrease volume?\r\n",
      "sox WARN dither: dither clipped 3 samples; decrease volume?\r\n"
     ]
    },
    {
     "name": "stderr",
     "output_type": "stream",
     "text": [
      "\r",
      "1897it [19:35,  1.20it/s]"
     ]
    },
    {
     "name": "stdout",
     "output_type": "stream",
     "text": [
      "sox WARN rate: rate clipped 18 samples; decrease volume?\r\n",
      "sox WARN dither: dither clipped 16 samples; decrease volume?\r\n"
     ]
    },
    {
     "name": "stderr",
     "output_type": "stream",
     "text": [
      "\r",
      "1898it [19:36,  1.16it/s]"
     ]
    },
    {
     "name": "stdout",
     "output_type": "stream",
     "text": [
      "sox WARN rate: rate clipped 20 samples; decrease volume?\r\n",
      "sox WARN dither: dither clipped 17 samples; decrease volume?\r\n"
     ]
    },
    {
     "name": "stderr",
     "output_type": "stream",
     "text": [
      "\r",
      "1899it [19:36,  1.24it/s]"
     ]
    },
    {
     "name": "stdout",
     "output_type": "stream",
     "text": [
      "sox WARN rate: rate clipped 471 samples; decrease volume?\r\n",
      "sox WARN dither: dither clipped 413 samples; decrease volume?\r\n"
     ]
    },
    {
     "name": "stderr",
     "output_type": "stream",
     "text": [
      "\r",
      "1900it [19:37,  1.37it/s]"
     ]
    },
    {
     "name": "stdout",
     "output_type": "stream",
     "text": [
      "sox WARN rate: rate clipped 18 samples; decrease volume?\r\n",
      "sox WARN dither: dither clipped 15 samples; decrease volume?\r\n"
     ]
    },
    {
     "name": "stderr",
     "output_type": "stream",
     "text": [
      "\r",
      "1901it [19:37,  1.48it/s]"
     ]
    },
    {
     "name": "stdout",
     "output_type": "stream",
     "text": [
      "sox WARN rate: rate clipped 17 samples; decrease volume?\r\n",
      "sox WARN dither: dither clipped 10 samples; decrease volume?\r\n"
     ]
    },
    {
     "name": "stderr",
     "output_type": "stream",
     "text": [
      "\r",
      "1902it [19:38,  1.58it/s]"
     ]
    },
    {
     "name": "stdout",
     "output_type": "stream",
     "text": [
      "sox WARN rate: rate clipped 17 samples; decrease volume?\r\n",
      "sox WARN dither: dither clipped 16 samples; decrease volume?\r\n"
     ]
    },
    {
     "name": "stderr",
     "output_type": "stream",
     "text": [
      "\r",
      "1903it [19:39,  1.42it/s]"
     ]
    },
    {
     "name": "stdout",
     "output_type": "stream",
     "text": [
      "sox WARN rate: rate clipped 20 samples; decrease volume?\r\n",
      "sox WARN dither: dither clipped 18 samples; decrease volume?\r\n"
     ]
    },
    {
     "name": "stderr",
     "output_type": "stream",
     "text": [
      "1905it [19:40,  1.36it/s]"
     ]
    },
    {
     "name": "stdout",
     "output_type": "stream",
     "text": [
      "sox WARN rate: rate clipped 4 samples; decrease volume?\r\n",
      "sox WARN dither: dither clipped 3 samples; decrease volume?\r\n"
     ]
    },
    {
     "name": "stderr",
     "output_type": "stream",
     "text": [
      "\r",
      "1906it [19:41,  1.33it/s]"
     ]
    },
    {
     "name": "stdout",
     "output_type": "stream",
     "text": [
      "sox WARN rate: rate clipped 11 samples; decrease volume?\r\n",
      "sox WARN dither: dither clipped 11 samples; decrease volume?\r\n"
     ]
    },
    {
     "name": "stderr",
     "output_type": "stream",
     "text": [
      "\r",
      "1907it [19:42,  1.23it/s]"
     ]
    },
    {
     "name": "stdout",
     "output_type": "stream",
     "text": [
      "sox WARN rate: rate clipped 16 samples; decrease volume?\r\n",
      "sox WARN dither: dither clipped 14 samples; decrease volume?\r\n"
     ]
    },
    {
     "name": "stderr",
     "output_type": "stream",
     "text": [
      "\r",
      "1908it [19:43,  1.34it/s]"
     ]
    },
    {
     "name": "stdout",
     "output_type": "stream",
     "text": [
      "sox WARN rate: rate clipped 17 samples; decrease volume?\r\n",
      "sox WARN dither: dither clipped 14 samples; decrease volume?\r\n"
     ]
    },
    {
     "name": "stderr",
     "output_type": "stream",
     "text": [
      "1910it [19:45,  1.18it/s]"
     ]
    },
    {
     "name": "stdout",
     "output_type": "stream",
     "text": [
      "sox WARN rate: rate clipped 5 samples; decrease volume?\r\n",
      "sox WARN dither: dither clipped 5 samples; decrease volume?\r\n"
     ]
    },
    {
     "name": "stderr",
     "output_type": "stream",
     "text": [
      "\r",
      "1911it [19:45,  1.25it/s]"
     ]
    },
    {
     "name": "stdout",
     "output_type": "stream",
     "text": [
      "sox WARN rate: rate clipped 18 samples; decrease volume?\r\n",
      "sox WARN dither: dither clipped 16 samples; decrease volume?\r\n"
     ]
    },
    {
     "name": "stderr",
     "output_type": "stream",
     "text": [
      "1915it [19:48,  1.20it/s]"
     ]
    },
    {
     "name": "stdout",
     "output_type": "stream",
     "text": [
      "sox WARN rate: rate clipped 12 samples; decrease volume?\r\n",
      "sox WARN dither: dither clipped 12 samples; decrease volume?\r\n"
     ]
    },
    {
     "name": "stderr",
     "output_type": "stream",
     "text": [
      "\r",
      "1916it [19:49,  1.24it/s]"
     ]
    },
    {
     "name": "stdout",
     "output_type": "stream",
     "text": [
      "sox WARN rate: rate clipped 19 samples; decrease volume?\r\n",
      "sox WARN dither: dither clipped 16 samples; decrease volume?\r\n"
     ]
    },
    {
     "name": "stderr",
     "output_type": "stream",
     "text": [
      "\r",
      "1917it [19:50,  1.19it/s]"
     ]
    },
    {
     "name": "stdout",
     "output_type": "stream",
     "text": [
      "sox WARN rate: rate clipped 17 samples; decrease volume?\r\n",
      "sox WARN dither: dither clipped 15 samples; decrease volume?\r\n"
     ]
    },
    {
     "name": "stderr",
     "output_type": "stream",
     "text": [
      "\r",
      "1918it [19:51,  1.33it/s]"
     ]
    },
    {
     "name": "stdout",
     "output_type": "stream",
     "text": [
      "sox WARN rate: rate clipped 17 samples; decrease volume?\r\n",
      "sox WARN dither: dither clipped 16 samples; decrease volume?\r\n"
     ]
    },
    {
     "name": "stderr",
     "output_type": "stream",
     "text": [
      "\r",
      "1919it [19:51,  1.45it/s]"
     ]
    },
    {
     "name": "stdout",
     "output_type": "stream",
     "text": [
      "sox WARN rate: rate clipped 5 samples; decrease volume?\r\n",
      "sox WARN dither: dither clipped 3 samples; decrease volume?\r\n"
     ]
    },
    {
     "name": "stderr",
     "output_type": "stream",
     "text": [
      "\r",
      "1920it [19:52,  1.34it/s]"
     ]
    },
    {
     "name": "stdout",
     "output_type": "stream",
     "text": [
      "sox WARN rate: rate clipped 19 samples; decrease volume?\r\n",
      "sox WARN dither: dither clipped 15 samples; decrease volume?\r\n"
     ]
    },
    {
     "name": "stderr",
     "output_type": "stream",
     "text": [
      "\r",
      "1921it [19:53,  1.46it/s]"
     ]
    },
    {
     "name": "stdout",
     "output_type": "stream",
     "text": [
      "sox WARN rate: rate clipped 107 samples; decrease volume?\r\n",
      "sox WARN dither: dither clipped 94 samples; decrease volume?\r\n"
     ]
    },
    {
     "name": "stderr",
     "output_type": "stream",
     "text": [
      "\r",
      "1922it [19:54,  1.32it/s]"
     ]
    },
    {
     "name": "stdout",
     "output_type": "stream",
     "text": [
      "sox WARN rate: rate clipped 19 samples; decrease volume?\r\n",
      "sox WARN dither: dither clipped 17 samples; decrease volume?\r\n"
     ]
    },
    {
     "name": "stderr",
     "output_type": "stream",
     "text": [
      "1924it [19:55,  1.30it/s]"
     ]
    },
    {
     "name": "stdout",
     "output_type": "stream",
     "text": [
      "sox WARN rate: rate clipped 3 samples; decrease volume?\r\n",
      "sox WARN dither: dither clipped 2 samples; decrease volume?\r\n"
     ]
    },
    {
     "name": "stderr",
     "output_type": "stream",
     "text": [
      "\r",
      "1925it [19:56,  1.34it/s]"
     ]
    },
    {
     "name": "stdout",
     "output_type": "stream",
     "text": [
      "sox WARN rate: rate clipped 10 samples; decrease volume?\r\n",
      "sox WARN dither: dither clipped 10 samples; decrease volume?\r\n"
     ]
    },
    {
     "name": "stderr",
     "output_type": "stream",
     "text": [
      "1927it [19:57,  1.24it/s]"
     ]
    },
    {
     "name": "stdout",
     "output_type": "stream",
     "text": [
      "sox WARN rate: rate clipped 12 samples; decrease volume?\r\n",
      "sox WARN dither: dither clipped 8 samples; decrease volume?\r\n"
     ]
    },
    {
     "name": "stderr",
     "output_type": "stream",
     "text": [
      "\r",
      "1928it [19:58,  1.19it/s]"
     ]
    },
    {
     "name": "stdout",
     "output_type": "stream",
     "text": [
      "sox WARN rate: rate clipped 20 samples; decrease volume?\r\n",
      "sox WARN dither: dither clipped 18 samples; decrease volume?\r\n"
     ]
    },
    {
     "name": "stderr",
     "output_type": "stream",
     "text": [
      "1930it [20:00,  1.24it/s]"
     ]
    },
    {
     "name": "stdout",
     "output_type": "stream",
     "text": [
      "sox WARN rate: rate clipped 7 samples; decrease volume?\r\n",
      "sox WARN dither: dither clipped 6 samples; decrease volume?\r\n"
     ]
    },
    {
     "name": "stderr",
     "output_type": "stream",
     "text": [
      "\r",
      "1931it [20:01,  1.19it/s]"
     ]
    },
    {
     "name": "stdout",
     "output_type": "stream",
     "text": [
      "sox WARN rate: rate clipped 18 samples; decrease volume?\r\n",
      "sox WARN dither: dither clipped 15 samples; decrease volume?\r\n"
     ]
    },
    {
     "name": "stderr",
     "output_type": "stream",
     "text": [
      "1933it [20:02,  1.45it/s]"
     ]
    },
    {
     "name": "stdout",
     "output_type": "stream",
     "text": [
      "sox WARN rate: rate clipped 37 samples; decrease volume?\r\n",
      "sox WARN dither: dither clipped 31 samples; decrease volume?\r\n"
     ]
    },
    {
     "name": "stderr",
     "output_type": "stream",
     "text": [
      "1935it [20:03,  1.35it/s]"
     ]
    },
    {
     "name": "stdout",
     "output_type": "stream",
     "text": [
      "sox WARN rate: rate clipped 37 samples; decrease volume?\r\n",
      "sox WARN dither: dither clipped 34 samples; decrease volume?\r\n"
     ]
    },
    {
     "name": "stderr",
     "output_type": "stream",
     "text": [
      "1937it [20:05,  1.25it/s]"
     ]
    },
    {
     "name": "stdout",
     "output_type": "stream",
     "text": [
      "sox WARN rate: rate clipped 17 samples; decrease volume?\r\n",
      "sox WARN dither: dither clipped 16 samples; decrease volume?\r\n"
     ]
    },
    {
     "name": "stderr",
     "output_type": "stream",
     "text": [
      "\r",
      "1938it [20:06,  1.38it/s]"
     ]
    },
    {
     "name": "stdout",
     "output_type": "stream",
     "text": [
      "sox WARN rate: rate clipped 19 samples; decrease volume?\r\n",
      "sox WARN dither: dither clipped 14 samples; decrease volume?\r\n"
     ]
    },
    {
     "name": "stderr",
     "output_type": "stream",
     "text": [
      "\r",
      "1939it [20:06,  1.49it/s]"
     ]
    },
    {
     "name": "stdout",
     "output_type": "stream",
     "text": [
      "sox WARN rate: rate clipped 18 samples; decrease volume?\r\n",
      "sox WARN dither: dither clipped 16 samples; decrease volume?\r\n"
     ]
    },
    {
     "name": "stderr",
     "output_type": "stream",
     "text": [
      "\r",
      "1940it [20:07,  1.58it/s]"
     ]
    },
    {
     "name": "stdout",
     "output_type": "stream",
     "text": [
      "sox WARN rate: rate clipped 15 samples; decrease volume?\r\n",
      "sox WARN dither: dither clipped 15 samples; decrease volume?\r\n"
     ]
    },
    {
     "name": "stderr",
     "output_type": "stream",
     "text": [
      "\r",
      "1941it [20:07,  1.65it/s]"
     ]
    },
    {
     "name": "stdout",
     "output_type": "stream",
     "text": [
      "sox WARN rate: rate clipped 91 samples; decrease volume?\r\n",
      "sox WARN dither: dither clipped 79 samples; decrease volume?\r\n"
     ]
    },
    {
     "name": "stderr",
     "output_type": "stream",
     "text": [
      "1943it [20:09,  1.30it/s]"
     ]
    },
    {
     "name": "stdout",
     "output_type": "stream",
     "text": [
      "sox WARN rate: rate clipped 3 samples; decrease volume?\r\n",
      "sox WARN dither: dither clipped 3 samples; decrease volume?\r\n"
     ]
    },
    {
     "name": "stderr",
     "output_type": "stream",
     "text": [
      "\r",
      "1944it [20:10,  1.33it/s]"
     ]
    },
    {
     "name": "stdout",
     "output_type": "stream",
     "text": [
      "sox WARN rate: rate clipped 28 samples; decrease volume?\r\n",
      "sox WARN dither: dither clipped 26 samples; decrease volume?\r\n"
     ]
    },
    {
     "name": "stderr",
     "output_type": "stream",
     "text": [
      "\r",
      "1945it [20:11,  1.29it/s]"
     ]
    },
    {
     "name": "stdout",
     "output_type": "stream",
     "text": [
      "sox WARN rate: rate clipped 19 samples; decrease volume?\r\n",
      "sox WARN dither: dither clipped 17 samples; decrease volume?\r\n"
     ]
    },
    {
     "name": "stderr",
     "output_type": "stream",
     "text": [
      "\r",
      "1946it [20:11,  1.24it/s]"
     ]
    },
    {
     "name": "stdout",
     "output_type": "stream",
     "text": [
      "sox WARN rate: rate clipped 18 samples; decrease volume?\r\n",
      "sox WARN dither: dither clipped 16 samples; decrease volume?\r\n"
     ]
    },
    {
     "name": "stderr",
     "output_type": "stream",
     "text": [
      "\r",
      "1947it [20:12,  1.37it/s]"
     ]
    },
    {
     "name": "stdout",
     "output_type": "stream",
     "text": [
      "sox WARN rate: rate clipped 3 samples; decrease volume?\r\n",
      "sox WARN dither: dither clipped 3 samples; decrease volume?\r\n"
     ]
    },
    {
     "name": "stderr",
     "output_type": "stream",
     "text": [
      "1949it [20:14,  1.25it/s]"
     ]
    },
    {
     "name": "stdout",
     "output_type": "stream",
     "text": [
      "sox WARN rate: rate clipped 90 samples; decrease volume?\r\n",
      "sox WARN dither: dither clipped 81 samples; decrease volume?\r\n"
     ]
    },
    {
     "name": "stderr",
     "output_type": "stream",
     "text": [
      "\r",
      "1950it [20:15,  1.23it/s]"
     ]
    },
    {
     "name": "stdout",
     "output_type": "stream",
     "text": [
      "sox WARN rate: rate clipped 1 samples; decrease volume?\r\n",
      "sox WARN dither: dither clipped 1 samples; decrease volume?\r\n"
     ]
    },
    {
     "name": "stderr",
     "output_type": "stream",
     "text": [
      "\r",
      "1951it [20:15,  1.26it/s]"
     ]
    },
    {
     "name": "stdout",
     "output_type": "stream",
     "text": [
      "sox WARN rate: rate clipped 45 samples; decrease volume?\r\n",
      "sox WARN dither: dither clipped 41 samples; decrease volume?\r\n"
     ]
    },
    {
     "name": "stderr",
     "output_type": "stream",
     "text": [
      "\r",
      "1952it [20:16,  1.19it/s]"
     ]
    },
    {
     "name": "stdout",
     "output_type": "stream",
     "text": [
      "sox WARN rate: rate clipped 134 samples; decrease volume?\r\n",
      "sox WARN dither: dither clipped 122 samples; decrease volume?\r\n"
     ]
    },
    {
     "name": "stderr",
     "output_type": "stream",
     "text": [
      "\r",
      "1953it [20:17,  1.15it/s]"
     ]
    },
    {
     "name": "stdout",
     "output_type": "stream",
     "text": [
      "sox WARN rate: rate clipped 114 samples; decrease volume?\r\n",
      "sox WARN dither: dither clipped 103 samples; decrease volume?\r\n"
     ]
    },
    {
     "name": "stderr",
     "output_type": "stream",
     "text": [
      "1955it [20:19,  1.16it/s]"
     ]
    },
    {
     "name": "stdout",
     "output_type": "stream",
     "text": [
      "sox WARN rate: rate clipped 2 samples; decrease volume?\r\n",
      "sox WARN dither: dither clipped 2 samples; decrease volume?\r\n"
     ]
    },
    {
     "name": "stderr",
     "output_type": "stream",
     "text": [
      "\r",
      "1956it [20:19,  1.32it/s]"
     ]
    },
    {
     "name": "stdout",
     "output_type": "stream",
     "text": [
      "sox WARN rate: rate clipped 21 samples; decrease volume?\r\n",
      "sox WARN dither: dither clipped 17 samples; decrease volume?\r\n"
     ]
    },
    {
     "name": "stderr",
     "output_type": "stream",
     "text": [
      "\r",
      "1957it [20:20,  1.24it/s]"
     ]
    },
    {
     "name": "stdout",
     "output_type": "stream",
     "text": [
      "sox WARN rate: rate clipped 18 samples; decrease volume?\r\n",
      "sox WARN dither: dither clipped 15 samples; decrease volume?\r\n"
     ]
    },
    {
     "name": "stderr",
     "output_type": "stream",
     "text": [
      "1959it [20:22,  1.26it/s]"
     ]
    },
    {
     "name": "stdout",
     "output_type": "stream",
     "text": [
      "sox WARN rate: rate clipped 6 samples; decrease volume?\r\n",
      "sox WARN dither: dither clipped 5 samples; decrease volume?\r\n"
     ]
    },
    {
     "name": "stderr",
     "output_type": "stream",
     "text": [
      "\r",
      "1960it [20:22,  1.37it/s]"
     ]
    },
    {
     "name": "stdout",
     "output_type": "stream",
     "text": [
      "sox WARN rate: rate clipped 17 samples; decrease volume?\r\n",
      "sox WARN dither: dither clipped 16 samples; decrease volume?\r\n"
     ]
    },
    {
     "name": "stderr",
     "output_type": "stream",
     "text": [
      "\r",
      "1961it [20:23,  1.47it/s]"
     ]
    },
    {
     "name": "stdout",
     "output_type": "stream",
     "text": [
      "sox WARN rate: rate clipped 10 samples; decrease volume?\r\n",
      "sox WARN dither: dither clipped 10 samples; decrease volume?\r\n"
     ]
    },
    {
     "name": "stderr",
     "output_type": "stream",
     "text": [
      "\r",
      "1962it [20:24,  1.55it/s]"
     ]
    },
    {
     "name": "stdout",
     "output_type": "stream",
     "text": [
      "sox WARN rate: rate clipped 17 samples; decrease volume?\r\n",
      "sox WARN dither: dither clipped 15 samples; decrease volume?\r\n"
     ]
    },
    {
     "name": "stderr",
     "output_type": "stream",
     "text": [
      "\r",
      "1963it [20:24,  1.46it/s]"
     ]
    },
    {
     "name": "stdout",
     "output_type": "stream",
     "text": [
      "sox WARN rate: rate clipped 124 samples; decrease volume?\r\n",
      "sox WARN dither: dither clipped 111 samples; decrease volume?\r\n"
     ]
    },
    {
     "name": "stderr",
     "output_type": "stream",
     "text": [
      "\r",
      "1964it [20:25,  1.32it/s]"
     ]
    },
    {
     "name": "stdout",
     "output_type": "stream",
     "text": [
      "sox WARN rate: rate clipped 68 samples; decrease volume?\r\n",
      "sox WARN dither: dither clipped 62 samples; decrease volume?\r\n"
     ]
    },
    {
     "name": "stderr",
     "output_type": "stream",
     "text": [
      "1966it [20:27,  1.21it/s]"
     ]
    },
    {
     "name": "stdout",
     "output_type": "stream",
     "text": [
      "sox WARN rate: rate clipped 19 samples; decrease volume?\r\n",
      "sox WARN dither: dither clipped 17 samples; decrease volume?\r\n"
     ]
    },
    {
     "name": "stderr",
     "output_type": "stream",
     "text": [
      "1968it [20:28,  1.33it/s]"
     ]
    },
    {
     "name": "stdout",
     "output_type": "stream",
     "text": [
      "sox WARN rate: rate clipped 3 samples; decrease volume?\r\n",
      "sox WARN dither: dither clipped 3 samples; decrease volume?\r\n"
     ]
    },
    {
     "name": "stderr",
     "output_type": "stream",
     "text": [
      "\r",
      "1969it [20:29,  1.50it/s]"
     ]
    },
    {
     "name": "stdout",
     "output_type": "stream",
     "text": [
      "sox WARN rate: rate clipped 21 samples; decrease volume?\r\n",
      "sox WARN dither: dither clipped 18 samples; decrease volume?\r\n"
     ]
    },
    {
     "name": "stderr",
     "output_type": "stream",
     "text": [
      "1972it [20:31,  1.57it/s]"
     ]
    },
    {
     "name": "stdout",
     "output_type": "stream",
     "text": [
      "sox WARN rate: rate clipped 2 samples; decrease volume?\r\n",
      "sox WARN dither: dither clipped 2 samples; decrease volume?\r\n"
     ]
    },
    {
     "name": "stderr",
     "output_type": "stream",
     "text": [
      "\r",
      "1973it [20:31,  1.73it/s]"
     ]
    },
    {
     "name": "stdout",
     "output_type": "stream",
     "text": [
      "sox WARN rate: rate clipped 17 samples; decrease volume?\r\n",
      "sox WARN dither: dither clipped 17 samples; decrease volume?\r\n"
     ]
    },
    {
     "name": "stderr",
     "output_type": "stream",
     "text": [
      "\r",
      "1974it [20:32,  1.76it/s]"
     ]
    },
    {
     "name": "stdout",
     "output_type": "stream",
     "text": [
      "sox WARN rate: rate clipped 18 samples; decrease volume?\r\n",
      "sox WARN dither: dither clipped 17 samples; decrease volume?\r\n"
     ]
    },
    {
     "name": "stderr",
     "output_type": "stream",
     "text": [
      "1977it [20:34,  1.31it/s]"
     ]
    },
    {
     "name": "stdout",
     "output_type": "stream",
     "text": [
      "sox WARN rate: rate clipped 22 samples; decrease volume?\r\n",
      "sox WARN dither: dither clipped 20 samples; decrease volume?\r\n"
     ]
    },
    {
     "name": "stderr",
     "output_type": "stream",
     "text": [
      "\r",
      "1978it [20:35,  1.24it/s]"
     ]
    },
    {
     "name": "stdout",
     "output_type": "stream",
     "text": [
      "sox WARN rate: rate clipped 50 samples; decrease volume?\r\n",
      "sox WARN dither: dither clipped 44 samples; decrease volume?\r\n"
     ]
    },
    {
     "name": "stderr",
     "output_type": "stream",
     "text": [
      "1980it [20:37,  1.15it/s]"
     ]
    },
    {
     "name": "stdout",
     "output_type": "stream",
     "text": [
      "sox WARN rate: rate clipped 1 samples; decrease volume?\r\n",
      "sox WARN dither: dither clipped 1 samples; decrease volume?\r\n"
     ]
    },
    {
     "name": "stderr",
     "output_type": "stream",
     "text": [
      "\r",
      "1981it [20:38,  1.12it/s]"
     ]
    },
    {
     "name": "stdout",
     "output_type": "stream",
     "text": [
      "sox WARN rate: rate clipped 17 samples; decrease volume?\r\n",
      "sox WARN dither: dither clipped 14 samples; decrease volume?\r\n"
     ]
    },
    {
     "name": "stderr",
     "output_type": "stream",
     "text": [
      "\r",
      "1982it [20:39,  1.10it/s]"
     ]
    },
    {
     "name": "stdout",
     "output_type": "stream",
     "text": [
      "sox WARN rate: rate clipped 18 samples; decrease volume?\r\n",
      "sox WARN dither: dither clipped 14 samples; decrease volume?\r\n"
     ]
    },
    {
     "name": "stderr",
     "output_type": "stream",
     "text": [
      "1985it [20:41,  1.24it/s]"
     ]
    },
    {
     "name": "stdout",
     "output_type": "stream",
     "text": [
      "sox WARN rate: rate clipped 15 samples; decrease volume?\r\n",
      "sox WARN dither: dither clipped 13 samples; decrease volume?\r\n"
     ]
    },
    {
     "name": "stderr",
     "output_type": "stream",
     "text": [
      "\r",
      "1986it [20:42,  1.30it/s]"
     ]
    },
    {
     "name": "stdout",
     "output_type": "stream",
     "text": [
      "sox WARN rate: rate clipped 1 samples; decrease volume?\r\n",
      "sox WARN dither: dither clipped 1 samples; decrease volume?\r\n"
     ]
    },
    {
     "name": "stderr",
     "output_type": "stream",
     "text": [
      "1990it [20:45,  1.17it/s]"
     ]
    },
    {
     "name": "stdout",
     "output_type": "stream",
     "text": [
      "sox WARN rate: rate clipped 40 samples; decrease volume?\r\n",
      "sox WARN dither: dither clipped 32 samples; decrease volume?\r\n"
     ]
    },
    {
     "name": "stderr",
     "output_type": "stream",
     "text": [
      "\r",
      "1991it [20:46,  1.14it/s]"
     ]
    },
    {
     "name": "stdout",
     "output_type": "stream",
     "text": [
      "sox WARN rate: rate clipped 49 samples; decrease volume?\r\n",
      "sox WARN dither: dither clipped 37 samples; decrease volume?\r\n"
     ]
    },
    {
     "name": "stderr",
     "output_type": "stream",
     "text": [
      "\r",
      "1992it [20:47,  1.29it/s]"
     ]
    },
    {
     "name": "stdout",
     "output_type": "stream",
     "text": [
      "sox WARN rate: rate clipped 14 samples; decrease volume?\r\n",
      "sox WARN dither: dither clipped 13 samples; decrease volume?\r\n"
     ]
    },
    {
     "name": "stderr",
     "output_type": "stream",
     "text": [
      "\r",
      "1993it [20:48,  1.21it/s]"
     ]
    },
    {
     "name": "stdout",
     "output_type": "stream",
     "text": [
      "sox WARN rate: rate clipped 23 samples; decrease volume?\r\n",
      "sox WARN dither: dither clipped 21 samples; decrease volume?\r\n"
     ]
    },
    {
     "name": "stderr",
     "output_type": "stream",
     "text": [
      "1995it [20:49,  1.26it/s]"
     ]
    },
    {
     "name": "stdout",
     "output_type": "stream",
     "text": [
      "sox WARN rate: rate clipped 3 samples; decrease volume?\r\n",
      "sox WARN dither: dither clipped 3 samples; decrease volume?\r\n"
     ]
    },
    {
     "name": "stderr",
     "output_type": "stream",
     "text": [
      "\r",
      "1996it [20:50,  1.39it/s]"
     ]
    },
    {
     "name": "stdout",
     "output_type": "stream",
     "text": [
      "sox WARN rate: rate clipped 51 samples; decrease volume?\r\n",
      "sox WARN dither: dither clipped 42 samples; decrease volume?\r\n"
     ]
    },
    {
     "name": "stderr",
     "output_type": "stream",
     "text": [
      "\r",
      "1997it [20:50,  1.49it/s]"
     ]
    },
    {
     "name": "stdout",
     "output_type": "stream",
     "text": [
      "sox WARN rate: rate clipped 14 samples; decrease volume?\r\n",
      "sox WARN dither: dither clipped 11 samples; decrease volume?\r\n"
     ]
    },
    {
     "name": "stderr",
     "output_type": "stream",
     "text": [
      "\r",
      "1998it [20:51,  1.57it/s]"
     ]
    },
    {
     "name": "stdout",
     "output_type": "stream",
     "text": [
      "sox WARN rate: rate clipped 20 samples; decrease volume?\r\n",
      "sox WARN dither: dither clipped 18 samples; decrease volume?\r\n"
     ]
    },
    {
     "name": "stderr",
     "output_type": "stream",
     "text": [
      "\r",
      "1999it [20:52,  1.37it/s]"
     ]
    },
    {
     "name": "stdout",
     "output_type": "stream",
     "text": [
      "sox WARN rate: rate clipped 3 samples; decrease volume?\r\n",
      "sox WARN dither: dither clipped 3 samples; decrease volume?\r\n"
     ]
    },
    {
     "name": "stderr",
     "output_type": "stream",
     "text": [
      "\r",
      "2000it [20:53,  1.36it/s]"
     ]
    },
    {
     "name": "stdout",
     "output_type": "stream",
     "text": [
      "sox WARN rate: rate clipped 18 samples; decrease volume?\r\n",
      "sox WARN dither: dither clipped 17 samples; decrease volume?\r\n"
     ]
    },
    {
     "name": "stderr",
     "output_type": "stream",
     "text": [
      "\r",
      "2001it [20:53,  1.46it/s]"
     ]
    },
    {
     "name": "stdout",
     "output_type": "stream",
     "text": [
      "sox WARN rate: rate clipped 17 samples; decrease volume?\r\n",
      "sox WARN dither: dither clipped 17 samples; decrease volume?\r\n"
     ]
    },
    {
     "name": "stderr",
     "output_type": "stream",
     "text": [
      "2003it [20:55,  1.37it/s]"
     ]
    },
    {
     "name": "stdout",
     "output_type": "stream",
     "text": [
      "sox WARN rate: rate clipped 5 samples; decrease volume?\r\n",
      "sox WARN dither: dither clipped 5 samples; decrease volume?\r\n"
     ]
    },
    {
     "name": "stderr",
     "output_type": "stream",
     "text": [
      "\r",
      "2004it [20:55,  1.51it/s]"
     ]
    },
    {
     "name": "stdout",
     "output_type": "stream",
     "text": [
      "sox WARN rate: rate clipped 3 samples; decrease volume?\r\n",
      "sox WARN dither: dither clipped 3 samples; decrease volume?\r\n"
     ]
    },
    {
     "name": "stderr",
     "output_type": "stream",
     "text": [
      "2006it [20:57,  1.35it/s]"
     ]
    },
    {
     "name": "stdout",
     "output_type": "stream",
     "text": [
      "sox WARN rate: rate clipped 17 samples; decrease volume?\r\n",
      "sox WARN dither: dither clipped 17 samples; decrease volume?\r\n"
     ]
    },
    {
     "name": "stderr",
     "output_type": "stream",
     "text": [
      "\r",
      "2007it [20:57,  1.47it/s]"
     ]
    },
    {
     "name": "stdout",
     "output_type": "stream",
     "text": [
      "sox WARN rate: rate clipped 18 samples; decrease volume?\r\n",
      "sox WARN dither: dither clipped 17 samples; decrease volume?\r\n"
     ]
    },
    {
     "name": "stderr",
     "output_type": "stream",
     "text": [
      "2009it [20:58,  1.51it/s]"
     ]
    },
    {
     "name": "stdout",
     "output_type": "stream",
     "text": [
      "sox WARN rate: rate clipped 19 samples; decrease volume?\r\n",
      "sox WARN dither: dither clipped 17 samples; decrease volume?\r\n"
     ]
    },
    {
     "name": "stderr",
     "output_type": "stream",
     "text": [
      "\r",
      "2010it [20:59,  1.59it/s]"
     ]
    },
    {
     "name": "stdout",
     "output_type": "stream",
     "text": [
      "sox WARN rate: rate clipped 1 samples; decrease volume?\r\n",
      "sox WARN dither: dither clipped 1 samples; decrease volume?\r\n"
     ]
    },
    {
     "name": "stderr",
     "output_type": "stream",
     "text": [
      "\r",
      "2011it [21:00,  1.36it/s]"
     ]
    },
    {
     "name": "stdout",
     "output_type": "stream",
     "text": [
      "sox WARN rate: rate clipped 19 samples; decrease volume?\r\n",
      "sox WARN dither: dither clipped 17 samples; decrease volume?\r\n"
     ]
    },
    {
     "name": "stderr",
     "output_type": "stream",
     "text": [
      "2013it [21:02,  1.28it/s]"
     ]
    },
    {
     "name": "stdout",
     "output_type": "stream",
     "text": [
      "sox WARN rate: rate clipped 2 samples; decrease volume?\r\n",
      "sox WARN dither: dither clipped 2 samples; decrease volume?\r\n"
     ]
    },
    {
     "name": "stderr",
     "output_type": "stream",
     "text": [
      "\r",
      "2014it [21:03,  1.19it/s]"
     ]
    },
    {
     "name": "stdout",
     "output_type": "stream",
     "text": [
      "sox WARN rate: rate clipped 459 samples; decrease volume?\r\n",
      "sox WARN dither: dither clipped 393 samples; decrease volume?\r\n"
     ]
    },
    {
     "name": "stderr",
     "output_type": "stream",
     "text": [
      "\r",
      "2015it [21:03,  1.33it/s]"
     ]
    },
    {
     "name": "stdout",
     "output_type": "stream",
     "text": [
      "sox WARN rate: rate clipped 94 samples; decrease volume?\r\n",
      "sox WARN dither: dither clipped 85 samples; decrease volume?\r\n"
     ]
    },
    {
     "name": "stderr",
     "output_type": "stream",
     "text": [
      "\r",
      "2016it [21:04,  1.24it/s]"
     ]
    },
    {
     "name": "stdout",
     "output_type": "stream",
     "text": [
      "sox WARN rate: rate clipped 2 samples; decrease volume?\r\n",
      "sox WARN dither: dither clipped 2 samples; decrease volume?\r\n"
     ]
    },
    {
     "name": "stderr",
     "output_type": "stream",
     "text": [
      "\r",
      "2017it [21:05,  1.37it/s]"
     ]
    },
    {
     "name": "stdout",
     "output_type": "stream",
     "text": [
      "sox WARN rate: rate clipped 25 samples; decrease volume?\r\n",
      "sox WARN dither: dither clipped 22 samples; decrease volume?\r\n"
     ]
    },
    {
     "name": "stderr",
     "output_type": "stream",
     "text": [
      "\r",
      "2018it [21:05,  1.37it/s]"
     ]
    },
    {
     "name": "stdout",
     "output_type": "stream",
     "text": [
      "sox WARN rate: rate clipped 14 samples; decrease volume?\r\n",
      "sox WARN dither: dither clipped 14 samples; decrease volume?\r\n"
     ]
    },
    {
     "name": "stderr",
     "output_type": "stream",
     "text": [
      "\r",
      "2019it [21:06,  1.26it/s]"
     ]
    },
    {
     "name": "stdout",
     "output_type": "stream",
     "text": [
      "sox WARN rate: rate clipped 690 samples; decrease volume?\r\n",
      "sox WARN dither: dither clipped 606 samples; decrease volume?\r\n"
     ]
    },
    {
     "name": "stderr",
     "output_type": "stream",
     "text": [
      "\r",
      "2020it [21:07,  1.25it/s]"
     ]
    },
    {
     "name": "stdout",
     "output_type": "stream",
     "text": [
      "sox WARN rate: rate clipped 19 samples; decrease volume?\r\n",
      "sox WARN dither: dither clipped 17 samples; decrease volume?\r\n"
     ]
    },
    {
     "name": "stderr",
     "output_type": "stream",
     "text": [
      "\r",
      "2021it [21:08,  1.23it/s]"
     ]
    },
    {
     "name": "stdout",
     "output_type": "stream",
     "text": [
      "sox WARN rate: rate clipped 2 samples; decrease volume?\r\n",
      "sox WARN dither: dither clipped 2 samples; decrease volume?\r\n"
     ]
    },
    {
     "name": "stderr",
     "output_type": "stream",
     "text": [
      "\r",
      "2022it [21:09,  1.23it/s]"
     ]
    },
    {
     "name": "stdout",
     "output_type": "stream",
     "text": [
      "sox WARN rate: rate clipped 18 samples; decrease volume?\r\n",
      "sox WARN dither: dither clipped 17 samples; decrease volume?\r\n"
     ]
    },
    {
     "name": "stderr",
     "output_type": "stream",
     "text": [
      "\r",
      "2023it [21:09,  1.46it/s]"
     ]
    },
    {
     "name": "stdout",
     "output_type": "stream",
     "text": [
      "sox WARN rate: rate clipped 31 samples; decrease volume?\r\n",
      "sox WARN dither: dither clipped 28 samples; decrease volume?\r\n"
     ]
    },
    {
     "name": "stderr",
     "output_type": "stream",
     "text": [
      "2025it [21:11,  1.36it/s]"
     ]
    },
    {
     "name": "stdout",
     "output_type": "stream",
     "text": [
      "sox WARN rate: rate clipped 13 samples; decrease volume?\r\n",
      "sox WARN dither: dither clipped 12 samples; decrease volume?\r\n"
     ]
    },
    {
     "name": "stderr",
     "output_type": "stream",
     "text": [
      "\r",
      "2026it [21:11,  1.44it/s]"
     ]
    },
    {
     "name": "stdout",
     "output_type": "stream",
     "text": [
      "sox WARN rate: rate clipped 17 samples; decrease volume?\r\n",
      "sox WARN dither: dither clipped 14 samples; decrease volume?\r\n"
     ]
    },
    {
     "name": "stderr",
     "output_type": "stream",
     "text": [
      "\r",
      "2027it [21:12,  1.54it/s]"
     ]
    },
    {
     "name": "stdout",
     "output_type": "stream",
     "text": [
      "sox WARN rate: rate clipped 32 samples; decrease volume?\r\n",
      "sox WARN dither: dither clipped 30 samples; decrease volume?\r\n"
     ]
    },
    {
     "name": "stderr",
     "output_type": "stream",
     "text": [
      "2029it [21:13,  1.37it/s]"
     ]
    },
    {
     "name": "stdout",
     "output_type": "stream",
     "text": [
      "sox WARN rate: rate clipped 22 samples; decrease volume?\r\n",
      "sox WARN dither: dither clipped 20 samples; decrease volume?\r\n"
     ]
    },
    {
     "name": "stderr",
     "output_type": "stream",
     "text": [
      "\r",
      "2030it [21:14,  1.48it/s]"
     ]
    },
    {
     "name": "stdout",
     "output_type": "stream",
     "text": [
      "sox WARN rate: rate clipped 21 samples; decrease volume?\r\n",
      "sox WARN dither: dither clipped 19 samples; decrease volume?\r\n"
     ]
    },
    {
     "name": "stderr",
     "output_type": "stream",
     "text": [
      "\r",
      "2031it [21:15,  1.37it/s]"
     ]
    },
    {
     "name": "stdout",
     "output_type": "stream",
     "text": [
      "sox WARN rate: rate clipped 18 samples; decrease volume?\r\n",
      "sox WARN dither: dither clipped 15 samples; decrease volume?\r\n"
     ]
    },
    {
     "name": "stderr",
     "output_type": "stream",
     "text": [
      "\r",
      "2032it [21:15,  1.48it/s]"
     ]
    },
    {
     "name": "stdout",
     "output_type": "stream",
     "text": [
      "sox WARN rate: rate clipped 1 samples; decrease volume?\r\n",
      "sox WARN dither: dither clipped 1 samples; decrease volume?\r\n"
     ]
    },
    {
     "name": "stderr",
     "output_type": "stream",
     "text": [
      "2034it [21:17,  1.30it/s]"
     ]
    },
    {
     "name": "stdout",
     "output_type": "stream",
     "text": [
      "sox WARN rate: rate clipped 176 samples; decrease volume?\r\n",
      "sox WARN dither: dither clipped 159 samples; decrease volume?\r\n"
     ]
    },
    {
     "name": "stderr",
     "output_type": "stream",
     "text": [
      "2036it [21:19,  1.18it/s]"
     ]
    },
    {
     "name": "stdout",
     "output_type": "stream",
     "text": [
      "sox WARN rate: rate clipped 9 samples; decrease volume?\r\n",
      "sox WARN dither: dither clipped 9 samples; decrease volume?\r\n"
     ]
    },
    {
     "name": "stderr",
     "output_type": "stream",
     "text": [
      "\r",
      "2037it [21:20,  1.14it/s]"
     ]
    },
    {
     "name": "stdout",
     "output_type": "stream",
     "text": [
      "sox WARN rate: rate clipped 10 samples; decrease volume?\r\n",
      "sox WARN dither: dither clipped 9 samples; decrease volume?\r\n"
     ]
    },
    {
     "name": "stderr",
     "output_type": "stream",
     "text": [
      "\r",
      "2038it [21:20,  1.25it/s]"
     ]
    },
    {
     "name": "stdout",
     "output_type": "stream",
     "text": [
      "sox WARN rate: rate clipped 14 samples; decrease volume?\r\n",
      "sox WARN dither: dither clipped 11 samples; decrease volume?\r\n"
     ]
    },
    {
     "name": "stderr",
     "output_type": "stream",
     "text": [
      "\r",
      "2039it [21:21,  1.27it/s]"
     ]
    },
    {
     "name": "stdout",
     "output_type": "stream",
     "text": [
      "sox WARN rate: rate clipped 20 samples; decrease volume?\r\n",
      "sox WARN dither: dither clipped 18 samples; decrease volume?\r\n"
     ]
    },
    {
     "name": "stderr",
     "output_type": "stream",
     "text": [
      "\r",
      "2040it [21:22,  1.40it/s]"
     ]
    },
    {
     "name": "stdout",
     "output_type": "stream",
     "text": [
      "sox WARN rate: rate clipped 12 samples; decrease volume?\r\n",
      "sox WARN dither: dither clipped 11 samples; decrease volume?\r\n"
     ]
    },
    {
     "name": "stderr",
     "output_type": "stream",
     "text": [
      "2042it [21:23,  1.24it/s]"
     ]
    },
    {
     "name": "stdout",
     "output_type": "stream",
     "text": [
      "sox WARN rate: rate clipped 10 samples; decrease volume?\r\n",
      "sox WARN dither: dither clipped 10 samples; decrease volume?\r\n"
     ]
    },
    {
     "name": "stderr",
     "output_type": "stream",
     "text": [
      "\r",
      "2043it [21:24,  1.31it/s]"
     ]
    },
    {
     "name": "stdout",
     "output_type": "stream",
     "text": [
      "sox WARN rate: rate clipped 22 samples; decrease volume?\r\n",
      "sox WARN dither: dither clipped 17 samples; decrease volume?\r\n"
     ]
    },
    {
     "name": "stderr",
     "output_type": "stream",
     "text": [
      "\r",
      "2044it [21:25,  1.44it/s]"
     ]
    },
    {
     "name": "stdout",
     "output_type": "stream",
     "text": [
      "sox WARN rate: rate clipped 2 samples; decrease volume?\r\n",
      "sox WARN dither: dither clipped 2 samples; decrease volume?\r\n"
     ]
    },
    {
     "name": "stderr",
     "output_type": "stream",
     "text": [
      "\r",
      "2045it [21:25,  1.45it/s]"
     ]
    },
    {
     "name": "stdout",
     "output_type": "stream",
     "text": [
      "sox WARN rate: rate clipped 19 samples; decrease volume?\r\n",
      "sox WARN dither: dither clipped 16 samples; decrease volume?\r\n"
     ]
    },
    {
     "name": "stderr",
     "output_type": "stream",
     "text": [
      "\r",
      "2046it [21:26,  1.57it/s]"
     ]
    },
    {
     "name": "stdout",
     "output_type": "stream",
     "text": [
      "sox WARN rate: rate clipped 11 samples; decrease volume?\r\n",
      "sox WARN dither: dither clipped 10 samples; decrease volume?\r\n"
     ]
    },
    {
     "name": "stderr",
     "output_type": "stream",
     "text": [
      "2048it [21:27,  1.34it/s]"
     ]
    },
    {
     "name": "stdout",
     "output_type": "stream",
     "text": [
      "sox WARN rate: rate clipped 1 samples; decrease volume?\r\n",
      "sox WARN dither: dither clipped 1 samples; decrease volume?\r\n"
     ]
    },
    {
     "name": "stderr",
     "output_type": "stream",
     "text": [
      "\r",
      "2049it [21:28,  1.39it/s]"
     ]
    },
    {
     "name": "stdout",
     "output_type": "stream",
     "text": [
      "sox WARN rate: rate clipped 3 samples; decrease volume?\r\n",
      "sox WARN dither: dither clipped 3 samples; decrease volume?\r\n"
     ]
    },
    {
     "name": "stderr",
     "output_type": "stream",
     "text": [
      "\r",
      "2050it [21:29,  1.27it/s]"
     ]
    },
    {
     "name": "stdout",
     "output_type": "stream",
     "text": [
      "sox WARN rate: rate clipped 16 samples; decrease volume?\r\n",
      "sox WARN dither: dither clipped 13 samples; decrease volume?\r\n"
     ]
    },
    {
     "name": "stderr",
     "output_type": "stream",
     "text": [
      "\r",
      "2051it [21:30,  1.41it/s]"
     ]
    },
    {
     "name": "stdout",
     "output_type": "stream",
     "text": [
      "sox WARN rate: rate clipped 1 samples; decrease volume?\r\n",
      "sox WARN dither: dither clipped 1 samples; decrease volume?\r\n"
     ]
    },
    {
     "name": "stderr",
     "output_type": "stream",
     "text": [
      "2056it [21:34,  1.14it/s]"
     ]
    },
    {
     "name": "stdout",
     "output_type": "stream",
     "text": [
      "sox WARN rate: rate clipped 4 samples; decrease volume?\r\n",
      "sox WARN dither: dither clipped 4 samples; decrease volume?\r\n"
     ]
    },
    {
     "name": "stderr",
     "output_type": "stream",
     "text": [
      "2058it [21:36,  1.18it/s]"
     ]
    },
    {
     "name": "stdout",
     "output_type": "stream",
     "text": [
      "sox WARN rate: rate clipped 767 samples; decrease volume?\r\n",
      "sox WARN dither: dither clipped 674 samples; decrease volume?\r\n"
     ]
    },
    {
     "name": "stderr",
     "output_type": "stream",
     "text": [
      "2060it [21:38,  1.13it/s]"
     ]
    },
    {
     "name": "stdout",
     "output_type": "stream",
     "text": [
      "sox WARN rate: rate clipped 4 samples; decrease volume?\r\n",
      "sox WARN dither: dither clipped 4 samples; decrease volume?\r\n"
     ]
    },
    {
     "name": "stderr",
     "output_type": "stream",
     "text": [
      "\r",
      "2061it [21:38,  1.27it/s]"
     ]
    },
    {
     "name": "stdout",
     "output_type": "stream",
     "text": [
      "sox WARN rate: rate clipped 7 samples; decrease volume?\r\n",
      "sox WARN dither: dither clipped 7 samples; decrease volume?\r\n"
     ]
    },
    {
     "name": "stderr",
     "output_type": "stream",
     "text": [
      "\r",
      "2062it [21:39,  1.28it/s]"
     ]
    },
    {
     "name": "stdout",
     "output_type": "stream",
     "text": [
      "sox WARN rate: rate clipped 31 samples; decrease volume?\r\n",
      "sox WARN dither: dither clipped 26 samples; decrease volume?\r\n"
     ]
    },
    {
     "name": "stderr",
     "output_type": "stream",
     "text": [
      "\r",
      "2063it [21:39,  1.50it/s]"
     ]
    },
    {
     "name": "stdout",
     "output_type": "stream",
     "text": [
      "sox WARN rate: rate clipped 8 samples; decrease volume?\r\n",
      "sox WARN dither: dither clipped 6 samples; decrease volume?\r\n"
     ]
    },
    {
     "name": "stderr",
     "output_type": "stream",
     "text": [
      "\r",
      "2064it [21:40,  1.64it/s]"
     ]
    },
    {
     "name": "stdout",
     "output_type": "stream",
     "text": [
      "sox WARN rate: rate clipped 5 samples; decrease volume?\r\n",
      "sox WARN dither: dither clipped 5 samples; decrease volume?\r\n"
     ]
    },
    {
     "name": "stderr",
     "output_type": "stream",
     "text": [
      "\r",
      "2065it [21:41,  1.63it/s]"
     ]
    },
    {
     "name": "stdout",
     "output_type": "stream",
     "text": [
      "sox WARN rate: rate clipped 1 samples; decrease volume?\r\n",
      "sox WARN dither: dither clipped 1 samples; decrease volume?\r\n"
     ]
    },
    {
     "name": "stderr",
     "output_type": "stream",
     "text": [
      "\r",
      "2066it [21:41,  1.63it/s]"
     ]
    },
    {
     "name": "stdout",
     "output_type": "stream",
     "text": [
      "sox WARN rate: rate clipped 18 samples; decrease volume?\r\n",
      "sox WARN dither: dither clipped 16 samples; decrease volume?\r\n"
     ]
    },
    {
     "name": "stderr",
     "output_type": "stream",
     "text": [
      "\r",
      "2067it [21:42,  1.68it/s]"
     ]
    },
    {
     "name": "stdout",
     "output_type": "stream",
     "text": [
      "sox WARN rate: rate clipped 115 samples; decrease volume?\r\n",
      "sox WARN dither: dither clipped 102 samples; decrease volume?\r\n"
     ]
    },
    {
     "name": "stderr",
     "output_type": "stream",
     "text": [
      "\r",
      "2068it [21:43,  1.43it/s]"
     ]
    },
    {
     "name": "stdout",
     "output_type": "stream",
     "text": [
      "sox WARN rate: rate clipped 15 samples; decrease volume?\r\n",
      "sox WARN dither: dither clipped 13 samples; decrease volume?\r\n"
     ]
    },
    {
     "name": "stderr",
     "output_type": "stream",
     "text": [
      "\r",
      "2069it [21:43,  1.53it/s]"
     ]
    },
    {
     "name": "stdout",
     "output_type": "stream",
     "text": [
      "sox WARN rate: rate clipped 16 samples; decrease volume?\r\n",
      "sox WARN dither: dither clipped 14 samples; decrease volume?\r\n"
     ]
    },
    {
     "name": "stderr",
     "output_type": "stream",
     "text": [
      "\r",
      "2070it [21:44,  1.36it/s]"
     ]
    },
    {
     "name": "stdout",
     "output_type": "stream",
     "text": [
      "sox WARN rate: rate clipped 2 samples; decrease volume?\r\n",
      "sox WARN dither: dither clipped 2 samples; decrease volume?\r\n"
     ]
    },
    {
     "name": "stderr",
     "output_type": "stream",
     "text": [
      "\r",
      "2071it [21:45,  1.38it/s]"
     ]
    },
    {
     "name": "stdout",
     "output_type": "stream",
     "text": [
      "sox WARN rate: rate clipped 16 samples; decrease volume?\r\n",
      "sox WARN dither: dither clipped 13 samples; decrease volume?\r\n"
     ]
    },
    {
     "name": "stderr",
     "output_type": "stream",
     "text": [
      "\r",
      "2072it [21:45,  1.49it/s]"
     ]
    },
    {
     "name": "stdout",
     "output_type": "stream",
     "text": [
      "sox WARN rate: rate clipped 185 samples; decrease volume?\r\n",
      "sox WARN dither: dither clipped 159 samples; decrease volume?\r\n"
     ]
    },
    {
     "name": "stderr",
     "output_type": "stream",
     "text": [
      "\r",
      "2073it [21:46,  1.37it/s]"
     ]
    },
    {
     "name": "stdout",
     "output_type": "stream",
     "text": [
      "sox WARN rate: rate clipped 3 samples; decrease volume?\r\n",
      "sox WARN dither: dither clipped 3 samples; decrease volume?\r\n"
     ]
    },
    {
     "name": "stderr",
     "output_type": "stream",
     "text": [
      "2075it [21:48,  1.24it/s]"
     ]
    },
    {
     "name": "stdout",
     "output_type": "stream",
     "text": [
      "sox WARN rate: rate clipped 18 samples; decrease volume?\r\n",
      "sox WARN dither: dither clipped 14 samples; decrease volume?\r\n"
     ]
    },
    {
     "name": "stderr",
     "output_type": "stream",
     "text": [
      "2077it [21:49,  1.27it/s]"
     ]
    },
    {
     "name": "stdout",
     "output_type": "stream",
     "text": [
      "sox WARN rate: rate clipped 140 samples; decrease volume?\r\n",
      "sox WARN dither: dither clipped 119 samples; decrease volume?\r\n"
     ]
    },
    {
     "name": "stderr",
     "output_type": "stream",
     "text": [
      "\r",
      "2078it [21:50,  1.42it/s]"
     ]
    },
    {
     "name": "stdout",
     "output_type": "stream",
     "text": [
      "sox WARN rate: rate clipped 12 samples; decrease volume?\r\n",
      "sox WARN dither: dither clipped 10 samples; decrease volume?\r\n"
     ]
    },
    {
     "name": "stderr",
     "output_type": "stream",
     "text": [
      "\r",
      "2079it [21:51,  1.35it/s]"
     ]
    },
    {
     "name": "stdout",
     "output_type": "stream",
     "text": [
      "sox WARN rate: rate clipped 18 samples; decrease volume?\r\n",
      "sox WARN dither: dither clipped 17 samples; decrease volume?\r\n"
     ]
    },
    {
     "name": "stderr",
     "output_type": "stream",
     "text": [
      "\r",
      "2080it [21:51,  1.46it/s]"
     ]
    },
    {
     "name": "stdout",
     "output_type": "stream",
     "text": [
      "sox WARN rate: rate clipped 10 samples; decrease volume?\r\n",
      "sox WARN dither: dither clipped 8 samples; decrease volume?\r\n"
     ]
    },
    {
     "name": "stderr",
     "output_type": "stream",
     "text": [
      "\r",
      "2081it [21:52,  1.50it/s]"
     ]
    },
    {
     "name": "stdout",
     "output_type": "stream",
     "text": [
      "sox WARN rate: rate clipped 3 samples; decrease volume?\r\n",
      "sox WARN dither: dither clipped 3 samples; decrease volume?\r\n"
     ]
    },
    {
     "name": "stderr",
     "output_type": "stream",
     "text": [
      "\r",
      "2082it [21:53,  1.48it/s]"
     ]
    },
    {
     "name": "stdout",
     "output_type": "stream",
     "text": [
      "sox WARN rate: rate clipped 9 samples; decrease volume?\r\n",
      "sox WARN dither: dither clipped 9 samples; decrease volume?\r\n"
     ]
    },
    {
     "name": "stderr",
     "output_type": "stream",
     "text": [
      "\r",
      "2083it [21:53,  1.50it/s]"
     ]
    },
    {
     "name": "stdout",
     "output_type": "stream",
     "text": [
      "sox WARN rate: rate clipped 202 samples; decrease volume?\r\n",
      "sox WARN dither: dither clipped 178 samples; decrease volume?\r\n"
     ]
    },
    {
     "name": "stderr",
     "output_type": "stream",
     "text": [
      "\r",
      "2084it [21:54,  1.59it/s]"
     ]
    },
    {
     "name": "stdout",
     "output_type": "stream",
     "text": [
      "sox WARN rate: rate clipped 18 samples; decrease volume?\r\n",
      "sox WARN dither: dither clipped 14 samples; decrease volume?\r\n"
     ]
    },
    {
     "name": "stderr",
     "output_type": "stream",
     "text": [
      "\r",
      "2085it [21:54,  1.65it/s]"
     ]
    },
    {
     "name": "stdout",
     "output_type": "stream",
     "text": [
      "sox WARN rate: rate clipped 2 samples; decrease volume?\r\n",
      "sox WARN dither: dither clipped 2 samples; decrease volume?\r\n"
     ]
    },
    {
     "name": "stderr",
     "output_type": "stream",
     "text": [
      "\r",
      "2086it [21:55,  1.42it/s]"
     ]
    },
    {
     "name": "stdout",
     "output_type": "stream",
     "text": [
      "sox WARN rate: rate clipped 19 samples; decrease volume?\r\n",
      "sox WARN dither: dither clipped 16 samples; decrease volume?\r\n"
     ]
    },
    {
     "name": "stderr",
     "output_type": "stream",
     "text": [
      "\r",
      "2087it [21:56,  1.30it/s]"
     ]
    },
    {
     "name": "stdout",
     "output_type": "stream",
     "text": [
      "sox WARN rate: rate clipped 12 samples; decrease volume?\r\n",
      "sox WARN dither: dither clipped 10 samples; decrease volume?\r\n"
     ]
    },
    {
     "name": "stderr",
     "output_type": "stream",
     "text": [
      "\r",
      "2088it [21:57,  1.36it/s]"
     ]
    },
    {
     "name": "stdout",
     "output_type": "stream",
     "text": [
      "sox WARN rate: rate clipped 19 samples; decrease volume?\r\n",
      "sox WARN dither: dither clipped 16 samples; decrease volume?\r\n"
     ]
    },
    {
     "name": "stderr",
     "output_type": "stream",
     "text": [
      "2090it [21:58,  1.32it/s]"
     ]
    },
    {
     "name": "stdout",
     "output_type": "stream",
     "text": [
      "sox WARN rate: rate clipped 24 samples; decrease volume?\r\n",
      "sox WARN dither: dither clipped 19 samples; decrease volume?\r\n"
     ]
    },
    {
     "name": "stderr",
     "output_type": "stream",
     "text": [
      "\r",
      "2091it [21:59,  1.65it/s]"
     ]
    },
    {
     "name": "stdout",
     "output_type": "stream",
     "text": [
      "sox WARN rate: rate clipped 20 samples; decrease volume?\r\n",
      "sox WARN dither: dither clipped 15 samples; decrease volume?\r\n"
     ]
    },
    {
     "name": "stderr",
     "output_type": "stream",
     "text": [
      "\r",
      "2092it [22:00,  1.43it/s]"
     ]
    },
    {
     "name": "stdout",
     "output_type": "stream",
     "text": [
      "sox WARN rate: rate clipped 13 samples; decrease volume?\r\n",
      "sox WARN dither: dither clipped 10 samples; decrease volume?\r\n"
     ]
    },
    {
     "name": "stderr",
     "output_type": "stream",
     "text": [
      "\r",
      "2093it [22:00,  1.35it/s]"
     ]
    },
    {
     "name": "stdout",
     "output_type": "stream",
     "text": [
      "sox WARN rate: rate clipped 37 samples; decrease volume?\r\n",
      "sox WARN dither: dither clipped 34 samples; decrease volume?\r\n"
     ]
    },
    {
     "name": "stderr",
     "output_type": "stream",
     "text": [
      "\r",
      "2094it [22:01,  1.35it/s]"
     ]
    },
    {
     "name": "stdout",
     "output_type": "stream",
     "text": [
      "sox WARN rate: rate clipped 1663 samples; decrease volume?\r\n",
      "sox WARN dither: dither clipped 1450 samples; decrease volume?\r\n"
     ]
    },
    {
     "name": "stderr",
     "output_type": "stream",
     "text": [
      "\r",
      "2095it [22:02,  1.32it/s]"
     ]
    },
    {
     "name": "stdout",
     "output_type": "stream",
     "text": [
      "sox WARN rate: rate clipped 8 samples; decrease volume?\r\n",
      "sox WARN dither: dither clipped 5 samples; decrease volume?\r\n"
     ]
    },
    {
     "name": "stderr",
     "output_type": "stream",
     "text": [
      "\r",
      "2096it [22:03,  1.30it/s]"
     ]
    },
    {
     "name": "stdout",
     "output_type": "stream",
     "text": [
      "sox WARN rate: rate clipped 2 samples; decrease volume?\r\n",
      "sox WARN dither: dither clipped 2 samples; decrease volume?\r\n"
     ]
    },
    {
     "name": "stderr",
     "output_type": "stream",
     "text": [
      "\r",
      "2097it [22:04,  1.22it/s]"
     ]
    },
    {
     "name": "stdout",
     "output_type": "stream",
     "text": [
      "sox WARN rate: rate clipped 19 samples; decrease volume?\r\n",
      "sox WARN dither: dither clipped 16 samples; decrease volume?\r\n"
     ]
    },
    {
     "name": "stderr",
     "output_type": "stream",
     "text": [
      "\r",
      "2098it [22:04,  1.22it/s]"
     ]
    },
    {
     "name": "stdout",
     "output_type": "stream",
     "text": [
      "sox WARN rate: rate clipped 77 samples; decrease volume?\r\n",
      "sox WARN dither: dither clipped 72 samples; decrease volume?\r\n"
     ]
    },
    {
     "name": "stderr",
     "output_type": "stream",
     "text": [
      "\r",
      "2099it [22:05,  1.29it/s]"
     ]
    },
    {
     "name": "stdout",
     "output_type": "stream",
     "text": [
      "sox WARN rate: rate clipped 34 samples; decrease volume?\r\n",
      "sox WARN dither: dither clipped 32 samples; decrease volume?\r\n"
     ]
    },
    {
     "name": "stderr",
     "output_type": "stream",
     "text": [
      "\r",
      "2100it [22:06,  1.22it/s]"
     ]
    },
    {
     "name": "stdout",
     "output_type": "stream",
     "text": [
      "sox WARN rate: rate clipped 297 samples; decrease volume?\r\n",
      "sox WARN dither: dither clipped 256 samples; decrease volume?\r\n"
     ]
    },
    {
     "name": "stderr",
     "output_type": "stream",
     "text": [
      "\r",
      "2101it [22:07,  1.27it/s]"
     ]
    },
    {
     "name": "stdout",
     "output_type": "stream",
     "text": [
      "sox WARN rate: rate clipped 18 samples; decrease volume?\r\n",
      "sox WARN dither: dither clipped 17 samples; decrease volume?\r\n"
     ]
    },
    {
     "name": "stderr",
     "output_type": "stream",
     "text": [
      "\r",
      "2102it [22:07,  1.62it/s]"
     ]
    },
    {
     "name": "stdout",
     "output_type": "stream",
     "text": [
      "sox WARN rate: rate clipped 57 samples; decrease volume?\r\n",
      "sox WARN dither: dither clipped 46 samples; decrease volume?\r\n"
     ]
    },
    {
     "name": "stderr",
     "output_type": "stream",
     "text": [
      "\r",
      "2103it [22:08,  1.68it/s]"
     ]
    },
    {
     "name": "stdout",
     "output_type": "stream",
     "text": [
      "sox WARN rate: rate clipped 463 samples; decrease volume?\r\n",
      "sox WARN dither: dither clipped 405 samples; decrease volume?\r\n"
     ]
    },
    {
     "name": "stderr",
     "output_type": "stream",
     "text": [
      "\r",
      "2104it [22:08,  1.71it/s]"
     ]
    },
    {
     "name": "stdout",
     "output_type": "stream",
     "text": [
      "sox WARN rate: rate clipped 3 samples; decrease volume?\r\n",
      "sox WARN dither: dither clipped 3 samples; decrease volume?\r\n"
     ]
    },
    {
     "name": "stderr",
     "output_type": "stream",
     "text": [
      "2108it [22:11,  1.35it/s]"
     ]
    },
    {
     "name": "stdout",
     "output_type": "stream",
     "text": [
      "sox WARN rate: rate clipped 2 samples; decrease volume?\r\n",
      "sox WARN dither: dither clipped 1 samples; decrease volume?\r\n"
     ]
    },
    {
     "name": "stderr",
     "output_type": "stream",
     "text": [
      "2110it [22:13,  1.33it/s]"
     ]
    },
    {
     "name": "stdout",
     "output_type": "stream",
     "text": [
      "sox WARN rate: rate clipped 18 samples; decrease volume?\r\n",
      "sox WARN dither: dither clipped 15 samples; decrease volume?\r\n"
     ]
    },
    {
     "name": "stderr",
     "output_type": "stream",
     "text": [
      "2113it [22:16,  1.14it/s]"
     ]
    },
    {
     "name": "stdout",
     "output_type": "stream",
     "text": [
      "sox WARN rate: rate clipped 22 samples; decrease volume?\r\n",
      "sox WARN dither: dither clipped 20 samples; decrease volume?\r\n"
     ]
    },
    {
     "name": "stderr",
     "output_type": "stream",
     "text": [
      "\r",
      "2114it [22:16,  1.30it/s]"
     ]
    },
    {
     "name": "stdout",
     "output_type": "stream",
     "text": [
      "sox WARN rate: rate clipped 25 samples; decrease volume?\r\n",
      "sox WARN dither: dither clipped 21 samples; decrease volume?\r\n"
     ]
    },
    {
     "name": "stderr",
     "output_type": "stream",
     "text": [
      "\r",
      "2115it [22:17,  1.46it/s]"
     ]
    },
    {
     "name": "stdout",
     "output_type": "stream",
     "text": [
      "sox WARN rate: rate clipped 87 samples; decrease volume?\r\n",
      "sox WARN dither: dither clipped 73 samples; decrease volume?\r\n"
     ]
    },
    {
     "name": "stderr",
     "output_type": "stream",
     "text": [
      "\r",
      "2116it [22:17,  1.32it/s]"
     ]
    },
    {
     "name": "stdout",
     "output_type": "stream",
     "text": [
      "sox WARN rate: rate clipped 18 samples; decrease volume?\r\n",
      "sox WARN dither: dither clipped 15 samples; decrease volume?\r\n"
     ]
    },
    {
     "name": "stderr",
     "output_type": "stream",
     "text": [
      "\r",
      "2117it [22:18,  1.45it/s]"
     ]
    },
    {
     "name": "stdout",
     "output_type": "stream",
     "text": [
      "sox WARN rate: rate clipped 18 samples; decrease volume?\r\n",
      "sox WARN dither: dither clipped 17 samples; decrease volume?\r\n"
     ]
    },
    {
     "name": "stderr",
     "output_type": "stream",
     "text": [
      "2119it [22:19,  1.36it/s]"
     ]
    },
    {
     "name": "stdout",
     "output_type": "stream",
     "text": [
      "sox WARN rate: rate clipped 1 samples; decrease volume?\r\n",
      "sox WARN dither: dither clipped 1 samples; decrease volume?\r\n"
     ]
    },
    {
     "name": "stderr",
     "output_type": "stream",
     "text": [
      "2121it [22:21,  1.20it/s]"
     ]
    },
    {
     "name": "stdout",
     "output_type": "stream",
     "text": [
      "sox WARN rate: rate clipped 17 samples; decrease volume?\r\n",
      "sox WARN dither: dither clipped 16 samples; decrease volume?\r\n"
     ]
    },
    {
     "name": "stderr",
     "output_type": "stream",
     "text": [
      "2123it [22:23,  1.25it/s]"
     ]
    },
    {
     "name": "stdout",
     "output_type": "stream",
     "text": [
      "sox WARN rate: rate clipped 36 samples; decrease volume?\r\n",
      "sox WARN dither: dither clipped 33 samples; decrease volume?\r\n"
     ]
    },
    {
     "name": "stderr",
     "output_type": "stream",
     "text": [
      "\r",
      "2124it [22:24,  1.19it/s]"
     ]
    },
    {
     "name": "stdout",
     "output_type": "stream",
     "text": [
      "sox WARN rate: rate clipped 18 samples; decrease volume?\r\n",
      "sox WARN dither: dither clipped 16 samples; decrease volume?\r\n"
     ]
    },
    {
     "name": "stderr",
     "output_type": "stream",
     "text": [
      "2126it [22:25,  1.23it/s]"
     ]
    },
    {
     "name": "stdout",
     "output_type": "stream",
     "text": [
      "sox WARN rate: rate clipped 12 samples; decrease volume?\r\n",
      "sox WARN dither: dither clipped 12 samples; decrease volume?\r\n"
     ]
    },
    {
     "name": "stderr",
     "output_type": "stream",
     "text": [
      "\r",
      "2127it [22:26,  1.28it/s]"
     ]
    },
    {
     "name": "stdout",
     "output_type": "stream",
     "text": [
      "sox WARN rate: rate clipped 29 samples; decrease volume?\r\n",
      "sox WARN dither: dither clipped 23 samples; decrease volume?\r\n"
     ]
    },
    {
     "name": "stderr",
     "output_type": "stream",
     "text": [
      "\r",
      "2128it [22:27,  1.30it/s]"
     ]
    },
    {
     "name": "stdout",
     "output_type": "stream",
     "text": [
      "sox WARN rate: rate clipped 18 samples; decrease volume?\r\n",
      "sox WARN dither: dither clipped 14 samples; decrease volume?\r\n"
     ]
    },
    {
     "name": "stderr",
     "output_type": "stream",
     "text": [
      "2130it [22:28,  1.29it/s]"
     ]
    },
    {
     "name": "stdout",
     "output_type": "stream",
     "text": [
      "sox WARN rate: rate clipped 28 samples; decrease volume?\r\n",
      "sox WARN dither: dither clipped 21 samples; decrease volume?\r\n"
     ]
    },
    {
     "name": "stderr",
     "output_type": "stream",
     "text": [
      "\r",
      "2131it [22:29,  1.42it/s]"
     ]
    },
    {
     "name": "stdout",
     "output_type": "stream",
     "text": [
      "sox WARN rate: rate clipped 24 samples; decrease volume?\r\n",
      "sox WARN dither: dither clipped 21 samples; decrease volume?\r\n"
     ]
    },
    {
     "name": "stderr",
     "output_type": "stream",
     "text": [
      "\r",
      "2132it [22:29,  1.52it/s]"
     ]
    },
    {
     "name": "stdout",
     "output_type": "stream",
     "text": [
      "sox WARN rate: rate clipped 40 samples; decrease volume?\r\n",
      "sox WARN dither: dither clipped 36 samples; decrease volume?\r\n"
     ]
    },
    {
     "name": "stderr",
     "output_type": "stream",
     "text": [
      "\r",
      "2133it [22:30,  1.66it/s]"
     ]
    },
    {
     "name": "stdout",
     "output_type": "stream",
     "text": [
      "sox WARN rate: rate clipped 16 samples; decrease volume?\r\n",
      "sox WARN dither: dither clipped 13 samples; decrease volume?\r\n"
     ]
    },
    {
     "name": "stderr",
     "output_type": "stream",
     "text": [
      "\r",
      "2134it [22:31,  1.53it/s]"
     ]
    },
    {
     "name": "stdout",
     "output_type": "stream",
     "text": [
      "sox WARN rate: rate clipped 29 samples; decrease volume?\r\n",
      "sox WARN dither: dither clipped 26 samples; decrease volume?\r\n"
     ]
    },
    {
     "name": "stderr",
     "output_type": "stream",
     "text": [
      "\r",
      "2135it [22:31,  1.81it/s]"
     ]
    },
    {
     "name": "stdout",
     "output_type": "stream",
     "text": [
      "sox WARN rate: rate clipped 4 samples; decrease volume?\r\n",
      "sox WARN dither: dither clipped 4 samples; decrease volume?\r\n"
     ]
    },
    {
     "name": "stderr",
     "output_type": "stream",
     "text": [
      "\r",
      "2136it [22:32,  1.48it/s]"
     ]
    },
    {
     "name": "stdout",
     "output_type": "stream",
     "text": [
      "sox WARN rate: rate clipped 2 samples; decrease volume?\r\n",
      "sox WARN dither: dither clipped 1 samples; decrease volume?\r\n"
     ]
    },
    {
     "name": "stderr",
     "output_type": "stream",
     "text": [
      "2138it [22:34,  1.23it/s]"
     ]
    },
    {
     "name": "stdout",
     "output_type": "stream",
     "text": [
      "sox WARN rate: rate clipped 3 samples; decrease volume?\r\n",
      "sox WARN dither: dither clipped 3 samples; decrease volume?\r\n"
     ]
    },
    {
     "name": "stderr",
     "output_type": "stream",
     "text": [
      "2140it [22:36,  1.15it/s]"
     ]
    },
    {
     "name": "stdout",
     "output_type": "stream",
     "text": [
      "sox WARN rate: rate clipped 2 samples; decrease volume?\r\n",
      "sox WARN dither: dither clipped 2 samples; decrease volume?\r\n"
     ]
    },
    {
     "name": "stderr",
     "output_type": "stream",
     "text": [
      "2142it [22:37,  1.15it/s]"
     ]
    },
    {
     "name": "stdout",
     "output_type": "stream",
     "text": [
      "sox WARN rate: rate clipped 11 samples; decrease volume?\r\n",
      "sox WARN dither: dither clipped 9 samples; decrease volume?\r\n"
     ]
    },
    {
     "name": "stderr",
     "output_type": "stream",
     "text": [
      "\r",
      "2143it [22:38,  1.27it/s]"
     ]
    },
    {
     "name": "stdout",
     "output_type": "stream",
     "text": [
      "sox WARN rate: rate clipped 1 samples; decrease volume?\r\n",
      "sox WARN dither: dither clipped 1 samples; decrease volume?\r\n"
     ]
    },
    {
     "name": "stderr",
     "output_type": "stream",
     "text": [
      "\r",
      "2144it [22:39,  1.22it/s]"
     ]
    },
    {
     "name": "stdout",
     "output_type": "stream",
     "text": [
      "sox WARN rate: rate clipped 10 samples; decrease volume?\r\n",
      "sox WARN dither: dither clipped 10 samples; decrease volume?\r\n"
     ]
    },
    {
     "name": "stderr",
     "output_type": "stream",
     "text": [
      "\r",
      "2145it [22:39,  1.26it/s]"
     ]
    },
    {
     "name": "stdout",
     "output_type": "stream",
     "text": [
      "sox WARN rate: rate clipped 8 samples; decrease volume?\r\n",
      "sox WARN dither: dither clipped 7 samples; decrease volume?\r\n"
     ]
    },
    {
     "name": "stderr",
     "output_type": "stream",
     "text": [
      "\r",
      "2146it [22:40,  1.20it/s]"
     ]
    },
    {
     "name": "stdout",
     "output_type": "stream",
     "text": [
      "sox WARN rate: rate clipped 35 samples; decrease volume?\r\n",
      "sox WARN dither: dither clipped 28 samples; decrease volume?\r\n"
     ]
    },
    {
     "name": "stderr",
     "output_type": "stream",
     "text": [
      "\r",
      "2147it [22:41,  1.35it/s]"
     ]
    },
    {
     "name": "stdout",
     "output_type": "stream",
     "text": [
      "sox WARN rate: rate clipped 34 samples; decrease volume?\r\n",
      "sox WARN dither: dither clipped 32 samples; decrease volume?\r\n"
     ]
    },
    {
     "name": "stderr",
     "output_type": "stream",
     "text": [
      "\r",
      "2148it [22:42,  1.29it/s]"
     ]
    },
    {
     "name": "stdout",
     "output_type": "stream",
     "text": [
      "sox WARN rate: rate clipped 2 samples; decrease volume?\r\n",
      "sox WARN dither: dither clipped 2 samples; decrease volume?\r\n"
     ]
    },
    {
     "name": "stderr",
     "output_type": "stream",
     "text": [
      "\r",
      "2149it [22:42,  1.37it/s]"
     ]
    },
    {
     "name": "stdout",
     "output_type": "stream",
     "text": [
      "sox WARN rate: rate clipped 30 samples; decrease volume?\r\n",
      "sox WARN dither: dither clipped 26 samples; decrease volume?\r\n"
     ]
    },
    {
     "name": "stderr",
     "output_type": "stream",
     "text": [
      "\r",
      "2150it [22:43,  1.49it/s]"
     ]
    },
    {
     "name": "stdout",
     "output_type": "stream",
     "text": [
      "sox WARN rate: rate clipped 19 samples; decrease volume?\r\n",
      "sox WARN dither: dither clipped 15 samples; decrease volume?\r\n"
     ]
    },
    {
     "name": "stderr",
     "output_type": "stream",
     "text": [
      "\r",
      "2151it [22:43,  1.58it/s]"
     ]
    },
    {
     "name": "stdout",
     "output_type": "stream",
     "text": [
      "sox WARN rate: rate clipped 15 samples; decrease volume?\r\n",
      "sox WARN dither: dither clipped 13 samples; decrease volume?\r\n"
     ]
    },
    {
     "name": "stderr",
     "output_type": "stream",
     "text": [
      "\r",
      "2152it [22:44,  1.38it/s]"
     ]
    },
    {
     "name": "stdout",
     "output_type": "stream",
     "text": [
      "sox WARN rate: rate clipped 20 samples; decrease volume?\r\n",
      "sox WARN dither: dither clipped 19 samples; decrease volume?\r\n"
     ]
    },
    {
     "name": "stderr",
     "output_type": "stream",
     "text": [
      "\r",
      "2153it [22:45,  1.27it/s]"
     ]
    },
    {
     "name": "stdout",
     "output_type": "stream",
     "text": [
      "sox WARN rate: rate clipped 47 samples; decrease volume?\r\n",
      "sox WARN dither: dither clipped 46 samples; decrease volume?\r\n"
     ]
    },
    {
     "name": "stderr",
     "output_type": "stream",
     "text": [
      "2155it [22:47,  1.15it/s]"
     ]
    },
    {
     "name": "stdout",
     "output_type": "stream",
     "text": [
      "sox WARN rate: rate clipped 14 samples; decrease volume?\r\n",
      "sox WARN dither: dither clipped 13 samples; decrease volume?\r\n"
     ]
    },
    {
     "name": "stderr",
     "output_type": "stream",
     "text": [
      "\r",
      "2156it [22:48,  1.21it/s]"
     ]
    },
    {
     "name": "stdout",
     "output_type": "stream",
     "text": [
      "sox WARN rate: rate clipped 9 samples; decrease volume?\r\n",
      "sox WARN dither: dither clipped 7 samples; decrease volume?\r\n"
     ]
    },
    {
     "name": "stderr",
     "output_type": "stream",
     "text": [
      "\r",
      "2157it [22:48,  1.36it/s]"
     ]
    },
    {
     "name": "stdout",
     "output_type": "stream",
     "text": [
      "sox WARN rate: rate clipped 1 samples; decrease volume?\r\n"
     ]
    },
    {
     "name": "stderr",
     "output_type": "stream",
     "text": [
      "\r",
      "2158it [22:49,  1.52it/s]"
     ]
    },
    {
     "name": "stdout",
     "output_type": "stream",
     "text": [
      "sox WARN rate: rate clipped 138 samples; decrease volume?\r\n",
      "sox WARN dither: dither clipped 117 samples; decrease volume?\r\n"
     ]
    },
    {
     "name": "stderr",
     "output_type": "stream",
     "text": [
      "\r",
      "2159it [22:50,  1.53it/s]"
     ]
    },
    {
     "name": "stdout",
     "output_type": "stream",
     "text": [
      "sox WARN rate: rate clipped 16 samples; decrease volume?\r\n",
      "sox WARN dither: dither clipped 14 samples; decrease volume?\r\n"
     ]
    },
    {
     "name": "stderr",
     "output_type": "stream",
     "text": [
      "\r",
      "2160it [22:50,  1.61it/s]"
     ]
    },
    {
     "name": "stdout",
     "output_type": "stream",
     "text": [
      "sox WARN rate: rate clipped 23 samples; decrease volume?\r\n",
      "sox WARN dither: dither clipped 22 samples; decrease volume?\r\n"
     ]
    },
    {
     "name": "stderr",
     "output_type": "stream",
     "text": [
      "\r",
      "2161it [22:51,  1.78it/s]"
     ]
    },
    {
     "name": "stdout",
     "output_type": "stream",
     "text": [
      "sox WARN rate: rate clipped 51 samples; decrease volume?\r\n",
      "sox WARN dither: dither clipped 46 samples; decrease volume?\r\n"
     ]
    },
    {
     "name": "stderr",
     "output_type": "stream",
     "text": [
      "\r",
      "2162it [22:52,  1.48it/s]"
     ]
    },
    {
     "name": "stdout",
     "output_type": "stream",
     "text": [
      "sox WARN rate: rate clipped 11 samples; decrease volume?\r\n",
      "sox WARN dither: dither clipped 9 samples; decrease volume?\r\n"
     ]
    },
    {
     "name": "stderr",
     "output_type": "stream",
     "text": [
      "\r",
      "2163it [22:52,  1.62it/s]"
     ]
    },
    {
     "name": "stdout",
     "output_type": "stream",
     "text": [
      "sox WARN rate: rate clipped 2 samples; decrease volume?\r\n",
      "sox WARN dither: dither clipped 2 samples; decrease volume?\r\n"
     ]
    },
    {
     "name": "stderr",
     "output_type": "stream",
     "text": [
      "\r",
      "2164it [22:53,  1.48it/s]"
     ]
    },
    {
     "name": "stdout",
     "output_type": "stream",
     "text": [
      "sox WARN rate: rate clipped 18 samples; decrease volume?\r\n",
      "sox WARN dither: dither clipped 17 samples; decrease volume?\r\n"
     ]
    },
    {
     "name": "stderr",
     "output_type": "stream",
     "text": [
      "2166it [22:54,  1.38it/s]"
     ]
    },
    {
     "name": "stdout",
     "output_type": "stream",
     "text": [
      "sox WARN rate: rate clipped 18 samples; decrease volume?\r\n",
      "sox WARN dither: dither clipped 15 samples; decrease volume?\r\n"
     ]
    },
    {
     "name": "stderr",
     "output_type": "stream",
     "text": [
      "2168it [22:56,  1.35it/s]"
     ]
    },
    {
     "name": "stdout",
     "output_type": "stream",
     "text": [
      "sox WARN rate: rate clipped 2 samples; decrease volume?\r\n",
      "sox WARN dither: dither clipped 2 samples; decrease volume?\r\n"
     ]
    },
    {
     "name": "stderr",
     "output_type": "stream",
     "text": [
      "\r",
      "2169it [22:56,  1.46it/s]"
     ]
    },
    {
     "name": "stdout",
     "output_type": "stream",
     "text": [
      "sox WARN rate: rate clipped 3 samples; decrease volume?\r\n",
      "sox WARN dither: dither clipped 3 samples; decrease volume?\r\n"
     ]
    },
    {
     "name": "stderr",
     "output_type": "stream",
     "text": [
      "\r",
      "2170it [22:57,  1.35it/s]"
     ]
    },
    {
     "name": "stdout",
     "output_type": "stream",
     "text": [
      "sox WARN rate: rate clipped 8 samples; decrease volume?\r\n",
      "sox WARN dither: dither clipped 7 samples; decrease volume?\r\n"
     ]
    },
    {
     "name": "stderr",
     "output_type": "stream",
     "text": [
      "\r",
      "2171it [22:58,  1.25it/s]"
     ]
    },
    {
     "name": "stdout",
     "output_type": "stream",
     "text": [
      "sox WARN rate: rate clipped 28 samples; decrease volume?\r\n",
      "sox WARN dither: dither clipped 22 samples; decrease volume?\r\n"
     ]
    },
    {
     "name": "stderr",
     "output_type": "stream",
     "text": [
      "\r",
      "2172it [22:59,  1.38it/s]"
     ]
    },
    {
     "name": "stdout",
     "output_type": "stream",
     "text": [
      "sox WARN rate: rate clipped 25 samples; decrease volume?\r\n",
      "sox WARN dither: dither clipped 21 samples; decrease volume?\r\n"
     ]
    },
    {
     "name": "stderr",
     "output_type": "stream",
     "text": [
      "\r",
      "2173it [22:59,  1.49it/s]"
     ]
    },
    {
     "name": "stdout",
     "output_type": "stream",
     "text": [
      "sox WARN rate: rate clipped 28 samples; decrease volume?\r\n",
      "sox WARN dither: dither clipped 28 samples; decrease volume?\r\n"
     ]
    },
    {
     "name": "stderr",
     "output_type": "stream",
     "text": [
      "2175it [23:01,  1.31it/s]"
     ]
    },
    {
     "name": "stdout",
     "output_type": "stream",
     "text": [
      "sox WARN rate: rate clipped 261 samples; decrease volume?\r\n",
      "sox WARN dither: dither clipped 233 samples; decrease volume?\r\n"
     ]
    },
    {
     "name": "stderr",
     "output_type": "stream",
     "text": [
      "\r",
      "2176it [23:02,  1.37it/s]"
     ]
    },
    {
     "name": "stdout",
     "output_type": "stream",
     "text": [
      "sox WARN rate: rate clipped 3 samples; decrease volume?\r\n",
      "sox WARN dither: dither clipped 1 samples; decrease volume?\r\n"
     ]
    },
    {
     "name": "stderr",
     "output_type": "stream",
     "text": [
      "\r",
      "2177it [23:02,  1.26it/s]"
     ]
    },
    {
     "name": "stdout",
     "output_type": "stream",
     "text": [
      "sox WARN rate: rate clipped 78 samples; decrease volume?\r\n",
      "sox WARN dither: dither clipped 67 samples; decrease volume?\r\n"
     ]
    },
    {
     "name": "stderr",
     "output_type": "stream",
     "text": [
      "\r",
      "2178it [23:03,  1.39it/s]"
     ]
    },
    {
     "name": "stdout",
     "output_type": "stream",
     "text": [
      "sox WARN rate: rate clipped 30 samples; decrease volume?\r\n",
      "sox WARN dither: dither clipped 29 samples; decrease volume?\r\n"
     ]
    },
    {
     "name": "stderr",
     "output_type": "stream",
     "text": [
      "2180it [23:04,  1.52it/s]"
     ]
    },
    {
     "name": "stdout",
     "output_type": "stream",
     "text": [
      "sox WARN rate: rate clipped 16 samples; decrease volume?\r\n",
      "sox WARN dither: dither clipped 14 samples; decrease volume?\r\n"
     ]
    },
    {
     "name": "stderr",
     "output_type": "stream",
     "text": [
      "\r",
      "2181it [23:05,  1.61it/s]"
     ]
    },
    {
     "name": "stdout",
     "output_type": "stream",
     "text": [
      "sox WARN rate: rate clipped 20 samples; decrease volume?\r\n",
      "sox WARN dither: dither clipped 19 samples; decrease volume?\r\n"
     ]
    },
    {
     "name": "stderr",
     "output_type": "stream",
     "text": [
      "\r",
      "2182it [23:05,  1.68it/s]"
     ]
    },
    {
     "name": "stdout",
     "output_type": "stream",
     "text": [
      "sox WARN rate: rate clipped 14 samples; decrease volume?\r\n",
      "sox WARN dither: dither clipped 12 samples; decrease volume?\r\n"
     ]
    },
    {
     "name": "stderr",
     "output_type": "stream",
     "text": [
      "\r",
      "2183it [23:06,  1.74it/s]"
     ]
    },
    {
     "name": "stdout",
     "output_type": "stream",
     "text": [
      "sox WARN rate: rate clipped 17 samples; decrease volume?\r\n",
      "sox WARN dither: dither clipped 15 samples; decrease volume?\r\n"
     ]
    },
    {
     "name": "stderr",
     "output_type": "stream",
     "text": [
      "\r",
      "2184it [23:06,  1.77it/s]"
     ]
    },
    {
     "name": "stdout",
     "output_type": "stream",
     "text": [
      "sox WARN rate: rate clipped 1580 samples; decrease volume?\r\n",
      "sox WARN dither: dither clipped 1404 samples; decrease volume?\r\n"
     ]
    },
    {
     "name": "stderr",
     "output_type": "stream",
     "text": [
      "2186it [23:08,  1.44it/s]"
     ]
    },
    {
     "name": "stdout",
     "output_type": "stream",
     "text": [
      "sox WARN rate: rate clipped 18 samples; decrease volume?\r\n",
      "sox WARN dither: dither clipped 14 samples; decrease volume?\r\n"
     ]
    },
    {
     "name": "stderr",
     "output_type": "stream",
     "text": [
      "\r",
      "2187it [23:08,  1.54it/s]"
     ]
    },
    {
     "name": "stdout",
     "output_type": "stream",
     "text": [
      "sox WARN rate: rate clipped 10 samples; decrease volume?\r\n",
      "sox WARN dither: dither clipped 10 samples; decrease volume?\r\n"
     ]
    },
    {
     "name": "stderr",
     "output_type": "stream",
     "text": [
      "\r",
      "2188it [23:09,  1.55it/s]"
     ]
    },
    {
     "name": "stdout",
     "output_type": "stream",
     "text": [
      "sox WARN rate: rate clipped 56 samples; decrease volume?\r\n",
      "sox WARN dither: dither clipped 45 samples; decrease volume?\r\n"
     ]
    },
    {
     "name": "stderr",
     "output_type": "stream",
     "text": [
      "2190it [23:11,  1.43it/s]"
     ]
    },
    {
     "name": "stdout",
     "output_type": "stream",
     "text": [
      "sox WARN rate: rate clipped 15 samples; decrease volume?\r\n",
      "sox WARN dither: dither clipped 12 samples; decrease volume?\r\n"
     ]
    },
    {
     "name": "stderr",
     "output_type": "stream",
     "text": [
      "2192it [23:12,  1.29it/s]"
     ]
    },
    {
     "name": "stdout",
     "output_type": "stream",
     "text": [
      "sox WARN rate: rate clipped 8 samples; decrease volume?\r\n",
      "sox WARN dither: dither clipped 8 samples; decrease volume?\r\n"
     ]
    },
    {
     "name": "stderr",
     "output_type": "stream",
     "text": [
      "\r",
      "2193it [23:13,  1.45it/s]"
     ]
    },
    {
     "name": "stdout",
     "output_type": "stream",
     "text": [
      "sox WARN rate: rate clipped 18 samples; decrease volume?\r\n",
      "sox WARN dither: dither clipped 17 samples; decrease volume?\r\n"
     ]
    },
    {
     "name": "stderr",
     "output_type": "stream",
     "text": [
      "\r",
      "2194it [23:13,  1.54it/s]"
     ]
    },
    {
     "name": "stdout",
     "output_type": "stream",
     "text": [
      "sox WARN rate: rate clipped 8 samples; decrease volume?\r\n",
      "sox WARN dither: dither clipped 7 samples; decrease volume?\r\n"
     ]
    },
    {
     "name": "stderr",
     "output_type": "stream",
     "text": [
      "\r",
      "2195it [23:14,  1.49it/s]"
     ]
    },
    {
     "name": "stdout",
     "output_type": "stream",
     "text": [
      "sox WARN rate: rate clipped 70 samples; decrease volume?\r\n",
      "sox WARN dither: dither clipped 59 samples; decrease volume?\r\n"
     ]
    },
    {
     "name": "stderr",
     "output_type": "stream",
     "text": [
      "\r",
      "2196it [23:15,  1.48it/s]"
     ]
    },
    {
     "name": "stdout",
     "output_type": "stream",
     "text": [
      "sox WARN rate: rate clipped 61 samples; decrease volume?\r\n",
      "sox WARN dither: dither clipped 55 samples; decrease volume?\r\n"
     ]
    },
    {
     "name": "stderr",
     "output_type": "stream",
     "text": [
      "2198it [23:16,  1.78it/s]"
     ]
    },
    {
     "name": "stdout",
     "output_type": "stream",
     "text": [
      "sox WARN rate: rate clipped 50 samples; decrease volume?\r\n",
      "sox WARN dither: dither clipped 43 samples; decrease volume?\r\n"
     ]
    },
    {
     "name": "stderr",
     "output_type": "stream",
     "text": [
      "\r",
      "2199it [23:16,  1.54it/s]"
     ]
    },
    {
     "name": "stdout",
     "output_type": "stream",
     "text": [
      "sox WARN rate: rate clipped 18 samples; decrease volume?\r\n",
      "sox WARN dither: dither clipped 19 samples; decrease volume?\r\n"
     ]
    },
    {
     "name": "stderr",
     "output_type": "stream",
     "text": [
      "\r",
      "2200it [23:17,  1.62it/s]"
     ]
    },
    {
     "name": "stdout",
     "output_type": "stream",
     "text": [
      "sox WARN rate: rate clipped 26 samples; decrease volume?\r\n",
      "sox WARN dither: dither clipped 23 samples; decrease volume?\r\n"
     ]
    },
    {
     "name": "stderr",
     "output_type": "stream",
     "text": [
      "\r",
      "2201it [23:18,  1.56it/s]"
     ]
    },
    {
     "name": "stdout",
     "output_type": "stream",
     "text": [
      "sox WARN rate: rate clipped 16 samples; decrease volume?\r\n",
      "sox WARN dither: dither clipped 14 samples; decrease volume?\r\n"
     ]
    },
    {
     "name": "stderr",
     "output_type": "stream",
     "text": [
      "\r",
      "2202it [23:18,  1.54it/s]"
     ]
    },
    {
     "name": "stdout",
     "output_type": "stream",
     "text": [
      "sox WARN rate: rate clipped 17 samples; decrease volume?\r\n",
      "sox WARN dither: dither clipped 16 samples; decrease volume?\r\n"
     ]
    },
    {
     "name": "stderr",
     "output_type": "stream",
     "text": [
      "\r",
      "2203it [23:19,  1.62it/s]"
     ]
    },
    {
     "name": "stdout",
     "output_type": "stream",
     "text": [
      "sox WARN rate: rate clipped 28 samples; decrease volume?\r\n",
      "sox WARN dither: dither clipped 24 samples; decrease volume?\r\n"
     ]
    },
    {
     "name": "stderr",
     "output_type": "stream",
     "text": [
      "2205it [23:20,  1.45it/s]"
     ]
    },
    {
     "name": "stdout",
     "output_type": "stream",
     "text": [
      "sox WARN rate: rate clipped 445 samples; decrease volume?\r\n",
      "sox WARN dither: dither clipped 388 samples; decrease volume?\r\n"
     ]
    },
    {
     "name": "stderr",
     "output_type": "stream",
     "text": [
      "\r",
      "2206it [23:21,  1.42it/s]"
     ]
    },
    {
     "name": "stdout",
     "output_type": "stream",
     "text": [
      "sox WARN rate: rate clipped 7 samples; decrease volume?\r\n",
      "sox WARN dither: dither clipped 5 samples; decrease volume?\r\n"
     ]
    },
    {
     "name": "stderr",
     "output_type": "stream",
     "text": [
      "\r",
      "2207it [23:22,  1.40it/s]"
     ]
    },
    {
     "name": "stdout",
     "output_type": "stream",
     "text": [
      "sox WARN rate: rate clipped 119 samples; decrease volume?\r\n",
      "sox WARN dither: dither clipped 108 samples; decrease volume?\r\n"
     ]
    },
    {
     "name": "stderr",
     "output_type": "stream",
     "text": [
      "2209it [23:23,  1.30it/s]"
     ]
    },
    {
     "name": "stdout",
     "output_type": "stream",
     "text": [
      "sox WARN rate: rate clipped 19 samples; decrease volume?\r\n",
      "sox WARN dither: dither clipped 18 samples; decrease volume?\r\n"
     ]
    },
    {
     "name": "stderr",
     "output_type": "stream",
     "text": [
      "\r",
      "2210it [23:24,  1.43it/s]"
     ]
    },
    {
     "name": "stdout",
     "output_type": "stream",
     "text": [
      "sox WARN rate: rate clipped 20 samples; decrease volume?\r\n",
      "sox WARN dither: dither clipped 17 samples; decrease volume?\r\n"
     ]
    },
    {
     "name": "stderr",
     "output_type": "stream",
     "text": [
      "\r",
      "2211it [23:25,  1.33it/s]"
     ]
    },
    {
     "name": "stdout",
     "output_type": "stream",
     "text": [
      "sox WARN rate: rate clipped 16 samples; decrease volume?\r\n",
      "sox WARN dither: dither clipped 14 samples; decrease volume?\r\n"
     ]
    },
    {
     "name": "stderr",
     "output_type": "stream",
     "text": [
      "\r",
      "2212it [23:25,  1.45it/s]"
     ]
    },
    {
     "name": "stdout",
     "output_type": "stream",
     "text": [
      "sox WARN rate: rate clipped 2 samples; decrease volume?\r\n",
      "sox WARN dither: dither clipped 2 samples; decrease volume?\r\n"
     ]
    },
    {
     "name": "stderr",
     "output_type": "stream",
     "text": [
      "\r",
      "2213it [23:26,  1.33it/s]"
     ]
    },
    {
     "name": "stdout",
     "output_type": "stream",
     "text": [
      "sox WARN rate: rate clipped 24 samples; decrease volume?\r\n",
      "sox WARN dither: dither clipped 21 samples; decrease volume?\r\n"
     ]
    },
    {
     "name": "stderr",
     "output_type": "stream",
     "text": [
      "\r",
      "2214it [23:27,  1.26it/s]"
     ]
    },
    {
     "name": "stdout",
     "output_type": "stream",
     "text": [
      "sox WARN rate: rate clipped 14 samples; decrease volume?\r\n",
      "sox WARN dither: dither clipped 11 samples; decrease volume?\r\n"
     ]
    },
    {
     "name": "stderr",
     "output_type": "stream",
     "text": [
      "\r",
      "2215it [23:28,  1.27it/s]"
     ]
    },
    {
     "name": "stdout",
     "output_type": "stream",
     "text": [
      "sox WARN rate: rate clipped 18 samples; decrease volume?\r\n",
      "sox WARN dither: dither clipped 17 samples; decrease volume?\r\n"
     ]
    },
    {
     "name": "stderr",
     "output_type": "stream",
     "text": [
      "\r",
      "2216it [23:29,  1.36it/s]"
     ]
    },
    {
     "name": "stdout",
     "output_type": "stream",
     "text": [
      "sox WARN rate: rate clipped 15 samples; decrease volume?\r\n",
      "sox WARN dither: dither clipped 13 samples; decrease volume?\r\n"
     ]
    },
    {
     "name": "stderr",
     "output_type": "stream",
     "text": [
      "\r",
      "2217it [23:30,  1.26it/s]"
     ]
    },
    {
     "name": "stdout",
     "output_type": "stream",
     "text": [
      "sox WARN rate: rate clipped 74 samples; decrease volume?\r\n",
      "sox WARN dither: dither clipped 66 samples; decrease volume?\r\n"
     ]
    },
    {
     "name": "stderr",
     "output_type": "stream",
     "text": [
      "2220it [23:32,  1.21it/s]"
     ]
    },
    {
     "name": "stdout",
     "output_type": "stream",
     "text": [
      "sox WARN rate: rate clipped 6 samples; decrease volume?\r\n",
      "sox WARN dither: dither clipped 6 samples; decrease volume?\r\n"
     ]
    },
    {
     "name": "stderr",
     "output_type": "stream",
     "text": [
      "\r",
      "2221it [23:33,  1.31it/s]"
     ]
    },
    {
     "name": "stdout",
     "output_type": "stream",
     "text": [
      "sox WARN rate: rate clipped 4 samples; decrease volume?\r\n",
      "sox WARN dither: dither clipped 4 samples; decrease volume?\r\n"
     ]
    },
    {
     "name": "stderr",
     "output_type": "stream",
     "text": [
      "\r",
      "2222it [23:33,  1.40it/s]"
     ]
    },
    {
     "name": "stdout",
     "output_type": "stream",
     "text": [
      "sox WARN rate: rate clipped 15 samples; decrease volume?\r\n",
      "sox WARN dither: dither clipped 13 samples; decrease volume?\r\n"
     ]
    },
    {
     "name": "stderr",
     "output_type": "stream",
     "text": [
      "\r",
      "2223it [23:34,  1.51it/s]"
     ]
    },
    {
     "name": "stdout",
     "output_type": "stream",
     "text": [
      "sox WARN rate: rate clipped 108 samples; decrease volume?\r\n",
      "sox WARN dither: dither clipped 95 samples; decrease volume?\r\n"
     ]
    },
    {
     "name": "stderr",
     "output_type": "stream",
     "text": [
      "2226it [23:36,  1.35it/s]"
     ]
    },
    {
     "name": "stdout",
     "output_type": "stream",
     "text": [
      "sox WARN rate: rate clipped 22 samples; decrease volume?\r\n",
      "sox WARN dither: dither clipped 20 samples; decrease volume?\r\n"
     ]
    },
    {
     "name": "stderr",
     "output_type": "stream",
     "text": [
      "2228it [23:37,  1.32it/s]"
     ]
    },
    {
     "name": "stdout",
     "output_type": "stream",
     "text": [
      "sox WARN rate: rate clipped 12 samples; decrease volume?\r\n",
      "sox WARN dither: dither clipped 12 samples; decrease volume?\r\n"
     ]
    },
    {
     "name": "stderr",
     "output_type": "stream",
     "text": [
      "\r",
      "2229it [23:38,  1.44it/s]"
     ]
    },
    {
     "name": "stdout",
     "output_type": "stream",
     "text": [
      "sox WARN rate: rate clipped 1105 samples; decrease volume?\r\n",
      "sox WARN dither: dither clipped 986 samples; decrease volume?\r\n"
     ]
    },
    {
     "name": "stderr",
     "output_type": "stream",
     "text": [
      "\r",
      "2230it [23:38,  1.53it/s]"
     ]
    },
    {
     "name": "stdout",
     "output_type": "stream",
     "text": [
      "sox WARN rate: rate clipped 9 samples; decrease volume?\r\n",
      "sox WARN dither: dither clipped 7 samples; decrease volume?\r\n"
     ]
    },
    {
     "name": "stderr",
     "output_type": "stream",
     "text": [
      "2232it [23:40,  1.25it/s]"
     ]
    },
    {
     "name": "stdout",
     "output_type": "stream",
     "text": [
      "sox WARN rate: rate clipped 11 samples; decrease volume?\r\n",
      "sox WARN dither: dither clipped 9 samples; decrease volume?\r\n"
     ]
    },
    {
     "name": "stderr",
     "output_type": "stream",
     "text": [
      "\r",
      "2233it [23:41,  1.36it/s]"
     ]
    },
    {
     "name": "stdout",
     "output_type": "stream",
     "text": [
      "sox WARN rate: rate clipped 17 samples; decrease volume?\r\n",
      "sox WARN dither: dither clipped 14 samples; decrease volume?\r\n"
     ]
    },
    {
     "name": "stderr",
     "output_type": "stream",
     "text": [
      "\r",
      "2234it [23:41,  1.47it/s]"
     ]
    },
    {
     "name": "stdout",
     "output_type": "stream",
     "text": [
      "sox WARN rate: rate clipped 42 samples; decrease volume?\r\n",
      "sox WARN dither: dither clipped 37 samples; decrease volume?\r\n"
     ]
    },
    {
     "name": "stderr",
     "output_type": "stream",
     "text": [
      "2236it [23:43,  1.40it/s]"
     ]
    },
    {
     "name": "stdout",
     "output_type": "stream",
     "text": [
      "sox WARN rate: rate clipped 20 samples; decrease volume?\r\n",
      "sox WARN dither: dither clipped 19 samples; decrease volume?\r\n"
     ]
    },
    {
     "name": "stderr",
     "output_type": "stream",
     "text": [
      "\r",
      "2237it [23:43,  1.49it/s]"
     ]
    },
    {
     "name": "stdout",
     "output_type": "stream",
     "text": [
      "sox WARN rate: rate clipped 17 samples; decrease volume?\r\n",
      "sox WARN dither: dither clipped 12 samples; decrease volume?\r\n"
     ]
    },
    {
     "name": "stderr",
     "output_type": "stream",
     "text": [
      "\r",
      "2238it [23:44,  1.32it/s]"
     ]
    },
    {
     "name": "stdout",
     "output_type": "stream",
     "text": [
      "sox WARN rate: rate clipped 1 samples; decrease volume?\r\n",
      "sox WARN dither: dither clipped 1 samples; decrease volume?\r\n"
     ]
    },
    {
     "name": "stderr",
     "output_type": "stream",
     "text": [
      "\r",
      "2239it [23:45,  1.49it/s]"
     ]
    },
    {
     "name": "stdout",
     "output_type": "stream",
     "text": [
      "sox WARN rate: rate clipped 17 samples; decrease volume?\r\n",
      "sox WARN dither: dither clipped 14 samples; decrease volume?\r\n"
     ]
    },
    {
     "name": "stderr",
     "output_type": "stream",
     "text": [
      "\r",
      "2240it [23:45,  1.58it/s]"
     ]
    },
    {
     "name": "stdout",
     "output_type": "stream",
     "text": [
      "sox WARN rate: rate clipped 17 samples; decrease volume?\r\n",
      "sox WARN dither: dither clipped 17 samples; decrease volume?\r\n"
     ]
    },
    {
     "name": "stderr",
     "output_type": "stream",
     "text": [
      "\r",
      "2241it [23:46,  1.51it/s]"
     ]
    },
    {
     "name": "stdout",
     "output_type": "stream",
     "text": [
      "sox WARN rate: rate clipped 21 samples; decrease volume?\r\n",
      "sox WARN dither: dither clipped 18 samples; decrease volume?\r\n"
     ]
    },
    {
     "name": "stderr",
     "output_type": "stream",
     "text": [
      "2244it [23:49,  1.23it/s]"
     ]
    },
    {
     "name": "stdout",
     "output_type": "stream",
     "text": [
      "sox WARN rate: rate clipped 19 samples; decrease volume?\r\n",
      "sox WARN dither: dither clipped 15 samples; decrease volume?\r\n"
     ]
    },
    {
     "name": "stderr",
     "output_type": "stream",
     "text": [
      "2248it [23:52,  1.22it/s]"
     ]
    },
    {
     "name": "stdout",
     "output_type": "stream",
     "text": [
      "sox WARN rate: rate clipped 237 samples; decrease volume?\r\n",
      "sox WARN dither: dither clipped 202 samples; decrease volume?\r\n"
     ]
    },
    {
     "name": "stderr",
     "output_type": "stream",
     "text": [
      "2252it [23:56,  1.17it/s]"
     ]
    },
    {
     "name": "stdout",
     "output_type": "stream",
     "text": [
      "sox WARN rate: rate clipped 30 samples; decrease volume?\r\n",
      "sox WARN dither: dither clipped 25 samples; decrease volume?\r\n"
     ]
    },
    {
     "name": "stderr",
     "output_type": "stream",
     "text": [
      "\r",
      "2253it [23:56,  1.34it/s]"
     ]
    },
    {
     "name": "stdout",
     "output_type": "stream",
     "text": [
      "sox WARN rate: rate clipped 18 samples; decrease volume?\r\n",
      "sox WARN dither: dither clipped 17 samples; decrease volume?\r\n"
     ]
    },
    {
     "name": "stderr",
     "output_type": "stream",
     "text": [
      "\r",
      "2254it [23:57,  1.47it/s]"
     ]
    },
    {
     "name": "stdout",
     "output_type": "stream",
     "text": [
      "sox WARN rate: rate clipped 50 samples; decrease volume?\r\n",
      "sox WARN dither: dither clipped 43 samples; decrease volume?\r\n"
     ]
    },
    {
     "name": "stderr",
     "output_type": "stream",
     "text": [
      "2256it [23:58,  1.37it/s]"
     ]
    },
    {
     "name": "stdout",
     "output_type": "stream",
     "text": [
      "sox WARN rate: rate clipped 18 samples; decrease volume?\r\n",
      "sox WARN dither: dither clipped 15 samples; decrease volume?\r\n"
     ]
    },
    {
     "name": "stderr",
     "output_type": "stream",
     "text": [
      "\r",
      "2257it [23:59,  1.48it/s]"
     ]
    },
    {
     "name": "stdout",
     "output_type": "stream",
     "text": [
      "sox WARN rate: rate clipped 8 samples; decrease volume?\r\n",
      "sox WARN dither: dither clipped 5 samples; decrease volume?\r\n"
     ]
    },
    {
     "name": "stderr",
     "output_type": "stream",
     "text": [
      "\r",
      "2258it [23:59,  1.54it/s]"
     ]
    },
    {
     "name": "stdout",
     "output_type": "stream",
     "text": [
      "sox WARN rate: rate clipped 72 samples; decrease volume?\r\n",
      "sox WARN dither: dither clipped 57 samples; decrease volume?\r\n"
     ]
    },
    {
     "name": "stderr",
     "output_type": "stream",
     "text": [
      "\r",
      "2259it [24:00,  1.61it/s]"
     ]
    },
    {
     "name": "stdout",
     "output_type": "stream",
     "text": [
      "sox WARN rate: rate clipped 16 samples; decrease volume?\r\n",
      "sox WARN dither: dither clipped 13 samples; decrease volume?\r\n"
     ]
    },
    {
     "name": "stderr",
     "output_type": "stream",
     "text": [
      "\r",
      "2260it [24:00,  1.67it/s]"
     ]
    },
    {
     "name": "stdout",
     "output_type": "stream",
     "text": [
      "sox WARN rate: rate clipped 3 samples; decrease volume?\r\n",
      "sox WARN dither: dither clipped 3 samples; decrease volume?\r\n"
     ]
    },
    {
     "name": "stderr",
     "output_type": "stream",
     "text": [
      "\r",
      "2261it [24:01,  1.46it/s]"
     ]
    },
    {
     "name": "stdout",
     "output_type": "stream",
     "text": [
      "sox WARN rate: rate clipped 23 samples; decrease volume?\r\n",
      "sox WARN dither: dither clipped 20 samples; decrease volume?\r\n"
     ]
    },
    {
     "name": "stderr",
     "output_type": "stream",
     "text": [
      "\r",
      "2262it [24:02,  1.55it/s]"
     ]
    },
    {
     "name": "stdout",
     "output_type": "stream",
     "text": [
      "sox WARN rate: rate clipped 33 samples; decrease volume?\r\n",
      "sox WARN dither: dither clipped 32 samples; decrease volume?\r\n"
     ]
    },
    {
     "name": "stderr",
     "output_type": "stream",
     "text": [
      "\r",
      "2263it [24:03,  1.48it/s]"
     ]
    },
    {
     "name": "stdout",
     "output_type": "stream",
     "text": [
      "sox WARN rate: rate clipped 18 samples; decrease volume?\r\n",
      "sox WARN dither: dither clipped 17 samples; decrease volume?\r\n"
     ]
    },
    {
     "name": "stderr",
     "output_type": "stream",
     "text": [
      "\r",
      "2264it [24:03,  1.58it/s]"
     ]
    },
    {
     "name": "stdout",
     "output_type": "stream",
     "text": [
      "sox WARN rate: rate clipped 36 samples; decrease volume?\r\n",
      "sox WARN dither: dither clipped 32 samples; decrease volume?\r\n"
     ]
    },
    {
     "name": "stderr",
     "output_type": "stream",
     "text": [
      "\r",
      "2265it [24:04,  1.56it/s]"
     ]
    },
    {
     "name": "stdout",
     "output_type": "stream",
     "text": [
      "sox WARN rate: rate clipped 16 samples; decrease volume?\r\n",
      "sox WARN dither: dither clipped 15 samples; decrease volume?\r\n"
     ]
    },
    {
     "name": "stderr",
     "output_type": "stream",
     "text": [
      "\r",
      "2266it [24:05,  1.37it/s]"
     ]
    },
    {
     "name": "stdout",
     "output_type": "stream",
     "text": [
      "sox WARN rate: rate clipped 14 samples; decrease volume?\r\n",
      "sox WARN dither: dither clipped 12 samples; decrease volume?\r\n"
     ]
    },
    {
     "name": "stderr",
     "output_type": "stream",
     "text": [
      "\r",
      "2267it [24:05,  1.49it/s]"
     ]
    },
    {
     "name": "stdout",
     "output_type": "stream",
     "text": [
      "sox WARN rate: rate clipped 19 samples; decrease volume?\r\n",
      "sox WARN dither: dither clipped 18 samples; decrease volume?\r\n"
     ]
    },
    {
     "name": "stderr",
     "output_type": "stream",
     "text": [
      "\r",
      "2268it [24:06,  1.34it/s]"
     ]
    },
    {
     "name": "stdout",
     "output_type": "stream",
     "text": [
      "sox WARN rate: rate clipped 5 samples; decrease volume?\r\n",
      "sox WARN dither: dither clipped 5 samples; decrease volume?\r\n"
     ]
    },
    {
     "name": "stderr",
     "output_type": "stream",
     "text": [
      "\r",
      "2269it [24:07,  1.35it/s]"
     ]
    },
    {
     "name": "stdout",
     "output_type": "stream",
     "text": [
      "sox WARN rate: rate clipped 17 samples; decrease volume?\r\n",
      "sox WARN dither: dither clipped 17 samples; decrease volume?\r\n"
     ]
    },
    {
     "name": "stderr",
     "output_type": "stream",
     "text": [
      "2271it [24:08,  1.32it/s]"
     ]
    },
    {
     "name": "stdout",
     "output_type": "stream",
     "text": [
      "sox WARN rate: rate clipped 3 samples; decrease volume?\r\n",
      "sox WARN dither: dither clipped 3 samples; decrease volume?\r\n"
     ]
    },
    {
     "name": "stderr",
     "output_type": "stream",
     "text": [
      "\r",
      "2272it [24:09,  1.23it/s]"
     ]
    },
    {
     "name": "stdout",
     "output_type": "stream",
     "text": [
      "sox WARN rate: rate clipped 18 samples; decrease volume?\r\n",
      "sox WARN dither: dither clipped 17 samples; decrease volume?\r\n"
     ]
    },
    {
     "name": "stderr",
     "output_type": "stream",
     "text": [
      "2274it [24:11,  1.25it/s]"
     ]
    },
    {
     "name": "stdout",
     "output_type": "stream",
     "text": [
      "sox WARN rate: rate clipped 15 samples; decrease volume?\r\n",
      "sox WARN dither: dither clipped 11 samples; decrease volume?\r\n"
     ]
    },
    {
     "name": "stderr",
     "output_type": "stream",
     "text": [
      "2276it [24:12,  1.26it/s]"
     ]
    },
    {
     "name": "stdout",
     "output_type": "stream",
     "text": [
      "sox WARN rate: rate clipped 20 samples; decrease volume?\r\n",
      "sox WARN dither: dither clipped 19 samples; decrease volume?\r\n"
     ]
    },
    {
     "name": "stderr",
     "output_type": "stream",
     "text": [
      "2278it [24:14,  1.35it/s]"
     ]
    },
    {
     "name": "stdout",
     "output_type": "stream",
     "text": [
      "sox WARN rate: rate clipped 6 samples; decrease volume?\r\n",
      "sox WARN dither: dither clipped 6 samples; decrease volume?\r\n"
     ]
    },
    {
     "name": "stderr",
     "output_type": "stream",
     "text": [
      "\r",
      "2279it [24:14,  1.34it/s]"
     ]
    },
    {
     "name": "stdout",
     "output_type": "stream",
     "text": [
      "sox WARN rate: rate clipped 18 samples; decrease volume?\r\n",
      "sox WARN dither: dither clipped 17 samples; decrease volume?\r\n"
     ]
    },
    {
     "name": "stderr",
     "output_type": "stream",
     "text": [
      "\r",
      "2280it [24:15,  1.45it/s]"
     ]
    },
    {
     "name": "stdout",
     "output_type": "stream",
     "text": [
      "sox WARN rate: rate clipped 18 samples; decrease volume?\r\n",
      "sox WARN dither: dither clipped 17 samples; decrease volume?\r\n"
     ]
    },
    {
     "name": "stderr",
     "output_type": "stream",
     "text": [
      "\r",
      "2281it [24:16,  1.31it/s]"
     ]
    },
    {
     "name": "stdout",
     "output_type": "stream",
     "text": [
      "sox WARN rate: rate clipped 33 samples; decrease volume?\r\n",
      "sox WARN dither: dither clipped 28 samples; decrease volume?\r\n"
     ]
    },
    {
     "name": "stderr",
     "output_type": "stream",
     "text": [
      "2284it [24:18,  1.22it/s]"
     ]
    },
    {
     "name": "stdout",
     "output_type": "stream",
     "text": [
      "sox WARN rate: rate clipped 15 samples; decrease volume?\r\n",
      "sox WARN dither: dither clipped 13 samples; decrease volume?\r\n"
     ]
    },
    {
     "name": "stderr",
     "output_type": "stream",
     "text": [
      "\r",
      "2285it [24:19,  1.36it/s]"
     ]
    },
    {
     "name": "stdout",
     "output_type": "stream",
     "text": [
      "sox WARN rate: rate clipped 19 samples; decrease volume?\r\n",
      "sox WARN dither: dither clipped 18 samples; decrease volume?\r\n"
     ]
    },
    {
     "name": "stderr",
     "output_type": "stream",
     "text": [
      "\r",
      "2286it [24:19,  1.48it/s]"
     ]
    },
    {
     "name": "stdout",
     "output_type": "stream",
     "text": [
      "sox WARN rate: rate clipped 18 samples; decrease volume?\r\n",
      "sox WARN dither: dither clipped 18 samples; decrease volume?\r\n"
     ]
    },
    {
     "name": "stderr",
     "output_type": "stream",
     "text": [
      "\r",
      "2287it [24:20,  1.44it/s]"
     ]
    },
    {
     "name": "stdout",
     "output_type": "stream",
     "text": [
      "sox WARN rate: rate clipped 18 samples; decrease volume?\r\n",
      "sox WARN dither: dither clipped 17 samples; decrease volume?\r\n"
     ]
    },
    {
     "name": "stderr",
     "output_type": "stream",
     "text": [
      "\r",
      "2288it [24:21,  1.54it/s]"
     ]
    },
    {
     "name": "stdout",
     "output_type": "stream",
     "text": [
      "sox WARN rate: rate clipped 4 samples; decrease volume?\r\n",
      "sox WARN dither: dither clipped 4 samples; decrease volume?\r\n"
     ]
    },
    {
     "name": "stderr",
     "output_type": "stream",
     "text": [
      "\r",
      "2289it [24:22,  1.38it/s]"
     ]
    },
    {
     "name": "stdout",
     "output_type": "stream",
     "text": [
      "sox WARN rate: rate clipped 151 samples; decrease volume?\r\n",
      "sox WARN dither: dither clipped 131 samples; decrease volume?\r\n"
     ]
    },
    {
     "name": "stderr",
     "output_type": "stream",
     "text": [
      "2291it [24:23,  1.32it/s]"
     ]
    },
    {
     "name": "stdout",
     "output_type": "stream",
     "text": [
      "sox WARN rate: rate clipped 24 samples; decrease volume?\r\n",
      "sox WARN dither: dither clipped 22 samples; decrease volume?\r\n"
     ]
    },
    {
     "name": "stderr",
     "output_type": "stream",
     "text": [
      "\r",
      "2292it [24:24,  1.44it/s]"
     ]
    },
    {
     "name": "stdout",
     "output_type": "stream",
     "text": [
      "sox WARN rate: rate clipped 19 samples; decrease volume?\r\n",
      "sox WARN dither: dither clipped 17 samples; decrease volume?\r\n"
     ]
    },
    {
     "name": "stderr",
     "output_type": "stream",
     "text": [
      "\r",
      "2293it [24:24,  1.55it/s]"
     ]
    },
    {
     "name": "stdout",
     "output_type": "stream",
     "text": [
      "sox WARN rate: rate clipped 4 samples; decrease volume?\r\n",
      "sox WARN dither: dither clipped 3 samples; decrease volume?\r\n"
     ]
    },
    {
     "name": "stderr",
     "output_type": "stream",
     "text": [
      "\r",
      "2294it [24:25,  1.44it/s]"
     ]
    },
    {
     "name": "stdout",
     "output_type": "stream",
     "text": [
      "sox WARN rate: rate clipped 1 samples; decrease volume?\r\n",
      "sox WARN dither: dither clipped 1 samples; decrease volume?\r\n"
     ]
    },
    {
     "name": "stderr",
     "output_type": "stream",
     "text": [
      "2296it [24:27,  1.26it/s]"
     ]
    },
    {
     "name": "stdout",
     "output_type": "stream",
     "text": [
      "sox WARN rate: rate clipped 38 samples; decrease volume?\r\n",
      "sox WARN dither: dither clipped 33 samples; decrease volume?\r\n"
     ]
    },
    {
     "name": "stderr",
     "output_type": "stream",
     "text": [
      "\r",
      "2297it [24:27,  1.34it/s]"
     ]
    },
    {
     "name": "stdout",
     "output_type": "stream",
     "text": [
      "sox WARN rate: rate clipped 1 samples; decrease volume?\r\n",
      "sox WARN dither: dither clipped 1 samples; decrease volume?\r\n"
     ]
    },
    {
     "name": "stderr",
     "output_type": "stream",
     "text": [
      "\r",
      "2298it [24:28,  1.46it/s]"
     ]
    },
    {
     "name": "stdout",
     "output_type": "stream",
     "text": [
      "sox WARN rate: rate clipped 135 samples; decrease volume?\r\n",
      "sox WARN dither: dither clipped 118 samples; decrease volume?\r\n"
     ]
    },
    {
     "name": "stderr",
     "output_type": "stream",
     "text": [
      "\r",
      "2299it [24:29,  1.31it/s]"
     ]
    },
    {
     "name": "stdout",
     "output_type": "stream",
     "text": [
      "sox WARN rate: rate clipped 18 samples; decrease volume?\r\n",
      "sox WARN dither: dither clipped 17 samples; decrease volume?\r\n"
     ]
    },
    {
     "name": "stderr",
     "output_type": "stream",
     "text": [
      "\r",
      "2300it [24:29,  1.44it/s]"
     ]
    },
    {
     "name": "stdout",
     "output_type": "stream",
     "text": [
      "sox WARN rate: rate clipped 18 samples; decrease volume?\r\n",
      "sox WARN dither: dither clipped 13 samples; decrease volume?\r\n"
     ]
    },
    {
     "name": "stderr",
     "output_type": "stream",
     "text": [
      "\r",
      "2301it [24:30,  1.54it/s]"
     ]
    },
    {
     "name": "stdout",
     "output_type": "stream",
     "text": [
      "sox WARN rate: rate clipped 23 samples; decrease volume?\r\n",
      "sox WARN dither: dither clipped 21 samples; decrease volume?\r\n"
     ]
    },
    {
     "name": "stderr",
     "output_type": "stream",
     "text": [
      "2303it [24:31,  1.40it/s]"
     ]
    },
    {
     "name": "stdout",
     "output_type": "stream",
     "text": [
      "sox WARN rate: rate clipped 42 samples; decrease volume?\r\n",
      "sox WARN dither: dither clipped 39 samples; decrease volume?\r\n"
     ]
    },
    {
     "name": "stderr",
     "output_type": "stream",
     "text": [
      "\r",
      "2304it [24:32,  1.42it/s]"
     ]
    },
    {
     "name": "stdout",
     "output_type": "stream",
     "text": [
      "sox WARN rate: rate clipped 4 samples; decrease volume?\r\n",
      "sox WARN dither: dither clipped 4 samples; decrease volume?\r\n"
     ]
    },
    {
     "name": "stderr",
     "output_type": "stream",
     "text": [
      "2306it [24:34,  1.25it/s]"
     ]
    },
    {
     "name": "stdout",
     "output_type": "stream",
     "text": [
      "sox WARN rate: rate clipped 1 samples; decrease volume?\r\n",
      "sox WARN dither: dither clipped 1 samples; decrease volume?\r\n"
     ]
    },
    {
     "name": "stderr",
     "output_type": "stream",
     "text": [
      "\r",
      "2307it [24:35,  1.19it/s]"
     ]
    },
    {
     "name": "stdout",
     "output_type": "stream",
     "text": [
      "sox WARN rate: rate clipped 19 samples; decrease volume?\r\n",
      "sox WARN dither: dither clipped 18 samples; decrease volume?\r\n"
     ]
    },
    {
     "name": "stderr",
     "output_type": "stream",
     "text": [
      "\r",
      "2308it [24:35,  1.33it/s]"
     ]
    },
    {
     "name": "stdout",
     "output_type": "stream",
     "text": [
      "sox WARN rate: rate clipped 18 samples; decrease volume?\r\n",
      "sox WARN dither: dither clipped 15 samples; decrease volume?\r\n"
     ]
    },
    {
     "name": "stderr",
     "output_type": "stream",
     "text": [
      "\r",
      "2309it [24:36,  1.45it/s]"
     ]
    },
    {
     "name": "stdout",
     "output_type": "stream",
     "text": [
      "sox WARN rate: rate clipped 36 samples; decrease volume?\r\n",
      "sox WARN dither: dither clipped 28 samples; decrease volume?\r\n"
     ]
    },
    {
     "name": "stderr",
     "output_type": "stream",
     "text": [
      "2311it [24:38,  1.22it/s]"
     ]
    },
    {
     "name": "stdout",
     "output_type": "stream",
     "text": [
      "sox WARN rate: rate clipped 2 samples; decrease volume?\r\n",
      "sox WARN dither: dither clipped 2 samples; decrease volume?\r\n"
     ]
    },
    {
     "name": "stderr",
     "output_type": "stream",
     "text": [
      "2313it [24:39,  1.30it/s]"
     ]
    },
    {
     "name": "stdout",
     "output_type": "stream",
     "text": [
      "sox WARN rate: rate clipped 497 samples; decrease volume?\r\n",
      "sox WARN dither: dither clipped 446 samples; decrease volume?\r\n"
     ]
    },
    {
     "name": "stderr",
     "output_type": "stream",
     "text": [
      "\r",
      "2314it [24:40,  1.22it/s]"
     ]
    },
    {
     "name": "stdout",
     "output_type": "stream",
     "text": [
      "sox WARN rate: rate clipped 3 samples; decrease volume?\r\n",
      "sox WARN dither: dither clipped 3 samples; decrease volume?\r\n"
     ]
    },
    {
     "name": "stderr",
     "output_type": "stream",
     "text": [
      "2318it [24:44,  1.10it/s]"
     ]
    },
    {
     "name": "stdout",
     "output_type": "stream",
     "text": [
      "sox WARN rate: rate clipped 2 samples; decrease volume?\r\n",
      "sox WARN dither: dither clipped 2 samples; decrease volume?\r\n"
     ]
    },
    {
     "name": "stderr",
     "output_type": "stream",
     "text": [
      "\r",
      "2319it [24:45,  1.14it/s]"
     ]
    },
    {
     "name": "stdout",
     "output_type": "stream",
     "text": [
      "sox WARN rate: rate clipped 8 samples; decrease volume?\r\n",
      "sox WARN dither: dither clipped 8 samples; decrease volume?\r\n"
     ]
    },
    {
     "name": "stderr",
     "output_type": "stream",
     "text": [
      "\r",
      "2320it [24:46,  1.18it/s]"
     ]
    },
    {
     "name": "stdout",
     "output_type": "stream",
     "text": [
      "sox WARN rate: rate clipped 105 samples; decrease volume?\r\n",
      "sox WARN dither: dither clipped 93 samples; decrease volume?\r\n"
     ]
    },
    {
     "name": "stderr",
     "output_type": "stream",
     "text": [
      "\r",
      "2321it [24:46,  1.31it/s]"
     ]
    },
    {
     "name": "stdout",
     "output_type": "stream",
     "text": [
      "sox WARN rate: rate clipped 17 samples; decrease volume?\r\n",
      "sox WARN dither: dither clipped 15 samples; decrease volume?\r\n"
     ]
    },
    {
     "name": "stderr",
     "output_type": "stream",
     "text": [
      "\r",
      "2322it [24:47,  1.44it/s]"
     ]
    },
    {
     "name": "stdout",
     "output_type": "stream",
     "text": [
      "sox WARN rate: rate clipped 10 samples; decrease volume?\r\n",
      "sox WARN dither: dither clipped 10 samples; decrease volume?\r\n"
     ]
    },
    {
     "name": "stderr",
     "output_type": "stream",
     "text": [
      "\r",
      "2323it [24:47,  1.38it/s]"
     ]
    },
    {
     "name": "stdout",
     "output_type": "stream",
     "text": [
      "sox WARN rate: rate clipped 17 samples; decrease volume?\r\n",
      "sox WARN dither: dither clipped 16 samples; decrease volume?\r\n"
     ]
    },
    {
     "name": "stderr",
     "output_type": "stream",
     "text": [
      "\r",
      "2324it [24:48,  1.49it/s]"
     ]
    },
    {
     "name": "stdout",
     "output_type": "stream",
     "text": [
      "sox WARN rate: rate clipped 27 samples; decrease volume?\r\n",
      "sox WARN dither: dither clipped 23 samples; decrease volume?\r\n"
     ]
    },
    {
     "name": "stderr",
     "output_type": "stream",
     "text": [
      "\r",
      "2325it [24:48,  1.66it/s]"
     ]
    },
    {
     "name": "stdout",
     "output_type": "stream",
     "text": [
      "sox WARN rate: rate clipped 3 samples; decrease volume?\r\n",
      "sox WARN dither: dither clipped 3 samples; decrease volume?\r\n"
     ]
    },
    {
     "name": "stderr",
     "output_type": "stream",
     "text": [
      "\r",
      "2326it [24:49,  1.50it/s]"
     ]
    },
    {
     "name": "stdout",
     "output_type": "stream",
     "text": [
      "sox WARN rate: rate clipped 28 samples; decrease volume?\r\n",
      "sox WARN dither: dither clipped 25 samples; decrease volume?\r\n"
     ]
    },
    {
     "name": "stderr",
     "output_type": "stream",
     "text": [
      "2328it [24:51,  1.37it/s]"
     ]
    },
    {
     "name": "stdout",
     "output_type": "stream",
     "text": [
      "sox WARN rate: rate clipped 2 samples; decrease volume?\r\n",
      "sox WARN dither: dither clipped 2 samples; decrease volume?\r\n"
     ]
    },
    {
     "name": "stderr",
     "output_type": "stream",
     "text": [
      "2330it [24:52,  1.47it/s]"
     ]
    },
    {
     "name": "stdout",
     "output_type": "stream",
     "text": [
      "sox WARN rate: rate clipped 16 samples; decrease volume?\r\n",
      "sox WARN dither: dither clipped 14 samples; decrease volume?\r\n"
     ]
    },
    {
     "name": "stderr",
     "output_type": "stream",
     "text": [
      "\r",
      "2331it [24:53,  1.32it/s]"
     ]
    },
    {
     "name": "stdout",
     "output_type": "stream",
     "text": [
      "sox WARN rate: rate clipped 85 samples; decrease volume?\r\n",
      "sox WARN dither: dither clipped 74 samples; decrease volume?\r\n"
     ]
    },
    {
     "name": "stderr",
     "output_type": "stream",
     "text": [
      "2334it [24:56,  1.16it/s]"
     ]
    },
    {
     "name": "stdout",
     "output_type": "stream",
     "text": [
      "sox WARN rate: rate clipped 16 samples; decrease volume?\r\n",
      "sox WARN dither: dither clipped 10 samples; decrease volume?\r\n"
     ]
    },
    {
     "name": "stderr",
     "output_type": "stream",
     "text": [
      "\r",
      "2335it [24:56,  1.30it/s]"
     ]
    },
    {
     "name": "stdout",
     "output_type": "stream",
     "text": [
      "sox WARN rate: rate clipped 10 samples; decrease volume?\r\n",
      "sox WARN dither: dither clipped 9 samples; decrease volume?\r\n"
     ]
    },
    {
     "name": "stderr",
     "output_type": "stream",
     "text": [
      "\r",
      "2336it [24:57,  1.33it/s]"
     ]
    },
    {
     "name": "stdout",
     "output_type": "stream",
     "text": [
      "sox WARN rate: rate clipped 21 samples; decrease volume?\r\n",
      "sox WARN dither: dither clipped 19 samples; decrease volume?\r\n"
     ]
    },
    {
     "name": "stderr",
     "output_type": "stream",
     "text": [
      "\r",
      "2337it [24:58,  1.34it/s]"
     ]
    },
    {
     "name": "stdout",
     "output_type": "stream",
     "text": [
      "sox WARN rate: rate clipped 19 samples; decrease volume?\r\n",
      "sox WARN dither: dither clipped 15 samples; decrease volume?\r\n"
     ]
    },
    {
     "name": "stderr",
     "output_type": "stream",
     "text": [
      "\r",
      "2338it [24:58,  1.46it/s]"
     ]
    },
    {
     "name": "stdout",
     "output_type": "stream",
     "text": [
      "sox WARN rate: rate clipped 15 samples; decrease volume?\r\n",
      "sox WARN dither: dither clipped 14 samples; decrease volume?\r\n"
     ]
    },
    {
     "name": "stderr",
     "output_type": "stream",
     "text": [
      "2342it [25:01,  1.24it/s]"
     ]
    },
    {
     "name": "stdout",
     "output_type": "stream",
     "text": [
      "sox WARN rate: rate clipped 15 samples; decrease volume?\r\n",
      "sox WARN dither: dither clipped 13 samples; decrease volume?\r\n"
     ]
    },
    {
     "name": "stderr",
     "output_type": "stream",
     "text": [
      "\r",
      "2343it [25:02,  1.35it/s]"
     ]
    },
    {
     "name": "stdout",
     "output_type": "stream",
     "text": [
      "sox WARN rate: rate clipped 18 samples; decrease volume?\r\n",
      "sox WARN dither: dither clipped 15 samples; decrease volume?\r\n"
     ]
    },
    {
     "name": "stderr",
     "output_type": "stream",
     "text": [
      "\r",
      "2344it [25:03,  1.24it/s]"
     ]
    },
    {
     "name": "stdout",
     "output_type": "stream",
     "text": [
      "sox WARN rate: rate clipped 23 samples; decrease volume?\r\n",
      "sox WARN dither: dither clipped 21 samples; decrease volume?\r\n"
     ]
    },
    {
     "name": "stderr",
     "output_type": "stream",
     "text": [
      "2346it [25:04,  1.29it/s]"
     ]
    },
    {
     "name": "stdout",
     "output_type": "stream",
     "text": [
      "sox WARN rate: rate clipped 39 samples; decrease volume?\r\n",
      "sox WARN dither: dither clipped 36 samples; decrease volume?\r\n"
     ]
    },
    {
     "name": "stderr",
     "output_type": "stream",
     "text": [
      "\r",
      "2347it [25:05,  1.27it/s]"
     ]
    },
    {
     "name": "stdout",
     "output_type": "stream",
     "text": [
      "sox WARN rate: rate clipped 17 samples; decrease volume?\r\n",
      "sox WARN dither: dither clipped 15 samples; decrease volume?\r\n"
     ]
    },
    {
     "name": "stderr",
     "output_type": "stream",
     "text": [
      "2350it [25:07,  1.38it/s]"
     ]
    },
    {
     "name": "stdout",
     "output_type": "stream",
     "text": [
      "sox WARN rate: rate clipped 3 samples; decrease volume?\r\n",
      "sox WARN dither: dither clipped 2 samples; decrease volume?\r\n"
     ]
    },
    {
     "name": "stderr",
     "output_type": "stream",
     "text": [
      "2352it [25:09,  1.26it/s]"
     ]
    },
    {
     "name": "stdout",
     "output_type": "stream",
     "text": [
      "sox WARN rate: rate clipped 73 samples; decrease volume?\r\n",
      "sox WARN dither: dither clipped 64 samples; decrease volume?\r\n"
     ]
    },
    {
     "name": "stderr",
     "output_type": "stream",
     "text": [
      "\r",
      "2353it [25:10,  1.33it/s]"
     ]
    },
    {
     "name": "stdout",
     "output_type": "stream",
     "text": [
      "sox WARN rate: rate clipped 18 samples; decrease volume?\r\n",
      "sox WARN dither: dither clipped 17 samples; decrease volume?\r\n"
     ]
    },
    {
     "name": "stderr",
     "output_type": "stream",
     "text": [
      "2355it [25:11,  1.31it/s]"
     ]
    },
    {
     "name": "stdout",
     "output_type": "stream",
     "text": [
      "sox WARN rate: rate clipped 18 samples; decrease volume?\r\n",
      "sox WARN dither: dither clipped 16 samples; decrease volume?\r\n"
     ]
    },
    {
     "name": "stderr",
     "output_type": "stream",
     "text": [
      "2358it [25:14,  1.21it/s]"
     ]
    },
    {
     "name": "stdout",
     "output_type": "stream",
     "text": [
      "sox WARN rate: rate clipped 1 samples; decrease volume?\r\n",
      "sox WARN dither: dither clipped 1 samples; decrease volume?\r\n"
     ]
    },
    {
     "name": "stderr",
     "output_type": "stream",
     "text": [
      "\r",
      "2359it [25:14,  1.17it/s]"
     ]
    },
    {
     "name": "stdout",
     "output_type": "stream",
     "text": [
      "sox WARN rate: rate clipped 17 samples; decrease volume?\r\n",
      "sox WARN dither: dither clipped 14 samples; decrease volume?\r\n"
     ]
    },
    {
     "name": "stderr",
     "output_type": "stream",
     "text": [
      "2361it [25:16,  1.23it/s]"
     ]
    },
    {
     "name": "stdout",
     "output_type": "stream",
     "text": [
      "sox WARN rate: rate clipped 18 samples; decrease volume?\r\n",
      "sox WARN dither: dither clipped 16 samples; decrease volume?\r\n"
     ]
    },
    {
     "name": "stderr",
     "output_type": "stream",
     "text": [
      "\r",
      "2362it [25:16,  1.37it/s]"
     ]
    },
    {
     "name": "stdout",
     "output_type": "stream",
     "text": [
      "sox WARN rate: rate clipped 55 samples; decrease volume?\r\n",
      "sox WARN dither: dither clipped 46 samples; decrease volume?\r\n"
     ]
    },
    {
     "name": "stderr",
     "output_type": "stream",
     "text": [
      "\r",
      "2363it [25:17,  1.37it/s]"
     ]
    },
    {
     "name": "stdout",
     "output_type": "stream",
     "text": [
      "sox WARN rate: rate clipped 16 samples; decrease volume?\r\n",
      "sox WARN dither: dither clipped 14 samples; decrease volume?\r\n"
     ]
    },
    {
     "name": "stderr",
     "output_type": "stream",
     "text": [
      "\r",
      "2364it [25:18,  1.26it/s]"
     ]
    },
    {
     "name": "stdout",
     "output_type": "stream",
     "text": [
      "sox WARN rate: rate clipped 24 samples; decrease volume?\r\n",
      "sox WARN dither: dither clipped 22 samples; decrease volume?\r\n"
     ]
    },
    {
     "name": "stderr",
     "output_type": "stream",
     "text": [
      "\r",
      "2365it [25:19,  1.45it/s]"
     ]
    },
    {
     "name": "stdout",
     "output_type": "stream",
     "text": [
      "sox WARN rate: rate clipped 45 samples; decrease volume?\r\n",
      "sox WARN dither: dither clipped 40 samples; decrease volume?\r\n"
     ]
    },
    {
     "name": "stderr",
     "output_type": "stream",
     "text": [
      "2367it [25:20,  1.32it/s]"
     ]
    },
    {
     "name": "stdout",
     "output_type": "stream",
     "text": [
      "sox WARN rate: rate clipped 16 samples; decrease volume?\r\n",
      "sox WARN dither: dither clipped 14 samples; decrease volume?\r\n"
     ]
    },
    {
     "name": "stderr",
     "output_type": "stream",
     "text": [
      "\r",
      "2368it [25:21,  1.45it/s]"
     ]
    },
    {
     "name": "stdout",
     "output_type": "stream",
     "text": [
      "sox WARN rate: rate clipped 23 samples; decrease volume?\r\n",
      "sox WARN dither: dither clipped 20 samples; decrease volume?\r\n"
     ]
    },
    {
     "name": "stderr",
     "output_type": "stream",
     "text": [
      "\r",
      "2369it [25:21,  1.48it/s]"
     ]
    },
    {
     "name": "stdout",
     "output_type": "stream",
     "text": [
      "sox WARN rate: rate clipped 74 samples; decrease volume?\r\n",
      "sox WARN dither: dither clipped 61 samples; decrease volume?\r\n"
     ]
    },
    {
     "name": "stderr",
     "output_type": "stream",
     "text": [
      "2371it [25:23,  1.37it/s]"
     ]
    },
    {
     "name": "stdout",
     "output_type": "stream",
     "text": [
      "sox WARN rate: rate clipped 22 samples; decrease volume?\r\n",
      "sox WARN dither: dither clipped 15 samples; decrease volume?\r\n"
     ]
    },
    {
     "name": "stderr",
     "output_type": "stream",
     "text": [
      "\r",
      "2372it [25:24,  1.26it/s]"
     ]
    },
    {
     "name": "stdout",
     "output_type": "stream",
     "text": [
      "sox WARN rate: rate clipped 18 samples; decrease volume?\r\n",
      "sox WARN dither: dither clipped 17 samples; decrease volume?\r\n"
     ]
    },
    {
     "name": "stderr",
     "output_type": "stream",
     "text": [
      "\r",
      "2373it [25:24,  1.39it/s]"
     ]
    },
    {
     "name": "stdout",
     "output_type": "stream",
     "text": [
      "sox WARN rate: rate clipped 3 samples; decrease volume?\r\n",
      "sox WARN dither: dither clipped 2 samples; decrease volume?\r\n"
     ]
    },
    {
     "name": "stderr",
     "output_type": "stream",
     "text": [
      "2375it [25:26,  1.27it/s]"
     ]
    },
    {
     "name": "stdout",
     "output_type": "stream",
     "text": [
      "sox WARN rate: rate clipped 17 samples; decrease volume?\r\n",
      "sox WARN dither: dither clipped 16 samples; decrease volume?\r\n"
     ]
    },
    {
     "name": "stderr",
     "output_type": "stream",
     "text": [
      "\r",
      "2376it [25:27,  1.40it/s]"
     ]
    },
    {
     "name": "stdout",
     "output_type": "stream",
     "text": [
      "sox WARN rate: rate clipped 11 samples; decrease volume?\r\n",
      "sox WARN dither: dither clipped 9 samples; decrease volume?\r\n"
     ]
    },
    {
     "name": "stderr",
     "output_type": "stream",
     "text": [
      "\r",
      "2377it [25:27,  1.52it/s]"
     ]
    },
    {
     "name": "stdout",
     "output_type": "stream",
     "text": [
      "sox WARN rate: rate clipped 2 samples; decrease volume?\r\n",
      "sox WARN dither: dither clipped 1 samples; decrease volume?\r\n"
     ]
    },
    {
     "name": "stderr",
     "output_type": "stream",
     "text": [
      "\r",
      "2378it [25:28,  1.35it/s]"
     ]
    },
    {
     "name": "stdout",
     "output_type": "stream",
     "text": [
      "sox WARN rate: rate clipped 17 samples; decrease volume?\r\n",
      "sox WARN dither: dither clipped 15 samples; decrease volume?\r\n"
     ]
    },
    {
     "name": "stderr",
     "output_type": "stream",
     "text": [
      "\r",
      "2379it [25:29,  1.46it/s]"
     ]
    },
    {
     "name": "stdout",
     "output_type": "stream",
     "text": [
      "sox WARN rate: rate clipped 19 samples; decrease volume?\r\n",
      "sox WARN dither: dither clipped 19 samples; decrease volume?\r\n"
     ]
    },
    {
     "name": "stderr",
     "output_type": "stream",
     "text": [
      "\r",
      "2380it [25:29,  1.40it/s]"
     ]
    },
    {
     "name": "stdout",
     "output_type": "stream",
     "text": [
      "sox WARN rate: rate clipped 16 samples; decrease volume?\r\n",
      "sox WARN dither: dither clipped 14 samples; decrease volume?\r\n"
     ]
    },
    {
     "name": "stderr",
     "output_type": "stream",
     "text": [
      "\r",
      "2381it [25:30,  1.51it/s]"
     ]
    },
    {
     "name": "stdout",
     "output_type": "stream",
     "text": [
      "sox WARN rate: rate clipped 10 samples; decrease volume?\r\n",
      "sox WARN dither: dither clipped 10 samples; decrease volume?\r\n"
     ]
    },
    {
     "name": "stderr",
     "output_type": "stream",
     "text": [
      "\r",
      "2382it [25:31,  1.45it/s]"
     ]
    },
    {
     "name": "stdout",
     "output_type": "stream",
     "text": [
      "sox WARN rate: rate clipped 384 samples; decrease volume?\r\n",
      "sox WARN dither: dither clipped 346 samples; decrease volume?\r\n"
     ]
    },
    {
     "name": "stderr",
     "output_type": "stream",
     "text": [
      "\r",
      "2383it [25:31,  1.54it/s]"
     ]
    },
    {
     "name": "stdout",
     "output_type": "stream",
     "text": [
      "sox WARN rate: rate clipped 16 samples; decrease volume?\r\n",
      "sox WARN dither: dither clipped 15 samples; decrease volume?\r\n"
     ]
    },
    {
     "name": "stderr",
     "output_type": "stream",
     "text": [
      "\r",
      "2384it [25:32,  1.61it/s]"
     ]
    },
    {
     "name": "stdout",
     "output_type": "stream",
     "text": [
      "sox WARN rate: rate clipped 14 samples; decrease volume?\r\n",
      "sox WARN dither: dither clipped 12 samples; decrease volume?\r\n"
     ]
    },
    {
     "name": "stderr",
     "output_type": "stream",
     "text": [
      "2387it [25:35,  1.20it/s]"
     ]
    },
    {
     "name": "stdout",
     "output_type": "stream",
     "text": [
      "sox WARN rate: rate clipped 18 samples; decrease volume?\r\n",
      "sox WARN dither: dither clipped 16 samples; decrease volume?\r\n"
     ]
    },
    {
     "name": "stderr",
     "output_type": "stream",
     "text": [
      "\r",
      "2388it [25:35,  1.34it/s]"
     ]
    },
    {
     "name": "stdout",
     "output_type": "stream",
     "text": [
      "sox WARN rate: rate clipped 2 samples; decrease volume?\r\n",
      "sox WARN dither: dither clipped 2 samples; decrease volume?\r\n"
     ]
    },
    {
     "name": "stderr",
     "output_type": "stream",
     "text": [
      "\r",
      "2389it [25:36,  1.44it/s]"
     ]
    },
    {
     "name": "stdout",
     "output_type": "stream",
     "text": [
      "sox WARN rate: rate clipped 20 samples; decrease volume?\r\n",
      "sox WARN dither: dither clipped 18 samples; decrease volume?\r\n"
     ]
    },
    {
     "name": "stderr",
     "output_type": "stream",
     "text": [
      "2391it [25:38,  1.22it/s]"
     ]
    },
    {
     "name": "stdout",
     "output_type": "stream",
     "text": [
      "sox WARN rate: rate clipped 19 samples; decrease volume?\r\n",
      "sox WARN dither: dither clipped 17 samples; decrease volume?\r\n"
     ]
    },
    {
     "name": "stderr",
     "output_type": "stream",
     "text": [
      "\r",
      "2392it [25:38,  1.36it/s]"
     ]
    },
    {
     "name": "stdout",
     "output_type": "stream",
     "text": [
      "sox WARN rate: rate clipped 18 samples; decrease volume?\r\n",
      "sox WARN dither: dither clipped 13 samples; decrease volume?\r\n"
     ]
    },
    {
     "name": "stderr",
     "output_type": "stream",
     "text": [
      "2395it [25:41,  1.25it/s]"
     ]
    },
    {
     "name": "stdout",
     "output_type": "stream",
     "text": [
      "sox WARN rate: rate clipped 17 samples; decrease volume?\r\n",
      "sox WARN dither: dither clipped 16 samples; decrease volume?\r\n"
     ]
    },
    {
     "name": "stderr",
     "output_type": "stream",
     "text": [
      "\r",
      "2396it [25:41,  1.38it/s]"
     ]
    },
    {
     "name": "stdout",
     "output_type": "stream",
     "text": [
      "sox WARN rate: rate clipped 320 samples; decrease volume?\r\n",
      "sox WARN dither: dither clipped 282 samples; decrease volume?\r\n"
     ]
    },
    {
     "name": "stderr",
     "output_type": "stream",
     "text": [
      "\r",
      "2397it [25:42,  1.38it/s]"
     ]
    },
    {
     "name": "stdout",
     "output_type": "stream",
     "text": [
      "sox WARN rate: rate clipped 17 samples; decrease volume?\r\n",
      "sox WARN dither: dither clipped 14 samples; decrease volume?\r\n"
     ]
    },
    {
     "name": "stderr",
     "output_type": "stream",
     "text": [
      "\r",
      "2398it [25:42,  1.49it/s]"
     ]
    },
    {
     "name": "stdout",
     "output_type": "stream",
     "text": [
      "sox WARN rate: rate clipped 2 samples; decrease volume?\r\n",
      "sox WARN dither: dither clipped 2 samples; decrease volume?\r\n"
     ]
    },
    {
     "name": "stderr",
     "output_type": "stream",
     "text": [
      "\r",
      "2399it [25:43,  1.54it/s]"
     ]
    },
    {
     "name": "stdout",
     "output_type": "stream",
     "text": [
      "sox WARN rate: rate clipped 13 samples; decrease volume?\r\n",
      "sox WARN dither: dither clipped 10 samples; decrease volume?\r\n"
     ]
    },
    {
     "name": "stderr",
     "output_type": "stream",
     "text": [
      "\r",
      "2400it [25:43,  1.74it/s]"
     ]
    },
    {
     "name": "stdout",
     "output_type": "stream",
     "text": [
      "sox WARN rate: rate clipped 18 samples; decrease volume?\r\n",
      "sox WARN dither: dither clipped 14 samples; decrease volume?\r\n"
     ]
    },
    {
     "name": "stderr",
     "output_type": "stream",
     "text": [
      "\r",
      "2401it [25:44,  1.76it/s]"
     ]
    },
    {
     "name": "stdout",
     "output_type": "stream",
     "text": [
      "sox WARN rate: rate clipped 18 samples; decrease volume?\r\n",
      "sox WARN dither: dither clipped 16 samples; decrease volume?\r\n"
     ]
    },
    {
     "name": "stderr",
     "output_type": "stream",
     "text": [
      "\r",
      "2402it [25:45,  1.47it/s]"
     ]
    },
    {
     "name": "stdout",
     "output_type": "stream",
     "text": [
      "sox WARN rate: rate clipped 79 samples; decrease volume?\r\n",
      "sox WARN dither: dither clipped 69 samples; decrease volume?\r\n"
     ]
    },
    {
     "name": "stderr",
     "output_type": "stream",
     "text": [
      "\r",
      "2403it [25:46,  1.48it/s]"
     ]
    },
    {
     "name": "stdout",
     "output_type": "stream",
     "text": [
      "sox WARN rate: rate clipped 17 samples; decrease volume?\r\n",
      "sox WARN dither: dither clipped 17 samples; decrease volume?\r\n"
     ]
    },
    {
     "name": "stderr",
     "output_type": "stream",
     "text": [
      "\r",
      "2404it [25:46,  1.58it/s]"
     ]
    },
    {
     "name": "stdout",
     "output_type": "stream",
     "text": [
      "sox WARN rate: rate clipped 18 samples; decrease volume?\r\n",
      "sox WARN dither: dither clipped 16 samples; decrease volume?\r\n"
     ]
    },
    {
     "name": "stderr",
     "output_type": "stream",
     "text": [
      "\r",
      "2405it [25:47,  1.64it/s]"
     ]
    },
    {
     "name": "stdout",
     "output_type": "stream",
     "text": [
      "sox WARN rate: rate clipped 1 samples; decrease volume?\r\n",
      "sox WARN dither: dither clipped 1 samples; decrease volume?\r\n"
     ]
    },
    {
     "name": "stderr",
     "output_type": "stream",
     "text": [
      "\r",
      "2406it [25:47,  1.61it/s]"
     ]
    },
    {
     "name": "stdout",
     "output_type": "stream",
     "text": [
      "sox WARN rate: rate clipped 716 samples; decrease volume?\r\n",
      "sox WARN dither: dither clipped 619 samples; decrease volume?\r\n"
     ]
    },
    {
     "name": "stderr",
     "output_type": "stream",
     "text": [
      "\r",
      "2407it [25:48,  1.40it/s]"
     ]
    },
    {
     "name": "stdout",
     "output_type": "stream",
     "text": [
      "sox WARN rate: rate clipped 5 samples; decrease volume?\r\n",
      "sox WARN dither: dither clipped 5 samples; decrease volume?\r\n"
     ]
    },
    {
     "name": "stderr",
     "output_type": "stream",
     "text": [
      "\r",
      "2408it [25:49,  1.38it/s]"
     ]
    },
    {
     "name": "stdout",
     "output_type": "stream",
     "text": [
      "sox WARN rate: rate clipped 8 samples; decrease volume?\r\n",
      "sox WARN dither: dither clipped 7 samples; decrease volume?\r\n"
     ]
    },
    {
     "name": "stderr",
     "output_type": "stream",
     "text": [
      "\r",
      "2409it [25:50,  1.34it/s]"
     ]
    },
    {
     "name": "stdout",
     "output_type": "stream",
     "text": [
      "sox WARN rate: rate clipped 15 samples; decrease volume?\r\n",
      "sox WARN dither: dither clipped 12 samples; decrease volume?\r\n"
     ]
    },
    {
     "name": "stderr",
     "output_type": "stream",
     "text": [
      "\r",
      "2410it [25:50,  1.45it/s]"
     ]
    },
    {
     "name": "stdout",
     "output_type": "stream",
     "text": [
      "sox WARN rate: rate clipped 2 samples; decrease volume?\r\n",
      "sox WARN dither: dither clipped 2 samples; decrease volume?\r\n"
     ]
    },
    {
     "name": "stderr",
     "output_type": "stream",
     "text": [
      "2412it [25:52,  1.22it/s]"
     ]
    },
    {
     "name": "stdout",
     "output_type": "stream",
     "text": [
      "sox WARN rate: rate clipped 17 samples; decrease volume?\r\n",
      "sox WARN dither: dither clipped 16 samples; decrease volume?\r\n"
     ]
    },
    {
     "name": "stderr",
     "output_type": "stream",
     "text": [
      "\r",
      "2413it [25:53,  1.36it/s]"
     ]
    },
    {
     "name": "stdout",
     "output_type": "stream",
     "text": [
      "sox WARN rate: rate clipped 18 samples; decrease volume?\r\n",
      "sox WARN dither: dither clipped 16 samples; decrease volume?\r\n"
     ]
    },
    {
     "name": "stderr",
     "output_type": "stream",
     "text": [
      "\r",
      "2414it [25:53,  1.47it/s]"
     ]
    },
    {
     "name": "stdout",
     "output_type": "stream",
     "text": [
      "sox WARN rate: rate clipped 18 samples; decrease volume?\r\n",
      "sox WARN dither: dither clipped 15 samples; decrease volume?\r\n"
     ]
    },
    {
     "name": "stderr",
     "output_type": "stream",
     "text": [
      "\r",
      "2415it [25:54,  1.57it/s]"
     ]
    },
    {
     "name": "stdout",
     "output_type": "stream",
     "text": [
      "sox WARN rate: rate clipped 45 samples; decrease volume?\r\n",
      "sox WARN dither: dither clipped 39 samples; decrease volume?\r\n"
     ]
    },
    {
     "name": "stderr",
     "output_type": "stream",
     "text": [
      "\r",
      "2416it [25:54,  1.69it/s]"
     ]
    },
    {
     "name": "stdout",
     "output_type": "stream",
     "text": [
      "sox WARN rate: rate clipped 7 samples; decrease volume?\r\n",
      "sox WARN dither: dither clipped 7 samples; decrease volume?\r\n"
     ]
    },
    {
     "name": "stderr",
     "output_type": "stream",
     "text": [
      "\r",
      "2417it [25:55,  1.63it/s]"
     ]
    },
    {
     "name": "stdout",
     "output_type": "stream",
     "text": [
      "sox WARN rate: rate clipped 18 samples; decrease volume?\r\n",
      "sox WARN dither: dither clipped 16 samples; decrease volume?\r\n"
     ]
    },
    {
     "name": "stderr",
     "output_type": "stream",
     "text": [
      "\r",
      "2418it [25:56,  1.69it/s]"
     ]
    },
    {
     "name": "stdout",
     "output_type": "stream",
     "text": [
      "sox WARN rate: rate clipped 5 samples; decrease volume?\r\n",
      "sox WARN dither: dither clipped 4 samples; decrease volume?\r\n"
     ]
    },
    {
     "name": "stderr",
     "output_type": "stream",
     "text": [
      "\r",
      "2419it [25:56,  1.52it/s]"
     ]
    },
    {
     "name": "stdout",
     "output_type": "stream",
     "text": [
      "sox WARN rate: rate clipped 3 samples; decrease volume?\r\n",
      "sox WARN dither: dither clipped 2 samples; decrease volume?\r\n"
     ]
    },
    {
     "name": "stderr",
     "output_type": "stream",
     "text": [
      "\r",
      "2420it [25:57,  1.34it/s]"
     ]
    },
    {
     "name": "stdout",
     "output_type": "stream",
     "text": [
      "sox WARN rate: rate clipped 4 samples; decrease volume?\r\n",
      "sox WARN dither: dither clipped 3 samples; decrease volume?\r\n"
     ]
    },
    {
     "name": "stderr",
     "output_type": "stream",
     "text": [
      "\r",
      "2421it [25:58,  1.43it/s]"
     ]
    },
    {
     "name": "stdout",
     "output_type": "stream",
     "text": [
      "sox WARN rate: rate clipped 17 samples; decrease volume?\r\n",
      "sox WARN dither: dither clipped 16 samples; decrease volume?\r\n"
     ]
    },
    {
     "name": "stderr",
     "output_type": "stream",
     "text": [
      "\r",
      "2422it [25:59,  1.53it/s]"
     ]
    },
    {
     "name": "stdout",
     "output_type": "stream",
     "text": [
      "sox WARN rate: rate clipped 18 samples; decrease volume?\r\n",
      "sox WARN dither: dither clipped 15 samples; decrease volume?\r\n"
     ]
    },
    {
     "name": "stderr",
     "output_type": "stream",
     "text": [
      "\r",
      "2423it [25:59,  1.62it/s]"
     ]
    },
    {
     "name": "stdout",
     "output_type": "stream",
     "text": [
      "sox WARN rate: rate clipped 83 samples; decrease volume?\r\n",
      "sox WARN dither: dither clipped 76 samples; decrease volume?\r\n"
     ]
    },
    {
     "name": "stderr",
     "output_type": "stream",
     "text": [
      "2425it [26:01,  1.43it/s]"
     ]
    },
    {
     "name": "stdout",
     "output_type": "stream",
     "text": [
      "sox WARN rate: rate clipped 7 samples; decrease volume?\r\n",
      "sox WARN dither: dither clipped 5 samples; decrease volume?\r\n"
     ]
    },
    {
     "name": "stderr",
     "output_type": "stream",
     "text": [
      "2427it [26:03,  1.21it/s]"
     ]
    },
    {
     "name": "stdout",
     "output_type": "stream",
     "text": [
      "sox WARN rate: rate clipped 22 samples; decrease volume?\r\n",
      "sox WARN dither: dither clipped 19 samples; decrease volume?\r\n"
     ]
    },
    {
     "name": "stderr",
     "output_type": "stream",
     "text": [
      "\r",
      "2428it [26:03,  1.19it/s]"
     ]
    },
    {
     "name": "stdout",
     "output_type": "stream",
     "text": [
      "sox WARN rate: rate clipped 7 samples; decrease volume?\r\n",
      "sox WARN dither: dither clipped 7 samples; decrease volume?\r\n"
     ]
    },
    {
     "name": "stderr",
     "output_type": "stream",
     "text": [
      "\r",
      "2429it [26:04,  1.23it/s]"
     ]
    },
    {
     "name": "stdout",
     "output_type": "stream",
     "text": [
      "sox WARN rate: rate clipped 18 samples; decrease volume?\r\n",
      "sox WARN dither: dither clipped 15 samples; decrease volume?\r\n"
     ]
    },
    {
     "name": "stderr",
     "output_type": "stream",
     "text": [
      "\r",
      "2430it [26:05,  1.18it/s]"
     ]
    },
    {
     "name": "stdout",
     "output_type": "stream",
     "text": [
      "sox WARN rate: rate clipped 18 samples; decrease volume?\r\n",
      "sox WARN dither: dither clipped 15 samples; decrease volume?\r\n"
     ]
    },
    {
     "name": "stderr",
     "output_type": "stream",
     "text": [
      "\r",
      "2431it [26:06,  1.31it/s]"
     ]
    },
    {
     "name": "stdout",
     "output_type": "stream",
     "text": [
      "sox WARN rate: rate clipped 168 samples; decrease volume?\r\n",
      "sox WARN dither: dither clipped 154 samples; decrease volume?\r\n"
     ]
    },
    {
     "name": "stderr",
     "output_type": "stream",
     "text": [
      "\r",
      "2432it [26:06,  1.37it/s]"
     ]
    },
    {
     "name": "stdout",
     "output_type": "stream",
     "text": [
      "sox WARN rate: rate clipped 6 samples; decrease volume?\r\n",
      "sox WARN dither: dither clipped 5 samples; decrease volume?\r\n"
     ]
    },
    {
     "name": "stderr",
     "output_type": "stream",
     "text": [
      "\r",
      "2433it [26:07,  1.29it/s]"
     ]
    },
    {
     "name": "stdout",
     "output_type": "stream",
     "text": [
      "sox WARN rate: rate clipped 18 samples; decrease volume?\r\n",
      "sox WARN dither: dither clipped 16 samples; decrease volume?\r\n"
     ]
    },
    {
     "name": "stderr",
     "output_type": "stream",
     "text": [
      "\r",
      "2434it [26:08,  1.43it/s]"
     ]
    },
    {
     "name": "stdout",
     "output_type": "stream",
     "text": [
      "sox WARN rate: rate clipped 17 samples; decrease volume?\r\n",
      "sox WARN dither: dither clipped 15 samples; decrease volume?\r\n"
     ]
    },
    {
     "name": "stderr",
     "output_type": "stream",
     "text": [
      "2436it [26:09,  1.30it/s]"
     ]
    },
    {
     "name": "stdout",
     "output_type": "stream",
     "text": [
      "sox WARN rate: rate clipped 17 samples; decrease volume?\r\n",
      "sox WARN dither: dither clipped 13 samples; decrease volume?\r\n"
     ]
    },
    {
     "name": "stderr",
     "output_type": "stream",
     "text": [
      "\r",
      "2437it [26:10,  1.44it/s]"
     ]
    },
    {
     "name": "stdout",
     "output_type": "stream",
     "text": [
      "sox WARN rate: rate clipped 18 samples; decrease volume?\r\n",
      "sox WARN dither: dither clipped 15 samples; decrease volume?\r\n"
     ]
    },
    {
     "name": "stderr",
     "output_type": "stream",
     "text": [
      "2439it [26:11,  1.36it/s]"
     ]
    },
    {
     "name": "stdout",
     "output_type": "stream",
     "text": [
      "sox WARN rate: rate clipped 26 samples; decrease volume?\r\n",
      "sox WARN dither: dither clipped 25 samples; decrease volume?\r\n"
     ]
    },
    {
     "name": "stderr",
     "output_type": "stream",
     "text": [
      "2441it [26:13,  1.18it/s]"
     ]
    },
    {
     "name": "stdout",
     "output_type": "stream",
     "text": [
      "sox WARN rate: rate clipped 13 samples; decrease volume?\r\n",
      "sox WARN dither: dither clipped 13 samples; decrease volume?\r\n"
     ]
    },
    {
     "name": "stderr",
     "output_type": "stream",
     "text": [
      "2443it [26:15,  1.26it/s]"
     ]
    },
    {
     "name": "stdout",
     "output_type": "stream",
     "text": [
      "sox WARN rate: rate clipped 12 samples; decrease volume?\r\n",
      "sox WARN dither: dither clipped 10 samples; decrease volume?\r\n"
     ]
    },
    {
     "name": "stderr",
     "output_type": "stream",
     "text": [
      "\r",
      "2444it [26:16,  1.20it/s]"
     ]
    },
    {
     "name": "stdout",
     "output_type": "stream",
     "text": [
      "sox WARN rate: rate clipped 19 samples; decrease volume?\r\n",
      "sox WARN dither: dither clipped 14 samples; decrease volume?\r\n"
     ]
    },
    {
     "name": "stderr",
     "output_type": "stream",
     "text": [
      "\r",
      "2445it [26:16,  1.34it/s]"
     ]
    },
    {
     "name": "stdout",
     "output_type": "stream",
     "text": [
      "sox WARN rate: rate clipped 19 samples; decrease volume?\r\n",
      "sox WARN dither: dither clipped 15 samples; decrease volume?\r\n"
     ]
    },
    {
     "name": "stderr",
     "output_type": "stream",
     "text": [
      "\r",
      "2446it [26:17,  1.35it/s]"
     ]
    },
    {
     "name": "stdout",
     "output_type": "stream",
     "text": [
      "sox WARN rate: rate clipped 18 samples; decrease volume?\r\n",
      "sox WARN dither: dither clipped 18 samples; decrease volume?\r\n"
     ]
    },
    {
     "name": "stderr",
     "output_type": "stream",
     "text": [
      "2448it [26:18,  1.31it/s]"
     ]
    },
    {
     "name": "stdout",
     "output_type": "stream",
     "text": [
      "sox WARN rate: rate clipped 53 samples; decrease volume?\r\n",
      "sox WARN dither: dither clipped 49 samples; decrease volume?\r\n"
     ]
    },
    {
     "name": "stderr",
     "output_type": "stream",
     "text": [
      "\r",
      "2449it [26:19,  1.23it/s]"
     ]
    },
    {
     "name": "stdout",
     "output_type": "stream",
     "text": [
      "sox WARN rate: rate clipped 22 samples; decrease volume?\r\n",
      "sox WARN dither: dither clipped 21 samples; decrease volume?\r\n"
     ]
    },
    {
     "name": "stderr",
     "output_type": "stream",
     "text": [
      "2452it [26:21,  1.55it/s]\n"
     ]
    }
   ],
   "source": [
    "no_wavs = []\n",
    "for f in tqdm(iglob(os.path.join(PATH, '**'), recursive=True)):\n",
    "    if f.endswith('.sph'):\n",
    "        wav = \"{}{}.wav\".format(PATH_MFA_SWBD, f[-11:-4])\n",
    "        try:\n",
    "            !sox \"$f\" -b 16 -r 16500 -t wav \"$wav\"\n",
    "        except: \n",
    "            no_wavs.append(f)"
   ]
  },
  {
   "cell_type": "code",
   "execution_count": 5,
   "metadata": {},
   "outputs": [],
   "source": [
    "PATH_MFA_NO_WAV = '/Users/jen/Dev/Dissertation/dissertation/Data/SWBD/'"
   ]
  },
  {
   "cell_type": "code",
   "execution_count": 6,
   "metadata": {},
   "outputs": [
    {
     "data": {
      "text/plain": [
       "[]"
      ]
     },
     "execution_count": 6,
     "metadata": {},
     "output_type": "execute_result"
    }
   ],
   "source": [
    "no_wavs"
   ]
  },
  {
   "cell_type": "code",
   "execution_count": null,
   "metadata": {},
   "outputs": [],
   "source": []
  }
 ],
 "metadata": {
  "kernelspec": {
   "display_name": "Python 3",
   "language": "python",
   "name": "python3"
  },
  "language_info": {
   "codemirror_mode": {
    "name": "ipython",
    "version": 3
   },
   "file_extension": ".py",
   "mimetype": "text/x-python",
   "name": "python",
   "nbconvert_exporter": "python",
   "pygments_lexer": "ipython3",
   "version": "3.8.5"
  }
 },
 "nbformat": 4,
 "nbformat_minor": 2
}
