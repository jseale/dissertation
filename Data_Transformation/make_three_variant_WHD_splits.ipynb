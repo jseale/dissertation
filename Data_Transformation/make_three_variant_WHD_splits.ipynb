{
 "cells": [
  {
   "cell_type": "markdown",
   "metadata": {},
   "source": [
    "# Description\n",
    "**Functionality**: The Wikipedia Homograph Data provided by Google is a two-way split dataset: train and eval. For the purposes of this study, we split the data into train, valid, and test. \n",
    "\n",
    "This module splits the Wikipedia homograph train split into 90% train, 10% valid. For the test split, the original Wikipedia homograph eval split is copied over.\n",
    "\n",
    "**Use**: The train and valid splits are used to train neural net models for homograph disambiguation, while the test set is held out for final evaluation."
   ]
  },
  {
   "cell_type": "markdown",
   "metadata": {},
   "source": [
    "### Imports"
   ]
  },
  {
   "cell_type": "code",
   "execution_count": 1,
   "metadata": {},
   "outputs": [],
   "source": [
    "import os\n",
    "import shutil\n",
    "from glob import glob\n",
    "import pandas as pd\n",
    "from tqdm import tqdm"
   ]
  },
  {
   "cell_type": "markdown",
   "metadata": {},
   "source": [
    "### Variables"
   ]
  },
  {
   "cell_type": "code",
   "execution_count": 2,
   "metadata": {},
   "outputs": [],
   "source": [
    "#Paths \n",
    "WHD_DATA = \"C:/Users/jseal/Dev/dissertation/Data/WikipediaHomographData/data/\"\n",
    "WHD_DATA_VARIANT = \"C:/Users/jseal/Dev/dissertation/Data/WikipediaHomographData/data/variant_data/\"\n",
    "TRAIN = WHD_DATA_VARIANT + \"train/\"\n",
    "EVAL = WHD_DATA_VARIANT + \"eval/\"\n",
    "\n",
    "THREE_SPLITS = WHD_DATA + \"three_split_variant_data/\"\n",
    "NEW_TRAIN = THREE_SPLITS + \"train/\"\n",
    "NEW_DEV = THREE_SPLITS + \"dev/\"\n",
    "NEW_TEST = THREE_SPLITS + \"test/\"\n",
    "\n",
    "#Variables\n",
    "RANDOM_STATE = 45\n",
    "FRAC = 0.1"
   ]
  },
  {
   "cell_type": "markdown",
   "metadata": {},
   "source": [
    "### Functions"
   ]
  },
  {
   "cell_type": "code",
   "execution_count": 3,
   "metadata": {},
   "outputs": [],
   "source": [
    "def create_train_val(TRAIN_DF : pd.DataFrame, f_name : str) -> None:\n",
    "    # Select 10% from train, and serialize as valid\n",
    "    # Retain rest of train and serialize as train\n",
    "    val_df = TRAIN_DF.sample(frac=FRAC, random_state=RANDOM_STATE) \n",
    "    train_df = TRAIN_DF.drop(val_df.index)\n",
    "    val_df.to_csv(NEW_DEV + f_name, sep='\\t', index=False)\n",
    "    train_df.to_csv(NEW_TRAIN + f_name, sep='\\t', index=False)\n",
    "    \n",
    "def eval_2_test() -> None: \n",
    "    # Copy eval into test\n",
    "    for f in tqdm(glob(EVAL + \"*.tsv\")): \n",
    "        shutil.copy(f, NEW_TEST)\n",
    "\n",
    "def train_2_train_dev() -> None:\n",
    "    # Make 10% of train the dev split; save rest as train\n",
    "    for f in tqdm(glob(TRAIN +'*.tsv')):\n",
    "        f_name = os.path.basename(f)\n",
    "        df = pd.read_table(f)\n",
    "        create_train_val(df, f_name)"
   ]
  },
  {
   "cell_type": "markdown",
   "metadata": {},
   "source": [
    "# Script"
   ]
  },
  {
   "cell_type": "code",
   "execution_count": 4,
   "metadata": {},
   "outputs": [
    {
     "name": "stderr",
     "output_type": "stream",
     "text": [
      "100%|█████████████████████████████████████████████████████████████████████████████████████████████████████████████████████████████████████████████████████████████████████████| 144/144 [00:00<00:00, 1482.76it/s]\n",
      "100%|██████████████████████████████████████████████████████████████████████████████████████████████████████████████████████████████████████████████████████████████████████████| 144/144 [00:00<00:00, 230.64it/s]\n"
     ]
    }
   ],
   "source": [
    "eval_2_test()\n",
    "train_2_train_dev()"
   ]
  }
 ],
 "metadata": {
  "kernelspec": {
   "display_name": "dissertation_huggingface",
   "language": "python",
   "name": "dissertation_huggingface"
  },
  "language_info": {
   "codemirror_mode": {
    "name": "ipython",
    "version": 3
   },
   "file_extension": ".py",
   "mimetype": "text/x-python",
   "name": "python",
   "nbconvert_exporter": "python",
   "pygments_lexer": "ipython3",
   "version": "3.7.8"
  }
 },
 "nbformat": 4,
 "nbformat_minor": 4
}
