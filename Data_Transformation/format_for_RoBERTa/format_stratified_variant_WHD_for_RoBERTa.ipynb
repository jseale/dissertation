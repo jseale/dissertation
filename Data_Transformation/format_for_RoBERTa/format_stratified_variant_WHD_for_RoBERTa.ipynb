{
 "cells": [
  {
   "cell_type": "markdown",
   "metadata": {},
   "source": [
    "# Description\n",
    "**Functionality**: This module formats the three way split variant-only Wikipedia Homograph Data (WHD) with at least one example for each homograph pronunciation in each split. Format data for BERT token classification using Huggingface tools. \n",
    "\n",
    "**Use**: The BERT-based token classification model finetuning functionality from Huggingface expects CoNLL03-formatted data. The output from this module will be used to finetune models in order to predict pronunciation labels on homographs."
   ]
  },
  {
   "cell_type": "markdown",
   "metadata": {},
   "source": [
    "### Imports"
   ]
  },
  {
   "cell_type": "code",
   "execution_count": 1,
   "metadata": {},
   "outputs": [],
   "source": [
    "import os\n",
    "from glob import glob\n",
    "import pandas as pd\n",
    "from tqdm import tqdm\n",
    "from typing import List, Dict\n",
    "import spacy\n",
    "from transformers import RobertaTokenizer"
   ]
  },
  {
   "cell_type": "markdown",
   "metadata": {},
   "source": [
    "### Variables"
   ]
  },
  {
   "cell_type": "code",
   "execution_count": 2,
   "metadata": {},
   "outputs": [],
   "source": [
    "#Paths \n",
    "BASE = \"C:/Users/jseal/Dev/dissertation/Data/\"\n",
    "WHD_DATA_BASE = BASE + \"WikipediaHomographData/data/\"\n",
    "METADATA = WHD_DATA_BASE + 'WikipediaHomographData.csv'\n",
    "WHD_DATA_IN = WHD_DATA_BASE + \"three_split_stratified_variant_data_corrected/\"\n",
    "WHD_DATA_OUT = BASE + \"WHD_RoBerta/variant_stratified/\"\n",
    "LABELS = WHD_DATA_OUT + \"labels.txt\"\n",
    "\n",
    "#Source paths\n",
    "TRAIN = WHD_DATA_IN + \"train/\"\n",
    "DEV = WHD_DATA_IN + \"dev/\"\n",
    "TEST = WHD_DATA_IN + \"test/\"\n",
    "SOURCE_TSVS = [TRAIN, DEV, TEST]\n",
    "\n",
    "#Destination paths\n",
    "TRAIN_TSV = WHD_DATA_OUT + \"train_tsvs/\"\n",
    "DEV_TSV = WHD_DATA_OUT + \"dev_tsvs/\"\n",
    "TEST_TSV = WHD_DATA_OUT + \"test_tsvs/\"\n",
    "DESTINATION_TSVS = [TRAIN_TSV, DEV_TSV, TEST_TSV]\n",
    "\n",
    "SOURCE_DEST = zip(SOURCE_TSVS, DESTINATION_TSVS)\n",
    "\n",
    "#Tmp Train, val, test splits in one file each\n",
    "TRAIN_TMP = WHD_DATA_OUT + \"train.txt.tmp\"\n",
    "DEV_TMP = WHD_DATA_OUT + \"dev.txt.tmp\"\n",
    "TEST_TMP = WHD_DATA_OUT + \"test.txt.tmp\"\n",
    "TMPS = [TRAIN_TMP, DEV_TMP, TEST_TMP]\n",
    "\n",
    "TSVS_TMPS = zip(DESTINATION_TSVS, TMPS)\n",
    "\n",
    "#Train, val, test splits in one file each\n",
    "TRAIN_TXT = WHD_DATA_OUT + \"train.txt\"\n",
    "DEV_TXT = WHD_DATA_OUT + \"dev.txt\"\n",
    "TEST_TXT = WHD_DATA_OUT + \"test.txt\"\n",
    "DESTINATIONS = [TRAIN_TXT, DEV_TXT, TEST_TXT]\n",
    "\n",
    "TMPS_DESTS = zip(TMPS, DESTINATIONS)\n",
    "\n",
    "#Tools\n",
    "nlp = spacy.load('en_core_web_sm')\n",
    "\n",
    "#Label variables\n",
    "OUTSIDE = \"O\" #Label for all words that are not a homograph\n",
    "\n",
    "#Options\n",
    "pd.set_option('display.max_rows', None)\n",
    "\n",
    "#Model info\n",
    "MODEL_NAME = \"roberta-base\"\n"
   ]
  },
  {
   "cell_type": "markdown",
   "metadata": {},
   "source": [
    "### Functions"
   ]
  },
  {
   "cell_type": "code",
   "execution_count": 3,
   "metadata": {},
   "outputs": [],
   "source": [
    "def get_tokens(sentence : str) -> List:\n",
    "    sent_nlp =  nlp(sentence, disable=['parser', 'tagger', 'ner'])\n",
    "    tokens = [token.text for token in sent_nlp if not token.is_punct]\n",
    "    return tokens\n",
    "\n",
    "def make_str(label : List) -> str: \n",
    "    return ' '.join(label)\n",
    "\n",
    "def make_tsvs() -> None: \n",
    "    for PATHS in SOURCE_DEST: # Do this for train, test, valid\n",
    "        for source in tqdm(glob(PATHS[0] +'*.tsv')):\n",
    "            print(PATHS[0])\n",
    "            print(source)\n",
    "            source_name = os.path.basename(source)\n",
    "            df = pd.read_table(source)\n",
    "            df = df[['homograph', 'wordid', 'sentence']]\n",
    "            df['token'] = df.sentence.apply(lambda sentence : get_tokens(sentence))\n",
    "            df = df.explode('token') # Get one row per token \n",
    "            for index, group in df.groupby(df.index):# Create one tsv per sentence; one line per token, label pair\n",
    "                sentence_dicts = []\n",
    "                for idx, row in group.iterrows():\n",
    "                    sentence_dict = {}\n",
    "                    token = row['token']\n",
    "                    homograph = row['homograph']\n",
    "                    sentence_dict['sent_id'] = \"{}_{}\".format(homograph, index)\n",
    "                    sentence_dict['token'] = token\n",
    "                    if token.lower() == homograph: # If the lowercase token is the same as the homograph, label with the wordid\n",
    "                        sentence_dict['label'] = [row['wordid']]\n",
    "                    else: \n",
    "                        sentence_dict['label'] = [OUTSIDE] # If the token is not the homograph, label with 'O' for 'outside'\n",
    "                    sentence_dicts.append(sentence_dict)\n",
    "                df = pd.DataFrame(sentence_dicts)\n",
    "                df['label'] = df['label'].apply(make_str)\n",
    "                new_f_name = PATHS[1] + source_name[:-4] + \"_\" + str(index) + '.txt'# Name file with homograph and sentence number\n",
    "                df.to_csv(new_f_name, sep=\"\\t\", header=False, index=False) \n",
    "    \n",
    "def make_tmps() -> None: \n",
    "    # Write temporary train, val, and test txt files from tsvs\n",
    "    for tsv_dir, tmp in TSVS_TMPS:\n",
    "        with open(tmp, 'w', encoding=\"utf8\") as f_out: \n",
    "            for f in glob(tsv_dir + \"*\"):\n",
    "                with open(f, encoding=\"utf8\") as example:\n",
    "                    lines = example.readlines()\n",
    "                    for line in lines: \n",
    "                        line_list = line.split('\\t')\n",
    "                        f_out.write(line_list[1] + '\\t' + line_list[2])\n",
    "                f_out.write('\\n')    \n",
    "                    \n",
    "def make_txts() -> None:\n",
    "    MAX_LENGTH = 128\n",
    "    #Write train, val, and test txt files\n",
    "    subword_len_counter = 0\n",
    "    tokenizer = RobertaTokenizer.from_pretrained(MODEL_NAME)\n",
    "    MAX_LENGTH -= tokenizer.num_special_tokens_to_add()\n",
    "\n",
    "    for tmp, outfile in tqdm(TMPS_DESTS):\n",
    "        with open(tmp, \"r\", encoding=\"utf8\") as f_p:\n",
    "            with open(outfile, \"w\", encoding=\"utf8\") as out_f: \n",
    "                for line in f_p:\n",
    "                    line = line.rstrip()\n",
    "\n",
    "                    if not line:\n",
    "                        out_f.write(line +\"\\n\")\n",
    "                        subword_len_counter = 0\n",
    "                        continue\n",
    "\n",
    "                    token = line.split()[0]\n",
    "\n",
    "                    current_subwords_len = len(tokenizer.tokenize(token))\n",
    "\n",
    "                    # If token contains strange control characters like \\x96 or \\x95\n",
    "                    # filter out the line\n",
    "                    if current_subwords_len == 0:\n",
    "                        continue\n",
    "\n",
    "                    if (subword_len_counter + current_subwords_len) > MAX_LENGTH:\n",
    "                        out_f.write(\"\\n\")\n",
    "                        out_f.write(line +\"\\n\")\n",
    "                        subword_len_counter = current_subwords_len\n",
    "                        continue\n",
    "\n",
    "                    subword_len_counter += current_subwords_len\n",
    "\n",
    "                    out_f.write(line + \"\\n\")\n",
    "                    \n",
    "def make_labels() -> None: \n",
    "    metadata_df = pd.read_csv(METADATA)\n",
    "    wordids = metadata_df.wordid.tolist()\n",
    "    with open(LABELS, 'w') as f:\n",
    "        for wordid in wordids:\n",
    "            f.write(\"{}\\n\".format(wordid))\n",
    "        f.write(\"{}\\n\".format('O'))"
   ]
  },
  {
   "cell_type": "markdown",
   "metadata": {},
   "source": [
    "# Script"
   ]
  },
  {
   "cell_type": "code",
   "execution_count": 4,
   "metadata": {},
   "outputs": [
    {
     "name": "stderr",
     "output_type": "stream",
     "text": [
      "\r",
      "  0%|                                                                                          | 0/128 [00:00<?, ?it/s]"
     ]
    },
    {
     "name": "stdout",
     "output_type": "stream",
     "text": [
      "C:/Users/jseal/Dev/dissertation/Data/WikipediaHomographData/data/three_split_stratified_variant_data_corrected/train/\n",
      "C:/Users/jseal/Dev/dissertation/Data/WikipediaHomographData/data/three_split_stratified_variant_data_corrected/train\\abuse.tsv\n"
     ]
    },
    {
     "name": "stderr",
     "output_type": "stream",
     "text": [
      "\r",
      "  1%|▋                                                                                 | 1/128 [00:00<00:37,  3.38it/s]"
     ]
    },
    {
     "name": "stdout",
     "output_type": "stream",
     "text": [
      "C:/Users/jseal/Dev/dissertation/Data/WikipediaHomographData/data/three_split_stratified_variant_data_corrected/train/\n",
      "C:/Users/jseal/Dev/dissertation/Data/WikipediaHomographData/data/three_split_stratified_variant_data_corrected/train\\abuses.tsv\n"
     ]
    },
    {
     "name": "stderr",
     "output_type": "stream",
     "text": [
      "\r",
      "  2%|█▎                                                                                | 2/128 [00:00<00:38,  3.27it/s]"
     ]
    },
    {
     "name": "stdout",
     "output_type": "stream",
     "text": [
      "C:/Users/jseal/Dev/dissertation/Data/WikipediaHomographData/data/three_split_stratified_variant_data_corrected/train/\n",
      "C:/Users/jseal/Dev/dissertation/Data/WikipediaHomographData/data/three_split_stratified_variant_data_corrected/train\\advocate.tsv\n"
     ]
    },
    {
     "name": "stderr",
     "output_type": "stream",
     "text": [
      "\r",
      "  2%|█▉                                                                                | 3/128 [00:00<00:38,  3.28it/s]"
     ]
    },
    {
     "name": "stdout",
     "output_type": "stream",
     "text": [
      "C:/Users/jseal/Dev/dissertation/Data/WikipediaHomographData/data/three_split_stratified_variant_data_corrected/train/\n",
      "C:/Users/jseal/Dev/dissertation/Data/WikipediaHomographData/data/three_split_stratified_variant_data_corrected/train\\affect.tsv\n"
     ]
    },
    {
     "name": "stderr",
     "output_type": "stream",
     "text": [
      "\r",
      "  3%|██▌                                                                               | 4/128 [00:01<00:38,  3.24it/s]"
     ]
    },
    {
     "name": "stdout",
     "output_type": "stream",
     "text": [
      "C:/Users/jseal/Dev/dissertation/Data/WikipediaHomographData/data/three_split_stratified_variant_data_corrected/train/\n",
      "C:/Users/jseal/Dev/dissertation/Data/WikipediaHomographData/data/three_split_stratified_variant_data_corrected/train\\affiliate.tsv\n"
     ]
    },
    {
     "name": "stderr",
     "output_type": "stream",
     "text": [
      "\r",
      "  4%|███▏                                                                              | 5/128 [00:01<00:37,  3.26it/s]"
     ]
    },
    {
     "name": "stdout",
     "output_type": "stream",
     "text": [
      "C:/Users/jseal/Dev/dissertation/Data/WikipediaHomographData/data/three_split_stratified_variant_data_corrected/train/\n",
      "C:/Users/jseal/Dev/dissertation/Data/WikipediaHomographData/data/three_split_stratified_variant_data_corrected/train\\aged.tsv\n"
     ]
    },
    {
     "name": "stderr",
     "output_type": "stream",
     "text": [
      "\r",
      "  5%|███▊                                                                              | 6/128 [00:01<00:36,  3.33it/s]"
     ]
    },
    {
     "name": "stdout",
     "output_type": "stream",
     "text": [
      "C:/Users/jseal/Dev/dissertation/Data/WikipediaHomographData/data/three_split_stratified_variant_data_corrected/train/\n",
      "C:/Users/jseal/Dev/dissertation/Data/WikipediaHomographData/data/three_split_stratified_variant_data_corrected/train\\aggregate.tsv\n"
     ]
    },
    {
     "name": "stderr",
     "output_type": "stream",
     "text": [
      "\r",
      "  5%|████▍                                                                             | 7/128 [00:02<00:36,  3.35it/s]"
     ]
    },
    {
     "name": "stdout",
     "output_type": "stream",
     "text": [
      "C:/Users/jseal/Dev/dissertation/Data/WikipediaHomographData/data/three_split_stratified_variant_data_corrected/train/\n",
      "C:/Users/jseal/Dev/dissertation/Data/WikipediaHomographData/data/three_split_stratified_variant_data_corrected/train\\alternate.tsv\n"
     ]
    },
    {
     "name": "stderr",
     "output_type": "stream",
     "text": [
      "\r",
      "  6%|█████▏                                                                            | 8/128 [00:02<00:35,  3.35it/s]"
     ]
    },
    {
     "name": "stdout",
     "output_type": "stream",
     "text": [
      "C:/Users/jseal/Dev/dissertation/Data/WikipediaHomographData/data/three_split_stratified_variant_data_corrected/train/\n",
      "C:/Users/jseal/Dev/dissertation/Data/WikipediaHomographData/data/three_split_stratified_variant_data_corrected/train\\analyses.tsv\n"
     ]
    },
    {
     "name": "stderr",
     "output_type": "stream",
     "text": [
      "\r",
      "  7%|█████▊                                                                            | 9/128 [00:02<00:35,  3.35it/s]"
     ]
    },
    {
     "name": "stdout",
     "output_type": "stream",
     "text": [
      "C:/Users/jseal/Dev/dissertation/Data/WikipediaHomographData/data/three_split_stratified_variant_data_corrected/train/\n",
      "C:/Users/jseal/Dev/dissertation/Data/WikipediaHomographData/data/three_split_stratified_variant_data_corrected/train\\animate.tsv\n"
     ]
    },
    {
     "name": "stderr",
     "output_type": "stream",
     "text": [
      "\r",
      "  8%|██████▎                                                                          | 10/128 [00:03<00:35,  3.31it/s]"
     ]
    },
    {
     "name": "stdout",
     "output_type": "stream",
     "text": [
      "C:/Users/jseal/Dev/dissertation/Data/WikipediaHomographData/data/three_split_stratified_variant_data_corrected/train/\n",
      "C:/Users/jseal/Dev/dissertation/Data/WikipediaHomographData/data/three_split_stratified_variant_data_corrected/train\\approximate.tsv\n"
     ]
    },
    {
     "name": "stderr",
     "output_type": "stream",
     "text": [
      "\r",
      "  9%|██████▉                                                                          | 11/128 [00:03<00:35,  3.32it/s]"
     ]
    },
    {
     "name": "stdout",
     "output_type": "stream",
     "text": [
      "C:/Users/jseal/Dev/dissertation/Data/WikipediaHomographData/data/three_split_stratified_variant_data_corrected/train/\n",
      "C:/Users/jseal/Dev/dissertation/Data/WikipediaHomographData/data/three_split_stratified_variant_data_corrected/train\\articulate.tsv\n"
     ]
    },
    {
     "name": "stderr",
     "output_type": "stream",
     "text": [
      "\r",
      "  9%|███████▌                                                                         | 12/128 [00:03<00:34,  3.35it/s]"
     ]
    },
    {
     "name": "stdout",
     "output_type": "stream",
     "text": [
      "C:/Users/jseal/Dev/dissertation/Data/WikipediaHomographData/data/three_split_stratified_variant_data_corrected/train/\n",
      "C:/Users/jseal/Dev/dissertation/Data/WikipediaHomographData/data/three_split_stratified_variant_data_corrected/train\\associate.tsv\n"
     ]
    },
    {
     "name": "stderr",
     "output_type": "stream",
     "text": [
      "\r",
      " 10%|████████▏                                                                        | 13/128 [00:03<00:35,  3.25it/s]"
     ]
    },
    {
     "name": "stdout",
     "output_type": "stream",
     "text": [
      "C:/Users/jseal/Dev/dissertation/Data/WikipediaHomographData/data/three_split_stratified_variant_data_corrected/train/\n",
      "C:/Users/jseal/Dev/dissertation/Data/WikipediaHomographData/data/three_split_stratified_variant_data_corrected/train\\attribute.tsv\n"
     ]
    },
    {
     "name": "stderr",
     "output_type": "stream",
     "text": [
      "\r",
      " 11%|████████▊                                                                        | 14/128 [00:04<00:35,  3.24it/s]"
     ]
    },
    {
     "name": "stdout",
     "output_type": "stream",
     "text": [
      "C:/Users/jseal/Dev/dissertation/Data/WikipediaHomographData/data/three_split_stratified_variant_data_corrected/train/\n",
      "C:/Users/jseal/Dev/dissertation/Data/WikipediaHomographData/data/three_split_stratified_variant_data_corrected/train\\axes.tsv\n"
     ]
    },
    {
     "name": "stderr",
     "output_type": "stream",
     "text": [
      "\r",
      " 12%|█████████▍                                                                       | 15/128 [00:04<00:34,  3.28it/s]"
     ]
    },
    {
     "name": "stdout",
     "output_type": "stream",
     "text": [
      "C:/Users/jseal/Dev/dissertation/Data/WikipediaHomographData/data/three_split_stratified_variant_data_corrected/train/\n",
      "C:/Users/jseal/Dev/dissertation/Data/WikipediaHomographData/data/three_split_stratified_variant_data_corrected/train\\bass.tsv\n"
     ]
    },
    {
     "name": "stderr",
     "output_type": "stream",
     "text": [
      "\r",
      " 12%|██████████▏                                                                      | 16/128 [00:04<00:33,  3.31it/s]"
     ]
    },
    {
     "name": "stdout",
     "output_type": "stream",
     "text": [
      "C:/Users/jseal/Dev/dissertation/Data/WikipediaHomographData/data/three_split_stratified_variant_data_corrected/train/\n",
      "C:/Users/jseal/Dev/dissertation/Data/WikipediaHomographData/data/three_split_stratified_variant_data_corrected/train\\blessed.tsv\n"
     ]
    },
    {
     "name": "stderr",
     "output_type": "stream",
     "text": [
      "\r",
      " 13%|██████████▊                                                                      | 17/128 [00:05<00:33,  3.33it/s]"
     ]
    },
    {
     "name": "stdout",
     "output_type": "stream",
     "text": [
      "C:/Users/jseal/Dev/dissertation/Data/WikipediaHomographData/data/three_split_stratified_variant_data_corrected/train/\n",
      "C:/Users/jseal/Dev/dissertation/Data/WikipediaHomographData/data/three_split_stratified_variant_data_corrected/train\\bow.tsv\n"
     ]
    },
    {
     "name": "stderr",
     "output_type": "stream",
     "text": [
      "\r",
      " 14%|███████████▍                                                                     | 18/128 [00:05<00:32,  3.35it/s]"
     ]
    },
    {
     "name": "stdout",
     "output_type": "stream",
     "text": [
      "C:/Users/jseal/Dev/dissertation/Data/WikipediaHomographData/data/three_split_stratified_variant_data_corrected/train/\n",
      "C:/Users/jseal/Dev/dissertation/Data/WikipediaHomographData/data/three_split_stratified_variant_data_corrected/train\\buffet.tsv\n"
     ]
    },
    {
     "name": "stderr",
     "output_type": "stream",
     "text": [
      "\r",
      " 15%|████████████                                                                     | 19/128 [00:05<00:31,  3.42it/s]"
     ]
    },
    {
     "name": "stdout",
     "output_type": "stream",
     "text": [
      "C:/Users/jseal/Dev/dissertation/Data/WikipediaHomographData/data/three_split_stratified_variant_data_corrected/train/\n",
      "C:/Users/jseal/Dev/dissertation/Data/WikipediaHomographData/data/three_split_stratified_variant_data_corrected/train\\celtic.tsv\n"
     ]
    },
    {
     "name": "stderr",
     "output_type": "stream",
     "text": [
      "\r",
      " 16%|████████████▋                                                                    | 20/128 [00:06<00:32,  3.28it/s]"
     ]
    },
    {
     "name": "stdout",
     "output_type": "stream",
     "text": [
      "C:/Users/jseal/Dev/dissertation/Data/WikipediaHomographData/data/three_split_stratified_variant_data_corrected/train/\n",
      "C:/Users/jseal/Dev/dissertation/Data/WikipediaHomographData/data/three_split_stratified_variant_data_corrected/train\\close.tsv\n"
     ]
    },
    {
     "name": "stderr",
     "output_type": "stream",
     "text": [
      "\r",
      " 16%|█████████████▎                                                                   | 21/128 [00:06<00:32,  3.33it/s]"
     ]
    },
    {
     "name": "stdout",
     "output_type": "stream",
     "text": [
      "C:/Users/jseal/Dev/dissertation/Data/WikipediaHomographData/data/three_split_stratified_variant_data_corrected/train/\n",
      "C:/Users/jseal/Dev/dissertation/Data/WikipediaHomographData/data/three_split_stratified_variant_data_corrected/train\\combine.tsv\n"
     ]
    },
    {
     "name": "stderr",
     "output_type": "stream",
     "text": [
      "\r",
      " 17%|█████████████▉                                                                   | 22/128 [00:06<00:31,  3.37it/s]"
     ]
    },
    {
     "name": "stdout",
     "output_type": "stream",
     "text": [
      "C:/Users/jseal/Dev/dissertation/Data/WikipediaHomographData/data/three_split_stratified_variant_data_corrected/train/\n",
      "C:/Users/jseal/Dev/dissertation/Data/WikipediaHomographData/data/three_split_stratified_variant_data_corrected/train\\compound.tsv\n"
     ]
    },
    {
     "name": "stderr",
     "output_type": "stream",
     "text": [
      "\r",
      " 18%|██████████████▌                                                                  | 23/128 [00:06<00:31,  3.36it/s]"
     ]
    },
    {
     "name": "stdout",
     "output_type": "stream",
     "text": [
      "C:/Users/jseal/Dev/dissertation/Data/WikipediaHomographData/data/three_split_stratified_variant_data_corrected/train/\n",
      "C:/Users/jseal/Dev/dissertation/Data/WikipediaHomographData/data/three_split_stratified_variant_data_corrected/train\\compress.tsv\n"
     ]
    },
    {
     "name": "stderr",
     "output_type": "stream",
     "text": [
      "\r",
      " 19%|███████████████▏                                                                 | 24/128 [00:07<00:30,  3.41it/s]"
     ]
    },
    {
     "name": "stdout",
     "output_type": "stream",
     "text": [
      "C:/Users/jseal/Dev/dissertation/Data/WikipediaHomographData/data/three_split_stratified_variant_data_corrected/train/\n",
      "C:/Users/jseal/Dev/dissertation/Data/WikipediaHomographData/data/three_split_stratified_variant_data_corrected/train\\conduct.tsv\n"
     ]
    },
    {
     "name": "stderr",
     "output_type": "stream",
     "text": [
      "\r",
      " 20%|███████████████▊                                                                 | 25/128 [00:07<00:30,  3.41it/s]"
     ]
    },
    {
     "name": "stdout",
     "output_type": "stream",
     "text": [
      "C:/Users/jseal/Dev/dissertation/Data/WikipediaHomographData/data/three_split_stratified_variant_data_corrected/train/\n",
      "C:/Users/jseal/Dev/dissertation/Data/WikipediaHomographData/data/three_split_stratified_variant_data_corrected/train\\confines.tsv\n"
     ]
    },
    {
     "name": "stderr",
     "output_type": "stream",
     "text": [
      "\r",
      " 20%|████████████████▍                                                                | 26/128 [00:07<00:30,  3.39it/s]"
     ]
    },
    {
     "name": "stdout",
     "output_type": "stream",
     "text": [
      "C:/Users/jseal/Dev/dissertation/Data/WikipediaHomographData/data/three_split_stratified_variant_data_corrected/train/\n",
      "C:/Users/jseal/Dev/dissertation/Data/WikipediaHomographData/data/three_split_stratified_variant_data_corrected/train\\conflict.tsv\n"
     ]
    },
    {
     "name": "stderr",
     "output_type": "stream",
     "text": [
      "\r",
      " 21%|█████████████████                                                                | 27/128 [00:08<00:29,  3.43it/s]"
     ]
    },
    {
     "name": "stdout",
     "output_type": "stream",
     "text": [
      "C:/Users/jseal/Dev/dissertation/Data/WikipediaHomographData/data/three_split_stratified_variant_data_corrected/train/\n",
      "C:/Users/jseal/Dev/dissertation/Data/WikipediaHomographData/data/three_split_stratified_variant_data_corrected/train\\conjugate.tsv\n"
     ]
    },
    {
     "name": "stderr",
     "output_type": "stream",
     "text": [
      "\r",
      " 22%|█████████████████▋                                                               | 28/128 [00:08<00:29,  3.44it/s]"
     ]
    },
    {
     "name": "stdout",
     "output_type": "stream",
     "text": [
      "C:/Users/jseal/Dev/dissertation/Data/WikipediaHomographData/data/three_split_stratified_variant_data_corrected/train/\n",
      "C:/Users/jseal/Dev/dissertation/Data/WikipediaHomographData/data/three_split_stratified_variant_data_corrected/train\\conscript.tsv\n"
     ]
    },
    {
     "name": "stderr",
     "output_type": "stream",
     "text": [
      "\r",
      " 23%|██████████████████▎                                                              | 29/128 [00:08<00:29,  3.36it/s]"
     ]
    },
    {
     "name": "stdout",
     "output_type": "stream",
     "text": [
      "C:/Users/jseal/Dev/dissertation/Data/WikipediaHomographData/data/three_split_stratified_variant_data_corrected/train/\n",
      "C:/Users/jseal/Dev/dissertation/Data/WikipediaHomographData/data/three_split_stratified_variant_data_corrected/train\\construct.tsv\n"
     ]
    },
    {
     "name": "stderr",
     "output_type": "stream",
     "text": [
      "\r",
      " 23%|██████████████████▉                                                              | 30/128 [00:09<00:29,  3.32it/s]"
     ]
    },
    {
     "name": "stdout",
     "output_type": "stream",
     "text": [
      "C:/Users/jseal/Dev/dissertation/Data/WikipediaHomographData/data/three_split_stratified_variant_data_corrected/train/\n",
      "C:/Users/jseal/Dev/dissertation/Data/WikipediaHomographData/data/three_split_stratified_variant_data_corrected/train\\consummate.tsv\n"
     ]
    },
    {
     "name": "stderr",
     "output_type": "stream",
     "text": [
      "\r",
      " 24%|███████████████████▌                                                             | 31/128 [00:09<00:28,  3.40it/s]"
     ]
    },
    {
     "name": "stdout",
     "output_type": "stream",
     "text": [
      "C:/Users/jseal/Dev/dissertation/Data/WikipediaHomographData/data/three_split_stratified_variant_data_corrected/train/\n",
      "C:/Users/jseal/Dev/dissertation/Data/WikipediaHomographData/data/three_split_stratified_variant_data_corrected/train\\content.tsv\n"
     ]
    },
    {
     "name": "stderr",
     "output_type": "stream",
     "text": [
      "\r",
      " 25%|████████████████████▎                                                            | 32/128 [00:09<00:28,  3.35it/s]"
     ]
    },
    {
     "name": "stdout",
     "output_type": "stream",
     "text": [
      "C:/Users/jseal/Dev/dissertation/Data/WikipediaHomographData/data/three_split_stratified_variant_data_corrected/train/\n",
      "C:/Users/jseal/Dev/dissertation/Data/WikipediaHomographData/data/three_split_stratified_variant_data_corrected/train\\contest.tsv\n"
     ]
    },
    {
     "name": "stderr",
     "output_type": "stream",
     "text": [
      "\r",
      " 26%|████████████████████▉                                                            | 33/128 [00:09<00:27,  3.47it/s]"
     ]
    },
    {
     "name": "stdout",
     "output_type": "stream",
     "text": [
      "C:/Users/jseal/Dev/dissertation/Data/WikipediaHomographData/data/three_split_stratified_variant_data_corrected/train/\n",
      "C:/Users/jseal/Dev/dissertation/Data/WikipediaHomographData/data/three_split_stratified_variant_data_corrected/train\\converse.tsv\n"
     ]
    },
    {
     "name": "stderr",
     "output_type": "stream",
     "text": [
      "\r",
      " 27%|█████████████████████▌                                                           | 34/128 [00:10<00:27,  3.41it/s]"
     ]
    },
    {
     "name": "stdout",
     "output_type": "stream",
     "text": [
      "C:/Users/jseal/Dev/dissertation/Data/WikipediaHomographData/data/three_split_stratified_variant_data_corrected/train/\n",
      "C:/Users/jseal/Dev/dissertation/Data/WikipediaHomographData/data/three_split_stratified_variant_data_corrected/train\\convert.tsv\n"
     ]
    },
    {
     "name": "stderr",
     "output_type": "stream",
     "text": [
      "\r",
      " 27%|██████████████████████▏                                                          | 35/128 [00:10<00:26,  3.45it/s]"
     ]
    },
    {
     "name": "stdout",
     "output_type": "stream",
     "text": [
      "C:/Users/jseal/Dev/dissertation/Data/WikipediaHomographData/data/three_split_stratified_variant_data_corrected/train/\n",
      "C:/Users/jseal/Dev/dissertation/Data/WikipediaHomographData/data/three_split_stratified_variant_data_corrected/train\\convict.tsv\n"
     ]
    },
    {
     "name": "stderr",
     "output_type": "stream",
     "text": [
      "\r",
      " 28%|██████████████████████▊                                                          | 36/128 [00:10<00:26,  3.42it/s]"
     ]
    },
    {
     "name": "stdout",
     "output_type": "stream",
     "text": [
      "C:/Users/jseal/Dev/dissertation/Data/WikipediaHomographData/data/three_split_stratified_variant_data_corrected/train/\n",
      "C:/Users/jseal/Dev/dissertation/Data/WikipediaHomographData/data/three_split_stratified_variant_data_corrected/train\\coordinate.tsv\n"
     ]
    },
    {
     "name": "stderr",
     "output_type": "stream",
     "text": [
      "\r",
      " 29%|███████████████████████▍                                                         | 37/128 [00:11<00:26,  3.37it/s]"
     ]
    },
    {
     "name": "stdout",
     "output_type": "stream",
     "text": [
      "C:/Users/jseal/Dev/dissertation/Data/WikipediaHomographData/data/three_split_stratified_variant_data_corrected/train/\n",
      "C:/Users/jseal/Dev/dissertation/Data/WikipediaHomographData/data/three_split_stratified_variant_data_corrected/train\\correlate.tsv\n"
     ]
    },
    {
     "name": "stderr",
     "output_type": "stream",
     "text": [
      "\r",
      " 30%|████████████████████████                                                         | 38/128 [00:11<00:26,  3.34it/s]"
     ]
    },
    {
     "name": "stdout",
     "output_type": "stream",
     "text": [
      "C:/Users/jseal/Dev/dissertation/Data/WikipediaHomographData/data/three_split_stratified_variant_data_corrected/train/\n",
      "C:/Users/jseal/Dev/dissertation/Data/WikipediaHomographData/data/three_split_stratified_variant_data_corrected/train\\decrease.tsv\n"
     ]
    },
    {
     "name": "stderr",
     "output_type": "stream",
     "text": [
      "\r",
      " 30%|████████████████████████▋                                                        | 39/128 [00:11<00:26,  3.33it/s]"
     ]
    },
    {
     "name": "stdout",
     "output_type": "stream",
     "text": [
      "C:/Users/jseal/Dev/dissertation/Data/WikipediaHomographData/data/three_split_stratified_variant_data_corrected/train/\n",
      "C:/Users/jseal/Dev/dissertation/Data/WikipediaHomographData/data/three_split_stratified_variant_data_corrected/train\\defect.tsv\n"
     ]
    },
    {
     "name": "stderr",
     "output_type": "stream",
     "text": [
      "\r",
      " 31%|█████████████████████████▎                                                       | 40/128 [00:11<00:26,  3.38it/s]"
     ]
    },
    {
     "name": "stdout",
     "output_type": "stream",
     "text": [
      "C:/Users/jseal/Dev/dissertation/Data/WikipediaHomographData/data/three_split_stratified_variant_data_corrected/train/\n",
      "C:/Users/jseal/Dev/dissertation/Data/WikipediaHomographData/data/three_split_stratified_variant_data_corrected/train\\degenerate.tsv\n"
     ]
    },
    {
     "name": "stderr",
     "output_type": "stream",
     "text": [
      "\r",
      " 32%|█████████████████████████▉                                                       | 41/128 [00:12<00:26,  3.33it/s]"
     ]
    },
    {
     "name": "stdout",
     "output_type": "stream",
     "text": [
      "C:/Users/jseal/Dev/dissertation/Data/WikipediaHomographData/data/three_split_stratified_variant_data_corrected/train/\n",
      "C:/Users/jseal/Dev/dissertation/Data/WikipediaHomographData/data/three_split_stratified_variant_data_corrected/train\\delegate.tsv\n"
     ]
    },
    {
     "name": "stderr",
     "output_type": "stream",
     "text": [
      "\r",
      " 33%|██████████████████████████▌                                                      | 42/128 [00:12<00:25,  3.40it/s]"
     ]
    },
    {
     "name": "stdout",
     "output_type": "stream",
     "text": [
      "C:/Users/jseal/Dev/dissertation/Data/WikipediaHomographData/data/three_split_stratified_variant_data_corrected/train/\n",
      "C:/Users/jseal/Dev/dissertation/Data/WikipediaHomographData/data/three_split_stratified_variant_data_corrected/train\\deliberate.tsv\n"
     ]
    },
    {
     "name": "stderr",
     "output_type": "stream",
     "text": [
      "\r",
      " 34%|███████████████████████████▏                                                     | 43/128 [00:12<00:25,  3.40it/s]"
     ]
    },
    {
     "name": "stdout",
     "output_type": "stream",
     "text": [
      "C:/Users/jseal/Dev/dissertation/Data/WikipediaHomographData/data/three_split_stratified_variant_data_corrected/train/\n",
      "C:/Users/jseal/Dev/dissertation/Data/WikipediaHomographData/data/three_split_stratified_variant_data_corrected/train\\diagnoses.tsv\n"
     ]
    },
    {
     "name": "stderr",
     "output_type": "stream",
     "text": [
      "\r",
      " 34%|███████████████████████████▊                                                     | 44/128 [00:13<00:24,  3.39it/s]"
     ]
    },
    {
     "name": "stdout",
     "output_type": "stream",
     "text": [
      "C:/Users/jseal/Dev/dissertation/Data/WikipediaHomographData/data/three_split_stratified_variant_data_corrected/train/\n",
      "C:/Users/jseal/Dev/dissertation/Data/WikipediaHomographData/data/three_split_stratified_variant_data_corrected/train\\diffuse.tsv\n"
     ]
    },
    {
     "name": "stderr",
     "output_type": "stream",
     "text": [
      "\r",
      " 35%|████████████████████████████▍                                                    | 45/128 [00:13<00:24,  3.42it/s]"
     ]
    },
    {
     "name": "stdout",
     "output_type": "stream",
     "text": [
      "C:/Users/jseal/Dev/dissertation/Data/WikipediaHomographData/data/three_split_stratified_variant_data_corrected/train/\n",
      "C:/Users/jseal/Dev/dissertation/Data/WikipediaHomographData/data/three_split_stratified_variant_data_corrected/train\\discard.tsv\n"
     ]
    },
    {
     "name": "stderr",
     "output_type": "stream",
     "text": [
      "\r",
      " 36%|█████████████████████████████                                                    | 46/128 [00:13<00:24,  3.34it/s]"
     ]
    },
    {
     "name": "stdout",
     "output_type": "stream",
     "text": [
      "C:/Users/jseal/Dev/dissertation/Data/WikipediaHomographData/data/three_split_stratified_variant_data_corrected/train/\n",
      "C:/Users/jseal/Dev/dissertation/Data/WikipediaHomographData/data/three_split_stratified_variant_data_corrected/train\\discharge.tsv\n"
     ]
    },
    {
     "name": "stderr",
     "output_type": "stream",
     "text": [
      "\r",
      " 37%|█████████████████████████████▋                                                   | 47/128 [00:14<00:24,  3.33it/s]"
     ]
    },
    {
     "name": "stdout",
     "output_type": "stream",
     "text": [
      "C:/Users/jseal/Dev/dissertation/Data/WikipediaHomographData/data/three_split_stratified_variant_data_corrected/train/\n",
      "C:/Users/jseal/Dev/dissertation/Data/WikipediaHomographData/data/three_split_stratified_variant_data_corrected/train\\discount.tsv\n"
     ]
    },
    {
     "name": "stderr",
     "output_type": "stream",
     "text": [
      "\r",
      " 38%|██████████████████████████████▍                                                  | 48/128 [00:14<00:24,  3.30it/s]"
     ]
    },
    {
     "name": "stdout",
     "output_type": "stream",
     "text": [
      "C:/Users/jseal/Dev/dissertation/Data/WikipediaHomographData/data/three_split_stratified_variant_data_corrected/train/\n",
      "C:/Users/jseal/Dev/dissertation/Data/WikipediaHomographData/data/three_split_stratified_variant_data_corrected/train\\document.tsv\n"
     ]
    },
    {
     "name": "stderr",
     "output_type": "stream",
     "text": [
      " 39%|███████████████████████████████▋                                                 | 50/128 [00:14<00:21,  3.67it/s]"
     ]
    },
    {
     "name": "stdout",
     "output_type": "stream",
     "text": [
      "C:/Users/jseal/Dev/dissertation/Data/WikipediaHomographData/data/three_split_stratified_variant_data_corrected/train/\n",
      "C:/Users/jseal/Dev/dissertation/Data/WikipediaHomographData/data/three_split_stratified_variant_data_corrected/train\\dove.tsv\n",
      "C:/Users/jseal/Dev/dissertation/Data/WikipediaHomographData/data/three_split_stratified_variant_data_corrected/train/\n",
      "C:/Users/jseal/Dev/dissertation/Data/WikipediaHomographData/data/three_split_stratified_variant_data_corrected/train\\duplicate.tsv\n"
     ]
    },
    {
     "name": "stderr",
     "output_type": "stream",
     "text": [
      "\r",
      " 40%|████████████████████████████████▎                                                | 51/128 [00:15<00:21,  3.59it/s]"
     ]
    },
    {
     "name": "stdout",
     "output_type": "stream",
     "text": [
      "C:/Users/jseal/Dev/dissertation/Data/WikipediaHomographData/data/three_split_stratified_variant_data_corrected/train/\n",
      "C:/Users/jseal/Dev/dissertation/Data/WikipediaHomographData/data/three_split_stratified_variant_data_corrected/train\\escort.tsv\n"
     ]
    },
    {
     "name": "stderr",
     "output_type": "stream",
     "text": [
      "\r",
      " 41%|████████████████████████████████▉                                                | 52/128 [00:15<00:21,  3.50it/s]"
     ]
    },
    {
     "name": "stdout",
     "output_type": "stream",
     "text": [
      "C:/Users/jseal/Dev/dissertation/Data/WikipediaHomographData/data/three_split_stratified_variant_data_corrected/train/\n",
      "C:/Users/jseal/Dev/dissertation/Data/WikipediaHomographData/data/three_split_stratified_variant_data_corrected/train\\estimate.tsv\n"
     ]
    },
    {
     "name": "stderr",
     "output_type": "stream",
     "text": [
      "\r",
      " 41%|█████████████████████████████████▌                                               | 53/128 [00:15<00:21,  3.46it/s]"
     ]
    },
    {
     "name": "stdout",
     "output_type": "stream",
     "text": [
      "C:/Users/jseal/Dev/dissertation/Data/WikipediaHomographData/data/three_split_stratified_variant_data_corrected/train/\n",
      "C:/Users/jseal/Dev/dissertation/Data/WikipediaHomographData/data/three_split_stratified_variant_data_corrected/train\\excuse.tsv\n"
     ]
    },
    {
     "name": "stderr",
     "output_type": "stream",
     "text": [
      "\r",
      " 42%|██████████████████████████████████▏                                              | 54/128 [00:16<00:21,  3.45it/s]"
     ]
    },
    {
     "name": "stdout",
     "output_type": "stream",
     "text": [
      "C:/Users/jseal/Dev/dissertation/Data/WikipediaHomographData/data/three_split_stratified_variant_data_corrected/train/\n",
      "C:/Users/jseal/Dev/dissertation/Data/WikipediaHomographData/data/three_split_stratified_variant_data_corrected/train\\exploit.tsv\n"
     ]
    },
    {
     "name": "stderr",
     "output_type": "stream",
     "text": [
      "\r",
      " 43%|██████████████████████████████████▊                                              | 55/128 [00:16<00:21,  3.34it/s]"
     ]
    },
    {
     "name": "stdout",
     "output_type": "stream",
     "text": [
      "C:/Users/jseal/Dev/dissertation/Data/WikipediaHomographData/data/three_split_stratified_variant_data_corrected/train/\n",
      "C:/Users/jseal/Dev/dissertation/Data/WikipediaHomographData/data/three_split_stratified_variant_data_corrected/train\\export.tsv\n"
     ]
    },
    {
     "name": "stderr",
     "output_type": "stream",
     "text": [
      "\r",
      " 44%|███████████████████████████████████▍                                             | 56/128 [00:16<00:21,  3.35it/s]"
     ]
    },
    {
     "name": "stdout",
     "output_type": "stream",
     "text": [
      "C:/Users/jseal/Dev/dissertation/Data/WikipediaHomographData/data/three_split_stratified_variant_data_corrected/train/\n",
      "C:/Users/jseal/Dev/dissertation/Data/WikipediaHomographData/data/three_split_stratified_variant_data_corrected/train\\expose.tsv\n"
     ]
    },
    {
     "name": "stderr",
     "output_type": "stream",
     "text": [
      "\r",
      " 45%|████████████████████████████████████                                             | 57/128 [00:16<00:21,  3.32it/s]"
     ]
    },
    {
     "name": "stdout",
     "output_type": "stream",
     "text": [
      "C:/Users/jseal/Dev/dissertation/Data/WikipediaHomographData/data/three_split_stratified_variant_data_corrected/train/\n",
      "C:/Users/jseal/Dev/dissertation/Data/WikipediaHomographData/data/three_split_stratified_variant_data_corrected/train\\extract.tsv\n"
     ]
    },
    {
     "name": "stderr",
     "output_type": "stream",
     "text": [
      "\r",
      " 45%|████████████████████████████████████▋                                            | 58/128 [00:17<00:21,  3.29it/s]"
     ]
    },
    {
     "name": "stdout",
     "output_type": "stream",
     "text": [
      "C:/Users/jseal/Dev/dissertation/Data/WikipediaHomographData/data/three_split_stratified_variant_data_corrected/train/\n",
      "C:/Users/jseal/Dev/dissertation/Data/WikipediaHomographData/data/three_split_stratified_variant_data_corrected/train\\fragment.tsv\n"
     ]
    },
    {
     "name": "stderr",
     "output_type": "stream",
     "text": [
      "\r",
      " 46%|█████████████████████████████████████▎                                           | 59/128 [00:17<00:21,  3.26it/s]"
     ]
    },
    {
     "name": "stdout",
     "output_type": "stream",
     "text": [
      "C:/Users/jseal/Dev/dissertation/Data/WikipediaHomographData/data/three_split_stratified_variant_data_corrected/train/\n",
      "C:/Users/jseal/Dev/dissertation/Data/WikipediaHomographData/data/three_split_stratified_variant_data_corrected/train\\frequent.tsv\n"
     ]
    },
    {
     "name": "stderr",
     "output_type": "stream",
     "text": [
      "\r",
      " 47%|█████████████████████████████████████▉                                           | 60/128 [00:17<00:20,  3.29it/s]"
     ]
    },
    {
     "name": "stdout",
     "output_type": "stream",
     "text": [
      "C:/Users/jseal/Dev/dissertation/Data/WikipediaHomographData/data/three_split_stratified_variant_data_corrected/train/\n",
      "C:/Users/jseal/Dev/dissertation/Data/WikipediaHomographData/data/three_split_stratified_variant_data_corrected/train\\graduate.tsv\n"
     ]
    },
    {
     "name": "stderr",
     "output_type": "stream",
     "text": [
      "\r",
      " 48%|██████████████████████████████████████▌                                          | 61/128 [00:18<00:19,  3.37it/s]"
     ]
    },
    {
     "name": "stdout",
     "output_type": "stream",
     "text": [
      "C:/Users/jseal/Dev/dissertation/Data/WikipediaHomographData/data/three_split_stratified_variant_data_corrected/train/\n",
      "C:/Users/jseal/Dev/dissertation/Data/WikipediaHomographData/data/three_split_stratified_variant_data_corrected/train\\impact.tsv\n"
     ]
    },
    {
     "name": "stderr",
     "output_type": "stream",
     "text": [
      "\r",
      " 48%|███████████████████████████████████████▏                                         | 62/128 [00:18<00:19,  3.41it/s]"
     ]
    },
    {
     "name": "stdout",
     "output_type": "stream",
     "text": [
      "C:/Users/jseal/Dev/dissertation/Data/WikipediaHomographData/data/three_split_stratified_variant_data_corrected/train/\n",
      "C:/Users/jseal/Dev/dissertation/Data/WikipediaHomographData/data/three_split_stratified_variant_data_corrected/train\\implant.tsv\n"
     ]
    },
    {
     "name": "stderr",
     "output_type": "stream",
     "text": [
      "\r",
      " 49%|███████████████████████████████████████▊                                         | 63/128 [00:18<00:18,  3.42it/s]"
     ]
    },
    {
     "name": "stdout",
     "output_type": "stream",
     "text": [
      "C:/Users/jseal/Dev/dissertation/Data/WikipediaHomographData/data/three_split_stratified_variant_data_corrected/train/\n",
      "C:/Users/jseal/Dev/dissertation/Data/WikipediaHomographData/data/three_split_stratified_variant_data_corrected/train\\implement.tsv\n"
     ]
    },
    {
     "name": "stderr",
     "output_type": "stream",
     "text": [
      "\r",
      " 50%|████████████████████████████████████████▌                                        | 64/128 [00:19<00:19,  3.28it/s]"
     ]
    },
    {
     "name": "stdout",
     "output_type": "stream",
     "text": [
      "C:/Users/jseal/Dev/dissertation/Data/WikipediaHomographData/data/three_split_stratified_variant_data_corrected/train/\n",
      "C:/Users/jseal/Dev/dissertation/Data/WikipediaHomographData/data/three_split_stratified_variant_data_corrected/train\\import.tsv\n"
     ]
    },
    {
     "name": "stderr",
     "output_type": "stream",
     "text": [
      "\r",
      " 51%|█████████████████████████████████████████▏                                       | 65/128 [00:19<00:18,  3.33it/s]"
     ]
    },
    {
     "name": "stdout",
     "output_type": "stream",
     "text": [
      "C:/Users/jseal/Dev/dissertation/Data/WikipediaHomographData/data/three_split_stratified_variant_data_corrected/train/\n",
      "C:/Users/jseal/Dev/dissertation/Data/WikipediaHomographData/data/three_split_stratified_variant_data_corrected/train\\incline.tsv\n"
     ]
    },
    {
     "name": "stderr",
     "output_type": "stream",
     "text": [
      "\r",
      " 52%|█████████████████████████████████████████▊                                       | 66/128 [00:19<00:18,  3.34it/s]"
     ]
    },
    {
     "name": "stdout",
     "output_type": "stream",
     "text": [
      "C:/Users/jseal/Dev/dissertation/Data/WikipediaHomographData/data/three_split_stratified_variant_data_corrected/train/\n",
      "C:/Users/jseal/Dev/dissertation/Data/WikipediaHomographData/data/three_split_stratified_variant_data_corrected/train\\increase.tsv\n"
     ]
    },
    {
     "name": "stderr",
     "output_type": "stream",
     "text": [
      "\r",
      " 52%|██████████████████████████████████████████▍                                      | 67/128 [00:19<00:18,  3.29it/s]"
     ]
    },
    {
     "name": "stdout",
     "output_type": "stream",
     "text": [
      "C:/Users/jseal/Dev/dissertation/Data/WikipediaHomographData/data/three_split_stratified_variant_data_corrected/train/\n",
      "C:/Users/jseal/Dev/dissertation/Data/WikipediaHomographData/data/three_split_stratified_variant_data_corrected/train\\increment.tsv\n"
     ]
    },
    {
     "name": "stderr",
     "output_type": "stream",
     "text": [
      "\r",
      " 53%|███████████████████████████████████████████                                      | 68/128 [00:20<00:18,  3.33it/s]"
     ]
    },
    {
     "name": "stdout",
     "output_type": "stream",
     "text": [
      "C:/Users/jseal/Dev/dissertation/Data/WikipediaHomographData/data/three_split_stratified_variant_data_corrected/train/\n",
      "C:/Users/jseal/Dev/dissertation/Data/WikipediaHomographData/data/three_split_stratified_variant_data_corrected/train\\initiate.tsv\n"
     ]
    },
    {
     "name": "stderr",
     "output_type": "stream",
     "text": [
      "\r",
      " 54%|███████████████████████████████████████████▋                                     | 69/128 [00:20<00:17,  3.37it/s]"
     ]
    },
    {
     "name": "stdout",
     "output_type": "stream",
     "text": [
      "C:/Users/jseal/Dev/dissertation/Data/WikipediaHomographData/data/three_split_stratified_variant_data_corrected/train/\n",
      "C:/Users/jseal/Dev/dissertation/Data/WikipediaHomographData/data/three_split_stratified_variant_data_corrected/train\\insert.tsv\n"
     ]
    },
    {
     "name": "stderr",
     "output_type": "stream",
     "text": [
      "\r",
      " 55%|████████████████████████████████████████████▎                                    | 70/128 [00:20<00:17,  3.40it/s]"
     ]
    },
    {
     "name": "stdout",
     "output_type": "stream",
     "text": [
      "C:/Users/jseal/Dev/dissertation/Data/WikipediaHomographData/data/three_split_stratified_variant_data_corrected/train/\n",
      "C:/Users/jseal/Dev/dissertation/Data/WikipediaHomographData/data/three_split_stratified_variant_data_corrected/train\\insult.tsv\n"
     ]
    },
    {
     "name": "stderr",
     "output_type": "stream",
     "text": [
      "\r",
      " 55%|████████████████████████████████████████████▉                                    | 71/128 [00:21<00:16,  3.38it/s]"
     ]
    },
    {
     "name": "stdout",
     "output_type": "stream",
     "text": [
      "C:/Users/jseal/Dev/dissertation/Data/WikipediaHomographData/data/three_split_stratified_variant_data_corrected/train/\n",
      "C:/Users/jseal/Dev/dissertation/Data/WikipediaHomographData/data/three_split_stratified_variant_data_corrected/train\\intrigue.tsv\n"
     ]
    },
    {
     "name": "stderr",
     "output_type": "stream",
     "text": [
      "\r",
      " 56%|█████████████████████████████████████████████▌                                   | 72/128 [00:21<00:16,  3.39it/s]"
     ]
    },
    {
     "name": "stdout",
     "output_type": "stream",
     "text": [
      "C:/Users/jseal/Dev/dissertation/Data/WikipediaHomographData/data/three_split_stratified_variant_data_corrected/train/\n",
      "C:/Users/jseal/Dev/dissertation/Data/WikipediaHomographData/data/three_split_stratified_variant_data_corrected/train\\invalid.tsv\n"
     ]
    },
    {
     "name": "stderr",
     "output_type": "stream",
     "text": [
      "\r",
      " 57%|██████████████████████████████████████████████▏                                  | 73/128 [00:21<00:16,  3.32it/s]"
     ]
    },
    {
     "name": "stdout",
     "output_type": "stream",
     "text": [
      "C:/Users/jseal/Dev/dissertation/Data/WikipediaHomographData/data/three_split_stratified_variant_data_corrected/train/\n",
      "C:/Users/jseal/Dev/dissertation/Data/WikipediaHomographData/data/three_split_stratified_variant_data_corrected/train\\invert.tsv\n"
     ]
    },
    {
     "name": "stderr",
     "output_type": "stream",
     "text": [
      "\r",
      " 58%|██████████████████████████████████████████████▊                                  | 74/128 [00:22<00:16,  3.32it/s]"
     ]
    },
    {
     "name": "stdout",
     "output_type": "stream",
     "text": [
      "C:/Users/jseal/Dev/dissertation/Data/WikipediaHomographData/data/three_split_stratified_variant_data_corrected/train/\n",
      "C:/Users/jseal/Dev/dissertation/Data/WikipediaHomographData/data/three_split_stratified_variant_data_corrected/train\\invite.tsv\n"
     ]
    },
    {
     "name": "stderr",
     "output_type": "stream",
     "text": [
      "\r",
      " 59%|███████████████████████████████████████████████▍                                 | 75/128 [00:22<00:15,  3.36it/s]"
     ]
    },
    {
     "name": "stdout",
     "output_type": "stream",
     "text": [
      "C:/Users/jseal/Dev/dissertation/Data/WikipediaHomographData/data/three_split_stratified_variant_data_corrected/train/\n",
      "C:/Users/jseal/Dev/dissertation/Data/WikipediaHomographData/data/three_split_stratified_variant_data_corrected/train\\isolate.tsv\n"
     ]
    },
    {
     "name": "stderr",
     "output_type": "stream",
     "text": [
      "\r",
      " 59%|████████████████████████████████████████████████                                 | 76/128 [00:22<00:15,  3.28it/s]"
     ]
    },
    {
     "name": "stdout",
     "output_type": "stream",
     "text": [
      "C:/Users/jseal/Dev/dissertation/Data/WikipediaHomographData/data/three_split_stratified_variant_data_corrected/train/\n",
      "C:/Users/jseal/Dev/dissertation/Data/WikipediaHomographData/data/three_split_stratified_variant_data_corrected/train\\laminate.tsv\n"
     ]
    },
    {
     "name": "stderr",
     "output_type": "stream",
     "text": [
      "\r",
      " 60%|████████████████████████████████████████████████▋                                | 77/128 [00:22<00:15,  3.27it/s]"
     ]
    },
    {
     "name": "stdout",
     "output_type": "stream",
     "text": [
      "C:/Users/jseal/Dev/dissertation/Data/WikipediaHomographData/data/three_split_stratified_variant_data_corrected/train/\n",
      "C:/Users/jseal/Dev/dissertation/Data/WikipediaHomographData/data/three_split_stratified_variant_data_corrected/train\\lead.tsv\n"
     ]
    },
    {
     "name": "stderr",
     "output_type": "stream",
     "text": [
      "\r",
      " 61%|█████████████████████████████████████████████████▎                               | 78/128 [00:23<00:15,  3.15it/s]"
     ]
    },
    {
     "name": "stdout",
     "output_type": "stream",
     "text": [
      "C:/Users/jseal/Dev/dissertation/Data/WikipediaHomographData/data/three_split_stratified_variant_data_corrected/train/\n",
      "C:/Users/jseal/Dev/dissertation/Data/WikipediaHomographData/data/three_split_stratified_variant_data_corrected/train\\learned.tsv\n"
     ]
    },
    {
     "name": "stderr",
     "output_type": "stream",
     "text": [
      "\r",
      " 62%|█████████████████████████████████████████████████▉                               | 79/128 [00:23<00:15,  3.26it/s]"
     ]
    },
    {
     "name": "stdout",
     "output_type": "stream",
     "text": [
      "C:/Users/jseal/Dev/dissertation/Data/WikipediaHomographData/data/three_split_stratified_variant_data_corrected/train/\n",
      "C:/Users/jseal/Dev/dissertation/Data/WikipediaHomographData/data/three_split_stratified_variant_data_corrected/train\\live.tsv\n"
     ]
    },
    {
     "name": "stderr",
     "output_type": "stream",
     "text": [
      "\r",
      " 62%|██████████████████████████████████████████████████▋                              | 80/128 [00:23<00:14,  3.35it/s]"
     ]
    },
    {
     "name": "stdout",
     "output_type": "stream",
     "text": [
      "C:/Users/jseal/Dev/dissertation/Data/WikipediaHomographData/data/three_split_stratified_variant_data_corrected/train/\n",
      "C:/Users/jseal/Dev/dissertation/Data/WikipediaHomographData/data/three_split_stratified_variant_data_corrected/train\\lives.tsv\n"
     ]
    },
    {
     "name": "stderr",
     "output_type": "stream",
     "text": [
      "\r",
      " 63%|███████████████████████████████████████████████████▎                             | 81/128 [00:24<00:14,  3.31it/s]"
     ]
    },
    {
     "name": "stdout",
     "output_type": "stream",
     "text": [
      "C:/Users/jseal/Dev/dissertation/Data/WikipediaHomographData/data/three_split_stratified_variant_data_corrected/train/\n",
      "C:/Users/jseal/Dev/dissertation/Data/WikipediaHomographData/data/three_split_stratified_variant_data_corrected/train\\minute.tsv\n"
     ]
    },
    {
     "name": "stderr",
     "output_type": "stream",
     "text": [
      "\r",
      " 64%|███████████████████████████████████████████████████▉                             | 82/128 [00:24<00:13,  3.31it/s]"
     ]
    },
    {
     "name": "stdout",
     "output_type": "stream",
     "text": [
      "C:/Users/jseal/Dev/dissertation/Data/WikipediaHomographData/data/three_split_stratified_variant_data_corrected/train/\n",
      "C:/Users/jseal/Dev/dissertation/Data/WikipediaHomographData/data/three_split_stratified_variant_data_corrected/train\\misuse.tsv\n"
     ]
    },
    {
     "name": "stderr",
     "output_type": "stream",
     "text": [
      "\r",
      " 65%|████████████████████████████████████████████████████▌                            | 83/128 [00:24<00:13,  3.31it/s]"
     ]
    },
    {
     "name": "stdout",
     "output_type": "stream",
     "text": [
      "C:/Users/jseal/Dev/dissertation/Data/WikipediaHomographData/data/three_split_stratified_variant_data_corrected/train/\n",
      "C:/Users/jseal/Dev/dissertation/Data/WikipediaHomographData/data/three_split_stratified_variant_data_corrected/train\\mobile.tsv\n"
     ]
    },
    {
     "name": "stderr",
     "output_type": "stream",
     "text": [
      "\r",
      " 66%|█████████████████████████████████████████████████████▏                           | 84/128 [00:25<00:13,  3.35it/s]"
     ]
    },
    {
     "name": "stdout",
     "output_type": "stream",
     "text": [
      "C:/Users/jseal/Dev/dissertation/Data/WikipediaHomographData/data/three_split_stratified_variant_data_corrected/train/\n",
      "C:/Users/jseal/Dev/dissertation/Data/WikipediaHomographData/data/three_split_stratified_variant_data_corrected/train\\nestle.tsv\n"
     ]
    },
    {
     "name": "stderr",
     "output_type": "stream",
     "text": [
      "\r",
      " 66%|█████████████████████████████████████████████████████▊                           | 85/128 [00:25<00:12,  3.40it/s]"
     ]
    },
    {
     "name": "stdout",
     "output_type": "stream",
     "text": [
      "C:/Users/jseal/Dev/dissertation/Data/WikipediaHomographData/data/three_split_stratified_variant_data_corrected/train/\n",
      "C:/Users/jseal/Dev/dissertation/Data/WikipediaHomographData/data/three_split_stratified_variant_data_corrected/train\\ornament.tsv\n"
     ]
    },
    {
     "name": "stderr",
     "output_type": "stream",
     "text": [
      "\r",
      " 67%|██████████████████████████████████████████████████████▍                          | 86/128 [00:25<00:12,  3.43it/s]"
     ]
    },
    {
     "name": "stdout",
     "output_type": "stream",
     "text": [
      "C:/Users/jseal/Dev/dissertation/Data/WikipediaHomographData/data/three_split_stratified_variant_data_corrected/train/\n",
      "C:/Users/jseal/Dev/dissertation/Data/WikipediaHomographData/data/three_split_stratified_variant_data_corrected/train\\overthrow.tsv\n"
     ]
    },
    {
     "name": "stderr",
     "output_type": "stream",
     "text": [
      "\r",
      " 68%|███████████████████████████████████████████████████████                          | 87/128 [00:25<00:12,  3.41it/s]"
     ]
    },
    {
     "name": "stdout",
     "output_type": "stream",
     "text": [
      "C:/Users/jseal/Dev/dissertation/Data/WikipediaHomographData/data/three_split_stratified_variant_data_corrected/train/\n",
      "C:/Users/jseal/Dev/dissertation/Data/WikipediaHomographData/data/three_split_stratified_variant_data_corrected/train\\pasty.tsv\n"
     ]
    },
    {
     "name": "stderr",
     "output_type": "stream",
     "text": [
      "\r",
      " 69%|███████████████████████████████████████████████████████▋                         | 88/128 [00:26<00:11,  3.46it/s]"
     ]
    },
    {
     "name": "stdout",
     "output_type": "stream",
     "text": [
      "C:/Users/jseal/Dev/dissertation/Data/WikipediaHomographData/data/three_split_stratified_variant_data_corrected/train/\n",
      "C:/Users/jseal/Dev/dissertation/Data/WikipediaHomographData/data/three_split_stratified_variant_data_corrected/train\\perfect.tsv\n"
     ]
    },
    {
     "name": "stderr",
     "output_type": "stream",
     "text": [
      "\r",
      " 70%|████████████████████████████████████████████████████████▎                        | 89/128 [00:26<00:11,  3.46it/s]"
     ]
    },
    {
     "name": "stdout",
     "output_type": "stream",
     "text": [
      "C:/Users/jseal/Dev/dissertation/Data/WikipediaHomographData/data/three_split_stratified_variant_data_corrected/train/\n",
      "C:/Users/jseal/Dev/dissertation/Data/WikipediaHomographData/data/three_split_stratified_variant_data_corrected/train\\perfume.tsv\n"
     ]
    },
    {
     "name": "stderr",
     "output_type": "stream",
     "text": [
      "\r",
      " 70%|████████████████████████████████████████████████████████▉                        | 90/128 [00:26<00:11,  3.39it/s]"
     ]
    },
    {
     "name": "stdout",
     "output_type": "stream",
     "text": [
      "C:/Users/jseal/Dev/dissertation/Data/WikipediaHomographData/data/three_split_stratified_variant_data_corrected/train/\n",
      "C:/Users/jseal/Dev/dissertation/Data/WikipediaHomographData/data/three_split_stratified_variant_data_corrected/train\\permit.tsv\n"
     ]
    },
    {
     "name": "stderr",
     "output_type": "stream",
     "text": [
      "\r",
      " 71%|█████████████████████████████████████████████████████████▌                       | 91/128 [00:27<00:11,  3.35it/s]"
     ]
    },
    {
     "name": "stdout",
     "output_type": "stream",
     "text": [
      "C:/Users/jseal/Dev/dissertation/Data/WikipediaHomographData/data/three_split_stratified_variant_data_corrected/train/\n",
      "C:/Users/jseal/Dev/dissertation/Data/WikipediaHomographData/data/three_split_stratified_variant_data_corrected/train\\pervert.tsv\n"
     ]
    },
    {
     "name": "stderr",
     "output_type": "stream",
     "text": [
      "\r",
      " 72%|██████████████████████████████████████████████████████████▏                      | 92/128 [00:27<00:10,  3.31it/s]"
     ]
    },
    {
     "name": "stdout",
     "output_type": "stream",
     "text": [
      "C:/Users/jseal/Dev/dissertation/Data/WikipediaHomographData/data/three_split_stratified_variant_data_corrected/train/\n",
      "C:/Users/jseal/Dev/dissertation/Data/WikipediaHomographData/data/three_split_stratified_variant_data_corrected/train\\polish.tsv\n"
     ]
    },
    {
     "name": "stderr",
     "output_type": "stream",
     "text": [
      "\r",
      " 73%|██████████████████████████████████████████████████████████▊                      | 93/128 [00:27<00:10,  3.33it/s]"
     ]
    },
    {
     "name": "stdout",
     "output_type": "stream",
     "text": [
      "C:/Users/jseal/Dev/dissertation/Data/WikipediaHomographData/data/three_split_stratified_variant_data_corrected/train/\n",
      "C:/Users/jseal/Dev/dissertation/Data/WikipediaHomographData/data/three_split_stratified_variant_data_corrected/train\\postulate.tsv\n"
     ]
    },
    {
     "name": "stderr",
     "output_type": "stream",
     "text": [
      "\r",
      " 73%|███████████████████████████████████████████████████████████▍                     | 94/128 [00:28<00:10,  3.29it/s]"
     ]
    },
    {
     "name": "stdout",
     "output_type": "stream",
     "text": [
      "C:/Users/jseal/Dev/dissertation/Data/WikipediaHomographData/data/three_split_stratified_variant_data_corrected/train/\n",
      "C:/Users/jseal/Dev/dissertation/Data/WikipediaHomographData/data/three_split_stratified_variant_data_corrected/train\\precipitate.tsv\n"
     ]
    },
    {
     "name": "stderr",
     "output_type": "stream",
     "text": [
      "\r",
      " 74%|████████████████████████████████████████████████████████████                     | 95/128 [00:28<00:10,  3.28it/s]"
     ]
    },
    {
     "name": "stdout",
     "output_type": "stream",
     "text": [
      "C:/Users/jseal/Dev/dissertation/Data/WikipediaHomographData/data/three_split_stratified_variant_data_corrected/train/\n",
      "C:/Users/jseal/Dev/dissertation/Data/WikipediaHomographData/data/three_split_stratified_variant_data_corrected/train\\present.tsv\n"
     ]
    },
    {
     "name": "stderr",
     "output_type": "stream",
     "text": [
      "\r",
      " 75%|████████████████████████████████████████████████████████████▊                    | 96/128 [00:28<00:09,  3.34it/s]"
     ]
    },
    {
     "name": "stdout",
     "output_type": "stream",
     "text": [
      "C:/Users/jseal/Dev/dissertation/Data/WikipediaHomographData/data/three_split_stratified_variant_data_corrected/train/\n",
      "C:/Users/jseal/Dev/dissertation/Data/WikipediaHomographData/data/three_split_stratified_variant_data_corrected/train\\produce.tsv\n"
     ]
    },
    {
     "name": "stderr",
     "output_type": "stream",
     "text": [
      "\r",
      " 76%|█████████████████████████████████████████████████████████████▍                   | 97/128 [00:28<00:09,  3.35it/s]"
     ]
    },
    {
     "name": "stdout",
     "output_type": "stream",
     "text": [
      "C:/Users/jseal/Dev/dissertation/Data/WikipediaHomographData/data/three_split_stratified_variant_data_corrected/train/\n",
      "C:/Users/jseal/Dev/dissertation/Data/WikipediaHomographData/data/three_split_stratified_variant_data_corrected/train\\progress.tsv\n"
     ]
    },
    {
     "name": "stderr",
     "output_type": "stream",
     "text": [
      "\r",
      " 77%|██████████████████████████████████████████████████████████████                   | 98/128 [00:29<00:09,  3.25it/s]"
     ]
    },
    {
     "name": "stdout",
     "output_type": "stream",
     "text": [
      "C:/Users/jseal/Dev/dissertation/Data/WikipediaHomographData/data/three_split_stratified_variant_data_corrected/train/\n",
      "C:/Users/jseal/Dev/dissertation/Data/WikipediaHomographData/data/three_split_stratified_variant_data_corrected/train\\protest.tsv\n"
     ]
    },
    {
     "name": "stderr",
     "output_type": "stream",
     "text": [
      "\r",
      " 77%|██████████████████████████████████████████████████████████████▋                  | 99/128 [00:29<00:09,  3.21it/s]"
     ]
    },
    {
     "name": "stdout",
     "output_type": "stream",
     "text": [
      "C:/Users/jseal/Dev/dissertation/Data/WikipediaHomographData/data/three_split_stratified_variant_data_corrected/train/\n",
      "C:/Users/jseal/Dev/dissertation/Data/WikipediaHomographData/data/three_split_stratified_variant_data_corrected/train\\read.tsv\n"
     ]
    },
    {
     "name": "stderr",
     "output_type": "stream",
     "text": [
      "\r",
      " 78%|██████████████████████████████████████████████████████████████▌                 | 100/128 [00:29<00:09,  3.02it/s]"
     ]
    },
    {
     "name": "stdout",
     "output_type": "stream",
     "text": [
      "C:/Users/jseal/Dev/dissertation/Data/WikipediaHomographData/data/three_split_stratified_variant_data_corrected/train/\n",
      "C:/Users/jseal/Dev/dissertation/Data/WikipediaHomographData/data/three_split_stratified_variant_data_corrected/train\\reading.tsv\n"
     ]
    },
    {
     "name": "stderr",
     "output_type": "stream",
     "text": [
      "\r",
      " 79%|███████████████████████████████████████████████████████████████▏                | 101/128 [00:30<00:08,  3.18it/s]"
     ]
    },
    {
     "name": "stdout",
     "output_type": "stream",
     "text": [
      "C:/Users/jseal/Dev/dissertation/Data/WikipediaHomographData/data/three_split_stratified_variant_data_corrected/train/\n",
      "C:/Users/jseal/Dev/dissertation/Data/WikipediaHomographData/data/three_split_stratified_variant_data_corrected/train\\rebel.tsv\n"
     ]
    },
    {
     "name": "stderr",
     "output_type": "stream",
     "text": [
      "\r",
      " 80%|███████████████████████████████████████████████████████████████▊                | 102/128 [00:30<00:08,  3.20it/s]"
     ]
    },
    {
     "name": "stdout",
     "output_type": "stream",
     "text": [
      "C:/Users/jseal/Dev/dissertation/Data/WikipediaHomographData/data/three_split_stratified_variant_data_corrected/train/\n",
      "C:/Users/jseal/Dev/dissertation/Data/WikipediaHomographData/data/three_split_stratified_variant_data_corrected/train\\record.tsv\n"
     ]
    },
    {
     "name": "stderr",
     "output_type": "stream",
     "text": [
      "\r",
      " 80%|████████████████████████████████████████████████████████████████▍               | 103/128 [00:30<00:07,  3.26it/s]"
     ]
    },
    {
     "name": "stdout",
     "output_type": "stream",
     "text": [
      "C:/Users/jseal/Dev/dissertation/Data/WikipediaHomographData/data/three_split_stratified_variant_data_corrected/train/\n",
      "C:/Users/jseal/Dev/dissertation/Data/WikipediaHomographData/data/three_split_stratified_variant_data_corrected/train\\recount.tsv\n"
     ]
    },
    {
     "name": "stderr",
     "output_type": "stream",
     "text": [
      "\r",
      " 81%|█████████████████████████████████████████████████████████████████               | 104/128 [00:31<00:07,  3.23it/s]"
     ]
    },
    {
     "name": "stdout",
     "output_type": "stream",
     "text": [
      "C:/Users/jseal/Dev/dissertation/Data/WikipediaHomographData/data/three_split_stratified_variant_data_corrected/train/\n",
      "C:/Users/jseal/Dev/dissertation/Data/WikipediaHomographData/data/three_split_stratified_variant_data_corrected/train\\refund.tsv\n"
     ]
    },
    {
     "name": "stderr",
     "output_type": "stream",
     "text": [
      "\r",
      " 82%|█████████████████████████████████████████████████████████████████▋              | 105/128 [00:31<00:07,  3.22it/s]"
     ]
    },
    {
     "name": "stdout",
     "output_type": "stream",
     "text": [
      "C:/Users/jseal/Dev/dissertation/Data/WikipediaHomographData/data/three_split_stratified_variant_data_corrected/train/\n",
      "C:/Users/jseal/Dev/dissertation/Data/WikipediaHomographData/data/three_split_stratified_variant_data_corrected/train\\refuse.tsv\n"
     ]
    },
    {
     "name": "stderr",
     "output_type": "stream",
     "text": [
      "\r",
      " 83%|██████████████████████████████████████████████████████████████████▎             | 106/128 [00:31<00:06,  3.29it/s]"
     ]
    },
    {
     "name": "stdout",
     "output_type": "stream",
     "text": [
      "C:/Users/jseal/Dev/dissertation/Data/WikipediaHomographData/data/three_split_stratified_variant_data_corrected/train/\n",
      "C:/Users/jseal/Dev/dissertation/Data/WikipediaHomographData/data/three_split_stratified_variant_data_corrected/train\\reject.tsv\n"
     ]
    },
    {
     "name": "stderr",
     "output_type": "stream",
     "text": [
      "\r",
      " 84%|██████████████████████████████████████████████████████████████████▉             | 107/128 [00:32<00:06,  3.32it/s]"
     ]
    },
    {
     "name": "stdout",
     "output_type": "stream",
     "text": [
      "C:/Users/jseal/Dev/dissertation/Data/WikipediaHomographData/data/three_split_stratified_variant_data_corrected/train/\n",
      "C:/Users/jseal/Dev/dissertation/Data/WikipediaHomographData/data/three_split_stratified_variant_data_corrected/train\\rerelease.tsv\n"
     ]
    },
    {
     "name": "stderr",
     "output_type": "stream",
     "text": [
      "\r",
      " 84%|███████████████████████████████████████████████████████████████████▌            | 108/128 [00:32<00:06,  3.31it/s]"
     ]
    },
    {
     "name": "stdout",
     "output_type": "stream",
     "text": [
      "C:/Users/jseal/Dev/dissertation/Data/WikipediaHomographData/data/three_split_stratified_variant_data_corrected/train/\n",
      "C:/Users/jseal/Dev/dissertation/Data/WikipediaHomographData/data/three_split_stratified_variant_data_corrected/train\\resume.tsv\n"
     ]
    },
    {
     "name": "stderr",
     "output_type": "stream",
     "text": [
      "\r",
      " 85%|████████████████████████████████████████████████████████████████████▏           | 109/128 [00:32<00:05,  3.36it/s]"
     ]
    },
    {
     "name": "stdout",
     "output_type": "stream",
     "text": [
      "C:/Users/jseal/Dev/dissertation/Data/WikipediaHomographData/data/three_split_stratified_variant_data_corrected/train/\n",
      "C:/Users/jseal/Dev/dissertation/Data/WikipediaHomographData/data/three_split_stratified_variant_data_corrected/train\\retard.tsv\n"
     ]
    },
    {
     "name": "stderr",
     "output_type": "stream",
     "text": [
      "\r",
      " 86%|████████████████████████████████████████████████████████████████████▊           | 110/128 [00:32<00:05,  3.43it/s]"
     ]
    },
    {
     "name": "stdout",
     "output_type": "stream",
     "text": [
      "C:/Users/jseal/Dev/dissertation/Data/WikipediaHomographData/data/three_split_stratified_variant_data_corrected/train/\n",
      "C:/Users/jseal/Dev/dissertation/Data/WikipediaHomographData/data/three_split_stratified_variant_data_corrected/train\\rodeo.tsv\n"
     ]
    },
    {
     "name": "stderr",
     "output_type": "stream",
     "text": [
      "\r",
      " 87%|█████████████████████████████████████████████████████████████████████▍          | 111/128 [00:33<00:04,  3.41it/s]"
     ]
    },
    {
     "name": "stdout",
     "output_type": "stream",
     "text": [
      "C:/Users/jseal/Dev/dissertation/Data/WikipediaHomographData/data/three_split_stratified_variant_data_corrected/train/\n",
      "C:/Users/jseal/Dev/dissertation/Data/WikipediaHomographData/data/three_split_stratified_variant_data_corrected/train\\sake.tsv\n"
     ]
    },
    {
     "name": "stderr",
     "output_type": "stream",
     "text": [
      "\r",
      " 88%|██████████████████████████████████████████████████████████████████████          | 112/128 [00:33<00:04,  3.40it/s]"
     ]
    },
    {
     "name": "stdout",
     "output_type": "stream",
     "text": [
      "C:/Users/jseal/Dev/dissertation/Data/WikipediaHomographData/data/three_split_stratified_variant_data_corrected/train/\n",
      "C:/Users/jseal/Dev/dissertation/Data/WikipediaHomographData/data/three_split_stratified_variant_data_corrected/train\\separate.tsv\n"
     ]
    },
    {
     "name": "stderr",
     "output_type": "stream",
     "text": [
      "\r",
      " 88%|██████████████████████████████████████████████████████████████████████▋         | 113/128 [00:33<00:04,  3.47it/s]"
     ]
    },
    {
     "name": "stdout",
     "output_type": "stream",
     "text": [
      "C:/Users/jseal/Dev/dissertation/Data/WikipediaHomographData/data/three_split_stratified_variant_data_corrected/train/\n",
      "C:/Users/jseal/Dev/dissertation/Data/WikipediaHomographData/data/three_split_stratified_variant_data_corrected/train\\sow.tsv\n"
     ]
    },
    {
     "name": "stderr",
     "output_type": "stream",
     "text": [
      "\r",
      " 89%|███████████████████████████████████████████████████████████████████████▎        | 114/128 [00:34<00:04,  3.43it/s]"
     ]
    },
    {
     "name": "stdout",
     "output_type": "stream",
     "text": [
      "C:/Users/jseal/Dev/dissertation/Data/WikipediaHomographData/data/three_split_stratified_variant_data_corrected/train/\n",
      "C:/Users/jseal/Dev/dissertation/Data/WikipediaHomographData/data/three_split_stratified_variant_data_corrected/train\\subordinate.tsv\n"
     ]
    },
    {
     "name": "stderr",
     "output_type": "stream",
     "text": [
      "\r",
      " 90%|███████████████████████████████████████████████████████████████████████▉        | 115/128 [00:34<00:03,  3.42it/s]"
     ]
    },
    {
     "name": "stdout",
     "output_type": "stream",
     "text": [
      "C:/Users/jseal/Dev/dissertation/Data/WikipediaHomographData/data/three_split_stratified_variant_data_corrected/train/\n",
      "C:/Users/jseal/Dev/dissertation/Data/WikipediaHomographData/data/three_split_stratified_variant_data_corrected/train\\supplement.tsv\n"
     ]
    },
    {
     "name": "stderr",
     "output_type": "stream",
     "text": [
      "\r",
      " 91%|████████████████████████████████████████████████████████████████████████▌       | 116/128 [00:34<00:03,  3.35it/s]"
     ]
    },
    {
     "name": "stdout",
     "output_type": "stream",
     "text": [
      "C:/Users/jseal/Dev/dissertation/Data/WikipediaHomographData/data/three_split_stratified_variant_data_corrected/train/\n",
      "C:/Users/jseal/Dev/dissertation/Data/WikipediaHomographData/data/three_split_stratified_variant_data_corrected/train\\suspect.tsv\n"
     ]
    },
    {
     "name": "stderr",
     "output_type": "stream",
     "text": [
      "\r",
      " 91%|█████████████████████████████████████████████████████████████████████████▏      | 117/128 [00:35<00:03,  3.29it/s]"
     ]
    },
    {
     "name": "stdout",
     "output_type": "stream",
     "text": [
      "C:/Users/jseal/Dev/dissertation/Data/WikipediaHomographData/data/three_split_stratified_variant_data_corrected/train/\n",
      "C:/Users/jseal/Dev/dissertation/Data/WikipediaHomographData/data/three_split_stratified_variant_data_corrected/train\\syndicate.tsv\n"
     ]
    },
    {
     "name": "stderr",
     "output_type": "stream",
     "text": [
      "\r",
      " 92%|█████████████████████████████████████████████████████████████████████████▊      | 118/128 [00:35<00:02,  3.34it/s]"
     ]
    },
    {
     "name": "stdout",
     "output_type": "stream",
     "text": [
      "C:/Users/jseal/Dev/dissertation/Data/WikipediaHomographData/data/three_split_stratified_variant_data_corrected/train/\n",
      "C:/Users/jseal/Dev/dissertation/Data/WikipediaHomographData/data/three_split_stratified_variant_data_corrected/train\\tear.tsv\n"
     ]
    },
    {
     "name": "stderr",
     "output_type": "stream",
     "text": [
      "\r",
      " 93%|██████████████████████████████████████████████████████████████████████████▍     | 119/128 [00:35<00:02,  3.32it/s]"
     ]
    },
    {
     "name": "stdout",
     "output_type": "stream",
     "text": [
      "C:/Users/jseal/Dev/dissertation/Data/WikipediaHomographData/data/three_split_stratified_variant_data_corrected/train/\n",
      "C:/Users/jseal/Dev/dissertation/Data/WikipediaHomographData/data/three_split_stratified_variant_data_corrected/train\\transform.tsv\n"
     ]
    },
    {
     "name": "stderr",
     "output_type": "stream",
     "text": [
      "\r",
      " 94%|███████████████████████████████████████████████████████████████████████████     | 120/128 [00:35<00:02,  3.34it/s]"
     ]
    },
    {
     "name": "stdout",
     "output_type": "stream",
     "text": [
      "C:/Users/jseal/Dev/dissertation/Data/WikipediaHomographData/data/three_split_stratified_variant_data_corrected/train/\n",
      "C:/Users/jseal/Dev/dissertation/Data/WikipediaHomographData/data/three_split_stratified_variant_data_corrected/train\\transplant.tsv\n"
     ]
    },
    {
     "name": "stderr",
     "output_type": "stream",
     "text": [
      "\r",
      " 95%|███████████████████████████████████████████████████████████████████████████▋    | 121/128 [00:36<00:02,  3.35it/s]"
     ]
    },
    {
     "name": "stdout",
     "output_type": "stream",
     "text": [
      "C:/Users/jseal/Dev/dissertation/Data/WikipediaHomographData/data/three_split_stratified_variant_data_corrected/train/\n",
      "C:/Users/jseal/Dev/dissertation/Data/WikipediaHomographData/data/three_split_stratified_variant_data_corrected/train\\transport.tsv\n"
     ]
    },
    {
     "name": "stderr",
     "output_type": "stream",
     "text": [
      "\r",
      " 95%|████████████████████████████████████████████████████████████████████████████▎   | 122/128 [00:36<00:01,  3.40it/s]"
     ]
    },
    {
     "name": "stdout",
     "output_type": "stream",
     "text": [
      "C:/Users/jseal/Dev/dissertation/Data/WikipediaHomographData/data/three_split_stratified_variant_data_corrected/train/\n",
      "C:/Users/jseal/Dev/dissertation/Data/WikipediaHomographData/data/three_split_stratified_variant_data_corrected/train\\upset.tsv\n"
     ]
    },
    {
     "name": "stderr",
     "output_type": "stream",
     "text": [
      "\r",
      " 96%|████████████████████████████████████████████████████████████████████████████▉   | 123/128 [00:36<00:01,  3.39it/s]"
     ]
    },
    {
     "name": "stdout",
     "output_type": "stream",
     "text": [
      "C:/Users/jseal/Dev/dissertation/Data/WikipediaHomographData/data/three_split_stratified_variant_data_corrected/train/\n",
      "C:/Users/jseal/Dev/dissertation/Data/WikipediaHomographData/data/three_split_stratified_variant_data_corrected/train\\use.tsv\n"
     ]
    },
    {
     "name": "stderr",
     "output_type": "stream",
     "text": [
      "\r",
      " 97%|█████████████████████████████████████████████████████████████████████████████▌  | 124/128 [00:37<00:01,  3.36it/s]"
     ]
    },
    {
     "name": "stdout",
     "output_type": "stream",
     "text": [
      "C:/Users/jseal/Dev/dissertation/Data/WikipediaHomographData/data/three_split_stratified_variant_data_corrected/train/\n",
      "C:/Users/jseal/Dev/dissertation/Data/WikipediaHomographData/data/three_split_stratified_variant_data_corrected/train\\uses.tsv\n"
     ]
    },
    {
     "name": "stderr",
     "output_type": "stream",
     "text": [
      "\r",
      " 98%|██████████████████████████████████████████████████████████████████████████████▏ | 125/128 [00:37<00:00,  3.32it/s]"
     ]
    },
    {
     "name": "stdout",
     "output_type": "stream",
     "text": [
      "C:/Users/jseal/Dev/dissertation/Data/WikipediaHomographData/data/three_split_stratified_variant_data_corrected/train/\n",
      "C:/Users/jseal/Dev/dissertation/Data/WikipediaHomographData/data/three_split_stratified_variant_data_corrected/train\\wind.tsv\n"
     ]
    },
    {
     "name": "stderr",
     "output_type": "stream",
     "text": [
      "\r",
      " 98%|██████████████████████████████████████████████████████████████████████████████▊ | 126/128 [00:37<00:00,  3.34it/s]"
     ]
    },
    {
     "name": "stdout",
     "output_type": "stream",
     "text": [
      "C:/Users/jseal/Dev/dissertation/Data/WikipediaHomographData/data/three_split_stratified_variant_data_corrected/train/\n",
      "C:/Users/jseal/Dev/dissertation/Data/WikipediaHomographData/data/three_split_stratified_variant_data_corrected/train\\winds.tsv\n"
     ]
    },
    {
     "name": "stderr",
     "output_type": "stream",
     "text": [
      "\r",
      " 99%|███████████████████████████████████████████████████████████████████████████████▍| 127/128 [00:37<00:00,  3.42it/s]"
     ]
    },
    {
     "name": "stdout",
     "output_type": "stream",
     "text": [
      "C:/Users/jseal/Dev/dissertation/Data/WikipediaHomographData/data/three_split_stratified_variant_data_corrected/train/\n",
      "C:/Users/jseal/Dev/dissertation/Data/WikipediaHomographData/data/three_split_stratified_variant_data_corrected/train\\wound.tsv\n"
     ]
    },
    {
     "name": "stderr",
     "output_type": "stream",
     "text": [
      "100%|████████████████████████████████████████████████████████████████████████████████| 128/128 [00:38<00:00,  3.34it/s]\n",
      "  2%|█▉                                                                                | 3/128 [00:00<00:05, 23.69it/s]"
     ]
    },
    {
     "name": "stdout",
     "output_type": "stream",
     "text": [
      "C:/Users/jseal/Dev/dissertation/Data/WikipediaHomographData/data/three_split_stratified_variant_data_corrected/dev/\n",
      "C:/Users/jseal/Dev/dissertation/Data/WikipediaHomographData/data/three_split_stratified_variant_data_corrected/dev\\abuse.tsv\n",
      "C:/Users/jseal/Dev/dissertation/Data/WikipediaHomographData/data/three_split_stratified_variant_data_corrected/dev/\n",
      "C:/Users/jseal/Dev/dissertation/Data/WikipediaHomographData/data/three_split_stratified_variant_data_corrected/dev\\abuses.tsv\n",
      "C:/Users/jseal/Dev/dissertation/Data/WikipediaHomographData/data/three_split_stratified_variant_data_corrected/dev/\n",
      "C:/Users/jseal/Dev/dissertation/Data/WikipediaHomographData/data/three_split_stratified_variant_data_corrected/dev\\advocate.tsv\n",
      "C:/Users/jseal/Dev/dissertation/Data/WikipediaHomographData/data/three_split_stratified_variant_data_corrected/dev/\n",
      "C:/Users/jseal/Dev/dissertation/Data/WikipediaHomographData/data/three_split_stratified_variant_data_corrected/dev\\affect.tsv\n",
      "C:/Users/jseal/Dev/dissertation/Data/WikipediaHomographData/data/three_split_stratified_variant_data_corrected/dev/\n",
      "C:/Users/jseal/Dev/dissertation/Data/WikipediaHomographData/data/three_split_stratified_variant_data_corrected/dev\\affiliate.tsv\n"
     ]
    },
    {
     "name": "stderr",
     "output_type": "stream",
     "text": [
      "  7%|█████▊                                                                            | 9/128 [00:00<00:05, 23.11it/s]"
     ]
    },
    {
     "name": "stdout",
     "output_type": "stream",
     "text": [
      "C:/Users/jseal/Dev/dissertation/Data/WikipediaHomographData/data/three_split_stratified_variant_data_corrected/dev/\n",
      "C:/Users/jseal/Dev/dissertation/Data/WikipediaHomographData/data/three_split_stratified_variant_data_corrected/dev\\aged.tsv\n",
      "C:/Users/jseal/Dev/dissertation/Data/WikipediaHomographData/data/three_split_stratified_variant_data_corrected/dev/\n",
      "C:/Users/jseal/Dev/dissertation/Data/WikipediaHomographData/data/three_split_stratified_variant_data_corrected/dev\\aggregate.tsv\n",
      "C:/Users/jseal/Dev/dissertation/Data/WikipediaHomographData/data/three_split_stratified_variant_data_corrected/dev/\n",
      "C:/Users/jseal/Dev/dissertation/Data/WikipediaHomographData/data/three_split_stratified_variant_data_corrected/dev\\alternate.tsv\n",
      "C:/Users/jseal/Dev/dissertation/Data/WikipediaHomographData/data/three_split_stratified_variant_data_corrected/dev/\n",
      "C:/Users/jseal/Dev/dissertation/Data/WikipediaHomographData/data/three_split_stratified_variant_data_corrected/dev\\analyses.tsv\n",
      "C:/Users/jseal/Dev/dissertation/Data/WikipediaHomographData/data/three_split_stratified_variant_data_corrected/dev/\n",
      "C:/Users/jseal/Dev/dissertation/Data/WikipediaHomographData/data/three_split_stratified_variant_data_corrected/dev\\animate.tsv\n"
     ]
    },
    {
     "name": "stderr",
     "output_type": "stream",
     "text": [
      " 12%|█████████▍                                                                       | 15/128 [00:00<00:04, 23.58it/s]"
     ]
    },
    {
     "name": "stdout",
     "output_type": "stream",
     "text": [
      "C:/Users/jseal/Dev/dissertation/Data/WikipediaHomographData/data/three_split_stratified_variant_data_corrected/dev/\n",
      "C:/Users/jseal/Dev/dissertation/Data/WikipediaHomographData/data/three_split_stratified_variant_data_corrected/dev\\approximate.tsv\n",
      "C:/Users/jseal/Dev/dissertation/Data/WikipediaHomographData/data/three_split_stratified_variant_data_corrected/dev/\n",
      "C:/Users/jseal/Dev/dissertation/Data/WikipediaHomographData/data/three_split_stratified_variant_data_corrected/dev\\articulate.tsv\n",
      "C:/Users/jseal/Dev/dissertation/Data/WikipediaHomographData/data/three_split_stratified_variant_data_corrected/dev/\n",
      "C:/Users/jseal/Dev/dissertation/Data/WikipediaHomographData/data/three_split_stratified_variant_data_corrected/dev\\associate.tsv\n",
      "C:/Users/jseal/Dev/dissertation/Data/WikipediaHomographData/data/three_split_stratified_variant_data_corrected/dev/\n",
      "C:/Users/jseal/Dev/dissertation/Data/WikipediaHomographData/data/three_split_stratified_variant_data_corrected/dev\\attribute.tsv\n",
      "C:/Users/jseal/Dev/dissertation/Data/WikipediaHomographData/data/three_split_stratified_variant_data_corrected/dev/\n",
      "C:/Users/jseal/Dev/dissertation/Data/WikipediaHomographData/data/three_split_stratified_variant_data_corrected/dev\\axes.tsv\n"
     ]
    },
    {
     "name": "stderr",
     "output_type": "stream",
     "text": [
      "\r",
      " 14%|███████████▍                                                                     | 18/128 [00:00<00:04, 23.95it/s]"
     ]
    },
    {
     "name": "stdout",
     "output_type": "stream",
     "text": [
      "C:/Users/jseal/Dev/dissertation/Data/WikipediaHomographData/data/three_split_stratified_variant_data_corrected/dev/\n",
      "C:/Users/jseal/Dev/dissertation/Data/WikipediaHomographData/data/three_split_stratified_variant_data_corrected/dev\\bass.tsv\n",
      "C:/Users/jseal/Dev/dissertation/Data/WikipediaHomographData/data/three_split_stratified_variant_data_corrected/dev/\n",
      "C:/Users/jseal/Dev/dissertation/Data/WikipediaHomographData/data/three_split_stratified_variant_data_corrected/dev\\blessed.tsv\n",
      "C:/Users/jseal/Dev/dissertation/Data/WikipediaHomographData/data/three_split_stratified_variant_data_corrected/dev/\n",
      "C:/Users/jseal/Dev/dissertation/Data/WikipediaHomographData/data/three_split_stratified_variant_data_corrected/dev\\bow.tsv\n",
      "C:/Users/jseal/Dev/dissertation/Data/WikipediaHomographData/data/three_split_stratified_variant_data_corrected/dev/\n",
      "C:/Users/jseal/Dev/dissertation/Data/WikipediaHomographData/data/three_split_stratified_variant_data_corrected/dev\\buffet.tsv\n",
      "C:/Users/jseal/Dev/dissertation/Data/WikipediaHomographData/data/three_split_stratified_variant_data_corrected/dev/\n",
      "C:/Users/jseal/Dev/dissertation/Data/WikipediaHomographData/data/three_split_stratified_variant_data_corrected/dev\\celtic.tsv\n"
     ]
    },
    {
     "name": "stderr",
     "output_type": "stream",
     "text": [
      " 19%|███████████████▏                                                                 | 24/128 [00:01<00:04, 23.64it/s]"
     ]
    },
    {
     "name": "stdout",
     "output_type": "stream",
     "text": [
      "C:/Users/jseal/Dev/dissertation/Data/WikipediaHomographData/data/three_split_stratified_variant_data_corrected/dev/\n",
      "C:/Users/jseal/Dev/dissertation/Data/WikipediaHomographData/data/three_split_stratified_variant_data_corrected/dev\\close.tsv\n",
      "C:/Users/jseal/Dev/dissertation/Data/WikipediaHomographData/data/three_split_stratified_variant_data_corrected/dev/\n",
      "C:/Users/jseal/Dev/dissertation/Data/WikipediaHomographData/data/three_split_stratified_variant_data_corrected/dev\\combine.tsv\n",
      "C:/Users/jseal/Dev/dissertation/Data/WikipediaHomographData/data/three_split_stratified_variant_data_corrected/dev/\n",
      "C:/Users/jseal/Dev/dissertation/Data/WikipediaHomographData/data/three_split_stratified_variant_data_corrected/dev\\compound.tsv\n",
      "C:/Users/jseal/Dev/dissertation/Data/WikipediaHomographData/data/three_split_stratified_variant_data_corrected/dev/\n",
      "C:/Users/jseal/Dev/dissertation/Data/WikipediaHomographData/data/three_split_stratified_variant_data_corrected/dev\\compress.tsv\n",
      "C:/Users/jseal/Dev/dissertation/Data/WikipediaHomographData/data/three_split_stratified_variant_data_corrected/dev/\n",
      "C:/Users/jseal/Dev/dissertation/Data/WikipediaHomographData/data/three_split_stratified_variant_data_corrected/dev\\conduct.tsv\n"
     ]
    },
    {
     "name": "stderr",
     "output_type": "stream",
     "text": [
      "\r",
      " 21%|█████████████████                                                                | 27/128 [00:01<00:04, 23.76it/s]"
     ]
    },
    {
     "name": "stdout",
     "output_type": "stream",
     "text": [
      "C:/Users/jseal/Dev/dissertation/Data/WikipediaHomographData/data/three_split_stratified_variant_data_corrected/dev/\n",
      "C:/Users/jseal/Dev/dissertation/Data/WikipediaHomographData/data/three_split_stratified_variant_data_corrected/dev\\confines.tsv\n",
      "C:/Users/jseal/Dev/dissertation/Data/WikipediaHomographData/data/three_split_stratified_variant_data_corrected/dev/\n",
      "C:/Users/jseal/Dev/dissertation/Data/WikipediaHomographData/data/three_split_stratified_variant_data_corrected/dev\\conflict.tsv\n",
      "C:/Users/jseal/Dev/dissertation/Data/WikipediaHomographData/data/three_split_stratified_variant_data_corrected/dev/\n",
      "C:/Users/jseal/Dev/dissertation/Data/WikipediaHomographData/data/three_split_stratified_variant_data_corrected/dev\\conjugate.tsv\n",
      "C:/Users/jseal/Dev/dissertation/Data/WikipediaHomographData/data/three_split_stratified_variant_data_corrected/dev/\n",
      "C:/Users/jseal/Dev/dissertation/Data/WikipediaHomographData/data/three_split_stratified_variant_data_corrected/dev\\conscript.tsv\n",
      "C:/Users/jseal/Dev/dissertation/Data/WikipediaHomographData/data/three_split_stratified_variant_data_corrected/dev/\n",
      "C:/Users/jseal/Dev/dissertation/Data/WikipediaHomographData/data/three_split_stratified_variant_data_corrected/dev\\construct.tsv\n"
     ]
    },
    {
     "name": "stderr",
     "output_type": "stream",
     "text": [
      " 26%|████████████████████▉                                                            | 33/128 [00:01<00:04, 23.03it/s]"
     ]
    },
    {
     "name": "stdout",
     "output_type": "stream",
     "text": [
      "C:/Users/jseal/Dev/dissertation/Data/WikipediaHomographData/data/three_split_stratified_variant_data_corrected/dev/\n",
      "C:/Users/jseal/Dev/dissertation/Data/WikipediaHomographData/data/three_split_stratified_variant_data_corrected/dev\\consummate.tsv\n",
      "C:/Users/jseal/Dev/dissertation/Data/WikipediaHomographData/data/three_split_stratified_variant_data_corrected/dev/\n",
      "C:/Users/jseal/Dev/dissertation/Data/WikipediaHomographData/data/three_split_stratified_variant_data_corrected/dev\\content.tsv\n",
      "C:/Users/jseal/Dev/dissertation/Data/WikipediaHomographData/data/three_split_stratified_variant_data_corrected/dev/\n",
      "C:/Users/jseal/Dev/dissertation/Data/WikipediaHomographData/data/three_split_stratified_variant_data_corrected/dev\\contest.tsv\n",
      "C:/Users/jseal/Dev/dissertation/Data/WikipediaHomographData/data/three_split_stratified_variant_data_corrected/dev/\n",
      "C:/Users/jseal/Dev/dissertation/Data/WikipediaHomographData/data/three_split_stratified_variant_data_corrected/dev\\converse.tsv\n",
      "C:/Users/jseal/Dev/dissertation/Data/WikipediaHomographData/data/three_split_stratified_variant_data_corrected/dev/\n"
     ]
    },
    {
     "name": "stderr",
     "output_type": "stream",
     "text": [
      "\r",
      " 28%|██████████████████████▊                                                          | 36/128 [00:01<00:04, 22.59it/s]"
     ]
    },
    {
     "name": "stdout",
     "output_type": "stream",
     "text": [
      "C:/Users/jseal/Dev/dissertation/Data/WikipediaHomographData/data/three_split_stratified_variant_data_corrected/dev\\convert.tsv\n",
      "C:/Users/jseal/Dev/dissertation/Data/WikipediaHomographData/data/three_split_stratified_variant_data_corrected/dev/\n",
      "C:/Users/jseal/Dev/dissertation/Data/WikipediaHomographData/data/three_split_stratified_variant_data_corrected/dev\\convict.tsv\n",
      "C:/Users/jseal/Dev/dissertation/Data/WikipediaHomographData/data/three_split_stratified_variant_data_corrected/dev/\n",
      "C:/Users/jseal/Dev/dissertation/Data/WikipediaHomographData/data/three_split_stratified_variant_data_corrected/dev\\coordinate.tsv\n",
      "C:/Users/jseal/Dev/dissertation/Data/WikipediaHomographData/data/three_split_stratified_variant_data_corrected/dev/\n",
      "C:/Users/jseal/Dev/dissertation/Data/WikipediaHomographData/data/three_split_stratified_variant_data_corrected/dev\\correlate.tsv\n",
      "C:/Users/jseal/Dev/dissertation/Data/WikipediaHomographData/data/three_split_stratified_variant_data_corrected/dev/\n",
      "C:/Users/jseal/Dev/dissertation/Data/WikipediaHomographData/data/three_split_stratified_variant_data_corrected/dev\\decrease.tsv\n"
     ]
    },
    {
     "name": "stderr",
     "output_type": "stream",
     "text": [
      " 33%|██████████████████████████▌                                                      | 42/128 [00:01<00:03, 22.32it/s]"
     ]
    },
    {
     "name": "stdout",
     "output_type": "stream",
     "text": [
      "C:/Users/jseal/Dev/dissertation/Data/WikipediaHomographData/data/three_split_stratified_variant_data_corrected/dev/\n",
      "C:/Users/jseal/Dev/dissertation/Data/WikipediaHomographData/data/three_split_stratified_variant_data_corrected/dev\\defect.tsv\n",
      "C:/Users/jseal/Dev/dissertation/Data/WikipediaHomographData/data/three_split_stratified_variant_data_corrected/dev/\n",
      "C:/Users/jseal/Dev/dissertation/Data/WikipediaHomographData/data/three_split_stratified_variant_data_corrected/dev\\degenerate.tsv\n",
      "C:/Users/jseal/Dev/dissertation/Data/WikipediaHomographData/data/three_split_stratified_variant_data_corrected/dev/\n",
      "C:/Users/jseal/Dev/dissertation/Data/WikipediaHomographData/data/three_split_stratified_variant_data_corrected/dev\\delegate.tsv\n",
      "C:/Users/jseal/Dev/dissertation/Data/WikipediaHomographData/data/three_split_stratified_variant_data_corrected/dev/\n",
      "C:/Users/jseal/Dev/dissertation/Data/WikipediaHomographData/data/three_split_stratified_variant_data_corrected/dev\\deliberate.tsv\n",
      "C:/Users/jseal/Dev/dissertation/Data/WikipediaHomographData/data/three_split_stratified_variant_data_corrected/dev/\n",
      "C:/Users/jseal/Dev/dissertation/Data/WikipediaHomographData/data/three_split_stratified_variant_data_corrected/dev\\diagnoses.tsv\n"
     ]
    },
    {
     "name": "stderr",
     "output_type": "stream",
     "text": [
      " 38%|██████████████████████████████▍                                                  | 48/128 [00:02<00:03, 22.29it/s]"
     ]
    },
    {
     "name": "stdout",
     "output_type": "stream",
     "text": [
      "C:/Users/jseal/Dev/dissertation/Data/WikipediaHomographData/data/three_split_stratified_variant_data_corrected/dev/\n",
      "C:/Users/jseal/Dev/dissertation/Data/WikipediaHomographData/data/three_split_stratified_variant_data_corrected/dev\\diffuse.tsv\n",
      "C:/Users/jseal/Dev/dissertation/Data/WikipediaHomographData/data/three_split_stratified_variant_data_corrected/dev/\n",
      "C:/Users/jseal/Dev/dissertation/Data/WikipediaHomographData/data/three_split_stratified_variant_data_corrected/dev\\discard.tsv\n",
      "C:/Users/jseal/Dev/dissertation/Data/WikipediaHomographData/data/three_split_stratified_variant_data_corrected/dev/\n",
      "C:/Users/jseal/Dev/dissertation/Data/WikipediaHomographData/data/three_split_stratified_variant_data_corrected/dev\\discharge.tsv\n",
      "C:/Users/jseal/Dev/dissertation/Data/WikipediaHomographData/data/three_split_stratified_variant_data_corrected/dev/\n",
      "C:/Users/jseal/Dev/dissertation/Data/WikipediaHomographData/data/three_split_stratified_variant_data_corrected/dev\\discount.tsv\n"
     ]
    },
    {
     "name": "stderr",
     "output_type": "stream",
     "text": [
      "\r",
      " 40%|████████████████████████████████▎                                                | 51/128 [00:02<00:03, 23.16it/s]"
     ]
    },
    {
     "name": "stdout",
     "output_type": "stream",
     "text": [
      "C:/Users/jseal/Dev/dissertation/Data/WikipediaHomographData/data/three_split_stratified_variant_data_corrected/dev/\n",
      "C:/Users/jseal/Dev/dissertation/Data/WikipediaHomographData/data/three_split_stratified_variant_data_corrected/dev\\document.tsv\n",
      "C:/Users/jseal/Dev/dissertation/Data/WikipediaHomographData/data/three_split_stratified_variant_data_corrected/dev/\n",
      "C:/Users/jseal/Dev/dissertation/Data/WikipediaHomographData/data/three_split_stratified_variant_data_corrected/dev\\dove.tsv\n",
      "C:/Users/jseal/Dev/dissertation/Data/WikipediaHomographData/data/three_split_stratified_variant_data_corrected/dev/\n",
      "C:/Users/jseal/Dev/dissertation/Data/WikipediaHomographData/data/three_split_stratified_variant_data_corrected/dev\\duplicate.tsv\n",
      "C:/Users/jseal/Dev/dissertation/Data/WikipediaHomographData/data/three_split_stratified_variant_data_corrected/dev/\n",
      "C:/Users/jseal/Dev/dissertation/Data/WikipediaHomographData/data/three_split_stratified_variant_data_corrected/dev\\escort.tsv\n",
      "C:/Users/jseal/Dev/dissertation/Data/WikipediaHomographData/data/three_split_stratified_variant_data_corrected/dev/\n",
      "C:/Users/jseal/Dev/dissertation/Data/WikipediaHomographData/data/three_split_stratified_variant_data_corrected/dev\\estimate.tsv\n",
      "C:/Users/jseal/Dev/dissertation/Data/WikipediaHomographData/data/three_split_stratified_variant_data_corrected/dev/\n",
      "C:/Users/jseal/Dev/dissertation/Data/WikipediaHomographData/data/three_split_stratified_variant_data_corrected/dev\\excuse.tsv\n"
     ]
    },
    {
     "name": "stderr",
     "output_type": "stream",
     "text": [
      " 45%|████████████████████████████████████                                             | 57/128 [00:02<00:03, 23.38it/s]"
     ]
    },
    {
     "name": "stdout",
     "output_type": "stream",
     "text": [
      "C:/Users/jseal/Dev/dissertation/Data/WikipediaHomographData/data/three_split_stratified_variant_data_corrected/dev/\n",
      "C:/Users/jseal/Dev/dissertation/Data/WikipediaHomographData/data/three_split_stratified_variant_data_corrected/dev\\exploit.tsv\n",
      "C:/Users/jseal/Dev/dissertation/Data/WikipediaHomographData/data/three_split_stratified_variant_data_corrected/dev/\n",
      "C:/Users/jseal/Dev/dissertation/Data/WikipediaHomographData/data/three_split_stratified_variant_data_corrected/dev\\export.tsv\n",
      "C:/Users/jseal/Dev/dissertation/Data/WikipediaHomographData/data/three_split_stratified_variant_data_corrected/dev/\n",
      "C:/Users/jseal/Dev/dissertation/Data/WikipediaHomographData/data/three_split_stratified_variant_data_corrected/dev\\expose.tsv\n",
      "C:/Users/jseal/Dev/dissertation/Data/WikipediaHomographData/data/three_split_stratified_variant_data_corrected/dev/\n",
      "C:/Users/jseal/Dev/dissertation/Data/WikipediaHomographData/data/three_split_stratified_variant_data_corrected/dev\\extract.tsv\n",
      "C:/Users/jseal/Dev/dissertation/Data/WikipediaHomographData/data/three_split_stratified_variant_data_corrected/dev/\n",
      "C:/Users/jseal/Dev/dissertation/Data/WikipediaHomographData/data/three_split_stratified_variant_data_corrected/dev\\fragment.tsv\n"
     ]
    },
    {
     "name": "stderr",
     "output_type": "stream",
     "text": [
      " 49%|███████████████████████████████████████▊                                         | 63/128 [00:02<00:02, 22.24it/s]"
     ]
    },
    {
     "name": "stdout",
     "output_type": "stream",
     "text": [
      "C:/Users/jseal/Dev/dissertation/Data/WikipediaHomographData/data/three_split_stratified_variant_data_corrected/dev/\n",
      "C:/Users/jseal/Dev/dissertation/Data/WikipediaHomographData/data/three_split_stratified_variant_data_corrected/dev\\frequent.tsv\n",
      "C:/Users/jseal/Dev/dissertation/Data/WikipediaHomographData/data/three_split_stratified_variant_data_corrected/dev/\n",
      "C:/Users/jseal/Dev/dissertation/Data/WikipediaHomographData/data/three_split_stratified_variant_data_corrected/dev\\graduate.tsv\n",
      "C:/Users/jseal/Dev/dissertation/Data/WikipediaHomographData/data/three_split_stratified_variant_data_corrected/dev/\n",
      "C:/Users/jseal/Dev/dissertation/Data/WikipediaHomographData/data/three_split_stratified_variant_data_corrected/dev\\impact.tsv\n",
      "C:/Users/jseal/Dev/dissertation/Data/WikipediaHomographData/data/three_split_stratified_variant_data_corrected/dev/\n",
      "C:/Users/jseal/Dev/dissertation/Data/WikipediaHomographData/data/three_split_stratified_variant_data_corrected/dev\\implant.tsv\n"
     ]
    },
    {
     "name": "stderr",
     "output_type": "stream",
     "text": [
      "\r",
      " 52%|█████████████████████████████████████████▊                                       | 66/128 [00:02<00:02, 22.30it/s]"
     ]
    },
    {
     "name": "stdout",
     "output_type": "stream",
     "text": [
      "C:/Users/jseal/Dev/dissertation/Data/WikipediaHomographData/data/three_split_stratified_variant_data_corrected/dev/\n",
      "C:/Users/jseal/Dev/dissertation/Data/WikipediaHomographData/data/three_split_stratified_variant_data_corrected/dev\\implement.tsv\n",
      "C:/Users/jseal/Dev/dissertation/Data/WikipediaHomographData/data/three_split_stratified_variant_data_corrected/dev/\n",
      "C:/Users/jseal/Dev/dissertation/Data/WikipediaHomographData/data/three_split_stratified_variant_data_corrected/dev\\import.tsv\n",
      "C:/Users/jseal/Dev/dissertation/Data/WikipediaHomographData/data/three_split_stratified_variant_data_corrected/dev/\n",
      "C:/Users/jseal/Dev/dissertation/Data/WikipediaHomographData/data/three_split_stratified_variant_data_corrected/dev\\incline.tsv\n",
      "C:/Users/jseal/Dev/dissertation/Data/WikipediaHomographData/data/three_split_stratified_variant_data_corrected/dev/\n",
      "C:/Users/jseal/Dev/dissertation/Data/WikipediaHomographData/data/three_split_stratified_variant_data_corrected/dev\\increase.tsv\n",
      "C:/Users/jseal/Dev/dissertation/Data/WikipediaHomographData/data/three_split_stratified_variant_data_corrected/dev/\n",
      "C:/Users/jseal/Dev/dissertation/Data/WikipediaHomographData/data/three_split_stratified_variant_data_corrected/dev\\increment.tsv\n"
     ]
    },
    {
     "name": "stderr",
     "output_type": "stream",
     "text": [
      " 56%|█████████████████████████████████████████████▌                                   | 72/128 [00:03<00:02, 23.09it/s]"
     ]
    },
    {
     "name": "stdout",
     "output_type": "stream",
     "text": [
      "C:/Users/jseal/Dev/dissertation/Data/WikipediaHomographData/data/three_split_stratified_variant_data_corrected/dev/\n",
      "C:/Users/jseal/Dev/dissertation/Data/WikipediaHomographData/data/three_split_stratified_variant_data_corrected/dev\\initiate.tsv\n",
      "C:/Users/jseal/Dev/dissertation/Data/WikipediaHomographData/data/three_split_stratified_variant_data_corrected/dev/\n",
      "C:/Users/jseal/Dev/dissertation/Data/WikipediaHomographData/data/three_split_stratified_variant_data_corrected/dev\\insert.tsv\n",
      "C:/Users/jseal/Dev/dissertation/Data/WikipediaHomographData/data/three_split_stratified_variant_data_corrected/dev/\n",
      "C:/Users/jseal/Dev/dissertation/Data/WikipediaHomographData/data/three_split_stratified_variant_data_corrected/dev\\insult.tsv\n",
      "C:/Users/jseal/Dev/dissertation/Data/WikipediaHomographData/data/three_split_stratified_variant_data_corrected/dev/\n",
      "C:/Users/jseal/Dev/dissertation/Data/WikipediaHomographData/data/three_split_stratified_variant_data_corrected/dev\\intrigue.tsv\n",
      "C:/Users/jseal/Dev/dissertation/Data/WikipediaHomographData/data/three_split_stratified_variant_data_corrected/dev/\n",
      "C:/Users/jseal/Dev/dissertation/Data/WikipediaHomographData/data/three_split_stratified_variant_data_corrected/dev\\invalid.tsv\n",
      "C:/Users/jseal/Dev/dissertation/Data/WikipediaHomographData/data/three_split_stratified_variant_data_corrected/dev/\n",
      "C:/Users/jseal/Dev/dissertation/Data/WikipediaHomographData/data/three_split_stratified_variant_data_corrected/dev\\invert.tsv\n"
     ]
    },
    {
     "name": "stderr",
     "output_type": "stream",
     "text": [
      " 61%|█████████████████████████████████████████████████▎                               | 78/128 [00:03<00:02, 22.88it/s]"
     ]
    },
    {
     "name": "stdout",
     "output_type": "stream",
     "text": [
      "C:/Users/jseal/Dev/dissertation/Data/WikipediaHomographData/data/three_split_stratified_variant_data_corrected/dev/\n",
      "C:/Users/jseal/Dev/dissertation/Data/WikipediaHomographData/data/three_split_stratified_variant_data_corrected/dev\\invite.tsv\n",
      "C:/Users/jseal/Dev/dissertation/Data/WikipediaHomographData/data/three_split_stratified_variant_data_corrected/dev/\n",
      "C:/Users/jseal/Dev/dissertation/Data/WikipediaHomographData/data/three_split_stratified_variant_data_corrected/dev\\isolate.tsv\n",
      "C:/Users/jseal/Dev/dissertation/Data/WikipediaHomographData/data/three_split_stratified_variant_data_corrected/dev/\n",
      "C:/Users/jseal/Dev/dissertation/Data/WikipediaHomographData/data/three_split_stratified_variant_data_corrected/dev\\laminate.tsv\n",
      "C:/Users/jseal/Dev/dissertation/Data/WikipediaHomographData/data/three_split_stratified_variant_data_corrected/dev/\n",
      "C:/Users/jseal/Dev/dissertation/Data/WikipediaHomographData/data/three_split_stratified_variant_data_corrected/dev\\lead.tsv\n",
      "C:/Users/jseal/Dev/dissertation/Data/WikipediaHomographData/data/three_split_stratified_variant_data_corrected/dev/\n",
      "C:/Users/jseal/Dev/dissertation/Data/WikipediaHomographData/data/three_split_stratified_variant_data_corrected/dev\\learned.tsv\n"
     ]
    },
    {
     "name": "stderr",
     "output_type": "stream",
     "text": [
      "\r",
      " 63%|███████████████████████████████████████████████████▎                             | 81/128 [00:03<00:02, 23.01it/s]"
     ]
    },
    {
     "name": "stdout",
     "output_type": "stream",
     "text": [
      "C:/Users/jseal/Dev/dissertation/Data/WikipediaHomographData/data/three_split_stratified_variant_data_corrected/dev/\n",
      "C:/Users/jseal/Dev/dissertation/Data/WikipediaHomographData/data/three_split_stratified_variant_data_corrected/dev\\live.tsv\n",
      "C:/Users/jseal/Dev/dissertation/Data/WikipediaHomographData/data/three_split_stratified_variant_data_corrected/dev/\n",
      "C:/Users/jseal/Dev/dissertation/Data/WikipediaHomographData/data/three_split_stratified_variant_data_corrected/dev\\lives.tsv\n",
      "C:/Users/jseal/Dev/dissertation/Data/WikipediaHomographData/data/three_split_stratified_variant_data_corrected/dev/\n",
      "C:/Users/jseal/Dev/dissertation/Data/WikipediaHomographData/data/three_split_stratified_variant_data_corrected/dev\\minute.tsv\n",
      "C:/Users/jseal/Dev/dissertation/Data/WikipediaHomographData/data/three_split_stratified_variant_data_corrected/dev/\n",
      "C:/Users/jseal/Dev/dissertation/Data/WikipediaHomographData/data/three_split_stratified_variant_data_corrected/dev\\misuse.tsv\n",
      "C:/Users/jseal/Dev/dissertation/Data/WikipediaHomographData/data/three_split_stratified_variant_data_corrected/dev/\n",
      "C:/Users/jseal/Dev/dissertation/Data/WikipediaHomographData/data/three_split_stratified_variant_data_corrected/dev\\mobile.tsv\n"
     ]
    },
    {
     "name": "stderr",
     "output_type": "stream",
     "text": [
      " 68%|███████████████████████████████████████████████████████                          | 87/128 [00:03<00:01, 23.13it/s]"
     ]
    },
    {
     "name": "stdout",
     "output_type": "stream",
     "text": [
      "C:/Users/jseal/Dev/dissertation/Data/WikipediaHomographData/data/three_split_stratified_variant_data_corrected/dev/\n",
      "C:/Users/jseal/Dev/dissertation/Data/WikipediaHomographData/data/three_split_stratified_variant_data_corrected/dev\\nestle.tsv\n",
      "C:/Users/jseal/Dev/dissertation/Data/WikipediaHomographData/data/three_split_stratified_variant_data_corrected/dev/\n",
      "C:/Users/jseal/Dev/dissertation/Data/WikipediaHomographData/data/three_split_stratified_variant_data_corrected/dev\\ornament.tsv\n",
      "C:/Users/jseal/Dev/dissertation/Data/WikipediaHomographData/data/three_split_stratified_variant_data_corrected/dev/\n",
      "C:/Users/jseal/Dev/dissertation/Data/WikipediaHomographData/data/three_split_stratified_variant_data_corrected/dev\\overthrow.tsv\n",
      "C:/Users/jseal/Dev/dissertation/Data/WikipediaHomographData/data/three_split_stratified_variant_data_corrected/dev/\n",
      "C:/Users/jseal/Dev/dissertation/Data/WikipediaHomographData/data/three_split_stratified_variant_data_corrected/dev\\pasty.tsv\n",
      "C:/Users/jseal/Dev/dissertation/Data/WikipediaHomographData/data/three_split_stratified_variant_data_corrected/dev/\n",
      "C:/Users/jseal/Dev/dissertation/Data/WikipediaHomographData/data/three_split_stratified_variant_data_corrected/dev\\perfect.tsv\n"
     ]
    },
    {
     "name": "stderr",
     "output_type": "stream",
     "text": [
      " 73%|██████████████████████████████████████████████████████████▊                      | 93/128 [00:04<00:01, 23.26it/s]"
     ]
    },
    {
     "name": "stdout",
     "output_type": "stream",
     "text": [
      "C:/Users/jseal/Dev/dissertation/Data/WikipediaHomographData/data/three_split_stratified_variant_data_corrected/dev/\n",
      "C:/Users/jseal/Dev/dissertation/Data/WikipediaHomographData/data/three_split_stratified_variant_data_corrected/dev\\perfume.tsv\n",
      "C:/Users/jseal/Dev/dissertation/Data/WikipediaHomographData/data/three_split_stratified_variant_data_corrected/dev/\n",
      "C:/Users/jseal/Dev/dissertation/Data/WikipediaHomographData/data/three_split_stratified_variant_data_corrected/dev\\permit.tsv\n",
      "C:/Users/jseal/Dev/dissertation/Data/WikipediaHomographData/data/three_split_stratified_variant_data_corrected/dev/\n",
      "C:/Users/jseal/Dev/dissertation/Data/WikipediaHomographData/data/three_split_stratified_variant_data_corrected/dev\\pervert.tsv\n",
      "C:/Users/jseal/Dev/dissertation/Data/WikipediaHomographData/data/three_split_stratified_variant_data_corrected/dev/\n",
      "C:/Users/jseal/Dev/dissertation/Data/WikipediaHomographData/data/three_split_stratified_variant_data_corrected/dev\\polish.tsv\n",
      "C:/Users/jseal/Dev/dissertation/Data/WikipediaHomographData/data/three_split_stratified_variant_data_corrected/dev/\n",
      "C:/Users/jseal/Dev/dissertation/Data/WikipediaHomographData/data/three_split_stratified_variant_data_corrected/dev\\postulate.tsv\n"
     ]
    },
    {
     "name": "stderr",
     "output_type": "stream",
     "text": [
      "\r",
      " 75%|████████████████████████████████████████████████████████████▊                    | 96/128 [00:04<00:01, 22.44it/s]"
     ]
    },
    {
     "name": "stdout",
     "output_type": "stream",
     "text": [
      "C:/Users/jseal/Dev/dissertation/Data/WikipediaHomographData/data/three_split_stratified_variant_data_corrected/dev/\n",
      "C:/Users/jseal/Dev/dissertation/Data/WikipediaHomographData/data/three_split_stratified_variant_data_corrected/dev\\precipitate.tsv\n",
      "C:/Users/jseal/Dev/dissertation/Data/WikipediaHomographData/data/three_split_stratified_variant_data_corrected/dev/\n",
      "C:/Users/jseal/Dev/dissertation/Data/WikipediaHomographData/data/three_split_stratified_variant_data_corrected/dev\\present.tsv\n",
      "C:/Users/jseal/Dev/dissertation/Data/WikipediaHomographData/data/three_split_stratified_variant_data_corrected/dev/\n",
      "C:/Users/jseal/Dev/dissertation/Data/WikipediaHomographData/data/three_split_stratified_variant_data_corrected/dev\\produce.tsv\n",
      "C:/Users/jseal/Dev/dissertation/Data/WikipediaHomographData/data/three_split_stratified_variant_data_corrected/dev/\n",
      "C:/Users/jseal/Dev/dissertation/Data/WikipediaHomographData/data/three_split_stratified_variant_data_corrected/dev\\progress.tsv\n",
      "C:/Users/jseal/Dev/dissertation/Data/WikipediaHomographData/data/three_split_stratified_variant_data_corrected/dev/\n",
      "C:/Users/jseal/Dev/dissertation/Data/WikipediaHomographData/data/three_split_stratified_variant_data_corrected/dev\\protest.tsv\n"
     ]
    },
    {
     "name": "stderr",
     "output_type": "stream",
     "text": [
      " 80%|███████████████████████████████████████████████████████████████▊                | 102/128 [00:04<00:01, 21.89it/s]"
     ]
    },
    {
     "name": "stdout",
     "output_type": "stream",
     "text": [
      "C:/Users/jseal/Dev/dissertation/Data/WikipediaHomographData/data/three_split_stratified_variant_data_corrected/dev/\n",
      "C:/Users/jseal/Dev/dissertation/Data/WikipediaHomographData/data/three_split_stratified_variant_data_corrected/dev\\read.tsv\n",
      "C:/Users/jseal/Dev/dissertation/Data/WikipediaHomographData/data/three_split_stratified_variant_data_corrected/dev/\n",
      "C:/Users/jseal/Dev/dissertation/Data/WikipediaHomographData/data/three_split_stratified_variant_data_corrected/dev\\reading.tsv\n",
      "C:/Users/jseal/Dev/dissertation/Data/WikipediaHomographData/data/three_split_stratified_variant_data_corrected/dev/\n",
      "C:/Users/jseal/Dev/dissertation/Data/WikipediaHomographData/data/three_split_stratified_variant_data_corrected/dev\\rebel.tsv\n",
      "C:/Users/jseal/Dev/dissertation/Data/WikipediaHomographData/data/three_split_stratified_variant_data_corrected/dev/\n",
      "C:/Users/jseal/Dev/dissertation/Data/WikipediaHomographData/data/three_split_stratified_variant_data_corrected/dev\\record.tsv\n",
      "C:/Users/jseal/Dev/dissertation/Data/WikipediaHomographData/data/three_split_stratified_variant_data_corrected/dev/\n",
      "C:/Users/jseal/Dev/dissertation/Data/WikipediaHomographData/data/three_split_stratified_variant_data_corrected/dev\\recount.tsv\n"
     ]
    },
    {
     "name": "stderr",
     "output_type": "stream",
     "text": [
      " 84%|███████████████████████████████████████████████████████████████████▌            | 108/128 [00:04<00:00, 23.00it/s]"
     ]
    },
    {
     "name": "stdout",
     "output_type": "stream",
     "text": [
      "C:/Users/jseal/Dev/dissertation/Data/WikipediaHomographData/data/three_split_stratified_variant_data_corrected/dev/\n",
      "C:/Users/jseal/Dev/dissertation/Data/WikipediaHomographData/data/three_split_stratified_variant_data_corrected/dev\\refund.tsv\n",
      "C:/Users/jseal/Dev/dissertation/Data/WikipediaHomographData/data/three_split_stratified_variant_data_corrected/dev/\n",
      "C:/Users/jseal/Dev/dissertation/Data/WikipediaHomographData/data/three_split_stratified_variant_data_corrected/dev\\refuse.tsv\n",
      "C:/Users/jseal/Dev/dissertation/Data/WikipediaHomographData/data/three_split_stratified_variant_data_corrected/dev/\n",
      "C:/Users/jseal/Dev/dissertation/Data/WikipediaHomographData/data/three_split_stratified_variant_data_corrected/dev\\reject.tsv\n",
      "C:/Users/jseal/Dev/dissertation/Data/WikipediaHomographData/data/three_split_stratified_variant_data_corrected/dev/\n",
      "C:/Users/jseal/Dev/dissertation/Data/WikipediaHomographData/data/three_split_stratified_variant_data_corrected/dev\\rerelease.tsv\n",
      "C:/Users/jseal/Dev/dissertation/Data/WikipediaHomographData/data/three_split_stratified_variant_data_corrected/dev/\n",
      "C:/Users/jseal/Dev/dissertation/Data/WikipediaHomographData/data/three_split_stratified_variant_data_corrected/dev\\resume.tsv\n"
     ]
    },
    {
     "name": "stderr",
     "output_type": "stream",
     "text": [
      "\r",
      " 87%|█████████████████████████████████████████████████████████████████████▍          | 111/128 [00:04<00:00, 22.99it/s]"
     ]
    },
    {
     "name": "stdout",
     "output_type": "stream",
     "text": [
      "C:/Users/jseal/Dev/dissertation/Data/WikipediaHomographData/data/three_split_stratified_variant_data_corrected/dev/\n",
      "C:/Users/jseal/Dev/dissertation/Data/WikipediaHomographData/data/three_split_stratified_variant_data_corrected/dev\\retard.tsv\n",
      "C:/Users/jseal/Dev/dissertation/Data/WikipediaHomographData/data/three_split_stratified_variant_data_corrected/dev/\n",
      "C:/Users/jseal/Dev/dissertation/Data/WikipediaHomographData/data/three_split_stratified_variant_data_corrected/dev\\rodeo.tsv\n",
      "C:/Users/jseal/Dev/dissertation/Data/WikipediaHomographData/data/three_split_stratified_variant_data_corrected/dev/\n",
      "C:/Users/jseal/Dev/dissertation/Data/WikipediaHomographData/data/three_split_stratified_variant_data_corrected/dev\\sake.tsv\n",
      "C:/Users/jseal/Dev/dissertation/Data/WikipediaHomographData/data/three_split_stratified_variant_data_corrected/dev/\n",
      "C:/Users/jseal/Dev/dissertation/Data/WikipediaHomographData/data/three_split_stratified_variant_data_corrected/dev\\separate.tsv\n",
      "C:/Users/jseal/Dev/dissertation/Data/WikipediaHomographData/data/three_split_stratified_variant_data_corrected/dev/\n",
      "C:/Users/jseal/Dev/dissertation/Data/WikipediaHomographData/data/three_split_stratified_variant_data_corrected/dev\\sow.tsv\n"
     ]
    },
    {
     "name": "stderr",
     "output_type": "stream",
     "text": [
      " 91%|█████████████████████████████████████████████████████████████████████████▏      | 117/128 [00:05<00:00, 22.83it/s]"
     ]
    },
    {
     "name": "stdout",
     "output_type": "stream",
     "text": [
      "C:/Users/jseal/Dev/dissertation/Data/WikipediaHomographData/data/three_split_stratified_variant_data_corrected/dev/\n",
      "C:/Users/jseal/Dev/dissertation/Data/WikipediaHomographData/data/three_split_stratified_variant_data_corrected/dev\\subordinate.tsv\n",
      "C:/Users/jseal/Dev/dissertation/Data/WikipediaHomographData/data/three_split_stratified_variant_data_corrected/dev/\n",
      "C:/Users/jseal/Dev/dissertation/Data/WikipediaHomographData/data/three_split_stratified_variant_data_corrected/dev\\supplement.tsv\n",
      "C:/Users/jseal/Dev/dissertation/Data/WikipediaHomographData/data/three_split_stratified_variant_data_corrected/dev/\n",
      "C:/Users/jseal/Dev/dissertation/Data/WikipediaHomographData/data/three_split_stratified_variant_data_corrected/dev\\suspect.tsv\n",
      "C:/Users/jseal/Dev/dissertation/Data/WikipediaHomographData/data/three_split_stratified_variant_data_corrected/dev/\n",
      "C:/Users/jseal/Dev/dissertation/Data/WikipediaHomographData/data/three_split_stratified_variant_data_corrected/dev\\syndicate.tsv\n",
      "C:/Users/jseal/Dev/dissertation/Data/WikipediaHomographData/data/three_split_stratified_variant_data_corrected/dev/\n",
      "C:/Users/jseal/Dev/dissertation/Data/WikipediaHomographData/data/three_split_stratified_variant_data_corrected/dev\\tear.tsv\n"
     ]
    },
    {
     "name": "stderr",
     "output_type": "stream",
     "text": [
      " 96%|████████████████████████████████████████████████████████████████████████████▉   | 123/128 [00:05<00:00, 22.00it/s]"
     ]
    },
    {
     "name": "stdout",
     "output_type": "stream",
     "text": [
      "C:/Users/jseal/Dev/dissertation/Data/WikipediaHomographData/data/three_split_stratified_variant_data_corrected/dev/\n",
      "C:/Users/jseal/Dev/dissertation/Data/WikipediaHomographData/data/three_split_stratified_variant_data_corrected/dev\\transform.tsv\n",
      "C:/Users/jseal/Dev/dissertation/Data/WikipediaHomographData/data/three_split_stratified_variant_data_corrected/dev/\n",
      "C:/Users/jseal/Dev/dissertation/Data/WikipediaHomographData/data/three_split_stratified_variant_data_corrected/dev\\transplant.tsv\n",
      "C:/Users/jseal/Dev/dissertation/Data/WikipediaHomographData/data/three_split_stratified_variant_data_corrected/dev/\n",
      "C:/Users/jseal/Dev/dissertation/Data/WikipediaHomographData/data/three_split_stratified_variant_data_corrected/dev\\transport.tsv\n",
      "C:/Users/jseal/Dev/dissertation/Data/WikipediaHomographData/data/three_split_stratified_variant_data_corrected/dev/\n",
      "C:/Users/jseal/Dev/dissertation/Data/WikipediaHomographData/data/three_split_stratified_variant_data_corrected/dev\\upset.tsv\n",
      "C:/Users/jseal/Dev/dissertation/Data/WikipediaHomographData/data/three_split_stratified_variant_data_corrected/dev/\n",
      "C:/Users/jseal/Dev/dissertation/Data/WikipediaHomographData/data/three_split_stratified_variant_data_corrected/dev\\use.tsv\n"
     ]
    },
    {
     "name": "stderr",
     "output_type": "stream",
     "text": [
      "100%|████████████████████████████████████████████████████████████████████████████████| 128/128 [00:05<00:00, 22.79it/s]\n",
      "  0%|                                                                                          | 0/128 [00:00<?, ?it/s]"
     ]
    },
    {
     "name": "stdout",
     "output_type": "stream",
     "text": [
      "C:/Users/jseal/Dev/dissertation/Data/WikipediaHomographData/data/three_split_stratified_variant_data_corrected/dev/\n",
      "C:/Users/jseal/Dev/dissertation/Data/WikipediaHomographData/data/three_split_stratified_variant_data_corrected/dev\\uses.tsv\n",
      "C:/Users/jseal/Dev/dissertation/Data/WikipediaHomographData/data/three_split_stratified_variant_data_corrected/dev/\n",
      "C:/Users/jseal/Dev/dissertation/Data/WikipediaHomographData/data/three_split_stratified_variant_data_corrected/dev\\wind.tsv\n",
      "C:/Users/jseal/Dev/dissertation/Data/WikipediaHomographData/data/three_split_stratified_variant_data_corrected/dev/\n",
      "C:/Users/jseal/Dev/dissertation/Data/WikipediaHomographData/data/three_split_stratified_variant_data_corrected/dev\\winds.tsv\n",
      "C:/Users/jseal/Dev/dissertation/Data/WikipediaHomographData/data/three_split_stratified_variant_data_corrected/dev/\n",
      "C:/Users/jseal/Dev/dissertation/Data/WikipediaHomographData/data/three_split_stratified_variant_data_corrected/dev\\wound.tsv\n",
      "C:/Users/jseal/Dev/dissertation/Data/WikipediaHomographData/data/three_split_stratified_variant_data_corrected/test/\n",
      "C:/Users/jseal/Dev/dissertation/Data/WikipediaHomographData/data/three_split_stratified_variant_data_corrected/test\\abuse.tsv\n"
     ]
    },
    {
     "name": "stderr",
     "output_type": "stream",
     "text": [
      "\r",
      "  2%|█▉                                                                                | 3/128 [00:00<00:05, 23.32it/s]"
     ]
    },
    {
     "name": "stdout",
     "output_type": "stream",
     "text": [
      "C:/Users/jseal/Dev/dissertation/Data/WikipediaHomographData/data/three_split_stratified_variant_data_corrected/test/\n",
      "C:/Users/jseal/Dev/dissertation/Data/WikipediaHomographData/data/three_split_stratified_variant_data_corrected/test\\abuses.tsv\n",
      "C:/Users/jseal/Dev/dissertation/Data/WikipediaHomographData/data/three_split_stratified_variant_data_corrected/test/\n",
      "C:/Users/jseal/Dev/dissertation/Data/WikipediaHomographData/data/three_split_stratified_variant_data_corrected/test\\advocate.tsv\n",
      "C:/Users/jseal/Dev/dissertation/Data/WikipediaHomographData/data/three_split_stratified_variant_data_corrected/test/\n",
      "C:/Users/jseal/Dev/dissertation/Data/WikipediaHomographData/data/three_split_stratified_variant_data_corrected/test\\affect.tsv\n",
      "C:/Users/jseal/Dev/dissertation/Data/WikipediaHomographData/data/three_split_stratified_variant_data_corrected/test/\n",
      "C:/Users/jseal/Dev/dissertation/Data/WikipediaHomographData/data/three_split_stratified_variant_data_corrected/test\\affiliate.tsv\n",
      "C:/Users/jseal/Dev/dissertation/Data/WikipediaHomographData/data/three_split_stratified_variant_data_corrected/test/\n",
      "C:/Users/jseal/Dev/dissertation/Data/WikipediaHomographData/data/three_split_stratified_variant_data_corrected/test\\aged.tsv\n"
     ]
    },
    {
     "name": "stderr",
     "output_type": "stream",
     "text": [
      "  7%|█████▊                                                                            | 9/128 [00:00<00:05, 23.61it/s]"
     ]
    },
    {
     "name": "stdout",
     "output_type": "stream",
     "text": [
      "C:/Users/jseal/Dev/dissertation/Data/WikipediaHomographData/data/three_split_stratified_variant_data_corrected/test/\n",
      "C:/Users/jseal/Dev/dissertation/Data/WikipediaHomographData/data/three_split_stratified_variant_data_corrected/test\\aggregate.tsv\n",
      "C:/Users/jseal/Dev/dissertation/Data/WikipediaHomographData/data/three_split_stratified_variant_data_corrected/test/\n",
      "C:/Users/jseal/Dev/dissertation/Data/WikipediaHomographData/data/three_split_stratified_variant_data_corrected/test\\alternate.tsv\n",
      "C:/Users/jseal/Dev/dissertation/Data/WikipediaHomographData/data/three_split_stratified_variant_data_corrected/test/\n",
      "C:/Users/jseal/Dev/dissertation/Data/WikipediaHomographData/data/three_split_stratified_variant_data_corrected/test\\analyses.tsv\n",
      "C:/Users/jseal/Dev/dissertation/Data/WikipediaHomographData/data/three_split_stratified_variant_data_corrected/test/\n",
      "C:/Users/jseal/Dev/dissertation/Data/WikipediaHomographData/data/three_split_stratified_variant_data_corrected/test\\animate.tsv\n",
      "C:/Users/jseal/Dev/dissertation/Data/WikipediaHomographData/data/three_split_stratified_variant_data_corrected/test/\n",
      "C:/Users/jseal/Dev/dissertation/Data/WikipediaHomographData/data/three_split_stratified_variant_data_corrected/test\\approximate.tsv\n",
      "C:/Users/jseal/Dev/dissertation/Data/WikipediaHomographData/data/three_split_stratified_variant_data_corrected/test/\n",
      "C:/Users/jseal/Dev/dissertation/Data/WikipediaHomographData/data/three_split_stratified_variant_data_corrected/test\\articulate.tsv\n"
     ]
    },
    {
     "name": "stderr",
     "output_type": "stream",
     "text": [
      " 12%|█████████▍                                                                       | 15/128 [00:00<00:04, 23.88it/s]"
     ]
    },
    {
     "name": "stdout",
     "output_type": "stream",
     "text": [
      "C:/Users/jseal/Dev/dissertation/Data/WikipediaHomographData/data/three_split_stratified_variant_data_corrected/test/\n",
      "C:/Users/jseal/Dev/dissertation/Data/WikipediaHomographData/data/three_split_stratified_variant_data_corrected/test\\associate.tsv\n",
      "C:/Users/jseal/Dev/dissertation/Data/WikipediaHomographData/data/three_split_stratified_variant_data_corrected/test/\n",
      "C:/Users/jseal/Dev/dissertation/Data/WikipediaHomographData/data/three_split_stratified_variant_data_corrected/test\\attribute.tsv\n",
      "C:/Users/jseal/Dev/dissertation/Data/WikipediaHomographData/data/three_split_stratified_variant_data_corrected/test/\n",
      "C:/Users/jseal/Dev/dissertation/Data/WikipediaHomographData/data/three_split_stratified_variant_data_corrected/test\\axes.tsv\n",
      "C:/Users/jseal/Dev/dissertation/Data/WikipediaHomographData/data/three_split_stratified_variant_data_corrected/test/\n",
      "C:/Users/jseal/Dev/dissertation/Data/WikipediaHomographData/data/three_split_stratified_variant_data_corrected/test\\bass.tsv\n",
      "C:/Users/jseal/Dev/dissertation/Data/WikipediaHomographData/data/three_split_stratified_variant_data_corrected/test/\n",
      "C:/Users/jseal/Dev/dissertation/Data/WikipediaHomographData/data/three_split_stratified_variant_data_corrected/test\\blessed.tsv\n",
      "C:/Users/jseal/Dev/dissertation/Data/WikipediaHomographData/data/three_split_stratified_variant_data_corrected/test/\n",
      "C:/Users/jseal/Dev/dissertation/Data/WikipediaHomographData/data/three_split_stratified_variant_data_corrected/test\\bow.tsv\n"
     ]
    },
    {
     "name": "stderr",
     "output_type": "stream",
     "text": [
      " 16%|█████████████▎                                                                   | 21/128 [00:00<00:04, 24.14it/s]"
     ]
    },
    {
     "name": "stdout",
     "output_type": "stream",
     "text": [
      "C:/Users/jseal/Dev/dissertation/Data/WikipediaHomographData/data/three_split_stratified_variant_data_corrected/test/\n",
      "C:/Users/jseal/Dev/dissertation/Data/WikipediaHomographData/data/three_split_stratified_variant_data_corrected/test\\buffet.tsv\n",
      "C:/Users/jseal/Dev/dissertation/Data/WikipediaHomographData/data/three_split_stratified_variant_data_corrected/test/\n",
      "C:/Users/jseal/Dev/dissertation/Data/WikipediaHomographData/data/three_split_stratified_variant_data_corrected/test\\celtic.tsv\n",
      "C:/Users/jseal/Dev/dissertation/Data/WikipediaHomographData/data/three_split_stratified_variant_data_corrected/test/\n",
      "C:/Users/jseal/Dev/dissertation/Data/WikipediaHomographData/data/three_split_stratified_variant_data_corrected/test\\close.tsv\n",
      "C:/Users/jseal/Dev/dissertation/Data/WikipediaHomographData/data/three_split_stratified_variant_data_corrected/test/\n",
      "C:/Users/jseal/Dev/dissertation/Data/WikipediaHomographData/data/three_split_stratified_variant_data_corrected/test\\combine.tsv\n",
      "C:/Users/jseal/Dev/dissertation/Data/WikipediaHomographData/data/three_split_stratified_variant_data_corrected/test/\n",
      "C:/Users/jseal/Dev/dissertation/Data/WikipediaHomographData/data/three_split_stratified_variant_data_corrected/test\\compound.tsv\n"
     ]
    },
    {
     "name": "stderr",
     "output_type": "stream",
     "text": [
      " 21%|█████████████████                                                                | 27/128 [00:01<00:04, 24.05it/s]"
     ]
    },
    {
     "name": "stdout",
     "output_type": "stream",
     "text": [
      "C:/Users/jseal/Dev/dissertation/Data/WikipediaHomographData/data/three_split_stratified_variant_data_corrected/test/\n",
      "C:/Users/jseal/Dev/dissertation/Data/WikipediaHomographData/data/three_split_stratified_variant_data_corrected/test\\compress.tsv\n",
      "C:/Users/jseal/Dev/dissertation/Data/WikipediaHomographData/data/three_split_stratified_variant_data_corrected/test/\n",
      "C:/Users/jseal/Dev/dissertation/Data/WikipediaHomographData/data/three_split_stratified_variant_data_corrected/test\\conduct.tsv\n",
      "C:/Users/jseal/Dev/dissertation/Data/WikipediaHomographData/data/three_split_stratified_variant_data_corrected/test/\n",
      "C:/Users/jseal/Dev/dissertation/Data/WikipediaHomographData/data/three_split_stratified_variant_data_corrected/test\\confines.tsv\n",
      "C:/Users/jseal/Dev/dissertation/Data/WikipediaHomographData/data/three_split_stratified_variant_data_corrected/test/\n",
      "C:/Users/jseal/Dev/dissertation/Data/WikipediaHomographData/data/three_split_stratified_variant_data_corrected/test\\conflict.tsv\n",
      "C:/Users/jseal/Dev/dissertation/Data/WikipediaHomographData/data/three_split_stratified_variant_data_corrected/test/\n",
      "C:/Users/jseal/Dev/dissertation/Data/WikipediaHomographData/data/three_split_stratified_variant_data_corrected/test\\conjugate.tsv\n"
     ]
    },
    {
     "name": "stderr",
     "output_type": "stream",
     "text": [
      "\r",
      " 23%|██████████████████▉                                                              | 30/128 [00:01<00:04, 22.44it/s]"
     ]
    },
    {
     "name": "stdout",
     "output_type": "stream",
     "text": [
      "C:/Users/jseal/Dev/dissertation/Data/WikipediaHomographData/data/three_split_stratified_variant_data_corrected/test/\n",
      "C:/Users/jseal/Dev/dissertation/Data/WikipediaHomographData/data/three_split_stratified_variant_data_corrected/test\\conscript.tsv\n",
      "C:/Users/jseal/Dev/dissertation/Data/WikipediaHomographData/data/three_split_stratified_variant_data_corrected/test/\n",
      "C:/Users/jseal/Dev/dissertation/Data/WikipediaHomographData/data/three_split_stratified_variant_data_corrected/test\\construct.tsv\n",
      "C:/Users/jseal/Dev/dissertation/Data/WikipediaHomographData/data/three_split_stratified_variant_data_corrected/test/\n",
      "C:/Users/jseal/Dev/dissertation/Data/WikipediaHomographData/data/three_split_stratified_variant_data_corrected/test\\consummate.tsv\n",
      "C:/Users/jseal/Dev/dissertation/Data/WikipediaHomographData/data/three_split_stratified_variant_data_corrected/test/\n",
      "C:/Users/jseal/Dev/dissertation/Data/WikipediaHomographData/data/three_split_stratified_variant_data_corrected/test\\content.tsv\n"
     ]
    },
    {
     "name": "stderr",
     "output_type": "stream",
     "text": [
      " 28%|██████████████████████▊                                                          | 36/128 [00:01<00:04, 21.97it/s]"
     ]
    },
    {
     "name": "stdout",
     "output_type": "stream",
     "text": [
      "C:/Users/jseal/Dev/dissertation/Data/WikipediaHomographData/data/three_split_stratified_variant_data_corrected/test/\n",
      "C:/Users/jseal/Dev/dissertation/Data/WikipediaHomographData/data/three_split_stratified_variant_data_corrected/test\\contest.tsv\n",
      "C:/Users/jseal/Dev/dissertation/Data/WikipediaHomographData/data/three_split_stratified_variant_data_corrected/test/\n",
      "C:/Users/jseal/Dev/dissertation/Data/WikipediaHomographData/data/three_split_stratified_variant_data_corrected/test\\converse.tsv\n",
      "C:/Users/jseal/Dev/dissertation/Data/WikipediaHomographData/data/three_split_stratified_variant_data_corrected/test/\n",
      "C:/Users/jseal/Dev/dissertation/Data/WikipediaHomographData/data/three_split_stratified_variant_data_corrected/test\\convert.tsv\n",
      "C:/Users/jseal/Dev/dissertation/Data/WikipediaHomographData/data/three_split_stratified_variant_data_corrected/test/\n",
      "C:/Users/jseal/Dev/dissertation/Data/WikipediaHomographData/data/three_split_stratified_variant_data_corrected/test\\convict.tsv\n",
      "C:/Users/jseal/Dev/dissertation/Data/WikipediaHomographData/data/three_split_stratified_variant_data_corrected/test/\n",
      "C:/Users/jseal/Dev/dissertation/Data/WikipediaHomographData/data/three_split_stratified_variant_data_corrected/test\\coordinate.tsv\n"
     ]
    },
    {
     "name": "stderr",
     "output_type": "stream",
     "text": [
      "\r",
      " 30%|████████████████████████▋                                                        | 39/128 [00:01<00:04, 21.97it/s]"
     ]
    },
    {
     "name": "stdout",
     "output_type": "stream",
     "text": [
      "C:/Users/jseal/Dev/dissertation/Data/WikipediaHomographData/data/three_split_stratified_variant_data_corrected/test/\n",
      "C:/Users/jseal/Dev/dissertation/Data/WikipediaHomographData/data/three_split_stratified_variant_data_corrected/test\\correlate.tsv\n",
      "C:/Users/jseal/Dev/dissertation/Data/WikipediaHomographData/data/three_split_stratified_variant_data_corrected/test/\n",
      "C:/Users/jseal/Dev/dissertation/Data/WikipediaHomographData/data/three_split_stratified_variant_data_corrected/test\\decrease.tsv\n",
      "C:/Users/jseal/Dev/dissertation/Data/WikipediaHomographData/data/three_split_stratified_variant_data_corrected/test/\n",
      "C:/Users/jseal/Dev/dissertation/Data/WikipediaHomographData/data/three_split_stratified_variant_data_corrected/test\\defect.tsv\n",
      "C:/Users/jseal/Dev/dissertation/Data/WikipediaHomographData/data/three_split_stratified_variant_data_corrected/test/\n",
      "C:/Users/jseal/Dev/dissertation/Data/WikipediaHomographData/data/three_split_stratified_variant_data_corrected/test\\degenerate.tsv\n",
      "C:/Users/jseal/Dev/dissertation/Data/WikipediaHomographData/data/three_split_stratified_variant_data_corrected/test/\n",
      "C:/Users/jseal/Dev/dissertation/Data/WikipediaHomographData/data/three_split_stratified_variant_data_corrected/test\\delegate.tsv\n"
     ]
    },
    {
     "name": "stderr",
     "output_type": "stream",
     "text": [
      " 35%|████████████████████████████▍                                                    | 45/128 [00:01<00:03, 22.48it/s]"
     ]
    },
    {
     "name": "stdout",
     "output_type": "stream",
     "text": [
      "C:/Users/jseal/Dev/dissertation/Data/WikipediaHomographData/data/three_split_stratified_variant_data_corrected/test/\n",
      "C:/Users/jseal/Dev/dissertation/Data/WikipediaHomographData/data/three_split_stratified_variant_data_corrected/test\\deliberate.tsv\n",
      "C:/Users/jseal/Dev/dissertation/Data/WikipediaHomographData/data/three_split_stratified_variant_data_corrected/test/\n",
      "C:/Users/jseal/Dev/dissertation/Data/WikipediaHomographData/data/three_split_stratified_variant_data_corrected/test\\diagnoses.tsv\n",
      "C:/Users/jseal/Dev/dissertation/Data/WikipediaHomographData/data/three_split_stratified_variant_data_corrected/test/\n",
      "C:/Users/jseal/Dev/dissertation/Data/WikipediaHomographData/data/three_split_stratified_variant_data_corrected/test\\diffuse.tsv\n",
      "C:/Users/jseal/Dev/dissertation/Data/WikipediaHomographData/data/three_split_stratified_variant_data_corrected/test/\n",
      "C:/Users/jseal/Dev/dissertation/Data/WikipediaHomographData/data/three_split_stratified_variant_data_corrected/test\\discard.tsv\n",
      "C:/Users/jseal/Dev/dissertation/Data/WikipediaHomographData/data/three_split_stratified_variant_data_corrected/test/\n",
      "C:/Users/jseal/Dev/dissertation/Data/WikipediaHomographData/data/three_split_stratified_variant_data_corrected/test\\discharge.tsv\n"
     ]
    },
    {
     "name": "stderr",
     "output_type": "stream",
     "text": [
      " 40%|████████████████████████████████▎                                                | 51/128 [00:02<00:03, 22.82it/s]"
     ]
    },
    {
     "name": "stdout",
     "output_type": "stream",
     "text": [
      "C:/Users/jseal/Dev/dissertation/Data/WikipediaHomographData/data/three_split_stratified_variant_data_corrected/test/\n",
      "C:/Users/jseal/Dev/dissertation/Data/WikipediaHomographData/data/three_split_stratified_variant_data_corrected/test\\discount.tsv\n",
      "C:/Users/jseal/Dev/dissertation/Data/WikipediaHomographData/data/three_split_stratified_variant_data_corrected/test/\n",
      "C:/Users/jseal/Dev/dissertation/Data/WikipediaHomographData/data/three_split_stratified_variant_data_corrected/test\\document.tsv\n",
      "C:/Users/jseal/Dev/dissertation/Data/WikipediaHomographData/data/three_split_stratified_variant_data_corrected/test/\n",
      "C:/Users/jseal/Dev/dissertation/Data/WikipediaHomographData/data/three_split_stratified_variant_data_corrected/test\\dove.tsv\n",
      "C:/Users/jseal/Dev/dissertation/Data/WikipediaHomographData/data/three_split_stratified_variant_data_corrected/test/\n",
      "C:/Users/jseal/Dev/dissertation/Data/WikipediaHomographData/data/three_split_stratified_variant_data_corrected/test\\duplicate.tsv\n",
      "C:/Users/jseal/Dev/dissertation/Data/WikipediaHomographData/data/three_split_stratified_variant_data_corrected/test/\n",
      "C:/Users/jseal/Dev/dissertation/Data/WikipediaHomographData/data/three_split_stratified_variant_data_corrected/test\\escort.tsv\n"
     ]
    },
    {
     "name": "stderr",
     "output_type": "stream",
     "text": [
      "\r",
      " 42%|██████████████████████████████████▏                                              | 54/128 [00:02<00:03, 21.96it/s]"
     ]
    },
    {
     "name": "stdout",
     "output_type": "stream",
     "text": [
      "C:/Users/jseal/Dev/dissertation/Data/WikipediaHomographData/data/three_split_stratified_variant_data_corrected/test/\n",
      "C:/Users/jseal/Dev/dissertation/Data/WikipediaHomographData/data/three_split_stratified_variant_data_corrected/test\\estimate.tsv\n",
      "C:/Users/jseal/Dev/dissertation/Data/WikipediaHomographData/data/three_split_stratified_variant_data_corrected/test/\n",
      "C:/Users/jseal/Dev/dissertation/Data/WikipediaHomographData/data/three_split_stratified_variant_data_corrected/test\\excuse.tsv\n",
      "C:/Users/jseal/Dev/dissertation/Data/WikipediaHomographData/data/three_split_stratified_variant_data_corrected/test/\n",
      "C:/Users/jseal/Dev/dissertation/Data/WikipediaHomographData/data/three_split_stratified_variant_data_corrected/test\\exploit.tsv\n",
      "C:/Users/jseal/Dev/dissertation/Data/WikipediaHomographData/data/three_split_stratified_variant_data_corrected/test/\n",
      "C:/Users/jseal/Dev/dissertation/Data/WikipediaHomographData/data/three_split_stratified_variant_data_corrected/test\\export.tsv\n",
      "C:/Users/jseal/Dev/dissertation/Data/WikipediaHomographData/data/three_split_stratified_variant_data_corrected/test/\n",
      "C:/Users/jseal/Dev/dissertation/Data/WikipediaHomographData/data/three_split_stratified_variant_data_corrected/test\\expose.tsv\n"
     ]
    },
    {
     "name": "stderr",
     "output_type": "stream",
     "text": [
      " 47%|█████████████████████████████████████▉                                           | 60/128 [00:02<00:03, 22.40it/s]"
     ]
    },
    {
     "name": "stdout",
     "output_type": "stream",
     "text": [
      "C:/Users/jseal/Dev/dissertation/Data/WikipediaHomographData/data/three_split_stratified_variant_data_corrected/test/\n",
      "C:/Users/jseal/Dev/dissertation/Data/WikipediaHomographData/data/three_split_stratified_variant_data_corrected/test\\extract.tsv\n",
      "C:/Users/jseal/Dev/dissertation/Data/WikipediaHomographData/data/three_split_stratified_variant_data_corrected/test/\n",
      "C:/Users/jseal/Dev/dissertation/Data/WikipediaHomographData/data/three_split_stratified_variant_data_corrected/test\\fragment.tsv\n",
      "C:/Users/jseal/Dev/dissertation/Data/WikipediaHomographData/data/three_split_stratified_variant_data_corrected/test/\n",
      "C:/Users/jseal/Dev/dissertation/Data/WikipediaHomographData/data/three_split_stratified_variant_data_corrected/test\\frequent.tsv\n",
      "C:/Users/jseal/Dev/dissertation/Data/WikipediaHomographData/data/three_split_stratified_variant_data_corrected/test/\n",
      "C:/Users/jseal/Dev/dissertation/Data/WikipediaHomographData/data/three_split_stratified_variant_data_corrected/test\\graduate.tsv\n"
     ]
    },
    {
     "name": "stderr",
     "output_type": "stream",
     "text": [
      "\r",
      " 49%|███████████████████████████████████████▊                                         | 63/128 [00:02<00:02, 22.46it/s]"
     ]
    },
    {
     "name": "stdout",
     "output_type": "stream",
     "text": [
      "C:/Users/jseal/Dev/dissertation/Data/WikipediaHomographData/data/three_split_stratified_variant_data_corrected/test/\n",
      "C:/Users/jseal/Dev/dissertation/Data/WikipediaHomographData/data/three_split_stratified_variant_data_corrected/test\\impact.tsv\n",
      "C:/Users/jseal/Dev/dissertation/Data/WikipediaHomographData/data/three_split_stratified_variant_data_corrected/test/\n",
      "C:/Users/jseal/Dev/dissertation/Data/WikipediaHomographData/data/three_split_stratified_variant_data_corrected/test\\implant.tsv\n",
      "C:/Users/jseal/Dev/dissertation/Data/WikipediaHomographData/data/three_split_stratified_variant_data_corrected/test/\n",
      "C:/Users/jseal/Dev/dissertation/Data/WikipediaHomographData/data/three_split_stratified_variant_data_corrected/test\\implement.tsv\n",
      "C:/Users/jseal/Dev/dissertation/Data/WikipediaHomographData/data/three_split_stratified_variant_data_corrected/test/\n",
      "C:/Users/jseal/Dev/dissertation/Data/WikipediaHomographData/data/three_split_stratified_variant_data_corrected/test\\import.tsv\n",
      "C:/Users/jseal/Dev/dissertation/Data/WikipediaHomographData/data/three_split_stratified_variant_data_corrected/test/\n",
      "C:/Users/jseal/Dev/dissertation/Data/WikipediaHomographData/data/three_split_stratified_variant_data_corrected/test\\incline.tsv\n"
     ]
    },
    {
     "name": "stderr",
     "output_type": "stream",
     "text": [
      " 54%|███████████████████████████████████████████▋                                     | 69/128 [00:03<00:02, 22.52it/s]"
     ]
    },
    {
     "name": "stdout",
     "output_type": "stream",
     "text": [
      "C:/Users/jseal/Dev/dissertation/Data/WikipediaHomographData/data/three_split_stratified_variant_data_corrected/test/\n",
      "C:/Users/jseal/Dev/dissertation/Data/WikipediaHomographData/data/three_split_stratified_variant_data_corrected/test\\increase.tsv\n",
      "C:/Users/jseal/Dev/dissertation/Data/WikipediaHomographData/data/three_split_stratified_variant_data_corrected/test/\n",
      "C:/Users/jseal/Dev/dissertation/Data/WikipediaHomographData/data/three_split_stratified_variant_data_corrected/test\\increment.tsv\n",
      "C:/Users/jseal/Dev/dissertation/Data/WikipediaHomographData/data/three_split_stratified_variant_data_corrected/test/\n",
      "C:/Users/jseal/Dev/dissertation/Data/WikipediaHomographData/data/three_split_stratified_variant_data_corrected/test\\initiate.tsv\n",
      "C:/Users/jseal/Dev/dissertation/Data/WikipediaHomographData/data/three_split_stratified_variant_data_corrected/test/\n",
      "C:/Users/jseal/Dev/dissertation/Data/WikipediaHomographData/data/three_split_stratified_variant_data_corrected/test\\insert.tsv\n",
      "C:/Users/jseal/Dev/dissertation/Data/WikipediaHomographData/data/three_split_stratified_variant_data_corrected/test/\n",
      "C:/Users/jseal/Dev/dissertation/Data/WikipediaHomographData/data/three_split_stratified_variant_data_corrected/test\\insult.tsv\n"
     ]
    },
    {
     "name": "stderr",
     "output_type": "stream",
     "text": [
      " 59%|███████████████████████████████████████████████▍                                 | 75/128 [00:03<00:02, 23.33it/s]"
     ]
    },
    {
     "name": "stdout",
     "output_type": "stream",
     "text": [
      "C:/Users/jseal/Dev/dissertation/Data/WikipediaHomographData/data/three_split_stratified_variant_data_corrected/test/\n",
      "C:/Users/jseal/Dev/dissertation/Data/WikipediaHomographData/data/three_split_stratified_variant_data_corrected/test\\intrigue.tsv\n",
      "C:/Users/jseal/Dev/dissertation/Data/WikipediaHomographData/data/three_split_stratified_variant_data_corrected/test/\n",
      "C:/Users/jseal/Dev/dissertation/Data/WikipediaHomographData/data/three_split_stratified_variant_data_corrected/test\\invalid.tsv\n",
      "C:/Users/jseal/Dev/dissertation/Data/WikipediaHomographData/data/three_split_stratified_variant_data_corrected/test/\n",
      "C:/Users/jseal/Dev/dissertation/Data/WikipediaHomographData/data/three_split_stratified_variant_data_corrected/test\\invert.tsv\n",
      "C:/Users/jseal/Dev/dissertation/Data/WikipediaHomographData/data/three_split_stratified_variant_data_corrected/test/\n",
      "C:/Users/jseal/Dev/dissertation/Data/WikipediaHomographData/data/three_split_stratified_variant_data_corrected/test\\invite.tsv\n",
      "C:/Users/jseal/Dev/dissertation/Data/WikipediaHomographData/data/three_split_stratified_variant_data_corrected/test/\n",
      "C:/Users/jseal/Dev/dissertation/Data/WikipediaHomographData/data/three_split_stratified_variant_data_corrected/test\\isolate.tsv\n"
     ]
    },
    {
     "name": "stderr",
     "output_type": "stream",
     "text": [
      "\r",
      " 61%|█████████████████████████████████████████████████▎                               | 78/128 [00:03<00:02, 22.90it/s]"
     ]
    },
    {
     "name": "stdout",
     "output_type": "stream",
     "text": [
      "C:/Users/jseal/Dev/dissertation/Data/WikipediaHomographData/data/three_split_stratified_variant_data_corrected/test/\n",
      "C:/Users/jseal/Dev/dissertation/Data/WikipediaHomographData/data/three_split_stratified_variant_data_corrected/test\\laminate.tsv\n",
      "C:/Users/jseal/Dev/dissertation/Data/WikipediaHomographData/data/three_split_stratified_variant_data_corrected/test/\n",
      "C:/Users/jseal/Dev/dissertation/Data/WikipediaHomographData/data/three_split_stratified_variant_data_corrected/test\\lead.tsv\n",
      "C:/Users/jseal/Dev/dissertation/Data/WikipediaHomographData/data/three_split_stratified_variant_data_corrected/test/\n",
      "C:/Users/jseal/Dev/dissertation/Data/WikipediaHomographData/data/three_split_stratified_variant_data_corrected/test\\learned.tsv\n",
      "C:/Users/jseal/Dev/dissertation/Data/WikipediaHomographData/data/three_split_stratified_variant_data_corrected/test/\n",
      "C:/Users/jseal/Dev/dissertation/Data/WikipediaHomographData/data/three_split_stratified_variant_data_corrected/test\\live.tsv\n",
      "C:/Users/jseal/Dev/dissertation/Data/WikipediaHomographData/data/three_split_stratified_variant_data_corrected/test/\n",
      "C:/Users/jseal/Dev/dissertation/Data/WikipediaHomographData/data/three_split_stratified_variant_data_corrected/test\\lives.tsv\n"
     ]
    },
    {
     "name": "stderr",
     "output_type": "stream",
     "text": [
      " 66%|█████████████████████████████████████████████████████▏                           | 84/128 [00:03<00:01, 23.79it/s]"
     ]
    },
    {
     "name": "stdout",
     "output_type": "stream",
     "text": [
      "C:/Users/jseal/Dev/dissertation/Data/WikipediaHomographData/data/three_split_stratified_variant_data_corrected/test/\n",
      "C:/Users/jseal/Dev/dissertation/Data/WikipediaHomographData/data/three_split_stratified_variant_data_corrected/test\\minute.tsv\n",
      "C:/Users/jseal/Dev/dissertation/Data/WikipediaHomographData/data/three_split_stratified_variant_data_corrected/test/\n",
      "C:/Users/jseal/Dev/dissertation/Data/WikipediaHomographData/data/three_split_stratified_variant_data_corrected/test\\misuse.tsv\n",
      "C:/Users/jseal/Dev/dissertation/Data/WikipediaHomographData/data/three_split_stratified_variant_data_corrected/test/\n",
      "C:/Users/jseal/Dev/dissertation/Data/WikipediaHomographData/data/three_split_stratified_variant_data_corrected/test\\mobile.tsv\n",
      "C:/Users/jseal/Dev/dissertation/Data/WikipediaHomographData/data/three_split_stratified_variant_data_corrected/test/\n",
      "C:/Users/jseal/Dev/dissertation/Data/WikipediaHomographData/data/three_split_stratified_variant_data_corrected/test\\nestle.tsv\n",
      "C:/Users/jseal/Dev/dissertation/Data/WikipediaHomographData/data/three_split_stratified_variant_data_corrected/test/\n",
      "C:/Users/jseal/Dev/dissertation/Data/WikipediaHomographData/data/three_split_stratified_variant_data_corrected/test\\ornament.tsv\n",
      "C:/Users/jseal/Dev/dissertation/Data/WikipediaHomographData/data/three_split_stratified_variant_data_corrected/test/\n",
      "C:/Users/jseal/Dev/dissertation/Data/WikipediaHomographData/data/three_split_stratified_variant_data_corrected/test\\overthrow.tsv\n"
     ]
    },
    {
     "name": "stderr",
     "output_type": "stream",
     "text": [
      " 70%|████████████████████████████████████████████████████████▉                        | 90/128 [00:03<00:01, 23.43it/s]"
     ]
    },
    {
     "name": "stdout",
     "output_type": "stream",
     "text": [
      "C:/Users/jseal/Dev/dissertation/Data/WikipediaHomographData/data/three_split_stratified_variant_data_corrected/test/\n",
      "C:/Users/jseal/Dev/dissertation/Data/WikipediaHomographData/data/three_split_stratified_variant_data_corrected/test\\pasty.tsv\n",
      "C:/Users/jseal/Dev/dissertation/Data/WikipediaHomographData/data/three_split_stratified_variant_data_corrected/test/\n",
      "C:/Users/jseal/Dev/dissertation/Data/WikipediaHomographData/data/three_split_stratified_variant_data_corrected/test\\perfect.tsv\n",
      "C:/Users/jseal/Dev/dissertation/Data/WikipediaHomographData/data/three_split_stratified_variant_data_corrected/test/\n",
      "C:/Users/jseal/Dev/dissertation/Data/WikipediaHomographData/data/three_split_stratified_variant_data_corrected/test\\perfume.tsv\n",
      "C:/Users/jseal/Dev/dissertation/Data/WikipediaHomographData/data/three_split_stratified_variant_data_corrected/test/\n",
      "C:/Users/jseal/Dev/dissertation/Data/WikipediaHomographData/data/three_split_stratified_variant_data_corrected/test\\permit.tsv\n",
      "C:/Users/jseal/Dev/dissertation/Data/WikipediaHomographData/data/three_split_stratified_variant_data_corrected/test/\n",
      "C:/Users/jseal/Dev/dissertation/Data/WikipediaHomographData/data/three_split_stratified_variant_data_corrected/test\\pervert.tsv\n"
     ]
    },
    {
     "name": "stderr",
     "output_type": "stream",
     "text": [
      " 75%|████████████████████████████████████████████████████████████▊                    | 96/128 [00:04<00:01, 22.92it/s]"
     ]
    },
    {
     "name": "stdout",
     "output_type": "stream",
     "text": [
      "C:/Users/jseal/Dev/dissertation/Data/WikipediaHomographData/data/three_split_stratified_variant_data_corrected/test/\n",
      "C:/Users/jseal/Dev/dissertation/Data/WikipediaHomographData/data/three_split_stratified_variant_data_corrected/test\\polish.tsv\n",
      "C:/Users/jseal/Dev/dissertation/Data/WikipediaHomographData/data/three_split_stratified_variant_data_corrected/test/\n",
      "C:/Users/jseal/Dev/dissertation/Data/WikipediaHomographData/data/three_split_stratified_variant_data_corrected/test\\postulate.tsv\n",
      "C:/Users/jseal/Dev/dissertation/Data/WikipediaHomographData/data/three_split_stratified_variant_data_corrected/test/\n",
      "C:/Users/jseal/Dev/dissertation/Data/WikipediaHomographData/data/three_split_stratified_variant_data_corrected/test\\precipitate.tsv\n",
      "C:/Users/jseal/Dev/dissertation/Data/WikipediaHomographData/data/three_split_stratified_variant_data_corrected/test/\n",
      "C:/Users/jseal/Dev/dissertation/Data/WikipediaHomographData/data/three_split_stratified_variant_data_corrected/test\\present.tsv\n",
      "C:/Users/jseal/Dev/dissertation/Data/WikipediaHomographData/data/three_split_stratified_variant_data_corrected/test/\n",
      "C:/Users/jseal/Dev/dissertation/Data/WikipediaHomographData/data/three_split_stratified_variant_data_corrected/test\\produce.tsv\n"
     ]
    },
    {
     "name": "stderr",
     "output_type": "stream",
     "text": [
      "\r",
      " 77%|██████████████████████████████████████████████████████████████▋                  | 99/128 [00:04<00:01, 23.09it/s]"
     ]
    },
    {
     "name": "stdout",
     "output_type": "stream",
     "text": [
      "C:/Users/jseal/Dev/dissertation/Data/WikipediaHomographData/data/three_split_stratified_variant_data_corrected/test/\n",
      "C:/Users/jseal/Dev/dissertation/Data/WikipediaHomographData/data/three_split_stratified_variant_data_corrected/test\\progress.tsv\n",
      "C:/Users/jseal/Dev/dissertation/Data/WikipediaHomographData/data/three_split_stratified_variant_data_corrected/test/\n",
      "C:/Users/jseal/Dev/dissertation/Data/WikipediaHomographData/data/three_split_stratified_variant_data_corrected/test\\protest.tsv\n",
      "C:/Users/jseal/Dev/dissertation/Data/WikipediaHomographData/data/three_split_stratified_variant_data_corrected/test/\n",
      "C:/Users/jseal/Dev/dissertation/Data/WikipediaHomographData/data/three_split_stratified_variant_data_corrected/test\\read.tsv\n",
      "C:/Users/jseal/Dev/dissertation/Data/WikipediaHomographData/data/three_split_stratified_variant_data_corrected/test/\n",
      "C:/Users/jseal/Dev/dissertation/Data/WikipediaHomographData/data/three_split_stratified_variant_data_corrected/test\\reading.tsv\n",
      "C:/Users/jseal/Dev/dissertation/Data/WikipediaHomographData/data/three_split_stratified_variant_data_corrected/test/\n",
      "C:/Users/jseal/Dev/dissertation/Data/WikipediaHomographData/data/three_split_stratified_variant_data_corrected/test\\rebel.tsv\n"
     ]
    },
    {
     "name": "stderr",
     "output_type": "stream",
     "text": [
      " 82%|█████████████████████████████████████████████████████████████████▋              | 105/128 [00:04<00:00, 23.35it/s]"
     ]
    },
    {
     "name": "stdout",
     "output_type": "stream",
     "text": [
      "C:/Users/jseal/Dev/dissertation/Data/WikipediaHomographData/data/three_split_stratified_variant_data_corrected/test/\n",
      "C:/Users/jseal/Dev/dissertation/Data/WikipediaHomographData/data/three_split_stratified_variant_data_corrected/test\\record.tsv\n",
      "C:/Users/jseal/Dev/dissertation/Data/WikipediaHomographData/data/three_split_stratified_variant_data_corrected/test/\n",
      "C:/Users/jseal/Dev/dissertation/Data/WikipediaHomographData/data/three_split_stratified_variant_data_corrected/test\\recount.tsv\n",
      "C:/Users/jseal/Dev/dissertation/Data/WikipediaHomographData/data/three_split_stratified_variant_data_corrected/test/\n",
      "C:/Users/jseal/Dev/dissertation/Data/WikipediaHomographData/data/three_split_stratified_variant_data_corrected/test\\refund.tsv\n",
      "C:/Users/jseal/Dev/dissertation/Data/WikipediaHomographData/data/three_split_stratified_variant_data_corrected/test/\n",
      "C:/Users/jseal/Dev/dissertation/Data/WikipediaHomographData/data/three_split_stratified_variant_data_corrected/test\\refuse.tsv\n",
      "C:/Users/jseal/Dev/dissertation/Data/WikipediaHomographData/data/three_split_stratified_variant_data_corrected/test/\n",
      "C:/Users/jseal/Dev/dissertation/Data/WikipediaHomographData/data/three_split_stratified_variant_data_corrected/test\\reject.tsv\n",
      "C:/Users/jseal/Dev/dissertation/Data/WikipediaHomographData/data/three_split_stratified_variant_data_corrected/test/\n",
      "C:/Users/jseal/Dev/dissertation/Data/WikipediaHomographData/data/three_split_stratified_variant_data_corrected/test\\rerelease.tsv\n"
     ]
    },
    {
     "name": "stderr",
     "output_type": "stream",
     "text": [
      " 87%|█████████████████████████████████████████████████████████████████████▍          | 111/128 [00:04<00:00, 23.88it/s]"
     ]
    },
    {
     "name": "stdout",
     "output_type": "stream",
     "text": [
      "C:/Users/jseal/Dev/dissertation/Data/WikipediaHomographData/data/three_split_stratified_variant_data_corrected/test/\n",
      "C:/Users/jseal/Dev/dissertation/Data/WikipediaHomographData/data/three_split_stratified_variant_data_corrected/test\\resume.tsv\n",
      "C:/Users/jseal/Dev/dissertation/Data/WikipediaHomographData/data/three_split_stratified_variant_data_corrected/test/\n",
      "C:/Users/jseal/Dev/dissertation/Data/WikipediaHomographData/data/three_split_stratified_variant_data_corrected/test\\retard.tsv\n",
      "C:/Users/jseal/Dev/dissertation/Data/WikipediaHomographData/data/three_split_stratified_variant_data_corrected/test/\n",
      "C:/Users/jseal/Dev/dissertation/Data/WikipediaHomographData/data/three_split_stratified_variant_data_corrected/test\\rodeo.tsv\n",
      "C:/Users/jseal/Dev/dissertation/Data/WikipediaHomographData/data/three_split_stratified_variant_data_corrected/test/\n",
      "C:/Users/jseal/Dev/dissertation/Data/WikipediaHomographData/data/three_split_stratified_variant_data_corrected/test\\sake.tsv\n",
      "C:/Users/jseal/Dev/dissertation/Data/WikipediaHomographData/data/three_split_stratified_variant_data_corrected/test/\n",
      "C:/Users/jseal/Dev/dissertation/Data/WikipediaHomographData/data/three_split_stratified_variant_data_corrected/test\\separate.tsv\n"
     ]
    },
    {
     "name": "stderr",
     "output_type": "stream",
     "text": [
      " 91%|█████████████████████████████████████████████████████████████████████████▏      | 117/128 [00:05<00:00, 23.19it/s]"
     ]
    },
    {
     "name": "stdout",
     "output_type": "stream",
     "text": [
      "C:/Users/jseal/Dev/dissertation/Data/WikipediaHomographData/data/three_split_stratified_variant_data_corrected/test/\n",
      "C:/Users/jseal/Dev/dissertation/Data/WikipediaHomographData/data/three_split_stratified_variant_data_corrected/test\\sow.tsv\n",
      "C:/Users/jseal/Dev/dissertation/Data/WikipediaHomographData/data/three_split_stratified_variant_data_corrected/test/\n",
      "C:/Users/jseal/Dev/dissertation/Data/WikipediaHomographData/data/three_split_stratified_variant_data_corrected/test\\subordinate.tsv\n",
      "C:/Users/jseal/Dev/dissertation/Data/WikipediaHomographData/data/three_split_stratified_variant_data_corrected/test/\n",
      "C:/Users/jseal/Dev/dissertation/Data/WikipediaHomographData/data/three_split_stratified_variant_data_corrected/test\\supplement.tsv\n",
      "C:/Users/jseal/Dev/dissertation/Data/WikipediaHomographData/data/three_split_stratified_variant_data_corrected/test/\n",
      "C:/Users/jseal/Dev/dissertation/Data/WikipediaHomographData/data/three_split_stratified_variant_data_corrected/test\\suspect.tsv\n",
      "C:/Users/jseal/Dev/dissertation/Data/WikipediaHomographData/data/three_split_stratified_variant_data_corrected/test/\n",
      "C:/Users/jseal/Dev/dissertation/Data/WikipediaHomographData/data/three_split_stratified_variant_data_corrected/test\\syndicate.tsv\n"
     ]
    },
    {
     "name": "stderr",
     "output_type": "stream",
     "text": [
      " 96%|████████████████████████████████████████████████████████████████████████████▉   | 123/128 [00:05<00:00, 23.70it/s]"
     ]
    },
    {
     "name": "stdout",
     "output_type": "stream",
     "text": [
      "C:/Users/jseal/Dev/dissertation/Data/WikipediaHomographData/data/three_split_stratified_variant_data_corrected/test/\n",
      "C:/Users/jseal/Dev/dissertation/Data/WikipediaHomographData/data/three_split_stratified_variant_data_corrected/test\\tear.tsv\n",
      "C:/Users/jseal/Dev/dissertation/Data/WikipediaHomographData/data/three_split_stratified_variant_data_corrected/test/\n",
      "C:/Users/jseal/Dev/dissertation/Data/WikipediaHomographData/data/three_split_stratified_variant_data_corrected/test\\transform.tsv\n",
      "C:/Users/jseal/Dev/dissertation/Data/WikipediaHomographData/data/three_split_stratified_variant_data_corrected/test/\n",
      "C:/Users/jseal/Dev/dissertation/Data/WikipediaHomographData/data/three_split_stratified_variant_data_corrected/test\\transplant.tsv\n",
      "C:/Users/jseal/Dev/dissertation/Data/WikipediaHomographData/data/three_split_stratified_variant_data_corrected/test/\n",
      "C:/Users/jseal/Dev/dissertation/Data/WikipediaHomographData/data/three_split_stratified_variant_data_corrected/test\\transport.tsv\n",
      "C:/Users/jseal/Dev/dissertation/Data/WikipediaHomographData/data/three_split_stratified_variant_data_corrected/test/\n",
      "C:/Users/jseal/Dev/dissertation/Data/WikipediaHomographData/data/three_split_stratified_variant_data_corrected/test\\upset.tsv\n"
     ]
    },
    {
     "name": "stderr",
     "output_type": "stream",
     "text": [
      "\r",
      " 98%|██████████████████████████████████████████████████████████████████████████████▊ | 126/128 [00:05<00:00, 23.53it/s]"
     ]
    },
    {
     "name": "stdout",
     "output_type": "stream",
     "text": [
      "C:/Users/jseal/Dev/dissertation/Data/WikipediaHomographData/data/three_split_stratified_variant_data_corrected/test/\n",
      "C:/Users/jseal/Dev/dissertation/Data/WikipediaHomographData/data/three_split_stratified_variant_data_corrected/test\\use.tsv\n",
      "C:/Users/jseal/Dev/dissertation/Data/WikipediaHomographData/data/three_split_stratified_variant_data_corrected/test/\n",
      "C:/Users/jseal/Dev/dissertation/Data/WikipediaHomographData/data/three_split_stratified_variant_data_corrected/test\\uses.tsv\n",
      "C:/Users/jseal/Dev/dissertation/Data/WikipediaHomographData/data/three_split_stratified_variant_data_corrected/test/\n",
      "C:/Users/jseal/Dev/dissertation/Data/WikipediaHomographData/data/three_split_stratified_variant_data_corrected/test\\wind.tsv\n",
      "C:/Users/jseal/Dev/dissertation/Data/WikipediaHomographData/data/three_split_stratified_variant_data_corrected/test/\n",
      "C:/Users/jseal/Dev/dissertation/Data/WikipediaHomographData/data/three_split_stratified_variant_data_corrected/test\\winds.tsv\n",
      "C:/Users/jseal/Dev/dissertation/Data/WikipediaHomographData/data/three_split_stratified_variant_data_corrected/test/\n",
      "C:/Users/jseal/Dev/dissertation/Data/WikipediaHomographData/data/three_split_stratified_variant_data_corrected/test\\wound.tsv\n"
     ]
    },
    {
     "name": "stderr",
     "output_type": "stream",
     "text": [
      "100%|████████████████████████████████████████████████████████████████████████████████| 128/128 [00:05<00:00, 23.06it/s]\n",
      "3it [00:08,  2.71s/it]\n"
     ]
    }
   ],
   "source": [
    "make_tsvs()\n",
    "make_tmps()\n",
    "make_txts()\n",
    "make_labels()"
   ]
  },
  {
   "cell_type": "code",
   "execution_count": null,
   "metadata": {},
   "outputs": [],
   "source": []
  },
  {
   "cell_type": "code",
   "execution_count": null,
   "metadata": {},
   "outputs": [],
   "source": []
  }
 ],
 "metadata": {
  "kernelspec": {
   "display_name": "dissertation_huggingface",
   "language": "python",
   "name": "dissertation_huggingface"
  },
  "language_info": {
   "codemirror_mode": {
    "name": "ipython",
    "version": 3
   },
   "file_extension": ".py",
   "mimetype": "text/x-python",
   "name": "python",
   "nbconvert_exporter": "python",
   "pygments_lexer": "ipython3",
   "version": "3.7.8"
  }
 },
 "nbformat": 4,
 "nbformat_minor": 4
}
